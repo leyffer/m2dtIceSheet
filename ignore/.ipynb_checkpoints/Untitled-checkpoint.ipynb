{
 "cells": [
  {
   "cell_type": "code",
   "execution_count": 1,
   "id": "361b68f6",
   "metadata": {},
   "outputs": [],
   "source": [
    "import numpy as np\n",
    "import matplotlib.pyplot as plt\n",
    "import scipy.linalg as la\n",
    "import scipy.sparse as sparse\n",
    "import scipy.sparse.linalg as sla"
   ]
  },
  {
   "cell_type": "code",
   "execution_count": 177,
   "id": "256a9bf0",
   "metadata": {},
   "outputs": [],
   "source": [
    "n_steps = 1000000 + 1\n",
    "grid_t = np.linspace(0, 1, n_steps)\n",
    "dt = grid_t[1]"
   ]
  },
  {
   "cell_type": "code",
   "execution_count": 178,
   "id": "9142877d",
   "metadata": {},
   "outputs": [],
   "source": [
    "# diffusion matrix\n",
    "A = sparse.diags([1, -1], offsets = [0, 1], shape=(n_steps,n_steps))\n",
    "A = sparse.csr_matrix(A + A.T)\n",
    "A[0, 0]  = 1\n",
    "A[-1, -1] = 1\n",
    "A /= dt\n",
    "\n",
    "matrix_diff = A"
   ]
  },
  {
   "cell_type": "code",
   "execution_count": 179,
   "id": "087064fb",
   "metadata": {},
   "outputs": [],
   "source": [
    "# mass matrix\n",
    "M = sparse.diags(np.array([2, 1])/6, offsets=[0, 1], shape=(n_steps,n_steps))\n",
    "M = sparse.csr_matrix(M + M.T)\n",
    "M[0, 0] /= 2\n",
    "M[-1,-1] /= 2\n",
    "M *= dt\n",
    "\n",
    "matrix_mass = M"
   ]
  },
  {
   "cell_type": "code",
   "execution_count": 180,
   "id": "24462283",
   "metadata": {},
   "outputs": [],
   "source": [
    "c_scaling = 1\n",
    "c_diffusion = 0.1\n",
    "\n",
    "K = c_scaling * (c_diffusion * matrix_diff + matrix_mass)"
   ]
  },
  {
   "cell_type": "code",
   "execution_count": 181,
   "id": "e8932c1b",
   "metadata": {},
   "outputs": [],
   "source": [
    "state = np.linspace(0, 1, n_steps)"
   ]
  },
  {
   "cell_type": "code",
   "execution_count": 182,
   "id": "6f7264ce",
   "metadata": {},
   "outputs": [
    {
     "data": {
      "text/plain": [
       "0.2708240731342992"
      ]
     },
     "execution_count": 182,
     "metadata": {},
     "output_type": "execute_result"
    }
   ],
   "source": [
    "yolo = sla.spsolve(K, matrix_mass @ state)\n",
    "yolo.T @ matrix_mass @ yolo"
   ]
  },
  {
   "cell_type": "code",
   "execution_count": 183,
   "id": "cbd9502f",
   "metadata": {},
   "outputs": [
    {
     "data": {
      "text/plain": [
       "5.20407602879031e-07"
      ]
     },
     "execution_count": 183,
     "metadata": {},
     "output_type": "execute_result"
    }
   ],
   "source": [
    "dt * np.sqrt(yolo.T @ matrix_mass @ yolo)"
   ]
  },
  {
   "cell_type": "code",
   "execution_count": null,
   "id": "7a41fd83",
   "metadata": {},
   "outputs": [],
   "source": []
  },
  {
   "cell_type": "code",
   "execution_count": 184,
   "id": "6d1857d5",
   "metadata": {},
   "outputs": [
    {
     "data": {
      "text/plain": [
       "69282.56562034169"
      ]
     },
     "execution_count": 184,
     "metadata": {},
     "output_type": "execute_result"
    }
   ],
   "source": [
    "yolo = K @ sla.spsolve(matrix_mass, K @ state)\n",
    "state @ yolo"
   ]
  },
  {
   "cell_type": "code",
   "execution_count": null,
   "id": "9920a6b1",
   "metadata": {},
   "outputs": [],
   "source": []
  },
  {
   "cell_type": "code",
   "execution_count": null,
   "id": "e9bb6b3b",
   "metadata": {},
   "outputs": [],
   "source": [
    "please stop here"
   ]
  },
  {
   "cell_type": "code",
   "execution_count": null,
   "id": "17871d0a",
   "metadata": {},
   "outputs": [],
   "source": []
  },
  {
   "cell_type": "code",
   "execution_count": 124,
   "id": "4062bb08",
   "metadata": {},
   "outputs": [
    {
     "data": {
      "text/plain": [
       "0.33333333333333337"
      ]
     },
     "execution_count": 124,
     "metadata": {},
     "output_type": "execute_result"
    }
   ],
   "source": [
    "state.T @ matrix_mass @ state"
   ]
  },
  {
   "cell_type": "code",
   "execution_count": 42,
   "id": "72633d54",
   "metadata": {},
   "outputs": [],
   "source": [
    "yolo2 = matrix_mass @ state\n",
    "yolo2 = sla.spsolve(K, yolo2)\n",
    "yolo2 = matrix_mass @ yolo2\n",
    "yolo2 = sla.spsolve(K, yolo2)"
   ]
  },
  {
   "cell_type": "code",
   "execution_count": 43,
   "id": "78429ff8",
   "metadata": {},
   "outputs": [
    {
     "data": {
      "text/plain": [
       "8.113895259840061e-05"
      ]
     },
     "execution_count": 43,
     "metadata": {},
     "output_type": "execute_result"
    }
   ],
   "source": [
    "state @ yolo2"
   ]
  },
  {
   "cell_type": "code",
   "execution_count": 44,
   "id": "9e617811",
   "metadata": {},
   "outputs": [
    {
     "data": {
      "text/plain": [
       "10000.0"
      ]
     },
     "execution_count": 44,
     "metadata": {},
     "output_type": "execute_result"
    }
   ],
   "source": [
    "state.T @ matrix_diff @ state"
   ]
  },
  {
   "cell_type": "code",
   "execution_count": 45,
   "id": "4d457690",
   "metadata": {},
   "outputs": [
    {
     "data": {
      "text/plain": [
       "1000.0000333333334"
      ]
     },
     "execution_count": 45,
     "metadata": {},
     "output_type": "execute_result"
    }
   ],
   "source": [
    "state.T @ K @ state"
   ]
  },
  {
   "cell_type": "code",
   "execution_count": null,
   "id": "0d3b0411",
   "metadata": {},
   "outputs": [],
   "source": [
    "please stop here"
   ]
  },
  {
   "cell_type": "code",
   "execution_count": 13,
   "id": "755d1eb5",
   "metadata": {},
   "outputs": [
    {
     "data": {
      "text/plain": [
       "array([[ 1., -1.,  0., ...,  0.,  0.,  0.],\n",
       "       [-1.,  2., -1., ...,  0.,  0.,  0.],\n",
       "       [ 0., -1.,  2., ...,  0.,  0.,  0.],\n",
       "       ...,\n",
       "       [ 0.,  0.,  0., ...,  2., -1.,  0.],\n",
       "       [ 0.,  0.,  0., ..., -1.,  2., -1.],\n",
       "       [ 0.,  0.,  0., ...,  0., -1.,  1.]])"
      ]
     },
     "execution_count": 13,
     "metadata": {},
     "output_type": "execute_result"
    }
   ],
   "source": [
    "matrix_diff.toarray() * dt"
   ]
  },
  {
   "cell_type": "code",
   "execution_count": 14,
   "id": "ee8d70eb",
   "metadata": {},
   "outputs": [
    {
     "data": {
      "text/plain": [
       "array([[0.33333333, 0.16666667, 0.        , ..., 0.        , 0.        ,\n",
       "        0.        ],\n",
       "       [0.16666667, 0.66666667, 0.16666667, ..., 0.        , 0.        ,\n",
       "        0.        ],\n",
       "       [0.        , 0.16666667, 0.66666667, ..., 0.        , 0.        ,\n",
       "        0.        ],\n",
       "       ...,\n",
       "       [0.        , 0.        , 0.        , ..., 0.66666667, 0.16666667,\n",
       "        0.        ],\n",
       "       [0.        , 0.        , 0.        , ..., 0.16666667, 0.66666667,\n",
       "        0.16666667],\n",
       "       [0.        , 0.        , 0.        , ..., 0.        , 0.16666667,\n",
       "        0.33333333]])"
      ]
     },
     "execution_count": 14,
     "metadata": {},
     "output_type": "execute_result"
    }
   ],
   "source": [
    "matrix_mass.toarray() / dt"
   ]
  },
  {
   "cell_type": "code",
   "execution_count": 15,
   "id": "7643f67e",
   "metadata": {},
   "outputs": [],
   "source": [
    "test = la.inv(K.toarray())\n",
    "test = test @ matrix_mass.toarray() @ test"
   ]
  },
  {
   "cell_type": "code",
   "execution_count": 16,
   "id": "268d16e7",
   "metadata": {},
   "outputs": [
    {
     "data": {
      "text/plain": [
       "array([[1.62283716, 1.62207811, 1.61986532, ..., 0.56022098, 0.55978373,\n",
       "        0.55963798],\n",
       "       [1.62207811, 1.62135124, 1.61918504, ..., 0.56036675, 0.55992948,\n",
       "        0.55978373],\n",
       "       [1.61986532, 1.61918504, 1.61714201, ..., 0.56080408, 0.56036675,\n",
       "        0.56022098],\n",
       "       ...,\n",
       "       [0.56022098, 0.56036675, 0.56080408, ..., 1.61714201, 1.61918504,\n",
       "        1.61986532],\n",
       "       [0.55978373, 0.55992948, 0.56036675, ..., 1.61918504, 1.62135124,\n",
       "        1.62207811],\n",
       "       [0.55963798, 0.55978373, 0.56022098, ..., 1.61986532, 1.62207811,\n",
       "        1.62283716]])"
      ]
     },
     "execution_count": 16,
     "metadata": {},
     "output_type": "execute_result"
    }
   ],
   "source": [
    "test"
   ]
  },
  {
   "cell_type": "code",
   "execution_count": null,
   "id": "f9283d48",
   "metadata": {},
   "outputs": [],
   "source": []
  }
 ],
 "metadata": {
  "kernelspec": {
   "display_name": "Python 3 (ipykernel)",
   "language": "python",
   "name": "python3"
  },
  "language_info": {
   "codemirror_mode": {
    "name": "ipython",
    "version": 3
   },
   "file_extension": ".py",
   "mimetype": "text/x-python",
   "name": "python",
   "nbconvert_exporter": "python",
   "pygments_lexer": "ipython3",
   "version": "3.10.0"
  }
 },
 "nbformat": 4,
 "nbformat_minor": 5
}
