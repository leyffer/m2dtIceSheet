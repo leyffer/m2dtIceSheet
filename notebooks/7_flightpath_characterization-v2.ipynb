{
 "cells": [
  {
   "cell_type": "markdown",
   "id": "daaaced1",
   "metadata": {},
   "source": [
    "# Flightpath characterization\n",
    "In this notebook we look at the characterization of the flight path. Up until now we've just flown in a circle, parameterized by radius and speed. That's pretty boring for the optimization, so let's look at something more interesting."
   ]
  },
  {
   "cell_type": "markdown",
   "id": "72966556",
   "metadata": {},
   "source": [
    "## Imports"
   ]
  },
  {
   "cell_type": "code",
   "execution_count": 1,
   "id": "be7ae23d",
   "metadata": {},
   "outputs": [],
   "source": [
    "import sys\n",
    "sys.path.insert(0, \"../source/\")\n",
    "sys.path.insert(0, \"../source/Noise/\")\n",
    "sys.path.insert(0, \"../models/AdvectionDiffusion/settings/AdvectionDiffusion_FEniCS\")\n",
    "sys.path.insert(0, \"../models/AdvectionDiffusion/Navigators\")\n",
    "sys.path.insert(0, \"../models/AdvectionDiffusion/Detectors\")\n",
    "\n",
    "import numpy as np\n",
    "import matplotlib.pyplot as plt\n",
    "import scipy.linalg as la\n",
    "\n",
    "from InverseProblem import InverseProblem\n",
    "from NoiseBayes import NoiseBayes\n",
    "\n",
    "from FOM_stationary import FOM_stationary as FOM\n",
    "from OEDUtility import OEDUtility\n",
    "from Drone import Drone as Drone\n",
    "\n",
    "from DetectorPointwise import DetectorPointwise\n",
    "from DetectorUniform import DetectorUniform\n",
    "from DetectorGaussian import DetectorGaussian\n",
    "from DetectorTruncGaussian import DetectorTruncGaussian\n",
    "\n",
    "import time\n",
    "tStart_notebook = time.time()"
   ]
  },
  {
   "cell_type": "markdown",
   "id": "73a6e252",
   "metadata": {},
   "source": [
    "## User settings"
   ]
  },
  {
   "cell_type": "code",
   "execution_count": 2,
   "id": "381d92ec",
   "metadata": {},
   "outputs": [],
   "source": [
    "centers = [[0.4, 0.6], [0.6, 0.4]]\n",
    "var_prior = 1 # set to a high value (1e+6) to test convergence in noise-free situations\n",
    "\n",
    "n_steps = 500\n",
    "\n",
    "sigma = 0.05  # std deviation for gaussian-type measurements. Get pointwise data for sigma -> 0\n",
    "radius = 0.05  # truncation radius for truncation-style measurements\n",
    "\n",
    "meshDim = 20  # discretization parameter (1D) for FOM\n",
    "meshDim_drone = 10  # discretization parameter (1D) for subdomain in truncation-type measurements\n",
    "polyDim = 3"
   ]
  },
  {
   "cell_type": "markdown",
   "id": "dde7f0eb",
   "metadata": {},
   "source": [
    "## Setup"
   ]
  },
  {
   "cell_type": "code",
   "execution_count": 3,
   "id": "338995b0",
   "metadata": {},
   "outputs": [
    {
     "name": "stdout",
     "output_type": "stream",
     "text": [
      "Runtime of this block: 6.311768054962158 s\n"
     ]
    }
   ],
   "source": [
    "tStart = time.time()\n",
    "\n",
    "# initialize full-order model\n",
    "fom = FOM(meshDim = meshDim, centers=centers, polyDim=polyDim)\n",
    "n_para = fom.n_para\n",
    "\n",
    "# set a prior\n",
    "prior_mean = np.zeros((n_para,))\n",
    "prior_covar = var_prior*np.eye(n_para)\n",
    "fom.set_prior(prior_mean=prior_mean, prior_covar=prior_covar)\n",
    "\n",
    "# compute one solution for nicer visualization below\n",
    "para_true = np.ones((n_para,))\n",
    "state = fom.solve(parameter=para_true)\n",
    "\n",
    "print(\"Runtime of this block: {} s\".format(time.time()-tStart))"
   ]
  },
  {
   "cell_type": "markdown",
   "id": "25d8d31a",
   "metadata": {},
   "source": [
    "So far, we've been using `NavigationCircle` as our `Navigation` class. We now want to use different ones though. Let's start with `NavigationFreePath` to understand what it is.\n",
    "\n",
    "Alright, so here is what I've learned:\n",
    "- `NavigationCircle` flies in a circle, characterized by speed and radius\n",
    "- `NavigationFreePath` just gets the path position as characterization variable `alpha`, it's basically a way to bypass the `Navigation` class. I don't know how I feel about that."
   ]
  },
  {
   "cell_type": "code",
   "execution_count": 4,
   "id": "7a79f684",
   "metadata": {},
   "outputs": [
    {
     "name": "stdout",
     "output_type": "stream",
     "text": [
      "Runtime of this block: 0.004971027374267578 s\n"
     ]
    }
   ],
   "source": [
    "tStart = time.time()\n",
    "\n",
    "# specify which navigation class we are using\n",
    "from NavigationSegment import NavigationSegment as Navigation\n",
    "\n",
    "# NavigationCircle was imported as Navigation\n",
    "navigation = Navigation(grid_t = np.linspace(0, 1, n_steps))\n",
    "\n",
    "print(\"Runtime of this block: {} s\".format(time.time()-tStart))"
   ]
  },
  {
   "cell_type": "markdown",
   "id": "6ad580fa",
   "metadata": {},
   "source": [
    "The rest of the setup works just as before. We're using the Bayesian noise model."
   ]
  },
  {
   "cell_type": "code",
   "execution_count": 5,
   "id": "a2d3254d",
   "metadata": {},
   "outputs": [
    {
     "name": "stdout",
     "output_type": "stream",
     "text": [
      "Runtime of this block: 0.006709098815917969 s\n"
     ]
    }
   ],
   "source": [
    "tStart = time.time()\n",
    "\n",
    "# point-wise measurements\n",
    "detector = DetectorPointwise(fom)\n",
    "\n",
    "# initialize drone\n",
    "drone = Drone(detector=detector, navigation=navigation)\n",
    "\n",
    "# set noise model\n",
    "noise = NoiseBayes(grid_t = drone.grid_t)\n",
    "noise.parameterize_noise_model(c_scaling = 1e+3, c_diffusion = 1)\n",
    "inversion = InverseProblem(fom, drone, noise=noise)\n",
    "\n",
    "print(\"Runtime of this block: {} s\".format(time.time()-tStart))"
   ]
  },
  {
   "cell_type": "markdown",
   "id": "66638708",
   "metadata": {},
   "source": [
    "## Path characterization"
   ]
  },
  {
   "cell_type": "code",
   "execution_count": 6,
   "id": "36dccb96",
   "metadata": {},
   "outputs": [
    {
     "name": "stderr",
     "output_type": "stream",
     "text": [
      "/Users/nicole/git/m2dtIceSheet/notebooks/../models/AdvectionDiffusion/Detectors/DetectorPointwise.py:49: UserWarning: DetectorPointwise.measure: flightpath goes outside of computational domain\n",
      "  warnings.warn(\n"
     ]
    },
    {
     "data": {
      "text/plain": [
       "[<matplotlib.lines.Line2D at 0x16396b800>]"
      ]
     },
     "execution_count": 6,
     "metadata": {},
     "output_type": "execute_result"
    },
    {
     "data": {
      "image/png": "[encoded data removed]",
      "text/plain": [
       "<Figure size 300x300 with 1 Axes>"
      ]
     },
     "metadata": {},
     "output_type": "display_data"
    }
   ],
   "source": [
    "alpha = np.array([0.4, 0.6, 0, 1, 2])\n",
    "\n",
    "# compute flight\n",
    "flight = drone.plan_flight(alpha=alpha, grid_t=drone.grid_t)  # Flight object\n",
    "flightpath, grid_t = flight.flightpath, flight.grid_t  # path and its time discretization\n",
    "\n",
    "# measure data\n",
    "data = drone.measure(flight=flight, state=state)\n",
    "\n",
    "fig, ax = plt.subplots(1, 1, figsize = (3, 3))\n",
    "fom.plot(state, ax=ax)\n",
    "plt.plot(flightpath[:, 0], flightpath[:, 1], color=\"r\")\n",
    "plt.plot([flightpath[0, 0]], [flightpath[0, 1]], color=\"r\", marker=\"s\")\n",
    "plt.plot([flightpath[-1, 0]], [flightpath[-1, 1]], color=\"r\", marker=\"d\")"
   ]
  },
  {
   "cell_type": "code",
   "execution_count": 7,
   "id": "cc5f1806",
   "metadata": {},
   "outputs": [],
   "source": [
    "from CircularPath import CircularPath as chosenPathClass"
   ]
  },
  {
   "cell_type": "code",
   "execution_count": 8,
   "id": "95e90532",
   "metadata": {},
   "outputs": [
    {
     "name": "stdout",
     "output_type": "stream",
     "text": [
      "Sanity check:  True\n"
     ]
    }
   ],
   "source": [
    "# user setting (for trying out different controls)\n",
    "alpha2 = {\n",
    "    \"initial x\" : alpha[0],\n",
    "    \"initial y\" : alpha[1],\n",
    "    \"initial heading\" : alpha[2],\n",
    "    \"velocity\" : alpha[3],\n",
    "    \"angular velocity\" : alpha[4],\n",
    "}\n",
    "\n",
    "# use path class to get position\n",
    "path = chosenPathClass(alpha = alpha2)\n",
    "position = path.position(drone.grid_t)\n",
    "\n",
    "print(\"Sanity check: \", np.isclose(la.norm(position-flightpath), 0))"
   ]
  },
  {
   "cell_type": "code",
   "execution_count": 9,
   "id": "50d8fe22",
   "metadata": {},
   "outputs": [
    {
     "name": "stdout",
     "output_type": "stream",
     "text": [
      "Sanity check (derivative initial position, x):  True\n",
      "Sanity check (derivative initial position, y):  True\n",
      "Sanity check (derivative velocity):             True\n",
      "Sanity check (derivative velocity):             True\n",
      "Sanity check (derivative velocity):             True\n"
     ]
    }
   ],
   "source": [
    "a = navigation.d_position_d_initial_x(alpha)\n",
    "b = path.d_position_d_initial_x(grid_t)\n",
    "print(\"Sanity check (derivative initial position, x): \", np.isclose(la.norm(a-b), 0))\n",
    "\n",
    "a = navigation.d_position_d_initial_y(alpha)\n",
    "b = path.d_position_d_initial_y(grid_t)\n",
    "print(\"Sanity check (derivative initial position, y): \", np.isclose(la.norm(a-b), 0))\n",
    "\n",
    "a = navigation.d_position_d_velocity(alpha)\n",
    "b = path.d_position_d_velocity(grid_t)\n",
    "print(\"Sanity check (derivative velocity):            \", np.isclose(la.norm(a-b), 0))\n",
    "\n",
    "a = navigation.d_position_d_angular_velocity(alpha)\n",
    "b = path.d_position_d_angular_velocity(grid_t)\n",
    "print(\"Sanity check (derivative velocity):            \", np.isclose(la.norm(a-b), 0))\n",
    "\n",
    "a = navigation.d_position_d_heading(alpha)\n",
    "b = path.d_position_d_initial_heading(grid_t)\n",
    "print(\"Sanity check (derivative velocity):            \", np.isclose(la.norm(a-b), 0))"
   ]
  },
  {
   "cell_type": "code",
   "execution_count": 15,
   "id": "2dade267",
   "metadata": {},
   "outputs": [],
   "source": [
    "test = navigation.d_position_d_control(flight)"
   ]
  },
  {
   "cell_type": "code",
   "execution_count": 16,
   "id": "201088c9",
   "metadata": {},
   "outputs": [
    {
     "data": {
      "text/plain": [
       "(5, 1000)"
      ]
     },
     "execution_count": 16,
     "metadata": {},
     "output_type": "execute_result"
    }
   ],
   "source": [
    "test.shape"
   ]
  },
  {
   "cell_type": "code",
   "execution_count": null,
   "id": "4b57b42d",
   "metadata": {},
   "outputs": [],
   "source": []
  },
  {
   "cell_type": "code",
   "execution_count": null,
   "id": "1c690876",
   "metadata": {},
   "outputs": [],
   "source": []
  },
  {
   "cell_type": "code",
   "execution_count": null,
   "id": "99a5c5ca",
   "metadata": {},
   "outputs": [],
   "source": []
  },
  {
   "cell_type": "code",
   "execution_count": 10,
   "id": "2a3d7189",
   "metadata": {},
   "outputs": [
    {
     "data": {
      "text/plain": [
       "(500, 2)"
      ]
     },
     "execution_count": 10,
     "metadata": {},
     "output_type": "execute_result"
    }
   ],
   "source": [
    "a.shape"
   ]
  },
  {
   "cell_type": "code",
   "execution_count": 11,
   "id": "3d5c7886",
   "metadata": {},
   "outputs": [],
   "source": [
    "test = a.T.flatten()"
   ]
  },
  {
   "cell_type": "code",
   "execution_count": 12,
   "id": "741879a1",
   "metadata": {},
   "outputs": [
    {
     "data": {
      "text/plain": [
       "(1000,)"
      ]
     },
     "execution_count": 12,
     "metadata": {},
     "output_type": "execute_result"
    }
   ],
   "source": [
    "test.shape"
   ]
  },
  {
   "cell_type": "code",
   "execution_count": 13,
   "id": "6e1724b9",
   "metadata": {},
   "outputs": [
    {
     "data": {
      "text/plain": [
       "array([0., 0., 0., 0., 0., 0., 0., 0., 0., 0., 0., 0., 0., 0., 0., 0., 0.,\n",
       "       0., 0., 0., 0., 0., 0., 0., 0., 0., 0., 0., 0., 0., 0., 0., 0., 0.,\n",
       "       0., 0., 0., 0., 0., 0., 0., 0., 0., 0., 0., 0., 0., 0., 0., 0., 0.,\n",
       "       0., 0., 0., 0., 0., 0., 0., 0., 0., 0., 0., 0., 0., 0., 0., 0., 0.,\n",
       "       0., 0., 0., 0., 0., 0., 0., 0., 0., 0., 0., 0., 0., 0., 0., 0., 0.,\n",
       "       0., 0., 0., 0., 0., 0., 0., 0., 0., 0., 0., 0., 0., 0., 0., 0., 0.,\n",
       "       0., 0., 0., 0., 0., 0., 0., 0., 0., 0., 0., 0., 0., 0., 0., 0., 0.,\n",
       "       0., 0., 0., 0., 0., 0., 0., 0., 0., 0., 0., 0., 0., 0., 0., 0., 0.,\n",
       "       0., 0., 0., 0., 0., 0., 0., 0., 0., 0., 0., 0., 0., 0., 0., 0., 0.,\n",
       "       0., 0., 0., 0., 0., 0., 0., 0., 0., 0., 0., 0., 0., 0., 0., 0., 0.,\n",
       "       0., 0., 0., 0., 0., 0., 0., 0., 0., 0., 0., 0., 0., 0., 0., 0., 0.,\n",
       "       0., 0., 0., 0., 0., 0., 0., 0., 0., 0., 0., 0., 0., 0., 0., 0., 0.,\n",
       "       0., 0., 0., 0., 0., 0., 0., 0., 0., 0., 0., 0., 0., 0., 0., 0., 0.,\n",
       "       0., 0., 0., 0., 0., 0., 0., 0., 0., 0., 0., 0., 0., 0., 0., 0., 0.,\n",
       "       0., 0., 0., 0., 0., 0., 0., 0., 0., 0., 0., 0., 0., 0., 0., 0., 0.,\n",
       "       0., 0., 0., 0., 0., 0., 0., 0., 0., 0., 0., 0., 0., 0., 0., 0., 0.,\n",
       "       0., 0., 0., 0., 0., 0., 0., 0., 0., 0., 0., 0., 0., 0., 0., 0., 0.,\n",
       "       0., 0., 0., 0., 0., 0., 0., 0., 0., 0., 0., 0., 0., 0., 0., 0., 0.,\n",
       "       0., 0., 0., 0., 0., 0., 0., 0., 0., 0., 0., 0., 0., 0., 0., 0., 0.,\n",
       "       0., 0., 0., 0., 0., 0., 0., 0., 0., 0., 0., 0., 0., 0., 0., 0., 0.,\n",
       "       0., 0., 0., 0., 0., 0., 0., 0., 0., 0., 0., 0., 0., 0., 0., 0., 0.,\n",
       "       0., 0., 0., 0., 0., 0., 0., 0., 0., 0., 0., 0., 0., 0., 0., 0., 0.,\n",
       "       0., 0., 0., 0., 0., 0., 0., 0., 0., 0., 0., 0., 0., 0., 0., 0., 0.,\n",
       "       0., 0., 0., 0., 0., 0., 0., 0., 0., 0., 0., 0., 0., 0., 0., 0., 0.,\n",
       "       0., 0., 0., 0., 0., 0., 0., 0., 0., 0., 0., 0., 0., 0., 0., 0., 0.,\n",
       "       0., 0., 0., 0., 0., 0., 0., 0., 0., 0., 0., 0., 0., 0., 0., 0., 0.,\n",
       "       0., 0., 0., 0., 0., 0., 0., 0., 0., 0., 0., 0., 0., 0., 0., 0., 0.,\n",
       "       0., 0., 0., 0., 0., 0., 0., 0., 0., 0., 0., 0., 0., 0., 0., 0., 0.,\n",
       "       0., 0., 0., 0., 0., 0., 0., 0., 0., 0., 0., 0., 0., 0., 0., 0., 0.,\n",
       "       0., 0., 0., 0., 0., 0., 0.])"
      ]
     },
     "execution_count": 13,
     "metadata": {},
     "output_type": "execute_result"
    }
   ],
   "source": [
    "test[:500]-a[:, 0]"
   ]
  },
  {
   "cell_type": "markdown",
   "id": "01156d65",
   "metadata": {},
   "source": [
    "**Welcome back!** \n",
    "I've been mischevious and have started to rewrite Thomas' code into Navigation class structure. The next step there is to fill in the function `d_position_d_control`. After that, you can try out some first optimization. Alternatively, translate `CircularPathsCombined` into a Navigation class."
   ]
  },
  {
   "cell_type": "code",
   "execution_count": null,
   "id": "1982715e",
   "metadata": {},
   "outputs": [],
   "source": []
  },
  {
   "cell_type": "code",
   "execution_count": null,
   "id": "05ba9a41",
   "metadata": {},
   "outputs": [],
   "source": []
  }
 ],
 "metadata": {
  "kernelspec": {
   "display_name": "Python 3 (ipykernel)",
   "language": "python",
   "name": "python3"
  },
  "language_info": {
   "codemirror_mode": {
    "name": "ipython",
    "version": 3
   },
   "file_extension": ".py",
   "mimetype": "text/x-python",
   "name": "python",
   "nbconvert_exporter": "python",
   "pygments_lexer": "ipython3",
   "version": "3.12.5"
  }
 },
 "nbformat": 4,
 "nbformat_minor": 5
}
