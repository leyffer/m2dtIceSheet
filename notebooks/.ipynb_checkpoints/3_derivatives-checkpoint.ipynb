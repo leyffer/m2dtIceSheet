{
 "cells": [
  {
   "cell_type": "markdown",
   "id": "1ecf453a",
   "metadata": {},
   "source": [
    "# Positional Derivatives"
   ]
  },
  {
   "cell_type": "markdown",
   "id": "9b21de13",
   "metadata": {},
   "source": [
    "In this notebook we explain how to use the derivatives w.r.t. the position (instead of w.r.t. the control, as was done in previous notebooks). The reason we look into this is because positional derivatives are required by the OED optimization problem in order to include limitations onto the flight path (houses, edge of domain, etc.)."
   ]
  },
  {
   "cell_type": "markdown",
   "id": "ae79efb1",
   "metadata": {},
   "source": [
    "## Imports"
   ]
  },
  {
   "cell_type": "code",
   "execution_count": 1,
   "id": "05f47523",
   "metadata": {},
   "outputs": [],
   "source": [
    "import sys\n",
    "sys.path.insert(0, \"../source/\")\n",
    "sys.path.insert(0, \"../models/AdvectionDiffusion/settings/AdvectionDiffusion_FEniCS\")\n",
    "sys.path.insert(0, \"../models/AdvectionDiffusion/Navigators\")\n",
    "sys.path.insert(0, \"../models/AdvectionDiffusion/Detectors\")\n",
    "\n",
    "import numpy as np\n",
    "import matplotlib.pyplot as plt\n",
    "import scipy.linalg as la\n",
    "\n",
    "from InverseProblem import InverseProblem\n",
    "from FOM_stationary import FOM_stationary as FOM\n",
    "from OEDUtility import OEDUtility\n",
    "from Drone import Drone as Drone\n",
    "\n",
    "from DetectorPointwise import DetectorPointwise\n",
    "from DetectorUniform import DetectorUniform\n",
    "from DetectorGaussian import DetectorGaussian\n",
    "from DetectorTruncGaussian import DetectorTruncGaussian\n",
    "from Navigation import Navigation as Navigation\n",
    "\n",
    "import time\n",
    "tStart_notebook = time.time()"
   ]
  },
  {
   "cell_type": "markdown",
   "id": "3cb45c22",
   "metadata": {},
   "source": [
    "## User settings"
   ]
  },
  {
   "cell_type": "code",
   "execution_count": 2,
   "id": "eef24598",
   "metadata": {},
   "outputs": [],
   "source": [
    "centers = [[0.4, 0.6], [0.6, 0.4]]\n",
    "var_prior = 1 # set to a high value (1e+6) to test convergence in noise-free situations\n",
    "\n",
    "n_test_2d = 100  # resolution for 2D plots (50: ~1 min runtime for dt = 0.01)\n",
    "\n",
    "meshDim = 40  # discretization parameter (1D) for FOM\n",
    "polyDim = 4\n",
    "\n",
    "dt = 0.01"
   ]
  },
  {
   "cell_type": "markdown",
   "id": "a9a5d01e",
   "metadata": {},
   "source": [
    "## Setup"
   ]
  },
  {
   "cell_type": "markdown",
   "id": "ce5e71f2",
   "metadata": {},
   "source": [
    "We use the same model setup as in the previous notebook, except for the navigation:"
   ]
  },
  {
   "cell_type": "code",
   "execution_count": 3,
   "id": "6c7ed92e",
   "metadata": {},
   "outputs": [
    {
     "name": "stdout",
     "output_type": "stream",
     "text": [
      "Runtime of this block: 1.536269187927246 s\n"
     ]
    }
   ],
   "source": [
    "# initialize full-order model\n",
    "tStart = time.time()\n",
    "fom = FOM(meshDim = meshDim, centers=centers, polyDim = polyDim)\n",
    "print(\"Runtime of this block: {} s\".format(time.time()-tStart))\n",
    "n_para = fom.n_para\n",
    "\n",
    "# compute one solution for nicer visualization below\n",
    "para_true = np.ones((n_para,))\n",
    "state = fom.solve(parameter=para_true)\n",
    "\n",
    "# set a prior\n",
    "prior_mean = np.zeros((n_para,))\n",
    "prior_covar = var_prior*np.eye(n_para)\n",
    "fom.set_prior(prior_mean=prior_mean, prior_covar=prior_covar)"
   ]
  },
  {
   "cell_type": "code",
   "execution_count": 4,
   "id": "47d0fe18",
   "metadata": {},
   "outputs": [
    {
     "data": {
      "text/plain": [
       "35987"
      ]
     },
     "execution_count": 4,
     "metadata": {},
     "output_type": "execute_result"
    }
   ],
   "source": [
    "fom.nFE"
   ]
  },
  {
   "cell_type": "markdown",
   "id": "6bdce732",
   "metadata": {},
   "source": [
    "## Testing positional derivatives"
   ]
  },
  {
   "cell_type": "markdown",
   "id": "700d3e71",
   "metadata": {},
   "source": [
    "Since our goal in this notebook is to look at the derivatives w.r.t. the position, looking at a \"complicated\" geometry like a circle is going to make our life difficult. Instead, let's look at a very easy flightpath: Going straight from A to B to C:"
   ]
  },
  {
   "cell_type": "code",
   "execution_count": 5,
   "id": "fd438a45",
   "metadata": {},
   "outputs": [
    {
     "name": "stdout",
     "output_type": "stream",
     "text": [
      "The history saving thread hit an unexpected error (OperationalError('database is locked')).History will not be written to the database.\n"
     ]
    }
   ],
   "source": [
    "class NavigationABC(Navigation):\n",
    "    \n",
    "    def __init__(self):\n",
    "        grid_t = np.array([0, dt, 2*dt])\n",
    "        super().__init__(grid_t = grid_t)\n",
    "        \n",
    "    def get_trajectory(self, alpha, grid_t=None):\n",
    "        return alpha, self.grid_t"
   ]
  },
  {
   "cell_type": "markdown",
   "id": "fbd89a87",
   "metadata": {},
   "source": [
    "For convenience, we use point-wise measurements:"
   ]
  },
  {
   "cell_type": "code",
   "execution_count": 6,
   "id": "d19a0491",
   "metadata": {},
   "outputs": [
    {
     "name": "stdout",
     "output_type": "stream",
     "text": [
      "State solve time (2 parameters): 65.06141710281372 s\n"
     ]
    }
   ],
   "source": [
    "# drone setup\n",
    "navigation = NavigationABC()\n",
    "detector = DetectorPointwise(fom)\n",
    "drone = Drone(detector=detector, navigation=navigation)\n",
    "\n",
    "# define inverse problem\n",
    "inversion = InverseProblem(fom, drone)\n",
    "\n",
    "# compute the states for the parameter basis\n",
    "tStart = time.time()\n",
    "inversion.compute_states(np.eye(n_para))\n",
    "print(\"State solve time ({} parameters): {} s\".format(n_para, time.time()-tStart))\n",
    "\n",
    "# initialize object for computing the utility\n",
    "utility = OEDUtility(inversion)"
   ]
  },
  {
   "cell_type": "markdown",
   "id": "05eebc1a",
   "metadata": {},
   "source": [
    "Let's visualize this flight path:"
   ]
  },
  {
   "cell_type": "code",
   "execution_count": 7,
   "id": "d953c75d",
   "metadata": {},
   "outputs": [
    {
     "data": {
      "text/plain": [
       "Text(0.2, 0.6, 'C')"
      ]
     },
     "execution_count": 7,
     "metadata": {},
     "output_type": "execute_result"
    },
    {
     "data": {
      "image/png": "[encoded data removed]",
      "text/plain": [
       "<Figure size 432x288 with 2 Axes>"
      ]
     },
     "metadata": {
      "needs_background": "light"
     },
     "output_type": "display_data"
    }
   ],
   "source": [
    "# user setting\n",
    "alpha = np.array([[0.8,0.2], [0.5, 0.5], [0.2, 0.6]])  # set flight markers A-B-C\n",
    "\n",
    "# compute flight\n",
    "flight = drone.plan_flight(alpha=alpha)  # Flight object\n",
    "flightpath, grid_t_drone = flight.flightpath, flight.grid_t  # path and its time discretization\n",
    "\n",
    "fom.plot(state)\n",
    "plt.plot(flightpath[:, 0], flightpath[:, 1], color=\"r\")\n",
    "\n",
    "plt.annotate(text = \"A\", xy=(flightpath[0, 0], flightpath[0, 1]), color=\"r\")\n",
    "plt.annotate(text = \"B\", xy=(flightpath[1, 0], flightpath[1, 1]), color=\"r\")\n",
    "plt.annotate(text = \"C\", xy=(flightpath[2, 0], flightpath[2, 1]), color=\"r\")"
   ]
  },
  {
   "cell_type": "markdown",
   "id": "884c4a52",
   "metadata": {},
   "source": [
    "For our experiment, we keep the positions of `A` and `C` fixed, and vary `B` within an area."
   ]
  },
  {
   "cell_type": "code",
   "execution_count": 8,
   "id": "45323272",
   "metadata": {},
   "outputs": [],
   "source": [
    "xvals = np.linspace(0.3, 0.7, n_test_2d)\n",
    "yvals = np.linspace(0.4, 0.6, n_test_2d+1)\n",
    "\n",
    "util = np.zeros((3, n_test_2d, n_test_2d+1))\n",
    "alpha = np.array([[0.8,0.2], [0.5, 0.5], [0.2, 0.6]])\n",
    "\n",
    "for i in range(n_test_2d):\n",
    "    for j in range(n_test_2d+1):\n",
    "        alpha[1, 0] = xvals[i]\n",
    "        alpha[1, 1] = yvals[j]\n",
    "        posterior = inversion.compute_posterior(alpha=alpha)\n",
    "\n",
    "        util[0, i, j] = utility.eval_utility(posterior, mode=\"A\")\n",
    "        util[1, i, j] = utility.eval_utility(posterior, mode=\"D\")\n",
    "        util[2, i, j] = utility.eval_utility(posterior, mode=\"E\")"
   ]
  },
  {
   "cell_type": "code",
   "execution_count": 9,
   "id": "ab21f92e",
   "metadata": {},
   "outputs": [
    {
     "data": {
      "text/plain": [
       "<matplotlib.colorbar.Colorbar at 0x16a11a230>"
      ]
     },
     "execution_count": 9,
     "metadata": {},
     "output_type": "execute_result"
    },
    {
     "data": {
      "image/png": "[encoded data removed]",
      "text/plain": [
       "<Figure size 1152x360 with 6 Axes>"
      ]
     },
     "metadata": {
      "needs_background": "light"
     },
     "output_type": "display_data"
    }
   ],
   "source": [
    "fig, axs = plt.subplots(1, 3, figsize=(16,5))\n",
    "\n",
    "maps = np.zeros(3, dtype = object)\n",
    "for i in range(3):\n",
    "    maps[i] = axs[i].pcolormesh(xvals, yvals, util[i, :, :].T)\n",
    "    axs[i].set_xlabel(\"x position\")\n",
    "    axs[i].set_ylabel(\"y position\")\n",
    "\n",
    "axs[0].set_title(\"A-OED\")\n",
    "axs[1].set_title(\"D-OED\")\n",
    "axs[2].set_title(\"E-OED\")\n",
    "\n",
    "# colorbar\n",
    "fig.colorbar(maps[0], ax=axs[0])\n",
    "fig.colorbar(maps[1], ax=axs[1])\n",
    "fig.colorbar(maps[2], ax=axs[2])"
   ]
  },
  {
   "cell_type": "markdown",
   "id": "c5d69c28",
   "metadata": {},
   "source": [
    "Next we visualize the derivatives."
   ]
  },
  {
   "cell_type": "code",
   "execution_count": 10,
   "id": "6ec01636",
   "metadata": {},
   "outputs": [
    {
     "name": "stdout",
     "output_type": "stream",
     "text": [
      "Evaluating utility at reference\n",
      "Evaluating derivatives at reference\n"
     ]
    },
    {
     "ename": "AttributeError",
     "evalue": "'Grad' object has no attribute '_cpp_object'",
     "output_type": "error",
     "traceback": [
      "\u001b[0;31m---------------------------------------------------------------------------\u001b[0m",
      "\u001b[0;31mAttributeError\u001b[0m                            Traceback (most recent call last)",
      "\u001b[0;32m/var/folders/_k/q9sdsmfx2j35cmp3z9tn84km0000gp/T/ipykernel_39185/2004589043.py\u001b[0m in \u001b[0;36m<module>\u001b[0;34m\u001b[0m\n\u001b[1;32m     16\u001b[0m \u001b[0mprint\u001b[0m\u001b[0;34m(\u001b[0m\u001b[0;34m\"Evaluating derivatives at reference\"\u001b[0m\u001b[0;34m)\u001b[0m\u001b[0;34m\u001b[0m\u001b[0;34m\u001b[0m\u001b[0m\n\u001b[1;32m     17\u001b[0m \u001b[0mtStart_sub\u001b[0m \u001b[0;34m=\u001b[0m \u001b[0mtime\u001b[0m\u001b[0;34m.\u001b[0m\u001b[0mtime\u001b[0m\u001b[0;34m(\u001b[0m\u001b[0;34m)\u001b[0m\u001b[0;34m\u001b[0m\u001b[0;34m\u001b[0m\u001b[0m\n\u001b[0;32m---> 18\u001b[0;31m \u001b[0mder_ref_A\u001b[0m \u001b[0;34m=\u001b[0m \u001b[0mutility\u001b[0m\u001b[0;34m.\u001b[0m\u001b[0md_utility_d_position\u001b[0m\u001b[0;34m(\u001b[0m\u001b[0mposterior_ref\u001b[0m\u001b[0;34m,\u001b[0m \u001b[0mmode\u001b[0m\u001b[0;34m=\u001b[0m\u001b[0;34m\"A\"\u001b[0m\u001b[0;34m)\u001b[0m\u001b[0;34m[\u001b[0m\u001b[0;34m[\u001b[0m\u001b[0;36m1\u001b[0m\u001b[0;34m,\u001b[0m\u001b[0;36m4\u001b[0m\u001b[0;34m]\u001b[0m\u001b[0;34m]\u001b[0m\u001b[0;34m\u001b[0m\u001b[0;34m\u001b[0m\u001b[0m\n\u001b[0m\u001b[1;32m     19\u001b[0m \u001b[0mder_ref_D\u001b[0m \u001b[0;34m=\u001b[0m \u001b[0mutility\u001b[0m\u001b[0;34m.\u001b[0m\u001b[0md_utility_d_position\u001b[0m\u001b[0;34m(\u001b[0m\u001b[0mposterior_ref\u001b[0m\u001b[0;34m,\u001b[0m \u001b[0mmode\u001b[0m\u001b[0;34m=\u001b[0m\u001b[0;34m\"D\"\u001b[0m\u001b[0;34m)\u001b[0m\u001b[0;34m[\u001b[0m\u001b[0;34m[\u001b[0m\u001b[0;36m1\u001b[0m\u001b[0;34m,\u001b[0m\u001b[0;36m4\u001b[0m\u001b[0;34m]\u001b[0m\u001b[0;34m]\u001b[0m\u001b[0;34m\u001b[0m\u001b[0;34m\u001b[0m\u001b[0m\n\u001b[1;32m     20\u001b[0m \u001b[0mder_ref_Dinv\u001b[0m \u001b[0;34m=\u001b[0m \u001b[0mutility\u001b[0m\u001b[0;34m.\u001b[0m\u001b[0md_utility_d_position\u001b[0m\u001b[0;34m(\u001b[0m\u001b[0mposterior_ref\u001b[0m\u001b[0;34m,\u001b[0m \u001b[0mmode\u001b[0m\u001b[0;34m=\u001b[0m\u001b[0;34m\"D-inverse\"\u001b[0m\u001b[0;34m)\u001b[0m\u001b[0;34m[\u001b[0m\u001b[0;34m[\u001b[0m\u001b[0;36m1\u001b[0m\u001b[0;34m,\u001b[0m\u001b[0;36m4\u001b[0m\u001b[0;34m]\u001b[0m\u001b[0;34m]\u001b[0m\u001b[0;34m\u001b[0m\u001b[0;34m\u001b[0m\u001b[0m\n",
      "\u001b[0;32m~/git/m2dtIceSheet/notebooks/../source/OEDUtility.py\u001b[0m in \u001b[0;36md_utility_d_position\u001b[0;34m(self, posterior, mode)\u001b[0m\n\u001b[1;32m    299\u001b[0m         \u001b[0;31m# switch between cases\u001b[0m\u001b[0;34m\u001b[0m\u001b[0;34m\u001b[0m\u001b[0m\n\u001b[1;32m    300\u001b[0m         \u001b[0;32mif\u001b[0m \u001b[0mmode\u001b[0m \u001b[0;34m==\u001b[0m \u001b[0;34m\"A\"\u001b[0m\u001b[0;34m:\u001b[0m\u001b[0;34m\u001b[0m\u001b[0;34m\u001b[0m\u001b[0m\n\u001b[0;32m--> 301\u001b[0;31m             \u001b[0;32mreturn\u001b[0m \u001b[0mself\u001b[0m\u001b[0;34m.\u001b[0m\u001b[0md_utilA_d_position\u001b[0m\u001b[0;34m(\u001b[0m\u001b[0mposterior\u001b[0m\u001b[0;34m)\u001b[0m\u001b[0;34m\u001b[0m\u001b[0;34m\u001b[0m\u001b[0m\n\u001b[0m\u001b[1;32m    302\u001b[0m \u001b[0;34m\u001b[0m\u001b[0m\n\u001b[1;32m    303\u001b[0m         \u001b[0;32mif\u001b[0m \u001b[0mmode\u001b[0m \u001b[0;34m==\u001b[0m \u001b[0;34m\"D\"\u001b[0m\u001b[0;34m:\u001b[0m\u001b[0;34m\u001b[0m\u001b[0;34m\u001b[0m\u001b[0m\n",
      "\u001b[0;32m~/git/m2dtIceSheet/notebooks/../source/OEDUtility.py\u001b[0m in \u001b[0;36md_utilA_d_position\u001b[0;34m(self, posterior)\u001b[0m\n\u001b[1;32m    340\u001b[0m \u001b[0;34m\u001b[0m\u001b[0m\n\u001b[1;32m    341\u001b[0m         \u001b[0;31m# get derivative information of the posterior covariance matrix\u001b[0m\u001b[0;34m\u001b[0m\u001b[0;34m\u001b[0m\u001b[0m\n\u001b[0;32m--> 342\u001b[0;31m         \u001b[0mder\u001b[0m \u001b[0;34m=\u001b[0m \u001b[0mposterior\u001b[0m\u001b[0;34m.\u001b[0m\u001b[0md_PostCov_d_position\u001b[0m\u001b[0;34m(\u001b[0m\u001b[0;34m)\u001b[0m\u001b[0;34m\u001b[0m\u001b[0;34m\u001b[0m\u001b[0m\n\u001b[0m\u001b[1;32m    343\u001b[0m \u001b[0;34m\u001b[0m\u001b[0m\n\u001b[1;32m    344\u001b[0m         \u001b[0;31m# compute gradient\u001b[0m\u001b[0;34m\u001b[0m\u001b[0;34m\u001b[0m\u001b[0m\n",
      "\u001b[0;32m~/git/m2dtIceSheet/notebooks/../source/Posterior.py\u001b[0m in \u001b[0;36md_PostCov_d_position\u001b[0;34m(self)\u001b[0m\n\u001b[1;32m    465\u001b[0m         \u001b[0;31m# get the posterior covariance matrix and its derivative\u001b[0m\u001b[0;34m\u001b[0m\u001b[0;34m\u001b[0m\u001b[0m\n\u001b[1;32m    466\u001b[0m         \u001b[0mPostCov\u001b[0m \u001b[0;34m=\u001b[0m \u001b[0mself\u001b[0m\u001b[0;34m.\u001b[0m\u001b[0mcompute_covariance\u001b[0m\u001b[0;34m(\u001b[0m\u001b[0;34m)\u001b[0m\u001b[0;34m\u001b[0m\u001b[0;34m\u001b[0m\u001b[0m\n\u001b[0;32m--> 467\u001b[0;31m         \u001b[0mcovar_inv_derivative\u001b[0m \u001b[0;34m=\u001b[0m \u001b[0mself\u001b[0m\u001b[0;34m.\u001b[0m\u001b[0md_invPostCov_d_position\u001b[0m\u001b[0;34m(\u001b[0m\u001b[0;34m)\u001b[0m\u001b[0;34m\u001b[0m\u001b[0;34m\u001b[0m\u001b[0m\n\u001b[0m\u001b[1;32m    468\u001b[0m \u001b[0;34m\u001b[0m\u001b[0m\n\u001b[1;32m    469\u001b[0m         \u001b[0;31m# apply chain rule (matrix form) to get the derivative (be careful about the order!)\u001b[0m\u001b[0;34m\u001b[0m\u001b[0;34m\u001b[0m\u001b[0m\n",
      "\u001b[0;32m~/git/m2dtIceSheet/notebooks/../source/Posterior.py\u001b[0m in \u001b[0;36md_invPostCov_d_position\u001b[0;34m(self)\u001b[0m\n\u001b[1;32m    394\u001b[0m                 \u001b[0;31m# TODO: if we only need the action of the matrix derivative, we\u001b[0m\u001b[0;34m\u001b[0m\u001b[0;34m\u001b[0m\u001b[0m\n\u001b[1;32m    395\u001b[0m                 \u001b[0;31m# should be able to optimize out this for-loop\u001b[0m\u001b[0;34m\u001b[0m\u001b[0;34m\u001b[0m\u001b[0m\n\u001b[0;32m--> 396\u001b[0;31m                 dG[:, i, :] = self.drone.d_measurement_d_position(\n\u001b[0m\u001b[1;32m    397\u001b[0m                     \u001b[0mflight\u001b[0m\u001b[0;34m=\u001b[0m\u001b[0mself\u001b[0m\u001b[0;34m.\u001b[0m\u001b[0mflight\u001b[0m\u001b[0;34m,\u001b[0m\u001b[0;34m\u001b[0m\u001b[0;34m\u001b[0m\u001b[0m\n\u001b[1;32m    398\u001b[0m                     \u001b[0mstate\u001b[0m\u001b[0;34m=\u001b[0m\u001b[0mself\u001b[0m\u001b[0;34m.\u001b[0m\u001b[0minversion\u001b[0m\u001b[0;34m.\u001b[0m\u001b[0mstates\u001b[0m\u001b[0;34m[\u001b[0m\u001b[0mi\u001b[0m\u001b[0;34m]\u001b[0m\u001b[0;34m,\u001b[0m\u001b[0;34m\u001b[0m\u001b[0;34m\u001b[0m\u001b[0m\n",
      "\u001b[0;32m~/git/m2dtIceSheet/notebooks/../source/Drone.py\u001b[0m in \u001b[0;36md_measurement_d_position\u001b[0;34m(self, flight, state)\u001b[0m\n\u001b[1;32m    152\u001b[0m         \u001b[0;34m@\u001b[0m\u001b[0;32mreturn\u001b[0m\u001b[0;34m:\u001b[0m \u001b[0mnp\u001b[0m\u001b[0;34m.\u001b[0m\u001b[0mndarray\u001b[0m \u001b[0mof\u001b[0m \u001b[0mshape\u001b[0m \u001b[0;34m(\u001b[0m\u001b[0mgrid_t\u001b[0m\u001b[0;34m.\u001b[0m\u001b[0mshape\u001b[0m\u001b[0;34m[\u001b[0m\u001b[0;36m0\u001b[0m\u001b[0;34m]\u001b[0m\u001b[0;34m,\u001b[0m \u001b[0;34m<\u001b[0m\u001b[0mspatial\u001b[0m \u001b[0mdimension\u001b[0m\u001b[0;34m>\u001b[0m\u001b[0;34m)\u001b[0m\u001b[0;34m\u001b[0m\u001b[0;34m\u001b[0m\u001b[0m\n\u001b[1;32m    153\u001b[0m         \"\"\"\n\u001b[0;32m--> 154\u001b[0;31m         \u001b[0;32mreturn\u001b[0m \u001b[0mself\u001b[0m\u001b[0;34m.\u001b[0m\u001b[0mdetector\u001b[0m\u001b[0;34m.\u001b[0m\u001b[0md_measurement_d_position\u001b[0m\u001b[0;34m(\u001b[0m\u001b[0mflight\u001b[0m\u001b[0;34m,\u001b[0m \u001b[0mstate\u001b[0m\u001b[0;34m)\u001b[0m\u001b[0;34m\u001b[0m\u001b[0;34m\u001b[0m\u001b[0m\n\u001b[0m\u001b[1;32m    155\u001b[0m \u001b[0;34m\u001b[0m\u001b[0m\n\u001b[1;32m    156\u001b[0m     def plan_flight(\n",
      "\u001b[0;32m~/git/m2dtIceSheet/notebooks/../source/Detector.py\u001b[0m in \u001b[0;36md_measurement_d_position\u001b[0;34m(self, flight, state)\u001b[0m\n\u001b[1;32m    183\u001b[0m         \u001b[0;32mfor\u001b[0m \u001b[0mtime_step\u001b[0m \u001b[0;32min\u001b[0m \u001b[0mrange\u001b[0m\u001b[0;34m(\u001b[0m\u001b[0mgrid_t\u001b[0m\u001b[0;34m.\u001b[0m\u001b[0mshape\u001b[0m\u001b[0;34m[\u001b[0m\u001b[0;36m0\u001b[0m\u001b[0;34m]\u001b[0m\u001b[0;34m)\u001b[0m\u001b[0;34m:\u001b[0m\u001b[0;34m\u001b[0m\u001b[0;34m\u001b[0m\u001b[0m\n\u001b[1;32m    184\u001b[0m             \u001b[0;31m# Evaluate the derivative at the considered position, e.g., [d/dx, d/dy]\u001b[0m\u001b[0;34m\u001b[0m\u001b[0;34m\u001b[0m\u001b[0m\n\u001b[0;32m--> 185\u001b[0;31m             D_data_d_position[time_step, :] = self.derivative_at_position(\n\u001b[0m\u001b[1;32m    186\u001b[0m                 \u001b[0mpos\u001b[0m\u001b[0;34m=\u001b[0m\u001b[0mflightpath\u001b[0m\u001b[0;34m[\u001b[0m\u001b[0mtime_step\u001b[0m\u001b[0;34m,\u001b[0m \u001b[0;34m:\u001b[0m\u001b[0;34m]\u001b[0m\u001b[0;34m,\u001b[0m \u001b[0mt\u001b[0m\u001b[0;34m=\u001b[0m\u001b[0mgrid_t\u001b[0m\u001b[0;34m[\u001b[0m\u001b[0mtime_step\u001b[0m\u001b[0;34m]\u001b[0m\u001b[0;34m,\u001b[0m \u001b[0mstate\u001b[0m\u001b[0;34m=\u001b[0m\u001b[0mstate\u001b[0m\u001b[0;34m\u001b[0m\u001b[0;34m\u001b[0m\u001b[0m\n\u001b[1;32m    187\u001b[0m             )\n",
      "\u001b[0;32m~/git/m2dtIceSheet/notebooks/../models/AdvectionDiffusion/Detectors/DetectorPointwise.py\u001b[0m in \u001b[0;36mderivative_at_position\u001b[0;34m(self, pos, t, state)\u001b[0m\n\u001b[1;32m     60\u001b[0m         \u001b[0;32mtry\u001b[0m\u001b[0;34m:\u001b[0m\u001b[0;34m\u001b[0m\u001b[0;34m\u001b[0m\u001b[0m\n\u001b[1;32m     61\u001b[0m             \u001b[0;31m# get derivative at the prescribed position\u001b[0m\u001b[0;34m\u001b[0m\u001b[0;34m\u001b[0m\u001b[0m\n\u001b[0;32m---> 62\u001b[0;31m             \u001b[0mdata\u001b[0m \u001b[0;34m=\u001b[0m \u001b[0mstate\u001b[0m\u001b[0;34m.\u001b[0m\u001b[0mget_derivative\u001b[0m\u001b[0;34m(\u001b[0m\u001b[0mt\u001b[0m\u001b[0;34m=\u001b[0m\u001b[0mt\u001b[0m\u001b[0;34m,\u001b[0m \u001b[0mx\u001b[0m\u001b[0;34m=\u001b[0m\u001b[0mpos\u001b[0m\u001b[0;34m)\u001b[0m\u001b[0;34m\u001b[0m\u001b[0;34m\u001b[0m\u001b[0m\n\u001b[0m\u001b[1;32m     63\u001b[0m         \u001b[0;32mexcept\u001b[0m \u001b[0mRuntimeError\u001b[0m\u001b[0;34m:\u001b[0m\u001b[0;34m\u001b[0m\u001b[0;34m\u001b[0m\u001b[0m\n\u001b[1;32m     64\u001b[0m             warnings.warn(\n",
      "\u001b[0;32m~/git/m2dtIceSheet/notebooks/../models/AdvectionDiffusion/settings/AdvectionDiffusion_FEniCS/myState_stationary.py\u001b[0m in \u001b[0;36mget_derivative\u001b[0;34m(self, t, x)\u001b[0m\n\u001b[1;32m     38\u001b[0m             \u001b[0mDu\u001b[0m \u001b[0;34m=\u001b[0m \u001b[0mdl\u001b[0m\u001b[0;34m.\u001b[0m\u001b[0mgrad\u001b[0m\u001b[0;34m(\u001b[0m\u001b[0mself\u001b[0m\u001b[0;34m.\u001b[0m\u001b[0mstate\u001b[0m\u001b[0;34m)\u001b[0m\u001b[0;34m\u001b[0m\u001b[0;34m\u001b[0m\u001b[0m\n\u001b[1;32m     39\u001b[0m             \u001b[0;31m# self.Du = dl.project(Du, self.gradient_space)\u001b[0m\u001b[0;34m\u001b[0m\u001b[0;34m\u001b[0m\u001b[0m\n\u001b[0;32m---> 40\u001b[0;31m             \u001b[0mself\u001b[0m\u001b[0;34m.\u001b[0m\u001b[0mDu\u001b[0m \u001b[0;34m=\u001b[0m \u001b[0mdl\u001b[0m\u001b[0;34m.\u001b[0m\u001b[0minterpolate\u001b[0m\u001b[0;34m(\u001b[0m\u001b[0mDu\u001b[0m\u001b[0;34m,\u001b[0m \u001b[0mself\u001b[0m\u001b[0;34m.\u001b[0m\u001b[0mgradient_space\u001b[0m\u001b[0;34m)\u001b[0m\u001b[0;34m\u001b[0m\u001b[0;34m\u001b[0m\u001b[0m\n\u001b[0m\u001b[1;32m     41\u001b[0m             \u001b[0;31m# since we know that Du is indeed an element of gradient_space by construction, we do not need to use\u001b[0m\u001b[0;34m\u001b[0m\u001b[0;34m\u001b[0m\u001b[0m\n\u001b[1;32m     42\u001b[0m             \u001b[0;31m# projection here (faster, dl.project solves the projection PDE)\u001b[0m\u001b[0;34m\u001b[0m\u001b[0;34m\u001b[0m\u001b[0m\n",
      "\u001b[0;32m~/anaconda3/envs/m2dt_oed_FEniCS/lib/python3.10/site-packages/dolfin/fem/interpolation.py\u001b[0m in \u001b[0;36minterpolate\u001b[0;34m(v, V)\u001b[0m\n\u001b[1;32m     71\u001b[0m         \u001b[0mPv\u001b[0m\u001b[0;34m.\u001b[0m\u001b[0minterpolate\u001b[0m\u001b[0;34m(\u001b[0m\u001b[0mv\u001b[0m\u001b[0;34m.\u001b[0m\u001b[0m_cpp_object\u001b[0m\u001b[0;34m)\u001b[0m\u001b[0;34m\u001b[0m\u001b[0;34m\u001b[0m\u001b[0m\n\u001b[1;32m     72\u001b[0m     \u001b[0;32melse\u001b[0m\u001b[0;34m:\u001b[0m\u001b[0;34m\u001b[0m\u001b[0;34m\u001b[0m\u001b[0m\n\u001b[0;32m---> 73\u001b[0;31m         \u001b[0mPv\u001b[0m\u001b[0;34m.\u001b[0m\u001b[0minterpolate\u001b[0m\u001b[0;34m(\u001b[0m\u001b[0mv\u001b[0m\u001b[0;34m)\u001b[0m\u001b[0;34m\u001b[0m\u001b[0;34m\u001b[0m\u001b[0m\n\u001b[0m\u001b[1;32m     74\u001b[0m \u001b[0;34m\u001b[0m\u001b[0m\n\u001b[1;32m     75\u001b[0m     \u001b[0;32mreturn\u001b[0m \u001b[0mPv\u001b[0m\u001b[0;34m\u001b[0m\u001b[0;34m\u001b[0m\u001b[0m\n",
      "\u001b[0;32m~/anaconda3/envs/m2dt_oed_FEniCS/lib/python3.10/site-packages/dolfin/function/function.py\u001b[0m in \u001b[0;36minterpolate\u001b[0;34m(self, u)\u001b[0m\n\u001b[1;32m    363\u001b[0m             \u001b[0mself\u001b[0m\u001b[0;34m.\u001b[0m\u001b[0m_cpp_object\u001b[0m\u001b[0;34m.\u001b[0m\u001b[0minterpolate\u001b[0m\u001b[0;34m(\u001b[0m\u001b[0mu\u001b[0m\u001b[0;34m.\u001b[0m\u001b[0m_cpp_object\u001b[0m\u001b[0;34m)\u001b[0m\u001b[0;34m\u001b[0m\u001b[0;34m\u001b[0m\u001b[0m\n\u001b[1;32m    364\u001b[0m         \u001b[0;32melse\u001b[0m\u001b[0;34m:\u001b[0m\u001b[0;34m\u001b[0m\u001b[0;34m\u001b[0m\u001b[0m\n\u001b[0;32m--> 365\u001b[0;31m             \u001b[0mself\u001b[0m\u001b[0;34m.\u001b[0m\u001b[0m_cpp_object\u001b[0m\u001b[0;34m.\u001b[0m\u001b[0minterpolate\u001b[0m\u001b[0;34m(\u001b[0m\u001b[0mu\u001b[0m\u001b[0;34m)\u001b[0m\u001b[0;34m\u001b[0m\u001b[0;34m\u001b[0m\u001b[0m\n\u001b[0m\u001b[1;32m    366\u001b[0m \u001b[0;34m\u001b[0m\u001b[0m\n\u001b[1;32m    367\u001b[0m     \u001b[0;32mdef\u001b[0m \u001b[0mcompute_vertex_values\u001b[0m\u001b[0;34m(\u001b[0m\u001b[0mself\u001b[0m\u001b[0;34m,\u001b[0m \u001b[0mmesh\u001b[0m\u001b[0;34m=\u001b[0m\u001b[0;32mNone\u001b[0m\u001b[0;34m)\u001b[0m\u001b[0;34m:\u001b[0m\u001b[0;34m\u001b[0m\u001b[0;34m\u001b[0m\u001b[0m\n",
      "\u001b[0;31mAttributeError\u001b[0m: 'Grad' object has no attribute '_cpp_object'"
     ]
    }
   ],
   "source": [
    "# user setting\n",
    "x_test = 0.55\n",
    "y_test = 0.5\n",
    "\n",
    "# reference posterior\n",
    "alpha_test = np.array([[0.8,0.2], [x_test, y_test], [0.2, 0.6]])\n",
    "posterior_ref = inversion.compute_posterior(alpha=alpha_test)\n",
    "\n",
    "util_ref = np.zeros(4)\n",
    "print(\"Evaluating utility at reference\")\n",
    "util_ref[0] = utility.eval_utility(posterior_ref, mode=\"A\")\n",
    "util_ref[1] = utility.eval_utility(posterior_ref, mode=\"D\")\n",
    "util_ref[2] = utility.eval_utility(posterior_ref, mode=\"D-inverse\")\n",
    "util_ref[3] = utility.eval_utility(posterior_ref, mode=\"E\")\n",
    "\n",
    "print(\"Evaluating derivatives at reference\")\n",
    "tStart_sub = time.time()\n",
    "der_ref_A = utility.d_utility_d_position(posterior_ref, mode=\"A\")[[1,4]]\n",
    "der_ref_D = utility.d_utility_d_position(posterior_ref, mode=\"D\")[[1,4]]\n",
    "der_ref_Dinv = utility.d_utility_d_position(posterior_ref, mode=\"D-inverse\")[[1,4]]\n",
    "print(\"mean time for taking derivativies: \", (time.time()-tStart_sub)/3, \" s.\")\n",
    "## done with the important part\n",
    "\n",
    "print(\"Starting to compute 1D plot points\")\n",
    "util_test = np.zeros((4, 2, n_test_2d+1))\n",
    "for i in range(n_test_2d+1):\n",
    "    #print(\"iteration {} / {}\".format(i+1, n_test_2d+1))\n",
    "    \n",
    "    if i < n_test_2d:\n",
    "        # vec_speed has one entry less (to avoid accidentally transposing the results)\n",
    "        \n",
    "        alpha[1, 0] = xvals[i]\n",
    "        alpha[1, 1] = alpha_test[1, 1]\n",
    "        \n",
    "        posterior = inversion.compute_posterior(alpha=alpha)\n",
    "\n",
    "        util_test[0, 0, i] = utility.eval_utility(posterior, mode=\"A\")\n",
    "        util_test[1, 0, i] = utility.eval_utility(posterior, mode=\"D\")\n",
    "        util_test[2, 0, i] = utility.eval_utility(posterior, mode=\"D-inverse\")\n",
    "        util_test[3, 0, i] = utility.eval_utility(posterior, mode=\"E\")\n",
    "        \n",
    "    alpha[1, 0] = alpha_test[1, 0]\n",
    "    alpha[1, 1] = yvals[i]\n",
    "    posterior = inversion.compute_posterior(alpha=alpha)\n",
    "\n",
    "    util_test[0, 1, i] = utility.eval_utility(posterior, mode=\"A\")\n",
    "    util_test[1, 1, i] = utility.eval_utility(posterior, mode=\"D\")\n",
    "    util_test[2, 1, i] = utility.eval_utility(posterior, mode=\"D-inverse\")\n",
    "    util_test[3, 0, i] = utility.eval_utility(posterior, mode=\"E\")"
   ]
  },
  {
   "cell_type": "code",
   "execution_count": null,
   "id": "ee3bfeb4",
   "metadata": {},
   "outputs": [],
   "source": [
    "fig, axs = plt.subplots(1, 3, figsize=(15, 5))\n",
    "norm = la.norm(der_ref_A)\n",
    "scale = 0.1/norm\n",
    "\n",
    "axs[0].pcolormesh(xvals, yvals, util[0, :, :].T)\n",
    "axs[0].plot([xvals[0], xvals[-1]], [y_test, y_test], color=\"r\", marker=None)\n",
    "axs[0].plot([x_test, x_test], [yvals[0], yvals[-1]], color=\"r\", marker=None)\n",
    "axs[0].plot([x_test, x_test - 0.5 * scale * der_ref_A[0]], \n",
    "            [y_test, y_test - 0.5 * scale * der_ref_A[1]], \n",
    "            color = \"w\", marker = None)\n",
    "axs[0].set_xlabel(\"x position\")\n",
    "axs[0].set_ylabel(\"y position\")\n",
    "axs[0].set_xlim([np.min(xvals), np.max(xvals)])\n",
    "axs[0].set_ylim([np.min(yvals), np.max(yvals)])\n",
    "axs[0].set_title(\"A-OED\")\n",
    "\n",
    "axs[1].plot(xvals, util_test[0, 0, :-1])\n",
    "axs[1].plot([x_test], util_ref[0], marker=\"x\", markersize=8, color=\"r\")\n",
    "axs[1].plot([x_test, x_test + scale], \n",
    "            [util_ref[0], util_ref[0]+scale*der_ref_A[0]], \n",
    "            marker=\"\", markersize=8, color=\"r\")\n",
    "axs[1].set_xlabel(\"x position\")\n",
    "\n",
    "axs[2].plot(yvals, util_test[0, 1, :])\n",
    "axs[2].plot([y_test], util_ref[0], marker=\"x\", markersize=8, color=\"r\")\n",
    "axs[2].plot([y_test, y_test + scale], \n",
    "            [util_ref[0], util_ref[0]+scale*der_ref_A[1]], \n",
    "            marker=\"\", markersize=8, color=\"r\")\n",
    "axs[2].set_xlabel(\"y position\")"
   ]
  },
  {
   "cell_type": "code",
   "execution_count": null,
   "id": "fbdb200f",
   "metadata": {},
   "outputs": [],
   "source": [
    "fig, axs = plt.subplots(1, 3, figsize=(15, 5))\n",
    "norm = la.norm(der_ref_A)\n",
    "scale = 0.1/norm\n",
    "\n",
    "axs[0].pcolormesh(xvals, yvals, util[1, :, :].T)\n",
    "axs[0].plot([xvals[0], xvals[-1]], [y_test, y_test], color=\"r\", marker=None)\n",
    "axs[0].plot([x_test, x_test], [yvals[0], yvals[-1]], color=\"r\", marker=None)\n",
    "axs[0].plot([x_test, x_test - 0.5 * scale * der_ref_D[0]], \n",
    "            [y_test, y_test - 0.5 * scale * der_ref_D[1]], \n",
    "            color = \"w\", marker = None)\n",
    "axs[0].set_xlabel(\"x position\")\n",
    "axs[0].set_ylabel(\"y position\")\n",
    "axs[0].set_xlim([np.min(xvals), np.max(xvals)])\n",
    "axs[0].set_ylim([np.min(yvals), np.max(yvals)])\n",
    "axs[0].set_title(\"D-OED\")\n",
    "\n",
    "axs[1].plot(xvals, util_test[1, 0, :-1])\n",
    "axs[1].plot([x_test], util_ref[1], marker=\"x\", markersize=8, color=\"r\")\n",
    "axs[1].plot([x_test, x_test + scale], \n",
    "            [util_ref[1], util_ref[1]+scale*der_ref_D[0]], \n",
    "            marker=\"\", markersize=8, color=\"r\")\n",
    "axs[1].set_xlabel(\"x position\")\n",
    "\n",
    "axs[2].plot(yvals, util_test[1, 1, :])\n",
    "axs[2].plot([y_test], util_ref[1], marker=\"x\", markersize=8, color=\"r\")\n",
    "axs[2].plot([y_test, y_test + scale], \n",
    "            [util_ref[1], util_ref[1]+scale*der_ref_D[1]], \n",
    "            marker=\"\", markersize=8, color=\"r\")\n",
    "axs[2].set_xlabel(\"y position\")"
   ]
  },
  {
   "cell_type": "markdown",
   "id": "a872ab88",
   "metadata": {},
   "source": [
    "**Note on `dt`:**\n",
    "The behavior of the objective function changes a lot for different `dt`. That's because we are integrating here only over 3 time steps, so changing `dt` means we change over which time frame we measure and hence how much weight to even give to this data. When we have a fixed time frame s.t. decreasing `dt` leads to more individual measurements, this behavior should disappear."
   ]
  },
  {
   "cell_type": "markdown",
   "id": "fe8ce2a3",
   "metadata": {},
   "source": [
    "Finite difference approximation"
   ]
  },
  {
   "cell_type": "code",
   "execution_count": null,
   "id": "e6777b96",
   "metadata": {},
   "outputs": [],
   "source": [
    "h = 0.00001\n",
    "der_A_FD = np.zeros(2)\n",
    "der_D_FD = np.zeros(2)\n",
    "\n",
    "# x-direction\n",
    "alpha_test = np.array([[0.8,0.2], [x_test + h, y_test], [0.2, 0.6]])\n",
    "posterior = inversion.compute_posterior(alpha=alpha_test)\n",
    "\n",
    "der_A_FD[0] = (utility.eval_utility(posterior, mode=\"A\") - util_ref[0]) / h\n",
    "der_D_FD[0] = (utility.eval_utility(posterior, mode=\"D\") - util_ref[1]) / h\n",
    "\n",
    "# y-direction\n",
    "alpha_test = np.array([[0.8,0.2], [x_test, y_test+h], [0.2, 0.6]])\n",
    "posterior = inversion.compute_posterior(alpha=alpha_test)\n",
    "\n",
    "der_A_FD[1] = (utility.eval_utility(posterior, mode=\"A\") - util_ref[0]) / h\n",
    "der_D_FD[1] = (utility.eval_utility(posterior, mode=\"D\") - util_ref[1]) / h"
   ]
  },
  {
   "cell_type": "code",
   "execution_count": null,
   "id": "73bdddff",
   "metadata": {},
   "outputs": [],
   "source": [
    "der_ref_A\n",
    "# array([-2.41956053,  2.56494079])  # for meshDim = 100"
   ]
  },
  {
   "cell_type": "code",
   "execution_count": null,
   "id": "16c8fc9c",
   "metadata": {},
   "outputs": [],
   "source": [
    "der_A_FD\n",
    "# array([-2.53339374,  2.29403126])  # for meshDim = 100, h = 0.00001"
   ]
  },
  {
   "cell_type": "code",
   "execution_count": null,
   "id": "35ef77f6",
   "metadata": {},
   "outputs": [],
   "source": [
    "der_ref_D\n",
    "# array([-2.18196022,  2.29295302])  # for meshDim = 100"
   ]
  },
  {
   "cell_type": "code",
   "execution_count": null,
   "id": "620ad9bf",
   "metadata": {},
   "outputs": [],
   "source": [
    "der_D_FD\n",
    "# array([-2.27792866,  2.06066632])  # for meshDim = 100, h = 0.00001"
   ]
  },
  {
   "cell_type": "markdown",
   "id": "2684868f",
   "metadata": {},
   "source": [
    "## Convergence"
   ]
  },
  {
   "cell_type": "markdown",
   "id": "825d4692",
   "metadata": {},
   "source": [
    "The question has come up how the gradient converges w.r.t. the FE mesh. "
   ]
  },
  {
   "cell_type": "code",
   "execution_count": null,
   "id": "166783a7",
   "metadata": {},
   "outputs": [],
   "source": [
    "# meshDims = np.array([2, 4, 8, 16, 32, 64])  # NOTE: Thomas: I was not able to get a meshDim of 2 to work for my FEniCS setup\n",
    "meshDims = np.array([4, 8, 16, 32, 64])\n",
    "meshSize = 1/meshDims\n",
    "util_evals = np.zeros((meshDims.shape[0], 4))\n",
    "derivatives_A = np.zeros((meshDims.shape[0], 2))\n",
    "derivatives_D = np.zeros((meshDims.shape[0], 2))\n",
    "derivatives_Dinv = np.zeros((meshDims.shape[0], 2))\n",
    "\n",
    "# reference posterior\n",
    "x_test = 0.55\n",
    "y_test = 0.5\n",
    "alpha_test = np.array([[0.8,0.2], [x_test, y_test], [0.2, 0.6]])\n",
    "\n",
    "\n",
    "for i, meshDim_iter in enumerate(meshDims):\n",
    "    print(\"iteration {}/{}\".format(i+1, meshDims.shape[0]))\n",
    "\n",
    "    fom = FOM(meshDim = meshDims[i], centers=centers, polyDim = 5, mesh_shape = None)\n",
    "    state = fom.solve(parameter=para_true)\n",
    "    fom.set_prior(prior_mean=prior_mean, prior_covar=prior_covar)\n",
    "\n",
    "    # drone setup\n",
    "    navigation = NavigationABC()\n",
    "    detector = DetectorPointwise(fom)\n",
    "    drone = Drone(detector=detector, navigation=navigation)\n",
    "\n",
    "    # define inverse problem\n",
    "    inversion = InverseProblem(fom, drone)\n",
    "\n",
    "    # compute the states for the parameter basis\n",
    "    tStart = time.time()\n",
    "    inversion.compute_states(np.eye(n_para))\n",
    "    print(\"State solve time ({} parameters): {} s\".format(n_para, time.time()-tStart))\n",
    "\n",
    "    # initialize object for computing the utility\n",
    "    utility = OEDUtility(inversion)\n",
    "    \n",
    "    # compute posterior for the flight parameter alpha\n",
    "    posterior_ref = inversion.compute_posterior(alpha=alpha_test)\n",
    "    \n",
    "    # compute utility function\n",
    "    util_evals[i, 0] = utility.eval_utility(posterior_ref, mode=\"A\")\n",
    "    util_evals[i, 1] = utility.eval_utility(posterior_ref, mode=\"D\")\n",
    "    util_evals[i, 2] = utility.eval_utility(posterior_ref, mode=\"D-inverse\")\n",
    "    util_evals[i, 3] = utility.eval_utility(posterior_ref, mode=\"E\")\n",
    "    \n",
    "    # compute derivative\n",
    "    derivatives_A[i, :] = utility.d_utility_d_position(posterior_ref, mode=\"A\")[[1,4]]\n",
    "    derivatives_D[i, :] = utility.d_utility_d_position(posterior_ref, mode=\"D\")[[1,4]]\n",
    "    derivatives_Dinv[i, :] = utility.d_utility_d_position(posterior_ref, mode=\"D-inverse\")[[1,4]]"
   ]
  },
  {
   "cell_type": "code",
   "execution_count": null,
   "id": "219898e9",
   "metadata": {},
   "outputs": [],
   "source": [
    "fig, axs = plt.subplots(1, 2, figsize=(15, 6), sharey = True)\n",
    "\n",
    "axs[0].loglog(meshSize[:-1], np.abs(util_evals[:-1, 0]-util_evals[1:, 0]), marker = \"x\", label = \"A\")\n",
    "axs[0].loglog(meshSize[:-1], np.abs(util_evals[:-1, 1]-util_evals[1:, 1]), marker = \"x\", label = \"D\")\n",
    "# axs[0].loglog(meshSize[:-1], np.abs(util_evals[:-1, 3]-util_evals[1:, 3]), marker = \"x\", label = \"E\")\n",
    "\n",
    "# axs[1].loglog(meshSize[:-1], np.abs(derivatives_A[:-1, 0]-derivatives_A[1:, 0]), marker = \"x\", label = \"A, x-direction\")\n",
    "# axs[1].loglog(meshSize[:-1], np.abs(derivatives_A[:-1, 1]-derivatives_A[1:, 1]), marker = \"x\", label = \"A, y-direction\")\n",
    "axs[1].loglog(meshSize[:-1], la.norm(derivatives_A[:-1, :]-derivatives_A[1:, :], axis=1), marker=\"x\", label=\"A\")\n",
    "axs[1].loglog(meshSize[:-1], la.norm(derivatives_D[:-1, :]-derivatives_D[1:, :], axis=1), marker=\"x\", label=\"D\")\n",
    "\n",
    "axs[0].set_title(\"utility function\")\n",
    "axs[0].set_xlabel(\"mesh size h\")\n",
    "axs[0].set_ylabel(\"error |util(h)-util(h/2)|\")\n",
    "axs[0].legend()\n",
    "axs[0].grid(True)\n",
    "\n",
    "axs[1].set_title(\"gradient\")\n",
    "axs[1].legend()\n",
    "axs[1].set_xlabel(\"mesh size h\")\n",
    "axs[1].set_ylabel(\"error ||grad(util(h))-grad(util(h/2))||\")\n",
    "axs[1].grid(True)"
   ]
  },
  {
   "cell_type": "markdown",
   "id": "b7c652c5",
   "metadata": {},
   "source": [
    "## The End."
   ]
  },
  {
   "cell_type": "code",
   "execution_count": null,
   "id": "d2b45c8a",
   "metadata": {},
   "outputs": [],
   "source": [
    "runtime_notebook = time.time()-tStart_notebook\n",
    "print(\"Runtime of this notebook: {} min\".format(runtime_notebook / 60))"
   ]
  },
  {
   "cell_type": "code",
   "execution_count": null,
   "id": "88e15179",
   "metadata": {},
   "outputs": [],
   "source": []
  }
 ],
 "metadata": {
  "kernelspec": {
   "display_name": "Python 3 (ipykernel)",
   "language": "python",
   "name": "python3"
  },
  "language_info": {
   "codemirror_mode": {
    "name": "ipython",
    "version": 3
   },
   "file_extension": ".py",
   "mimetype": "text/x-python",
   "name": "python",
   "nbconvert_exporter": "python",
   "pygments_lexer": "ipython3",
   "version": "3.10.0"
  }
 },
 "nbformat": 4,
 "nbformat_minor": 5
}
