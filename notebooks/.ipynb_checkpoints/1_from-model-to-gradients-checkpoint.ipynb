{
 "cells": [
  {
   "cell_type": "markdown",
   "id": "74e55b0b",
   "metadata": {},
   "source": [
    "# From model to utility-function-gradient\n",
    "\n",
    "In this notebook we follow the path from a user-provided test problem (steady state advection diffusion equation), over how measurements are taken along a path characterized by flight path parameters `alpha`, to the utility function and its gradient. The main purpose of this notebook is to check that\n",
    "1. after changing the source class structure, everything still works\n",
    "2. the gradient computation still works after its code is put from its model specific form into the general source code\n",
    "3. show how to use the main source functions for use in the `Optimization` class"
   ]
  },
  {
   "cell_type": "markdown",
   "id": "bb32d2cc",
   "metadata": {},
   "source": [
    "## Imports"
   ]
  },
  {
   "cell_type": "code",
   "execution_count": 1,
   "id": "d477167c",
   "metadata": {},
   "outputs": [
    {
     "ename": "ModuleNotFoundError",
     "evalue": "No module named 'myDrone'",
     "output_type": "error",
     "traceback": [
      "\u001b[0;31m---------------------------------------------------------------------------\u001b[0m",
      "\u001b[0;31mModuleNotFoundError\u001b[0m                       Traceback (most recent call last)",
      "\u001b[0;32m/var/folders/_k/q9sdsmfx2j35cmp3z9tn84km0000gp/T/ipykernel_1757/3668247485.py\u001b[0m in \u001b[0;36m<module>\u001b[0;34m\u001b[0m\n\u001b[1;32m      9\u001b[0m \u001b[0;32mfrom\u001b[0m \u001b[0mInverseProblem\u001b[0m \u001b[0;32mimport\u001b[0m \u001b[0mInverseProblem\u001b[0m\u001b[0;34m\u001b[0m\u001b[0;34m\u001b[0m\u001b[0m\n\u001b[1;32m     10\u001b[0m \u001b[0;32mfrom\u001b[0m \u001b[0mFOM_stationary\u001b[0m \u001b[0;32mimport\u001b[0m \u001b[0mFOM_stationary\u001b[0m \u001b[0;32mas\u001b[0m \u001b[0mFOM\u001b[0m\u001b[0;34m\u001b[0m\u001b[0;34m\u001b[0m\u001b[0m\n\u001b[0;32m---> 11\u001b[0;31m \u001b[0;32mfrom\u001b[0m \u001b[0mMyDronePointEval\u001b[0m \u001b[0;32mimport\u001b[0m \u001b[0mMyDronePointEval\u001b[0m \u001b[0;32mas\u001b[0m \u001b[0mDrone\u001b[0m\u001b[0;34m\u001b[0m\u001b[0;34m\u001b[0m\u001b[0m\n\u001b[0m\u001b[1;32m     12\u001b[0m \u001b[0;32mfrom\u001b[0m \u001b[0mOEDUtility\u001b[0m \u001b[0;32mimport\u001b[0m \u001b[0mOEDUtility\u001b[0m\u001b[0;34m\u001b[0m\u001b[0;34m\u001b[0m\u001b[0m\n\u001b[1;32m     13\u001b[0m \u001b[0;34m\u001b[0m\u001b[0m\n",
      "\u001b[0;32m~/git/m2dtIceSheet/notebooks/../models/AdvectionDiffusion_FEniCS/MyDronePointEval.py\u001b[0m in \u001b[0;36m<module>\u001b[0;34m\u001b[0m\n\u001b[1;32m      1\u001b[0m \u001b[0;32mimport\u001b[0m \u001b[0mnumpy\u001b[0m \u001b[0;32mas\u001b[0m \u001b[0mnp\u001b[0m\u001b[0;34m\u001b[0m\u001b[0;34m\u001b[0m\u001b[0m\n\u001b[1;32m      2\u001b[0m \u001b[0;34m\u001b[0m\u001b[0m\n\u001b[0;32m----> 3\u001b[0;31m \u001b[0;32mfrom\u001b[0m \u001b[0mmyDrone\u001b[0m \u001b[0;32mimport\u001b[0m \u001b[0mmyDrone\u001b[0m\u001b[0;34m\u001b[0m\u001b[0;34m\u001b[0m\u001b[0m\n\u001b[0m\u001b[1;32m      4\u001b[0m \u001b[0;34m\u001b[0m\u001b[0m\n\u001b[1;32m      5\u001b[0m \u001b[0;32mclass\u001b[0m \u001b[0mMyDronePointEval\u001b[0m\u001b[0;34m(\u001b[0m\u001b[0mmyDrone\u001b[0m\u001b[0;34m)\u001b[0m\u001b[0;34m:\u001b[0m\u001b[0;34m\u001b[0m\u001b[0;34m\u001b[0m\u001b[0m\n",
      "\u001b[0;31mModuleNotFoundError\u001b[0m: No module named 'myDrone'"
     ]
    }
   ],
   "source": [
    "import sys\n",
    "sys.path.insert(0, \"../source/\")\n",
    "sys.path.insert(0, \"../models/AdvectionDiffusion_FEniCS\")\n",
    "\n",
    "import numpy as np\n",
    "import matplotlib.pyplot as plt\n",
    "import scipy.linalg as la\n",
    "\n",
    "from InverseProblem import InverseProblem\n",
    "from FOM_stationary import FOM_stationary as FOM\n",
    "from MyDronePointEval import MyDronePointEval as Drone\n",
    "from OEDUtility import OEDUtility\n",
    "\n",
    "import time\n",
    "tStart_notebook = time.time()"
   ]
  },
  {
   "cell_type": "markdown",
   "id": "5d4c004b",
   "metadata": {},
   "source": [
    "## User settings"
   ]
  },
  {
   "cell_type": "code",
   "execution_count": null,
   "id": "803747f5",
   "metadata": {},
   "outputs": [],
   "source": [
    "n_para = 5\n",
    "var_prior = 1 # set to a high value (1e+6) to test convergence in noise-free situations\n",
    "\n",
    "n_test = 100 # resolution for 1D plots\n",
    "n_test_2d = 60 # resolution for 2D plots (50: ~1 min runtime for dt = 0.01)"
   ]
  },
  {
   "cell_type": "markdown",
   "id": "997ce262",
   "metadata": {},
   "source": [
    "## Full-order model setup"
   ]
  },
  {
   "cell_type": "markdown",
   "id": "1d060999",
   "metadata": {},
   "source": [
    "First we initialize the full-order model. The model is user-specific, but we have imported it here under the name `FOM` such that we can switch out models easily by changing the import statement only (as long as there are no model-specific settings we also need to make)."
   ]
  },
  {
   "cell_type": "code",
   "execution_count": null,
   "id": "d088e6ea",
   "metadata": {},
   "outputs": [],
   "source": [
    "tStart = time.time()\n",
    "\n",
    "fom = FOM()\n",
    "\n",
    "print(\"Runtime of this block: {} s\".format(time.time()-tStart))"
   ]
  },
  {
   "cell_type": "markdown",
   "id": "838d2e78",
   "metadata": {},
   "source": [
    "**Note:** I'm not sure why the initialization of the model is taking so long, it didn't used to. I have to double-check what's happening."
   ]
  },
  {
   "cell_type": "markdown",
   "id": "0ef9cf20",
   "metadata": {},
   "source": [
    "For a given parameter, we can solve the model with a call to `solve`. `solve` is a call any `FullOrderModel` subclass has to have."
   ]
  },
  {
   "cell_type": "code",
   "execution_count": null,
   "id": "d117c7b1",
   "metadata": {},
   "outputs": [],
   "source": [
    "para_true = np.ones((n_para,))\n",
    "state = fom.solve(parameter=para_true)"
   ]
  },
  {
   "cell_type": "markdown",
   "id": "3eab4017",
   "metadata": {},
   "source": [
    "In contrast, we don't require `FullOrderModel` to have a plot function. However, since it's useful to look at the state and we have a plot function for our example model, it doesn't hurt to take a look:"
   ]
  },
  {
   "cell_type": "code",
   "execution_count": null,
   "id": "e122f3ac",
   "metadata": {},
   "outputs": [],
   "source": [
    "fom.plot(state)"
   ]
  },
  {
   "cell_type": "markdown",
   "id": "d9534d9d",
   "metadata": {},
   "source": [
    "By the way, the output of `fom.solve` is a `State`-object. Using a `State` object makes it easier for us to pass information around. Only the full-order model and the drone need to know how to interact with the state, and all of those are user-defined, so the `State` class makes it easier for the user to keep all the information related to a specific model solve.\n",
    "\n",
    "**TODO:** One the same note, we should really introduce a `Flightpath` object too to keep track of how `alpha`, its positions, the chosen timediscretization, and the derivatives are connected. "
   ]
  },
  {
   "cell_type": "markdown",
   "id": "0ba6afd6",
   "metadata": {},
   "source": [
    "## Prior"
   ]
  },
  {
   "cell_type": "markdown",
   "id": "e3aa60d6",
   "metadata": {},
   "source": [
    "In our discussion we said we wanted the prior to be a part of the `FullOrderModel` class. I'm not entirely sure I like that, I think one could make an argument for keeping it separate, in particular once we go into parameter space reduction. For now it's part of it though, so stop whining."
   ]
  },
  {
   "cell_type": "markdown",
   "id": "6cfa35fa",
   "metadata": {},
   "source": [
    "First, we need to specify the prior. It's assumed to be a Gaussian, which is uniquely specified by its mean and covariance matrix. For our example here we set the prior to be iid, centered around 0."
   ]
  },
  {
   "cell_type": "code",
   "execution_count": null,
   "id": "ed0bbd88",
   "metadata": {},
   "outputs": [],
   "source": [
    "prior_mean = np.zeros((n_para,))\n",
    "prior_covar = var_prior*np.eye(n_para)\n",
    "\n",
    "fom.set_prior(prior_mean=prior_mean, prior_covar=prior_covar)"
   ]
  },
  {
   "cell_type": "markdown",
   "id": "01b85566",
   "metadata": {},
   "source": [
    "We can sample the prior by calling `fom.sample`, though for our OED problem we won't need this until we go into parameter space reduction:"
   ]
  },
  {
   "cell_type": "code",
   "execution_count": null,
   "id": "24101927",
   "metadata": {},
   "outputs": [],
   "source": [
    "fom.sample(n_samples = 2)"
   ]
  },
  {
   "cell_type": "markdown",
   "id": "b412e44e",
   "metadata": {},
   "source": [
    "## Drone"
   ]
  },
  {
   "cell_type": "markdown",
   "id": "9cb1f92b",
   "metadata": {},
   "source": [
    "The drone is also user-defined, for two main reasons:\n",
    "- it needs to interact with the state, which depends on the full-order model, and hence on the FE solver (or whichever discretization is used). We can therefore not specifiy a uniform way to interact with the state\n",
    "- the parameterization of the flight path is model dependent\n",
    "\n",
    "Similar to `FOM` above, we have already imported the user-defined version of `Drone`."
   ]
  },
  {
   "cell_type": "code",
   "execution_count": null,
   "id": "595779dd",
   "metadata": {},
   "outputs": [],
   "source": [
    "drone = Drone(fom)"
   ]
  },
  {
   "cell_type": "markdown",
   "id": "6043b7fd",
   "metadata": {},
   "source": [
    "The argument `eval_mode` is specific to our model problem since we want to compare and test out different ways of measurements. It can be expected that the user only has a single one in mind. For us, the options we had implemented are: \"point-eval\", \"uniform\", \"gaussian, truncated\". However, since I want to get home at some point, I'm only copying over \"point-eval\" right now, I'll double-check the others another time.\n",
    "\n",
    "**TODO:** other measurement modes (gaussian, etc.)"
   ]
  },
  {
   "cell_type": "markdown",
   "id": "5e931256",
   "metadata": {},
   "source": [
    "The flightpath is parameterized using the \"control\" `alpha`. For our example here, `alpha = [radius, speed]`. Any `Drone` object has to have the function `get_trajectory` which returns the flight path for a given flight path parameterization."
   ]
  },
  {
   "cell_type": "code",
   "execution_count": null,
   "id": "f2669f4e",
   "metadata": {},
   "outputs": [],
   "source": [
    "alpha = np.array([0.25, 0.2])\n",
    "flightpath, grid_t_drone = drone.get_trajectory(alpha=alpha)"
   ]
  },
  {
   "cell_type": "markdown",
   "id": "10ee003a",
   "metadata": {},
   "source": [
    "For our case here we can easily plot the flight path:"
   ]
  },
  {
   "cell_type": "code",
   "execution_count": null,
   "id": "4719de47",
   "metadata": {},
   "outputs": [],
   "source": [
    "fom.plot(state)\n",
    "plt.plot(flightpath[:, 0], flightpath[:, 1], color=\"r\")"
   ]
  },
  {
   "cell_type": "markdown",
   "id": "17aef369",
   "metadata": {},
   "source": [
    "Another function every `Drone` subclass has to have implemented is `measure`:"
   ]
  },
  {
   "cell_type": "code",
   "execution_count": null,
   "id": "383adce0",
   "metadata": {},
   "outputs": [],
   "source": [
    "measurements = drone.measure(state=state, flightpath=flightpath, grid_t=grid_t_drone)"
   ]
  },
  {
   "cell_type": "code",
   "execution_count": null,
   "id": "354d0071",
   "metadata": {},
   "outputs": [],
   "source": [
    "fig, ax = plt.subplots(1,1)\n",
    "ax.plot(grid_t_drone, measurements)\n",
    "ax.set_xlabel(\"time (drone is flying)\")\n",
    "ax.set_ylabel(\"measurement\")\n",
    "ax.set_title(\"point-wise measurement along flightpath\")"
   ]
  },
  {
   "cell_type": "markdown",
   "id": "26abea64",
   "metadata": {},
   "source": [
    "## Inverse Problem"
   ]
  },
  {
   "cell_type": "markdown",
   "id": "04d322b8",
   "metadata": {},
   "source": [
    "We now come to the classes that are no longer user-dependent. The first one is `InverseProblem`. It should function regardless of what the forward model is.\n",
    "\n",
    "`InverseProblem` needs to know the forward model, especially since it contains the prior currently, and the drone. `InverseProblem` is the class that generates the posterior distribution for a given flightpath as one of its outputs, therefore it doesn't get a fixed flight path in its initialization"
   ]
  },
  {
   "cell_type": "code",
   "execution_count": null,
   "id": "b92f14a8",
   "metadata": {},
   "outputs": [],
   "source": [
    "inversion = InverseProblem(fom, drone)"
   ]
  },
  {
   "cell_type": "markdown",
   "id": "5188a01f",
   "metadata": {},
   "source": [
    "We precompute the states for a linear combination of parameter basis vectors. For now we use the unit basis, we'll take a closer look at other bases later in the context of parameter space reduction:"
   ]
  },
  {
   "cell_type": "code",
   "execution_count": null,
   "id": "32f356de",
   "metadata": {},
   "outputs": [],
   "source": [
    "tStart = time.time()\n",
    "inversion.compute_states(np.eye(n_para))\n",
    "print(\"State solve time ({} parameters): {} s\".format(n_para, time.time()-tStart))"
   ]
  },
  {
   "cell_type": "markdown",
   "id": "8adc989a",
   "metadata": {},
   "source": [
    "For curiosity and mental health, let's take a look at the states we've gotten for this basis:"
   ]
  },
  {
   "cell_type": "code",
   "execution_count": null,
   "id": "ca6f2c14",
   "metadata": {},
   "outputs": [],
   "source": [
    "i = 4  # change i = 1, ..., n_para\n",
    "\n",
    "fom.plot(inversion.states[i])"
   ]
  },
  {
   "cell_type": "markdown",
   "id": "c8845c22",
   "metadata": {},
   "source": [
    "Beautiful."
   ]
  },
  {
   "cell_type": "markdown",
   "id": "ecf4c822",
   "metadata": {},
   "source": [
    "**TODO:** For optimizing the inverse problem, we'll probably want to oursource some computations to, e.g., `hIppylib`. I have not done that yet. "
   ]
  },
  {
   "cell_type": "markdown",
   "id": "8a0af1a8",
   "metadata": {},
   "source": [
    "## Posterior distribution"
   ]
  },
  {
   "cell_type": "markdown",
   "id": "e5f51e9f",
   "metadata": {},
   "source": [
    "For a given flight path and measurement data along this path, the `InverseProblem` can generate a posterior distribution for us. For each flightpath, we get a different posterior.\n",
    "\n",
    "If no measurement data is provided, we can still create an object that handles the \"posterior\" covariance matrix for us. Note that under our linearity assuptions the posterior covariance matrix is data-independent.\n",
    "\n",
    "**Note:** `InverseProblem` is potentially a misnomer."
   ]
  },
  {
   "cell_type": "code",
   "execution_count": null,
   "id": "38c80781",
   "metadata": {},
   "outputs": [],
   "source": [
    "posterior = inversion.compute_posterior(alpha)"
   ]
  },
  {
   "cell_type": "markdown",
   "id": "244e1d44",
   "metadata": {},
   "source": [
    "If a flightpath was already computed, it should be provides to avoid duplicates and potential changes. The `flightpath` always needs its time discretization (`grid_t_drone` above) in order to be interpreted. So `grid_t` must be passed too in this case.\n",
    "\n",
    "**Note:** This is an example for why it would make sense to introduce a `Flightpath` class that stores all variables together within one object."
   ]
  },
  {
   "cell_type": "code",
   "execution_count": null,
   "id": "3f95c30f",
   "metadata": {},
   "outputs": [],
   "source": [
    "posterior = inversion.compute_posterior(alpha, flightpath=flightpath, grid_t=grid_t_drone)"
   ]
  },
  {
   "cell_type": "markdown",
   "id": "cbef7c9e",
   "metadata": {},
   "source": [
    "Let's take a look at the posterior mean. Remember that our prior was centered around 0, and our \"true\" parameter (the one from which we got the data), has 1's everywhere."
   ]
  },
  {
   "cell_type": "code",
   "execution_count": null,
   "id": "09bfa795",
   "metadata": {},
   "outputs": [],
   "source": [
    "posterior.compute_mean(data=measurements)[0]"
   ]
  },
  {
   "cell_type": "markdown",
   "id": "f739ef2e",
   "metadata": {},
   "source": [
    "With more trust in the data (increase `c_scaling` in `InverseProblem`) or less trust in the prior (increase the scaling factor when defining the prior covariance matrix) we see that we indeed converge to the true solution (we didn't apply any noise and have lots of measurements, so that's expected)."
   ]
  },
  {
   "cell_type": "markdown",
   "id": "d22f3071",
   "metadata": {},
   "source": [
    "We could plot the marginal distribution but for now I think it's ok."
   ]
  },
  {
   "cell_type": "markdown",
   "id": "12fa7042",
   "metadata": {},
   "source": [
    "## OED utility function\n",
    "Time to judge how good our flight path really is. The utility function draws its main information from the inversion.\n",
    "\n",
    "**TODO:** actually, I don't think `OEDUtility` interacts with anything but the posterior at which it is asked to compute something. I don't think it even needs to be a class but just a collection of functions. I'm keeping it anyway since it makes structural sense and might get more functions in the future."
   ]
  },
  {
   "cell_type": "code",
   "execution_count": null,
   "id": "d703d4a7",
   "metadata": {},
   "outputs": [],
   "source": [
    "utility = OEDUtility(inversion)"
   ]
  },
  {
   "cell_type": "markdown",
   "id": "b2bd0228",
   "metadata": {},
   "source": [
    "For any flightpath characterization `alpha`, we can evaluate the utility of its associated flightpath by computing the utility function of the posterior covariance matrix.\n",
    "\n",
    "**Note:** Again an example in favor of introducing a `Flightpath` class. For a given `alpha` we'd instantiate this class, and if needed it would then compute the posterior for us. The way it's implemented currently we pass the posterior around sepparately from `alpha`, which is just super prone to errors."
   ]
  },
  {
   "cell_type": "code",
   "execution_count": null,
   "id": "150a5628",
   "metadata": {},
   "outputs": [],
   "source": [
    "alpha = np.array([0.25, 0.2])\n",
    "posterior = inversion.compute_posterior(alpha)\n",
    "\n",
    "print(\"A-OED:\", utility.eval_utility(posterior, mode=\"A\"))\n",
    "print(\"D-OED:\", utility.eval_utility(posterior, mode=\"D\"))\n",
    "print(\"E-OED:\", utility.eval_utility(posterior, mode=\"E\"))"
   ]
  },
  {
   "cell_type": "markdown",
   "id": "b5a33cb7",
   "metadata": {},
   "source": [
    "For comparison, for the prior we have:"
   ]
  },
  {
   "cell_type": "code",
   "execution_count": null,
   "id": "71d8a144",
   "metadata": {},
   "outputs": [],
   "source": [
    "print(\"A-OED (prior):\", np.trace(fom.prior_covar))\n",
    "print(\"D-OED (prior):\", la.det(fom.prior_covar))\n",
    "print(\"E-OED (prior):\", np.max(la.eigh(fom.prior_covar)[0]))"
   ]
  },
  {
   "cell_type": "markdown",
   "id": "8813ce43",
   "metadata": {},
   "source": [
    "To get a feeling for the three functions, let's plot them over our control domain for alpha. First, we need to figure out the admissible domain. We don't want the drone to collide with the boundary of the domain (restriction on the radius). The speed is - theoretically - unrestricted. However, I'm not entirely sure if, when we repeat locations, this would change our noise covariance or if we can just treat them as if there was no overlap. This is only a question for the stationary problem of course.\n",
    "\n",
    "Until I've figured this out I restrict the maximum speed such that, for minimial radius, the drone will fly at most one circle but not start on a second."
   ]
  },
  {
   "cell_type": "code",
   "execution_count": null,
   "id": "a7a705b9",
   "metadata": {},
   "outputs": [],
   "source": [
    "# admissible domain\n",
    "radius_min = la.norm(np.array([0.75, 0.55])/2 - np.array([0.5, 0.4])) # 0.1767\n",
    "radius_max = la.norm(np.array([0, 0.55])/2) # 0.275\n",
    "# drone may not collide with buildings or leave the domain\n",
    "\n",
    "final_time = grid_t_drone[-1]\n",
    "speed_max = 2 * np.pi * radius_min / final_time\n",
    "# maximum speed is chosen such that go for at most one circle"
   ]
  },
  {
   "cell_type": "markdown",
   "id": "af94eb0b",
   "metadata": {},
   "source": [
    "Theoretically we could re-visit measurement locations. I need to think about what that means for the noise model though.\n",
    "\n",
    "Now we compute the OED-utility values for all combinations of radius and speed:"
   ]
  },
  {
   "cell_type": "code",
   "execution_count": null,
   "id": "f114ba99",
   "metadata": {},
   "outputs": [],
   "source": [
    "tStart = time.time()\n",
    "\n",
    "# grid over admissible domain\n",
    "vec_speed_2d = np.linspace(0.05 * speed_max, speed_max, n_test_2d)\n",
    "vec_radius_2d = np.linspace(radius_min, radius_max, n_test_2d+1)\n",
    "\n",
    "vec_speed = np.linspace(0.05 * speed_max, speed_max, n_test)\n",
    "vec_radius = np.linspace(radius_min, radius_max, n_test+1)\n",
    "# note: I'm not making the vectors the same lengths so I don't accidentally confuse the directions\n",
    "\n",
    "# initialize\n",
    "util = np.zeros((3, n_test_2d+1, n_test_2d))\n",
    "\n",
    "for i in range(n_test_2d+1):\n",
    "    for j in range(n_test_2d):\n",
    "        \n",
    "        alpha = np.array([vec_radius_2d[i], vec_speed_2d[j]])\n",
    "        posterior = inversion.compute_posterior(alpha)\n",
    "        \n",
    "        util[0, i, j] = utility.eval_utility(posterior, mode=\"A\")\n",
    "        util[1, i, j] = utility.eval_utility(posterior, mode=\"D\")\n",
    "        util[2, i, j] = utility.eval_utility(posterior, mode=\"E\")\n",
    "        \n",
    "print(\"Runtime of this block: \", (time.time()-tStart)/60, \"min.\")"
   ]
  },
  {
   "cell_type": "markdown",
   "id": "69012c53",
   "metadata": {},
   "source": [
    "Finally we can plot the OED-utility. A- and D-OED look fairly similar, E-OED has almost a shock-like behavior. This is because if the drone isn't fast enough for its radius, it will never reach the areas of the state that are influenced by the 5th forcing function. In this case, the uncertainty for the 5th parameter entry will not get reduced, i.e., at least one eigenvalue will remain unchanged when updating the prior. Since the prior was chosen iid., the maximum eigenvalue of the posterior is then the same as the prior. The E-OED utility function will remain constant until the combination of speed and radius is able to detect all forcing functions. At this point the uncertainty in all directions improves and the E-OED utility begins to improve."
   ]
  },
  {
   "cell_type": "code",
   "execution_count": null,
   "id": "8fd5392b",
   "metadata": {},
   "outputs": [],
   "source": [
    "fig, axs = plt.subplots(1, 3, figsize=(15,5))\n",
    "\n",
    "for i in range(3):\n",
    "    axs[i].pcolormesh(vec_speed_2d, vec_radius_2d, util[i, :, :])\n",
    "    axs[i].set_xlabel(\"speed\")\n",
    "    axs[i].set_ylabel(\"radius\")\n",
    "    \n",
    "axs[0].set_title(\"A-OED\")\n",
    "axs[1].set_title(\"D-OED\")\n",
    "axs[2].set_title(\"E-OED\")"
   ]
  },
  {
   "cell_type": "markdown",
   "id": "eefedc03",
   "metadata": {},
   "source": [
    "## Derivative of the utility function"
   ]
  },
  {
   "cell_type": "markdown",
   "id": "7b4d2d03",
   "metadata": {},
   "source": [
    "### derivative of the position\n",
    "We take a quick look at the derivatives of the position, because there's an interesting observation to be made (spoiler!). It's also good for double-checking and getting an idea for how the derivatives behave in time."
   ]
  },
  {
   "cell_type": "code",
   "execution_count": null,
   "id": "11fe22e6",
   "metadata": {},
   "outputs": [],
   "source": [
    "der_all = drone.d_position_d_control(alpha, flightpath, grid_t_drone)"
   ]
  },
  {
   "cell_type": "code",
   "execution_count": null,
   "id": "8aafece3",
   "metadata": {},
   "outputs": [],
   "source": [
    "t = 0.2\n",
    "k = np.argmin(np.abs(grid_t_drone - t))\n",
    "der = der_all[:, :, k]\n",
    "pos = flightpath\n",
    "\n",
    "der_radius = der[0, :]\n",
    "der_speed = der[1, :]\n",
    "\n",
    "fom.plot(state)\n",
    "plt.plot(pos[:, 0], pos[:, 1], color=\"r\")\n",
    "plt.plot([pos[k, 0]], [pos[k, 1]], marker = \"o\", color = \"r\")\n",
    "\n",
    "plt.plot([pos[k, 0], pos[k, 0] + 1 * der_speed[0]], [pos[k, 1], pos[k, 1] +1 * der_speed[1]])  # speed\n",
    "plt.plot([pos[k, 0], pos[k, 0] + 0.1 * der_radius[0]], [pos[k, 1], pos[k, 1] + 0.1 * der_radius[1]])  # radius"
   ]
  },
  {
   "cell_type": "markdown",
   "id": "a9672464",
   "metadata": {},
   "source": [
    "Both derivatives are nice and interpretable close to `t=0`. The more time passes, the weirder the derivatives look. That's because the more time passes the more influence do the radius and the speed have on the position, and the derivatives can consequently be expected to become larger and larger (If this is not clear, think about the difference quotient). \n",
    "\n",
    "This observation might be important for us because since we are planning to puzzle the flightpath together from various curves. It might pose a limit on how long we can make each segment of the control in comparison to the time discretization of the drone. I need to think about this some more."
   ]
  },
  {
   "cell_type": "markdown",
   "id": "6aa94102",
   "metadata": {},
   "source": [
    "### Derivatives of the OED-utility function\n",
    "We've arrived at the final stage - the derivatives of the OED-utility function! We get the derivatives from the `OEDUtility` class with the function `eval_utility`. To specify the position `alpha` at which we want to compute the derivative we pass the associated `Posterior` object. This is not quite intuitive. I think it makes more sense - also for avoiding unnecessary re-computations - to have a `Flightpath` object for each control parameter vector `alpha` that contains the flight path positions, time grid, and any attributes computed along the way like the derivatives. \n",
    "\n",
    "Note below that so far we only have the derivatives for A- and D-OED, as well as for \"D-inverse\" which is the determinant of the inverse posterior covariance matrix (instead of \"D\", the determinant of the posterior covariance matrix).\n",
    "\n",
    "Feel free to change the values of `speed_test` and `radius_test` below. They specify where we evaluate the derivative. In addition, we compute the OED-utility function values along `vec_radius x {speed_test}` and `{radius_test} x vec_speed` to visualize whether the derivative is indeed correct."
   ]
  },
  {
   "cell_type": "markdown",
   "id": "b9825899",
   "metadata": {},
   "source": [
    "**Note:**\n",
    "For the optimization routine, the first part of this block (between `##`) is the most important, since it shows the calls the optimization routine will need to make."
   ]
  },
  {
   "cell_type": "code",
   "execution_count": null,
   "id": "a1dc1c51",
   "metadata": {},
   "outputs": [],
   "source": [
    "# user input: Where to evaluate the derivative:\n",
    "speed_test = 0.08 # choose value between 0 and max(vec_speed) \\approx 0.27768018\n",
    "radius_test = 0.22 # choose value between radius_min \\approx 0.1767766952966369 and radius_max \\approx 0.275\n",
    "\n",
    "tStart = time.time()\n",
    "\n",
    "## IMPORTANT FOR THE OPTIMIZATION !!\n",
    "alpha_test = np.array([radius_test, speed_test])\n",
    "posterior_ref = inversion.compute_posterior(alpha_test)\n",
    "\n",
    "util_ref = np.zeros(4)\n",
    "util_ref[0] = utility.eval_utility(posterior_ref, mode=\"A\")\n",
    "util_ref[1] = utility.eval_utility(posterior_ref, mode=\"D\")\n",
    "util_ref[2] = utility.eval_utility(posterior_ref, mode=\"D-inverse\")\n",
    "util_ref[3] = utility.eval_utility(posterior_ref, mode=\"E\")\n",
    "\n",
    "der_ref_A = utility.d_utility_d_control(posterior_ref, mode=\"A\")\n",
    "der_ref_D = utility.d_utility_d_control(posterior_ref, mode=\"D\")\n",
    "der_ref_Dinv = utility.d_utility_d_control(posterior_ref, mode=\"D-inverse\")\n",
    "## done with the important part\n",
    "\n",
    "util_test = np.zeros((4, 2, n_test+1))\n",
    "for i in range(n_test+1):\n",
    "    \n",
    "    if i < n_test:\n",
    "        # vec_speed has one entry less (to avoid accidentally transposing the results)\n",
    "        \n",
    "        alpha = np.array([radius_test, vec_speed[i]])\n",
    "        posterior = inversion.compute_posterior(alpha)\n",
    "\n",
    "        util_test[0, 0, i] = utility.eval_utility(posterior, mode=\"A\")\n",
    "        util_test[1, 0, i] = utility.eval_utility(posterior, mode=\"D\")\n",
    "        util_test[2, 0, i] = utility.eval_utility(posterior, mode=\"D-inverse\")\n",
    "        util_test[3, 0, i] = utility.eval_utility(posterior, mode=\"E\")\n",
    "        \n",
    "    alpha = np.array([vec_radius[i], speed_test])\n",
    "    posterior = inversion.compute_posterior(alpha)\n",
    "\n",
    "    util_test[0, 1, i] = utility.eval_utility(posterior, mode=\"A\")\n",
    "    util_test[1, 1, i] = utility.eval_utility(posterior, mode=\"D\")\n",
    "    util_test[2, 1, i] = utility.eval_utility(posterior, mode=\"D-inverse\")\n",
    "    util_test[3, 0, i] = utility.eval_utility(posterior, mode=\"E\")\n",
    "    \n",
    "print(\"Runtime of this block: \", (time.time()-tStart)/60, \"min.\")"
   ]
  },
  {
   "cell_type": "markdown",
   "id": "24c4c9e9",
   "metadata": {},
   "source": [
    "First the plot for A-OED:"
   ]
  },
  {
   "cell_type": "code",
   "execution_count": null,
   "id": "fc7c50c4",
   "metadata": {},
   "outputs": [],
   "source": [
    "fig, axs = plt.subplots(1, 3, figsize=(15, 5))\n",
    "scale = 0.01\n",
    "norm = la.norm(der_ref_A)\n",
    "\n",
    "axs[0].pcolormesh(vec_speed_2d, vec_radius_2d, util[0, :, :])\n",
    "axs[0].plot([vec_speed_2d[0], vec_speed_2d[-1]], [radius_test, radius_test], color=\"r\", marker=None)\n",
    "axs[0].plot([speed_test, speed_test], [vec_radius_2d[0], vec_radius_2d[-1]], color=\"r\", marker=None)\n",
    "axs[0].plot([speed_test, speed_test - 0.5 * scale * der_ref_A[1]], \n",
    "            [radius_test, radius_test - 0.5 * scale * der_ref_A[0]], \n",
    "            color = \"w\", marker = None)\n",
    "axs[0].set_xlabel(\"speed\")\n",
    "axs[0].set_ylabel(\"radius\")\n",
    "axs[0].set_title(\"A-OED\")\n",
    "\n",
    "axs[1].plot(vec_radius, util_test[0, 1, :])\n",
    "axs[1].plot([radius_test], util_ref[0], marker=\"x\", markersize=8, color=\"r\")\n",
    "axs[1].plot([radius_test, radius_test + scale], \n",
    "            [util_ref[0], util_ref[0]+scale*der_ref_A[0]], \n",
    "            marker=\"\", markersize=8, color=\"r\")\n",
    "axs[1].set_xlabel(\"radius\")\n",
    "\n",
    "axs[2].plot(vec_speed, util_test[0, 0, :-1])\n",
    "axs[2].plot([speed_test], util_ref[0], marker=\"x\", markersize=8, color=\"r\")\n",
    "axs[2].plot([speed_test, speed_test + scale], \n",
    "            [util_ref[0], util_ref[0]+scale*der_ref_A[1]], \n",
    "            marker=\"\", markersize=8, color=\"r\")\n",
    "axs[2].set_xlabel(\"speed\")"
   ]
  },
  {
   "cell_type": "markdown",
   "id": "62a47e56",
   "metadata": {},
   "source": [
    "In the plot on the left, the sign for the gradient is chosen such that it points into the steepest decent direction."
   ]
  },
  {
   "cell_type": "markdown",
   "id": "49cd9bab",
   "metadata": {},
   "source": [
    "Here's the plot for D-OED:"
   ]
  },
  {
   "cell_type": "code",
   "execution_count": null,
   "id": "0f749a57",
   "metadata": {},
   "outputs": [],
   "source": [
    "fig, axs = plt.subplots(1, 3, figsize=(15, 5))\n",
    "scale = 0.01\n",
    "norm = la.norm(der_ref_D)\n",
    "\n",
    "axs[0].pcolormesh(vec_speed_2d, vec_radius_2d, util[1, :, :])\n",
    "axs[0].plot([vec_speed_2d[0], vec_speed_2d[-1]], [radius_test, radius_test], color=\"r\", marker=None)\n",
    "axs[0].plot([speed_test, speed_test], [vec_radius_2d[0], vec_radius_2d[-1]], color=\"r\", marker=None)\n",
    "axs[0].plot([speed_test, speed_test - 0.5 * scale * der_ref_D[1]], \n",
    "            [radius_test, radius_test - 0.5 * scale * der_ref_D[0]], \n",
    "            color = \"w\", marker = None)\n",
    "axs[0].set_xlabel(\"speed\")\n",
    "axs[0].set_ylabel(\"radius\")\n",
    "axs[0].set_title(\"D-OED\")\n",
    "\n",
    "axs[1].plot(vec_radius, util_test[1, 1, :])\n",
    "axs[1].plot([radius_test], util_ref[1], marker=\"x\", markersize=8, color=\"r\")\n",
    "axs[1].plot([radius_test, radius_test + scale], \n",
    "            [util_ref[1], util_ref[1]+scale*der_ref_D[0]], \n",
    "            marker=\"\", markersize=8, color=\"r\")\n",
    "axs[1].set_xlabel(\"radius\")\n",
    "\n",
    "axs[2].plot(vec_speed, util_test[1, 0, :-1])\n",
    "axs[2].plot([speed_test], util_ref[1], marker=\"x\", markersize=8, color=\"r\")\n",
    "axs[2].plot([speed_test, speed_test + scale], \n",
    "            [util_ref[1], util_ref[1]+scale*der_ref_D[1]], \n",
    "            marker=\"\", markersize=8, color=\"r\")\n",
    "axs[2].set_xlabel(\"speed\")"
   ]
  },
  {
   "cell_type": "markdown",
   "id": "c7b72c8a",
   "metadata": {},
   "source": [
    "Instead of minimizing the D-OED criterion, we've also talked about maximizing its inverse, which can be computed more efficiently. In this case the sign for the derivative in the 2D plot was chosen to point into the steepest ascend direction."
   ]
  },
  {
   "cell_type": "code",
   "execution_count": null,
   "id": "8d1bd025",
   "metadata": {},
   "outputs": [],
   "source": [
    "fig, axs = plt.subplots(1, 3, figsize=(15, 5))\n",
    "scale = 0.01\n",
    "norm = la.norm(der_ref_D)\n",
    "\n",
    "axs[0].pcolormesh(vec_speed_2d, vec_radius_2d, 1/util[1, :, :])\n",
    "axs[0].plot([vec_speed_2d[0], vec_speed_2d[-1]], [radius_test, radius_test], color=\"r\", marker=None)\n",
    "axs[0].plot([speed_test, speed_test], [vec_radius_2d[0], vec_radius_2d[-1]], color=\"r\", marker=None)\n",
    "axs[0].plot([speed_test, speed_test + 0.2 * scale * der_ref_Dinv[1]], \n",
    "            [radius_test, radius_test + 0.2 * scale * der_ref_Dinv[0]], \n",
    "            color = \"w\", marker = None)\n",
    "# positive gradient direction because we want to maximize\n",
    "\n",
    "axs[0].set_xlabel(\"speed\")\n",
    "axs[0].set_ylabel(\"radius\")\n",
    "axs[0].set_title(\"D-OED, inverse\")\n",
    "\n",
    "axs[1].plot(vec_radius, util_test[2, 1, :])\n",
    "axs[1].plot([radius_test], util_ref[2], marker=\"x\", markersize=8, color=\"r\")\n",
    "axs[1].plot([radius_test, radius_test + scale], \n",
    "            [util_ref[2], util_ref[2]+scale*der_ref_Dinv[0]], \n",
    "            marker=\"\", markersize=8, color=\"r\")\n",
    "axs[1].set_xlabel(\"radius\")\n",
    "\n",
    "axs[2].plot(vec_speed, util_test[2, 0, :-1])\n",
    "axs[2].plot([speed_test], util_ref[2], marker=\"x\", markersize=8, color=\"r\")\n",
    "axs[2].plot([speed_test, speed_test + scale], \n",
    "            [util_ref[2], util_ref[2]+scale*der_ref_Dinv[1]], \n",
    "            marker=\"\", markersize=8, color=\"r\")\n",
    "axs[2].set_xlabel(\"speed\")"
   ]
  },
  {
   "cell_type": "markdown",
   "id": "58149375",
   "metadata": {},
   "source": [
    "## What's there:\n",
    "- setup of the posterior\n",
    "- utility function evaluation\n",
    "- utility function derivatives for point-wise measurements (A, D, D-inverse OED)\n",
    "\n",
    "I think this should be enough to get started on the optimization routine."
   ]
  },
  {
   "cell_type": "markdown",
   "id": "59d962b9",
   "metadata": {},
   "source": [
    "## What's missing?"
   ]
  },
  {
   "cell_type": "markdown",
   "id": "2ff1879b",
   "metadata": {},
   "source": [
    "- class `Flightpath` to keep all computed values for a given `alpha` together and avoid mix-ups\n",
    "- E-OED derivative\n",
    "- still need to copy definition of non-pointwise measurement functions over\n",
    "- derivatives of convolution type measurements and Weierstrass trick\n",
    "- parameter space reduction\n",
    "- optimization of the code (don't use `la.inv`, make sure not to re-compute different values, get rid of some `for`-loops)"
   ]
  },
  {
   "cell_type": "markdown",
   "id": "4d0f64ca",
   "metadata": {},
   "source": [
    "## The End."
   ]
  },
  {
   "cell_type": "code",
   "execution_count": null,
   "id": "9f9a5741",
   "metadata": {},
   "outputs": [],
   "source": [
    "runtime_notebook = time.time()-tStart_notebook\n",
    "print(\"Runtime of this notebook: {} min\".format(runtime_notebook / 60))"
   ]
  }
 ],
 "metadata": {
  "kernelspec": {
   "display_name": "Python 3 (ipykernel)",
   "language": "python",
   "name": "python3"
  },
  "language_info": {
   "codemirror_mode": {
    "name": "ipython",
    "version": 3
   },
   "file_extension": ".py",
   "mimetype": "text/x-python",
   "name": "python",
   "nbconvert_exporter": "python",
   "pygments_lexer": "ipython3",
   "version": "3.10.0"
  }
 },
 "nbformat": 4,
 "nbformat_minor": 5
}
