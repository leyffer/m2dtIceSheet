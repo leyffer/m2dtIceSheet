{
 "cells": [
  {
   "cell_type": "markdown",
   "id": "cf5e95fb",
   "metadata": {},
   "source": [
    "# Initial experiments for the flight path optimization"
   ]
  },
  {
   "cell_type": "markdown",
   "id": "d87a369b",
   "metadata": {},
   "source": [
    "## Imports"
   ]
  },
  {
   "cell_type": "code",
   "execution_count": 2,
   "id": "51c59a53",
   "metadata": {},
   "outputs": [],
   "source": [
    "import sys\n",
    "sys.path.insert(0, \"../source/\")\n",
    "\n",
    "from FOM_advectiondiffusion import FOM_advectiondiffusion\n",
    "from FOM_advectiondiffusion_steadystate import FOM_advectiondiffusion_steadystate\n",
    "from Drone import Drone\n",
    "from Parameter import Parameter\n",
    "from Brain import Brain\n",
    "\n",
    "import dolfin as dl\n",
    "import matplotlib.pyplot as plt\n",
    "import numpy as np\n",
    "import time\n",
    "import scipy.linalg as la"
   ]
  },
  {
   "cell_type": "code",
   "execution_count": 3,
   "id": "d5b302c8",
   "metadata": {},
   "outputs": [],
   "source": [
    "tStart_notebook = time.time()"
   ]
  },
  {
   "cell_type": "markdown",
   "id": "449edb3e",
   "metadata": {},
   "source": [
    "## global user settings"
   ]
  },
  {
   "cell_type": "code",
   "execution_count": null,
   "id": "c2e64933",
   "metadata": {},
   "outputs": [],
   "source": [
    "meshDim = 50 \n",
    "# meshDim=50 is probably too coarse but for writing the code it should suffice, I'm impatient"
   ]
  },
  {
   "cell_type": "markdown",
   "id": "e34024d9",
   "metadata": {},
   "source": [
    "## model problem"
   ]
  },
  {
   "cell_type": "code",
   "execution_count": null,
   "id": "1cda956c",
   "metadata": {},
   "outputs": [],
   "source": [
    "fom = FOM_advectiondiffusion_steadystate(meshDim=meshDim)\n",
    "fom_transient = FOM_advectiondiffusion(meshDim=meshDim)"
   ]
  },
  {
   "cell_type": "code",
   "execution_count": null,
   "id": "6bddfc10",
   "metadata": {},
   "outputs": [],
   "source": [
    "# how the mesh looks like\n",
    "dl.plot(fom.mesh)"
   ]
  },
  {
   "cell_type": "code",
   "execution_count": null,
   "id": "2e57bea3",
   "metadata": {},
   "outputs": [],
   "source": [
    "# how the velocity field looks like\n",
    "dl.plot(fom.velocity)"
   ]
  },
  {
   "cell_type": "code",
   "execution_count": null,
   "id": "1e100e98",
   "metadata": {},
   "outputs": [],
   "source": [
    "# initial condition\n",
    "dl.plot(fom.m_true, mesh=fom.mesh)"
   ]
  },
  {
   "cell_type": "code",
   "execution_count": null,
   "id": "e84d6e57",
   "metadata": {},
   "outputs": [],
   "source": [
    "# model solve\n",
    "sol_transient, grid_t = fom.implicit_Euler(m_init=fom.m_true, dt=0.1, final_time=10)"
   ]
  },
  {
   "cell_type": "code",
   "execution_count": null,
   "id": "223db0a0",
   "metadata": {},
   "outputs": [],
   "source": [
    "t = 0.8\n",
    "k = np.argmin(np.abs(grid_t - t))\n",
    "dl.plot(sol_transient[k], mesh=fom.mesh)"
   ]
  },
  {
   "cell_type": "markdown",
   "id": "cbafebad",
   "metadata": {},
   "source": [
    "## Steady state"
   ]
  },
  {
   "cell_type": "code",
   "execution_count": null,
   "id": "b8f3bd3d",
   "metadata": {},
   "outputs": [],
   "source": [
    "sol_steadystate = fom.solve_steady()"
   ]
  },
  {
   "cell_type": "code",
   "execution_count": null,
   "id": "6067fa5b",
   "metadata": {},
   "outputs": [],
   "source": [
    "fom.plot(sol_steadystate)"
   ]
  },
  {
   "cell_type": "markdown",
   "id": "03cf094c",
   "metadata": {},
   "source": [
    "## drone flies in a circle"
   ]
  },
  {
   "cell_type": "code",
   "execution_count": null,
   "id": "079eec3e",
   "metadata": {},
   "outputs": [],
   "source": [
    "# set default flying parameters\n",
    "flying_parameters = {\n",
    "                \"radius\" : 0.25,\n",
    "                \"center\" : np.array([0.75/2, 0.55/2]),\n",
    "                \"speed\" : 0.3\n",
    "            }\n",
    "\n",
    "drone = Drone(fom, grid_t=grid_t, flying_parameters=flying_parameters)"
   ]
  },
  {
   "cell_type": "code",
   "execution_count": null,
   "id": "f0a91753",
   "metadata": {},
   "outputs": [],
   "source": [
    "# for playing with different flight path, you can specify them anew when asking for the trajectory\n",
    "flying_parameters_temp = flying_parameters\n",
    "\n",
    "pos, __ = drone.get_trajectory(grid_t=grid_t, flying_parameters=flying_parameters_temp)"
   ]
  },
  {
   "cell_type": "code",
   "execution_count": null,
   "id": "073a2ee4",
   "metadata": {},
   "outputs": [],
   "source": [
    "dl.plot(sol_steadystate, mesh=fom.mesh)\n",
    "plt.plot(pos[:, 0], pos[:, 1], color=\"r\")"
   ]
  },
  {
   "cell_type": "markdown",
   "id": "354e4b40",
   "metadata": {},
   "source": [
    "## Taking measurements"
   ]
  },
  {
   "cell_type": "markdown",
   "id": "09501fe4",
   "metadata": {},
   "source": [
    "### \"convolution\" measurements: truncated Gaussians"
   ]
  },
  {
   "cell_type": "markdown",
   "id": "6a2616b5",
   "metadata": {},
   "source": [
    "The drone flies over the point $y$ but then takes a measurement at a random location $x$ with $\\|x-y\\| \\le \\sigma$, i.e. a close point but not exactly $y$. The distribution for which $x$ is chosen is described by a truncated Gaussian. We can model this measurement statistically as the expectation of the state under this distribution.\n",
    "\n",
    "\\begin{align}\n",
    "\\Phi(x, y) = \\left\\{\n",
    "\\begin{array}{ll}\n",
    "0 & \\text{if } \\|x-y\\| \\le 2\\sigma \\\\\n",
    "C\\exp(-\\frac{1}{2\\sigma^2} \\|x-y\\|^2) & \\text{otherwise}\n",
    "\\end{array}\n",
    "\\right.\n",
    "\\end{align}\n",
    "where $C$ is chosen such that $\\int_{\\Omega} Phi(x, y) dx = 1$ for all $y$. We need the re-scaling such that $\\Phi(\\cdot, y)$ is indeed a probability densition function.\n",
    "\n",
    "We define the measurement centered around a point $y \\in \\Omega$ of a state $u \\in H^1(\\Omega)$ as \n",
    "$$\\ell_y(u) := \\int_{\\Omega} u(x) \\Phi(x, y) dx \n",
    "= \\int_{\\|x-y\\| \\le 2\\sigma} u(x) \\Phi(x, y) dx \n",
    "= \\mathbb{E}_{\\pi_y}[u]\n",
    "\\in \\mathbb{R}$$ \n",
    "where $\\pi_y$ is the probability measure for the probability density function $\\Phi(\\cdot, y)$.\n"
   ]
  },
  {
   "cell_type": "code",
   "execution_count": null,
   "id": "2a6da8da",
   "metadata": {},
   "outputs": [],
   "source": [
    "t = 1.2  # at which time should we take the measurement?\n",
    "k = np.argmin(np.abs(grid_t - t))  # closest time step\n",
    "pos_x, pos_y = pos[k, :]  # center point around which to take the measurement\n",
    "sigma_gaussian = 0.1 #0.025  # standard deviation of gaussian functional\n",
    "# measurement area will be cut off after 2*sigma_weight\n",
    "\n",
    "# (unscaled) density function for normal distribution\n",
    "weight = 'exp(-0.5 * ((x[0]-{})*((x[0]-{})) + (x[1]-{})*(x[1]-{})) / {})'.format(pos_x, pos_x, pos_y, pos_y, sigma_gaussian**2)\n",
    "\n",
    "# cut off after twice the standard deviation (truncated normal)\n",
    "weight_fct = dl.Expression('max({}, {})'.format(-np.exp(-1), weight), degree=1)  # ideally should use higher degree too\n",
    "\n",
    "# re-weight such that the integral is = 1\n",
    "val_integral = dl.assemble(weight_fct*dl.Measure('dx', fom.mesh))\n",
    "weight_fct = weight_fct/val_integral\n",
    "\n",
    "fom.plot(weight_fct)\n",
    "plt.plot([pos_x],[pos_y], marker = 'x') # how the weight function looks like\n",
    "\n",
    "tStart = time.time()\n",
    "val_steadystate = dl.assemble(dl.inner(weight_fct, sol_steadystate) * dl.dx)\n",
    "t_eval_steadystate = time.time()-tStart\n",
    "\n",
    "tStart = time.time()\n",
    "val_transient = dl.assemble(dl.inner(weight_fct, sol_transient[k]) * dl.dx)\n",
    "t_eval_transient = time.time()-tStart\n",
    "\n",
    "print(\"\\n measurement steadystate: \", val_steadystate)\n",
    "print(\" point evaluation:        \", sol_steadystate([pos_x, pos_y]))\n",
    "print(\" compute time:            \", t_eval_steadystate, \" s \\n\")\n",
    "\n",
    "\n",
    "print(\" measurement transient:   \", val_transient)\n",
    "print(\" point evaluation:        \", sol_transient[k]([pos_x, pos_y]))\n",
    "print(\" compute time:            \", t_eval_transient, \" s \\n\")"
   ]
  },
  {
   "cell_type": "markdown",
   "id": "d27008c9",
   "metadata": {},
   "source": [
    "**Note:** Note that we the standard deviation should be smaller here, but at some point the grid size isn't fine enough anymore to accomodate it, so for that reason I'll put `sigma_weight = 0.1` for now such that the measurement area around the drone is a circle with radius 0.2 (twice the standard deviation). The smaller we choose $\\sigma$, the closer the measurement should be to the point evaluation."
   ]
  },
  {
   "cell_type": "markdown",
   "id": "c7a81510",
   "metadata": {},
   "source": [
    "**Note:** the compute time for the steady-state and the transient case should be comparable here. Sometimes I've seen though that the steady-state case takes a lot longer (almost 1 second), specifically when I change something like the position. So probably there's some caching going here. Unfortunately for the flying drone the measurement position is going to be different every time step, so we'll need to calculate with the worse compute time unfortuantely :(\n",
    "\n",
    "Hopefully we can speed up some of these computations, I'm just going for the obvious steps right now, I'm not optimizing the code."
   ]
  },
  {
   "cell_type": "markdown",
   "id": "b1372916",
   "metadata": {},
   "source": [
    "**Note:** Thinking back to my conversation with Don Blankenship about how they measure in Antarctica, I think this model makes sense: He mentioned that for any measurement there exists a point on the ground where this measurement is correct (modulo noise) but that the position of this point is only known within an interval of 8m on the right-left axis of the plane. He also said something about how far the divice measures towards forwards and backwards, but I don't have that information at hand. In any case, using an iid Gaussian is probably not ideal, but a truncated Gaussian makes sense I think."
   ]
  },
  {
   "cell_type": "markdown",
   "id": "3cfc3b57",
   "metadata": {},
   "source": [
    "### \"convolution\" measurements: uniform"
   ]
  },
  {
   "cell_type": "markdown",
   "id": "ff7aa3b7",
   "metadata": {},
   "source": [
    "Another possibility for modelling the measurements is to choose a weighted characteristic function $\\Phi(x,y) = \\|\\Omega_y\\|^{-1} \\mathbb{1}_{\\Omega_y}(x)$ for a measureable domain $\\Omega_y \\subset \\Omega$, $y \\in \\Omega_y$. In this case a measurement \n",
    "$$\\ell_y(u) := \\int_{\\Omega} u(x) \\Phi(x,y) dx = \\frac{1}{\\|\\Omega_y\\|} \\int_{\\Omega_y} u(x) dx$$ \n",
    "is the mean value of a state $u$ over the subdomain $\\Omega$. In the code below I've chosen $\\Omega_y$ as a circle around the point $y$. Well, at least it's a circle when it completely fits into the doamin."
   ]
  },
  {
   "cell_type": "code",
   "execution_count": null,
   "id": "af0b1151",
   "metadata": {},
   "outputs": [],
   "source": [
    "# for comparison, let's use the same setting as before. \n",
    "# the cutoff radius before was 2*sigma_weight, so we could keep the reach of the measurement the same with\n",
    "# radius_uniform = 2 * sigma_gaussian\n",
    "# but for sigma_gaussian = 0.1 that seems ridiculously large\n",
    "radius_uniform = sigma_gaussian\n",
    "\n",
    "## If you want to try out changes faster, comment this code in:\n",
    "# t = 1.2  # at which time should we take the measurement?\n",
    "# k = np.argmin(np.abs(grid_t - t))  # closest time step\n",
    "# pos_x, pos_y = pos[k, :]  # center point around which to take the measurement\n",
    "# radius_uniform = 0.05 # radius around the center\n",
    "\n",
    "\n",
    "class Omega_circle(dl.SubDomain):\n",
    "    \n",
    "    def __init__(self, pos, radius):\n",
    "        super().__init__()\n",
    "        self.center = pos\n",
    "        self.radius = radius\n",
    "    \n",
    "    def inside(self, x, on_boundary):\n",
    "        if la.norm(x - self.center) <= self.radius:\n",
    "            return True\n",
    "        return False\n",
    "        \n",
    "subdomain = Omega_circle(pos = np.array([pos_x, pos_y]), radius = radius_uniform)\n",
    "material = dl.MeshFunction(\"size_t\", fom.mesh, fom.mesh.topology().dim(), 0)\n",
    "subdomain.mark(material, 1)\n",
    "\n",
    "weight_fct = Parameter(material, np.array([0, 1]), degree = 0)\n",
    "\n",
    "# re-weight such that the integral is = 1\n",
    "val_integral = dl.assemble(weight_fct*dl.Measure('dx', fom.mesh))\n",
    "weight_fct = weight_fct/val_integral\n",
    "# we would just divide by (np.pi*radius_uniform**2) here, but if the mesh is not fine enough this will cause issues\n",
    "# (we won't converge towards point evaluation even though that's our theoretical limit since our FE solution is continuous)\n",
    "\n",
    "# how the weight function looks like\n",
    "fom.plot(weight_fct)\n",
    "plt.plot([pos_x],[pos_y], marker = 'x') \n",
    "\n",
    "tStart = time.time()\n",
    "val_steadystate = dl.assemble(dl.inner(weight_fct, sol_steadystate) * dl.dx)\n",
    "t_eval_steadystate = time.time()-tStart\n",
    "\n",
    "tStart = time.time()\n",
    "val_transient = dl.assemble(dl.inner(weight_fct, sol_transient[k]) * dl.dx)\n",
    "t_eval_transient = time.time()-tStart\n",
    "\n",
    "print(\"\\n measurement steadystate: \", val_steadystate)\n",
    "print(\" point evaluation:        \", sol_steadystate([pos_x, pos_y]))\n",
    "print(\" compute time:            \", t_eval_steadystate, \" s \\n\")\n",
    "\n",
    "\n",
    "print(\" measurement transient:   \", val_transient)\n",
    "print(\" point evaluation:        \", sol_transient[k]([pos_x, pos_y]))\n",
    "print(\" compute time:            \", t_eval_transient, \" s \\n\")\n"
   ]
  },
  {
   "cell_type": "markdown",
   "id": "9287bc77",
   "metadata": {},
   "source": [
    "### comparison"
   ]
  },
  {
   "cell_type": "markdown",
   "id": "58e3b1f2",
   "metadata": {},
   "source": [
    "Computing the integrals can sometimes take a bit, so I'm introducing the slicer variable to only measure every so often, i.e. every `slicer`-th time step. This is only because I'm impatient when I run the notebook from the start, outside code development we will measure at every time step."
   ]
  },
  {
   "cell_type": "code",
   "execution_count": null,
   "id": "079299cb",
   "metadata": {},
   "outputs": [],
   "source": [
    "slicer = 1\n",
    "\n",
    "tStart = time.time()\n",
    "\n",
    "d_steadystate_gaussian = drone.measure(pos[::slicer, :], sol_steadystate, mode=\"gaussian\")\n",
    "d_steadystate_pointwise = drone.measure(pos, sol_steadystate, mode=\"point-eval\")\n",
    "d_steadystate_uniform = drone.measure(pos[::slicer, :], sol_steadystate, mode=\"uniform\")\n",
    "\n",
    "print(\"Runtime for half this block: {} min\".format((time.time()-tStart)/60))\n",
    "\n",
    "d_transient_gaussian = drone.measure(pos[::slicer, :], sol_transient[::slicer], mode=\"gaussian\")\n",
    "d_transient_pointwise = drone.measure(pos, sol_transient, mode=\"point-eval\")\n",
    "d_transient_uniform = drone.measure(pos[::slicer, :], sol_transient[::slicer], mode=\"uniform\")\n",
    "\n",
    "print(\"Runtime for this block: {} min\".format((time.time()-tStart)/60))"
   ]
  },
  {
   "cell_type": "code",
   "execution_count": null,
   "id": "7890e93b",
   "metadata": {},
   "outputs": [],
   "source": [
    "fig, axs = plt.subplots(1,2)\n",
    "axs[0].plot(grid_t[::slicer], d_steadystate_gaussian, label=\"gaussian\", linestyle = \"--\")\n",
    "axs[0].plot(grid_t[::slicer], d_steadystate_uniform, label=\"uniform\", linestyle = \"--\")\n",
    "axs[0].plot(grid_t, d_steadystate_pointwise, label=\"pointwise\")\n",
    "\n",
    "axs[0].set_xlabel(\"time\")\n",
    "axs[0].set_ylabel(\"measurement\")\n",
    "axs[0].set_title(\"steady-state\")\n",
    "axs[0].legend()\n",
    "\n",
    "axs[1].plot(grid_t[::slicer], d_transient_gaussian, label=\"gaussian\", linestyle = \"--\")\n",
    "axs[1].plot(grid_t[::slicer], d_transient_uniform, label=\"uniform\", linestyle = \"--\")\n",
    "axs[1].plot(grid_t, d_transient_pointwise, label=\"pointwise\")\n",
    "\n",
    "axs[1].set_xlabel(\"time\")\n",
    "axs[1].set_ylabel(\"measurement\")\n",
    "axs[1].set_title(\"transient\")\n",
    "axs[1].legend()"
   ]
  },
  {
   "cell_type": "markdown",
   "id": "d43a19c1",
   "metadata": {},
   "source": [
    "**note:** The gaussian measurements are further away from the pointwise measurements here because the measurement radius `2*drone.sigma_gaussian` is larger than `drone.radius_uniform`."
   ]
  },
  {
   "cell_type": "markdown",
   "id": "46640a73",
   "metadata": {},
   "source": [
    "## Parameter-to-observable map"
   ]
  },
  {
   "cell_type": "markdown",
   "id": "b0d61749",
   "metadata": {},
   "source": [
    "For the drone class I think it should mimick what the drone does in practice: flying and measureing. It doesn't necessarily evaluate probabilities itself or choose the parameters of its flight path. For these tasks I'm introducing a separate class `Brain`. If the drone eventually flies and measures autonomously think of `Brain` as the brain of the drone, if not, then it's the brain of the decisionmaker. "
   ]
  },
  {
   "cell_type": "code",
   "execution_count": null,
   "id": "485a407a",
   "metadata": {},
   "outputs": [],
   "source": [
    "brain = Brain(fom=fom, drone=drone)"
   ]
  },
  {
   "cell_type": "code",
   "execution_count": null,
   "id": "bdc116cc",
   "metadata": {},
   "outputs": [],
   "source": [
    "d_test = brain.apply_para2obs(para=[1], mode=\"point-eval\")\n",
    "print(\"Sanity check: \", np.isclose(d_test,  d_steadystate_pointwise).all())"
   ]
  },
  {
   "cell_type": "markdown",
   "id": "e6ebbea5",
   "metadata": {},
   "source": [
    "**Note:** One reason for why the sanity check might fail is that the drone flight parameters, e.g., speed, might have changed from the defaults in the code above."
   ]
  },
  {
   "cell_type": "markdown",
   "id": "a7372be2",
   "metadata": {},
   "source": [
    "## Noise model"
   ]
  },
  {
   "cell_type": "code",
   "execution_count": null,
   "id": "2eefc369",
   "metadata": {},
   "outputs": [],
   "source": []
  },
  {
   "cell_type": "code",
   "execution_count": null,
   "id": "c6f0797f",
   "metadata": {},
   "outputs": [],
   "source": []
  },
  {
   "cell_type": "code",
   "execution_count": null,
   "id": "f914e3d4",
   "metadata": {},
   "outputs": [],
   "source": []
  },
  {
   "cell_type": "code",
   "execution_count": null,
   "id": "e7cbd0be",
   "metadata": {},
   "outputs": [],
   "source": []
  },
  {
   "cell_type": "code",
   "execution_count": null,
   "id": "8bbc799b",
   "metadata": {},
   "outputs": [],
   "source": [
    "# welcome back!\n",
    "# These are your next steps:\n",
    "# noise model\n",
    "# noise covariance matrix\n",
    "# compute posterior covariance matrix\n",
    "# compute posterior mean\n",
    "# evaluate OED utility functions"
   ]
  },
  {
   "cell_type": "code",
   "execution_count": null,
   "id": "4bd61d82",
   "metadata": {},
   "outputs": [],
   "source": []
  },
  {
   "cell_type": "code",
   "execution_count": null,
   "id": "bffaf48c",
   "metadata": {},
   "outputs": [],
   "source": []
  },
  {
   "cell_type": "markdown",
   "id": "2e6260ea",
   "metadata": {},
   "source": [
    "## The End."
   ]
  },
  {
   "cell_type": "code",
   "execution_count": null,
   "id": "d726dbda",
   "metadata": {},
   "outputs": [],
   "source": [
    "t_notebook = time.time() - tStart_notebook\n",
    "print(\"Runtime of this notebook: {} min\".format(t_notebook / 60))"
   ]
  }
 ],
 "metadata": {
  "kernelspec": {
   "display_name": "Python 3 (ipykernel)",
   "language": "python",
   "name": "python3"
  },
  "language_info": {
   "codemirror_mode": {
    "name": "ipython",
    "version": 3
   },
   "file_extension": ".py",
   "mimetype": "text/x-python",
   "name": "python",
   "nbconvert_exporter": "python",
   "pygments_lexer": "ipython3",
   "version": "3.10.0"
  }
 },
 "nbformat": 4,
 "nbformat_minor": 5
}
