{
 "cells": [
  {
   "cell_type": "markdown",
   "id": "c5721187",
   "metadata": {},
   "source": [
    "# noise model"
   ]
  },
  {
   "cell_type": "code",
   "execution_count": 1,
   "id": "17f4919a",
   "metadata": {},
   "outputs": [],
   "source": [
    "import sys\n",
    "sys.path.insert(0, \"../source/\")\n",
    "\n",
    "from FOM_advectiondiffusion import FOM_advectiondiffusion\n",
    "from FOM_advectiondiffusion_steadystate import FOM_advectiondiffusion_steadystate\n",
    "from Drone import Drone\n",
    "from Parameter import Parameter\n",
    "from Brain import Brain\n",
    "from NoiseModel import NoiseModel\n",
    "from Prior import Prior\n",
    "\n",
    "import dolfin as dl\n",
    "import matplotlib.pyplot as plt\n",
    "import numpy as np\n",
    "import time\n",
    "import scipy.linalg as la\n",
    "import scipy.sparse as sparse\n",
    "import scipy.sparse.linalg as sla\n",
    "import math\n",
    "import scipy.stats as stats"
   ]
  },
  {
   "cell_type": "code",
   "execution_count": 2,
   "id": "2059c790",
   "metadata": {},
   "outputs": [],
   "source": [
    "tStart_notebook = time.time()"
   ]
  },
  {
   "cell_type": "markdown",
   "id": "327bd648",
   "metadata": {},
   "source": [
    "## User settings"
   ]
  },
  {
   "cell_type": "code",
   "execution_count": 3,
   "id": "796693a1",
   "metadata": {},
   "outputs": [],
   "source": [
    "meshDim = 50\n",
    "# meshDim=50 is probably too coarse but for writing the code it should suffice, I'm impatient"
   ]
  },
  {
   "cell_type": "markdown",
   "id": "1c62c6db",
   "metadata": {},
   "source": [
    "## noise model\n",
    "First we test that the sampled noise is indeed in the same order of magnitude regardless of time discretization."
   ]
  },
  {
   "cell_type": "code",
   "execution_count": 4,
   "id": "fdb92813",
   "metadata": {},
   "outputs": [],
   "source": [
    "grid_t = np.linspace(0, 1, 101)\n",
    "noise_model = NoiseModel(grid_t=grid_t, c_scaling=1e+3, c_diffusion = 0.01)"
   ]
  },
  {
   "cell_type": "code",
   "execution_count": 5,
   "id": "8db9d0c3",
   "metadata": {},
   "outputs": [],
   "source": [
    "# test = noise_model.sample(n_samples = 10)\n",
    "\n",
    "# fig, ax = plt.subplots(1,1)\n",
    "# for i in range(10):\n",
    "#     ax.plot(grid_t, test[:, i])\n",
    "    \n",
    "# ax.set_title(\"samples of the noise model\")\n",
    "# ax.set_xlabel(\"time\")"
   ]
  },
  {
   "cell_type": "code",
   "execution_count": 6,
   "id": "ea813a46",
   "metadata": {},
   "outputs": [],
   "source": [
    "# grid_t = np.linspace(0, 1, 501)\n",
    "# noise_model = NoiseModel(grid_t=grid_t, c_scaling=1e+3, c_diffusion = 0.01)\n",
    "\n",
    "# test = noise_model.sample(n_samples = 10)\n",
    "\n",
    "# fig, ax = plt.subplots(1,1)\n",
    "# for i in range(10):\n",
    "#     ax.plot(grid_t, test[:, i])\n",
    "    \n",
    "# ax.set_title(\"samples of the noise model\")\n",
    "# ax.set_xlabel(\"time\")"
   ]
  },
  {
   "cell_type": "markdown",
   "id": "76efa611",
   "metadata": {},
   "source": [
    "Since the noise remains in the same order of magnitude we conclude that the issue is indeed not with the way we sample but with how we evaluate the noise covariance matrix. "
   ]
  },
  {
   "cell_type": "markdown",
   "id": "e6dc36ca",
   "metadata": {},
   "source": [
    "## noise covariance matrix"
   ]
  },
  {
   "cell_type": "code",
   "execution_count": 7,
   "id": "32b17841",
   "metadata": {},
   "outputs": [
    {
     "ename": "AttributeError",
     "evalue": "'NoiseModel' object has no attribute 'mass_matrix_sqrt'",
     "output_type": "error",
     "traceback": [
      "\u001b[0;31m---------------------------------------------------------------------------\u001b[0m",
      "\u001b[0;31mAttributeError\u001b[0m                            Traceback (most recent call last)",
      "\u001b[0;32m/var/folders/_k/q9sdsmfx2j35cmp3z9tn84km0000gp/T/ipykernel_1007/2241897391.py\u001b[0m in \u001b[0;36m<module>\u001b[0;34m\u001b[0m\n\u001b[1;32m      2\u001b[0m \u001b[0mnoise_model_fine\u001b[0m \u001b[0;34m=\u001b[0m \u001b[0mNoiseModel\u001b[0m\u001b[0;34m(\u001b[0m\u001b[0mgrid_t\u001b[0m\u001b[0;34m=\u001b[0m\u001b[0mgrid_t_fine\u001b[0m\u001b[0;34m,\u001b[0m \u001b[0mc_scaling\u001b[0m\u001b[0;34m=\u001b[0m\u001b[0;36m1e+1\u001b[0m\u001b[0;34m,\u001b[0m \u001b[0mc_diffusion\u001b[0m \u001b[0;34m=\u001b[0m \u001b[0;36m0.01\u001b[0m\u001b[0;34m)\u001b[0m\u001b[0;34m\u001b[0m\u001b[0;34m\u001b[0m\u001b[0m\n\u001b[1;32m      3\u001b[0m \u001b[0;34m\u001b[0m\u001b[0m\n\u001b[0;32m----> 4\u001b[0;31m \u001b[0msample_fine\u001b[0m \u001b[0;34m=\u001b[0m \u001b[0mnoise_model_fine\u001b[0m\u001b[0;34m.\u001b[0m\u001b[0msample\u001b[0m\u001b[0;34m(\u001b[0m\u001b[0mn_samples\u001b[0m \u001b[0;34m=\u001b[0m \u001b[0;36m1\u001b[0m\u001b[0;34m)\u001b[0m\u001b[0;34m\u001b[0m\u001b[0;34m\u001b[0m\u001b[0m\n\u001b[0m",
      "\u001b[0;32m~/git/m2dtIceSheet/notebooks/../source/NoiseModel.py\u001b[0m in \u001b[0;36msample\u001b[0;34m(self, n_samples)\u001b[0m\n\u001b[1;32m     69\u001b[0m             \u001b[0;31m# unfortunately we need the loop because the sparse solvers usually don't accept matrices as rhs\u001b[0m\u001b[0;34m\u001b[0m\u001b[0;34m\u001b[0m\u001b[0m\n\u001b[1;32m     70\u001b[0m \u001b[0;34m\u001b[0m\u001b[0m\n\u001b[0;32m---> 71\u001b[0;31m             \u001b[0mrhs\u001b[0m \u001b[0;34m=\u001b[0m \u001b[0mself\u001b[0m\u001b[0;34m.\u001b[0m\u001b[0mmass_matrix_sqrt\u001b[0m \u001b[0;34m@\u001b[0m \u001b[0mnp\u001b[0m\u001b[0;34m.\u001b[0m\u001b[0mrandom\u001b[0m\u001b[0;34m.\u001b[0m\u001b[0mnormal\u001b[0m\u001b[0;34m(\u001b[0m\u001b[0msize\u001b[0m\u001b[0;34m=\u001b[0m\u001b[0;34m(\u001b[0m\u001b[0mself\u001b[0m\u001b[0;34m.\u001b[0m\u001b[0mK\u001b[0m\u001b[0;34m,\u001b[0m\u001b[0;34m)\u001b[0m\u001b[0;34m)\u001b[0m\u001b[0;34m\u001b[0m\u001b[0;34m\u001b[0m\u001b[0m\n\u001b[0m\u001b[1;32m     72\u001b[0m             \u001b[0msample\u001b[0m \u001b[0;34m=\u001b[0m \u001b[0msla\u001b[0m\u001b[0;34m.\u001b[0m\u001b[0mspsolve\u001b[0m\u001b[0;34m(\u001b[0m\u001b[0mLHS\u001b[0m\u001b[0;34m,\u001b[0m \u001b[0mrhs\u001b[0m\u001b[0;34m)\u001b[0m\u001b[0;34m\u001b[0m\u001b[0;34m\u001b[0m\u001b[0m\n\u001b[1;32m     73\u001b[0m \u001b[0;34m\u001b[0m\u001b[0m\n",
      "\u001b[0;31mAttributeError\u001b[0m: 'NoiseModel' object has no attribute 'mass_matrix_sqrt'"
     ]
    }
   ],
   "source": [
    "grid_t_fine = np.linspace(0, 1, 2001)\n",
    "noise_model_fine = NoiseModel(grid_t=grid_t_fine, c_scaling=1e+1, c_diffusion = 0.01)\n",
    "\n",
    "sample_fine = noise_model_fine.sample(n_samples = 1)"
   ]
  },
  {
   "cell_type": "code",
   "execution_count": null,
   "id": "b8301c44",
   "metadata": {},
   "outputs": [],
   "source": [
    "slicer = 10\n",
    "grid_t_coarse = grid_t_fine[::slicer]\n",
    "noise_model_coarse = NoiseModel(grid_t=grid_t_coarse, c_scaling=1e+1, c_diffusion = 0.01)\n",
    "sample_coarse = sample_fine[::slicer]"
   ]
  },
  {
   "cell_type": "code",
   "execution_count": null,
   "id": "f60bcae9",
   "metadata": {},
   "outputs": [],
   "source": [
    "plt.plot(grid_t_fine, sample_fine, label = \"fine dt\")\n",
    "plt.plot(grid_t_coarse, sample_coarse, label = \"coarse dt\")\n",
    "plt.legend()"
   ]
  },
  {
   "cell_type": "code",
   "execution_count": null,
   "id": "475f9c4e",
   "metadata": {},
   "outputs": [],
   "source": [
    "sample_fine.T @ noise_model_fine.apply_covar_inv(d=sample_fine)"
   ]
  },
  {
   "cell_type": "code",
   "execution_count": null,
   "id": "dcf3249f",
   "metadata": {},
   "outputs": [],
   "source": [
    "sample_coarse.T @ noise_model_coarse.apply_covar_inv(d=sample_coarse)"
   ]
  },
  {
   "cell_type": "code",
   "execution_count": null,
   "id": "ab3236dd",
   "metadata": {},
   "outputs": [],
   "source": []
  },
  {
   "cell_type": "code",
   "execution_count": null,
   "id": "6b9d1ce4",
   "metadata": {},
   "outputs": [],
   "source": []
  },
  {
   "cell_type": "code",
   "execution_count": null,
   "id": "840c466c",
   "metadata": {},
   "outputs": [],
   "source": [
    "slicer = 10\n",
    "grid_t_coarse = grid_t_fine[::slicer]\n",
    "noise_model_coarse = NoiseModel(grid_t=grid_t_coarse, c_scaling=1e+1, c_diffusion = 0.01)\n",
    "sample_coarse = sample_fine[::slicer]"
   ]
  },
  {
   "cell_type": "code",
   "execution_count": null,
   "id": "e0e94c07",
   "metadata": {},
   "outputs": [],
   "source": [
    "dt = grid_t_coarse[1]-grid_t_coarse[0]"
   ]
  },
  {
   "cell_type": "code",
   "execution_count": null,
   "id": "934b4d9d",
   "metadata": {},
   "outputs": [],
   "source": [
    "M = noise_model_coarse.mass_matrix.toarray()"
   ]
  },
  {
   "cell_type": "code",
   "execution_count": null,
   "id": "61af1eb6",
   "metadata": {},
   "outputs": [],
   "source": [
    "self = noise_model_coarse\n",
    "LHS = (self.c_diffusion * self.diffusion_matrix + self.mass_matrix)"
   ]
  },
  {
   "cell_type": "code",
   "execution_count": null,
   "id": "39c39260",
   "metadata": {},
   "outputs": [],
   "source": [
    "v = LHS @ (grid_t_coarse**2)"
   ]
  },
  {
   "cell_type": "code",
   "execution_count": null,
   "id": "712bb01c",
   "metadata": {},
   "outputs": [],
   "source": [
    "v.T @ sla.spsolve(M, v)"
   ]
  },
  {
   "cell_type": "code",
   "execution_count": null,
   "id": "63e135cb",
   "metadata": {},
   "outputs": [],
   "source": [
    "4*dt/6"
   ]
  },
  {
   "cell_type": "code",
   "execution_count": null,
   "id": "73f21e88",
   "metadata": {},
   "outputs": [],
   "source": [
    "v"
   ]
  },
  {
   "cell_type": "code",
   "execution_count": null,
   "id": "4dfbbe4e",
   "metadata": {},
   "outputs": [],
   "source": [
    "grid_t_coarse**2"
   ]
  },
  {
   "cell_type": "code",
   "execution_count": null,
   "id": "52139ca3",
   "metadata": {},
   "outputs": [],
   "source": [
    "grid_t_coarse"
   ]
  },
  {
   "cell_type": "code",
   "execution_count": null,
   "id": "143c7961",
   "metadata": {},
   "outputs": [],
   "source": [
    "plt.plot(grid_t_coarse, grid_t_coarse**2)"
   ]
  },
  {
   "cell_type": "code",
   "execution_count": null,
   "id": "526168ef",
   "metadata": {},
   "outputs": [],
   "source": []
  },
  {
   "cell_type": "code",
   "execution_count": null,
   "id": "b6eb4760",
   "metadata": {},
   "outputs": [],
   "source": []
  },
  {
   "cell_type": "code",
   "execution_count": null,
   "id": "cd79dc5f",
   "metadata": {},
   "outputs": [],
   "source": [
    "grid_t_coarse = np.linspace(0, 1, 1001)\n",
    "noise_model_coarse = NoiseModel(grid_t=grid_t_coarse, c_scaling=1, c_diffusion = 1)"
   ]
  },
  {
   "cell_type": "code",
   "execution_count": null,
   "id": "f3554ffe",
   "metadata": {},
   "outputs": [],
   "source": [
    "v = noise_model_coarse.diffusion_matrix @ ((grid_t_coarse-1)**2*grid_t_coarse**2)"
   ]
  },
  {
   "cell_type": "code",
   "execution_count": null,
   "id": "72738c25",
   "metadata": {},
   "outputs": [],
   "source": [
    "sum(np.abs(v))"
   ]
  },
  {
   "cell_type": "code",
   "execution_count": null,
   "id": "0b5dafb5",
   "metadata": {},
   "outputs": [],
   "source": [
    "self = noise_model_coarse\n",
    "LHS = (self.c_diffusion * self.diffusion_matrix + self.mass_matrix)"
   ]
  },
  {
   "cell_type": "code",
   "execution_count": null,
   "id": "eb14f73a",
   "metadata": {},
   "outputs": [],
   "source": [
    "v = LHS @ ((grid_t_coarse-1)**2*grid_t_coarse**2)"
   ]
  },
  {
   "cell_type": "code",
   "execution_count": null,
   "id": "49a18ee8",
   "metadata": {},
   "outputs": [],
   "source": [
    "v.T @ sla.spsolve(noise_model_coarse.mass_matrix, v)"
   ]
  },
  {
   "cell_type": "code",
   "execution_count": null,
   "id": "8aaf192c",
   "metadata": {},
   "outputs": [],
   "source": [
    "yolo = sla.spsolve(noise_model_coarse.mass_matrix, v)"
   ]
  },
  {
   "cell_type": "code",
   "execution_count": null,
   "id": "64908374",
   "metadata": {},
   "outputs": [],
   "source": [
    "yolo.T @ noise_model_coarse.mass_matrix @ yolo"
   ]
  },
  {
   "cell_type": "code",
   "execution_count": null,
   "id": "fd20e186",
   "metadata": {},
   "outputs": [],
   "source": []
  },
  {
   "cell_type": "code",
   "execution_count": null,
   "id": "52533f5b",
   "metadata": {},
   "outputs": [],
   "source": []
  },
  {
   "cell_type": "code",
   "execution_count": null,
   "id": "666d920e",
   "metadata": {},
   "outputs": [],
   "source": []
  },
  {
   "cell_type": "code",
   "execution_count": null,
   "id": "a8b39ebe",
   "metadata": {},
   "outputs": [],
   "source": [
    "w = (grid_t_coarse-1)**2*grid_t_coarse**2"
   ]
  },
  {
   "cell_type": "code",
   "execution_count": null,
   "id": "ab2ce9b0",
   "metadata": {},
   "outputs": [],
   "source": [
    "plt.plot(grid_t_coarse, w)"
   ]
  },
  {
   "cell_type": "code",
   "execution_count": null,
   "id": "79b5f1e3",
   "metadata": {},
   "outputs": [],
   "source": [
    "Dw = (self.diffusion_matrix @ w)\n",
    "Mw = self.mass_matrix @ w"
   ]
  },
  {
   "cell_type": "code",
   "execution_count": null,
   "id": "ddc50c38",
   "metadata": {},
   "outputs": [],
   "source": [
    "Dw.T @ sla.spsolve(self.mass_matrix, Dw)"
   ]
  },
  {
   "cell_type": "code",
   "execution_count": null,
   "id": "e0f0c117",
   "metadata": {},
   "outputs": [],
   "source": [
    "Mw.T @ w"
   ]
  },
  {
   "cell_type": "code",
   "execution_count": null,
   "id": "e0fe76a6",
   "metadata": {},
   "outputs": [],
   "source": [
    "Dw.T @ w"
   ]
  },
  {
   "cell_type": "code",
   "execution_count": null,
   "id": "a77e2d0d",
   "metadata": {},
   "outputs": [],
   "source": [
    "Dw.T @ sla.spsolve(self.mass_matrix, Dw) + Mw.T @ w + 2*Dw.T @ w"
   ]
  },
  {
   "cell_type": "code",
   "execution_count": null,
   "id": "feb96dda",
   "metadata": {},
   "outputs": [],
   "source": [
    "(Dw + Mw).T @ sla.spsolve(self.mass_matrix, Dw + Mw)"
   ]
  },
  {
   "cell_type": "code",
   "execution_count": null,
   "id": "0ffe3c66",
   "metadata": {},
   "outputs": [],
   "source": [
    "Dw"
   ]
  },
  {
   "cell_type": "code",
   "execution_count": null,
   "id": "2e168f74",
   "metadata": {},
   "outputs": [],
   "source": [
    "w"
   ]
  },
  {
   "cell_type": "code",
   "execution_count": null,
   "id": "34b8cb59",
   "metadata": {},
   "outputs": [],
   "source": [
    "self.diffusion_matrix.toarray()"
   ]
  },
  {
   "cell_type": "code",
   "execution_count": null,
   "id": "5e128091",
   "metadata": {},
   "outputs": [],
   "source": []
  }
 ],
 "metadata": {
  "kernelspec": {
   "display_name": "Python 3 (ipykernel)",
   "language": "python",
   "name": "python3"
  },
  "language_info": {
   "codemirror_mode": {
    "name": "ipython",
    "version": 3
   },
   "file_extension": ".py",
   "mimetype": "text/x-python",
   "name": "python",
   "nbconvert_exporter": "python",
   "pygments_lexer": "ipython3",
   "version": "3.10.0"
  }
 },
 "nbformat": 4,
 "nbformat_minor": 5
}
