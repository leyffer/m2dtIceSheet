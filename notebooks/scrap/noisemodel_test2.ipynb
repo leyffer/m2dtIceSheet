{
 "cells": [
  {
   "cell_type": "markdown",
   "id": "e8a1d232",
   "metadata": {},
   "source": [
    "# Noise model"
   ]
  },
  {
   "cell_type": "code",
   "execution_count": 1,
   "id": "13e8874a",
   "metadata": {},
   "outputs": [],
   "source": [
    "import sys\n",
    "sys.path.insert(0, \"../source/\")\n",
    "\n",
    "from FOM_advectiondiffusion import FOM_advectiondiffusion\n",
    "from FOM_advectiondiffusion_steadystate import FOM_advectiondiffusion_steadystate\n",
    "from Drone import Drone\n",
    "from Parameter import Parameter\n",
    "from Brain import Brain\n",
    "from NoiseModel import NoiseModel\n",
    "from Prior import Prior\n",
    "\n",
    "import dolfin as dl\n",
    "import matplotlib.pyplot as plt\n",
    "import numpy as np\n",
    "import time\n",
    "import scipy.linalg as la\n",
    "import scipy.sparse as sparse\n",
    "import scipy.sparse.linalg as sla\n",
    "import math\n",
    "import scipy.stats as stats"
   ]
  },
  {
   "cell_type": "code",
   "execution_count": 2,
   "id": "b82d1a1c",
   "metadata": {},
   "outputs": [],
   "source": [
    "tStart_notebook = time.time()"
   ]
  },
  {
   "cell_type": "markdown",
   "id": "6f577edb",
   "metadata": {},
   "source": [
    "## User Settings"
   ]
  },
  {
   "cell_type": "code",
   "execution_count": 76,
   "id": "e41ff02d",
   "metadata": {},
   "outputs": [],
   "source": [
    "meshDim = 50\n",
    "# meshDim=50 is probably too coarse but for writing the code it should suffice, I'm impatient\n",
    "\n",
    "n_para = 1\n",
    "\n",
    "eval_mode = \"point-eval\" # because it's faster for testing code\n",
    "\n",
    "dt = 1e-4"
   ]
  },
  {
   "cell_type": "markdown",
   "id": "7659937f",
   "metadata": {},
   "source": [
    "## Setup"
   ]
  },
  {
   "cell_type": "code",
   "execution_count": 77,
   "id": "466937ad",
   "metadata": {},
   "outputs": [],
   "source": [
    "fom = FOM_advectiondiffusion_steadystate(meshDim=meshDim)\n",
    "\n",
    "grid_t = np.arange(0, 1+dt, dt)\n",
    "\n",
    "para_true = np.ones((n_para,))\n",
    "m = fom.assemble_forcing(para=para_true)\n",
    "sol_steadystate = fom.solve_steady(forcing=m)\n",
    "\n",
    "# set default flying parameters\n",
    "flying_parameters = {\n",
    "                \"radius\" : 0.25,\n",
    "                \"center\" : np.array([0.75/2, 0.55/2]),\n",
    "                \"speed\" : 0.2 # 0.3\n",
    "            }\n",
    "\n",
    "drone = Drone(fom, flying_parameters=flying_parameters, eval_mode=eval_mode, grid_t=grid_t)\n",
    "pos, __ = drone.get_trajectory(flying_parameters=flying_parameters)\n",
    "\n",
    "prior = Prior(covar = np.eye(n_para), mean = np.zeros((n_para,)))\n",
    "noise_model = NoiseModel(grid_t=grid_t, c_scaling=1e+3, c_diffusion = 0.01)\n",
    "brain = Brain(fom=fom, drone=drone, prior=prior, noise_model=noise_model)"
   ]
  },
  {
   "cell_type": "markdown",
   "id": "e15cdf08",
   "metadata": {},
   "source": [
    "## Measurements"
   ]
  },
  {
   "cell_type": "code",
   "execution_count": 78,
   "id": "44afa955",
   "metadata": {},
   "outputs": [],
   "source": [
    "measurements = drone.measure(flightpath=pos, state=sol_steadystate)"
   ]
  },
  {
   "cell_type": "code",
   "execution_count": 88,
   "id": "d2f3d9f9",
   "metadata": {},
   "outputs": [],
   "source": [
    "slicer = 5\n",
    "noise_model_coarse = NoiseModel(grid_t=grid_t[::slicer], c_scaling=1e+3, c_diffusion = 0.01)"
   ]
  },
  {
   "cell_type": "code",
   "execution_count": 89,
   "id": "10b21a13",
   "metadata": {},
   "outputs": [
    {
     "data": {
      "text/plain": [
       "8.037811476659929e-07"
      ]
     },
     "execution_count": 89,
     "metadata": {},
     "output_type": "execute_result"
    }
   ],
   "source": [
    "measurements.T @ noise_model.mass_matrix @ measurements"
   ]
  },
  {
   "cell_type": "code",
   "execution_count": 90,
   "id": "2c90f026",
   "metadata": {},
   "outputs": [
    {
     "data": {
      "text/plain": [
       "8.037817421314292e-07"
      ]
     },
     "execution_count": 90,
     "metadata": {},
     "output_type": "execute_result"
    }
   ],
   "source": [
    "measurements[::slicer].T @ noise_model_coarse.mass_matrix @ measurements[::slicer]"
   ]
  },
  {
   "cell_type": "code",
   "execution_count": null,
   "id": "94f2422f",
   "metadata": {},
   "outputs": [],
   "source": [
    "please stop here"
   ]
  },
  {
   "cell_type": "code",
   "execution_count": null,
   "id": "8da4f5bb",
   "metadata": {},
   "outputs": [],
   "source": []
  },
  {
   "cell_type": "code",
   "execution_count": 7,
   "id": "1d8eae64",
   "metadata": {},
   "outputs": [
    {
     "data": {
      "text/plain": [
       "33.27525283716568"
      ]
     },
     "execution_count": 7,
     "metadata": {},
     "output_type": "execute_result"
    }
   ],
   "source": [
    "measurements.T @ noise_model.apply_covar_inv(d=measurements)"
   ]
  },
  {
   "cell_type": "code",
   "execution_count": 8,
   "id": "8af7d549",
   "metadata": {},
   "outputs": [
    {
     "data": {
      "text/plain": [
       "17.279194550686952"
      ]
     },
     "execution_count": 8,
     "metadata": {},
     "output_type": "execute_result"
    }
   ],
   "source": [
    "measurements[::slicer].T @ noise_model_coarse.apply_covar_inv(d=measurements[::slicer])"
   ]
  },
  {
   "cell_type": "code",
   "execution_count": 70,
   "id": "f113c26d",
   "metadata": {},
   "outputs": [
    {
     "data": {
      "text/plain": [
       "5129.11817542103"
      ]
     },
     "execution_count": 70,
     "metadata": {},
     "output_type": "execute_result"
    }
   ],
   "source": [
    "dt = 1e-2\n",
    "grid_t = np.arange(0, 1+dt, dt)\n",
    "grid_t_expanded = np.arange(-dt, 1+dt+dt, dt)\n",
    "#grid_t_expanded[int(0.5/dt):int(1.5/dt)+1]\n",
    "\n",
    "drone = Drone(fom, flying_parameters=flying_parameters, eval_mode=eval_mode, grid_t=grid_t)\n",
    "pos, __ = drone.get_trajectory(flying_parameters=flying_parameters)\n",
    "measurements = drone.measure(flightpath=pos, state=sol_steadystate)\n",
    "\n",
    "noise_model_expanded = NoiseModel(grid_t=grid_t_expanded, c_scaling=1e+3, c_diffusion = 0.01)\n",
    "measurements_expanded = np.hstack([np.zeros(int(dt/dt),), measurements, np.zeros(int(dt/dt),)])\n",
    "measurements_expanded.T @ noise_model_expanded.apply_covar_inv(d=measurements_expanded)"
   ]
  },
  {
   "cell_type": "code",
   "execution_count": 66,
   "id": "1d4d3f9d",
   "metadata": {},
   "outputs": [
    {
     "data": {
      "text/plain": [
       "(3,)"
      ]
     },
     "execution_count": 66,
     "metadata": {},
     "output_type": "execute_result"
    }
   ],
   "source": [
    "grid_t_expanded.shape"
   ]
  },
  {
   "cell_type": "code",
   "execution_count": null,
   "id": "a975d171",
   "metadata": {},
   "outputs": [],
   "source": []
  },
  {
   "cell_type": "code",
   "execution_count": 28,
   "id": "65fb0c1e",
   "metadata": {},
   "outputs": [],
   "source": [
    "grid_t_expanded = np.arange(-0.5, 1.5+dt, dt)"
   ]
  },
  {
   "cell_type": "code",
   "execution_count": 29,
   "id": "c923b31e",
   "metadata": {},
   "outputs": [
    {
     "data": {
      "text/plain": [
       "array([4.4408921e-16, 1.0000000e-03, 2.0000000e-03, ..., 9.9800000e-01,\n",
       "       9.9900000e-01, 1.0000000e+00])"
      ]
     },
     "execution_count": 29,
     "metadata": {},
     "output_type": "execute_result"
    }
   ],
   "source": [
    "grid_t_expanded[500:1501]"
   ]
  },
  {
   "cell_type": "code",
   "execution_count": 30,
   "id": "582bf500",
   "metadata": {},
   "outputs": [],
   "source": [
    "noise_model_expanded = NoiseModel(grid_t=grid_t_expanded, c_scaling=1e+3, c_diffusion = 0.01)"
   ]
  },
  {
   "cell_type": "code",
   "execution_count": 31,
   "id": "d96cbf50",
   "metadata": {},
   "outputs": [],
   "source": [
    "measurements_expanded = np.hstack([np.zeros(500,), measurements, np.zeros(500,)])"
   ]
  },
  {
   "cell_type": "code",
   "execution_count": 32,
   "id": "ac12e273",
   "metadata": {},
   "outputs": [
    {
     "data": {
      "text/plain": [
       "3055006.042887622"
      ]
     },
     "execution_count": 32,
     "metadata": {},
     "output_type": "execute_result"
    }
   ],
   "source": [
    "measurements_expanded.T @ noise_model_expanded.apply_covar_inv(d=measurements_expanded)"
   ]
  },
  {
   "cell_type": "code",
   "execution_count": 49,
   "id": "a8de400b",
   "metadata": {},
   "outputs": [
    {
     "data": {
      "text/plain": [
       "3169.933826687188"
      ]
     },
     "execution_count": 49,
     "metadata": {},
     "output_type": "execute_result"
    }
   ],
   "source": [
    "slicer = 10\n",
    "grid_t_expanded_sliced = grid_t_expanded[::slicer]\n",
    "noise_model_sliced = NoiseModel(grid_t=grid_t_expanded_sliced, c_scaling=1e+3, c_diffusion = 0.01)\n",
    "measurements_expanded[::slicer].T @ noise_model_sliced.apply_covar_inv(d=measurements_expanded[::slicer])"
   ]
  },
  {
   "cell_type": "code",
   "execution_count": 46,
   "id": "caa06ed2",
   "metadata": {},
   "outputs": [
    {
     "data": {
      "text/plain": [
       "(1001,)"
      ]
     },
     "execution_count": 46,
     "metadata": {},
     "output_type": "execute_result"
    }
   ],
   "source": [
    "measurements_expanded[::slicer].shape"
   ]
  },
  {
   "cell_type": "code",
   "execution_count": null,
   "id": "5a4c7a47",
   "metadata": {},
   "outputs": [],
   "source": []
  },
  {
   "cell_type": "code",
   "execution_count": null,
   "id": "4f2b1f41",
   "metadata": {},
   "outputs": [],
   "source": []
  },
  {
   "cell_type": "code",
   "execution_count": null,
   "id": "af975997",
   "metadata": {},
   "outputs": [],
   "source": []
  },
  {
   "cell_type": "code",
   "execution_count": 19,
   "id": "865f999a",
   "metadata": {},
   "outputs": [
    {
     "data": {
      "text/plain": [
       "3055006.042887622"
      ]
     },
     "execution_count": 19,
     "metadata": {},
     "output_type": "execute_result"
    }
   ],
   "source": [
    "grid_t_expanded = np.arange(-0.1, 1.1+dt, dt)\n",
    "noise_model_expanded = NoiseModel(grid_t=grid_t_expanded, c_scaling=1e+3, c_diffusion = 0.01)\n",
    "measurements_expanded = np.hstack([np.zeros(100,), measurements, np.zeros(100,)])\n",
    "measurements_expanded.T @ noise_model_expanded.apply_covar_inv(d=measurements_expanded)"
   ]
  },
  {
   "cell_type": "code",
   "execution_count": null,
   "id": "49df4b9a",
   "metadata": {},
   "outputs": [],
   "source": []
  }
 ],
 "metadata": {
  "kernelspec": {
   "display_name": "Python 3 (ipykernel)",
   "language": "python",
   "name": "python3"
  },
  "language_info": {
   "codemirror_mode": {
    "name": "ipython",
    "version": 3
   },
   "file_extension": ".py",
   "mimetype": "text/x-python",
   "name": "python",
   "nbconvert_exporter": "python",
   "pygments_lexer": "ipython3",
   "version": "3.10.0"
  }
 },
 "nbformat": 4,
 "nbformat_minor": 5
}
