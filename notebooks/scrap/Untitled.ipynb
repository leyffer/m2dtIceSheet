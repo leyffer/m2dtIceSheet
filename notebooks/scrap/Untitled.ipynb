{
 "cells": [
  {
   "cell_type": "markdown",
   "id": "1939f267",
   "metadata": {},
   "source": [
    "## noisemodel"
   ]
  },
  {
   "cell_type": "code",
   "execution_count": 2,
   "id": "a4547a91",
   "metadata": {},
   "outputs": [],
   "source": [
    "import sys\n",
    "sys.path.insert(0, \"../../source/\")\n",
    "\n",
    "from FOM_advectiondiffusion import FOM_advectiondiffusion\n",
    "from FOM_advectiondiffusion_steadystate import FOM_advectiondiffusion_steadystate\n",
    "from Drone import Drone\n",
    "from Parameter import Parameter\n",
    "from Brain import Brain\n",
    "from NoiseModel import NoiseModel\n",
    "from Prior import Prior\n",
    "\n",
    "import dolfin as dl\n",
    "import matplotlib.pyplot as plt\n",
    "import numpy as np\n",
    "import time\n",
    "import scipy.linalg as la\n",
    "import scipy.sparse as sparse\n",
    "import scipy.sparse.linalg as sla\n",
    "import math\n",
    "import scipy.stats as stats"
   ]
  },
  {
   "cell_type": "code",
   "execution_count": 82,
   "id": "e04256de",
   "metadata": {},
   "outputs": [],
   "source": [
    "meshDim = 50\n",
    "n_steps = 10000\n",
    "\n",
    "grid_t = np.linspace(0, 1, n_steps+1)\n",
    "noise_model = NoiseModel(grid_t=grid_t, c_scaling=1e+3, c_diffusion = 0.01)"
   ]
  },
  {
   "cell_type": "code",
   "execution_count": 83,
   "id": "2518813b",
   "metadata": {},
   "outputs": [],
   "source": [
    "A = noise_model.diffusion_matrix\n",
    "M = noise_model.mass_matrix\n",
    "#M_sqrt = la.sqrtm(M.todense())"
   ]
  },
  {
   "cell_type": "code",
   "execution_count": 84,
   "id": "cde3f266",
   "metadata": {},
   "outputs": [],
   "source": [
    "data = np.ones((n_steps+1,))"
   ]
  },
  {
   "cell_type": "code",
   "execution_count": 85,
   "id": "59c4e80a",
   "metadata": {},
   "outputs": [],
   "source": [
    "K = A + M"
   ]
  },
  {
   "cell_type": "code",
   "execution_count": 86,
   "id": "5cb40a8a",
   "metadata": {},
   "outputs": [],
   "source": [
    "yolo = sla.spsolve(K, data)"
   ]
  },
  {
   "cell_type": "code",
   "execution_count": 87,
   "id": "96319384",
   "metadata": {},
   "outputs": [
    {
     "data": {
      "text/plain": [
       "100019998.77401829"
      ]
     },
     "execution_count": 87,
     "metadata": {},
     "output_type": "execute_result"
    }
   ],
   "source": [
    "yolo.T @ M @ yolo # 10201"
   ]
  },
  {
   "cell_type": "code",
   "execution_count": 88,
   "id": "21f1b321",
   "metadata": {},
   "outputs": [
    {
     "data": {
      "text/plain": [
       "array([10001.08186539, 10001.0818154 , 10001.08176541, ...,\n",
       "       10001.08176523, 10001.08181521, 10001.08186521])"
      ]
     },
     "execution_count": 88,
     "metadata": {},
     "output_type": "execute_result"
    }
   ],
   "source": [
    "yolo"
   ]
  },
  {
   "cell_type": "code",
   "execution_count": null,
   "id": "8271dde5",
   "metadata": {},
   "outputs": [],
   "source": []
  },
  {
   "cell_type": "code",
   "execution_count": null,
   "id": "01200f5d",
   "metadata": {},
   "outputs": [],
   "source": []
  },
  {
   "cell_type": "code",
   "execution_count": null,
   "id": "32055ee7",
   "metadata": {},
   "outputs": [],
   "source": []
  }
 ],
 "metadata": {
  "kernelspec": {
   "display_name": "Python 3 (ipykernel)",
   "language": "python",
   "name": "python3"
  },
  "language_info": {
   "codemirror_mode": {
    "name": "ipython",
    "version": 3
   },
   "file_extension": ".py",
   "mimetype": "text/x-python",
   "name": "python",
   "nbconvert_exporter": "python",
   "pygments_lexer": "ipython3",
   "version": "3.10.0"
  }
 },
 "nbformat": 4,
 "nbformat_minor": 5
}
