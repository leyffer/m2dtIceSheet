{
 "cells": [
  {
   "cell_type": "markdown",
   "id": "4185dfbc",
   "metadata": {},
   "source": [
    "# Measurement types\n",
    "In this notebook we\n",
    "- compare the different ways of taking measurements (point-wise, different convolution types)\n",
    "- make sure the gradients work in each case"
   ]
  },
  {
   "cell_type": "markdown",
   "id": "00497ff3-e553-4f31-9c9a-69c209ba208e",
   "metadata": {},
   "source": [
    "**TODO:** integrate \"flight\" notation (instead of passing alpha)"
   ]
  },
  {
   "cell_type": "markdown",
   "id": "6158db0a",
   "metadata": {},
   "source": [
    "## Imports"
   ]
  },
  {
   "cell_type": "code",
   "execution_count": 1,
   "id": "0f2b1f10",
   "metadata": {},
   "outputs": [],
   "source": [
    "import sys\n",
    "sys.path.insert(0, \"../source/\")\n",
    "sys.path.insert(0, \"../models/AdvectionDiffusion/settings/AdvectionDiffusion_FEniCS\")\n",
    "sys.path.insert(0, \"../models/AdvectionDiffusion/Navigators\")\n",
    "sys.path.insert(0, \"../models/AdvectionDiffusion/Detectors\")\n",
    "\n",
    "import numpy as np\n",
    "import matplotlib.pyplot as plt\n",
    "import scipy.linalg as la\n",
    "\n",
    "from InverseProblem import InverseProblem\n",
    "from FOM_stationary import FOM_stationary as FOM\n",
    "from OEDUtility import OEDUtility\n",
    "from Drone import Drone as Drone\n",
    "\n",
    "from DetectorPointwise import DetectorPointwise\n",
    "from DetectorUniform import DetectorUniform\n",
    "from DetectorGaussian import DetectorGaussian\n",
    "from DetectorTruncGaussian import DetectorTruncGaussian\n",
    "from NavigationCircle import NavigationCircle as Navigation\n",
    "\n",
    "import time\n",
    "tStart_notebook = time.time()"
   ]
  },
  {
   "cell_type": "markdown",
   "id": "8aac58e2",
   "metadata": {},
   "source": [
    "## User settings"
   ]
  },
  {
   "cell_type": "code",
   "execution_count": 2,
   "id": "6321459b",
   "metadata": {},
   "outputs": [],
   "source": [
    "n_para = 5\n",
    "var_prior = 1 # set to a high value (1e+6) to test convergence in noise-free situations\n",
    "\n",
    "n_test = 40  # resolution for 1D plots\n",
    "n_test_2d = 60  # resolution for 2D plots (50: ~1 min runtime for dt = 0.01)\n",
    "\n",
    "sigma = 0.05  # std deviation for gaussian-type measurements. Get pointwise data for sigma -> 0\n",
    "radius = 0.05  # truncation radius for truncation-style measurmeents\n",
    "\n",
    "meshDim = 50  # discretization parameter (1D) for FOM\n",
    "meshDim_drone = 10  # discretization parameter (1D) for subdomain in truncation-type measurements"
   ]
  },
  {
   "cell_type": "markdown",
   "id": "570ed498",
   "metadata": {},
   "source": [
    "## Setup"
   ]
  },
  {
   "cell_type": "markdown",
   "id": "7012a13b",
   "metadata": {},
   "source": [
    "Setup the full-order model. We've imported `FOM_stationary` class as `FOM`."
   ]
  },
  {
   "cell_type": "code",
   "execution_count": 3,
   "id": "de1ee830",
   "metadata": {},
   "outputs": [
    {
     "name": "stdout",
     "output_type": "stream",
     "text": [
      "Runtime of this block: 1.774294137954712 s\n"
     ]
    }
   ],
   "source": [
    "tStart = time.time()\n",
    "fom = FOM(meshDim = meshDim)\n",
    "print(\"Runtime of this block: {} s\".format(time.time()-tStart))\n",
    "\n",
    "# compute one solution for nicer visualization below\n",
    "para_true = np.ones((n_para,))\n",
    "state = fom.solve(parameter=para_true)"
   ]
  },
  {
   "cell_type": "markdown",
   "id": "aa2d07f7",
   "metadata": {},
   "source": [
    "Set the prior, just as in the previous notebook:"
   ]
  },
  {
   "cell_type": "code",
   "execution_count": 4,
   "id": "94030bbb",
   "metadata": {},
   "outputs": [],
   "source": [
    "prior_mean = np.zeros((n_para,))\n",
    "prior_covar = var_prior*np.eye(n_para)\n",
    "fom.set_prior(prior_mean=prior_mean, prior_covar=prior_covar)"
   ]
  },
  {
   "cell_type": "markdown",
   "id": "cb7126cc",
   "metadata": {},
   "source": [
    "As `Navigation` class we have again imported `NavigationCircle` in order to have a simple flight parameterization for easy-to-understand plots."
   ]
  },
  {
   "cell_type": "code",
   "execution_count": 5,
   "id": "4b9468fe-164c-4718-a39d-c70d95ec9657",
   "metadata": {},
   "outputs": [],
   "source": [
    "navigation = Navigation()"
   ]
  },
  {
   "cell_type": "markdown",
   "id": "eb780b71",
   "metadata": {},
   "source": [
    "## Drones"
   ]
  },
  {
   "cell_type": "markdown",
   "id": "e2f8c376",
   "metadata": {},
   "source": [
    "### types of measurements"
   ]
  },
  {
   "cell_type": "markdown",
   "id": "503c47a7",
   "metadata": {},
   "source": [
    "#### point-wise measurements\n",
    "The simplest measurement type, we've already seen it in the previous notebook:\n",
    "\n",
    "$$d(s) = u(x=p(t), s=s)$$\n",
    "\n",
    "where\n",
    "- $p$ is the flightpath\n",
    "- $s$ the time at which we evaluate the measurement"
   ]
  },
  {
   "cell_type": "code",
   "execution_count": 6,
   "id": "b7d00d5b",
   "metadata": {},
   "outputs": [],
   "source": [
    "detector_pointwise = DetectorPointwise(fom)\n",
    "drone_pointwise = Drone(detector=detector_pointwise, navigation=navigation)"
   ]
  },
  {
   "cell_type": "markdown",
   "id": "eadd0100",
   "metadata": {},
   "source": [
    "#### convolution-type: uniform\n",
    "Another possibility for modelling the measurements is to choose a weighted characteristic function $\\Phi(x,y) = \\|\\Omega_y\\|^{-1} \\mathbb{1}_{\\Omega_y}(x)$ for a measureable domain $\\Omega_y \\subset \\Omega$, $y \\in \\Omega_y$. In this case a measurement of the state $u$ at time $s$ around position $y$ has the form\n",
    "$$\\ell_y(u,s) := \\int_{\\Omega} u(x, s) \\Phi(x,y) dx = \\frac{1}{\\|\\Omega_y\\|} \\int_{\\Omega_y} u(x, s) dx.$$ \n",
    "It is the mean value of a state $u$ over the subdomain $\\Omega_y$. \n",
    "\n",
    "For our drones, we choose $y$ as the position the flight path $p$ reaches at time $s$, i.e. $y=p(s)$. We then get:\n",
    "$$d(s) = \\ell_{p(s)}(u,s)$$\n",
    "\n",
    "For our example problem we have chosen \n",
    "$$\\Omega_y = B_r(y) \\cap \\Omega,$$\n",
    "i.e. a ball (actually circle since we are in 2D) around the point $y$ with radius $r$ intersected with the modelling domain $\\Omega$. Of course, in discrete forms it's not quite a circle until we look at the limit $h\\rightarrow 0$ of infinitely small mesh size, but for a sufficiently refined mesh it's good enough."
   ]
  },
  {
   "cell_type": "code",
   "execution_count": 7,
   "id": "4fc8874e",
   "metadata": {},
   "outputs": [],
   "source": [
    "detector_uniform = DetectorUniform(fom, radius=radius, meshDim=meshDim_drone)\n",
    "drone_uniform = Drone(detector=detector_uniform, navigation=navigation)"
   ]
  },
  {
   "cell_type": "markdown",
   "id": "9a04816f",
   "metadata": {},
   "source": [
    "#### convolution-type: truncated gaussian\n",
    "The drone flies over the point $y = p(s)$ but then takes a measurement at a random location $x$ with $\\|x-y\\| \\le \\sigma$, i.e. a close point but not exactly $y$. The distribution for which $x$ is chosen is described by a truncated Gaussian. We can model this measurement statistically as the expectation of the state under this distribution.\n",
    "\n",
    "\\begin{align}\n",
    "\\Phi(x, y) = \\left\\{\n",
    "\\begin{array}{ll}\n",
    "0 & \\text{if } \\|x-y\\| \\le 2\\sigma \\\\\n",
    "C\\exp(-\\frac{1}{2\\sigma^2} \\|x-y\\|^2) & \\text{otherwise}\n",
    "\\end{array}\n",
    "\\right.\n",
    "\\end{align}\n",
    "where $C$ is chosen such that $\\int_{\\Omega} \\Phi(x, y) dx = 1$ for all $y$. We need the re-scaling such that $\\Phi(\\cdot, y)$ is indeed a probability densition function.\n",
    "\n",
    "We define the measurement centered around a point $y \\in \\Omega$ of a state $u \\in H^1(\\Omega)$ as \n",
    "$$\\ell_y(u, s) := \\int_{\\Omega} u(x, s) \\Phi(x, y) dx \n",
    "= \\int_{\\|x-y\\| \\le 2\\sigma} u(x, s) \\Phi(x, y) dx \n",
    "= \\mathbb{E}_{\\pi_y}[u(\\cdot, s)]\n",
    "\\in \\mathbb{R}$$ \n",
    "where $\\pi_y$ is the probability measure for the probability density function $\\Phi(\\cdot, y)$.\n",
    "\n",
    "For our drone measurements we then get:\n",
    "$$d(s) = \\ell_{p(s)}(u, s)$$"
   ]
  },
  {
   "cell_type": "code",
   "execution_count": 8,
   "id": "43f2f833",
   "metadata": {},
   "outputs": [],
   "source": [
    "detector_truncated = DetectorTruncGaussian(fom, radius=radius, sigma=sigma, meshDim=meshDim_drone)\n",
    "drone_truncated = Drone(detector=detector_truncated, navigation=navigation)"
   ]
  },
  {
   "cell_type": "markdown",
   "id": "b8a588fc",
   "metadata": {},
   "source": [
    "#### convolution-type: gaussian\n",
    "**todo:** write description / explanation"
   ]
  },
  {
   "cell_type": "code",
   "execution_count": 9,
   "id": "1d42221b",
   "metadata": {},
   "outputs": [
    {
     "name": "stdout",
     "output_type": "stream",
     "text": [
      "Gaussian drone initialization time:  0.00013899803161621094  s.\n"
     ]
    }
   ],
   "source": [
    "tStart = time.time()\n",
    "detector_gaussian = DetectorGaussian(fom, sigma=sigma)\n",
    "drone_gaussian = Drone(detector=detector_gaussian, navigation=navigation)\n",
    "\n",
    "#drone_gaussian = DroneGaussianEval(fom, sigma=sigma)\n",
    "print(\"Gaussian drone initialization time: \", time.time()-tStart, \" s.\")"
   ]
  },
  {
   "cell_type": "markdown",
   "id": "9804125d",
   "metadata": {},
   "source": [
    "**Note:** I haven't looked into which boundary conditions we need to set for the heat equation such that we indeed get the correct interpretation of the measurements with this class. Take any measurements with this function with a grain of salt."
   ]
  },
  {
   "cell_type": "markdown",
   "id": "5ccc4d7d",
   "metadata": {},
   "source": [
    "## Comparison"
   ]
  },
  {
   "cell_type": "markdown",
   "id": "72b461ec",
   "metadata": {},
   "source": [
    "The flight path will be the same for each drone, so we can just get it from one of them:"
   ]
  },
  {
   "cell_type": "code",
   "execution_count": 10,
   "id": "5478a57f",
   "metadata": {},
   "outputs": [
    {
     "data": {
      "text/plain": [
       "[<matplotlib.lines.Line2D at 0x164250f10>]"
      ]
     },
     "execution_count": 10,
     "metadata": {},
     "output_type": "execute_result"
    },
    {
     "data": {
      "image/png": "[encoded data removed]",
      "text/plain": [
       "<Figure size 432x288 with 2 Axes>"
      ]
     },
     "metadata": {
      "needs_background": "light"
     },
     "output_type": "display_data"
    }
   ],
   "source": [
    "alpha = np.array([0.25, 0.1])\n",
    "flight = drone_pointwise.plan_flight(alpha=alpha)\n",
    "flightpath, grid_t = flight.flightpath, flight.grid_t\n",
    "\n",
    "fom.plot(state)\n",
    "plt.plot(flightpath[:, 0], flightpath[:, 1], color=\"r\")\n",
    "plt.plot([flightpath[0, 0]], [flightpath[0, 1]], color=\"r\", marker=\"s\")\n",
    "plt.plot([flightpath[-1, 0]], [flightpath[-1, 1]], color=\"r\", marker=\"d\")"
   ]
  },
  {
   "cell_type": "code",
   "execution_count": 11,
   "id": "6ae0b41b",
   "metadata": {},
   "outputs": [
    {
     "name": "stdout",
     "output_type": "stream",
     "text": [
      "Starting: measurements with pointwise drone\n",
      "Starting: measurements with uniform drone\n",
      "Starting: measurements with trunc. Gaussian drone\n",
      "Starting: measurements with Gaussian, incorr. BC drone\n",
      "[0.00967693 1.73063993 1.60556483 0.06271315]\n"
     ]
    }
   ],
   "source": [
    "data = np.zeros((4, grid_t.shape[0]))\n",
    "measurement_time = np.zeros(4)\n",
    "names = [\"pointwise\", \"uniform\", \"trunc. Gaussian\", \"Gaussian, incorr. BC\"]\n",
    "\n",
    "# pointwise\n",
    "print(\"Starting: measurements with {} drone\".format(names[0]))\n",
    "tStart = time.time()\n",
    "data[0,:] = drone_pointwise.measure(state=state, flight=flight)\n",
    "measurement_time[0] = time.time()-tStart\n",
    "\n",
    "# uniform\n",
    "print(\"Starting: measurements with {} drone\".format(names[1]))\n",
    "tStart = time.time()\n",
    "data[1,:] = drone_uniform.measure(state=state, flight=flight)\n",
    "measurement_time[1] = time.time()-tStart\n",
    "\n",
    "# # truncated gaussian\n",
    "print(\"Starting: measurements with {} drone\".format(names[2]))\n",
    "tStart = time.time()\n",
    "drone_truncated.is_test = True\n",
    "data[2,:] = drone_truncated.measure(state=state, flight=flight)\n",
    "measurement_time[2] = time.time()-tStart\n",
    "\n",
    "# non-truncated Gaussian (Weierstrass trick)\n",
    "print(\"Starting: measurements with {} drone\".format(names[3]))\n",
    "tStart = time.time()\n",
    "data[3,:] = drone_gaussian.measure(state=state, flight=flight)\n",
    "measurement_time[3] = time.time()-tStart\n",
    "\n",
    "print(measurement_time)"
   ]
  },
  {
   "cell_type": "code",
   "execution_count": 12,
   "id": "c1e08c4f",
   "metadata": {},
   "outputs": [
    {
     "data": {
      "text/plain": [
       "<matplotlib.legend.Legend at 0x16431bb50>"
      ]
     },
     "execution_count": 12,
     "metadata": {},
     "output_type": "execute_result"
    },
    {
     "data": {
      "image/png": "[encoded data removed]",
      "text/plain": [
       "<Figure size 432x288 with 1 Axes>"
      ]
     },
     "metadata": {
      "needs_background": "light"
     },
     "output_type": "display_data"
    }
   ],
   "source": [
    "fig, ax = plt.subplots(1,1)\n",
    "\n",
    "for i in [0,1,2,3]:\n",
    "    ax.plot(grid_t, data[i, :], label = names[i])\n",
    "    \n",
    "ax.set_xlabel(\"time (drone is flying)\")\n",
    "ax.set_ylabel(\"measurement\")\n",
    "ax.set_title(\"measurement along flightpath\")\n",
    "ax.legend()"
   ]
  },
  {
   "cell_type": "markdown",
   "id": "e7d90605",
   "metadata": {},
   "source": [
    "## Derivatives"
   ]
  },
  {
   "cell_type": "markdown",
   "id": "be778b2f",
   "metadata": {},
   "source": [
    "Because it's a lot of repeat code, I'm not going to paste it here individually for each drone. Insteaad, please define in the box below for which drone you'd like to visialize the OED utility functions and the derivatives. It takes about 2 min to switch out the drone, and a lot longer still to compute the 2D visualizations. If you don't have much time, make sure to set `bool_skip_2D_plots` to `True`"
   ]
  },
  {
   "cell_type": "code",
   "execution_count": 13,
   "id": "07456935",
   "metadata": {},
   "outputs": [],
   "source": [
    "# user input\n",
    "which_drone = drone_uniform\n",
    "\n",
    "bool_skip_2D_plots = True\n",
    "# set to True to not compute 2D plots of measurements (can take quite a while to compute)"
   ]
  },
  {
   "cell_type": "markdown",
   "id": "dbdfcf77",
   "metadata": {},
   "source": [
    "### inverse problem setup"
   ]
  },
  {
   "cell_type": "code",
   "execution_count": 14,
   "id": "3f8ae6ba",
   "metadata": {},
   "outputs": [
    {
     "name": "stdout",
     "output_type": "stream",
     "text": [
      "State solve time (5 parameters): 0.132965087890625 s\n"
     ]
    }
   ],
   "source": [
    "# define inverse problem\n",
    "inversion = InverseProblem(fom, which_drone)\n",
    "\n",
    "# compute the states for the parameter basis\n",
    "tStart = time.time()\n",
    "inversion.compute_states(np.eye(n_para))\n",
    "print(\"State solve time ({} parameters): {} s\".format(n_para, time.time()-tStart))\n",
    "\n",
    "# initialize object for computing the utility\n",
    "utility = OEDUtility(inversion)"
   ]
  },
  {
   "cell_type": "code",
   "execution_count": 15,
   "id": "f8eed64a",
   "metadata": {},
   "outputs": [],
   "source": [
    "# admissible domain\n",
    "radius_min = la.norm(np.array([0.75, 0.55])/2 - np.array([0.5, 0.4])) # 0.1767\n",
    "radius_max = la.norm(np.array([0, 0.55])/2) # 0.275\n",
    "# drone may not collide with buildings or leave the domain\n",
    "\n",
    "final_time = grid_t[-1]\n",
    "speed_max = 2 * np.pi * radius_min / final_time\n",
    "# maximum speed is chosen such that go for at most one circle\n",
    "\n",
    "vec_speed = np.linspace(0.05 * speed_max, speed_max, n_test)\n",
    "vec_radius = np.linspace(radius_min, radius_max, n_test+1)\n",
    "# note: I'm not making the vectors the same lengths so I don't accidentally confuse the directions"
   ]
  },
  {
   "cell_type": "markdown",
   "id": "374dbbde",
   "metadata": {},
   "source": [
    "### plot OED utility functions"
   ]
  },
  {
   "cell_type": "code",
   "execution_count": 16,
   "id": "146bdd07",
   "metadata": {},
   "outputs": [],
   "source": [
    "if not bool_skip_2D_plots:\n",
    "\n",
    "    tStart = time.time()\n",
    "\n",
    "    # grid over admissible domain\n",
    "    vec_speed_2d = np.linspace(0.05 * speed_max, speed_max, n_test_2d)\n",
    "    vec_radius_2d = np.linspace(radius_min, radius_max, n_test_2d+1)\n",
    "\n",
    "    # initialize\n",
    "    util = np.zeros((3, n_test_2d+1, n_test_2d))\n",
    "\n",
    "    for i in range(n_test_2d+1):\n",
    "        for j in range(n_test_2d):\n",
    "\n",
    "            alpha = np.array([vec_radius_2d[i], vec_speed_2d[j]])\n",
    "            posterior = inversion.compute_posterior(alpha=alpha)\n",
    "\n",
    "            util[0, i, j] = utility.eval_utility(posterior, mode=\"A\")\n",
    "            util[1, i, j] = utility.eval_utility(posterior, mode=\"D\")\n",
    "            util[2, i, j] = utility.eval_utility(posterior, mode=\"E\")\n",
    "\n",
    "    print(\"Runtime of this block: \", (time.time()-tStart)/60, \"min.\") # expect about 2 min for drone_gaussian"
   ]
  },
  {
   "cell_type": "code",
   "execution_count": 17,
   "id": "b1ee9d13",
   "metadata": {},
   "outputs": [],
   "source": [
    "if not bool_skip_2D_plots:\n",
    "\n",
    "    fig, axs = plt.subplots(1, 3, figsize=(15,5))\n",
    "\n",
    "    for i in range(3):\n",
    "        axs[i].pcolormesh(vec_speed_2d, vec_radius_2d, util[i, :, :])\n",
    "        axs[i].set_xlabel(\"speed\")\n",
    "        axs[i].set_ylabel(\"radius\")\n",
    "\n",
    "    axs[0].set_title(\"A-OED\")\n",
    "    axs[1].set_title(\"D-OED\")\n",
    "    axs[2].set_title(\"E-OED\")"
   ]
  },
  {
   "cell_type": "markdown",
   "id": "5abd917e",
   "metadata": {},
   "source": [
    "### visualize derivatives"
   ]
  },
  {
   "cell_type": "code",
   "execution_count": 18,
   "id": "bbf3bb77",
   "metadata": {},
   "outputs": [
    {
     "name": "stdout",
     "output_type": "stream",
     "text": [
      "Evaluating utility at reference\n",
      "Evaluating derivatives at reference\n",
      "mean time for taking derivativies:  4.024266640345256\n",
      "Starting to compute 1D plot points\n",
      "Runtime of this block:  11.491187516848246 min.\n"
     ]
    }
   ],
   "source": [
    "# user input: Where to evaluate the derivative:\n",
    "speed_test = 0.22 # choose value between 0 and max(vec_speed) \\approx 0.27768018\n",
    "radius_test = 0.25 # choose value between radius_min \\approx 0.1767766952966369 and radius_max \\approx 0.275\n",
    "\n",
    "tStart = time.time()\n",
    "\n",
    "## IMPORTANT FOR THE OPTIMIZATION !!\n",
    "alpha_test = np.array([radius_test, speed_test])\n",
    "posterior_ref = inversion.compute_posterior(alpha=alpha_test)\n",
    "\n",
    "util_ref = np.zeros(4)\n",
    "print(\"Evaluating utility at reference\")\n",
    "util_ref[0] = utility.eval_utility(posterior_ref, mode=\"A\")\n",
    "util_ref[1] = utility.eval_utility(posterior_ref, mode=\"D\")\n",
    "util_ref[2] = utility.eval_utility(posterior_ref, mode=\"D-inverse\")\n",
    "util_ref[3] = utility.eval_utility(posterior_ref, mode=\"E\")\n",
    "\n",
    "print(\"Evaluating derivatives at reference\")\n",
    "tStart_sub = time.time()\n",
    "der_ref_A = utility.d_utility_d_control(posterior_ref, mode=\"A\")\n",
    "der_ref_D = utility.d_utility_d_control(posterior_ref, mode=\"D\")\n",
    "der_ref_Dinv = utility.d_utility_d_control(posterior_ref, mode=\"D-inverse\")\n",
    "print(\"mean time for taking derivativies: \", (time.time()-tStart_sub)/3)\n",
    "## done with the important part\n",
    "\n",
    "print(\"Starting to compute 1D plot points\")\n",
    "util_test = np.zeros((4, 2, n_test+1))\n",
    "for i in range(n_test+1):\n",
    "    #print(\"iteration {} / {}\".format(i+1, n_test+1))\n",
    "    \n",
    "    if i < n_test:\n",
    "        # vec_speed has one entry less (to avoid accidentally transposing the results)\n",
    "        \n",
    "        alpha = np.array([radius_test, vec_speed[i]])\n",
    "        posterior = inversion.compute_posterior(alpha=alpha)\n",
    "\n",
    "        util_test[0, 0, i] = utility.eval_utility(posterior, mode=\"A\")\n",
    "        util_test[1, 0, i] = utility.eval_utility(posterior, mode=\"D\")\n",
    "        util_test[2, 0, i] = utility.eval_utility(posterior, mode=\"D-inverse\")\n",
    "        util_test[3, 0, i] = utility.eval_utility(posterior, mode=\"E\")\n",
    "        \n",
    "    alpha = np.array([vec_radius[i], speed_test])\n",
    "    posterior = inversion.compute_posterior(alpha=alpha)\n",
    "\n",
    "    util_test[0, 1, i] = utility.eval_utility(posterior, mode=\"A\")\n",
    "    util_test[1, 1, i] = utility.eval_utility(posterior, mode=\"D\")\n",
    "    util_test[2, 1, i] = utility.eval_utility(posterior, mode=\"D-inverse\")\n",
    "    util_test[3, 0, i] = utility.eval_utility(posterior, mode=\"E\")\n",
    "    \n",
    "print(\"Runtime of this block: \", (time.time()-tStart)/60, \"min.\") # expect 0.2 min for gaussian drone"
   ]
  },
  {
   "cell_type": "code",
   "execution_count": 19,
   "id": "a6b69ee3",
   "metadata": {},
   "outputs": [
    {
     "data": {
      "text/plain": [
       "Text(0.5, 0, 'speed')"
      ]
     },
     "execution_count": 19,
     "metadata": {},
     "output_type": "execute_result"
    },
    {
     "data": {
      "image/png": "[encoded data removed]",
      "text/plain": [
       "<Figure size 1080x360 with 3 Axes>"
      ]
     },
     "metadata": {
      "needs_background": "light"
     },
     "output_type": "display_data"
    }
   ],
   "source": [
    "fig, axs = plt.subplots(1, 3, figsize=(15, 5))\n",
    "scale = 0.01\n",
    "norm = la.norm(der_ref_A)\n",
    "\n",
    "if not bool_skip_2D_plots:\n",
    "    axs[0].pcolormesh(vec_speed_2d, vec_radius_2d, util[0, :, :])\n",
    "    axs[0].plot([vec_speed_2d[0], vec_speed_2d[-1]], [radius_test, radius_test], color=\"r\", marker=None)\n",
    "    axs[0].plot([speed_test, speed_test], [vec_radius_2d[0], vec_radius_2d[-1]], color=\"r\", marker=None)\n",
    "    axs[0].plot([speed_test, speed_test - 0.5 * scale * der_ref_A[1]], \n",
    "                [radius_test, radius_test - 0.5 * scale * der_ref_A[0]], \n",
    "                color = \"w\", marker = None)\n",
    "    axs[0].set_xlabel(\"speed\")\n",
    "    axs[0].set_ylabel(\"radius\")\n",
    "    axs[0].set_title(\"A-OED\")\n",
    "\n",
    "axs[1].plot(vec_radius, util_test[0, 1, :])\n",
    "axs[1].plot([radius_test], util_ref[0], marker=\"x\", markersize=8, color=\"r\")\n",
    "axs[1].plot([radius_test, radius_test + scale], \n",
    "            [util_ref[0], util_ref[0]+scale*der_ref_A[0]], \n",
    "            marker=\"\", markersize=8, color=\"r\")\n",
    "axs[1].set_xlabel(\"radius\")\n",
    "\n",
    "axs[2].plot(vec_speed, util_test[0, 0, :-1])\n",
    "axs[2].plot([speed_test], util_ref[0], marker=\"x\", markersize=8, color=\"r\")\n",
    "axs[2].plot([speed_test, speed_test + scale], \n",
    "            [util_ref[0], util_ref[0]+scale*der_ref_A[1]], \n",
    "            marker=\"\", markersize=8, color=\"r\")\n",
    "axs[2].set_xlabel(\"speed\")"
   ]
  },
  {
   "cell_type": "code",
   "execution_count": 20,
   "id": "4aa0805b",
   "metadata": {},
   "outputs": [
    {
     "data": {
      "text/plain": [
       "Text(0.5, 0, 'speed')"
      ]
     },
     "execution_count": 20,
     "metadata": {},
     "output_type": "execute_result"
    },
    {
     "data": {
      "image/png": "[encoded data removed]",
      "text/plain": [
       "<Figure size 1080x360 with 3 Axes>"
      ]
     },
     "metadata": {
      "needs_background": "light"
     },
     "output_type": "display_data"
    }
   ],
   "source": [
    "fig, axs = plt.subplots(1, 3, figsize=(15, 5))\n",
    "scale = 0.01\n",
    "norm = la.norm(der_ref_D)\n",
    "\n",
    "if not bool_skip_2D_plots:\n",
    "    axs[0].pcolormesh(vec_speed_2d, vec_radius_2d, util[1, :, :])\n",
    "    axs[0].plot([vec_speed_2d[0], vec_speed_2d[-1]], [radius_test, radius_test], color=\"r\", marker=None)\n",
    "    axs[0].plot([speed_test, speed_test], [vec_radius_2d[0], vec_radius_2d[-1]], color=\"r\", marker=None)\n",
    "    axs[0].plot([speed_test, speed_test - 0.5 * scale * der_ref_D[1]], \n",
    "                [radius_test, radius_test - 0.5 * scale * der_ref_D[0]], \n",
    "                color = \"w\", marker = None)\n",
    "    axs[0].set_xlabel(\"speed\")\n",
    "    axs[0].set_ylabel(\"radius\")\n",
    "    axs[0].set_title(\"D-OED\")\n",
    "\n",
    "axs[1].plot(vec_radius, util_test[1, 1, :])\n",
    "axs[1].plot([radius_test], util_ref[1], marker=\"x\", markersize=8, color=\"r\")\n",
    "axs[1].plot([radius_test, radius_test + scale], \n",
    "            [util_ref[1], util_ref[1]+scale*der_ref_D[0]], \n",
    "            marker=\"\", markersize=8, color=\"r\")\n",
    "axs[1].set_xlabel(\"radius\")\n",
    "\n",
    "axs[2].plot(vec_speed, util_test[1, 0, :-1])\n",
    "axs[2].plot([speed_test], util_ref[1], marker=\"x\", markersize=8, color=\"r\")\n",
    "axs[2].plot([speed_test, speed_test + scale], \n",
    "            [util_ref[1], util_ref[1]+scale*der_ref_D[1]], \n",
    "            marker=\"\", markersize=8, color=\"r\")\n",
    "axs[2].set_xlabel(\"speed\")"
   ]
  },
  {
   "cell_type": "code",
   "execution_count": 21,
   "id": "7d5b79cf",
   "metadata": {},
   "outputs": [
    {
     "data": {
      "text/plain": [
       "Text(0.5, 0, 'speed')"
      ]
     },
     "execution_count": 21,
     "metadata": {},
     "output_type": "execute_result"
    },
    {
     "data": {
      "image/png": "[encoded data removed]",
      "text/plain": [
       "<Figure size 1080x360 with 3 Axes>"
      ]
     },
     "metadata": {
      "needs_background": "light"
     },
     "output_type": "display_data"
    }
   ],
   "source": [
    "fig, axs = plt.subplots(1, 3, figsize=(15, 5))\n",
    "scale = 0.01\n",
    "norm = la.norm(der_ref_D)\n",
    "\n",
    "if not bool_skip_2D_plots:\n",
    "    axs[0].pcolormesh(vec_speed_2d, vec_radius_2d, 1/util[1, :, :])\n",
    "    axs[0].plot([vec_speed_2d[0], vec_speed_2d[-1]], [radius_test, radius_test], color=\"r\", marker=None)\n",
    "    axs[0].plot([speed_test, speed_test], [vec_radius_2d[0], vec_radius_2d[-1]], color=\"r\", marker=None)\n",
    "    axs[0].plot([speed_test, speed_test + 0.2 * scale * der_ref_Dinv[1]], \n",
    "                [radius_test, radius_test + 0.2 * scale * der_ref_Dinv[0]], \n",
    "                color = \"w\", marker = None)\n",
    "    # positive gradient direction because we want to maximize\n",
    "\n",
    "axs[0].set_xlabel(\"speed\")\n",
    "axs[0].set_ylabel(\"radius\")\n",
    "axs[0].set_title(\"D-OED, inverse\")\n",
    "\n",
    "axs[1].plot(vec_radius, util_test[2, 1, :])\n",
    "axs[1].plot([radius_test], util_ref[2], marker=\"x\", markersize=8, color=\"r\")\n",
    "axs[1].plot([radius_test, radius_test + scale], \n",
    "            [util_ref[2], util_ref[2]+scale*der_ref_Dinv[0]], \n",
    "            marker=\"\", markersize=8, color=\"r\")\n",
    "axs[1].set_xlabel(\"radius\")\n",
    "\n",
    "axs[2].plot(vec_speed, util_test[2, 0, :-1])\n",
    "axs[2].plot([speed_test], util_ref[2], marker=\"x\", markersize=8, color=\"r\")\n",
    "axs[2].plot([speed_test, speed_test + scale], \n",
    "            [util_ref[2], util_ref[2]+scale*der_ref_Dinv[1]], \n",
    "            marker=\"\", markersize=8, color=\"r\")\n",
    "axs[2].set_xlabel(\"speed\")"
   ]
  },
  {
   "cell_type": "markdown",
   "id": "c22f2ac2",
   "metadata": {},
   "source": [
    "## The End."
   ]
  },
  {
   "cell_type": "code",
   "execution_count": 22,
   "id": "b20caa71",
   "metadata": {},
   "outputs": [
    {
     "name": "stdout",
     "output_type": "stream",
     "text": [
      "Runtime of this notebook: 11.602837419509887 min\n"
     ]
    }
   ],
   "source": [
    "runtime_notebook = time.time()-tStart_notebook\n",
    "print(\"Runtime of this notebook: {} min\".format(runtime_notebook / 60))"
   ]
  }
 ],
 "metadata": {
  "kernelspec": {
   "display_name": "Python 3 (ipykernel)",
   "language": "python",
   "name": "python3"
  },
  "language_info": {
   "codemirror_mode": {
    "name": "ipython",
    "version": 3
   },
   "file_extension": ".py",
   "mimetype": "text/x-python",
   "name": "python",
   "nbconvert_exporter": "python",
   "pygments_lexer": "ipython3",
   "version": "3.10.0"
  }
 },
 "nbformat": 4,
 "nbformat_minor": 5
}
