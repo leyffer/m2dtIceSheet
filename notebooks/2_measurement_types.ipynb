{
 "cells": [
  {
   "cell_type": "markdown",
   "id": "4185dfbc",
   "metadata": {},
   "source": [
    "# Measurement types\n",
    "In this notebook we\n",
    "- compare the different ways of taking measurements (point-wise, different convolution types)\n",
    "- make sure the gradients work in each case"
   ]
  },
  {
   "cell_type": "markdown",
   "id": "6158db0a",
   "metadata": {},
   "source": [
    "## Imports"
   ]
  },
  {
   "cell_type": "code",
   "execution_count": 1,
   "id": "0f2b1f10",
   "metadata": {},
   "outputs": [],
   "source": [
    "import sys\n",
    "sys.path.insert(0, \"../source/\")\n",
    "sys.path.insert(0, \"../models/AdvectionDiffusion_FEniCS\")\n",
    "\n",
    "import numpy as np\n",
    "import matplotlib.pyplot as plt\n",
    "import scipy.linalg as la\n",
    "\n",
    "from InverseProblem import InverseProblem\n",
    "from FOM_stationary import FOM_stationary as FOM\n",
    "from OEDUtility import OEDUtility\n",
    "\n",
    "from MyDronePointEval import MyDronePointEval as DronePointEval\n",
    "from MyDroneUniformEval import MyDroneUniformEval as DroneUniformEval\n",
    "from MyDroneTruncGaussianEval import MyDroneTruncGaussianEval as DroneTruncGaussianEval\n",
    "from MyDroneGaussianEval import MyDroneGaussianEval as DroneGaussianEval\n",
    "\n",
    "import time\n",
    "tStart_notebook = time.time()"
   ]
  },
  {
   "cell_type": "markdown",
   "id": "8aac58e2",
   "metadata": {},
   "source": [
    "## User settings"
   ]
  },
  {
   "cell_type": "code",
   "execution_count": 2,
   "id": "6321459b",
   "metadata": {},
   "outputs": [],
   "source": [
    "n_para = 5\n",
    "var_prior = 1 # set to a high value (1e+6) to test convergence in noise-free situations\n",
    "\n",
    "n_test = 100 # resolution for 1D plots\n",
    "n_test_2d = 60 # resolution for 2D plots (50: ~1 min runtime for dt = 0.01)\n",
    "\n",
    "sigma = 0.1\n",
    "radius = 0.1\n",
    "\n",
    "meshDim = 50"
   ]
  },
  {
   "cell_type": "markdown",
   "id": "570ed498",
   "metadata": {},
   "source": [
    "## Setup"
   ]
  },
  {
   "cell_type": "markdown",
   "id": "7012a13b",
   "metadata": {},
   "source": [
    "Setup the full-order model. We've imported `FOM_stationary` class as `FOM`."
   ]
  },
  {
   "cell_type": "code",
   "execution_count": 3,
   "id": "de1ee830",
   "metadata": {},
   "outputs": [
    {
     "name": "stdout",
     "output_type": "stream",
     "text": [
      "Runtime of this block: 1.6165878772735596 s\n"
     ]
    }
   ],
   "source": [
    "tStart = time.time()\n",
    "fom = FOM(meshDim = meshDim)\n",
    "print(\"Runtime of this block: {} s\".format(time.time()-tStart))\n",
    "\n",
    "# compute one solution for nicer visualization below\n",
    "para_true = np.ones((n_para,))\n",
    "state = fom.solve(parameter=para_true)"
   ]
  },
  {
   "cell_type": "markdown",
   "id": "aa2d07f7",
   "metadata": {},
   "source": [
    "Set the prior, just as in the previous notebook:"
   ]
  },
  {
   "cell_type": "code",
   "execution_count": 4,
   "id": "94030bbb",
   "metadata": {},
   "outputs": [],
   "source": [
    "prior_mean = np.zeros((n_para,))\n",
    "prior_covar = var_prior*np.eye(n_para)\n",
    "\n",
    "fom.set_prior(prior_mean=prior_mean, prior_covar=prior_covar)"
   ]
  },
  {
   "cell_type": "markdown",
   "id": "eb780b71",
   "metadata": {},
   "source": [
    "## Drones"
   ]
  },
  {
   "cell_type": "markdown",
   "id": "e2f8c376",
   "metadata": {},
   "source": [
    "### types of measurements"
   ]
  },
  {
   "cell_type": "markdown",
   "id": "503c47a7",
   "metadata": {},
   "source": [
    "#### point-wise measurements\n",
    "The simplest measurement type, we've already seen it in the previous notebook:\n",
    "\n",
    "$$d(s) = u(x=p(t), s=s)$$\n",
    "\n",
    "where\n",
    "- $p$ is the flightpath\n",
    "- $s$ the time at which we evaluate the measurement"
   ]
  },
  {
   "cell_type": "code",
   "execution_count": 5,
   "id": "b7d00d5b",
   "metadata": {},
   "outputs": [],
   "source": [
    "drone_pointwise = DronePointEval(fom)"
   ]
  },
  {
   "cell_type": "markdown",
   "id": "eadd0100",
   "metadata": {},
   "source": [
    "#### convolution-type: uniform\n",
    "Another possibility for modelling the measurements is to choose a weighted characteristic function $\\Phi(x,y) = \\|\\Omega_y\\|^{-1} \\mathbb{1}_{\\Omega_y}(x)$ for a measureable domain $\\Omega_y \\subset \\Omega$, $y \\in \\Omega_y$. In this case a measurement of the state $u$ at time $s$ around position $y$ has the form\n",
    "$$\\ell_y(u,s) := \\int_{\\Omega} u(x, s) \\Phi(x,y) dx = \\frac{1}{\\|\\Omega_y\\|} \\int_{\\Omega_y} u(x, s) dx.$$ \n",
    "It is the mean value of a state $u$ over the subdomain $\\Omega_y$. \n",
    "\n",
    "For our drones, we choose $y$ as the position the flight path $p$ reaches at time $s$, i.e. $y=p(s)$. We then get:\n",
    "$$d(s) = \\ell_{p(s)}(u,s)$$\n",
    "\n",
    "For our example problem we have chosen \n",
    "$$\\Omega_y = B_r(y) \\cap \\Omega,$$\n",
    "i.e. a ball (actually circle since we are in 2D) around the point $y$ with radius $r$ intersected with the modelling domain $\\Omega$. Of course, in discrete forms it's not quite a circle until we look at the limit $h\\rightarrow 0$ of infinitely small mesh size, but for a sufficiently refined mesh it's good enough."
   ]
  },
  {
   "cell_type": "code",
   "execution_count": 6,
   "id": "4fc8874e",
   "metadata": {},
   "outputs": [],
   "source": [
    "drone_uniform = DroneUniformEval(fom, radius=radius)"
   ]
  },
  {
   "cell_type": "markdown",
   "id": "9a04816f",
   "metadata": {},
   "source": [
    "#### convolution-type: truncated gaussian\n",
    "The drone flies over the point $y = p(s)$ but then takes a measurement at a random location $x$ with $\\|x-y\\| \\le \\sigma$, i.e. a close point but not exactly $y$. The distribution for which $x$ is chosen is described by a truncated Gaussian. We can model this measurement statistically as the expectation of the state under this distribution.\n",
    "\n",
    "\\begin{align}\n",
    "\\Phi(x, y) = \\left\\{\n",
    "\\begin{array}{ll}\n",
    "0 & \\text{if } \\|x-y\\| \\le 2\\sigma \\\\\n",
    "C\\exp(-\\frac{1}{2\\sigma^2} \\|x-y\\|^2) & \\text{otherwise}\n",
    "\\end{array}\n",
    "\\right.\n",
    "\\end{align}\n",
    "where $C$ is chosen such that $\\int_{\\Omega} \\Phi(x, y) dx = 1$ for all $y$. We need the re-scaling such that $\\Phi(\\cdot, y)$ is indeed a probability densition function.\n",
    "\n",
    "We define the measurement centered around a point $y \\in \\Omega$ of a state $u \\in H^1(\\Omega)$ as \n",
    "$$\\ell_y(u, s) := \\int_{\\Omega} u(x, s) \\Phi(x, y) dx \n",
    "= \\int_{\\|x-y\\| \\le 2\\sigma} u(x, s) \\Phi(x, y) dx \n",
    "= \\mathbb{E}_{\\pi_y}[u(\\cdot, s)]\n",
    "\\in \\mathbb{R}$$ \n",
    "where $\\pi_y$ is the probability measure for the probability density function $\\Phi(\\cdot, y)$.\n",
    "\n",
    "For our drone measurements we then get:\n",
    "$$d(s) = \\ell_{p(s)}(u, s)$$"
   ]
  },
  {
   "cell_type": "code",
   "execution_count": 7,
   "id": "43f2f833",
   "metadata": {},
   "outputs": [],
   "source": [
    "drone_truncated = DroneTruncGaussianEval(fom, radius=radius, sigma=sigma, bool_truncate=True)\n",
    "drone_nontruncated = DroneTruncGaussianEval(fom, radius=radius, sigma=sigma, bool_truncate=False)"
   ]
  },
  {
   "cell_type": "markdown",
   "id": "9d539166",
   "metadata": {},
   "source": [
    "**NOTE:** Currently the truncated gaussian is super, super slow. I'm not entirely sure why. We did have it set up wrong in the initial FEniCS version though, that's why I cannot compare to that. Instead of putting you through all this wait time, I'm instead computing the non-truncated Gaussian measurement. We can use it to compare to the other implementation of it below."
   ]
  },
  {
   "cell_type": "markdown",
   "id": "b8a588fc",
   "metadata": {},
   "source": [
    "#### convolution-type: gaussian\n",
    "**todo:** write description / explation"
   ]
  },
  {
   "cell_type": "code",
   "execution_count": 8,
   "id": "1d42221b",
   "metadata": {},
   "outputs": [
    {
     "name": "stdout",
     "output_type": "stream",
     "text": [
      "Gaussian drone initialization time:  0.00020575523376464844  s.\n"
     ]
    }
   ],
   "source": [
    "tStart = time.time()\n",
    "drone_gaussian = DroneGaussianEval(fom, sigma=sigma)\n",
    "print(\"Gaussian drone initialization time: \", time.time()-tStart, \" s.\")"
   ]
  },
  {
   "cell_type": "markdown",
   "id": "9804125d",
   "metadata": {},
   "source": [
    "**Note:** I haven't looked into which boundary conditions we need to set for the heat equation such that we indeed get the correct interpretation of the measurements with this class. Take any measurements with this function with a grain of salt."
   ]
  },
  {
   "cell_type": "markdown",
   "id": "5ccc4d7d",
   "metadata": {},
   "source": [
    "## Comparison"
   ]
  },
  {
   "cell_type": "markdown",
   "id": "72b461ec",
   "metadata": {},
   "source": [
    "The flight path will be the same for each drone, so we can just get it from one of them:"
   ]
  },
  {
   "cell_type": "code",
   "execution_count": 9,
   "id": "5478a57f",
   "metadata": {},
   "outputs": [
    {
     "data": {
      "text/plain": [
       "[<matplotlib.lines.Line2D at 0x165380e80>]"
      ]
     },
     "execution_count": 9,
     "metadata": {},
     "output_type": "execute_result"
    },
    {
     "data": {
      "image/png": "[encoded data removed]",
      "text/plain": [
       "<Figure size 432x288 with 2 Axes>"
      ]
     },
     "metadata": {
      "needs_background": "light"
     },
     "output_type": "display_data"
    }
   ],
   "source": [
    "alpha = np.array([0.25, 0.1])\n",
    "flightpath, grid_t = drone_pointwise.get_trajectory(alpha=alpha)\n",
    "\n",
    "fom.plot(state)\n",
    "plt.plot(flightpath[:, 0], flightpath[:, 1], color=\"r\")"
   ]
  },
  {
   "cell_type": "code",
   "execution_count": 10,
   "id": "6ae0b41b",
   "metadata": {},
   "outputs": [
    {
     "name": "stdout",
     "output_type": "stream",
     "text": [
      "Starting: measurements with pointwise drone\n",
      "Starting: measurements with uniform drone\n",
      "Starting: measurements with trunc. Gaussian drone\n",
      "Starting: measurements with Gaussian, incorr. BC drone\n",
      "[7.96914101e-03 3.12720969e+01 3.25205781e+01 0.00000000e+00\n",
      " 1.52797508e+00]\n"
     ]
    }
   ],
   "source": [
    "data = np.zeros((5, grid_t.shape[0]))\n",
    "measurement_time = np.zeros(5)\n",
    "names = [\"pointwise\", \"uniform\", \"trunc. Gaussian\", \"not-trunc. Gaussian\", \"Gaussian, incorr. BC\"]\n",
    "\n",
    "print(\"Starting: measurements with {} drone\".format(names[0]))\n",
    "tStart = time.time()\n",
    "data[0,:] = drone_pointwise.measure(state=state, flightpath=flightpath, grid_t=grid_t)\n",
    "measurement_time[0] = time.time()-tStart\n",
    "\n",
    "print(\"Starting: measurements with {} drone\".format(names[1]))\n",
    "tStart = time.time()\n",
    "data[1,:] = drone_uniform.measure(state=state, flightpath=flightpath, grid_t=grid_t)\n",
    "measurement_time[1] = time.time()-tStart\n",
    "\n",
    "print(\"Starting: measurements with {} drone\".format(names[2]))\n",
    "tStart = time.time()\n",
    "drone_truncated.is_test = True\n",
    "data[2,:] = drone_truncated.measure(state=state, flightpath=flightpath, grid_t=grid_t)\n",
    "measurement_time[2] = time.time()-tStart\n",
    "\n",
    "# print(\"Starting: measurements with {} drone\".format(names[3]))\n",
    "# tStart = time.time()\n",
    "# data[3,:] = drone_nontruncated.measure(state=state, flightpath=flightpath, grid_t=grid_t)\n",
    "# measurement_time[3] = time.time()-tStart\n",
    "\n",
    "print(\"Starting: measurements with {} drone\".format(names[4]))\n",
    "tStart = time.time()\n",
    "data[4,:] = drone_gaussian.measure(state=state, flightpath=flightpath, grid_t=grid_t)\n",
    "measurement_time[4] = time.time()-tStart\n",
    "\n",
    "print(measurement_time)"
   ]
  },
  {
   "cell_type": "code",
   "execution_count": 11,
   "id": "c1e08c4f",
   "metadata": {},
   "outputs": [
    {
     "data": {
      "text/plain": [
       "<matplotlib.legend.Legend at 0x16545faf0>"
      ]
     },
     "execution_count": 11,
     "metadata": {},
     "output_type": "execute_result"
    },
    {
     "data": {
      "image/png": "[encoded data removed]",
      "text/plain": [
       "<Figure size 432x288 with 1 Axes>"
      ]
     },
     "metadata": {
      "needs_background": "light"
     },
     "output_type": "display_data"
    }
   ],
   "source": [
    "fig, ax = plt.subplots(1,1)\n",
    "\n",
    "for i in [0, 1, 2, 4]:\n",
    "    ax.plot(grid_t, data[i, :], label = names[i])\n",
    "    \n",
    "ax.set_xlabel(\"time (drone is flying)\")\n",
    "ax.set_ylabel(\"measurement\")\n",
    "ax.set_title(\"measurement along flightpath\")\n",
    "ax.legend()"
   ]
  },
  {
   "cell_type": "code",
   "execution_count": null,
   "id": "9c514791",
   "metadata": {},
   "outputs": [],
   "source": []
  }
 ],
 "metadata": {
  "kernelspec": {
   "display_name": "Python 3 (ipykernel)",
   "language": "python",
   "name": "python3"
  },
  "language_info": {
   "codemirror_mode": {
    "name": "ipython",
    "version": 3
   },
   "file_extension": ".py",
   "mimetype": "text/x-python",
   "name": "python",
   "nbconvert_exporter": "python",
   "pygments_lexer": "ipython3",
   "version": "3.10.0"
  }
 },
 "nbformat": 4,
 "nbformat_minor": 5
}
