{
 "cells": [
  {
   "cell_type": "markdown",
   "id": "b9a25155",
   "metadata": {},
   "source": [
    "# Transient PDE\n",
    "In this previous notebooks we have always considered a stationary PDE. The reason behind this choice was preminarily to reduce computational cost, especially during code development. The theory of our work, however, works analogously for stationary and transient PDEs - the main restriction being the linear dependence on the parameters. In this notebook we therefore showcase how the OED setup works out for a time dependent PDE."
   ]
  },
  {
   "cell_type": "markdown",
   "id": "832173ab",
   "metadata": {},
   "source": [
    "## Imports"
   ]
  },
  {
   "cell_type": "code",
   "execution_count": 1,
   "id": "c24159be",
   "metadata": {},
   "outputs": [],
   "source": [
    "import sys\n",
    "sys.path.insert(0, \"../source/\")\n",
    "sys.path.insert(0, \"../source/helpers\")\n",
    "sys.path.insert(0, \"../models/AdvectionDiffusion/settings/AdvectionDiffusion_FEniCS\")\n",
    "sys.path.insert(0, \"../models/AdvectionDiffusion/Navigators\")\n",
    "sys.path.insert(0, \"../models/AdvectionDiffusion/Detectors\")\n",
    "\n",
    "import numpy as np\n",
    "import matplotlib.pyplot as plt\n",
    "import scipy.linalg as la\n",
    "\n",
    "from InverseProblem import InverseProblem\n",
    "from Drone import Drone as Drone\n",
    "from DetectorPointwise import DetectorPointwise as Detector\n",
    "from NavigationCircle import NavigationCircle as Navigation\n",
    "from OEDUtility import OEDUtility\n",
    "\n",
    "import film_a_movie\n",
    "\n",
    "import time\n",
    "tStart_notebook = time.time()"
   ]
  },
  {
   "cell_type": "markdown",
   "id": "fcf5b45e",
   "metadata": {},
   "source": [
    "## User settings"
   ]
  },
  {
   "cell_type": "markdown",
   "id": "f91a3c29",
   "metadata": {},
   "source": [
    "These are the main setup choices for the user of this notebook. Changes to other codeblocks below are not necessary for running the notebook, but are highlighted at places."
   ]
  },
  {
   "cell_type": "code",
   "execution_count": 2,
   "id": "8ffcbed5",
   "metadata": {},
   "outputs": [],
   "source": [
    "# parameter \n",
    "centers = [[0.35, 0.7], [0.8, 0.2], [0.7, 0.5], [0.1, 0.9], [0.1, 0.2]]\n",
    "var_prior = 1 # set to a high value (1e+6) to test convergence in noise-free situations\n",
    "\n",
    "# FOM\n",
    "meshDim = 60  # discretization parameter (1D) for FOM\n",
    "polyDim = 3\n",
    "\n",
    "# drone\n",
    "meshDim_drone = 10  # discretization parameter (1D) for subdomain in truncation-type measurements\n",
    "n_steps = 201\n",
    "\n",
    "# plots\n",
    "bool_film_a_movie = False\n",
    "bool_skip_2D_plots = False\n",
    "\n",
    "n_test = 40  # resolution for 1D plots\n",
    "n_test_2d = 20  # resolution for 2D plots (50: ~1 min runtime for dt = 0.01)"
   ]
  },
  {
   "cell_type": "markdown",
   "id": "fedd5e16",
   "metadata": {},
   "source": [
    "Beyond the initial `FOM` class initialization, our code should work and be called the same way independent of wheather the model is transient or stationary. To test this in the code below, change the variable `bool_transient` to toggle between stationary and transient."
   ]
  },
  {
   "cell_type": "code",
   "execution_count": 3,
   "id": "b393ac98",
   "metadata": {},
   "outputs": [],
   "source": [
    "bool_transient = True"
   ]
  },
  {
   "cell_type": "markdown",
   "id": "9456dc37",
   "metadata": {},
   "source": [
    "## Setup"
   ]
  },
  {
   "cell_type": "markdown",
   "id": "2111c44f",
   "metadata": {},
   "source": [
    "We import the model class that corresponds to `bool_transient`."
   ]
  },
  {
   "cell_type": "code",
   "execution_count": 4,
   "id": "8a2ae02c",
   "metadata": {},
   "outputs": [],
   "source": [
    "# import class according to bool_transient\n",
    "\n",
    "if bool_transient:\n",
    "    from FOM import FOM as FOM\n",
    "else:\n",
    "    from FOM_stationary import FOM_stationary as FOM"
   ]
  },
  {
   "cell_type": "markdown",
   "id": "6aa992ae",
   "metadata": {},
   "source": [
    "Initialize the model"
   ]
  },
  {
   "cell_type": "code",
   "execution_count": 5,
   "id": "b3fb714d",
   "metadata": {},
   "outputs": [
    {
     "name": "stdout",
     "output_type": "stream",
     "text": [
      "Runtime of this block: 3.037853956222534 s\n"
     ]
    }
   ],
   "source": [
    "# initialize full-order model\n",
    "tStart = time.time()\n",
    "fom = FOM(meshDim = meshDim, centers=centers, polyDim=polyDim)\n",
    "print(\"Runtime of this block: {} s\".format(time.time()-tStart))\n",
    "n_para = fom.n_para"
   ]
  },
  {
   "cell_type": "markdown",
   "id": "ebe6c510",
   "metadata": {},
   "source": [
    "We run the model in the same way as before, no additional inputs are needed."
   ]
  },
  {
   "cell_type": "code",
   "execution_count": 6,
   "id": "aeefe74e",
   "metadata": {},
   "outputs": [
    {
     "name": "stdout",
     "output_type": "stream",
     "text": [
      "Calling FFC just-in-time (JIT) compiler, this may take some time.\n",
      "Calling FFC just-in-time (JIT) compiler, this may take some time.\n",
      "FOM solve time: 20.52319622039795 s.\n"
     ]
    }
   ],
   "source": [
    "para = np.ones((n_para,))\n",
    "\n",
    "tStart = time.time()\n",
    "state = fom.solve(parameter=para)\n",
    "print(\"FOM solve time: {} s.\".format(time.time()-tStart))"
   ]
  },
  {
   "cell_type": "markdown",
   "id": "56fb794a",
   "metadata": {},
   "source": [
    "For making a single plot, we need to specify the time at which to plot the state. Note that for the stationary model, the time value will not cause an error and the same state will be plotted regardless of time (the stationary model is still considered as a function of time).\n",
    "\n",
    "Also note that even thought the state was solved on its own time grid, we can specify an arbitrary time here, as long as it remains within the time horizon within which the model was solved."
   ]
  },
  {
   "cell_type": "code",
   "execution_count": 7,
   "id": "fb0a91d9",
   "metadata": {},
   "outputs": [
    {
     "data": {
      "image/png": "[encoded data removed]",
      "text/plain": [
       "<Figure size 432x288 with 2 Axes>"
      ]
     },
     "metadata": {
      "needs_background": "light"
     },
     "output_type": "display_data"
    }
   ],
   "source": [
    "# user setting\n",
    "t = 1\n",
    "\n",
    "fom.plot(u=state, time=t)"
   ]
  },
  {
   "cell_type": "markdown",
   "id": "67907dbd",
   "metadata": {},
   "source": [
    "## Measurements"
   ]
  },
  {
   "cell_type": "code",
   "execution_count": 8,
   "id": "60d1e763",
   "metadata": {},
   "outputs": [],
   "source": [
    "# set a prior\n",
    "prior_mean = np.zeros((n_para,))\n",
    "prior_covar = var_prior*np.eye(n_para)\n",
    "fom.set_prior(prior_mean=prior_mean, prior_covar=prior_covar)\n",
    "\n",
    "# NavigationCircle was imported as Navigation\n",
    "navigation = Navigation(grid_t = np.linspace(0, 4, n_steps))\n",
    "\n",
    "# point-wise measurements\n",
    "detector = Detector(fom)\n",
    "\n",
    "# initialize drone\n",
    "drone = Drone(detector=detector, navigation=navigation)"
   ]
  },
  {
   "cell_type": "code",
   "execution_count": 9,
   "id": "0f8d7a3b",
   "metadata": {},
   "outputs": [
    {
     "name": "stderr",
     "output_type": "stream",
     "text": [
      "/Users/nicole/anaconda3/envs/m2dt_oed_FEniCS/lib/python3.10/site-packages/ufl/exproperators.py:336: FutureWarning: elementwise comparison failed; returning scalar instead, but in the future will perform elementwise comparison\n",
      "  if arg in (\"+\", \"-\"):\n"
     ]
    }
   ],
   "source": [
    "# user setting: characterize the flight path\n",
    "alpha = np.array([0.25, 0.2]) # radius, speed\n",
    "\n",
    "# compute flight for alpha\n",
    "flight = drone.plan_flight(alpha=alpha)\n",
    "\n",
    "# measure data\n",
    "data = drone.measure(flight=flight, state=state)"
   ]
  },
  {
   "cell_type": "code",
   "execution_count": 10,
   "id": "b30db1e7",
   "metadata": {},
   "outputs": [
    {
     "data": {
      "text/plain": [
       "[<matplotlib.lines.Line2D at 0x161f2ef80>]"
      ]
     },
     "execution_count": 10,
     "metadata": {},
     "output_type": "execute_result"
    },
    {
     "data": {
      "image/png": "[encoded data removed]",
      "text/plain": [
       "<Figure size 432x288 with 1 Axes>"
      ]
     },
     "metadata": {
      "needs_background": "light"
     },
     "output_type": "display_data"
    }
   ],
   "source": [
    "fig, ax = plt.subplots(1,1)\n",
    "ax.plot(flight.grid_t, data)"
   ]
  },
  {
   "cell_type": "markdown",
   "id": "73a4fd8b",
   "metadata": {},
   "source": [
    "Interpreting the data visually is a little bit harder for the transient setting than in the stationary setting, because, well, the state changes in time (duh) so we can't just plot a stationary figure in the background for comparison. Instead, for nice visualization, the block below creates a `.gif` that can be watched outside the notebook. Depending on the model setup this process can take a while, so the user has the opportunity to toggle this block using `bool_film_a_movie`."
   ]
  },
  {
   "cell_type": "code",
   "execution_count": 11,
   "id": "218c3956",
   "metadata": {},
   "outputs": [],
   "source": [
    "if bool_film_a_movie:\n",
    "    film_a_movie.film_the_state(state=state, \n",
    "                                filename=\"plots/transientPDE\", \n",
    "                                flight = flight, \n",
    "                                runtime=3, \n",
    "                                dt_disp=0.1)\n",
    "    \n",
    "    film_a_movie.film_the_data(data=data, \n",
    "                               filename=\"plots/transientData\", \n",
    "                               grid_t = flight.grid_t, \n",
    "                               runtime=3, \n",
    "                               dt_disp=0.1)"
   ]
  },
  {
   "cell_type": "markdown",
   "id": "5c5a5080",
   "metadata": {},
   "source": [
    "To get these animations in shape for a conference talk, there's still some fine tuning to do. In general though, we see this works quite nicely and is much more fun to look at too."
   ]
  },
  {
   "cell_type": "markdown",
   "id": "fa3936cc",
   "metadata": {},
   "source": [
    "## Getting ready for the OED problem"
   ]
  },
  {
   "cell_type": "markdown",
   "id": "88eb6752",
   "metadata": {},
   "source": [
    "For the transient model, everything should work just as before. We follow the exact same steps as in the previous notebooks:"
   ]
  },
  {
   "cell_type": "code",
   "execution_count": 12,
   "id": "9cbb7cf1",
   "metadata": {},
   "outputs": [
    {
     "name": "stdout",
     "output_type": "stream",
     "text": [
      "State solve time (5 parameters): 84.26243305206299 s\n"
     ]
    }
   ],
   "source": [
    "# define inverse problem\n",
    "inversion = InverseProblem(fom, drone)\n",
    "\n",
    "# compute the states for the parameter basis\n",
    "tStart = time.time()\n",
    "inversion.compute_states(np.eye(n_para))\n",
    "print(\"State solve time ({} parameters): {} s\".format(n_para, time.time()-tStart))\n",
    "\n",
    "# initialize object for computing the utility\n",
    "utility = OEDUtility(inversion)"
   ]
  },
  {
   "cell_type": "code",
   "execution_count": 13,
   "id": "203db160",
   "metadata": {},
   "outputs": [
    {
     "name": "stderr",
     "output_type": "stream",
     "text": [
      "/Users/nicole/anaconda3/envs/m2dt_oed_FEniCS/lib/python3.10/site-packages/ufl/exproperators.py:336: FutureWarning: elementwise comparison failed; returning scalar instead, but in the future will perform elementwise comparison\n",
      "  if arg in (\"+\", \"-\"):\n"
     ]
    },
    {
     "name": "stdout",
     "output_type": "stream",
     "text": [
      "A-OED: 2.1641800652810605\n",
      "D-OED: 0.0008490758280907799\n",
      "E-OED: 0.9159596612981687\n"
     ]
    }
   ],
   "source": [
    "# user setting: control parameter\n",
    "alpha = np.array([0.25, 0.2])\n",
    "\n",
    "# compute posterior\n",
    "posterior = inversion.compute_posterior(alpha=alpha)\n",
    "\n",
    "print(\"A-OED:\", utility.eval_utility(posterior, mode=\"A\"))\n",
    "print(\"D-OED:\", utility.eval_utility(posterior, mode=\"D\"))\n",
    "print(\"E-OED:\", utility.eval_utility(posterior, mode=\"E\"))"
   ]
  },
  {
   "cell_type": "markdown",
   "id": "d88b3012",
   "metadata": {},
   "source": [
    "## 2D visualization"
   ]
  },
  {
   "cell_type": "markdown",
   "id": "a8eacd80",
   "metadata": {},
   "source": [
    "We visualize the OED utility functions in 2D. We are again using radius and speed for reference because they are easy to interpret intuitively."
   ]
  },
  {
   "cell_type": "code",
   "execution_count": 14,
   "id": "daba6c6f",
   "metadata": {},
   "outputs": [],
   "source": [
    "# admissible domain\n",
    "radius_min = la.norm(np.array([0.75, 0.55])/2 - np.array([0.5, 0.4])) # 0.1767\n",
    "radius_max = la.norm(np.array([0, 0.55])/2) # 0.275\n",
    "# drone may not collide with buildings or leave the domain\n",
    "\n",
    "final_time = drone.grid_t[-1]\n",
    "speed_max = 2 * np.pi * radius_min / final_time\n",
    "# maximum speed is chosen such that go for at most one circle\n",
    "\n",
    "vec_speed = np.linspace(0.05 * speed_max, speed_max, n_test)\n",
    "vec_radius = np.linspace(radius_min, radius_max, n_test+1)\n",
    "# note: I'm not making the vectors the same lengths so I don't accidentally confuse the directions"
   ]
  },
  {
   "cell_type": "code",
   "execution_count": 15,
   "id": "cb557ef2",
   "metadata": {},
   "outputs": [
    {
     "name": "stdout",
     "output_type": "stream",
     "text": [
      "iteration 1/21\n",
      "iteration 2/21\n",
      "iteration 3/21\n",
      "iteration 4/21\n",
      "iteration 5/21\n",
      "iteration 6/21\n",
      "iteration 7/21\n",
      "iteration 8/21\n",
      "iteration 9/21\n",
      "iteration 10/21\n",
      "iteration 11/21\n",
      "iteration 12/21\n",
      "iteration 13/21\n",
      "iteration 14/21\n",
      "iteration 15/21\n",
      "iteration 16/21\n",
      "iteration 17/21\n",
      "iteration 18/21\n",
      "iteration 19/21\n",
      "iteration 20/21\n",
      "iteration 21/21\n",
      "Runtime of this block:  2.4100877324740093 min.\n"
     ]
    }
   ],
   "source": [
    "if not bool_skip_2D_plots:\n",
    "\n",
    "    tStart = time.time()\n",
    "\n",
    "    # grid over admissible domain\n",
    "    vec_speed_2d = np.linspace(0.05 * speed_max, speed_max, n_test_2d)\n",
    "    vec_radius_2d = np.linspace(radius_min, radius_max, n_test_2d+1)\n",
    "\n",
    "    # initialize\n",
    "    util = np.zeros((3, n_test_2d+1, n_test_2d))\n",
    "\n",
    "    for i in range(n_test_2d+1):\n",
    "        \n",
    "        print(f\"iteration {i+1}/{n_test_2d+1}\")\n",
    "        \n",
    "        for j in range(n_test_2d):\n",
    "\n",
    "            alpha = np.array([vec_radius_2d[i], vec_speed_2d[j]])\n",
    "            posterior = inversion.compute_posterior(alpha=alpha)\n",
    "\n",
    "            util[0, i, j] = utility.eval_utility(posterior, mode=\"A\")\n",
    "            util[1, i, j] = utility.eval_utility(posterior, mode=\"D\")\n",
    "            util[2, i, j] = utility.eval_utility(posterior, mode=\"E\")\n",
    "\n",
    "    print(\"Runtime of this block: \", (time.time()-tStart)/60, \"min.\") \n",
    "    # expect 0.6 min for n_test_2d=10"
   ]
  },
  {
   "cell_type": "code",
   "execution_count": 16,
   "id": "cc7f063e",
   "metadata": {},
   "outputs": [
    {
     "data": {
      "image/png": "[encoded data removed]",
      "text/plain": [
       "<Figure size 1080x360 with 3 Axes>"
      ]
     },
     "metadata": {
      "needs_background": "light"
     },
     "output_type": "display_data"
    }
   ],
   "source": [
    "if not bool_skip_2D_plots:\n",
    "\n",
    "    fig, axs = plt.subplots(1, 3, figsize=(15,5))\n",
    "\n",
    "    for i in range(3):\n",
    "        axs[i].pcolormesh(vec_speed_2d, vec_radius_2d, util[i, :, :])\n",
    "        axs[i].set_xlabel(\"speed\")\n",
    "        axs[i].set_ylabel(\"radius\")\n",
    "\n",
    "    axs[0].set_title(\"A-OED\")\n",
    "    axs[1].set_title(\"D-OED\")\n",
    "    axs[2].set_title(\"E-OED\")"
   ]
  },
  {
   "cell_type": "markdown",
   "id": "d87d5d2a",
   "metadata": {},
   "source": [
    "This time, we actually see a big difference between the different utility functions. We explain this in the next section below."
   ]
  },
  {
   "cell_type": "code",
   "execution_count": 17,
   "id": "0c335994",
   "metadata": {},
   "outputs": [
    {
     "name": "stdout",
     "output_type": "stream",
     "text": [
      "Evaluating utility at reference\n",
      "Evaluating derivatives at reference\n",
      "mean time for taking derivativies:  45.82011294364929  s.\n",
      "Starting to compute 1D plot points\n",
      "iteration 1 / 41\n",
      "iteration 2 / 41\n",
      "iteration 3 / 41\n",
      "iteration 4 / 41\n",
      "iteration 5 / 41\n",
      "iteration 6 / 41\n",
      "iteration 7 / 41\n",
      "iteration 8 / 41\n",
      "iteration 9 / 41\n",
      "iteration 10 / 41\n",
      "iteration 11 / 41\n",
      "iteration 12 / 41\n",
      "iteration 13 / 41\n",
      "iteration 14 / 41\n",
      "iteration 15 / 41\n",
      "iteration 16 / 41\n",
      "iteration 17 / 41\n",
      "iteration 18 / 41\n",
      "iteration 19 / 41\n",
      "iteration 20 / 41\n",
      "iteration 21 / 41\n",
      "iteration 22 / 41\n",
      "iteration 23 / 41\n",
      "iteration 24 / 41\n",
      "iteration 25 / 41\n",
      "iteration 26 / 41\n",
      "iteration 27 / 41\n",
      "iteration 28 / 41\n",
      "iteration 29 / 41\n",
      "iteration 30 / 41\n",
      "iteration 31 / 41\n",
      "iteration 32 / 41\n",
      "iteration 33 / 41\n",
      "iteration 34 / 41\n",
      "iteration 35 / 41\n",
      "iteration 36 / 41\n",
      "iteration 37 / 41\n",
      "iteration 38 / 41\n",
      "iteration 39 / 41\n",
      "iteration 40 / 41\n",
      "iteration 41 / 41\n",
      "Runtime of this block:  2.761108946800232 min.\n"
     ]
    }
   ],
   "source": [
    "# user input: Where to evaluate the derivative:\n",
    "speed_test = 0.075 # choose value between 0 and max(vec_speed) \\approx 0.27768018\n",
    "radius_test = 0.25 # choose value between radius_min \\approx 0.1767766952966369 and radius_max \\approx 0.275\n",
    "\n",
    "tStart = time.time()\n",
    "\n",
    "## IMPORTANT FOR THE OPTIMIZATION !!\n",
    "alpha_test = np.array([radius_test, speed_test])\n",
    "posterior_ref = inversion.compute_posterior(alpha=alpha_test)\n",
    "\n",
    "util_ref = np.zeros(4)\n",
    "print(\"Evaluating utility at reference\")\n",
    "util_ref[0] = utility.eval_utility(posterior_ref, mode=\"A\")\n",
    "util_ref[1] = utility.eval_utility(posterior_ref, mode=\"D\")\n",
    "util_ref[2] = utility.eval_utility(posterior_ref, mode=\"D-inverse\")\n",
    "util_ref[3] = utility.eval_utility(posterior_ref, mode=\"E\")\n",
    "\n",
    "print(\"Evaluating derivatives at reference\")\n",
    "tStart_sub = time.time()\n",
    "der_ref_A = utility.d_utility_d_control(posterior_ref, mode=\"A\")\n",
    "der_ref_D = utility.d_utility_d_control(posterior_ref, mode=\"D\")\n",
    "der_ref_Dinv = utility.d_utility_d_control(posterior_ref, mode=\"D-inverse\")\n",
    "print(\"mean time for taking derivativies: \", (time.time()-tStart_sub)/3, \" s.\")\n",
    "## done with the important part\n",
    "\n",
    "print(\"Starting to compute 1D plot points\")\n",
    "util_test = np.zeros((4, 2, n_test+1))\n",
    "for i in range(n_test+1):\n",
    "    print(\"iteration {} / {}\".format(i+1, n_test+1))\n",
    "    \n",
    "    if i < n_test:\n",
    "        # vec_speed has one entry less (to avoid accidentally transposing the results)\n",
    "        \n",
    "        alpha = np.array([radius_test, vec_speed[i]])\n",
    "        posterior = inversion.compute_posterior(alpha=alpha)\n",
    "\n",
    "        util_test[0, 0, i] = utility.eval_utility(posterior, mode=\"A\")\n",
    "        util_test[1, 0, i] = utility.eval_utility(posterior, mode=\"D\")\n",
    "        util_test[2, 0, i] = utility.eval_utility(posterior, mode=\"D-inverse\")\n",
    "        util_test[3, 0, i] = utility.eval_utility(posterior, mode=\"E\")\n",
    "        \n",
    "    alpha = np.array([vec_radius[i], speed_test])\n",
    "    posterior = inversion.compute_posterior(alpha=alpha)\n",
    "\n",
    "    util_test[0, 1, i] = utility.eval_utility(posterior, mode=\"A\")\n",
    "    util_test[1, 1, i] = utility.eval_utility(posterior, mode=\"D\")\n",
    "    util_test[2, 1, i] = utility.eval_utility(posterior, mode=\"D-inverse\")\n",
    "    util_test[3, 0, i] = utility.eval_utility(posterior, mode=\"E\")\n",
    "    \n",
    "print(\"Runtime of this block: \", (time.time()-tStart)/60, \"min.\") # expect 0.2 min for gaussian drone"
   ]
  },
  {
   "cell_type": "code",
   "execution_count": 18,
   "id": "02c07fbe",
   "metadata": {},
   "outputs": [
    {
     "data": {
      "text/plain": [
       "Text(0.5, 0, 'speed')"
      ]
     },
     "execution_count": 18,
     "metadata": {},
     "output_type": "execute_result"
    },
    {
     "data": {
      "image/png": "[encoded data removed]",
      "text/plain": [
       "<Figure size 1080x360 with 3 Axes>"
      ]
     },
     "metadata": {
      "needs_background": "light"
     },
     "output_type": "display_data"
    }
   ],
   "source": [
    "fig, axs = plt.subplots(1, 3, figsize=(15, 5))\n",
    "norm = la.norm(der_ref_A)\n",
    "scale = 1/norm\n",
    "\n",
    "if not bool_skip_2D_plots:\n",
    "    axs[0].pcolormesh(vec_speed_2d, vec_radius_2d, util[0, :, :])\n",
    "    axs[0].plot([vec_speed_2d[0], vec_speed_2d[-1]], [radius_test, radius_test], color=\"r\", marker=None)\n",
    "    axs[0].plot([speed_test, speed_test], [vec_radius_2d[0], vec_radius_2d[-1]], color=\"r\", marker=None)\n",
    "    axs[0].plot([speed_test, speed_test - scale * der_ref_A[1]], \n",
    "                [radius_test, radius_test - scale * der_ref_A[0]], \n",
    "                color = \"w\", marker = None)\n",
    "    axs[0].set_xlabel(\"speed\")\n",
    "    axs[0].set_ylabel(\"radius\")\n",
    "    axs[0].set_xlim([np.min(vec_speed), np.max(vec_speed)])\n",
    "    axs[0].set_ylim([np.min(vec_radius), np.max(vec_radius)])\n",
    "    axs[0].set_title(\"A-OED\")\n",
    "\n",
    "axs[1].plot(vec_radius, util_test[0, 1, :])\n",
    "axs[1].plot([radius_test], util_ref[0], marker=\"x\", markersize=8, color=\"r\")\n",
    "axs[1].plot([radius_test, radius_test + scale], \n",
    "            [util_ref[0], util_ref[0]+scale*der_ref_A[0]], \n",
    "            marker=\"\", markersize=8, color=\"r\")\n",
    "axs[1].set_xlabel(\"radius\")\n",
    "\n",
    "axs[2].plot(vec_speed, util_test[0, 0, :-1])\n",
    "axs[2].plot([speed_test], util_ref[0], marker=\"x\", markersize=8, color=\"r\")\n",
    "axs[2].plot([speed_test, speed_test + scale], \n",
    "            [util_ref[0], util_ref[0]+scale*der_ref_A[1]], \n",
    "            marker=\"\", markersize=8, color=\"r\")\n",
    "axs[2].set_xlabel(\"speed\")"
   ]
  },
  {
   "cell_type": "code",
   "execution_count": 19,
   "id": "6e2f02d4",
   "metadata": {},
   "outputs": [
    {
     "data": {
      "text/plain": [
       "Text(0.5, 0, 'speed')"
      ]
     },
     "execution_count": 19,
     "metadata": {},
     "output_type": "execute_result"
    },
    {
     "data": {
      "image/png": "[encoded data removed]",
      "text/plain": [
       "<Figure size 1080x360 with 3 Axes>"
      ]
     },
     "metadata": {
      "needs_background": "light"
     },
     "output_type": "display_data"
    }
   ],
   "source": [
    "fig, axs = plt.subplots(1, 3, figsize=(15, 5))\n",
    "norm = la.norm(der_ref_D)\n",
    "scale = 0.01/norm\n",
    "\n",
    "if not bool_skip_2D_plots:\n",
    "    axs[0].pcolormesh(vec_speed_2d, vec_radius_2d, util[1, :, :])\n",
    "    axs[0].plot([vec_speed_2d[0], vec_speed_2d[-1]], [radius_test, radius_test], color=\"r\", marker=None)\n",
    "    axs[0].plot([speed_test, speed_test], [vec_radius_2d[0], vec_radius_2d[-1]], color=\"r\", marker=None)\n",
    "    axs[0].plot([speed_test, speed_test - scale * der_ref_D[1]], \n",
    "                [radius_test, radius_test - scale * der_ref_D[0]], \n",
    "                color = \"w\", marker = None)\n",
    "    axs[0].set_xlabel(\"speed\")\n",
    "    axs[0].set_ylabel(\"radius\")\n",
    "    axs[0].set_xlim([np.min(vec_speed), np.max(vec_speed)])\n",
    "    axs[0].set_ylim([np.min(vec_radius), np.max(vec_radius)])\n",
    "    axs[0].set_title(\"D-OED\")\n",
    "\n",
    "axs[1].plot(vec_radius, util_test[1, 1, :])\n",
    "axs[1].plot([radius_test], util_ref[1], marker=\"x\", markersize=8, color=\"r\")\n",
    "axs[1].plot([radius_test, radius_test + scale], \n",
    "            [util_ref[1], util_ref[1]+scale*der_ref_D[0]], \n",
    "            marker=\"\", markersize=8, color=\"r\")\n",
    "axs[1].set_xlabel(\"radius\")\n",
    "\n",
    "axs[2].plot(vec_speed, util_test[1, 0, :-1])\n",
    "axs[2].plot([speed_test], util_ref[1], marker=\"x\", markersize=8, color=\"r\")\n",
    "axs[2].plot([speed_test, speed_test + scale], \n",
    "            [util_ref[1], util_ref[1]+scale*der_ref_D[1]], \n",
    "            marker=\"\", markersize=8, color=\"r\")\n",
    "axs[2].set_xlabel(\"speed\")"
   ]
  },
  {
   "cell_type": "markdown",
   "id": "bf153470",
   "metadata": {},
   "source": [
    "## Interpreting the utility functions\n",
    "Let's understand why, in constrast to the stationary model, the OED utility functions look so different."
   ]
  },
  {
   "cell_type": "code",
   "execution_count": 20,
   "id": "0e196006",
   "metadata": {},
   "outputs": [],
   "source": [
    "# todo: look at the posterior covariance matrix"
   ]
  },
  {
   "cell_type": "markdown",
   "id": "19d241a9",
   "metadata": {},
   "source": [
    "**Welcome back!** \n",
    "Next steps: \n",
    "- Understand why the derivative looks so off for A-OED.\n",
    "- explain OED utility function value using the posterior covariance matrix."
   ]
  },
  {
   "cell_type": "code",
   "execution_count": null,
   "id": "db86c1bb",
   "metadata": {},
   "outputs": [],
   "source": []
  }
 ],
 "metadata": {
  "kernelspec": {
   "display_name": "Python 3 (ipykernel)",
   "language": "python",
   "name": "python3"
  },
  "language_info": {
   "codemirror_mode": {
    "name": "ipython",
    "version": 3
   },
   "file_extension": ".py",
   "mimetype": "text/x-python",
   "name": "python",
   "nbconvert_exporter": "python",
   "pygments_lexer": "ipython3",
   "version": "3.10.0"
  }
 },
 "nbformat": 4,
 "nbformat_minor": 5
}
