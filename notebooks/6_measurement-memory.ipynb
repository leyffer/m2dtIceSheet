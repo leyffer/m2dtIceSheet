{
 "cells": [
  {
   "cell_type": "markdown",
   "id": "e449ed8d",
   "metadata": {},
   "source": [
    "# Measurement Memory\n",
    "In the optimization of the flight path, we need to compute measurements at many positions, which is expensive for the convolution type measurements. However, during the optimization's steps, especially towards the end when the algorithm converges, those measurement positions don't actually change that much. It therefore makes sense to save them instead than computing them from scratch every time."
   ]
  },
  {
   "cell_type": "markdown",
   "id": "32c15585",
   "metadata": {},
   "source": [
    "## Imports"
   ]
  },
  {
   "cell_type": "code",
   "execution_count": 1,
   "id": "fbd9dffb",
   "metadata": {},
   "outputs": [],
   "source": [
    "import sys\n",
    "sys.path.insert(0, \"../source/\")\n",
    "sys.path.insert(0, \"../models/AdvectionDiffusion/settings/AdvectionDiffusion_FEniCS\")\n",
    "sys.path.insert(0, \"../models/AdvectionDiffusion/Navigators\")\n",
    "sys.path.insert(0, \"../models/AdvectionDiffusion/Detectors\")\n",
    "\n",
    "import numpy as np\n",
    "import matplotlib.pyplot as plt\n",
    "import scipy.linalg as la\n",
    "\n",
    "from InverseProblem import InverseProblem\n",
    "from OEDUtility import OEDUtility\n",
    "from Drone import Drone as Drone\n",
    "\n",
    "from DetectorPointwise import DetectorPointwise\n",
    "from DetectorUniform import DetectorUniform\n",
    "from DetectorGaussian import DetectorGaussian\n",
    "from DetectorTruncGaussian import DetectorTruncGaussian\n",
    "from NavigationCircle import NavigationCircle as Navigation\n",
    "\n",
    "import time\n",
    "tStart_notebook = time.time()"
   ]
  },
  {
   "cell_type": "markdown",
   "id": "962d0311",
   "metadata": {},
   "source": [
    "## User settings"
   ]
  },
  {
   "cell_type": "code",
   "execution_count": 2,
   "id": "de6e1b50",
   "metadata": {},
   "outputs": [],
   "source": [
    "centers = [[0.4, 0.6], [0.6, 0.4]]\n",
    "var_prior = 1 # set to a high value (1e+6) to test convergence in noise-free situations\n",
    "\n",
    "n_test_2d = 100  # resolution for 2D plots (50: ~1 min runtime for dt = 0.01)\n",
    "\n",
    "n_steps = 100\n",
    "\n",
    "sigma = 0.05  # std deviation for gaussian-type measurements. Get pointwise data for sigma -> 0\n",
    "radius = 0.005  # truncation radius for truncation-style measurements\n",
    "\n",
    "meshDim = 20  # discretization parameter (1D) for FOM\n",
    "meshDim_drone = 5  # discretization parameter (1D) for subdomain in truncation-type measurements\n",
    "polyDim = 3\n",
    "\n",
    "bool_transient = False  # stationary or transient model?\n",
    "\n",
    "# what kind of measurements\n",
    "which_detector = \"uniform\" #\"truncGaussian\" #\"pointwise\" #\"truncGaussian\" #\"uniform\" #\"pointwise\""
   ]
  },
  {
   "cell_type": "markdown",
   "id": "e7295e70",
   "metadata": {},
   "source": [
    "## Setup"
   ]
  },
  {
   "cell_type": "code",
   "execution_count": 3,
   "id": "50f07275",
   "metadata": {},
   "outputs": [],
   "source": [
    "# import classes according to settings\n",
    "\n",
    "# transient or stationary model?\n",
    "if bool_transient:\n",
    "    from FOM import FOM as FOM\n",
    "else:\n",
    "    from FOM_stationary import FOM_stationary as FOM\n",
    "    \n",
    "# what type of measurements?\n",
    "if which_detector == \"pointwise\":\n",
    "    from DetectorPointwise import DetectorPointwise as Detector\n",
    "elif which_detector == \"uniform\":\n",
    "    from DetectorUniform import DetectorUniform as Detector\n",
    "elif which_detector == \"truncGaussian\":\n",
    "    from DetectorTruncGaussian import DetectorTruncGaussian as Detector\n",
    "elif which_detector == \"Gaussian\":\n",
    "    raise NotImplementedError(\"DetectorGaussian not yet supported for transient problems (need to figure out boundary conditions)\")\n",
    "else:\n",
    "    raise RuntimeError(\"invalid detector class\")"
   ]
  },
  {
   "cell_type": "markdown",
   "id": "387de183",
   "metadata": {},
   "source": [
    "initializations"
   ]
  },
  {
   "cell_type": "code",
   "execution_count": 4,
   "id": "7d654920",
   "metadata": {},
   "outputs": [
    {
     "name": "stdout",
     "output_type": "stream",
     "text": [
      "Runtime of this block: 0.367556095123291 s\n"
     ]
    }
   ],
   "source": [
    "# initialize full-order model\n",
    "tStart = time.time()\n",
    "fom = FOM(meshDim = meshDim, centers=centers, polyDim=polyDim)\n",
    "print(\"Runtime of this block: {} s\".format(time.time()-tStart))\n",
    "n_para = fom.n_para\n",
    "\n",
    "# set a prior\n",
    "prior_mean = np.zeros((n_para,))\n",
    "prior_covar = var_prior*np.eye(n_para)\n",
    "fom.set_prior(prior_mean=prior_mean, prior_covar=prior_covar)\n",
    "\n",
    "# NavigationCircle was imported as Navigation\n",
    "navigation = Navigation(grid_t = np.linspace(0, 4, n_steps))\n",
    "\n",
    "# point-wise measurements\n",
    "detector = Detector(fom, meshDim=meshDim_drone, radius=radius, sigma=sigma)\n",
    "\n",
    "# initialize drone\n",
    "drone = Drone(detector=detector, navigation=navigation)"
   ]
  },
  {
   "cell_type": "markdown",
   "id": "29d3847a",
   "metadata": {},
   "source": [
    "## Remembering measurements"
   ]
  },
  {
   "cell_type": "markdown",
   "id": "507f4289",
   "metadata": {},
   "source": [
    "We start off from an arbitrary state for which we want to take measurements. In the optimization, there will be one state for each parameter basis function. Here we only look at one to demonstrate."
   ]
  },
  {
   "cell_type": "code",
   "execution_count": 5,
   "id": "a5223d6b",
   "metadata": {},
   "outputs": [
    {
     "name": "stdout",
     "output_type": "stream",
     "text": [
      "FOM solve time: 0.2755911350250244 s.\n"
     ]
    }
   ],
   "source": [
    "para = np.ones((n_para,))\n",
    "\n",
    "tStart = time.time()\n",
    "state = fom.solve(parameter=para)\n",
    "print(\"FOM solve time: {} s.\".format(time.time()-tStart))"
   ]
  },
  {
   "cell_type": "markdown",
   "id": "b8ebb46c",
   "metadata": {},
   "source": [
    "We choose flight path that is approximate a quarter circle, just for demonstration:"
   ]
  },
  {
   "cell_type": "code",
   "execution_count": 6,
   "id": "727a5d1f",
   "metadata": {},
   "outputs": [],
   "source": [
    "# user setting: characterize the flight path\n",
    "alpha = np.array([0.25, 0.1]) # radius, speed\n",
    "\n",
    "# compute flight for alpha\n",
    "flight = drone.plan_flight(alpha=alpha)"
   ]
  },
  {
   "cell_type": "code",
   "execution_count": 7,
   "id": "cda76643",
   "metadata": {},
   "outputs": [
    {
     "data": {
      "text/plain": [
       "[<matplotlib.lines.Line2D at 0x164636110>]"
      ]
     },
     "execution_count": 7,
     "metadata": {},
     "output_type": "execute_result"
    },
    {
     "data": {
      "image/png": "[encoded data removed]",
      "text/plain": [
       "<Figure size 432x288 with 2 Axes>"
      ]
     },
     "metadata": {
      "needs_background": "light"
     },
     "output_type": "display_data"
    }
   ],
   "source": [
    "flightpath, grid_t = flight.flightpath, flight.grid_t\n",
    "\n",
    "fom.plot(state, time=grid_t[-1])\n",
    "plt.plot(flightpath[:, 0], flightpath[:, 1], color=\"r\")\n",
    "plt.plot([flightpath[0, 0]], [flightpath[0, 1]], color=\"r\", marker=\"s\")\n",
    "plt.plot([flightpath[-1, 0]], [flightpath[-1, 1]], color=\"r\", marker=\"d\")"
   ]
  },
  {
   "cell_type": "markdown",
   "id": "7f66be94",
   "metadata": {},
   "source": [
    "In our baseline code, a measurement along this path takes about half a second. If the same code is run again, it takes about the same time again. Obviously that's not efficient when the discretization is fine and we need to take many measurements several times in the course of the optimization."
   ]
  },
  {
   "cell_type": "code",
   "execution_count": 8,
   "id": "cbf105dd",
   "metadata": {},
   "outputs": [
    {
     "name": "stdout",
     "output_type": "stream",
     "text": [
      "measurement time (run 1):  0.17809820175170898 s.\n",
      "measurement time (run 2):  0.002373933792114258 s.\n"
     ]
    }
   ],
   "source": [
    "# measure data\n",
    "tStart = time.time()\n",
    "data = drone.measure(flight=flight, state=state)\n",
    "print(\"measurement time (run 1): \", time.time()-tStart, \"s.\")\n",
    "\n",
    "tStart = time.time()\n",
    "data = drone.measure(flight=flight, state=state)\n",
    "print(\"measurement time (run 2): \", time.time()-tStart, \"s.\")"
   ]
  },
  {
   "cell_type": "markdown",
   "id": "6897bcfc",
   "metadata": {},
   "source": [
    "After the first, longer computation, all following measurements for the same flight path should be very fast. More than that, if we evaluate on a flightpath that overlaps with the current one, the evaluation should speed up too:"
   ]
  },
  {
   "cell_type": "code",
   "execution_count": 9,
   "id": "5f0de76e",
   "metadata": {},
   "outputs": [
    {
     "name": "stdout",
     "output_type": "stream",
     "text": [
      "measurement time (run 1):  0.004130125045776367 s.\n",
      "measurement time (run 2):  0.0017838478088378906 s.\n"
     ]
    }
   ],
   "source": [
    "# user setting: characterize the flight path\n",
    "alpha = np.array([0.25, 0.05]) # radius, speed\n",
    "\n",
    "# compute flight for alpha\n",
    "flight = drone.plan_flight(alpha=alpha)\n",
    "\n",
    "# measure data\n",
    "tStart = time.time()\n",
    "data = drone.measure(flight=flight, state=state)\n",
    "print(\"measurement time (run 1): \", time.time()-tStart, \"s.\")\n",
    "\n",
    "tStart = time.time()\n",
    "data = drone.measure(flight=flight, state=state)\n",
    "print(\"measurement time (run 2): \", time.time()-tStart, \"s.\")"
   ]
  },
  {
   "cell_type": "markdown",
   "id": "8ba98cae",
   "metadata": {},
   "source": [
    "The only times when this doesn't happen is when the time discretization is so coarse in comparison to the measurement memory mesh that it needs to compute entries that were previously skipped."
   ]
  },
  {
   "cell_type": "markdown",
   "id": "c5302b88",
   "metadata": {},
   "source": [
    "If we extend our path, for instance by flying half a circle instead of a quarter, we only need to compute those additional entries that weren't reached before:"
   ]
  },
  {
   "cell_type": "code",
   "execution_count": 10,
   "id": "a3450d08",
   "metadata": {},
   "outputs": [
    {
     "name": "stdout",
     "output_type": "stream",
     "text": [
      "measurement time (run 1):  0.1523740291595459 s.\n",
      "measurement time (run 2):  0.0016970634460449219 s.\n"
     ]
    }
   ],
   "source": [
    "# user setting: characterize the flight path\n",
    "alpha = np.array([0.25, 0.2]) # radius, speed\n",
    "\n",
    "# compute flight for alpha\n",
    "flight = drone.plan_flight(alpha=alpha)\n",
    "\n",
    "# measure data\n",
    "tStart = time.time()\n",
    "data = drone.measure(flight=flight, state=state)\n",
    "print(\"measurement time (run 1): \", time.time()-tStart, \"s.\")\n",
    "\n",
    "tStart = time.time()\n",
    "data = drone.measure(flight=flight, state=state)\n",
    "print(\"measurement time (run 2): \", time.time()-tStart, \"s.\")"
   ]
  },
  {
   "cell_type": "markdown",
   "id": "e4ce9853",
   "metadata": {},
   "source": [
    "Of course we are introducing approximation error by evaluating the measurements on the memory mesh. We can disable the memory by setting:"
   ]
  },
  {
   "cell_type": "code",
   "execution_count": 11,
   "id": "2169418d",
   "metadata": {},
   "outputs": [],
   "source": [
    "detector.bool_remember_measurements = False"
   ]
  },
  {
   "cell_type": "markdown",
   "id": "0408a3f7",
   "metadata": {},
   "source": [
    "Now the code takes very long again, but does not have the approximation error. Let's see how much difference it makes:"
   ]
  },
  {
   "cell_type": "code",
   "execution_count": 12,
   "id": "bb0ca449",
   "metadata": {},
   "outputs": [
    {
     "name": "stdout",
     "output_type": "stream",
     "text": [
      "measurement time (run 2):  0.15893888473510742 s.\n"
     ]
    }
   ],
   "source": [
    "tStart = time.time()\n",
    "data_exact = drone.measure(flight=flight, state=state)\n",
    "print(\"measurement time (run 2): \", time.time()-tStart, \"s.\")"
   ]
  },
  {
   "cell_type": "code",
   "execution_count": 13,
   "id": "131fdcd5",
   "metadata": {},
   "outputs": [
    {
     "data": {
      "text/plain": [
       "<matplotlib.legend.Legend at 0x164747580>"
      ]
     },
     "execution_count": 13,
     "metadata": {},
     "output_type": "execute_result"
    },
    {
     "data": {
      "image/png": "[encoded data removed]",
      "text/plain": [
       "<Figure size 864x360 with 2 Axes>"
      ]
     },
     "metadata": {
      "needs_background": "light"
     },
     "output_type": "display_data"
    }
   ],
   "source": [
    "fig, axs = plt.subplots(1, 2, figsize=(12, 5))\n",
    "\n",
    "axs[0].plot(data, label = \"approximation\")\n",
    "axs[0].plot(data_exact, label=\"exact\")\n",
    "\n",
    "axs[1].semilogy(np.abs(data-data_exact), label = \"absolute error\")\n",
    "axs[1].semilogy(np.abs(data-data_exact)/np.abs(data), label = \"relative error\")\n",
    "\n",
    "axs[0].legend()\n",
    "axs[1].legend()"
   ]
  },
  {
   "cell_type": "markdown",
   "id": "63818b75",
   "metadata": {},
   "source": [
    "For our example here (stationary) the error is $\\approx 1e-5$, or just under 1%. That's ok I guess. If the error needs to be smaller, we can always refine the discretization in the memory mesh."
   ]
  },
  {
   "cell_type": "markdown",
   "id": "174b3174",
   "metadata": {},
   "source": [
    "## Derivatives"
   ]
  },
  {
   "cell_type": "markdown",
   "id": "dd1f89f0",
   "metadata": {},
   "source": [
    "Another advantage of storing measuremnts in memory is that we can\n",
    "- a) do the same with the derivatives\n",
    "- b) or use FEniCS to compute the derivatives of the measurements"
   ]
  },
  {
   "cell_type": "markdown",
   "id": "5d4da412",
   "metadata": {},
   "source": [
    "Let's look at option b first and see how much error that introduces."
   ]
  },
  {
   "cell_type": "code",
   "execution_count": 14,
   "id": "6e162494",
   "metadata": {},
   "outputs": [
    {
     "name": "stdout",
     "output_type": "stream",
     "text": [
      "time to compute derivative:  0.33788585662841797 s.\n"
     ]
    }
   ],
   "source": [
    "detector.bool_remember_measurements = False\n",
    "\n",
    "tStart = time.time()\n",
    "deriv_exact = drone.d_measurement_d_position(flight=flight, state=state)\n",
    "print(\"time to compute derivative: \", time.time()-tStart, \"s.\")"
   ]
  },
  {
   "cell_type": "markdown",
   "id": "a5e9c8a3",
   "metadata": {},
   "source": [
    "**Welcome back!**\n",
    "I ran a bit out of steam here. For the measurements everything works great. The code at baseline is somewhat faster than I remember it, but it might just be that I've decreased the resolution.\n",
    "Next steps:\n",
    "- unify the derivative code (similarly to how I did it with the measurements) such that not as many steps get repeated\n",
    "- put in a toggle to show if measurements have been modified since the last computationo of the derivatives\n",
    "- put in a memory term for the derivatives\n",
    "- use FEniCS to compute the derivatives (double-check what happens with NaN values)\n",
    "\n",
    "About the derivatives: I'm not sure about option b. The idea is good, but to get FEniCS to compute the derivatives, we need to call the method every time and for all nodes. It's not like for the state where it never changes. In the memory function, we are constantly adding new data, so we need to update the derivative as we go along.\n",
    "\n",
    "Option a has the problem that if we want to be consistent with the discretization of our approximation on the memory mesh, then we need the derivatives to be piecewise constant on each cell. The strategy we are using right now where we are evaluating on nodes would therefore mess everything up."
   ]
  },
  {
   "cell_type": "code",
   "execution_count": null,
   "id": "c0409353",
   "metadata": {},
   "outputs": [],
   "source": []
  }
 ],
 "metadata": {
  "kernelspec": {
   "display_name": "Python 3 (ipykernel)",
   "language": "python",
   "name": "python3"
  },
  "language_info": {
   "codemirror_mode": {
    "name": "ipython",
    "version": 3
   },
   "file_extension": ".py",
   "mimetype": "text/x-python",
   "name": "python",
   "nbconvert_exporter": "python",
   "pygments_lexer": "ipython3",
   "version": "3.10.0"
  }
 },
 "nbformat": 4,
 "nbformat_minor": 5
}
