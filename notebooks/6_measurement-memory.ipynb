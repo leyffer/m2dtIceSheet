{
 "cells": [
  {
   "cell_type": "markdown",
   "id": "c48a887a",
   "metadata": {},
   "source": [
    "# Measurement Memory\n",
    "In the optimization of the flight path, we need to compute measurements at many positions, which is expensive for the convolution type measurements. However, during the optimization's steps, especially towards the end when the algorithm converges, those measurement positions don't actually change that much. It therefore makes sense to save them instead than computing them from scratch every time."
   ]
  },
  {
   "cell_type": "markdown",
   "id": "e7bd3b4c",
   "metadata": {},
   "source": [
    "## Imports"
   ]
  },
  {
   "cell_type": "code",
   "execution_count": 1,
   "id": "f0d34a7b",
   "metadata": {},
   "outputs": [],
   "source": [
    "import sys\n",
    "sys.path.insert(0, \"../source/\")\n",
    "sys.path.insert(0, \"../models/AdvectionDiffusion/settings/AdvectionDiffusion_FEniCS\")\n",
    "sys.path.insert(0, \"../models/AdvectionDiffusion/Navigators\")\n",
    "sys.path.insert(0, \"../models/AdvectionDiffusion/Detectors\")\n",
    "\n",
    "import numpy as np\n",
    "import matplotlib.pyplot as plt\n",
    "import scipy.linalg as la\n",
    "\n",
    "from InverseProblem import InverseProblem\n",
    "from OEDUtility import OEDUtility\n",
    "from Drone import Drone as Drone\n",
    "\n",
    "from DetectorPointwise import DetectorPointwise\n",
    "from DetectorUniform import DetectorUniform\n",
    "from DetectorGaussian import DetectorGaussian\n",
    "from DetectorTruncGaussian import DetectorTruncGaussian\n",
    "from NavigationCircle import NavigationCircle as Navigation\n",
    "\n",
    "import time\n",
    "tStart_notebook = time.time()"
   ]
  },
  {
   "cell_type": "markdown",
   "id": "35ff2768",
   "metadata": {},
   "source": [
    "## User settings"
   ]
  },
  {
   "cell_type": "code",
   "execution_count": 2,
   "id": "37221801",
   "metadata": {},
   "outputs": [],
   "source": [
    "centers = [[0.4, 0.6], [0.6, 0.4]]\n",
    "var_prior = 1 # set to a high value (1e+6) to test convergence in noise-free situations\n",
    "\n",
    "n_test_2d = 100  # resolution for 2D plots (50: ~1 min runtime for dt = 0.01)\n",
    "\n",
    "n_steps = 100\n",
    "\n",
    "sigma = 0.05  # std deviation for gaussian-type measurements. Get pointwise data for sigma -> 0\n",
    "radius = 0.05  # truncation radius for truncation-style measurements\n",
    "\n",
    "meshDim = 50  # discretization parameter (1D) for FOM\n",
    "meshDim_drone = 10  # discretization parameter (1D) for subdomain in truncation-type measurements\n",
    "polyDim = 3\n",
    "\n",
    "bool_transient = False  # stationary or transient model?\n",
    "\n",
    "# what kind of measurements\n",
    "which_detector = \"truncGaussian\" #\"pointwise\" #\"truncGaussian\" #\"uniform\" #\"pointwise\""
   ]
  },
  {
   "cell_type": "markdown",
   "id": "ac384884",
   "metadata": {},
   "source": [
    "## Setup"
   ]
  },
  {
   "cell_type": "code",
   "execution_count": 3,
   "id": "6a8680d6",
   "metadata": {},
   "outputs": [],
   "source": [
    "# import classes according to settings\n",
    "\n",
    "# transient or stationary model?\n",
    "if bool_transient:\n",
    "    from FOM import FOM as FOM\n",
    "else:\n",
    "    from FOM_stationary import FOM_stationary as FOM\n",
    "    \n",
    "# what type of measurements?\n",
    "if which_detector == \"pointwise\":\n",
    "    from DetectorPointwise import DetectorPointwise as Detector\n",
    "elif which_detector == \"uniform\":\n",
    "    from DetectorUniform import DetectorUniform as Detector\n",
    "elif which_detector == \"truncGaussian\":\n",
    "    from DetectorTruncGaussian import DetectorTruncGaussian as Detector\n",
    "elif which_detector == \"Gaussian\":\n",
    "    raise NotImplementedError(\"DetectorGaussian not yet supported for transient problems (need to figure out boundary conditions)\")\n",
    "else:\n",
    "    raise RuntimeError(\"invalid detector class\")"
   ]
  },
  {
   "cell_type": "markdown",
   "id": "7ccccd1e",
   "metadata": {},
   "source": [
    "initializations"
   ]
  },
  {
   "cell_type": "code",
   "execution_count": 4,
   "id": "455ac6b3",
   "metadata": {},
   "outputs": [
    {
     "name": "stdout",
     "output_type": "stream",
     "text": [
      "Runtime of this block: 1.8516368865966797 s\n"
     ]
    }
   ],
   "source": [
    "# initialize full-order model\n",
    "tStart = time.time()\n",
    "fom = FOM(meshDim = meshDim, centers=centers, polyDim=polyDim)\n",
    "print(\"Runtime of this block: {} s\".format(time.time()-tStart))\n",
    "n_para = fom.n_para\n",
    "\n",
    "# set a prior\n",
    "prior_mean = np.zeros((n_para,))\n",
    "prior_covar = var_prior*np.eye(n_para)\n",
    "fom.set_prior(prior_mean=prior_mean, prior_covar=prior_covar)\n",
    "\n",
    "# NavigationCircle was imported as Navigation\n",
    "navigation = Navigation(grid_t = np.linspace(0, 4, n_steps))\n",
    "\n",
    "# point-wise measurements\n",
    "detector = Detector(fom)\n",
    "\n",
    "# initialize drone\n",
    "drone = Drone(detector=detector, navigation=navigation)"
   ]
  },
  {
   "cell_type": "markdown",
   "id": "97671469",
   "metadata": {},
   "source": [
    "## Remembering measurements"
   ]
  },
  {
   "cell_type": "markdown",
   "id": "f150cf09",
   "metadata": {},
   "source": [
    "We start off from an arbitrary state for which we want to take measurements. In the optimization, there will be one state for each parameter basis function. Here we only look at one to demonstrate."
   ]
  },
  {
   "cell_type": "code",
   "execution_count": 5,
   "id": "71c2b8ff",
   "metadata": {},
   "outputs": [
    {
     "name": "stdout",
     "output_type": "stream",
     "text": [
      "FOM solve time: 0.32463574409484863 s.\n"
     ]
    }
   ],
   "source": [
    "para = np.ones((n_para,))\n",
    "\n",
    "tStart = time.time()\n",
    "state = fom.solve(parameter=para)\n",
    "print(\"FOM solve time: {} s.\".format(time.time()-tStart))"
   ]
  },
  {
   "cell_type": "markdown",
   "id": "67987321",
   "metadata": {},
   "source": [
    "We choose flight path that is approximate a quarter circle, just for demonstration:"
   ]
  },
  {
   "cell_type": "code",
   "execution_count": 6,
   "id": "b05673a7",
   "metadata": {},
   "outputs": [],
   "source": [
    "# user setting: characterize the flight path\n",
    "alpha = np.array([0.25, 0.1]) # radius, speed\n",
    "\n",
    "# compute flight for alpha\n",
    "flight = drone.plan_flight(alpha=alpha)"
   ]
  },
  {
   "cell_type": "code",
   "execution_count": 7,
   "id": "087b9623",
   "metadata": {},
   "outputs": [
    {
     "data": {
      "text/plain": [
       "[<matplotlib.lines.Line2D at 0x16707a140>]"
      ]
     },
     "execution_count": 7,
     "metadata": {},
     "output_type": "execute_result"
    },
    {
     "data": {
      "image/png": "[encoded data removed]",
      "text/plain": [
       "<Figure size 432x288 with 2 Axes>"
      ]
     },
     "metadata": {
      "needs_background": "light"
     },
     "output_type": "display_data"
    }
   ],
   "source": [
    "flightpath, grid_t = flight.flightpath, flight.grid_t\n",
    "\n",
    "fom.plot(state, time=grid_t[-1])\n",
    "plt.plot(flightpath[:, 0], flightpath[:, 1], color=\"r\")\n",
    "plt.plot([flightpath[0, 0]], [flightpath[0, 1]], color=\"r\", marker=\"s\")\n",
    "plt.plot([flightpath[-1, 0]], [flightpath[-1, 1]], color=\"r\", marker=\"d\")"
   ]
  },
  {
   "cell_type": "markdown",
   "id": "eec7406d",
   "metadata": {},
   "source": [
    "In our baseline code, a measurement along this path takes about half a second. If the same code is run again, it takes about the same time again. Obviously that's not efficient when the discretization is fine and we need to take many measurements several times in the course of the optimization."
   ]
  },
  {
   "cell_type": "code",
   "execution_count": 8,
   "id": "a14204a9",
   "metadata": {},
   "outputs": [
    {
     "name": "stdout",
     "output_type": "stream",
     "text": [
      "measurement time (run 1):  0.42157483100891113 s.\n",
      "measurement time (run 2):  0.4457089900970459 s.\n"
     ]
    }
   ],
   "source": [
    "# measure data\n",
    "tStart = time.time()\n",
    "data = drone.measure(flight=flight, state=state)\n",
    "print(\"measurement time (run 1): \", time.time()-tStart, \"s.\")\n",
    "\n",
    "tStart = time.time()\n",
    "data = drone.measure(flight=flight, state=state)\n",
    "print(\"measurement time (run 2): \", time.time()-tStart, \"s.\")"
   ]
  },
  {
   "cell_type": "code",
   "execution_count": null,
   "id": "ecfd195a",
   "metadata": {},
   "outputs": [],
   "source": []
  }
 ],
 "metadata": {
  "kernelspec": {
   "display_name": "Python 3 (ipykernel)",
   "language": "python",
   "name": "python3"
  },
  "language_info": {
   "codemirror_mode": {
    "name": "ipython",
    "version": 3
   },
   "file_extension": ".py",
   "mimetype": "text/x-python",
   "name": "python",
   "nbconvert_exporter": "python",
   "pygments_lexer": "ipython3",
   "version": "3.10.0"
  }
 },
 "nbformat": 4,
 "nbformat_minor": 5
}
