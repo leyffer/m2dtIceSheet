{
 "cells": [
  {
   "cell_type": "markdown",
   "id": "855e0822",
   "metadata": {},
   "source": [
    "# Measurement Memory\n",
    "In the optimization of the flight path, we need to compute measurements at many positions, which is expensive for the convolution type measurements. However, during the optimization's steps, especially towards the end when the algorithm converges, those measurement positions don't actually change that much. It therefore makes sense to save them instead than computing them from scratch every time."
   ]
  },
  {
   "cell_type": "markdown",
   "id": "a18135c8",
   "metadata": {},
   "source": [
    "## Imports"
   ]
  },
  {
   "cell_type": "code",
   "execution_count": 1,
   "id": "f69a2a8f",
   "metadata": {},
   "outputs": [],
   "source": [
    "import sys\n",
    "sys.path.insert(0, \"../source/\")\n",
    "sys.path.insert(0, \"../models/AdvectionDiffusion/settings/AdvectionDiffusion_FEniCS\")\n",
    "sys.path.insert(0, \"../models/AdvectionDiffusion/Navigators\")\n",
    "sys.path.insert(0, \"../models/AdvectionDiffusion/Detectors\")\n",
    "\n",
    "import numpy as np\n",
    "import matplotlib.pyplot as plt\n",
    "import scipy.linalg as la\n",
    "\n",
    "from InverseProblem import InverseProblem\n",
    "from OEDUtility import OEDUtility\n",
    "from Drone import Drone as Drone\n",
    "\n",
    "from DetectorPointwise import DetectorPointwise\n",
    "from DetectorUniform import DetectorUniform\n",
    "from DetectorGaussian import DetectorGaussian\n",
    "from DetectorTruncGaussian import DetectorTruncGaussian\n",
    "from NavigationCircle import NavigationCircle as Navigation\n",
    "\n",
    "import time\n",
    "tStart_notebook = time.time()"
   ]
  },
  {
   "cell_type": "markdown",
   "id": "7e90d277",
   "metadata": {},
   "source": [
    "## User settings"
   ]
  },
  {
   "cell_type": "code",
   "execution_count": 2,
   "id": "18b3726f",
   "metadata": {},
   "outputs": [],
   "source": [
    "centers = [[0.4, 0.6], [0.6, 0.4]]\n",
    "var_prior = 1 # set to a high value (1e+6) to test convergence in noise-free situations\n",
    "\n",
    "n_test_2d = 100  # resolution for 2D plots (50: ~1 min runtime for dt = 0.01)\n",
    "\n",
    "n_steps = 100\n",
    "\n",
    "sigma = 0.05  # std deviation for gaussian-type measurements. Get pointwise data for sigma -> 0\n",
    "radius = 0.05  # truncation radius for truncation-style measurements\n",
    "\n",
    "meshDim = 50  # discretization parameter (1D) for FOM\n",
    "meshDim_drone = 10  # discretization parameter (1D) for subdomain in truncation-type measurements\n",
    "polyDim = 3\n",
    "\n",
    "bool_transient = False  # stationary or transient model?\n",
    "\n",
    "# what kind of measurements\n",
    "which_detector = \"truncGaussian\" #\"pointwise\" #\"truncGaussian\" #\"uniform\" #\"pointwise\""
   ]
  },
  {
   "cell_type": "markdown",
   "id": "93a7b470",
   "metadata": {},
   "source": [
    "## Setup"
   ]
  },
  {
   "cell_type": "code",
   "execution_count": 3,
   "id": "44761502",
   "metadata": {},
   "outputs": [],
   "source": [
    "# import classes according to settings\n",
    "\n",
    "# transient or stationary model?\n",
    "if bool_transient:\n",
    "    from FOM import FOM as FOM\n",
    "else:\n",
    "    from FOM_stationary import FOM_stationary as FOM\n",
    "    \n",
    "# what type of measurements?\n",
    "if which_detector == \"pointwise\":\n",
    "    from DetectorPointwise import DetectorPointwise as Detector\n",
    "elif which_detector == \"uniform\":\n",
    "    from DetectorUniform import DetectorUniform as Detector\n",
    "elif which_detector == \"truncGaussian\":\n",
    "    from DetectorTruncGaussian import DetectorTruncGaussian as Detector\n",
    "elif which_detector == \"Gaussian\":\n",
    "    raise NotImplementedError(\"DetectorGaussian not yet supported for transient problems (need to figure out boundary conditions)\")\n",
    "else:\n",
    "    raise RuntimeError(\"invalid detector class\")"
   ]
  },
  {
   "cell_type": "markdown",
   "id": "5a056403",
   "metadata": {},
   "source": [
    "initializations"
   ]
  },
  {
   "cell_type": "code",
   "execution_count": 4,
   "id": "7f14a808",
   "metadata": {},
   "outputs": [
    {
     "name": "stdout",
     "output_type": "stream",
     "text": [
      "Runtime of this block: 1.8891918659210205 s\n"
     ]
    }
   ],
   "source": [
    "# initialize full-order model\n",
    "tStart = time.time()\n",
    "fom = FOM(meshDim = meshDim, centers=centers, polyDim=polyDim)\n",
    "print(\"Runtime of this block: {} s\".format(time.time()-tStart))\n",
    "n_para = fom.n_para\n",
    "\n",
    "# set a prior\n",
    "prior_mean = np.zeros((n_para,))\n",
    "prior_covar = var_prior*np.eye(n_para)\n",
    "fom.set_prior(prior_mean=prior_mean, prior_covar=prior_covar)\n",
    "\n",
    "# NavigationCircle was imported as Navigation\n",
    "navigation = Navigation(grid_t = np.linspace(0, 4, n_steps))\n",
    "\n",
    "# point-wise measurements\n",
    "detector = Detector(fom)\n",
    "\n",
    "# initialize drone\n",
    "drone = Drone(detector=detector, navigation=navigation)"
   ]
  },
  {
   "cell_type": "markdown",
   "id": "3dcb16e3",
   "metadata": {},
   "source": [
    "## Remembering measurements"
   ]
  },
  {
   "cell_type": "markdown",
   "id": "0f79c02d",
   "metadata": {},
   "source": [
    "We start off from an arbitrary state for which we want to take measurements. In the optimization, there will be one state for each parameter basis function. Here we only look at one to demonstrate."
   ]
  },
  {
   "cell_type": "code",
   "execution_count": 5,
   "id": "a65ad304",
   "metadata": {},
   "outputs": [
    {
     "name": "stdout",
     "output_type": "stream",
     "text": [
      "FOM solve time: 0.5323882102966309 s.\n"
     ]
    }
   ],
   "source": [
    "para = np.ones((n_para,))\n",
    "\n",
    "tStart = time.time()\n",
    "state = fom.solve(parameter=para)\n",
    "print(\"FOM solve time: {} s.\".format(time.time()-tStart))"
   ]
  },
  {
   "cell_type": "markdown",
   "id": "6b7cc4f5",
   "metadata": {},
   "source": [
    "We choose flight path that is approximate a quarter circle, just for demonstration:"
   ]
  },
  {
   "cell_type": "code",
   "execution_count": 6,
   "id": "5f3881f1",
   "metadata": {},
   "outputs": [],
   "source": [
    "# user setting: characterize the flight path\n",
    "alpha = np.array([0.25, 0.1]) # radius, speed\n",
    "\n",
    "# compute flight for alpha\n",
    "flight = drone.plan_flight(alpha=alpha)"
   ]
  },
  {
   "cell_type": "code",
   "execution_count": 7,
   "id": "4e443274",
   "metadata": {},
   "outputs": [
    {
     "data": {
      "text/plain": [
       "[<matplotlib.lines.Line2D at 0x15e96a620>]"
      ]
     },
     "execution_count": 7,
     "metadata": {},
     "output_type": "execute_result"
    },
    {
     "data": {
      "image/png": "[encoded data removed]",
      "text/plain": [
       "<Figure size 432x288 with 2 Axes>"
      ]
     },
     "metadata": {
      "needs_background": "light"
     },
     "output_type": "display_data"
    }
   ],
   "source": [
    "flightpath, grid_t = flight.flightpath, flight.grid_t\n",
    "\n",
    "fom.plot(state, time=grid_t[-1])\n",
    "plt.plot(flightpath[:, 0], flightpath[:, 1], color=\"r\")\n",
    "plt.plot([flightpath[0, 0]], [flightpath[0, 1]], color=\"r\", marker=\"s\")\n",
    "plt.plot([flightpath[-1, 0]], [flightpath[-1, 1]], color=\"r\", marker=\"d\")"
   ]
  },
  {
   "cell_type": "markdown",
   "id": "cdf898ad",
   "metadata": {},
   "source": [
    "In our baseline code, a measurement along this path takes about half a second. If the same code is run again, it takes about the same time again. Obviously that's not efficient when the discretization is fine and we need to take many measurements several times in the course of the optimization."
   ]
  },
  {
   "cell_type": "code",
   "execution_count": 8,
   "id": "3ab77866",
   "metadata": {},
   "outputs": [
    {
     "name": "stdout",
     "output_type": "stream",
     "text": [
      "measurement time (run 1):  0.4338979721069336 s.\n",
      "measurement time (run 2):  0.0020461082458496094 s.\n"
     ]
    }
   ],
   "source": [
    "# measure data\n",
    "tStart = time.time()\n",
    "data = drone.measure(flight=flight, state=state)\n",
    "print(\"measurement time (run 1): \", time.time()-tStart, \"s.\")\n",
    "\n",
    "tStart = time.time()\n",
    "data = drone.measure(flight=flight, state=state)\n",
    "print(\"measurement time (run 2): \", time.time()-tStart, \"s.\")"
   ]
  },
  {
   "cell_type": "markdown",
   "id": "44e16c35",
   "metadata": {},
   "source": [
    "After the first, longer computation, all following measurements for the same flight path should be very fast. More than that, if we evaluate on a flightpath that overlaps with the current one, the evaluation should speed up too:"
   ]
  },
  {
   "cell_type": "code",
   "execution_count": 9,
   "id": "092a35b1",
   "metadata": {},
   "outputs": [
    {
     "name": "stdout",
     "output_type": "stream",
     "text": [
      "measurement time (run 1):  0.006944179534912109 s.\n",
      "measurement time (run 2):  0.0017800331115722656 s.\n"
     ]
    }
   ],
   "source": [
    "# user setting: characterize the flight path\n",
    "alpha = np.array([0.25, 0.05]) # radius, speed\n",
    "\n",
    "# compute flight for alpha\n",
    "flight = drone.plan_flight(alpha=alpha)\n",
    "\n",
    "# measure data\n",
    "tStart = time.time()\n",
    "data = drone.measure(flight=flight, state=state)\n",
    "print(\"measurement time (run 1): \", time.time()-tStart, \"s.\")\n",
    "\n",
    "tStart = time.time()\n",
    "data = drone.measure(flight=flight, state=state)\n",
    "print(\"measurement time (run 2): \", time.time()-tStart, \"s.\")"
   ]
  },
  {
   "cell_type": "markdown",
   "id": "5f31d236",
   "metadata": {},
   "source": [
    "The only times when this doesn't happen is when the time discretization is so coarse in comparison to the measurement memory mesh that it needs to compute entries that were previously skipped."
   ]
  },
  {
   "cell_type": "markdown",
   "id": "9234e492",
   "metadata": {},
   "source": [
    "If we extend our path, for instance by flying half a circle instead of a quarter, we only need to compute those additional entries that weren't reached before:"
   ]
  },
  {
   "cell_type": "code",
   "execution_count": 10,
   "id": "f1371db5",
   "metadata": {},
   "outputs": [
    {
     "name": "stdout",
     "output_type": "stream",
     "text": [
      "measurement time (run 1):  0.42734503746032715 s.\n",
      "measurement time (run 2):  0.0016999244689941406 s.\n"
     ]
    }
   ],
   "source": [
    "# user setting: characterize the flight path\n",
    "alpha = np.array([0.25, 0.2]) # radius, speed\n",
    "\n",
    "# compute flight for alpha\n",
    "flight = drone.plan_flight(alpha=alpha)\n",
    "\n",
    "# measure data\n",
    "tStart = time.time()\n",
    "data = drone.measure(flight=flight, state=state)\n",
    "print(\"measurement time (run 1): \", time.time()-tStart, \"s.\")\n",
    "\n",
    "tStart = time.time()\n",
    "data = drone.measure(flight=flight, state=state)\n",
    "print(\"measurement time (run 2): \", time.time()-tStart, \"s.\")"
   ]
  },
  {
   "cell_type": "markdown",
   "id": "bb9ff395",
   "metadata": {},
   "source": [
    "Of course we are introducing approximation error by evaluating the measurements on the memory mesh. We can disable the memory by setting:"
   ]
  },
  {
   "cell_type": "code",
   "execution_count": 11,
   "id": "a0393eae",
   "metadata": {},
   "outputs": [],
   "source": [
    "detector.bool_remember_measurements = False"
   ]
  },
  {
   "cell_type": "markdown",
   "id": "296d70f0",
   "metadata": {},
   "source": [
    "Now the code takes very long again, but does not have the approximation error. Let's see how much difference it makes:"
   ]
  },
  {
   "cell_type": "code",
   "execution_count": 12,
   "id": "9b27a73c",
   "metadata": {},
   "outputs": [
    {
     "name": "stdout",
     "output_type": "stream",
     "text": [
      "measurement time (run 2):  0.420212984085083 s.\n"
     ]
    }
   ],
   "source": [
    "tStart = time.time()\n",
    "data_exact = drone.measure(flight=flight, state=state)\n",
    "print(\"measurement time (run 2): \", time.time()-tStart, \"s.\")"
   ]
  },
  {
   "cell_type": "code",
   "execution_count": 16,
   "id": "3e0c3254",
   "metadata": {},
   "outputs": [
    {
     "data": {
      "text/plain": [
       "[<matplotlib.lines.Line2D at 0x15ee6e770>]"
      ]
     },
     "execution_count": 16,
     "metadata": {},
     "output_type": "execute_result"
    },
    {
     "data": {
      "image/png": "[encoded data removed]",
      "text/plain": [
       "<Figure size 864x360 with 2 Axes>"
      ]
     },
     "metadata": {
      "needs_background": "light"
     },
     "output_type": "display_data"
    }
   ],
   "source": [
    "fig, axs = plt.subplots(1, 2, figsize=(12, 5))\n",
    "\n",
    "axs[0].plot(data)\n",
    "axs[0].plot(data_exact)\n",
    "\n",
    "axs[1].semilogy(np.abs(data-data_exact))"
   ]
  },
  {
   "cell_type": "code",
   "execution_count": null,
   "id": "df18a2af",
   "metadata": {},
   "outputs": [],
   "source": []
  },
  {
   "cell_type": "code",
   "execution_count": null,
   "id": "f37874c3",
   "metadata": {},
   "outputs": [],
   "source": []
  },
  {
   "cell_type": "code",
   "execution_count": null,
   "id": "1d702198",
   "metadata": {},
   "outputs": [],
   "source": []
  }
 ],
 "metadata": {
  "kernelspec": {
   "display_name": "Python 3 (ipykernel)",
   "language": "python",
   "name": "python3"
  },
  "language_info": {
   "codemirror_mode": {
    "name": "ipython",
    "version": 3
   },
   "file_extension": ".py",
   "mimetype": "text/x-python",
   "name": "python",
   "nbconvert_exporter": "python",
   "pygments_lexer": "ipython3",
   "version": "3.10.0"
  }
 },
 "nbformat": 4,
 "nbformat_minor": 5
}
