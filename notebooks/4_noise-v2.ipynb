{
 "cells": [
  {
   "cell_type": "markdown",
   "id": "f79b2fd4",
   "metadata": {},
   "source": [
    "# Noise Model"
   ]
  },
  {
   "cell_type": "markdown",
   "id": "25e65f3e",
   "metadata": {},
   "source": [
    "In this notebook we take a closer look at the noise model and how it holds up under discretization."
   ]
  },
  {
   "cell_type": "markdown",
   "id": "fc95bd71",
   "metadata": {},
   "source": [
    "## Imports"
   ]
  },
  {
   "cell_type": "code",
   "execution_count": 1,
   "id": "484f8350",
   "metadata": {},
   "outputs": [],
   "source": [
    "import sys\n",
    "sys.path.insert(0, \"../source/\")\n",
    "sys.path.insert(0, \"../source/Noise/\")\n",
    "sys.path.insert(0, \"../models/AdvectionDiffusion/settings/AdvectionDiffusion_FEniCS\")\n",
    "sys.path.insert(0, \"../models/AdvectionDiffusion/Navigators\")\n",
    "sys.path.insert(0, \"../models/AdvectionDiffusion/Detectors\")\n",
    "\n",
    "import numpy as np\n",
    "import matplotlib.pyplot as plt\n",
    "import scipy.linalg as la\n",
    "\n",
    "from InverseProblem import InverseProblem\n",
    "from NoiseBayes import NoiseBayes\n",
    "from Noise import Noise\n",
    "\n",
    "from FOM_stationary import FOM_stationary as FOM\n",
    "from OEDUtility import OEDUtility\n",
    "from Drone import Drone as Drone\n",
    "\n",
    "from DetectorPointwise import DetectorPointwise\n",
    "from DetectorUniform import DetectorUniform\n",
    "from DetectorGaussian import DetectorGaussian\n",
    "from DetectorTruncGaussian import DetectorTruncGaussian\n",
    "from NavigationCircle import NavigationCircle as Navigation\n",
    "\n",
    "import time\n",
    "tStart_notebook = time.time()"
   ]
  },
  {
   "cell_type": "markdown",
   "id": "6421d22d",
   "metadata": {},
   "source": [
    "## User settings"
   ]
  },
  {
   "cell_type": "code",
   "execution_count": 2,
   "id": "2fb8d6bd",
   "metadata": {},
   "outputs": [],
   "source": [
    "centers = [[0.4, 0.6], [0.6, 0.4]]\n",
    "var_prior = 1 # set to a high value (1e+6) to test convergence in noise-free situations\n",
    "\n",
    "n_test_2d = 100  # resolution for 2D plots (50: ~1 min runtime for dt = 0.01)\n",
    "\n",
    "n_steps = 500\n",
    "\n",
    "sigma = 0.05  # std deviation for gaussian-type measurements. Get pointwise data for sigma -> 0\n",
    "radius = 0.05  # truncation radius for truncation-style measurements\n",
    "\n",
    "meshDim = 50  # discretization parameter (1D) for FOM\n",
    "meshDim_drone = 2  # discretization parameter (1D) for subdomain in truncation-type measurements\n",
    "polyDim = 3"
   ]
  },
  {
   "cell_type": "markdown",
   "id": "248dbec5",
   "metadata": {},
   "source": [
    "## Setup"
   ]
  },
  {
   "cell_type": "markdown",
   "id": "31680952",
   "metadata": {},
   "source": [
    "For the purposes of this notebook we go back to a simple flight in a circle. It's not actually important here, and can be switched out for any other flight path parameterization. "
   ]
  },
  {
   "cell_type": "code",
   "execution_count": 3,
   "id": "85e7442d",
   "metadata": {},
   "outputs": [
    {
     "name": "stdout",
     "output_type": "stream",
     "text": [
      "Runtime of this block: 5.236505031585693 s\n"
     ]
    }
   ],
   "source": [
    "# initialize full-order model\n",
    "tStart = time.time()\n",
    "fom = FOM(meshDim = meshDim, centers=centers, polyDim=polyDim)\n",
    "print(\"Runtime of this block: {} s\".format(time.time()-tStart))\n",
    "n_para = fom.n_para\n",
    "\n",
    "# set a prior\n",
    "prior_mean = np.zeros((n_para,))\n",
    "prior_covar = var_prior*np.eye(n_para)\n",
    "fom.set_prior(prior_mean=prior_mean, prior_covar=prior_covar)"
   ]
  },
  {
   "cell_type": "code",
   "execution_count": 4,
   "id": "1dbec185",
   "metadata": {},
   "outputs": [],
   "source": [
    "# NavigationCircle was imported as Navigation\n",
    "navigation = Navigation(grid_t = np.linspace(0, 4, n_steps))\n",
    "\n",
    "# point-wise measurements\n",
    "detector = DetectorPointwise(fom)\n",
    "#detector = DetectorUniform(fom, radius=radius, meshDim=meshDim_drone)\n",
    "\n",
    "# initialize drone\n",
    "drone = Drone(detector=detector, navigation=navigation, fom=fom)"
   ]
  },
  {
   "cell_type": "markdown",
   "id": "3148f43d",
   "metadata": {},
   "source": [
    "## Inverse problems"
   ]
  },
  {
   "cell_type": "markdown",
   "id": "8a1744f3",
   "metadata": {},
   "source": [
    "We are primarily considering two types of inverse problems: the deterministic and the Bayesian. There are a lot of parallels between them, to the point that for the optimization we can treat them equivalently. The main difference lies in where the matrix over which we optimize (i.e. the information matrix / the posterior covariance matrix) comes from. "
   ]
  },
  {
   "cell_type": "code",
   "execution_count": null,
   "id": "6d74499e",
   "metadata": {},
   "outputs": [],
   "source": [
    "# compute one solution for nicer visualization below\n",
    "para_true = np.ones((n_para,))\n",
    "state = fom.solve(parameter=para_true)\n",
    "\n",
    "# fly in a circle\n",
    "alpha = np.array([0.25, 0.2])\n",
    "flight = drone.plan_flight(alpha=alpha)\n",
    "\n",
    "# measure data\n",
    "data = drone.measure(flight=flight, state=state)"
   ]
  },
  {
   "cell_type": "code",
   "execution_count": null,
   "id": "f1c22af1",
   "metadata": {},
   "outputs": [],
   "source": [
    "flightpath, grid_t = flight.flightpath, flight.grid_t\n",
    "\n",
    "fom.plot(state)\n",
    "plt.plot(flightpath[:, 0], flightpath[:, 1], color=\"r\")\n",
    "plt.plot([flightpath[0, 0]], [flightpath[0, 1]], color=\"r\", marker=\"s\")\n",
    "plt.plot([flightpath[-1, 0]], [flightpath[-1, 1]], color=\"r\", marker=\"d\")\n",
    "\n",
    "fig, ax = plt.subplots(1,1)\n",
    "ax.plot(grid_t, data)"
   ]
  },
  {
   "cell_type": "markdown",
   "id": "0568f62e",
   "metadata": {},
   "source": [
    "### Deterministic\n",
    "This is the model form that we've been using in the previous notebooks (without telling you). It's a bit easier to explain. Suppose we know the data $d$ lies in a Hilbert space $\\mathcal{H} \\subset L^2([0, T])$. Then, given observational data $d_{obs}$, we can pose the inverse problem as\n",
    "$$\n",
    "\\min_{m} c_s \\| d-d_{obs}\\|_{\\mathcal{H}}^2 + \\|m-m_{pr}\\|_{\\Sigma_{pr}^{-1}}^2\n",
    "\\quad \\text{such that $d$ is the measurement of the state $u(m)$}\n",
    "$$\n",
    "where $c_2 > 0$ is a scaling parameter. After discretization in time, the Hessian $\\mathbf{H}$ of this problem, a.k.a. the \\red{inverse?} Fisher information matrix, is\n",
    "$$\n",
    "\\mathbf{H} = c_s \\mathcal{F}^T \\mathbf{I}_{\\mathcal{H}} \\mathcal{F} + \\Sigma_{pr}^{-1}\n",
    "$$\n",
    "where $\\mathbf{I}_{\\mathcal{H}}$ is the inner product matrix for $\\mathcal{H}$ and $\\mathcal{F}$ the discretized parameter-to-observable map. If, abusing notation, we define\n",
    "$$\n",
    "\\Sigma_{noise}^{-1} := c_s \\mathbf{I}_{\\mathcal{H}},\n",
    "$$\n",
    "then we arrive at the same matrix structure as in the Bayesian setting. The only \"complication\" we have is to choose the Hilbert space $\\mathcal{H}$. The simplest choice that doesn't require any knowledge about the properties of the data beyond $d \\in L^2([0,T])$ is to choose $\\mathcal{H} = L^2([0,T])$ (duh!). In this case we have\n",
    "$$\n",
    "\\Sigma_{noise}^{-1} := c_s \\mathbf{M},\n",
    "$$\n",
    "where $\\mathbf{M}$ is the mass matrix for the discretization of $\\mathcal{H}$. Another obvious choice is $\\mathcal{H} = H^1([0,T])$, in which case\n",
    "$$\n",
    "\\Sigma_{noise}^{-1} := c_s c_d \\mathbf{A} + c_s \\mathbf{M},\n",
    "$$\n",
    "with stiffness matrix $\\mathbf{A}$ and a diffusion scaling coefficient $c_d$. This choice penalizes large derivativess in the data, as caused by noise, and is therefore attractive. It can however be tricky in the time continuous limit to show that the data is indeed weakly differentiable."
   ]
  },
  {
   "cell_type": "code",
   "execution_count": null,
   "id": "645e2114",
   "metadata": {},
   "outputs": [],
   "source": [
    "inversion = InverseProblem(fom, drone)\n",
    "inversion.set_noise_model(c_scaling = 1e+6, c_diffusion=0)\n",
    "print(\"Norm of the data:\", np.sqrt(inversion.compute_noisenorm2(data)))"
   ]
  },
  {
   "cell_type": "code",
   "execution_count": null,
   "id": "59e0392d",
   "metadata": {},
   "outputs": [],
   "source": [
    "posterior = inversion.compute_posterior(flight=flight)\n",
    "covar = posterior.compute_covariance()\n",
    "covar"
   ]
  },
  {
   "cell_type": "markdown",
   "id": "2f17191e",
   "metadata": {},
   "source": [
    "### Bayesian setting"
   ]
  },
  {
   "cell_type": "markdown",
   "id": "63088f73",
   "metadata": {},
   "source": [
    "We model the noise $\\eta$ to be distributed as $\\eta \\sim \\mathcal{N}(0, \\mathcal{C})$ with covariance operator $\\mathcal{C} = \\mathcal{A}^{-1}$ defined through the squared inverse laplacian-like operator $\\mathcal{A}$. The operator $\\mathcal{A} : L^2((0, T)) \\rightarrow L^2((0,T))$ is defined such that $s = \\mathcal{A}f$ solves\n",
    "$$\n",
    "-c_s c_d \\Delta s + c_s s = f \\quad \\text{on (0, T)} \n",
    "$$\n",
    "with homogeneous Neumann boundary conditions $\\nabla s \\cdot \\mathbf{n} = 0$."
   ]
  },
  {
   "cell_type": "code",
   "execution_count": null,
   "id": "70b389fd-975f-448c-ae29-2fd25d3fcf42",
   "metadata": {},
   "outputs": [],
   "source": [
    "noiseBayes = NoiseBayes(grid_t = drone.grid_t)\n",
    "noiseBayes.parameterize_noise_model(c_scaling = 1e+3, c_diffusion = 1)\n",
    "inversionBayes = InverseProblem(fom, drone, noise=noiseBayes)\n",
    "\n",
    "print(\"Norm of the data:\", np.sqrt(inversionBayes.compute_noisenorm2(data)))"
   ]
  },
  {
   "cell_type": "code",
   "execution_count": null,
   "id": "c7421454",
   "metadata": {},
   "outputs": [],
   "source": [
    "posterior = inversionBayes.compute_posterior(flight=flight)\n",
    "covar = posterior.compute_covariance()\n",
    "covar"
   ]
  },
  {
   "cell_type": "markdown",
   "id": "51cb00b2",
   "metadata": {},
   "source": [
    "To illustrate samples drawn from this noise model, comment in the next code block. Be advised though: The code, currently, uses a dense matrix square root and therefore becomes very expensive to execute for many time steps. Hence this code block is commented out by default."
   ]
  },
  {
   "cell_type": "code",
   "execution_count": null,
   "id": "61304ac3",
   "metadata": {},
   "outputs": [],
   "source": [
    "tStart = time.time()\n",
    "\n",
    "samples = inversionBayes.noise.sample_noise(n_samples = 60)\n",
    "fig, axs = plt.subplots(1,2, figsize = (12, 4))\n",
    "\n",
    "for i in range(samples.shape[1]):\n",
    "    axs[0].plot(grid_t, samples[:, i])\n",
    "    axs[1].plot(grid_t, data + samples[:, i])\n",
    "    \n",
    "axs[0].set_xlabel(\"time\")\n",
    "axs[0].set_title(\"noise\")\n",
    "\n",
    "axs[1].set_xlabel(\"time\")\n",
    "axs[1].set_title(\"noisy data\")\n",
    "    \n",
    "print(\"Runtime of this block: \", (time.time()-tStart)/60, \"min.\")\n",
    "snr_dB = 10*np.log10(data**2 / np.mean(samples**2, axis = 1))\n",
    "print(\"Min / mean / max signal-to-noise ratio (dB): \", np.min(snr_dB), np.mean(snr_dB), np.max(snr_dB)) "
   ]
  },
  {
   "cell_type": "markdown",
   "id": "28922478",
   "metadata": {},
   "source": [
    "## Convergence"
   ]
  },
  {
   "cell_type": "markdown",
   "id": "394491aa",
   "metadata": {},
   "source": [
    "The main trouble we needed to go through for defining the noise models for the Bayesian setting was to make sure they remain consistent in the time-continuous limit, i.e. for `dt` towards zero. In the code below, we test this out."
   ]
  },
  {
   "cell_type": "code",
   "execution_count": null,
   "id": "0c2d2683",
   "metadata": {},
   "outputs": [],
   "source": [
    "def noisenorm2(n_steps, NoiseClass, params):\n",
    "    \n",
    "    # NavigationCircle was imported as Navigation\n",
    "    navigation = Navigation(grid_t = np.linspace(0, 4, n_steps))\n",
    "\n",
    "    # point-wise measurements\n",
    "    detector = DetectorPointwise(fom)\n",
    "\n",
    "    # initialize drone\n",
    "    drone = Drone(detector=detector, navigation=navigation)\n",
    "\n",
    "    # fly in a circle\n",
    "    alpha = np.array([0.25, 0.2])\n",
    "    flight = drone.plan_flight(alpha=alpha)\n",
    "\n",
    "    # measure data\n",
    "    data = drone.measure(flight=flight, state=state)\n",
    "    #data = 0.01 * np.sin(flight.grid_t)\n",
    "\n",
    "    noise = NoiseClass(grid_t=drone.grid_t)\n",
    "    noise.parameterize_noise_model(c_scaling = params[0], c_diffusion = params[1], c_boundary = params[2])\n",
    "    inversion = InverseProblem(fom, drone, noise=noise)\n",
    "\n",
    "    return inversion.compute_noisenorm2(data)"
   ]
  },
  {
   "cell_type": "markdown",
   "id": "008a709c",
   "metadata": {},
   "source": [
    "The code below computes the \"noise-norm\" of the noise-free data measured along the flight path for different `dt`. depending on how many test steps are chosen, this computation takes some time."
   ]
  },
  {
   "cell_type": "code",
   "execution_count": null,
   "id": "8ffac020",
   "metadata": {},
   "outputs": [],
   "source": [
    "tStart = time.time()\n",
    "\n",
    "steps_test = 2**np.arange(2, 15)+1\n",
    "vals_test = np.zeros((2, steps_test.shape[0]))\n",
    "\n",
    "for i in range(steps_test.shape[0]):\n",
    "    print(\"Iteration {} / {}\".format(i+1, steps_test.shape[0]))\n",
    "    \n",
    "    # Deterministic\n",
    "    vals_test[0, i] = noisenorm2(n_steps = steps_test[i], \n",
    "                                 NoiseClass=Noise, \n",
    "                                 params=[1e+6, 0, 0])\n",
    "    \n",
    "    # Bayes\n",
    "    vals_test[1, i] = noisenorm2(n_steps = steps_test[i], \n",
    "                                 NoiseClass=NoiseBayes, \n",
    "                                 params=[1e+3, 1, 0])\n",
    "    \n",
    "my_labels = [\"deterministic\", \"Bayes\"]\n",
    "\n",
    "print(\"Runtime of this block: \", (time.time()-tStart)/60, \"min.\")"
   ]
  },
  {
   "cell_type": "code",
   "execution_count": null,
   "id": "c82ed840",
   "metadata": {},
   "outputs": [],
   "source": [
    "fig, ax = plt.subplots(1,1)\n",
    "\n",
    "for i in range(2):\n",
    "    ax.loglog(1/(steps_test[:-1]-1), \n",
    "                  np.abs(vals_test[i, 1:]-vals_test[i, :-1]) / vals_test[i, -1], \n",
    "                  label=my_labels[i], \n",
    "                  marker = \"x\")\n",
    "\n",
    "ax.legend()\n",
    "ax.set_xlabel(\"time discretization $\\Delta t$\")\n",
    "ax.set_ylabel(\"relative error\")\n",
    "ax.grid(True)\n"
   ]
  },
  {
   "cell_type": "code",
   "execution_count": null,
   "id": "8bce1269",
   "metadata": {},
   "outputs": [],
   "source": [
    "fig, ax = plt.subplots(1,1)\n",
    "\n",
    "for i in range(2):\n",
    "    ax.loglog(1/(steps_test[:-1]-1), \n",
    "                  np.abs(vals_test[i, 1:]-vals_test[i, :-1]), \n",
    "                  label=my_labels[i], \n",
    "                  marker = \"x\")\n",
    "\n",
    "ax.legend()\n",
    "ax.set_xlabel(\"time discretization $\\Delta t$\")\n",
    "ax.set_ylabel(\"error\")\n",
    "ax.grid(True)"
   ]
  },
  {
   "cell_type": "markdown",
   "id": "63e4e0e0",
   "metadata": {},
   "source": [
    "## The End."
   ]
  },
  {
   "cell_type": "code",
   "execution_count": null,
   "id": "14d9b18d",
   "metadata": {},
   "outputs": [],
   "source": [
    "runtime_notebook = time.time()-tStart_notebook\n",
    "print(\"Runtime of this notebook: {} min\".format(runtime_notebook / 60))"
   ]
  },
  {
   "cell_type": "code",
   "execution_count": null,
   "id": "06c49811-34b4-435b-aa63-e7c1b7cb9f21",
   "metadata": {},
   "outputs": [],
   "source": []
  }
 ],
 "metadata": {
  "kernelspec": {
   "display_name": "Python 3 (ipykernel)",
   "language": "python",
   "name": "python3"
  },
  "language_info": {
   "codemirror_mode": {
    "name": "ipython",
    "version": 3
   },
   "file_extension": ".py",
   "mimetype": "text/x-python",
   "name": "python",
   "nbconvert_exporter": "python",
   "pygments_lexer": "ipython3",
   "version": "3.12.5"
  }
 },
 "nbformat": 4,
 "nbformat_minor": 5
}
