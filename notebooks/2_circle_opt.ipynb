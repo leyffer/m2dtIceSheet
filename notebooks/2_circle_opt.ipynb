{
 "cells": [
  {
   "cell_type": "markdown",
   "id": "784473a2",
   "metadata": {},
   "source": [
    "# first tests for optimization"
   ]
  },
  {
   "cell_type": "code",
   "execution_count": 1,
   "id": "24e1c3ef",
   "metadata": {},
   "outputs": [
    {
     "name": "stderr",
     "output_type": "stream",
     "text": [
      "firedrake:WARNING OMP_NUM_THREADS is not set or is set to a value greater than 1, we suggest setting OMP_NUM_THREADS=1 to improve performance\n"
     ]
    },
    {
     "name": "stdout",
     "output_type": "stream",
     "text": [
      "Parameter class not available\n"
     ]
    }
   ],
   "source": [
    "import sys\n",
    "sys.path.insert(0, \"../source/\")\n",
    "\n",
    "from FOM_advectiondiffusion import FOM_advectiondiffusion\n",
    "from FOM_advectiondiffusion_steadystate import FOM_advectiondiffusion_steadystate\n",
    "from Drone import Drone\n",
    "from Parameter import Parameter\n",
    "from Brain import Brain\n",
    "from NoiseModel import NoiseModel\n",
    "from Prior import Prior\n",
    "\n",
    "try:\n",
    "    import dolfin as dl\n",
    "    using_firedrake = False\n",
    "except ImportError:\n",
    "    import firedrake as dl\n",
    "    using_firedrake = True\n",
    "import matplotlib.pyplot as plt\n",
    "import numpy as np\n",
    "import time\n",
    "import scipy.linalg as la\n",
    "import scipy.sparse as sparse\n",
    "import scipy.sparse.linalg as sla\n",
    "import math\n",
    "import scipy.stats as stats"
   ]
  },
  {
   "cell_type": "code",
   "execution_count": 2,
   "id": "faeac253",
   "metadata": {},
   "outputs": [],
   "source": [
    "tStart_notebook = time.time()"
   ]
  },
  {
   "cell_type": "markdown",
   "id": "e2f6d5c6",
   "metadata": {},
   "source": [
    "## User settings"
   ]
  },
  {
   "cell_type": "code",
   "execution_count": 3,
   "id": "3afe5534",
   "metadata": {},
   "outputs": [],
   "source": [
    "meshDim = 50 \n",
    "# meshDim=50 is probably too coarse but for writing the code it should suffice, I'm impatient\n",
    "\n",
    "n_para = 2\n",
    "n_search = 50\n",
    "\n",
    "eval_mode = \"point-eval\" # because it's faster for testing code\n",
    "dt = 0.001"
   ]
  },
  {
   "cell_type": "markdown",
   "id": "9dc6efa0",
   "metadata": {},
   "source": [
    "## Setup"
   ]
  },
  {
   "cell_type": "code",
   "execution_count": 4,
   "id": "9ff49416",
   "metadata": {},
   "outputs": [
    {
     "name": "stdout",
     "output_type": "stream",
     "text": [
      "Info    : Meshing 1D...\n",
      "Info    : [  0%] Meshing curve 1 (Line)\n",
      "Info    : [ 10%] Meshing curve 2 (Line)\n",
      "Info    : [ 20%] Meshing curve 3 (Line)\n",
      "Info    : [ 30%] Meshing curve 4 (Line)\n",
      "Info    : [ 40%] Meshing curve 5 (Line)\n",
      "Info    : [ 50%] Meshing curve 6 (Line)\n",
      "Info    : [ 50%] Meshing curve 7 (Line)\n",
      "Info    : [ 60%] Meshing curve 8 (Line)\n",
      "Info    : [ 70%] Meshing curve 9 (Line)\n",
      "Info    : [ 80%] Meshing curve 10 (Line)\n",
      "Info    : [ 90%] Meshing curve 11 (Line)\n",
      "Info    : [100%] Meshing curve 12 (Line)\n",
      "Info    : Done meshing 1D (Wall 0.000447584s, CPU 0.000634s)\n",
      "Info    : Meshing 2D...\n",
      "Info    : Meshing surface 1 (Plane, Frontal-Delaunay)\n",
      "Info    : Done meshing 2D (Wall 0.0490528s, CPU 0.048277s)\n",
      "Info    : Meshing 3D...\n",
      "Info    : Done meshing 3D (Wall 1.72923e-05s, CPU 9e-06s)\n",
      "Info    : 2953 nodes 5920 elements\n",
      "Info    : Writing 'houses.msh'...\n",
      "Info    : Done writing 'houses.msh'\n",
      "Info    : Meshing 1D...\n",
      "Info    : [  0%] Meshing curve 1 (Line)\n",
      "Info    : [ 10%] Meshing curve 2 (Line)\n",
      "Info    : [ 20%] Meshing curve 3 (Line)\n",
      "Info    : [ 30%] Meshing curve 4 (Line)\n",
      "Info    : [ 40%] Meshing curve 5 (Line)\n",
      "Info    : [ 50%] Meshing curve 6 (Line)\n",
      "Info    : [ 50%] Meshing curve 7 (Line)\n",
      "Info    : [ 60%] Meshing curve 8 (Line)\n",
      "Info    : [ 70%] Meshing curve 9 (Line)\n",
      "Info    : [ 80%] Meshing curve 10 (Line)\n",
      "Info    : [ 90%] Meshing curve 11 (Line)\n",
      "Info    : [100%] Meshing curve 12 (Line)\n",
      "Info    : Done meshing 1D (Wall 0.000457792s, CPU 0.000554s)\n",
      "Info    : Meshing 2D...\n",
      "Info    : Meshing surface 1 (Plane, Frontal-Delaunay)\n",
      "Info    : Done meshing 2D (Wall 0.0490157s, CPU 0.04813s)\n",
      "Info    : Meshing 3D...\n",
      "Info    : Done meshing 3D (Wall 5.49993e-06s, CPU 6e-06s)\n",
      "Info    : 2953 nodes 5920 elements\n",
      "Info    : Writing 'houses.msh'...\n",
      "Info    : Done writing 'houses.msh'\n"
     ]
    }
   ],
   "source": [
    "fom = FOM_advectiondiffusion_steadystate(meshDim=meshDim)\n",
    "fom_transient = FOM_advectiondiffusion(meshDim=meshDim, dt=dt, final_time=1)"
   ]
  },
  {
   "cell_type": "code",
   "execution_count": 5,
   "id": "6a0e5cf3",
   "metadata": {},
   "outputs": [],
   "source": [
    "para_true = np.ones((n_para,))\n",
    "m = fom.assemble_forcing(para=para_true)\n",
    "sol_transient, grid_t = fom.implicit_Euler(m_init=m, dt=dt, final_time=1)\n",
    "sol_steadystate = fom.solve_steady(forcing=m)"
   ]
  },
  {
   "cell_type": "code",
   "execution_count": 6,
   "id": "08eec0b9",
   "metadata": {},
   "outputs": [],
   "source": [
    "# set default flying parameters\n",
    "flying_parameters = {\n",
    "                \"radius\" : 0.25,\n",
    "                \"center\" : np.array([0.75/2, 0.55/2]),\n",
    "                \"speed\" : 0.2 # 0.3\n",
    "            }\n",
    "\n",
    "drone = Drone(fom, grid_t=grid_t, flying_parameters=flying_parameters, eval_mode=eval_mode)\n",
    "pos, __ = drone.get_trajectory(grid_t=grid_t, flying_parameters=flying_parameters)"
   ]
  },
  {
   "cell_type": "code",
   "execution_count": 7,
   "id": "e97ac93e",
   "metadata": {},
   "outputs": [],
   "source": [
    "prior = Prior(covar = np.eye(n_para), mean = np.zeros((n_para,)))\n",
    "\n",
    "noise_model = NoiseModel(grid_t=grid_t, c_scaling=1e+3, c_diffusion = 0.01, noise_seed=42)\n",
    "noise_model_transient = NoiseModel(grid_t=grid_t, c_scaling=1e+1, c_diffusion = 0.01, noise_seed=42)\n",
    "\n",
    "brain = Brain(fom=fom, drone=drone, prior=prior, noise_model=noise_model)\n",
    "brain_transient = Brain(fom=fom, drone=drone, prior=prior, noise_model=noise_model_transient)"
   ]
  },
  {
   "cell_type": "code",
   "execution_count": 8,
   "id": "1570c65f",
   "metadata": {},
   "outputs": [
    {
     "name": "stdout",
     "output_type": "stream",
     "text": [
      "just for testing:\n"
     ]
    },
    {
     "name": "stderr",
     "output_type": "stream",
     "text": [
      "/Users/tlynn/Code/firedrake/firedrake/src/ufl/ufl/exproperators.py:323: FutureWarning: elementwise comparison failed; returning scalar instead, but in the future will perform elementwise comparison\n",
      "  if arg in (\"+\", \"-\"):\n",
      "/Users/tlynn/Code/firedrake/firedrake/src/ufl/ufl/exproperators.py:323: FutureWarning: elementwise comparison failed; returning scalar instead, but in the future will perform elementwise comparison\n",
      "  if arg in (\"+\", \"-\"):\n",
      "/Users/tlynn/Code/firedrake/firedrake/src/ufl/ufl/exproperators.py:323: FutureWarning: elementwise comparison failed; returning scalar instead, but in the future will perform elementwise comparison\n",
      "  if arg in (\"+\", \"-\"):\n"
     ]
    },
    {
     "name": "stdout",
     "output_type": "stream",
     "text": [
      "steady-state mean:  None\n"
     ]
    },
    {
     "name": "stderr",
     "output_type": "stream",
     "text": [
      "/Users/tlynn/Code/firedrake/firedrake/src/ufl/ufl/exproperators.py:323: FutureWarning: elementwise comparison failed; returning scalar instead, but in the future will perform elementwise comparison\n",
      "  if arg in (\"+\", \"-\"):\n"
     ]
    },
    {
     "name": "stdout",
     "output_type": "stream",
     "text": [
      "transient mean:     None\n",
      "steady-state:\n",
      "A-OED: 1.80278391672502\n",
      "D-OED: 0.8029460624197043\n",
      "E-OED: 0.9991743707938694 \n",
      "\n",
      "transient:\n",
      "A-OED: 1.997553840646\n",
      "D-OED: 0.9975538607904495\n",
      "E-OED: 0.9999917369539486 \n",
      "\n"
     ]
    },
    {
     "name": "stderr",
     "output_type": "stream",
     "text": [
      "/Users/tlynn/Code/firedrake/firedrake/src/ufl/ufl/exproperators.py:323: FutureWarning: elementwise comparison failed; returning scalar instead, but in the future will perform elementwise comparison\n",
      "  if arg in (\"+\", \"-\"):\n"
     ]
    }
   ],
   "source": [
    "print(\"just for testing:\")\n",
    "\n",
    "post_steadystate = brain.compute_posterior()\n",
    "print(\"steady-state mean: \", post_steadystate.mean)\n",
    "\n",
    "post_transient = brain_transient.compute_posterior()\n",
    "print(\"transient mean:    \", post_transient.mean)\n",
    "\n",
    "print(\"steady-state:\")\n",
    "print(\"A-OED:\", brain.eval_utility(post_steadystate, oed_mode=\"A\"))\n",
    "print(\"D-OED:\", brain.eval_utility(post_steadystate, oed_mode=\"D\"))\n",
    "print(\"E-OED:\", brain.eval_utility(post_steadystate, oed_mode=\"E\"), \"\\n\")\n",
    "\n",
    "print(\"transient:\")\n",
    "print(\"A-OED:\", brain.eval_utility(post_transient, oed_mode=\"A\"))\n",
    "print(\"D-OED:\", brain.eval_utility(post_transient, oed_mode=\"D\"))\n",
    "print(\"E-OED:\", brain.eval_utility(post_transient, oed_mode=\"E\"), \"\\n\")"
   ]
  },
  {
   "cell_type": "markdown",
   "id": "d9e3e372",
   "metadata": {},
   "source": [
    "## grid search"
   ]
  },
  {
   "cell_type": "markdown",
   "id": "5fc34e31",
   "metadata": {},
   "source": [
    "### radius"
   ]
  },
  {
   "cell_type": "code",
   "execution_count": 9,
   "id": "95ea177d",
   "metadata": {},
   "outputs": [
    {
     "name": "stdout",
     "output_type": "stream",
     "text": [
      "iteration 1 / 50\n"
     ]
    },
    {
     "name": "stderr",
     "output_type": "stream",
     "text": [
      "/Users/tlynn/Code/firedrake/firedrake/src/ufl/ufl/exproperators.py:323: FutureWarning: elementwise comparison failed; returning scalar instead, but in the future will perform elementwise comparison\n",
      "  if arg in (\"+\", \"-\"):\n",
      "/Users/tlynn/Code/firedrake/firedrake/src/ufl/ufl/exproperators.py:323: FutureWarning: elementwise comparison failed; returning scalar instead, but in the future will perform elementwise comparison\n",
      "  if arg in (\"+\", \"-\"):\n",
      "/Users/tlynn/Code/firedrake/firedrake/src/ufl/ufl/exproperators.py:323: FutureWarning: elementwise comparison failed; returning scalar instead, but in the future will perform elementwise comparison\n",
      "  if arg in (\"+\", \"-\"):\n",
      "/Users/tlynn/Code/firedrake/firedrake/src/ufl/ufl/exproperators.py:323: FutureWarning: elementwise comparison failed; returning scalar instead, but in the future will perform elementwise comparison\n",
      "  if arg in (\"+\", \"-\"):\n"
     ]
    },
    {
     "name": "stdout",
     "output_type": "stream",
     "text": [
      "iteration 2 / 50\n"
     ]
    },
    {
     "name": "stderr",
     "output_type": "stream",
     "text": [
      "/Users/tlynn/Code/firedrake/firedrake/src/ufl/ufl/exproperators.py:323: FutureWarning: elementwise comparison failed; returning scalar instead, but in the future will perform elementwise comparison\n",
      "  if arg in (\"+\", \"-\"):\n",
      "/Users/tlynn/Code/firedrake/firedrake/src/ufl/ufl/exproperators.py:323: FutureWarning: elementwise comparison failed; returning scalar instead, but in the future will perform elementwise comparison\n",
      "  if arg in (\"+\", \"-\"):\n",
      "/Users/tlynn/Code/firedrake/firedrake/src/ufl/ufl/exproperators.py:323: FutureWarning: elementwise comparison failed; returning scalar instead, but in the future will perform elementwise comparison\n",
      "  if arg in (\"+\", \"-\"):\n",
      "/Users/tlynn/Code/firedrake/firedrake/src/ufl/ufl/exproperators.py:323: FutureWarning: elementwise comparison failed; returning scalar instead, but in the future will perform elementwise comparison\n",
      "  if arg in (\"+\", \"-\"):\n"
     ]
    },
    {
     "name": "stdout",
     "output_type": "stream",
     "text": [
      "iteration 3 / 50\n"
     ]
    },
    {
     "name": "stderr",
     "output_type": "stream",
     "text": [
      "/Users/tlynn/Code/firedrake/firedrake/src/ufl/ufl/exproperators.py:323: FutureWarning: elementwise comparison failed; returning scalar instead, but in the future will perform elementwise comparison\n",
      "  if arg in (\"+\", \"-\"):\n",
      "/Users/tlynn/Code/firedrake/firedrake/src/ufl/ufl/exproperators.py:323: FutureWarning: elementwise comparison failed; returning scalar instead, but in the future will perform elementwise comparison\n",
      "  if arg in (\"+\", \"-\"):\n",
      "/Users/tlynn/Code/firedrake/firedrake/src/ufl/ufl/exproperators.py:323: FutureWarning: elementwise comparison failed; returning scalar instead, but in the future will perform elementwise comparison\n",
      "  if arg in (\"+\", \"-\"):\n",
      "/Users/tlynn/Code/firedrake/firedrake/src/ufl/ufl/exproperators.py:323: FutureWarning: elementwise comparison failed; returning scalar instead, but in the future will perform elementwise comparison\n",
      "  if arg in (\"+\", \"-\"):\n"
     ]
    },
    {
     "name": "stdout",
     "output_type": "stream",
     "text": [
      "iteration 4 / 50\n"
     ]
    },
    {
     "name": "stderr",
     "output_type": "stream",
     "text": [
      "/Users/tlynn/Code/firedrake/firedrake/src/ufl/ufl/exproperators.py:323: FutureWarning: elementwise comparison failed; returning scalar instead, but in the future will perform elementwise comparison\n",
      "  if arg in (\"+\", \"-\"):\n",
      "/Users/tlynn/Code/firedrake/firedrake/src/ufl/ufl/exproperators.py:323: FutureWarning: elementwise comparison failed; returning scalar instead, but in the future will perform elementwise comparison\n",
      "  if arg in (\"+\", \"-\"):\n",
      "/Users/tlynn/Code/firedrake/firedrake/src/ufl/ufl/exproperators.py:323: FutureWarning: elementwise comparison failed; returning scalar instead, but in the future will perform elementwise comparison\n",
      "  if arg in (\"+\", \"-\"):\n",
      "/Users/tlynn/Code/firedrake/firedrake/src/ufl/ufl/exproperators.py:323: FutureWarning: elementwise comparison failed; returning scalar instead, but in the future will perform elementwise comparison\n",
      "  if arg in (\"+\", \"-\"):\n"
     ]
    },
    {
     "name": "stdout",
     "output_type": "stream",
     "text": [
      "iteration 5 / 50\n"
     ]
    },
    {
     "name": "stderr",
     "output_type": "stream",
     "text": [
      "/Users/tlynn/Code/firedrake/firedrake/src/ufl/ufl/exproperators.py:323: FutureWarning: elementwise comparison failed; returning scalar instead, but in the future will perform elementwise comparison\n",
      "  if arg in (\"+\", \"-\"):\n",
      "/Users/tlynn/Code/firedrake/firedrake/src/ufl/ufl/exproperators.py:323: FutureWarning: elementwise comparison failed; returning scalar instead, but in the future will perform elementwise comparison\n",
      "  if arg in (\"+\", \"-\"):\n",
      "/Users/tlynn/Code/firedrake/firedrake/src/ufl/ufl/exproperators.py:323: FutureWarning: elementwise comparison failed; returning scalar instead, but in the future will perform elementwise comparison\n",
      "  if arg in (\"+\", \"-\"):\n",
      "/Users/tlynn/Code/firedrake/firedrake/src/ufl/ufl/exproperators.py:323: FutureWarning: elementwise comparison failed; returning scalar instead, but in the future will perform elementwise comparison\n",
      "  if arg in (\"+\", \"-\"):\n"
     ]
    },
    {
     "name": "stdout",
     "output_type": "stream",
     "text": [
      "iteration 6 / 50\n"
     ]
    },
    {
     "name": "stderr",
     "output_type": "stream",
     "text": [
      "/Users/tlynn/Code/firedrake/firedrake/src/ufl/ufl/exproperators.py:323: FutureWarning: elementwise comparison failed; returning scalar instead, but in the future will perform elementwise comparison\n",
      "  if arg in (\"+\", \"-\"):\n",
      "/Users/tlynn/Code/firedrake/firedrake/src/ufl/ufl/exproperators.py:323: FutureWarning: elementwise comparison failed; returning scalar instead, but in the future will perform elementwise comparison\n",
      "  if arg in (\"+\", \"-\"):\n",
      "/Users/tlynn/Code/firedrake/firedrake/src/ufl/ufl/exproperators.py:323: FutureWarning: elementwise comparison failed; returning scalar instead, but in the future will perform elementwise comparison\n",
      "  if arg in (\"+\", \"-\"):\n",
      "/Users/tlynn/Code/firedrake/firedrake/src/ufl/ufl/exproperators.py:323: FutureWarning: elementwise comparison failed; returning scalar instead, but in the future will perform elementwise comparison\n",
      "  if arg in (\"+\", \"-\"):\n"
     ]
    },
    {
     "name": "stdout",
     "output_type": "stream",
     "text": [
      "iteration 7 / 50\n"
     ]
    },
    {
     "name": "stderr",
     "output_type": "stream",
     "text": [
      "/Users/tlynn/Code/firedrake/firedrake/src/ufl/ufl/exproperators.py:323: FutureWarning: elementwise comparison failed; returning scalar instead, but in the future will perform elementwise comparison\n",
      "  if arg in (\"+\", \"-\"):\n",
      "/Users/tlynn/Code/firedrake/firedrake/src/ufl/ufl/exproperators.py:323: FutureWarning: elementwise comparison failed; returning scalar instead, but in the future will perform elementwise comparison\n",
      "  if arg in (\"+\", \"-\"):\n",
      "/Users/tlynn/Code/firedrake/firedrake/src/ufl/ufl/exproperators.py:323: FutureWarning: elementwise comparison failed; returning scalar instead, but in the future will perform elementwise comparison\n",
      "  if arg in (\"+\", \"-\"):\n",
      "/Users/tlynn/Code/firedrake/firedrake/src/ufl/ufl/exproperators.py:323: FutureWarning: elementwise comparison failed; returning scalar instead, but in the future will perform elementwise comparison\n",
      "  if arg in (\"+\", \"-\"):\n"
     ]
    },
    {
     "name": "stdout",
     "output_type": "stream",
     "text": [
      "iteration 8 / 50\n"
     ]
    },
    {
     "name": "stderr",
     "output_type": "stream",
     "text": [
      "/Users/tlynn/Code/firedrake/firedrake/src/ufl/ufl/exproperators.py:323: FutureWarning: elementwise comparison failed; returning scalar instead, but in the future will perform elementwise comparison\n",
      "  if arg in (\"+\", \"-\"):\n",
      "/Users/tlynn/Code/firedrake/firedrake/src/ufl/ufl/exproperators.py:323: FutureWarning: elementwise comparison failed; returning scalar instead, but in the future will perform elementwise comparison\n",
      "  if arg in (\"+\", \"-\"):\n",
      "/Users/tlynn/Code/firedrake/firedrake/src/ufl/ufl/exproperators.py:323: FutureWarning: elementwise comparison failed; returning scalar instead, but in the future will perform elementwise comparison\n",
      "  if arg in (\"+\", \"-\"):\n",
      "/Users/tlynn/Code/firedrake/firedrake/src/ufl/ufl/exproperators.py:323: FutureWarning: elementwise comparison failed; returning scalar instead, but in the future will perform elementwise comparison\n",
      "  if arg in (\"+\", \"-\"):\n"
     ]
    },
    {
     "name": "stdout",
     "output_type": "stream",
     "text": [
      "iteration 9 / 50\n"
     ]
    },
    {
     "name": "stderr",
     "output_type": "stream",
     "text": [
      "/Users/tlynn/Code/firedrake/firedrake/src/ufl/ufl/exproperators.py:323: FutureWarning: elementwise comparison failed; returning scalar instead, but in the future will perform elementwise comparison\n",
      "  if arg in (\"+\", \"-\"):\n",
      "/Users/tlynn/Code/firedrake/firedrake/src/ufl/ufl/exproperators.py:323: FutureWarning: elementwise comparison failed; returning scalar instead, but in the future will perform elementwise comparison\n",
      "  if arg in (\"+\", \"-\"):\n",
      "/Users/tlynn/Code/firedrake/firedrake/src/ufl/ufl/exproperators.py:323: FutureWarning: elementwise comparison failed; returning scalar instead, but in the future will perform elementwise comparison\n",
      "  if arg in (\"+\", \"-\"):\n",
      "/Users/tlynn/Code/firedrake/firedrake/src/ufl/ufl/exproperators.py:323: FutureWarning: elementwise comparison failed; returning scalar instead, but in the future will perform elementwise comparison\n",
      "  if arg in (\"+\", \"-\"):\n"
     ]
    },
    {
     "name": "stdout",
     "output_type": "stream",
     "text": [
      "iteration 10 / 50\n"
     ]
    },
    {
     "name": "stderr",
     "output_type": "stream",
     "text": [
      "/Users/tlynn/Code/firedrake/firedrake/src/ufl/ufl/exproperators.py:323: FutureWarning: elementwise comparison failed; returning scalar instead, but in the future will perform elementwise comparison\n",
      "  if arg in (\"+\", \"-\"):\n",
      "/Users/tlynn/Code/firedrake/firedrake/src/ufl/ufl/exproperators.py:323: FutureWarning: elementwise comparison failed; returning scalar instead, but in the future will perform elementwise comparison\n",
      "  if arg in (\"+\", \"-\"):\n",
      "/Users/tlynn/Code/firedrake/firedrake/src/ufl/ufl/exproperators.py:323: FutureWarning: elementwise comparison failed; returning scalar instead, but in the future will perform elementwise comparison\n",
      "  if arg in (\"+\", \"-\"):\n",
      "/Users/tlynn/Code/firedrake/firedrake/src/ufl/ufl/exproperators.py:323: FutureWarning: elementwise comparison failed; returning scalar instead, but in the future will perform elementwise comparison\n",
      "  if arg in (\"+\", \"-\"):\n"
     ]
    },
    {
     "name": "stdout",
     "output_type": "stream",
     "text": [
      "iteration 11 / 50\n"
     ]
    },
    {
     "name": "stderr",
     "output_type": "stream",
     "text": [
      "/Users/tlynn/Code/firedrake/firedrake/src/ufl/ufl/exproperators.py:323: FutureWarning: elementwise comparison failed; returning scalar instead, but in the future will perform elementwise comparison\n",
      "  if arg in (\"+\", \"-\"):\n",
      "/Users/tlynn/Code/firedrake/firedrake/src/ufl/ufl/exproperators.py:323: FutureWarning: elementwise comparison failed; returning scalar instead, but in the future will perform elementwise comparison\n",
      "  if arg in (\"+\", \"-\"):\n",
      "/Users/tlynn/Code/firedrake/firedrake/src/ufl/ufl/exproperators.py:323: FutureWarning: elementwise comparison failed; returning scalar instead, but in the future will perform elementwise comparison\n",
      "  if arg in (\"+\", \"-\"):\n",
      "/Users/tlynn/Code/firedrake/firedrake/src/ufl/ufl/exproperators.py:323: FutureWarning: elementwise comparison failed; returning scalar instead, but in the future will perform elementwise comparison\n",
      "  if arg in (\"+\", \"-\"):\n"
     ]
    },
    {
     "name": "stdout",
     "output_type": "stream",
     "text": [
      "iteration 12 / 50\n"
     ]
    },
    {
     "name": "stderr",
     "output_type": "stream",
     "text": [
      "/Users/tlynn/Code/firedrake/firedrake/src/ufl/ufl/exproperators.py:323: FutureWarning: elementwise comparison failed; returning scalar instead, but in the future will perform elementwise comparison\n",
      "  if arg in (\"+\", \"-\"):\n",
      "/Users/tlynn/Code/firedrake/firedrake/src/ufl/ufl/exproperators.py:323: FutureWarning: elementwise comparison failed; returning scalar instead, but in the future will perform elementwise comparison\n",
      "  if arg in (\"+\", \"-\"):\n",
      "/Users/tlynn/Code/firedrake/firedrake/src/ufl/ufl/exproperators.py:323: FutureWarning: elementwise comparison failed; returning scalar instead, but in the future will perform elementwise comparison\n",
      "  if arg in (\"+\", \"-\"):\n",
      "/Users/tlynn/Code/firedrake/firedrake/src/ufl/ufl/exproperators.py:323: FutureWarning: elementwise comparison failed; returning scalar instead, but in the future will perform elementwise comparison\n",
      "  if arg in (\"+\", \"-\"):\n"
     ]
    },
    {
     "name": "stdout",
     "output_type": "stream",
     "text": [
      "iteration 13 / 50\n"
     ]
    },
    {
     "name": "stderr",
     "output_type": "stream",
     "text": [
      "/Users/tlynn/Code/firedrake/firedrake/src/ufl/ufl/exproperators.py:323: FutureWarning: elementwise comparison failed; returning scalar instead, but in the future will perform elementwise comparison\n",
      "  if arg in (\"+\", \"-\"):\n",
      "/Users/tlynn/Code/firedrake/firedrake/src/ufl/ufl/exproperators.py:323: FutureWarning: elementwise comparison failed; returning scalar instead, but in the future will perform elementwise comparison\n",
      "  if arg in (\"+\", \"-\"):\n",
      "/Users/tlynn/Code/firedrake/firedrake/src/ufl/ufl/exproperators.py:323: FutureWarning: elementwise comparison failed; returning scalar instead, but in the future will perform elementwise comparison\n",
      "  if arg in (\"+\", \"-\"):\n",
      "/Users/tlynn/Code/firedrake/firedrake/src/ufl/ufl/exproperators.py:323: FutureWarning: elementwise comparison failed; returning scalar instead, but in the future will perform elementwise comparison\n",
      "  if arg in (\"+\", \"-\"):\n"
     ]
    },
    {
     "name": "stdout",
     "output_type": "stream",
     "text": [
      "iteration 14 / 50\n"
     ]
    },
    {
     "name": "stderr",
     "output_type": "stream",
     "text": [
      "/Users/tlynn/Code/firedrake/firedrake/src/ufl/ufl/exproperators.py:323: FutureWarning: elementwise comparison failed; returning scalar instead, but in the future will perform elementwise comparison\n",
      "  if arg in (\"+\", \"-\"):\n",
      "/Users/tlynn/Code/firedrake/firedrake/src/ufl/ufl/exproperators.py:323: FutureWarning: elementwise comparison failed; returning scalar instead, but in the future will perform elementwise comparison\n",
      "  if arg in (\"+\", \"-\"):\n",
      "/Users/tlynn/Code/firedrake/firedrake/src/ufl/ufl/exproperators.py:323: FutureWarning: elementwise comparison failed; returning scalar instead, but in the future will perform elementwise comparison\n",
      "  if arg in (\"+\", \"-\"):\n",
      "/Users/tlynn/Code/firedrake/firedrake/src/ufl/ufl/exproperators.py:323: FutureWarning: elementwise comparison failed; returning scalar instead, but in the future will perform elementwise comparison\n",
      "  if arg in (\"+\", \"-\"):\n"
     ]
    },
    {
     "name": "stdout",
     "output_type": "stream",
     "text": [
      "iteration 15 / 50\n"
     ]
    },
    {
     "name": "stderr",
     "output_type": "stream",
     "text": [
      "/Users/tlynn/Code/firedrake/firedrake/src/ufl/ufl/exproperators.py:323: FutureWarning: elementwise comparison failed; returning scalar instead, but in the future will perform elementwise comparison\n",
      "  if arg in (\"+\", \"-\"):\n",
      "/Users/tlynn/Code/firedrake/firedrake/src/ufl/ufl/exproperators.py:323: FutureWarning: elementwise comparison failed; returning scalar instead, but in the future will perform elementwise comparison\n",
      "  if arg in (\"+\", \"-\"):\n",
      "/Users/tlynn/Code/firedrake/firedrake/src/ufl/ufl/exproperators.py:323: FutureWarning: elementwise comparison failed; returning scalar instead, but in the future will perform elementwise comparison\n",
      "  if arg in (\"+\", \"-\"):\n",
      "/Users/tlynn/Code/firedrake/firedrake/src/ufl/ufl/exproperators.py:323: FutureWarning: elementwise comparison failed; returning scalar instead, but in the future will perform elementwise comparison\n",
      "  if arg in (\"+\", \"-\"):\n"
     ]
    },
    {
     "name": "stdout",
     "output_type": "stream",
     "text": [
      "iteration 16 / 50\n"
     ]
    },
    {
     "name": "stderr",
     "output_type": "stream",
     "text": [
      "/Users/tlynn/Code/firedrake/firedrake/src/ufl/ufl/exproperators.py:323: FutureWarning: elementwise comparison failed; returning scalar instead, but in the future will perform elementwise comparison\n",
      "  if arg in (\"+\", \"-\"):\n",
      "/Users/tlynn/Code/firedrake/firedrake/src/ufl/ufl/exproperators.py:323: FutureWarning: elementwise comparison failed; returning scalar instead, but in the future will perform elementwise comparison\n",
      "  if arg in (\"+\", \"-\"):\n",
      "/Users/tlynn/Code/firedrake/firedrake/src/ufl/ufl/exproperators.py:323: FutureWarning: elementwise comparison failed; returning scalar instead, but in the future will perform elementwise comparison\n",
      "  if arg in (\"+\", \"-\"):\n",
      "/Users/tlynn/Code/firedrake/firedrake/src/ufl/ufl/exproperators.py:323: FutureWarning: elementwise comparison failed; returning scalar instead, but in the future will perform elementwise comparison\n",
      "  if arg in (\"+\", \"-\"):\n"
     ]
    },
    {
     "name": "stdout",
     "output_type": "stream",
     "text": [
      "iteration 17 / 50\n"
     ]
    },
    {
     "name": "stderr",
     "output_type": "stream",
     "text": [
      "/Users/tlynn/Code/firedrake/firedrake/src/ufl/ufl/exproperators.py:323: FutureWarning: elementwise comparison failed; returning scalar instead, but in the future will perform elementwise comparison\n",
      "  if arg in (\"+\", \"-\"):\n",
      "/Users/tlynn/Code/firedrake/firedrake/src/ufl/ufl/exproperators.py:323: FutureWarning: elementwise comparison failed; returning scalar instead, but in the future will perform elementwise comparison\n",
      "  if arg in (\"+\", \"-\"):\n",
      "/Users/tlynn/Code/firedrake/firedrake/src/ufl/ufl/exproperators.py:323: FutureWarning: elementwise comparison failed; returning scalar instead, but in the future will perform elementwise comparison\n",
      "  if arg in (\"+\", \"-\"):\n",
      "/Users/tlynn/Code/firedrake/firedrake/src/ufl/ufl/exproperators.py:323: FutureWarning: elementwise comparison failed; returning scalar instead, but in the future will perform elementwise comparison\n",
      "  if arg in (\"+\", \"-\"):\n"
     ]
    },
    {
     "name": "stdout",
     "output_type": "stream",
     "text": [
      "iteration 18 / 50\n"
     ]
    },
    {
     "name": "stderr",
     "output_type": "stream",
     "text": [
      "/Users/tlynn/Code/firedrake/firedrake/src/ufl/ufl/exproperators.py:323: FutureWarning: elementwise comparison failed; returning scalar instead, but in the future will perform elementwise comparison\n",
      "  if arg in (\"+\", \"-\"):\n",
      "/Users/tlynn/Code/firedrake/firedrake/src/ufl/ufl/exproperators.py:323: FutureWarning: elementwise comparison failed; returning scalar instead, but in the future will perform elementwise comparison\n",
      "  if arg in (\"+\", \"-\"):\n",
      "/Users/tlynn/Code/firedrake/firedrake/src/ufl/ufl/exproperators.py:323: FutureWarning: elementwise comparison failed; returning scalar instead, but in the future will perform elementwise comparison\n",
      "  if arg in (\"+\", \"-\"):\n",
      "/Users/tlynn/Code/firedrake/firedrake/src/ufl/ufl/exproperators.py:323: FutureWarning: elementwise comparison failed; returning scalar instead, but in the future will perform elementwise comparison\n",
      "  if arg in (\"+\", \"-\"):\n"
     ]
    },
    {
     "name": "stdout",
     "output_type": "stream",
     "text": [
      "iteration 19 / 50\n"
     ]
    },
    {
     "name": "stderr",
     "output_type": "stream",
     "text": [
      "/Users/tlynn/Code/firedrake/firedrake/src/ufl/ufl/exproperators.py:323: FutureWarning: elementwise comparison failed; returning scalar instead, but in the future will perform elementwise comparison\n",
      "  if arg in (\"+\", \"-\"):\n",
      "/Users/tlynn/Code/firedrake/firedrake/src/ufl/ufl/exproperators.py:323: FutureWarning: elementwise comparison failed; returning scalar instead, but in the future will perform elementwise comparison\n",
      "  if arg in (\"+\", \"-\"):\n",
      "/Users/tlynn/Code/firedrake/firedrake/src/ufl/ufl/exproperators.py:323: FutureWarning: elementwise comparison failed; returning scalar instead, but in the future will perform elementwise comparison\n",
      "  if arg in (\"+\", \"-\"):\n",
      "/Users/tlynn/Code/firedrake/firedrake/src/ufl/ufl/exproperators.py:323: FutureWarning: elementwise comparison failed; returning scalar instead, but in the future will perform elementwise comparison\n",
      "  if arg in (\"+\", \"-\"):\n"
     ]
    },
    {
     "name": "stdout",
     "output_type": "stream",
     "text": [
      "iteration 20 / 50\n"
     ]
    },
    {
     "name": "stderr",
     "output_type": "stream",
     "text": [
      "/Users/tlynn/Code/firedrake/firedrake/src/ufl/ufl/exproperators.py:323: FutureWarning: elementwise comparison failed; returning scalar instead, but in the future will perform elementwise comparison\n",
      "  if arg in (\"+\", \"-\"):\n",
      "/Users/tlynn/Code/firedrake/firedrake/src/ufl/ufl/exproperators.py:323: FutureWarning: elementwise comparison failed; returning scalar instead, but in the future will perform elementwise comparison\n",
      "  if arg in (\"+\", \"-\"):\n",
      "/Users/tlynn/Code/firedrake/firedrake/src/ufl/ufl/exproperators.py:323: FutureWarning: elementwise comparison failed; returning scalar instead, but in the future will perform elementwise comparison\n",
      "  if arg in (\"+\", \"-\"):\n",
      "/Users/tlynn/Code/firedrake/firedrake/src/ufl/ufl/exproperators.py:323: FutureWarning: elementwise comparison failed; returning scalar instead, but in the future will perform elementwise comparison\n",
      "  if arg in (\"+\", \"-\"):\n"
     ]
    },
    {
     "name": "stdout",
     "output_type": "stream",
     "text": [
      "iteration 21 / 50\n"
     ]
    },
    {
     "name": "stderr",
     "output_type": "stream",
     "text": [
      "/Users/tlynn/Code/firedrake/firedrake/src/ufl/ufl/exproperators.py:323: FutureWarning: elementwise comparison failed; returning scalar instead, but in the future will perform elementwise comparison\n",
      "  if arg in (\"+\", \"-\"):\n",
      "/Users/tlynn/Code/firedrake/firedrake/src/ufl/ufl/exproperators.py:323: FutureWarning: elementwise comparison failed; returning scalar instead, but in the future will perform elementwise comparison\n",
      "  if arg in (\"+\", \"-\"):\n",
      "/Users/tlynn/Code/firedrake/firedrake/src/ufl/ufl/exproperators.py:323: FutureWarning: elementwise comparison failed; returning scalar instead, but in the future will perform elementwise comparison\n",
      "  if arg in (\"+\", \"-\"):\n",
      "/Users/tlynn/Code/firedrake/firedrake/src/ufl/ufl/exproperators.py:323: FutureWarning: elementwise comparison failed; returning scalar instead, but in the future will perform elementwise comparison\n",
      "  if arg in (\"+\", \"-\"):\n"
     ]
    },
    {
     "name": "stdout",
     "output_type": "stream",
     "text": [
      "iteration 22 / 50\n"
     ]
    },
    {
     "name": "stderr",
     "output_type": "stream",
     "text": [
      "/Users/tlynn/Code/firedrake/firedrake/src/ufl/ufl/exproperators.py:323: FutureWarning: elementwise comparison failed; returning scalar instead, but in the future will perform elementwise comparison\n",
      "  if arg in (\"+\", \"-\"):\n",
      "/Users/tlynn/Code/firedrake/firedrake/src/ufl/ufl/exproperators.py:323: FutureWarning: elementwise comparison failed; returning scalar instead, but in the future will perform elementwise comparison\n",
      "  if arg in (\"+\", \"-\"):\n",
      "/Users/tlynn/Code/firedrake/firedrake/src/ufl/ufl/exproperators.py:323: FutureWarning: elementwise comparison failed; returning scalar instead, but in the future will perform elementwise comparison\n",
      "  if arg in (\"+\", \"-\"):\n",
      "/Users/tlynn/Code/firedrake/firedrake/src/ufl/ufl/exproperators.py:323: FutureWarning: elementwise comparison failed; returning scalar instead, but in the future will perform elementwise comparison\n",
      "  if arg in (\"+\", \"-\"):\n"
     ]
    },
    {
     "name": "stdout",
     "output_type": "stream",
     "text": [
      "iteration 23 / 50\n"
     ]
    },
    {
     "name": "stderr",
     "output_type": "stream",
     "text": [
      "/Users/tlynn/Code/firedrake/firedrake/src/ufl/ufl/exproperators.py:323: FutureWarning: elementwise comparison failed; returning scalar instead, but in the future will perform elementwise comparison\n",
      "  if arg in (\"+\", \"-\"):\n",
      "/Users/tlynn/Code/firedrake/firedrake/src/ufl/ufl/exproperators.py:323: FutureWarning: elementwise comparison failed; returning scalar instead, but in the future will perform elementwise comparison\n",
      "  if arg in (\"+\", \"-\"):\n",
      "/Users/tlynn/Code/firedrake/firedrake/src/ufl/ufl/exproperators.py:323: FutureWarning: elementwise comparison failed; returning scalar instead, but in the future will perform elementwise comparison\n",
      "  if arg in (\"+\", \"-\"):\n",
      "/Users/tlynn/Code/firedrake/firedrake/src/ufl/ufl/exproperators.py:323: FutureWarning: elementwise comparison failed; returning scalar instead, but in the future will perform elementwise comparison\n",
      "  if arg in (\"+\", \"-\"):\n"
     ]
    },
    {
     "name": "stdout",
     "output_type": "stream",
     "text": [
      "iteration 24 / 50\n"
     ]
    },
    {
     "name": "stderr",
     "output_type": "stream",
     "text": [
      "/Users/tlynn/Code/firedrake/firedrake/src/ufl/ufl/exproperators.py:323: FutureWarning: elementwise comparison failed; returning scalar instead, but in the future will perform elementwise comparison\n",
      "  if arg in (\"+\", \"-\"):\n",
      "/Users/tlynn/Code/firedrake/firedrake/src/ufl/ufl/exproperators.py:323: FutureWarning: elementwise comparison failed; returning scalar instead, but in the future will perform elementwise comparison\n",
      "  if arg in (\"+\", \"-\"):\n",
      "/Users/tlynn/Code/firedrake/firedrake/src/ufl/ufl/exproperators.py:323: FutureWarning: elementwise comparison failed; returning scalar instead, but in the future will perform elementwise comparison\n",
      "  if arg in (\"+\", \"-\"):\n",
      "/Users/tlynn/Code/firedrake/firedrake/src/ufl/ufl/exproperators.py:323: FutureWarning: elementwise comparison failed; returning scalar instead, but in the future will perform elementwise comparison\n",
      "  if arg in (\"+\", \"-\"):\n"
     ]
    },
    {
     "name": "stdout",
     "output_type": "stream",
     "text": [
      "iteration 25 / 50\n"
     ]
    },
    {
     "name": "stderr",
     "output_type": "stream",
     "text": [
      "/Users/tlynn/Code/firedrake/firedrake/src/ufl/ufl/exproperators.py:323: FutureWarning: elementwise comparison failed; returning scalar instead, but in the future will perform elementwise comparison\n",
      "  if arg in (\"+\", \"-\"):\n",
      "/Users/tlynn/Code/firedrake/firedrake/src/ufl/ufl/exproperators.py:323: FutureWarning: elementwise comparison failed; returning scalar instead, but in the future will perform elementwise comparison\n",
      "  if arg in (\"+\", \"-\"):\n",
      "/Users/tlynn/Code/firedrake/firedrake/src/ufl/ufl/exproperators.py:323: FutureWarning: elementwise comparison failed; returning scalar instead, but in the future will perform elementwise comparison\n",
      "  if arg in (\"+\", \"-\"):\n",
      "/Users/tlynn/Code/firedrake/firedrake/src/ufl/ufl/exproperators.py:323: FutureWarning: elementwise comparison failed; returning scalar instead, but in the future will perform elementwise comparison\n",
      "  if arg in (\"+\", \"-\"):\n"
     ]
    },
    {
     "name": "stdout",
     "output_type": "stream",
     "text": [
      "iteration 26 / 50\n"
     ]
    },
    {
     "name": "stderr",
     "output_type": "stream",
     "text": [
      "/Users/tlynn/Code/firedrake/firedrake/src/ufl/ufl/exproperators.py:323: FutureWarning: elementwise comparison failed; returning scalar instead, but in the future will perform elementwise comparison\n",
      "  if arg in (\"+\", \"-\"):\n",
      "/Users/tlynn/Code/firedrake/firedrake/src/ufl/ufl/exproperators.py:323: FutureWarning: elementwise comparison failed; returning scalar instead, but in the future will perform elementwise comparison\n",
      "  if arg in (\"+\", \"-\"):\n",
      "/Users/tlynn/Code/firedrake/firedrake/src/ufl/ufl/exproperators.py:323: FutureWarning: elementwise comparison failed; returning scalar instead, but in the future will perform elementwise comparison\n",
      "  if arg in (\"+\", \"-\"):\n",
      "/Users/tlynn/Code/firedrake/firedrake/src/ufl/ufl/exproperators.py:323: FutureWarning: elementwise comparison failed; returning scalar instead, but in the future will perform elementwise comparison\n",
      "  if arg in (\"+\", \"-\"):\n"
     ]
    },
    {
     "name": "stdout",
     "output_type": "stream",
     "text": [
      "iteration 27 / 50\n"
     ]
    },
    {
     "name": "stderr",
     "output_type": "stream",
     "text": [
      "/Users/tlynn/Code/firedrake/firedrake/src/ufl/ufl/exproperators.py:323: FutureWarning: elementwise comparison failed; returning scalar instead, but in the future will perform elementwise comparison\n",
      "  if arg in (\"+\", \"-\"):\n",
      "/Users/tlynn/Code/firedrake/firedrake/src/ufl/ufl/exproperators.py:323: FutureWarning: elementwise comparison failed; returning scalar instead, but in the future will perform elementwise comparison\n",
      "  if arg in (\"+\", \"-\"):\n",
      "/Users/tlynn/Code/firedrake/firedrake/src/ufl/ufl/exproperators.py:323: FutureWarning: elementwise comparison failed; returning scalar instead, but in the future will perform elementwise comparison\n",
      "  if arg in (\"+\", \"-\"):\n",
      "/Users/tlynn/Code/firedrake/firedrake/src/ufl/ufl/exproperators.py:323: FutureWarning: elementwise comparison failed; returning scalar instead, but in the future will perform elementwise comparison\n",
      "  if arg in (\"+\", \"-\"):\n"
     ]
    },
    {
     "name": "stdout",
     "output_type": "stream",
     "text": [
      "iteration 28 / 50\n"
     ]
    },
    {
     "name": "stderr",
     "output_type": "stream",
     "text": [
      "/Users/tlynn/Code/firedrake/firedrake/src/ufl/ufl/exproperators.py:323: FutureWarning: elementwise comparison failed; returning scalar instead, but in the future will perform elementwise comparison\n",
      "  if arg in (\"+\", \"-\"):\n",
      "/Users/tlynn/Code/firedrake/firedrake/src/ufl/ufl/exproperators.py:323: FutureWarning: elementwise comparison failed; returning scalar instead, but in the future will perform elementwise comparison\n",
      "  if arg in (\"+\", \"-\"):\n",
      "/Users/tlynn/Code/firedrake/firedrake/src/ufl/ufl/exproperators.py:323: FutureWarning: elementwise comparison failed; returning scalar instead, but in the future will perform elementwise comparison\n",
      "  if arg in (\"+\", \"-\"):\n",
      "/Users/tlynn/Code/firedrake/firedrake/src/ufl/ufl/exproperators.py:323: FutureWarning: elementwise comparison failed; returning scalar instead, but in the future will perform elementwise comparison\n",
      "  if arg in (\"+\", \"-\"):\n"
     ]
    },
    {
     "name": "stdout",
     "output_type": "stream",
     "text": [
      "iteration 29 / 50\n"
     ]
    },
    {
     "name": "stderr",
     "output_type": "stream",
     "text": [
      "/Users/tlynn/Code/firedrake/firedrake/src/ufl/ufl/exproperators.py:323: FutureWarning: elementwise comparison failed; returning scalar instead, but in the future will perform elementwise comparison\n",
      "  if arg in (\"+\", \"-\"):\n",
      "/Users/tlynn/Code/firedrake/firedrake/src/ufl/ufl/exproperators.py:323: FutureWarning: elementwise comparison failed; returning scalar instead, but in the future will perform elementwise comparison\n",
      "  if arg in (\"+\", \"-\"):\n",
      "/Users/tlynn/Code/firedrake/firedrake/src/ufl/ufl/exproperators.py:323: FutureWarning: elementwise comparison failed; returning scalar instead, but in the future will perform elementwise comparison\n",
      "  if arg in (\"+\", \"-\"):\n",
      "/Users/tlynn/Code/firedrake/firedrake/src/ufl/ufl/exproperators.py:323: FutureWarning: elementwise comparison failed; returning scalar instead, but in the future will perform elementwise comparison\n",
      "  if arg in (\"+\", \"-\"):\n"
     ]
    },
    {
     "name": "stdout",
     "output_type": "stream",
     "text": [
      "iteration 30 / 50\n"
     ]
    },
    {
     "name": "stderr",
     "output_type": "stream",
     "text": [
      "/Users/tlynn/Code/firedrake/firedrake/src/ufl/ufl/exproperators.py:323: FutureWarning: elementwise comparison failed; returning scalar instead, but in the future will perform elementwise comparison\n",
      "  if arg in (\"+\", \"-\"):\n",
      "/Users/tlynn/Code/firedrake/firedrake/src/ufl/ufl/exproperators.py:323: FutureWarning: elementwise comparison failed; returning scalar instead, but in the future will perform elementwise comparison\n",
      "  if arg in (\"+\", \"-\"):\n",
      "/Users/tlynn/Code/firedrake/firedrake/src/ufl/ufl/exproperators.py:323: FutureWarning: elementwise comparison failed; returning scalar instead, but in the future will perform elementwise comparison\n",
      "  if arg in (\"+\", \"-\"):\n",
      "/Users/tlynn/Code/firedrake/firedrake/src/ufl/ufl/exproperators.py:323: FutureWarning: elementwise comparison failed; returning scalar instead, but in the future will perform elementwise comparison\n",
      "  if arg in (\"+\", \"-\"):\n"
     ]
    },
    {
     "name": "stdout",
     "output_type": "stream",
     "text": [
      "iteration 31 / 50\n"
     ]
    },
    {
     "name": "stderr",
     "output_type": "stream",
     "text": [
      "/Users/tlynn/Code/firedrake/firedrake/src/ufl/ufl/exproperators.py:323: FutureWarning: elementwise comparison failed; returning scalar instead, but in the future will perform elementwise comparison\n",
      "  if arg in (\"+\", \"-\"):\n",
      "/Users/tlynn/Code/firedrake/firedrake/src/ufl/ufl/exproperators.py:323: FutureWarning: elementwise comparison failed; returning scalar instead, but in the future will perform elementwise comparison\n",
      "  if arg in (\"+\", \"-\"):\n",
      "/Users/tlynn/Code/firedrake/firedrake/src/ufl/ufl/exproperators.py:323: FutureWarning: elementwise comparison failed; returning scalar instead, but in the future will perform elementwise comparison\n",
      "  if arg in (\"+\", \"-\"):\n",
      "/Users/tlynn/Code/firedrake/firedrake/src/ufl/ufl/exproperators.py:323: FutureWarning: elementwise comparison failed; returning scalar instead, but in the future will perform elementwise comparison\n",
      "  if arg in (\"+\", \"-\"):\n"
     ]
    },
    {
     "name": "stdout",
     "output_type": "stream",
     "text": [
      "iteration 32 / 50\n"
     ]
    },
    {
     "name": "stderr",
     "output_type": "stream",
     "text": [
      "/Users/tlynn/Code/firedrake/firedrake/src/ufl/ufl/exproperators.py:323: FutureWarning: elementwise comparison failed; returning scalar instead, but in the future will perform elementwise comparison\n",
      "  if arg in (\"+\", \"-\"):\n",
      "/Users/tlynn/Code/firedrake/firedrake/src/ufl/ufl/exproperators.py:323: FutureWarning: elementwise comparison failed; returning scalar instead, but in the future will perform elementwise comparison\n",
      "  if arg in (\"+\", \"-\"):\n",
      "/Users/tlynn/Code/firedrake/firedrake/src/ufl/ufl/exproperators.py:323: FutureWarning: elementwise comparison failed; returning scalar instead, but in the future will perform elementwise comparison\n",
      "  if arg in (\"+\", \"-\"):\n",
      "/Users/tlynn/Code/firedrake/firedrake/src/ufl/ufl/exproperators.py:323: FutureWarning: elementwise comparison failed; returning scalar instead, but in the future will perform elementwise comparison\n",
      "  if arg in (\"+\", \"-\"):\n"
     ]
    },
    {
     "name": "stdout",
     "output_type": "stream",
     "text": [
      "iteration 33 / 50\n"
     ]
    },
    {
     "name": "stderr",
     "output_type": "stream",
     "text": [
      "/Users/tlynn/Code/firedrake/firedrake/src/ufl/ufl/exproperators.py:323: FutureWarning: elementwise comparison failed; returning scalar instead, but in the future will perform elementwise comparison\n",
      "  if arg in (\"+\", \"-\"):\n",
      "/Users/tlynn/Code/firedrake/firedrake/src/ufl/ufl/exproperators.py:323: FutureWarning: elementwise comparison failed; returning scalar instead, but in the future will perform elementwise comparison\n",
      "  if arg in (\"+\", \"-\"):\n",
      "/Users/tlynn/Code/firedrake/firedrake/src/ufl/ufl/exproperators.py:323: FutureWarning: elementwise comparison failed; returning scalar instead, but in the future will perform elementwise comparison\n",
      "  if arg in (\"+\", \"-\"):\n",
      "/Users/tlynn/Code/firedrake/firedrake/src/ufl/ufl/exproperators.py:323: FutureWarning: elementwise comparison failed; returning scalar instead, but in the future will perform elementwise comparison\n",
      "  if arg in (\"+\", \"-\"):\n"
     ]
    },
    {
     "name": "stdout",
     "output_type": "stream",
     "text": [
      "iteration 34 / 50\n"
     ]
    },
    {
     "name": "stderr",
     "output_type": "stream",
     "text": [
      "/Users/tlynn/Code/firedrake/firedrake/src/ufl/ufl/exproperators.py:323: FutureWarning: elementwise comparison failed; returning scalar instead, but in the future will perform elementwise comparison\n",
      "  if arg in (\"+\", \"-\"):\n",
      "/Users/tlynn/Code/firedrake/firedrake/src/ufl/ufl/exproperators.py:323: FutureWarning: elementwise comparison failed; returning scalar instead, but in the future will perform elementwise comparison\n",
      "  if arg in (\"+\", \"-\"):\n",
      "/Users/tlynn/Code/firedrake/firedrake/src/ufl/ufl/exproperators.py:323: FutureWarning: elementwise comparison failed; returning scalar instead, but in the future will perform elementwise comparison\n",
      "  if arg in (\"+\", \"-\"):\n",
      "/Users/tlynn/Code/firedrake/firedrake/src/ufl/ufl/exproperators.py:323: FutureWarning: elementwise comparison failed; returning scalar instead, but in the future will perform elementwise comparison\n",
      "  if arg in (\"+\", \"-\"):\n"
     ]
    },
    {
     "name": "stdout",
     "output_type": "stream",
     "text": [
      "iteration 35 / 50\n"
     ]
    },
    {
     "name": "stderr",
     "output_type": "stream",
     "text": [
      "/Users/tlynn/Code/firedrake/firedrake/src/ufl/ufl/exproperators.py:323: FutureWarning: elementwise comparison failed; returning scalar instead, but in the future will perform elementwise comparison\n",
      "  if arg in (\"+\", \"-\"):\n",
      "/Users/tlynn/Code/firedrake/firedrake/src/ufl/ufl/exproperators.py:323: FutureWarning: elementwise comparison failed; returning scalar instead, but in the future will perform elementwise comparison\n",
      "  if arg in (\"+\", \"-\"):\n",
      "/Users/tlynn/Code/firedrake/firedrake/src/ufl/ufl/exproperators.py:323: FutureWarning: elementwise comparison failed; returning scalar instead, but in the future will perform elementwise comparison\n",
      "  if arg in (\"+\", \"-\"):\n",
      "/Users/tlynn/Code/firedrake/firedrake/src/ufl/ufl/exproperators.py:323: FutureWarning: elementwise comparison failed; returning scalar instead, but in the future will perform elementwise comparison\n",
      "  if arg in (\"+\", \"-\"):\n"
     ]
    },
    {
     "name": "stdout",
     "output_type": "stream",
     "text": [
      "iteration 36 / 50\n"
     ]
    },
    {
     "name": "stderr",
     "output_type": "stream",
     "text": [
      "/Users/tlynn/Code/firedrake/firedrake/src/ufl/ufl/exproperators.py:323: FutureWarning: elementwise comparison failed; returning scalar instead, but in the future will perform elementwise comparison\n",
      "  if arg in (\"+\", \"-\"):\n",
      "/Users/tlynn/Code/firedrake/firedrake/src/ufl/ufl/exproperators.py:323: FutureWarning: elementwise comparison failed; returning scalar instead, but in the future will perform elementwise comparison\n",
      "  if arg in (\"+\", \"-\"):\n",
      "/Users/tlynn/Code/firedrake/firedrake/src/ufl/ufl/exproperators.py:323: FutureWarning: elementwise comparison failed; returning scalar instead, but in the future will perform elementwise comparison\n",
      "  if arg in (\"+\", \"-\"):\n",
      "/Users/tlynn/Code/firedrake/firedrake/src/ufl/ufl/exproperators.py:323: FutureWarning: elementwise comparison failed; returning scalar instead, but in the future will perform elementwise comparison\n",
      "  if arg in (\"+\", \"-\"):\n"
     ]
    },
    {
     "name": "stdout",
     "output_type": "stream",
     "text": [
      "iteration 37 / 50\n"
     ]
    },
    {
     "name": "stderr",
     "output_type": "stream",
     "text": [
      "/Users/tlynn/Code/firedrake/firedrake/src/ufl/ufl/exproperators.py:323: FutureWarning: elementwise comparison failed; returning scalar instead, but in the future will perform elementwise comparison\n",
      "  if arg in (\"+\", \"-\"):\n",
      "/Users/tlynn/Code/firedrake/firedrake/src/ufl/ufl/exproperators.py:323: FutureWarning: elementwise comparison failed; returning scalar instead, but in the future will perform elementwise comparison\n",
      "  if arg in (\"+\", \"-\"):\n",
      "/Users/tlynn/Code/firedrake/firedrake/src/ufl/ufl/exproperators.py:323: FutureWarning: elementwise comparison failed; returning scalar instead, but in the future will perform elementwise comparison\n",
      "  if arg in (\"+\", \"-\"):\n",
      "/Users/tlynn/Code/firedrake/firedrake/src/ufl/ufl/exproperators.py:323: FutureWarning: elementwise comparison failed; returning scalar instead, but in the future will perform elementwise comparison\n",
      "  if arg in (\"+\", \"-\"):\n"
     ]
    },
    {
     "name": "stdout",
     "output_type": "stream",
     "text": [
      "iteration 38 / 50\n"
     ]
    },
    {
     "name": "stderr",
     "output_type": "stream",
     "text": [
      "/Users/tlynn/Code/firedrake/firedrake/src/ufl/ufl/exproperators.py:323: FutureWarning: elementwise comparison failed; returning scalar instead, but in the future will perform elementwise comparison\n",
      "  if arg in (\"+\", \"-\"):\n",
      "/Users/tlynn/Code/firedrake/firedrake/src/ufl/ufl/exproperators.py:323: FutureWarning: elementwise comparison failed; returning scalar instead, but in the future will perform elementwise comparison\n",
      "  if arg in (\"+\", \"-\"):\n",
      "/Users/tlynn/Code/firedrake/firedrake/src/ufl/ufl/exproperators.py:323: FutureWarning: elementwise comparison failed; returning scalar instead, but in the future will perform elementwise comparison\n",
      "  if arg in (\"+\", \"-\"):\n",
      "/Users/tlynn/Code/firedrake/firedrake/src/ufl/ufl/exproperators.py:323: FutureWarning: elementwise comparison failed; returning scalar instead, but in the future will perform elementwise comparison\n",
      "  if arg in (\"+\", \"-\"):\n"
     ]
    },
    {
     "name": "stdout",
     "output_type": "stream",
     "text": [
      "iteration 39 / 50\n"
     ]
    },
    {
     "name": "stderr",
     "output_type": "stream",
     "text": [
      "/Users/tlynn/Code/firedrake/firedrake/src/ufl/ufl/exproperators.py:323: FutureWarning: elementwise comparison failed; returning scalar instead, but in the future will perform elementwise comparison\n",
      "  if arg in (\"+\", \"-\"):\n",
      "/Users/tlynn/Code/firedrake/firedrake/src/ufl/ufl/exproperators.py:323: FutureWarning: elementwise comparison failed; returning scalar instead, but in the future will perform elementwise comparison\n",
      "  if arg in (\"+\", \"-\"):\n",
      "/Users/tlynn/Code/firedrake/firedrake/src/ufl/ufl/exproperators.py:323: FutureWarning: elementwise comparison failed; returning scalar instead, but in the future will perform elementwise comparison\n",
      "  if arg in (\"+\", \"-\"):\n",
      "/Users/tlynn/Code/firedrake/firedrake/src/ufl/ufl/exproperators.py:323: FutureWarning: elementwise comparison failed; returning scalar instead, but in the future will perform elementwise comparison\n",
      "  if arg in (\"+\", \"-\"):\n"
     ]
    },
    {
     "name": "stdout",
     "output_type": "stream",
     "text": [
      "iteration 40 / 50\n"
     ]
    },
    {
     "name": "stderr",
     "output_type": "stream",
     "text": [
      "/Users/tlynn/Code/firedrake/firedrake/src/ufl/ufl/exproperators.py:323: FutureWarning: elementwise comparison failed; returning scalar instead, but in the future will perform elementwise comparison\n",
      "  if arg in (\"+\", \"-\"):\n",
      "/Users/tlynn/Code/firedrake/firedrake/src/ufl/ufl/exproperators.py:323: FutureWarning: elementwise comparison failed; returning scalar instead, but in the future will perform elementwise comparison\n",
      "  if arg in (\"+\", \"-\"):\n",
      "/Users/tlynn/Code/firedrake/firedrake/src/ufl/ufl/exproperators.py:323: FutureWarning: elementwise comparison failed; returning scalar instead, but in the future will perform elementwise comparison\n",
      "  if arg in (\"+\", \"-\"):\n",
      "/Users/tlynn/Code/firedrake/firedrake/src/ufl/ufl/exproperators.py:323: FutureWarning: elementwise comparison failed; returning scalar instead, but in the future will perform elementwise comparison\n",
      "  if arg in (\"+\", \"-\"):\n"
     ]
    },
    {
     "name": "stdout",
     "output_type": "stream",
     "text": [
      "iteration 41 / 50\n"
     ]
    },
    {
     "name": "stderr",
     "output_type": "stream",
     "text": [
      "/Users/tlynn/Code/firedrake/firedrake/src/ufl/ufl/exproperators.py:323: FutureWarning: elementwise comparison failed; returning scalar instead, but in the future will perform elementwise comparison\n",
      "  if arg in (\"+\", \"-\"):\n",
      "/Users/tlynn/Code/firedrake/firedrake/src/ufl/ufl/exproperators.py:323: FutureWarning: elementwise comparison failed; returning scalar instead, but in the future will perform elementwise comparison\n",
      "  if arg in (\"+\", \"-\"):\n",
      "/Users/tlynn/Code/firedrake/firedrake/src/ufl/ufl/exproperators.py:323: FutureWarning: elementwise comparison failed; returning scalar instead, but in the future will perform elementwise comparison\n",
      "  if arg in (\"+\", \"-\"):\n",
      "/Users/tlynn/Code/firedrake/firedrake/src/ufl/ufl/exproperators.py:323: FutureWarning: elementwise comparison failed; returning scalar instead, but in the future will perform elementwise comparison\n",
      "  if arg in (\"+\", \"-\"):\n"
     ]
    },
    {
     "name": "stdout",
     "output_type": "stream",
     "text": [
      "iteration 42 / 50\n"
     ]
    },
    {
     "name": "stderr",
     "output_type": "stream",
     "text": [
      "/Users/tlynn/Code/firedrake/firedrake/src/ufl/ufl/exproperators.py:323: FutureWarning: elementwise comparison failed; returning scalar instead, but in the future will perform elementwise comparison\n",
      "  if arg in (\"+\", \"-\"):\n",
      "/Users/tlynn/Code/firedrake/firedrake/src/ufl/ufl/exproperators.py:323: FutureWarning: elementwise comparison failed; returning scalar instead, but in the future will perform elementwise comparison\n",
      "  if arg in (\"+\", \"-\"):\n",
      "/Users/tlynn/Code/firedrake/firedrake/src/ufl/ufl/exproperators.py:323: FutureWarning: elementwise comparison failed; returning scalar instead, but in the future will perform elementwise comparison\n",
      "  if arg in (\"+\", \"-\"):\n",
      "/Users/tlynn/Code/firedrake/firedrake/src/ufl/ufl/exproperators.py:323: FutureWarning: elementwise comparison failed; returning scalar instead, but in the future will perform elementwise comparison\n",
      "  if arg in (\"+\", \"-\"):\n"
     ]
    },
    {
     "name": "stdout",
     "output_type": "stream",
     "text": [
      "iteration 43 / 50\n"
     ]
    },
    {
     "name": "stderr",
     "output_type": "stream",
     "text": [
      "/Users/tlynn/Code/firedrake/firedrake/src/ufl/ufl/exproperators.py:323: FutureWarning: elementwise comparison failed; returning scalar instead, but in the future will perform elementwise comparison\n",
      "  if arg in (\"+\", \"-\"):\n",
      "/Users/tlynn/Code/firedrake/firedrake/src/ufl/ufl/exproperators.py:323: FutureWarning: elementwise comparison failed; returning scalar instead, but in the future will perform elementwise comparison\n",
      "  if arg in (\"+\", \"-\"):\n",
      "/Users/tlynn/Code/firedrake/firedrake/src/ufl/ufl/exproperators.py:323: FutureWarning: elementwise comparison failed; returning scalar instead, but in the future will perform elementwise comparison\n",
      "  if arg in (\"+\", \"-\"):\n",
      "/Users/tlynn/Code/firedrake/firedrake/src/ufl/ufl/exproperators.py:323: FutureWarning: elementwise comparison failed; returning scalar instead, but in the future will perform elementwise comparison\n",
      "  if arg in (\"+\", \"-\"):\n"
     ]
    },
    {
     "name": "stdout",
     "output_type": "stream",
     "text": [
      "iteration 44 / 50\n"
     ]
    },
    {
     "name": "stderr",
     "output_type": "stream",
     "text": [
      "/Users/tlynn/Code/firedrake/firedrake/src/ufl/ufl/exproperators.py:323: FutureWarning: elementwise comparison failed; returning scalar instead, but in the future will perform elementwise comparison\n",
      "  if arg in (\"+\", \"-\"):\n",
      "/Users/tlynn/Code/firedrake/firedrake/src/ufl/ufl/exproperators.py:323: FutureWarning: elementwise comparison failed; returning scalar instead, but in the future will perform elementwise comparison\n",
      "  if arg in (\"+\", \"-\"):\n",
      "/Users/tlynn/Code/firedrake/firedrake/src/ufl/ufl/exproperators.py:323: FutureWarning: elementwise comparison failed; returning scalar instead, but in the future will perform elementwise comparison\n",
      "  if arg in (\"+\", \"-\"):\n",
      "/Users/tlynn/Code/firedrake/firedrake/src/ufl/ufl/exproperators.py:323: FutureWarning: elementwise comparison failed; returning scalar instead, but in the future will perform elementwise comparison\n",
      "  if arg in (\"+\", \"-\"):\n"
     ]
    },
    {
     "name": "stdout",
     "output_type": "stream",
     "text": [
      "iteration 45 / 50\n"
     ]
    },
    {
     "name": "stderr",
     "output_type": "stream",
     "text": [
      "/Users/tlynn/Code/firedrake/firedrake/src/ufl/ufl/exproperators.py:323: FutureWarning: elementwise comparison failed; returning scalar instead, but in the future will perform elementwise comparison\n",
      "  if arg in (\"+\", \"-\"):\n",
      "/Users/tlynn/Code/firedrake/firedrake/src/ufl/ufl/exproperators.py:323: FutureWarning: elementwise comparison failed; returning scalar instead, but in the future will perform elementwise comparison\n",
      "  if arg in (\"+\", \"-\"):\n",
      "/Users/tlynn/Code/firedrake/firedrake/src/ufl/ufl/exproperators.py:323: FutureWarning: elementwise comparison failed; returning scalar instead, but in the future will perform elementwise comparison\n",
      "  if arg in (\"+\", \"-\"):\n",
      "/Users/tlynn/Code/firedrake/firedrake/src/ufl/ufl/exproperators.py:323: FutureWarning: elementwise comparison failed; returning scalar instead, but in the future will perform elementwise comparison\n",
      "  if arg in (\"+\", \"-\"):\n"
     ]
    },
    {
     "name": "stdout",
     "output_type": "stream",
     "text": [
      "iteration 46 / 50\n"
     ]
    },
    {
     "name": "stderr",
     "output_type": "stream",
     "text": [
      "/Users/tlynn/Code/firedrake/firedrake/src/ufl/ufl/exproperators.py:323: FutureWarning: elementwise comparison failed; returning scalar instead, but in the future will perform elementwise comparison\n",
      "  if arg in (\"+\", \"-\"):\n",
      "/Users/tlynn/Code/firedrake/firedrake/src/ufl/ufl/exproperators.py:323: FutureWarning: elementwise comparison failed; returning scalar instead, but in the future will perform elementwise comparison\n",
      "  if arg in (\"+\", \"-\"):\n",
      "/Users/tlynn/Code/firedrake/firedrake/src/ufl/ufl/exproperators.py:323: FutureWarning: elementwise comparison failed; returning scalar instead, but in the future will perform elementwise comparison\n",
      "  if arg in (\"+\", \"-\"):\n",
      "/Users/tlynn/Code/firedrake/firedrake/src/ufl/ufl/exproperators.py:323: FutureWarning: elementwise comparison failed; returning scalar instead, but in the future will perform elementwise comparison\n",
      "  if arg in (\"+\", \"-\"):\n"
     ]
    },
    {
     "name": "stdout",
     "output_type": "stream",
     "text": [
      "iteration 47 / 50\n"
     ]
    },
    {
     "name": "stderr",
     "output_type": "stream",
     "text": [
      "/Users/tlynn/Code/firedrake/firedrake/src/ufl/ufl/exproperators.py:323: FutureWarning: elementwise comparison failed; returning scalar instead, but in the future will perform elementwise comparison\n",
      "  if arg in (\"+\", \"-\"):\n",
      "/Users/tlynn/Code/firedrake/firedrake/src/ufl/ufl/exproperators.py:323: FutureWarning: elementwise comparison failed; returning scalar instead, but in the future will perform elementwise comparison\n",
      "  if arg in (\"+\", \"-\"):\n",
      "/Users/tlynn/Code/firedrake/firedrake/src/ufl/ufl/exproperators.py:323: FutureWarning: elementwise comparison failed; returning scalar instead, but in the future will perform elementwise comparison\n",
      "  if arg in (\"+\", \"-\"):\n",
      "/Users/tlynn/Code/firedrake/firedrake/src/ufl/ufl/exproperators.py:323: FutureWarning: elementwise comparison failed; returning scalar instead, but in the future will perform elementwise comparison\n",
      "  if arg in (\"+\", \"-\"):\n"
     ]
    },
    {
     "name": "stdout",
     "output_type": "stream",
     "text": [
      "iteration 48 / 50\n"
     ]
    },
    {
     "name": "stderr",
     "output_type": "stream",
     "text": [
      "/Users/tlynn/Code/firedrake/firedrake/src/ufl/ufl/exproperators.py:323: FutureWarning: elementwise comparison failed; returning scalar instead, but in the future will perform elementwise comparison\n",
      "  if arg in (\"+\", \"-\"):\n",
      "/Users/tlynn/Code/firedrake/firedrake/src/ufl/ufl/exproperators.py:323: FutureWarning: elementwise comparison failed; returning scalar instead, but in the future will perform elementwise comparison\n",
      "  if arg in (\"+\", \"-\"):\n",
      "/Users/tlynn/Code/firedrake/firedrake/src/ufl/ufl/exproperators.py:323: FutureWarning: elementwise comparison failed; returning scalar instead, but in the future will perform elementwise comparison\n",
      "  if arg in (\"+\", \"-\"):\n",
      "/Users/tlynn/Code/firedrake/firedrake/src/ufl/ufl/exproperators.py:323: FutureWarning: elementwise comparison failed; returning scalar instead, but in the future will perform elementwise comparison\n",
      "  if arg in (\"+\", \"-\"):\n"
     ]
    },
    {
     "name": "stdout",
     "output_type": "stream",
     "text": [
      "iteration 49 / 50\n"
     ]
    },
    {
     "name": "stderr",
     "output_type": "stream",
     "text": [
      "/Users/tlynn/Code/firedrake/firedrake/src/ufl/ufl/exproperators.py:323: FutureWarning: elementwise comparison failed; returning scalar instead, but in the future will perform elementwise comparison\n",
      "  if arg in (\"+\", \"-\"):\n",
      "/Users/tlynn/Code/firedrake/firedrake/src/ufl/ufl/exproperators.py:323: FutureWarning: elementwise comparison failed; returning scalar instead, but in the future will perform elementwise comparison\n",
      "  if arg in (\"+\", \"-\"):\n",
      "/Users/tlynn/Code/firedrake/firedrake/src/ufl/ufl/exproperators.py:323: FutureWarning: elementwise comparison failed; returning scalar instead, but in the future will perform elementwise comparison\n",
      "  if arg in (\"+\", \"-\"):\n",
      "/Users/tlynn/Code/firedrake/firedrake/src/ufl/ufl/exproperators.py:323: FutureWarning: elementwise comparison failed; returning scalar instead, but in the future will perform elementwise comparison\n",
      "  if arg in (\"+\", \"-\"):\n"
     ]
    },
    {
     "name": "stdout",
     "output_type": "stream",
     "text": [
      "iteration 50 / 50\n"
     ]
    },
    {
     "name": "stderr",
     "output_type": "stream",
     "text": [
      "/Users/tlynn/Code/firedrake/firedrake/src/ufl/ufl/exproperators.py:323: FutureWarning: elementwise comparison failed; returning scalar instead, but in the future will perform elementwise comparison\n",
      "  if arg in (\"+\", \"-\"):\n",
      "/Users/tlynn/Code/firedrake/firedrake/src/ufl/ufl/exproperators.py:323: FutureWarning: elementwise comparison failed; returning scalar instead, but in the future will perform elementwise comparison\n",
      "  if arg in (\"+\", \"-\"):\n",
      "/Users/tlynn/Code/firedrake/firedrake/src/ufl/ufl/exproperators.py:323: FutureWarning: elementwise comparison failed; returning scalar instead, but in the future will perform elementwise comparison\n",
      "  if arg in (\"+\", \"-\"):\n",
      "/Users/tlynn/Code/firedrake/firedrake/src/ufl/ufl/exproperators.py:323: FutureWarning: elementwise comparison failed; returning scalar instead, but in the future will perform elementwise comparison\n",
      "  if arg in (\"+\", \"-\"):\n"
     ]
    }
   ],
   "source": [
    "radius_min = la.norm(np.array([0.75, 0.55])/2 - np.array([0.5, 0.4]))\n",
    "radius_max = la.norm(np.array([0, 0.55])/2)\n",
    "\n",
    "search_grid = np.linspace(radius_min, radius_max, n_search)\n",
    "util_steadystate = np.zeros((n_search, 3))\n",
    "util_transient = np.zeros((n_search, 3))\n",
    "\n",
    "for i in range(n_search):\n",
    "    print(\"iteration {} / {}\".format(i+1, n_search))\n",
    "    \n",
    "    flying_parameters = {\n",
    "                \"radius\" : search_grid[i],\n",
    "                \"center\" : np.array([0.75/2, 0.55/2]),\n",
    "                \"speed\" : 0.2 # 0.3\n",
    "            }\n",
    "\n",
    "    drone.set_default_flying_parameters(flying_parameters)\n",
    "    \n",
    "    post_steadystate = brain.compute_posterior()\n",
    "    post_transient = brain_transient.compute_posterior()\n",
    "    \n",
    "    util_steadystate[i, 0] = brain.eval_utility(post_steadystate, oed_mode=\"A\")\n",
    "    util_steadystate[i, 1] = brain.eval_utility(post_steadystate, oed_mode=\"D\")\n",
    "    util_steadystate[i, 2] = brain.eval_utility(post_steadystate, oed_mode=\"E\")\n",
    "    \n",
    "    util_transient[i, 0] = brain.eval_utility(post_transient, oed_mode=\"A\")\n",
    "    util_transient[i, 1] = brain.eval_utility(post_transient, oed_mode=\"D\")\n",
    "    util_transient[i, 2] = brain.eval_utility(post_transient, oed_mode=\"E\")"
   ]
  },
  {
   "cell_type": "code",
   "execution_count": 10,
   "id": "0351cb3f",
   "metadata": {},
   "outputs": [
    {
     "name": "stdout",
     "output_type": "stream",
     "text": [
      "Optimal radius:\n",
      "A-OED, steady-state: 0.275\n",
      "A-OED, transient:    0.275\n",
      "D-OED, steady-state: 0.275\n",
      "D-OED, transient:    0.275\n",
      "E-OED, steady-state: 0.18078580977432518\n",
      "E-OED, transient:    0.18078580977432518\n"
     ]
    },
    {
     "data": {
      "image/png": "[encoded data removed]",
      "text/plain": [
       "<Figure size 1000x1000 with 6 Axes>"
      ]
     },
     "metadata": {},
     "output_type": "display_data"
    }
   ],
   "source": [
    "util_names = [\"A\", \"D\", \"E\"]\n",
    "fig, axs = plt.subplots(3, 2, sharex = True, figsize = (10, 10))\n",
    "\n",
    "for i in range(3):\n",
    "    axs[i, 0].semilogy(search_grid, util_steadystate[:, i], label=\"steady-state, {}-OED\".format(util_names[i]))\n",
    "    axs[i, 1].plot(search_grid, util_transient[:, i], label=\"transient, {}-OED\".format(util_names[i]))\n",
    "    \n",
    "    axs[i, 0].legend()\n",
    "    axs[i, 0].set_title(\"{}-OED utility function value, steady-state\".format(util_names[i]))\n",
    "    \n",
    "    axs[i, 1].legend()\n",
    "    axs[i, 1].set_title(\"{}-OED utility function value, transient\".format(util_names[i]))\n",
    "    \n",
    "axs[-1, 0].set_xlabel(\"radius\")\n",
    "axs[-1, 1].set_xlabel(\"radius\")\n",
    "\n",
    "print(\"Optimal radius:\")\n",
    "print(\"A-OED, steady-state:\", search_grid[np.argmin(util_steadystate[:, 0])])\n",
    "print(\"A-OED, transient:   \", search_grid[np.argmin(util_transient[:, 0])])\n",
    "\n",
    "print(\"D-OED, steady-state:\", search_grid[np.argmin(util_steadystate[:, 1])])\n",
    "print(\"D-OED, transient:   \", search_grid[np.argmin(util_transient[:, 1])])\n",
    "\n",
    "print(\"E-OED, steady-state:\", search_grid[np.argmin(util_steadystate[:, 2])])\n",
    "print(\"E-OED, transient:   \", search_grid[np.argmin(util_transient[:, 2])])"
   ]
  },
  {
   "cell_type": "markdown",
   "id": "36ccd3a0",
   "metadata": {},
   "source": [
    "### speed"
   ]
  },
  {
   "cell_type": "code",
   "execution_count": 11,
   "id": "cd2c2608",
   "metadata": {},
   "outputs": [
    {
     "name": "stdout",
     "output_type": "stream",
     "text": [
      "iteration 1 / 50\n"
     ]
    },
    {
     "name": "stderr",
     "output_type": "stream",
     "text": [
      "/Users/tlynn/Code/firedrake/firedrake/src/ufl/ufl/exproperators.py:323: FutureWarning: elementwise comparison failed; returning scalar instead, but in the future will perform elementwise comparison\n",
      "  if arg in (\"+\", \"-\"):\n",
      "/Users/tlynn/Code/firedrake/firedrake/src/ufl/ufl/exproperators.py:323: FutureWarning: elementwise comparison failed; returning scalar instead, but in the future will perform elementwise comparison\n",
      "  if arg in (\"+\", \"-\"):\n",
      "/Users/tlynn/Code/firedrake/firedrake/src/ufl/ufl/exproperators.py:323: FutureWarning: elementwise comparison failed; returning scalar instead, but in the future will perform elementwise comparison\n",
      "  if arg in (\"+\", \"-\"):\n",
      "/Users/tlynn/Code/firedrake/firedrake/src/ufl/ufl/exproperators.py:323: FutureWarning: elementwise comparison failed; returning scalar instead, but in the future will perform elementwise comparison\n",
      "  if arg in (\"+\", \"-\"):\n"
     ]
    },
    {
     "name": "stdout",
     "output_type": "stream",
     "text": [
      "iteration 2 / 50\n"
     ]
    },
    {
     "name": "stderr",
     "output_type": "stream",
     "text": [
      "/Users/tlynn/Code/firedrake/firedrake/src/ufl/ufl/exproperators.py:323: FutureWarning: elementwise comparison failed; returning scalar instead, but in the future will perform elementwise comparison\n",
      "  if arg in (\"+\", \"-\"):\n",
      "/Users/tlynn/Code/firedrake/firedrake/src/ufl/ufl/exproperators.py:323: FutureWarning: elementwise comparison failed; returning scalar instead, but in the future will perform elementwise comparison\n",
      "  if arg in (\"+\", \"-\"):\n",
      "/Users/tlynn/Code/firedrake/firedrake/src/ufl/ufl/exproperators.py:323: FutureWarning: elementwise comparison failed; returning scalar instead, but in the future will perform elementwise comparison\n",
      "  if arg in (\"+\", \"-\"):\n",
      "/Users/tlynn/Code/firedrake/firedrake/src/ufl/ufl/exproperators.py:323: FutureWarning: elementwise comparison failed; returning scalar instead, but in the future will perform elementwise comparison\n",
      "  if arg in (\"+\", \"-\"):\n"
     ]
    },
    {
     "name": "stdout",
     "output_type": "stream",
     "text": [
      "iteration 3 / 50\n"
     ]
    },
    {
     "name": "stderr",
     "output_type": "stream",
     "text": [
      "/Users/tlynn/Code/firedrake/firedrake/src/ufl/ufl/exproperators.py:323: FutureWarning: elementwise comparison failed; returning scalar instead, but in the future will perform elementwise comparison\n",
      "  if arg in (\"+\", \"-\"):\n",
      "/Users/tlynn/Code/firedrake/firedrake/src/ufl/ufl/exproperators.py:323: FutureWarning: elementwise comparison failed; returning scalar instead, but in the future will perform elementwise comparison\n",
      "  if arg in (\"+\", \"-\"):\n",
      "/Users/tlynn/Code/firedrake/firedrake/src/ufl/ufl/exproperators.py:323: FutureWarning: elementwise comparison failed; returning scalar instead, but in the future will perform elementwise comparison\n",
      "  if arg in (\"+\", \"-\"):\n",
      "/Users/tlynn/Code/firedrake/firedrake/src/ufl/ufl/exproperators.py:323: FutureWarning: elementwise comparison failed; returning scalar instead, but in the future will perform elementwise comparison\n",
      "  if arg in (\"+\", \"-\"):\n"
     ]
    },
    {
     "name": "stdout",
     "output_type": "stream",
     "text": [
      "iteration 4 / 50\n"
     ]
    },
    {
     "name": "stderr",
     "output_type": "stream",
     "text": [
      "/Users/tlynn/Code/firedrake/firedrake/src/ufl/ufl/exproperators.py:323: FutureWarning: elementwise comparison failed; returning scalar instead, but in the future will perform elementwise comparison\n",
      "  if arg in (\"+\", \"-\"):\n",
      "/Users/tlynn/Code/firedrake/firedrake/src/ufl/ufl/exproperators.py:323: FutureWarning: elementwise comparison failed; returning scalar instead, but in the future will perform elementwise comparison\n",
      "  if arg in (\"+\", \"-\"):\n",
      "/Users/tlynn/Code/firedrake/firedrake/src/ufl/ufl/exproperators.py:323: FutureWarning: elementwise comparison failed; returning scalar instead, but in the future will perform elementwise comparison\n",
      "  if arg in (\"+\", \"-\"):\n",
      "/Users/tlynn/Code/firedrake/firedrake/src/ufl/ufl/exproperators.py:323: FutureWarning: elementwise comparison failed; returning scalar instead, but in the future will perform elementwise comparison\n",
      "  if arg in (\"+\", \"-\"):\n"
     ]
    },
    {
     "name": "stdout",
     "output_type": "stream",
     "text": [
      "iteration 5 / 50\n"
     ]
    },
    {
     "name": "stderr",
     "output_type": "stream",
     "text": [
      "/Users/tlynn/Code/firedrake/firedrake/src/ufl/ufl/exproperators.py:323: FutureWarning: elementwise comparison failed; returning scalar instead, but in the future will perform elementwise comparison\n",
      "  if arg in (\"+\", \"-\"):\n",
      "/Users/tlynn/Code/firedrake/firedrake/src/ufl/ufl/exproperators.py:323: FutureWarning: elementwise comparison failed; returning scalar instead, but in the future will perform elementwise comparison\n",
      "  if arg in (\"+\", \"-\"):\n",
      "/Users/tlynn/Code/firedrake/firedrake/src/ufl/ufl/exproperators.py:323: FutureWarning: elementwise comparison failed; returning scalar instead, but in the future will perform elementwise comparison\n",
      "  if arg in (\"+\", \"-\"):\n",
      "/Users/tlynn/Code/firedrake/firedrake/src/ufl/ufl/exproperators.py:323: FutureWarning: elementwise comparison failed; returning scalar instead, but in the future will perform elementwise comparison\n",
      "  if arg in (\"+\", \"-\"):\n"
     ]
    },
    {
     "name": "stdout",
     "output_type": "stream",
     "text": [
      "iteration 6 / 50\n"
     ]
    },
    {
     "name": "stderr",
     "output_type": "stream",
     "text": [
      "/Users/tlynn/Code/firedrake/firedrake/src/ufl/ufl/exproperators.py:323: FutureWarning: elementwise comparison failed; returning scalar instead, but in the future will perform elementwise comparison\n",
      "  if arg in (\"+\", \"-\"):\n",
      "/Users/tlynn/Code/firedrake/firedrake/src/ufl/ufl/exproperators.py:323: FutureWarning: elementwise comparison failed; returning scalar instead, but in the future will perform elementwise comparison\n",
      "  if arg in (\"+\", \"-\"):\n",
      "/Users/tlynn/Code/firedrake/firedrake/src/ufl/ufl/exproperators.py:323: FutureWarning: elementwise comparison failed; returning scalar instead, but in the future will perform elementwise comparison\n",
      "  if arg in (\"+\", \"-\"):\n",
      "/Users/tlynn/Code/firedrake/firedrake/src/ufl/ufl/exproperators.py:323: FutureWarning: elementwise comparison failed; returning scalar instead, but in the future will perform elementwise comparison\n",
      "  if arg in (\"+\", \"-\"):\n"
     ]
    },
    {
     "name": "stdout",
     "output_type": "stream",
     "text": [
      "iteration 7 / 50\n"
     ]
    },
    {
     "name": "stderr",
     "output_type": "stream",
     "text": [
      "/Users/tlynn/Code/firedrake/firedrake/src/ufl/ufl/exproperators.py:323: FutureWarning: elementwise comparison failed; returning scalar instead, but in the future will perform elementwise comparison\n",
      "  if arg in (\"+\", \"-\"):\n",
      "/Users/tlynn/Code/firedrake/firedrake/src/ufl/ufl/exproperators.py:323: FutureWarning: elementwise comparison failed; returning scalar instead, but in the future will perform elementwise comparison\n",
      "  if arg in (\"+\", \"-\"):\n",
      "/Users/tlynn/Code/firedrake/firedrake/src/ufl/ufl/exproperators.py:323: FutureWarning: elementwise comparison failed; returning scalar instead, but in the future will perform elementwise comparison\n",
      "  if arg in (\"+\", \"-\"):\n",
      "/Users/tlynn/Code/firedrake/firedrake/src/ufl/ufl/exproperators.py:323: FutureWarning: elementwise comparison failed; returning scalar instead, but in the future will perform elementwise comparison\n",
      "  if arg in (\"+\", \"-\"):\n"
     ]
    },
    {
     "name": "stdout",
     "output_type": "stream",
     "text": [
      "iteration 8 / 50\n"
     ]
    },
    {
     "name": "stderr",
     "output_type": "stream",
     "text": [
      "/Users/tlynn/Code/firedrake/firedrake/src/ufl/ufl/exproperators.py:323: FutureWarning: elementwise comparison failed; returning scalar instead, but in the future will perform elementwise comparison\n",
      "  if arg in (\"+\", \"-\"):\n",
      "/Users/tlynn/Code/firedrake/firedrake/src/ufl/ufl/exproperators.py:323: FutureWarning: elementwise comparison failed; returning scalar instead, but in the future will perform elementwise comparison\n",
      "  if arg in (\"+\", \"-\"):\n",
      "/Users/tlynn/Code/firedrake/firedrake/src/ufl/ufl/exproperators.py:323: FutureWarning: elementwise comparison failed; returning scalar instead, but in the future will perform elementwise comparison\n",
      "  if arg in (\"+\", \"-\"):\n",
      "/Users/tlynn/Code/firedrake/firedrake/src/ufl/ufl/exproperators.py:323: FutureWarning: elementwise comparison failed; returning scalar instead, but in the future will perform elementwise comparison\n",
      "  if arg in (\"+\", \"-\"):\n"
     ]
    },
    {
     "name": "stdout",
     "output_type": "stream",
     "text": [
      "iteration 9 / 50\n"
     ]
    },
    {
     "name": "stderr",
     "output_type": "stream",
     "text": [
      "/Users/tlynn/Code/firedrake/firedrake/src/ufl/ufl/exproperators.py:323: FutureWarning: elementwise comparison failed; returning scalar instead, but in the future will perform elementwise comparison\n",
      "  if arg in (\"+\", \"-\"):\n",
      "/Users/tlynn/Code/firedrake/firedrake/src/ufl/ufl/exproperators.py:323: FutureWarning: elementwise comparison failed; returning scalar instead, but in the future will perform elementwise comparison\n",
      "  if arg in (\"+\", \"-\"):\n",
      "/Users/tlynn/Code/firedrake/firedrake/src/ufl/ufl/exproperators.py:323: FutureWarning: elementwise comparison failed; returning scalar instead, but in the future will perform elementwise comparison\n",
      "  if arg in (\"+\", \"-\"):\n",
      "/Users/tlynn/Code/firedrake/firedrake/src/ufl/ufl/exproperators.py:323: FutureWarning: elementwise comparison failed; returning scalar instead, but in the future will perform elementwise comparison\n",
      "  if arg in (\"+\", \"-\"):\n"
     ]
    },
    {
     "name": "stdout",
     "output_type": "stream",
     "text": [
      "iteration 10 / 50\n"
     ]
    },
    {
     "name": "stderr",
     "output_type": "stream",
     "text": [
      "/Users/tlynn/Code/firedrake/firedrake/src/ufl/ufl/exproperators.py:323: FutureWarning: elementwise comparison failed; returning scalar instead, but in the future will perform elementwise comparison\n",
      "  if arg in (\"+\", \"-\"):\n",
      "/Users/tlynn/Code/firedrake/firedrake/src/ufl/ufl/exproperators.py:323: FutureWarning: elementwise comparison failed; returning scalar instead, but in the future will perform elementwise comparison\n",
      "  if arg in (\"+\", \"-\"):\n",
      "/Users/tlynn/Code/firedrake/firedrake/src/ufl/ufl/exproperators.py:323: FutureWarning: elementwise comparison failed; returning scalar instead, but in the future will perform elementwise comparison\n",
      "  if arg in (\"+\", \"-\"):\n",
      "/Users/tlynn/Code/firedrake/firedrake/src/ufl/ufl/exproperators.py:323: FutureWarning: elementwise comparison failed; returning scalar instead, but in the future will perform elementwise comparison\n",
      "  if arg in (\"+\", \"-\"):\n"
     ]
    },
    {
     "name": "stdout",
     "output_type": "stream",
     "text": [
      "iteration 11 / 50\n"
     ]
    },
    {
     "name": "stderr",
     "output_type": "stream",
     "text": [
      "/Users/tlynn/Code/firedrake/firedrake/src/ufl/ufl/exproperators.py:323: FutureWarning: elementwise comparison failed; returning scalar instead, but in the future will perform elementwise comparison\n",
      "  if arg in (\"+\", \"-\"):\n",
      "/Users/tlynn/Code/firedrake/firedrake/src/ufl/ufl/exproperators.py:323: FutureWarning: elementwise comparison failed; returning scalar instead, but in the future will perform elementwise comparison\n",
      "  if arg in (\"+\", \"-\"):\n",
      "/Users/tlynn/Code/firedrake/firedrake/src/ufl/ufl/exproperators.py:323: FutureWarning: elementwise comparison failed; returning scalar instead, but in the future will perform elementwise comparison\n",
      "  if arg in (\"+\", \"-\"):\n",
      "/Users/tlynn/Code/firedrake/firedrake/src/ufl/ufl/exproperators.py:323: FutureWarning: elementwise comparison failed; returning scalar instead, but in the future will perform elementwise comparison\n",
      "  if arg in (\"+\", \"-\"):\n"
     ]
    },
    {
     "name": "stdout",
     "output_type": "stream",
     "text": [
      "iteration 12 / 50\n"
     ]
    },
    {
     "name": "stderr",
     "output_type": "stream",
     "text": [
      "/Users/tlynn/Code/firedrake/firedrake/src/ufl/ufl/exproperators.py:323: FutureWarning: elementwise comparison failed; returning scalar instead, but in the future will perform elementwise comparison\n",
      "  if arg in (\"+\", \"-\"):\n",
      "/Users/tlynn/Code/firedrake/firedrake/src/ufl/ufl/exproperators.py:323: FutureWarning: elementwise comparison failed; returning scalar instead, but in the future will perform elementwise comparison\n",
      "  if arg in (\"+\", \"-\"):\n",
      "/Users/tlynn/Code/firedrake/firedrake/src/ufl/ufl/exproperators.py:323: FutureWarning: elementwise comparison failed; returning scalar instead, but in the future will perform elementwise comparison\n",
      "  if arg in (\"+\", \"-\"):\n",
      "/Users/tlynn/Code/firedrake/firedrake/src/ufl/ufl/exproperators.py:323: FutureWarning: elementwise comparison failed; returning scalar instead, but in the future will perform elementwise comparison\n",
      "  if arg in (\"+\", \"-\"):\n"
     ]
    },
    {
     "name": "stdout",
     "output_type": "stream",
     "text": [
      "iteration 13 / 50\n"
     ]
    },
    {
     "name": "stderr",
     "output_type": "stream",
     "text": [
      "/Users/tlynn/Code/firedrake/firedrake/src/ufl/ufl/exproperators.py:323: FutureWarning: elementwise comparison failed; returning scalar instead, but in the future will perform elementwise comparison\n",
      "  if arg in (\"+\", \"-\"):\n",
      "/Users/tlynn/Code/firedrake/firedrake/src/ufl/ufl/exproperators.py:323: FutureWarning: elementwise comparison failed; returning scalar instead, but in the future will perform elementwise comparison\n",
      "  if arg in (\"+\", \"-\"):\n",
      "/Users/tlynn/Code/firedrake/firedrake/src/ufl/ufl/exproperators.py:323: FutureWarning: elementwise comparison failed; returning scalar instead, but in the future will perform elementwise comparison\n",
      "  if arg in (\"+\", \"-\"):\n",
      "/Users/tlynn/Code/firedrake/firedrake/src/ufl/ufl/exproperators.py:323: FutureWarning: elementwise comparison failed; returning scalar instead, but in the future will perform elementwise comparison\n",
      "  if arg in (\"+\", \"-\"):\n"
     ]
    },
    {
     "name": "stdout",
     "output_type": "stream",
     "text": [
      "iteration 14 / 50\n"
     ]
    },
    {
     "name": "stderr",
     "output_type": "stream",
     "text": [
      "/Users/tlynn/Code/firedrake/firedrake/src/ufl/ufl/exproperators.py:323: FutureWarning: elementwise comparison failed; returning scalar instead, but in the future will perform elementwise comparison\n",
      "  if arg in (\"+\", \"-\"):\n",
      "/Users/tlynn/Code/firedrake/firedrake/src/ufl/ufl/exproperators.py:323: FutureWarning: elementwise comparison failed; returning scalar instead, but in the future will perform elementwise comparison\n",
      "  if arg in (\"+\", \"-\"):\n",
      "/Users/tlynn/Code/firedrake/firedrake/src/ufl/ufl/exproperators.py:323: FutureWarning: elementwise comparison failed; returning scalar instead, but in the future will perform elementwise comparison\n",
      "  if arg in (\"+\", \"-\"):\n",
      "/Users/tlynn/Code/firedrake/firedrake/src/ufl/ufl/exproperators.py:323: FutureWarning: elementwise comparison failed; returning scalar instead, but in the future will perform elementwise comparison\n",
      "  if arg in (\"+\", \"-\"):\n"
     ]
    },
    {
     "name": "stdout",
     "output_type": "stream",
     "text": [
      "iteration 15 / 50\n"
     ]
    },
    {
     "name": "stderr",
     "output_type": "stream",
     "text": [
      "/Users/tlynn/Code/firedrake/firedrake/src/ufl/ufl/exproperators.py:323: FutureWarning: elementwise comparison failed; returning scalar instead, but in the future will perform elementwise comparison\n",
      "  if arg in (\"+\", \"-\"):\n",
      "/Users/tlynn/Code/firedrake/firedrake/src/ufl/ufl/exproperators.py:323: FutureWarning: elementwise comparison failed; returning scalar instead, but in the future will perform elementwise comparison\n",
      "  if arg in (\"+\", \"-\"):\n",
      "/Users/tlynn/Code/firedrake/firedrake/src/ufl/ufl/exproperators.py:323: FutureWarning: elementwise comparison failed; returning scalar instead, but in the future will perform elementwise comparison\n",
      "  if arg in (\"+\", \"-\"):\n",
      "/Users/tlynn/Code/firedrake/firedrake/src/ufl/ufl/exproperators.py:323: FutureWarning: elementwise comparison failed; returning scalar instead, but in the future will perform elementwise comparison\n",
      "  if arg in (\"+\", \"-\"):\n"
     ]
    },
    {
     "name": "stdout",
     "output_type": "stream",
     "text": [
      "iteration 16 / 50\n"
     ]
    },
    {
     "name": "stderr",
     "output_type": "stream",
     "text": [
      "/Users/tlynn/Code/firedrake/firedrake/src/ufl/ufl/exproperators.py:323: FutureWarning: elementwise comparison failed; returning scalar instead, but in the future will perform elementwise comparison\n",
      "  if arg in (\"+\", \"-\"):\n",
      "/Users/tlynn/Code/firedrake/firedrake/src/ufl/ufl/exproperators.py:323: FutureWarning: elementwise comparison failed; returning scalar instead, but in the future will perform elementwise comparison\n",
      "  if arg in (\"+\", \"-\"):\n",
      "/Users/tlynn/Code/firedrake/firedrake/src/ufl/ufl/exproperators.py:323: FutureWarning: elementwise comparison failed; returning scalar instead, but in the future will perform elementwise comparison\n",
      "  if arg in (\"+\", \"-\"):\n",
      "/Users/tlynn/Code/firedrake/firedrake/src/ufl/ufl/exproperators.py:323: FutureWarning: elementwise comparison failed; returning scalar instead, but in the future will perform elementwise comparison\n",
      "  if arg in (\"+\", \"-\"):\n"
     ]
    },
    {
     "name": "stdout",
     "output_type": "stream",
     "text": [
      "iteration 17 / 50\n"
     ]
    },
    {
     "name": "stderr",
     "output_type": "stream",
     "text": [
      "/Users/tlynn/Code/firedrake/firedrake/src/ufl/ufl/exproperators.py:323: FutureWarning: elementwise comparison failed; returning scalar instead, but in the future will perform elementwise comparison\n",
      "  if arg in (\"+\", \"-\"):\n",
      "/Users/tlynn/Code/firedrake/firedrake/src/ufl/ufl/exproperators.py:323: FutureWarning: elementwise comparison failed; returning scalar instead, but in the future will perform elementwise comparison\n",
      "  if arg in (\"+\", \"-\"):\n",
      "/Users/tlynn/Code/firedrake/firedrake/src/ufl/ufl/exproperators.py:323: FutureWarning: elementwise comparison failed; returning scalar instead, but in the future will perform elementwise comparison\n",
      "  if arg in (\"+\", \"-\"):\n",
      "/Users/tlynn/Code/firedrake/firedrake/src/ufl/ufl/exproperators.py:323: FutureWarning: elementwise comparison failed; returning scalar instead, but in the future will perform elementwise comparison\n",
      "  if arg in (\"+\", \"-\"):\n"
     ]
    },
    {
     "name": "stdout",
     "output_type": "stream",
     "text": [
      "iteration 18 / 50\n"
     ]
    },
    {
     "name": "stderr",
     "output_type": "stream",
     "text": [
      "/Users/tlynn/Code/firedrake/firedrake/src/ufl/ufl/exproperators.py:323: FutureWarning: elementwise comparison failed; returning scalar instead, but in the future will perform elementwise comparison\n",
      "  if arg in (\"+\", \"-\"):\n",
      "/Users/tlynn/Code/firedrake/firedrake/src/ufl/ufl/exproperators.py:323: FutureWarning: elementwise comparison failed; returning scalar instead, but in the future will perform elementwise comparison\n",
      "  if arg in (\"+\", \"-\"):\n",
      "/Users/tlynn/Code/firedrake/firedrake/src/ufl/ufl/exproperators.py:323: FutureWarning: elementwise comparison failed; returning scalar instead, but in the future will perform elementwise comparison\n",
      "  if arg in (\"+\", \"-\"):\n",
      "/Users/tlynn/Code/firedrake/firedrake/src/ufl/ufl/exproperators.py:323: FutureWarning: elementwise comparison failed; returning scalar instead, but in the future will perform elementwise comparison\n",
      "  if arg in (\"+\", \"-\"):\n"
     ]
    },
    {
     "name": "stdout",
     "output_type": "stream",
     "text": [
      "iteration 19 / 50\n"
     ]
    },
    {
     "name": "stderr",
     "output_type": "stream",
     "text": [
      "/Users/tlynn/Code/firedrake/firedrake/src/ufl/ufl/exproperators.py:323: FutureWarning: elementwise comparison failed; returning scalar instead, but in the future will perform elementwise comparison\n",
      "  if arg in (\"+\", \"-\"):\n",
      "/Users/tlynn/Code/firedrake/firedrake/src/ufl/ufl/exproperators.py:323: FutureWarning: elementwise comparison failed; returning scalar instead, but in the future will perform elementwise comparison\n",
      "  if arg in (\"+\", \"-\"):\n",
      "/Users/tlynn/Code/firedrake/firedrake/src/ufl/ufl/exproperators.py:323: FutureWarning: elementwise comparison failed; returning scalar instead, but in the future will perform elementwise comparison\n",
      "  if arg in (\"+\", \"-\"):\n",
      "/Users/tlynn/Code/firedrake/firedrake/src/ufl/ufl/exproperators.py:323: FutureWarning: elementwise comparison failed; returning scalar instead, but in the future will perform elementwise comparison\n",
      "  if arg in (\"+\", \"-\"):\n"
     ]
    },
    {
     "name": "stdout",
     "output_type": "stream",
     "text": [
      "iteration 20 / 50\n"
     ]
    },
    {
     "name": "stderr",
     "output_type": "stream",
     "text": [
      "/Users/tlynn/Code/firedrake/firedrake/src/ufl/ufl/exproperators.py:323: FutureWarning: elementwise comparison failed; returning scalar instead, but in the future will perform elementwise comparison\n",
      "  if arg in (\"+\", \"-\"):\n",
      "/Users/tlynn/Code/firedrake/firedrake/src/ufl/ufl/exproperators.py:323: FutureWarning: elementwise comparison failed; returning scalar instead, but in the future will perform elementwise comparison\n",
      "  if arg in (\"+\", \"-\"):\n",
      "/Users/tlynn/Code/firedrake/firedrake/src/ufl/ufl/exproperators.py:323: FutureWarning: elementwise comparison failed; returning scalar instead, but in the future will perform elementwise comparison\n",
      "  if arg in (\"+\", \"-\"):\n",
      "/Users/tlynn/Code/firedrake/firedrake/src/ufl/ufl/exproperators.py:323: FutureWarning: elementwise comparison failed; returning scalar instead, but in the future will perform elementwise comparison\n",
      "  if arg in (\"+\", \"-\"):\n"
     ]
    },
    {
     "name": "stdout",
     "output_type": "stream",
     "text": [
      "iteration 21 / 50\n"
     ]
    },
    {
     "name": "stderr",
     "output_type": "stream",
     "text": [
      "/Users/tlynn/Code/firedrake/firedrake/src/ufl/ufl/exproperators.py:323: FutureWarning: elementwise comparison failed; returning scalar instead, but in the future will perform elementwise comparison\n",
      "  if arg in (\"+\", \"-\"):\n",
      "/Users/tlynn/Code/firedrake/firedrake/src/ufl/ufl/exproperators.py:323: FutureWarning: elementwise comparison failed; returning scalar instead, but in the future will perform elementwise comparison\n",
      "  if arg in (\"+\", \"-\"):\n",
      "/Users/tlynn/Code/firedrake/firedrake/src/ufl/ufl/exproperators.py:323: FutureWarning: elementwise comparison failed; returning scalar instead, but in the future will perform elementwise comparison\n",
      "  if arg in (\"+\", \"-\"):\n",
      "/Users/tlynn/Code/firedrake/firedrake/src/ufl/ufl/exproperators.py:323: FutureWarning: elementwise comparison failed; returning scalar instead, but in the future will perform elementwise comparison\n",
      "  if arg in (\"+\", \"-\"):\n"
     ]
    },
    {
     "name": "stdout",
     "output_type": "stream",
     "text": [
      "iteration 22 / 50\n"
     ]
    },
    {
     "name": "stderr",
     "output_type": "stream",
     "text": [
      "/Users/tlynn/Code/firedrake/firedrake/src/ufl/ufl/exproperators.py:323: FutureWarning: elementwise comparison failed; returning scalar instead, but in the future will perform elementwise comparison\n",
      "  if arg in (\"+\", \"-\"):\n",
      "/Users/tlynn/Code/firedrake/firedrake/src/ufl/ufl/exproperators.py:323: FutureWarning: elementwise comparison failed; returning scalar instead, but in the future will perform elementwise comparison\n",
      "  if arg in (\"+\", \"-\"):\n",
      "/Users/tlynn/Code/firedrake/firedrake/src/ufl/ufl/exproperators.py:323: FutureWarning: elementwise comparison failed; returning scalar instead, but in the future will perform elementwise comparison\n",
      "  if arg in (\"+\", \"-\"):\n",
      "/Users/tlynn/Code/firedrake/firedrake/src/ufl/ufl/exproperators.py:323: FutureWarning: elementwise comparison failed; returning scalar instead, but in the future will perform elementwise comparison\n",
      "  if arg in (\"+\", \"-\"):\n"
     ]
    },
    {
     "name": "stdout",
     "output_type": "stream",
     "text": [
      "iteration 23 / 50\n"
     ]
    },
    {
     "name": "stderr",
     "output_type": "stream",
     "text": [
      "/Users/tlynn/Code/firedrake/firedrake/src/ufl/ufl/exproperators.py:323: FutureWarning: elementwise comparison failed; returning scalar instead, but in the future will perform elementwise comparison\n",
      "  if arg in (\"+\", \"-\"):\n",
      "/Users/tlynn/Code/firedrake/firedrake/src/ufl/ufl/exproperators.py:323: FutureWarning: elementwise comparison failed; returning scalar instead, but in the future will perform elementwise comparison\n",
      "  if arg in (\"+\", \"-\"):\n",
      "/Users/tlynn/Code/firedrake/firedrake/src/ufl/ufl/exproperators.py:323: FutureWarning: elementwise comparison failed; returning scalar instead, but in the future will perform elementwise comparison\n",
      "  if arg in (\"+\", \"-\"):\n",
      "/Users/tlynn/Code/firedrake/firedrake/src/ufl/ufl/exproperators.py:323: FutureWarning: elementwise comparison failed; returning scalar instead, but in the future will perform elementwise comparison\n",
      "  if arg in (\"+\", \"-\"):\n"
     ]
    },
    {
     "name": "stdout",
     "output_type": "stream",
     "text": [
      "iteration 24 / 50\n"
     ]
    },
    {
     "name": "stderr",
     "output_type": "stream",
     "text": [
      "/Users/tlynn/Code/firedrake/firedrake/src/ufl/ufl/exproperators.py:323: FutureWarning: elementwise comparison failed; returning scalar instead, but in the future will perform elementwise comparison\n",
      "  if arg in (\"+\", \"-\"):\n",
      "/Users/tlynn/Code/firedrake/firedrake/src/ufl/ufl/exproperators.py:323: FutureWarning: elementwise comparison failed; returning scalar instead, but in the future will perform elementwise comparison\n",
      "  if arg in (\"+\", \"-\"):\n",
      "/Users/tlynn/Code/firedrake/firedrake/src/ufl/ufl/exproperators.py:323: FutureWarning: elementwise comparison failed; returning scalar instead, but in the future will perform elementwise comparison\n",
      "  if arg in (\"+\", \"-\"):\n",
      "/Users/tlynn/Code/firedrake/firedrake/src/ufl/ufl/exproperators.py:323: FutureWarning: elementwise comparison failed; returning scalar instead, but in the future will perform elementwise comparison\n",
      "  if arg in (\"+\", \"-\"):\n"
     ]
    },
    {
     "name": "stdout",
     "output_type": "stream",
     "text": [
      "iteration 25 / 50\n"
     ]
    },
    {
     "name": "stderr",
     "output_type": "stream",
     "text": [
      "/Users/tlynn/Code/firedrake/firedrake/src/ufl/ufl/exproperators.py:323: FutureWarning: elementwise comparison failed; returning scalar instead, but in the future will perform elementwise comparison\n",
      "  if arg in (\"+\", \"-\"):\n",
      "/Users/tlynn/Code/firedrake/firedrake/src/ufl/ufl/exproperators.py:323: FutureWarning: elementwise comparison failed; returning scalar instead, but in the future will perform elementwise comparison\n",
      "  if arg in (\"+\", \"-\"):\n",
      "/Users/tlynn/Code/firedrake/firedrake/src/ufl/ufl/exproperators.py:323: FutureWarning: elementwise comparison failed; returning scalar instead, but in the future will perform elementwise comparison\n",
      "  if arg in (\"+\", \"-\"):\n",
      "/Users/tlynn/Code/firedrake/firedrake/src/ufl/ufl/exproperators.py:323: FutureWarning: elementwise comparison failed; returning scalar instead, but in the future will perform elementwise comparison\n",
      "  if arg in (\"+\", \"-\"):\n"
     ]
    },
    {
     "name": "stdout",
     "output_type": "stream",
     "text": [
      "iteration 26 / 50\n"
     ]
    },
    {
     "name": "stderr",
     "output_type": "stream",
     "text": [
      "/Users/tlynn/Code/firedrake/firedrake/src/ufl/ufl/exproperators.py:323: FutureWarning: elementwise comparison failed; returning scalar instead, but in the future will perform elementwise comparison\n",
      "  if arg in (\"+\", \"-\"):\n",
      "/Users/tlynn/Code/firedrake/firedrake/src/ufl/ufl/exproperators.py:323: FutureWarning: elementwise comparison failed; returning scalar instead, but in the future will perform elementwise comparison\n",
      "  if arg in (\"+\", \"-\"):\n",
      "/Users/tlynn/Code/firedrake/firedrake/src/ufl/ufl/exproperators.py:323: FutureWarning: elementwise comparison failed; returning scalar instead, but in the future will perform elementwise comparison\n",
      "  if arg in (\"+\", \"-\"):\n",
      "/Users/tlynn/Code/firedrake/firedrake/src/ufl/ufl/exproperators.py:323: FutureWarning: elementwise comparison failed; returning scalar instead, but in the future will perform elementwise comparison\n",
      "  if arg in (\"+\", \"-\"):\n"
     ]
    },
    {
     "name": "stdout",
     "output_type": "stream",
     "text": [
      "iteration 27 / 50\n"
     ]
    },
    {
     "name": "stderr",
     "output_type": "stream",
     "text": [
      "/Users/tlynn/Code/firedrake/firedrake/src/ufl/ufl/exproperators.py:323: FutureWarning: elementwise comparison failed; returning scalar instead, but in the future will perform elementwise comparison\n",
      "  if arg in (\"+\", \"-\"):\n",
      "/Users/tlynn/Code/firedrake/firedrake/src/ufl/ufl/exproperators.py:323: FutureWarning: elementwise comparison failed; returning scalar instead, but in the future will perform elementwise comparison\n",
      "  if arg in (\"+\", \"-\"):\n",
      "/Users/tlynn/Code/firedrake/firedrake/src/ufl/ufl/exproperators.py:323: FutureWarning: elementwise comparison failed; returning scalar instead, but in the future will perform elementwise comparison\n",
      "  if arg in (\"+\", \"-\"):\n",
      "/Users/tlynn/Code/firedrake/firedrake/src/ufl/ufl/exproperators.py:323: FutureWarning: elementwise comparison failed; returning scalar instead, but in the future will perform elementwise comparison\n",
      "  if arg in (\"+\", \"-\"):\n"
     ]
    },
    {
     "name": "stdout",
     "output_type": "stream",
     "text": [
      "iteration 28 / 50\n"
     ]
    },
    {
     "name": "stderr",
     "output_type": "stream",
     "text": [
      "/Users/tlynn/Code/firedrake/firedrake/src/ufl/ufl/exproperators.py:323: FutureWarning: elementwise comparison failed; returning scalar instead, but in the future will perform elementwise comparison\n",
      "  if arg in (\"+\", \"-\"):\n",
      "/Users/tlynn/Code/firedrake/firedrake/src/ufl/ufl/exproperators.py:323: FutureWarning: elementwise comparison failed; returning scalar instead, but in the future will perform elementwise comparison\n",
      "  if arg in (\"+\", \"-\"):\n",
      "/Users/tlynn/Code/firedrake/firedrake/src/ufl/ufl/exproperators.py:323: FutureWarning: elementwise comparison failed; returning scalar instead, but in the future will perform elementwise comparison\n",
      "  if arg in (\"+\", \"-\"):\n",
      "/Users/tlynn/Code/firedrake/firedrake/src/ufl/ufl/exproperators.py:323: FutureWarning: elementwise comparison failed; returning scalar instead, but in the future will perform elementwise comparison\n",
      "  if arg in (\"+\", \"-\"):\n"
     ]
    },
    {
     "name": "stdout",
     "output_type": "stream",
     "text": [
      "iteration 29 / 50\n"
     ]
    },
    {
     "name": "stderr",
     "output_type": "stream",
     "text": [
      "/Users/tlynn/Code/firedrake/firedrake/src/ufl/ufl/exproperators.py:323: FutureWarning: elementwise comparison failed; returning scalar instead, but in the future will perform elementwise comparison\n",
      "  if arg in (\"+\", \"-\"):\n",
      "/Users/tlynn/Code/firedrake/firedrake/src/ufl/ufl/exproperators.py:323: FutureWarning: elementwise comparison failed; returning scalar instead, but in the future will perform elementwise comparison\n",
      "  if arg in (\"+\", \"-\"):\n",
      "/Users/tlynn/Code/firedrake/firedrake/src/ufl/ufl/exproperators.py:323: FutureWarning: elementwise comparison failed; returning scalar instead, but in the future will perform elementwise comparison\n",
      "  if arg in (\"+\", \"-\"):\n",
      "/Users/tlynn/Code/firedrake/firedrake/src/ufl/ufl/exproperators.py:323: FutureWarning: elementwise comparison failed; returning scalar instead, but in the future will perform elementwise comparison\n",
      "  if arg in (\"+\", \"-\"):\n"
     ]
    },
    {
     "name": "stdout",
     "output_type": "stream",
     "text": [
      "iteration 30 / 50\n"
     ]
    },
    {
     "name": "stderr",
     "output_type": "stream",
     "text": [
      "/Users/tlynn/Code/firedrake/firedrake/src/ufl/ufl/exproperators.py:323: FutureWarning: elementwise comparison failed; returning scalar instead, but in the future will perform elementwise comparison\n",
      "  if arg in (\"+\", \"-\"):\n",
      "/Users/tlynn/Code/firedrake/firedrake/src/ufl/ufl/exproperators.py:323: FutureWarning: elementwise comparison failed; returning scalar instead, but in the future will perform elementwise comparison\n",
      "  if arg in (\"+\", \"-\"):\n",
      "/Users/tlynn/Code/firedrake/firedrake/src/ufl/ufl/exproperators.py:323: FutureWarning: elementwise comparison failed; returning scalar instead, but in the future will perform elementwise comparison\n",
      "  if arg in (\"+\", \"-\"):\n",
      "/Users/tlynn/Code/firedrake/firedrake/src/ufl/ufl/exproperators.py:323: FutureWarning: elementwise comparison failed; returning scalar instead, but in the future will perform elementwise comparison\n",
      "  if arg in (\"+\", \"-\"):\n"
     ]
    },
    {
     "name": "stdout",
     "output_type": "stream",
     "text": [
      "iteration 31 / 50\n"
     ]
    },
    {
     "name": "stderr",
     "output_type": "stream",
     "text": [
      "/Users/tlynn/Code/firedrake/firedrake/src/ufl/ufl/exproperators.py:323: FutureWarning: elementwise comparison failed; returning scalar instead, but in the future will perform elementwise comparison\n",
      "  if arg in (\"+\", \"-\"):\n",
      "/Users/tlynn/Code/firedrake/firedrake/src/ufl/ufl/exproperators.py:323: FutureWarning: elementwise comparison failed; returning scalar instead, but in the future will perform elementwise comparison\n",
      "  if arg in (\"+\", \"-\"):\n",
      "/Users/tlynn/Code/firedrake/firedrake/src/ufl/ufl/exproperators.py:323: FutureWarning: elementwise comparison failed; returning scalar instead, but in the future will perform elementwise comparison\n",
      "  if arg in (\"+\", \"-\"):\n",
      "/Users/tlynn/Code/firedrake/firedrake/src/ufl/ufl/exproperators.py:323: FutureWarning: elementwise comparison failed; returning scalar instead, but in the future will perform elementwise comparison\n",
      "  if arg in (\"+\", \"-\"):\n"
     ]
    },
    {
     "name": "stdout",
     "output_type": "stream",
     "text": [
      "iteration 32 / 50\n"
     ]
    },
    {
     "name": "stderr",
     "output_type": "stream",
     "text": [
      "/Users/tlynn/Code/firedrake/firedrake/src/ufl/ufl/exproperators.py:323: FutureWarning: elementwise comparison failed; returning scalar instead, but in the future will perform elementwise comparison\n",
      "  if arg in (\"+\", \"-\"):\n",
      "/Users/tlynn/Code/firedrake/firedrake/src/ufl/ufl/exproperators.py:323: FutureWarning: elementwise comparison failed; returning scalar instead, but in the future will perform elementwise comparison\n",
      "  if arg in (\"+\", \"-\"):\n",
      "/Users/tlynn/Code/firedrake/firedrake/src/ufl/ufl/exproperators.py:323: FutureWarning: elementwise comparison failed; returning scalar instead, but in the future will perform elementwise comparison\n",
      "  if arg in (\"+\", \"-\"):\n",
      "/Users/tlynn/Code/firedrake/firedrake/src/ufl/ufl/exproperators.py:323: FutureWarning: elementwise comparison failed; returning scalar instead, but in the future will perform elementwise comparison\n",
      "  if arg in (\"+\", \"-\"):\n"
     ]
    },
    {
     "name": "stdout",
     "output_type": "stream",
     "text": [
      "iteration 33 / 50\n"
     ]
    },
    {
     "name": "stderr",
     "output_type": "stream",
     "text": [
      "/Users/tlynn/Code/firedrake/firedrake/src/ufl/ufl/exproperators.py:323: FutureWarning: elementwise comparison failed; returning scalar instead, but in the future will perform elementwise comparison\n",
      "  if arg in (\"+\", \"-\"):\n",
      "/Users/tlynn/Code/firedrake/firedrake/src/ufl/ufl/exproperators.py:323: FutureWarning: elementwise comparison failed; returning scalar instead, but in the future will perform elementwise comparison\n",
      "  if arg in (\"+\", \"-\"):\n",
      "/Users/tlynn/Code/firedrake/firedrake/src/ufl/ufl/exproperators.py:323: FutureWarning: elementwise comparison failed; returning scalar instead, but in the future will perform elementwise comparison\n",
      "  if arg in (\"+\", \"-\"):\n",
      "/Users/tlynn/Code/firedrake/firedrake/src/ufl/ufl/exproperators.py:323: FutureWarning: elementwise comparison failed; returning scalar instead, but in the future will perform elementwise comparison\n",
      "  if arg in (\"+\", \"-\"):\n"
     ]
    },
    {
     "name": "stdout",
     "output_type": "stream",
     "text": [
      "iteration 34 / 50\n"
     ]
    },
    {
     "name": "stderr",
     "output_type": "stream",
     "text": [
      "/Users/tlynn/Code/firedrake/firedrake/src/ufl/ufl/exproperators.py:323: FutureWarning: elementwise comparison failed; returning scalar instead, but in the future will perform elementwise comparison\n",
      "  if arg in (\"+\", \"-\"):\n",
      "/Users/tlynn/Code/firedrake/firedrake/src/ufl/ufl/exproperators.py:323: FutureWarning: elementwise comparison failed; returning scalar instead, but in the future will perform elementwise comparison\n",
      "  if arg in (\"+\", \"-\"):\n",
      "/Users/tlynn/Code/firedrake/firedrake/src/ufl/ufl/exproperators.py:323: FutureWarning: elementwise comparison failed; returning scalar instead, but in the future will perform elementwise comparison\n",
      "  if arg in (\"+\", \"-\"):\n",
      "/Users/tlynn/Code/firedrake/firedrake/src/ufl/ufl/exproperators.py:323: FutureWarning: elementwise comparison failed; returning scalar instead, but in the future will perform elementwise comparison\n",
      "  if arg in (\"+\", \"-\"):\n"
     ]
    },
    {
     "name": "stdout",
     "output_type": "stream",
     "text": [
      "iteration 35 / 50\n"
     ]
    },
    {
     "name": "stderr",
     "output_type": "stream",
     "text": [
      "/Users/tlynn/Code/firedrake/firedrake/src/ufl/ufl/exproperators.py:323: FutureWarning: elementwise comparison failed; returning scalar instead, but in the future will perform elementwise comparison\n",
      "  if arg in (\"+\", \"-\"):\n",
      "/Users/tlynn/Code/firedrake/firedrake/src/ufl/ufl/exproperators.py:323: FutureWarning: elementwise comparison failed; returning scalar instead, but in the future will perform elementwise comparison\n",
      "  if arg in (\"+\", \"-\"):\n",
      "/Users/tlynn/Code/firedrake/firedrake/src/ufl/ufl/exproperators.py:323: FutureWarning: elementwise comparison failed; returning scalar instead, but in the future will perform elementwise comparison\n",
      "  if arg in (\"+\", \"-\"):\n",
      "/Users/tlynn/Code/firedrake/firedrake/src/ufl/ufl/exproperators.py:323: FutureWarning: elementwise comparison failed; returning scalar instead, but in the future will perform elementwise comparison\n",
      "  if arg in (\"+\", \"-\"):\n"
     ]
    },
    {
     "name": "stdout",
     "output_type": "stream",
     "text": [
      "iteration 36 / 50\n"
     ]
    },
    {
     "name": "stderr",
     "output_type": "stream",
     "text": [
      "/Users/tlynn/Code/firedrake/firedrake/src/ufl/ufl/exproperators.py:323: FutureWarning: elementwise comparison failed; returning scalar instead, but in the future will perform elementwise comparison\n",
      "  if arg in (\"+\", \"-\"):\n",
      "/Users/tlynn/Code/firedrake/firedrake/src/ufl/ufl/exproperators.py:323: FutureWarning: elementwise comparison failed; returning scalar instead, but in the future will perform elementwise comparison\n",
      "  if arg in (\"+\", \"-\"):\n",
      "/Users/tlynn/Code/firedrake/firedrake/src/ufl/ufl/exproperators.py:323: FutureWarning: elementwise comparison failed; returning scalar instead, but in the future will perform elementwise comparison\n",
      "  if arg in (\"+\", \"-\"):\n",
      "/Users/tlynn/Code/firedrake/firedrake/src/ufl/ufl/exproperators.py:323: FutureWarning: elementwise comparison failed; returning scalar instead, but in the future will perform elementwise comparison\n",
      "  if arg in (\"+\", \"-\"):\n"
     ]
    },
    {
     "name": "stdout",
     "output_type": "stream",
     "text": [
      "iteration 37 / 50\n"
     ]
    },
    {
     "name": "stderr",
     "output_type": "stream",
     "text": [
      "/Users/tlynn/Code/firedrake/firedrake/src/ufl/ufl/exproperators.py:323: FutureWarning: elementwise comparison failed; returning scalar instead, but in the future will perform elementwise comparison\n",
      "  if arg in (\"+\", \"-\"):\n",
      "/Users/tlynn/Code/firedrake/firedrake/src/ufl/ufl/exproperators.py:323: FutureWarning: elementwise comparison failed; returning scalar instead, but in the future will perform elementwise comparison\n",
      "  if arg in (\"+\", \"-\"):\n",
      "/Users/tlynn/Code/firedrake/firedrake/src/ufl/ufl/exproperators.py:323: FutureWarning: elementwise comparison failed; returning scalar instead, but in the future will perform elementwise comparison\n",
      "  if arg in (\"+\", \"-\"):\n",
      "/Users/tlynn/Code/firedrake/firedrake/src/ufl/ufl/exproperators.py:323: FutureWarning: elementwise comparison failed; returning scalar instead, but in the future will perform elementwise comparison\n",
      "  if arg in (\"+\", \"-\"):\n"
     ]
    },
    {
     "name": "stdout",
     "output_type": "stream",
     "text": [
      "iteration 38 / 50\n"
     ]
    },
    {
     "name": "stderr",
     "output_type": "stream",
     "text": [
      "/Users/tlynn/Code/firedrake/firedrake/src/ufl/ufl/exproperators.py:323: FutureWarning: elementwise comparison failed; returning scalar instead, but in the future will perform elementwise comparison\n",
      "  if arg in (\"+\", \"-\"):\n",
      "/Users/tlynn/Code/firedrake/firedrake/src/ufl/ufl/exproperators.py:323: FutureWarning: elementwise comparison failed; returning scalar instead, but in the future will perform elementwise comparison\n",
      "  if arg in (\"+\", \"-\"):\n",
      "/Users/tlynn/Code/firedrake/firedrake/src/ufl/ufl/exproperators.py:323: FutureWarning: elementwise comparison failed; returning scalar instead, but in the future will perform elementwise comparison\n",
      "  if arg in (\"+\", \"-\"):\n",
      "/Users/tlynn/Code/firedrake/firedrake/src/ufl/ufl/exproperators.py:323: FutureWarning: elementwise comparison failed; returning scalar instead, but in the future will perform elementwise comparison\n",
      "  if arg in (\"+\", \"-\"):\n"
     ]
    },
    {
     "name": "stdout",
     "output_type": "stream",
     "text": [
      "iteration 39 / 50\n"
     ]
    },
    {
     "name": "stderr",
     "output_type": "stream",
     "text": [
      "/Users/tlynn/Code/firedrake/firedrake/src/ufl/ufl/exproperators.py:323: FutureWarning: elementwise comparison failed; returning scalar instead, but in the future will perform elementwise comparison\n",
      "  if arg in (\"+\", \"-\"):\n",
      "/Users/tlynn/Code/firedrake/firedrake/src/ufl/ufl/exproperators.py:323: FutureWarning: elementwise comparison failed; returning scalar instead, but in the future will perform elementwise comparison\n",
      "  if arg in (\"+\", \"-\"):\n",
      "/Users/tlynn/Code/firedrake/firedrake/src/ufl/ufl/exproperators.py:323: FutureWarning: elementwise comparison failed; returning scalar instead, but in the future will perform elementwise comparison\n",
      "  if arg in (\"+\", \"-\"):\n",
      "/Users/tlynn/Code/firedrake/firedrake/src/ufl/ufl/exproperators.py:323: FutureWarning: elementwise comparison failed; returning scalar instead, but in the future will perform elementwise comparison\n",
      "  if arg in (\"+\", \"-\"):\n"
     ]
    },
    {
     "name": "stdout",
     "output_type": "stream",
     "text": [
      "iteration 40 / 50\n"
     ]
    },
    {
     "name": "stderr",
     "output_type": "stream",
     "text": [
      "/Users/tlynn/Code/firedrake/firedrake/src/ufl/ufl/exproperators.py:323: FutureWarning: elementwise comparison failed; returning scalar instead, but in the future will perform elementwise comparison\n",
      "  if arg in (\"+\", \"-\"):\n",
      "/Users/tlynn/Code/firedrake/firedrake/src/ufl/ufl/exproperators.py:323: FutureWarning: elementwise comparison failed; returning scalar instead, but in the future will perform elementwise comparison\n",
      "  if arg in (\"+\", \"-\"):\n",
      "/Users/tlynn/Code/firedrake/firedrake/src/ufl/ufl/exproperators.py:323: FutureWarning: elementwise comparison failed; returning scalar instead, but in the future will perform elementwise comparison\n",
      "  if arg in (\"+\", \"-\"):\n",
      "/Users/tlynn/Code/firedrake/firedrake/src/ufl/ufl/exproperators.py:323: FutureWarning: elementwise comparison failed; returning scalar instead, but in the future will perform elementwise comparison\n",
      "  if arg in (\"+\", \"-\"):\n"
     ]
    },
    {
     "name": "stdout",
     "output_type": "stream",
     "text": [
      "iteration 41 / 50\n"
     ]
    },
    {
     "name": "stderr",
     "output_type": "stream",
     "text": [
      "/Users/tlynn/Code/firedrake/firedrake/src/ufl/ufl/exproperators.py:323: FutureWarning: elementwise comparison failed; returning scalar instead, but in the future will perform elementwise comparison\n",
      "  if arg in (\"+\", \"-\"):\n",
      "/Users/tlynn/Code/firedrake/firedrake/src/ufl/ufl/exproperators.py:323: FutureWarning: elementwise comparison failed; returning scalar instead, but in the future will perform elementwise comparison\n",
      "  if arg in (\"+\", \"-\"):\n",
      "/Users/tlynn/Code/firedrake/firedrake/src/ufl/ufl/exproperators.py:323: FutureWarning: elementwise comparison failed; returning scalar instead, but in the future will perform elementwise comparison\n",
      "  if arg in (\"+\", \"-\"):\n",
      "/Users/tlynn/Code/firedrake/firedrake/src/ufl/ufl/exproperators.py:323: FutureWarning: elementwise comparison failed; returning scalar instead, but in the future will perform elementwise comparison\n",
      "  if arg in (\"+\", \"-\"):\n"
     ]
    },
    {
     "name": "stdout",
     "output_type": "stream",
     "text": [
      "iteration 42 / 50\n"
     ]
    },
    {
     "name": "stderr",
     "output_type": "stream",
     "text": [
      "/Users/tlynn/Code/firedrake/firedrake/src/ufl/ufl/exproperators.py:323: FutureWarning: elementwise comparison failed; returning scalar instead, but in the future will perform elementwise comparison\n",
      "  if arg in (\"+\", \"-\"):\n",
      "/Users/tlynn/Code/firedrake/firedrake/src/ufl/ufl/exproperators.py:323: FutureWarning: elementwise comparison failed; returning scalar instead, but in the future will perform elementwise comparison\n",
      "  if arg in (\"+\", \"-\"):\n",
      "/Users/tlynn/Code/firedrake/firedrake/src/ufl/ufl/exproperators.py:323: FutureWarning: elementwise comparison failed; returning scalar instead, but in the future will perform elementwise comparison\n",
      "  if arg in (\"+\", \"-\"):\n",
      "/Users/tlynn/Code/firedrake/firedrake/src/ufl/ufl/exproperators.py:323: FutureWarning: elementwise comparison failed; returning scalar instead, but in the future will perform elementwise comparison\n",
      "  if arg in (\"+\", \"-\"):\n"
     ]
    },
    {
     "name": "stdout",
     "output_type": "stream",
     "text": [
      "iteration 43 / 50\n"
     ]
    },
    {
     "name": "stderr",
     "output_type": "stream",
     "text": [
      "/Users/tlynn/Code/firedrake/firedrake/src/ufl/ufl/exproperators.py:323: FutureWarning: elementwise comparison failed; returning scalar instead, but in the future will perform elementwise comparison\n",
      "  if arg in (\"+\", \"-\"):\n",
      "/Users/tlynn/Code/firedrake/firedrake/src/ufl/ufl/exproperators.py:323: FutureWarning: elementwise comparison failed; returning scalar instead, but in the future will perform elementwise comparison\n",
      "  if arg in (\"+\", \"-\"):\n",
      "/Users/tlynn/Code/firedrake/firedrake/src/ufl/ufl/exproperators.py:323: FutureWarning: elementwise comparison failed; returning scalar instead, but in the future will perform elementwise comparison\n",
      "  if arg in (\"+\", \"-\"):\n",
      "/Users/tlynn/Code/firedrake/firedrake/src/ufl/ufl/exproperators.py:323: FutureWarning: elementwise comparison failed; returning scalar instead, but in the future will perform elementwise comparison\n",
      "  if arg in (\"+\", \"-\"):\n"
     ]
    },
    {
     "name": "stdout",
     "output_type": "stream",
     "text": [
      "iteration 44 / 50\n"
     ]
    },
    {
     "name": "stderr",
     "output_type": "stream",
     "text": [
      "/Users/tlynn/Code/firedrake/firedrake/src/ufl/ufl/exproperators.py:323: FutureWarning: elementwise comparison failed; returning scalar instead, but in the future will perform elementwise comparison\n",
      "  if arg in (\"+\", \"-\"):\n",
      "/Users/tlynn/Code/firedrake/firedrake/src/ufl/ufl/exproperators.py:323: FutureWarning: elementwise comparison failed; returning scalar instead, but in the future will perform elementwise comparison\n",
      "  if arg in (\"+\", \"-\"):\n",
      "/Users/tlynn/Code/firedrake/firedrake/src/ufl/ufl/exproperators.py:323: FutureWarning: elementwise comparison failed; returning scalar instead, but in the future will perform elementwise comparison\n",
      "  if arg in (\"+\", \"-\"):\n",
      "/Users/tlynn/Code/firedrake/firedrake/src/ufl/ufl/exproperators.py:323: FutureWarning: elementwise comparison failed; returning scalar instead, but in the future will perform elementwise comparison\n",
      "  if arg in (\"+\", \"-\"):\n"
     ]
    },
    {
     "name": "stdout",
     "output_type": "stream",
     "text": [
      "iteration 45 / 50\n"
     ]
    },
    {
     "name": "stderr",
     "output_type": "stream",
     "text": [
      "/Users/tlynn/Code/firedrake/firedrake/src/ufl/ufl/exproperators.py:323: FutureWarning: elementwise comparison failed; returning scalar instead, but in the future will perform elementwise comparison\n",
      "  if arg in (\"+\", \"-\"):\n",
      "/Users/tlynn/Code/firedrake/firedrake/src/ufl/ufl/exproperators.py:323: FutureWarning: elementwise comparison failed; returning scalar instead, but in the future will perform elementwise comparison\n",
      "  if arg in (\"+\", \"-\"):\n",
      "/Users/tlynn/Code/firedrake/firedrake/src/ufl/ufl/exproperators.py:323: FutureWarning: elementwise comparison failed; returning scalar instead, but in the future will perform elementwise comparison\n",
      "  if arg in (\"+\", \"-\"):\n",
      "/Users/tlynn/Code/firedrake/firedrake/src/ufl/ufl/exproperators.py:323: FutureWarning: elementwise comparison failed; returning scalar instead, but in the future will perform elementwise comparison\n",
      "  if arg in (\"+\", \"-\"):\n"
     ]
    },
    {
     "name": "stdout",
     "output_type": "stream",
     "text": [
      "iteration 46 / 50\n"
     ]
    },
    {
     "name": "stderr",
     "output_type": "stream",
     "text": [
      "/Users/tlynn/Code/firedrake/firedrake/src/ufl/ufl/exproperators.py:323: FutureWarning: elementwise comparison failed; returning scalar instead, but in the future will perform elementwise comparison\n",
      "  if arg in (\"+\", \"-\"):\n",
      "/Users/tlynn/Code/firedrake/firedrake/src/ufl/ufl/exproperators.py:323: FutureWarning: elementwise comparison failed; returning scalar instead, but in the future will perform elementwise comparison\n",
      "  if arg in (\"+\", \"-\"):\n",
      "/Users/tlynn/Code/firedrake/firedrake/src/ufl/ufl/exproperators.py:323: FutureWarning: elementwise comparison failed; returning scalar instead, but in the future will perform elementwise comparison\n",
      "  if arg in (\"+\", \"-\"):\n",
      "/Users/tlynn/Code/firedrake/firedrake/src/ufl/ufl/exproperators.py:323: FutureWarning: elementwise comparison failed; returning scalar instead, but in the future will perform elementwise comparison\n",
      "  if arg in (\"+\", \"-\"):\n"
     ]
    },
    {
     "name": "stdout",
     "output_type": "stream",
     "text": [
      "iteration 47 / 50\n"
     ]
    },
    {
     "name": "stderr",
     "output_type": "stream",
     "text": [
      "/Users/tlynn/Code/firedrake/firedrake/src/ufl/ufl/exproperators.py:323: FutureWarning: elementwise comparison failed; returning scalar instead, but in the future will perform elementwise comparison\n",
      "  if arg in (\"+\", \"-\"):\n",
      "/Users/tlynn/Code/firedrake/firedrake/src/ufl/ufl/exproperators.py:323: FutureWarning: elementwise comparison failed; returning scalar instead, but in the future will perform elementwise comparison\n",
      "  if arg in (\"+\", \"-\"):\n",
      "/Users/tlynn/Code/firedrake/firedrake/src/ufl/ufl/exproperators.py:323: FutureWarning: elementwise comparison failed; returning scalar instead, but in the future will perform elementwise comparison\n",
      "  if arg in (\"+\", \"-\"):\n",
      "/Users/tlynn/Code/firedrake/firedrake/src/ufl/ufl/exproperators.py:323: FutureWarning: elementwise comparison failed; returning scalar instead, but in the future will perform elementwise comparison\n",
      "  if arg in (\"+\", \"-\"):\n"
     ]
    },
    {
     "name": "stdout",
     "output_type": "stream",
     "text": [
      "iteration 48 / 50\n"
     ]
    },
    {
     "name": "stderr",
     "output_type": "stream",
     "text": [
      "/Users/tlynn/Code/firedrake/firedrake/src/ufl/ufl/exproperators.py:323: FutureWarning: elementwise comparison failed; returning scalar instead, but in the future will perform elementwise comparison\n",
      "  if arg in (\"+\", \"-\"):\n",
      "/Users/tlynn/Code/firedrake/firedrake/src/ufl/ufl/exproperators.py:323: FutureWarning: elementwise comparison failed; returning scalar instead, but in the future will perform elementwise comparison\n",
      "  if arg in (\"+\", \"-\"):\n",
      "/Users/tlynn/Code/firedrake/firedrake/src/ufl/ufl/exproperators.py:323: FutureWarning: elementwise comparison failed; returning scalar instead, but in the future will perform elementwise comparison\n",
      "  if arg in (\"+\", \"-\"):\n",
      "/Users/tlynn/Code/firedrake/firedrake/src/ufl/ufl/exproperators.py:323: FutureWarning: elementwise comparison failed; returning scalar instead, but in the future will perform elementwise comparison\n",
      "  if arg in (\"+\", \"-\"):\n"
     ]
    },
    {
     "name": "stdout",
     "output_type": "stream",
     "text": [
      "iteration 49 / 50\n"
     ]
    },
    {
     "name": "stderr",
     "output_type": "stream",
     "text": [
      "/Users/tlynn/Code/firedrake/firedrake/src/ufl/ufl/exproperators.py:323: FutureWarning: elementwise comparison failed; returning scalar instead, but in the future will perform elementwise comparison\n",
      "  if arg in (\"+\", \"-\"):\n",
      "/Users/tlynn/Code/firedrake/firedrake/src/ufl/ufl/exproperators.py:323: FutureWarning: elementwise comparison failed; returning scalar instead, but in the future will perform elementwise comparison\n",
      "  if arg in (\"+\", \"-\"):\n",
      "/Users/tlynn/Code/firedrake/firedrake/src/ufl/ufl/exproperators.py:323: FutureWarning: elementwise comparison failed; returning scalar instead, but in the future will perform elementwise comparison\n",
      "  if arg in (\"+\", \"-\"):\n",
      "/Users/tlynn/Code/firedrake/firedrake/src/ufl/ufl/exproperators.py:323: FutureWarning: elementwise comparison failed; returning scalar instead, but in the future will perform elementwise comparison\n",
      "  if arg in (\"+\", \"-\"):\n"
     ]
    },
    {
     "name": "stdout",
     "output_type": "stream",
     "text": [
      "iteration 50 / 50\n"
     ]
    },
    {
     "name": "stderr",
     "output_type": "stream",
     "text": [
      "/Users/tlynn/Code/firedrake/firedrake/src/ufl/ufl/exproperators.py:323: FutureWarning: elementwise comparison failed; returning scalar instead, but in the future will perform elementwise comparison\n",
      "  if arg in (\"+\", \"-\"):\n",
      "/Users/tlynn/Code/firedrake/firedrake/src/ufl/ufl/exproperators.py:323: FutureWarning: elementwise comparison failed; returning scalar instead, but in the future will perform elementwise comparison\n",
      "  if arg in (\"+\", \"-\"):\n",
      "/Users/tlynn/Code/firedrake/firedrake/src/ufl/ufl/exproperators.py:323: FutureWarning: elementwise comparison failed; returning scalar instead, but in the future will perform elementwise comparison\n",
      "  if arg in (\"+\", \"-\"):\n",
      "/Users/tlynn/Code/firedrake/firedrake/src/ufl/ufl/exproperators.py:323: FutureWarning: elementwise comparison failed; returning scalar instead, but in the future will perform elementwise comparison\n",
      "  if arg in (\"+\", \"-\"):\n"
     ]
    }
   ],
   "source": [
    "radius_min = la.norm(np.array([0.75, 0.55])/2 - np.array([0.5, 0.4]))\n",
    "radius_max = la.norm(np.array([0, 0.55])/2)\n",
    "\n",
    "# radius = (radius_min + radius_max)/2\n",
    "radius = 0.2\n",
    "round_trip_time_min = 1\n",
    "round_trip_time_max = 8\n",
    "\n",
    "speed_min = (2 * np.pi * radius) / round_trip_time_max\n",
    "speed_max = (2 * np.pi * radius) / round_trip_time_min\n",
    "\n",
    "search_grid = np.linspace(speed_min, speed_max, n_search)\n",
    "util_steadystate = np.zeros((n_search, 3))\n",
    "util_transient = np.zeros((n_search, 3))\n",
    "\n",
    "for i in range(n_search):\n",
    "    print(\"iteration {} / {}\".format(i+1, n_search))\n",
    "    \n",
    "    flying_parameters = {\n",
    "                \"radius\" : radius,\n",
    "                \"center\" : np.array([0.75/2, 0.55/2]),\n",
    "                \"speed\" : search_grid[i]\n",
    "            }\n",
    "\n",
    "    drone.set_default_flying_parameters(flying_parameters)\n",
    "    \n",
    "    post_steadystate = brain.compute_posterior()\n",
    "    post_transient = brain_transient.compute_posterior()\n",
    "    \n",
    "    util_steadystate[i, 0] = brain.eval_utility(post_steadystate, oed_mode=\"A\")\n",
    "    util_steadystate[i, 1] = brain.eval_utility(post_steadystate, oed_mode=\"D\")\n",
    "    util_steadystate[i, 2] = brain.eval_utility(post_steadystate, oed_mode=\"E\")\n",
    "    \n",
    "    util_transient[i, 0] = brain.eval_utility(post_transient, oed_mode=\"A\")\n",
    "    util_transient[i, 1] = brain.eval_utility(post_transient, oed_mode=\"D\")\n",
    "    util_transient[i, 2] = brain.eval_utility(post_transient, oed_mode=\"E\")"
   ]
  },
  {
   "cell_type": "code",
   "execution_count": 12,
   "id": "8d07a3f7",
   "metadata": {},
   "outputs": [
    {
     "name": "stdout",
     "output_type": "stream",
     "text": [
      "Optimal speed:\n",
      "A-OED, steady-state: 0.5609986881410345\n",
      "A-OED, transient:    0.5609986881410345\n",
      "D-OED, steady-state: 0.5609986881410345\n",
      "D-OED, transient:    0.5609986881410345\n",
      "E-OED, steady-state: 1.2566370614359172\n",
      "E-OED, transient:    1.2566370614359172\n"
     ]
    },
    {
     "data": {
      "image/png": "[encoded data removed]",
      "text/plain": [
       "<Figure size 1000x1000 with 6 Axes>"
      ]
     },
     "metadata": {},
     "output_type": "display_data"
    }
   ],
   "source": [
    "util_names = [\"A\", \"D\", \"E\"]\n",
    "fig, axs = plt.subplots(3, 2, sharex = True, figsize = (10, 10))\n",
    "\n",
    "for i in range(3):\n",
    "    axs[i, 0].semilogy(search_grid, util_steadystate[:, i], label=\"steady-state, {}-OED\".format(util_names[i]))\n",
    "    axs[i, 1].plot(search_grid, util_transient[:, i], label=\"transient, {}-OED\".format(util_names[i]))\n",
    "    \n",
    "    axs[i, 0].legend()\n",
    "    axs[i, 0].set_title(\"{}-OED utility function value, steady-state\".format(util_names[i]))\n",
    "    \n",
    "    axs[i, 1].legend()\n",
    "    axs[i, 1].set_title(\"{}-OED utility function value, transient\".format(util_names[i]))\n",
    "    \n",
    "axs[-1, 0].set_xlabel(\"speed\")\n",
    "axs[-1, 1].set_xlabel(\"speed\")\n",
    "\n",
    "print(\"Optimal speed:\")\n",
    "print(\"A-OED, steady-state:\", search_grid[np.argmin(util_steadystate[:, 0])])\n",
    "print(\"A-OED, transient:   \", search_grid[np.argmin(util_transient[:, 0])])\n",
    "\n",
    "print(\"D-OED, steady-state:\", search_grid[np.argmin(util_steadystate[:, 1])])\n",
    "print(\"D-OED, transient:   \", search_grid[np.argmin(util_transient[:, 1])])\n",
    "\n",
    "print(\"E-OED, steady-state:\", search_grid[np.argmin(util_steadystate[:, 2])])\n",
    "print(\"E-OED, transient:   \", search_grid[np.argmin(util_transient[:, 2])])"
   ]
  },
  {
   "cell_type": "code",
   "execution_count": 13,
   "id": "8d6c4537",
   "metadata": {},
   "outputs": [
    {
     "data": {
      "text/plain": [
       "0.15707963267948966"
      ]
     },
     "execution_count": 13,
     "metadata": {},
     "output_type": "execute_result"
    }
   ],
   "source": [
    "speed_min"
   ]
  },
  {
   "cell_type": "code",
   "execution_count": 16,
   "id": "33c61e92",
   "metadata": {},
   "outputs": [
    {
     "data": {
      "text/plain": [
       "1.2566370614359172"
      ]
     },
     "execution_count": 16,
     "metadata": {},
     "output_type": "execute_result"
    }
   ],
   "source": [
    "speed_max"
   ]
  },
  {
   "cell_type": "code",
   "execution_count": 15,
   "id": "b474a4fe",
   "metadata": {},
   "outputs": [
    {
     "data": {
      "text/plain": [
       "0.2"
      ]
     },
     "execution_count": 15,
     "metadata": {},
     "output_type": "execute_result"
    }
   ],
   "source": [
    "radius"
   ]
  },
  {
   "cell_type": "code",
   "execution_count": null,
   "id": "431843bd",
   "metadata": {},
   "outputs": [],
   "source": []
  }
 ],
 "metadata": {
  "kernelspec": {
   "display_name": "Python 3 (ipykernel)",
   "language": "python",
   "name": "python3"
  },
  "language_info": {
   "codemirror_mode": {
    "name": "ipython",
    "version": 3
   },
   "file_extension": ".py",
   "mimetype": "text/x-python",
   "name": "python",
   "nbconvert_exporter": "python",
   "pygments_lexer": "ipython3",
   "version": "3.11.5"
  }
 },
 "nbformat": 4,
 "nbformat_minor": 5
}
