{
 "cells": [
  {
   "cell_type": "markdown",
   "id": "784473a2",
   "metadata": {},
   "source": [
    "# first tests for optimization"
   ]
  },
  {
   "cell_type": "code",
   "execution_count": 1,
   "id": "24e1c3ef",
   "metadata": {},
   "outputs": [],
   "source": [
    "import sys\n",
    "sys.path.insert(0, \"../source/\")\n",
    "\n",
    "from FOM_advectiondiffusion import FOM_advectiondiffusion\n",
    "from FOM_advectiondiffusion_steadystate import FOM_advectiondiffusion_steadystate\n",
    "from Drone import Drone\n",
    "from Parameter import Parameter\n",
    "from Brain import Brain\n",
    "from NoiseModel import NoiseModel\n",
    "from Prior import Prior\n",
    "\n",
    "import dolfin as dl\n",
    "import matplotlib.pyplot as plt\n",
    "import numpy as np\n",
    "import time\n",
    "import scipy.linalg as la\n",
    "import scipy.sparse as sparse\n",
    "import scipy.sparse.linalg as sla\n",
    "import math\n",
    "import scipy.stats as stats"
   ]
  },
  {
   "cell_type": "code",
   "execution_count": 2,
   "id": "faeac253",
   "metadata": {},
   "outputs": [],
   "source": [
    "tStart_notebook = time.time()"
   ]
  },
  {
   "cell_type": "markdown",
   "id": "e2f6d5c6",
   "metadata": {},
   "source": [
    "## User settings"
   ]
  },
  {
   "cell_type": "code",
   "execution_count": 3,
   "id": "3afe5534",
   "metadata": {},
   "outputs": [],
   "source": [
    "meshDim = 50 \n",
    "# meshDim=50 is probably too coarse but for writing the code it should suffice, I'm impatient\n",
    "\n",
    "n_para = 2\n",
    "n_search = 50\n",
    "\n",
    "eval_mode = \"point-eval\" # because it's faster for testing code\n",
    "dt = 0.001"
   ]
  },
  {
   "cell_type": "markdown",
   "id": "9dc6efa0",
   "metadata": {},
   "source": [
    "## Setup"
   ]
  },
  {
   "cell_type": "code",
   "execution_count": 4,
   "id": "9ff49416",
   "metadata": {},
   "outputs": [],
   "source": [
    "fom = FOM_advectiondiffusion_steadystate(meshDim=meshDim)\n",
    "fom_transient = FOM_advectiondiffusion(meshDim=meshDim, dt=dt, final_time=1)"
   ]
  },
  {
   "cell_type": "code",
   "execution_count": 7,
   "id": "6a0e5cf3",
   "metadata": {},
   "outputs": [],
   "source": [
    "para_true = np.ones((n_para,))\n",
    "m = fom.assemble_forcing(para=para_true)\n",
    "sol_transient, grid_t = fom.implicit_Euler(m_init=m, dt=dt, final_time=1)\n",
    "sol_steadystate = fom.solve_steady(forcing=m)"
   ]
  },
  {
   "cell_type": "code",
   "execution_count": 8,
   "id": "08eec0b9",
   "metadata": {},
   "outputs": [],
   "source": [
    "# set default flying parameters\n",
    "flying_parameters = {\n",
    "                \"radius\" : 0.25,\n",
    "                \"center\" : np.array([0.75/2, 0.55/2]),\n",
    "                \"speed\" : 0.2 # 0.3\n",
    "            }\n",
    "\n",
    "drone = Drone(fom, grid_t=grid_t, flying_parameters=flying_parameters, eval_mode=eval_mode)\n",
    "pos, __ = drone.get_trajectory(grid_t=grid_t, flying_parameters=flying_parameters)"
   ]
  },
  {
   "cell_type": "code",
   "execution_count": 9,
   "id": "e97ac93e",
   "metadata": {},
   "outputs": [],
   "source": [
    "prior = Prior(covar = np.eye(n_para), mean = np.zeros((n_para,)))\n",
    "\n",
    "noise_model = NoiseModel(grid_t=grid_t, c_scaling=1e+3, c_diffusion = 0.01)\n",
    "#noise_model_transient = NoiseModel(grid_t=grid_t, c_scaling=1e+1, c_diffusion = 0.01)\n",
    "\n",
    "brain = Brain(fom=fom, drone=drone, prior=prior, noise_model=noise_model)\n",
    "#brain_transient = Brain(fom=fom_transient, drone=drone, prior=prior, noise_model=noise_model_transient)"
   ]
  },
  {
   "cell_type": "code",
   "execution_count": 10,
   "id": "1570c65f",
   "metadata": {},
   "outputs": [
    {
     "name": "stdout",
     "output_type": "stream",
     "text": [
      "just for testing:\n",
      "steady-state mean:  None\n",
      "steady-state:\n",
      "A-OED: 1.802240650456557\n",
      "D-OED: 0.8024027387454148\n",
      "E-OED: 0.9991769506755356 \n",
      "\n"
     ]
    }
   ],
   "source": [
    "print(\"just for testing:\")\n",
    "\n",
    "post_steadystate = brain.compute_posterior()\n",
    "print(\"steady-state mean: \", post_steadystate.mean)\n",
    "\n",
    "# post_transient = brain_transient.compute_posterior()\n",
    "# print(\"transient mean:    \", post_transient.mean)\n",
    "\n",
    "print(\"steady-state:\")\n",
    "print(\"A-OED:\", brain.eval_utility(post_steadystate, oed_mode=\"A\"))\n",
    "print(\"D-OED:\", brain.eval_utility(post_steadystate, oed_mode=\"D\"))\n",
    "print(\"E-OED:\", brain.eval_utility(post_steadystate, oed_mode=\"E\"), \"\\n\")\n",
    "\n",
    "# print(\"transient:\")\n",
    "# print(\"A-OED:\", brain.eval_utility(post_transient, oed_mode=\"A\"))\n",
    "# print(\"D-OED:\", brain.eval_utility(post_transient, oed_mode=\"D\"))\n",
    "# print(\"E-OED:\", brain.eval_utility(post_transient, oed_mode=\"E\"), \"\\n\")"
   ]
  },
  {
   "cell_type": "markdown",
   "id": "d9e3e372",
   "metadata": {},
   "source": [
    "## grid search"
   ]
  },
  {
   "cell_type": "markdown",
   "id": "5fc34e31",
   "metadata": {},
   "source": [
    "### radius"
   ]
  },
  {
   "cell_type": "code",
   "execution_count": null,
   "id": "95ea177d",
   "metadata": {},
   "outputs": [],
   "source": [
    "radius_min = la.norm(np.array([0.75, 0.55])/2 - np.array([0.5, 0.4]))\n",
    "radius_max = la.norm(np.array([0, 0.55])/2)\n",
    "\n",
    "search_grid = np.linspace(radius_min, radius_max, n_search)\n",
    "util_steadystate = np.zeros((n_search, 3))\n",
    "util_transient = np.zeros((n_search, 3))\n",
    "\n",
    "for i in range(n_search):\n",
    "    print(\"iteration {} / {}\".format(i+1, n_search))\n",
    "    \n",
    "    flying_parameters = {\n",
    "                \"radius\" : search_grid[i],\n",
    "                \"center\" : np.array([0.75/2, 0.55/2]),\n",
    "                \"speed\" : 0.2 # 0.3\n",
    "            }\n",
    "\n",
    "    drone.set_default_flying_parameters(flying_parameters)\n",
    "    \n",
    "    post_steadystate = brain.compute_posterior()\n",
    "    post_transient = brain_transient.compute_posterior()\n",
    "    \n",
    "    util_steadystate[i, 0] = brain.eval_utility(post_steadystate, oed_mode=\"A\")\n",
    "    util_steadystate[i, 1] = brain.eval_utility(post_steadystate, oed_mode=\"D\")\n",
    "    util_steadystate[i, 2] = brain.eval_utility(post_steadystate, oed_mode=\"E\")\n",
    "    \n",
    "    util_transient[i, 0] = brain.eval_utility(post_transient, oed_mode=\"A\")\n",
    "    util_transient[i, 1] = brain.eval_utility(post_transient, oed_mode=\"D\")\n",
    "    util_transient[i, 2] = brain.eval_utility(post_transient, oed_mode=\"E\")"
   ]
  },
  {
   "cell_type": "code",
   "execution_count": null,
   "id": "0351cb3f",
   "metadata": {},
   "outputs": [],
   "source": [
    "util_names = [\"A\", \"D\", \"E\"]\n",
    "fig, axs = plt.subplots(3, 2, sharex = True, figsize = (10, 10))\n",
    "\n",
    "for i in range(3):\n",
    "    axs[i, 0].semilogy(search_grid, util_steadystate[:, i], label=\"steady-state, {}-OED\".format(util_names[i]))\n",
    "    axs[i, 1].plot(search_grid, util_transient[:, i], label=\"transient, {}-OED\".format(util_names[i]))\n",
    "    \n",
    "    axs[i, 0].legend()\n",
    "    axs[i, 0].set_title(\"{}-OED utility function value, steady-state\".format(util_names[i]))\n",
    "    \n",
    "    axs[i, 1].legend()\n",
    "    axs[i, 1].set_title(\"{}-OED utility function value, transient\".format(util_names[i]))\n",
    "    \n",
    "axs[-1, 0].set_xlabel(\"radius\")\n",
    "axs[-1, 1].set_xlabel(\"radius\")\n",
    "\n",
    "print(\"Optimal radius:\")\n",
    "print(\"A-OED, steady-state:\", search_grid[np.argmin(util_steadystate[:, 0])])\n",
    "print(\"A-OED, transient:   \", search_grid[np.argmin(util_transient[:, 0])])\n",
    "\n",
    "print(\"D-OED, steady-state:\", search_grid[np.argmin(util_steadystate[:, 1])])\n",
    "print(\"D-OED, transient:   \", search_grid[np.argmin(util_transient[:, 1])])\n",
    "\n",
    "print(\"E-OED, steady-state:\", search_grid[np.argmin(util_steadystate[:, 2])])\n",
    "print(\"E-OED, transient:   \", search_grid[np.argmin(util_transient[:, 2])])"
   ]
  },
  {
   "cell_type": "markdown",
   "id": "36ccd3a0",
   "metadata": {},
   "source": [
    "### speed"
   ]
  },
  {
   "cell_type": "code",
   "execution_count": 15,
   "id": "cd2c2608",
   "metadata": {},
   "outputs": [
    {
     "name": "stdout",
     "output_type": "stream",
     "text": [
      "iteration 1 / 50\n",
      "iteration 2 / 50\n",
      "iteration 3 / 50\n",
      "iteration 4 / 50\n",
      "iteration 5 / 50\n",
      "iteration 6 / 50\n",
      "iteration 7 / 50\n",
      "iteration 8 / 50\n",
      "iteration 9 / 50\n",
      "iteration 10 / 50\n",
      "iteration 11 / 50\n",
      "iteration 12 / 50\n",
      "iteration 13 / 50\n",
      "iteration 14 / 50\n",
      "iteration 15 / 50\n",
      "iteration 16 / 50\n",
      "iteration 17 / 50\n",
      "iteration 18 / 50\n",
      "iteration 19 / 50\n",
      "iteration 20 / 50\n",
      "iteration 21 / 50\n",
      "iteration 22 / 50\n",
      "iteration 23 / 50\n",
      "iteration 24 / 50\n",
      "iteration 25 / 50\n",
      "iteration 26 / 50\n",
      "iteration 27 / 50\n",
      "iteration 28 / 50\n",
      "iteration 29 / 50\n",
      "iteration 30 / 50\n",
      "iteration 31 / 50\n",
      "iteration 32 / 50\n",
      "iteration 33 / 50\n",
      "iteration 34 / 50\n",
      "iteration 35 / 50\n",
      "iteration 36 / 50\n",
      "iteration 37 / 50\n",
      "iteration 38 / 50\n",
      "iteration 39 / 50\n",
      "iteration 40 / 50\n",
      "iteration 41 / 50\n",
      "iteration 42 / 50\n",
      "iteration 43 / 50\n",
      "iteration 44 / 50\n",
      "iteration 45 / 50\n",
      "iteration 46 / 50\n",
      "iteration 47 / 50\n",
      "iteration 48 / 50\n",
      "iteration 49 / 50\n",
      "iteration 50 / 50\n"
     ]
    }
   ],
   "source": [
    "radius_min = la.norm(np.array([0.75, 0.55])/2 - np.array([0.5, 0.4]))\n",
    "radius_max = la.norm(np.array([0, 0.55])/2)\n",
    "\n",
    "#radius = (radius_min + radius_max)/2\n",
    "radius = 0.2\n",
    "round_trip_time_min = 1\n",
    "round_trip_time_max = 8\n",
    "\n",
    "speed_min = (2 * np.pi * radius) / round_trip_time_max\n",
    "speed_max = (2 * np.pi * radius) / round_trip_time_min\n",
    "\n",
    "search_grid = np.linspace(speed_min, speed_max, n_search)\n",
    "util_steadystate = np.zeros((n_search, 3))\n",
    "util_transient = np.zeros((n_search, 3))\n",
    "\n",
    "for i in range(n_search):\n",
    "    print(\"iteration {} / {}\".format(i+1, n_search))\n",
    "    \n",
    "    flying_parameters = {\n",
    "                \"radius\" : radius,\n",
    "                \"center\" : np.array([0.75/2, 0.55/2]),\n",
    "                \"speed\" : search_grid[i]\n",
    "            }\n",
    "\n",
    "    drone.set_default_flying_parameters(flying_parameters)\n",
    "    \n",
    "    post_steadystate = brain.compute_posterior()\n",
    "#     post_transient = brain_transient.compute_posterior()\n",
    "    \n",
    "    util_steadystate[i, 0] = brain.eval_utility(post_steadystate, oed_mode=\"A\")\n",
    "    util_steadystate[i, 1] = brain.eval_utility(post_steadystate, oed_mode=\"D\")\n",
    "    util_steadystate[i, 2] = brain.eval_utility(post_steadystate, oed_mode=\"E\")\n",
    "    \n",
    "#     util_transient[i, 0] = brain.eval_utility(post_transient, oed_mode=\"A\")\n",
    "#     util_transient[i, 1] = brain.eval_utility(post_transient, oed_mode=\"D\")\n",
    "#     util_transient[i, 2] = brain.eval_utility(post_transient, oed_mode=\"E\")"
   ]
  },
  {
   "cell_type": "code",
   "execution_count": 16,
   "id": "8d07a3f7",
   "metadata": {},
   "outputs": [
    {
     "name": "stdout",
     "output_type": "stream",
     "text": [
      "Optimal speed:\n",
      "A-OED, steady-state: 0.5609986881410345\n",
      "A-OED, transient:    0.15707963267948966\n",
      "D-OED, steady-state: 0.5609986881410345\n",
      "D-OED, transient:    0.15707963267948966\n",
      "E-OED, steady-state: 1.2566370614359172\n",
      "E-OED, transient:    0.15707963267948966\n"
     ]
    },
    {
     "data": {
      "image/png": "[encoded data removed]",
      "text/plain": [
       "<Figure size 720x720 with 6 Axes>"
      ]
     },
     "metadata": {
      "needs_background": "light"
     },
     "output_type": "display_data"
    }
   ],
   "source": [
    "util_names = [\"A\", \"D\", \"E\"]\n",
    "fig, axs = plt.subplots(3, 2, sharex = True, figsize = (10, 10))\n",
    "\n",
    "for i in range(3):\n",
    "    axs[i, 0].semilogy(search_grid, util_steadystate[:, i], label=\"steady-state, {}-OED\".format(util_names[i]))\n",
    "    axs[i, 1].plot(search_grid, util_transient[:, i], label=\"transient, {}-OED\".format(util_names[i]))\n",
    "    \n",
    "    axs[i, 0].legend()\n",
    "    axs[i, 0].set_title(\"{}-OED utility function value, steady-state\".format(util_names[i]))\n",
    "    \n",
    "    axs[i, 1].legend()\n",
    "    axs[i, 1].set_title(\"{}-OED utility function value, transient\".format(util_names[i]))\n",
    "    \n",
    "axs[-1, 0].set_xlabel(\"speed\")\n",
    "axs[-1, 1].set_xlabel(\"speed\")\n",
    "\n",
    "print(\"Optimal speed:\")\n",
    "print(\"A-OED, steady-state:\", search_grid[np.argmin(util_steadystate[:, 0])])\n",
    "print(\"A-OED, transient:   \", search_grid[np.argmin(util_transient[:, 0])])\n",
    "\n",
    "print(\"D-OED, steady-state:\", search_grid[np.argmin(util_steadystate[:, 1])])\n",
    "print(\"D-OED, transient:   \", search_grid[np.argmin(util_transient[:, 1])])\n",
    "\n",
    "print(\"E-OED, steady-state:\", search_grid[np.argmin(util_steadystate[:, 2])])\n",
    "print(\"E-OED, transient:   \", search_grid[np.argmin(util_transient[:, 2])])"
   ]
  },
  {
   "cell_type": "code",
   "execution_count": null,
   "id": "8d6c4537",
   "metadata": {},
   "outputs": [],
   "source": [
    "speed_min"
   ]
  },
  {
   "cell_type": "code",
   "execution_count": null,
   "id": "dc9658e4",
   "metadata": {},
   "outputs": [],
   "source": [
    "speed_max"
   ]
  },
  {
   "cell_type": "code",
   "execution_count": 14,
   "id": "3edcebd1",
   "metadata": {},
   "outputs": [
    {
     "data": {
      "text/plain": [
       "0.22588834764831844"
      ]
     },
     "execution_count": 14,
     "metadata": {},
     "output_type": "execute_result"
    }
   ],
   "source": [
    "radius"
   ]
  },
  {
   "cell_type": "code",
   "execution_count": null,
   "id": "09b78aa1",
   "metadata": {},
   "outputs": [],
   "source": []
  }
 ],
 "metadata": {
  "kernelspec": {
   "display_name": "Python 3 (ipykernel)",
   "language": "python",
   "name": "python3"
  },
  "language_info": {
   "codemirror_mode": {
    "name": "ipython",
    "version": 3
   },
   "file_extension": ".py",
   "mimetype": "text/x-python",
   "name": "python",
   "nbconvert_exporter": "python",
   "pygments_lexer": "ipython3",
   "version": "3.10.0"
  }
 },
 "nbformat": 4,
 "nbformat_minor": 5
}
