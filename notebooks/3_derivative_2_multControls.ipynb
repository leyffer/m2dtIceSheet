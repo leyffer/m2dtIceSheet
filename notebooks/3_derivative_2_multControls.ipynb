{
 "cells": [
  {
   "cell_type": "markdown",
   "id": "d6b1cb65",
   "metadata": {},
   "source": [
    "# Gradients (derivatives w.r.t. multiple parameters)\n",
    "In this notebook we compute the gradients of the A- and D-OED utility functions with respect to both the radius and the speed flight path parameterization. We get the gradients just by stacking up the individual derivatives from the previous notebook, so by itself there isn't much to do here. Instead, we take this notebook as a chance to streamline the derivative computation somewhat to take out redundant computations."
   ]
  },
  {
   "cell_type": "markdown",
   "id": "daed4840",
   "metadata": {},
   "source": [
    "## Imports"
   ]
  },
  {
   "cell_type": "code",
   "execution_count": 1,
   "id": "d79564d1",
   "metadata": {},
   "outputs": [],
   "source": [
    "import sys\n",
    "sys.path.insert(0, \"../source/\")\n",
    "\n",
    "from FOM_advectiondiffusion import FOM_advectiondiffusion\n",
    "from FOM_advectiondiffusion_steadystate import FOM_advectiondiffusion_steadystate\n",
    "from Drone import Drone\n",
    "from Parameter import Parameter\n",
    "from Brain import Brain\n",
    "from NoiseModel import NoiseModel\n",
    "from Prior import Prior\n",
    "\n",
    "import dolfin as dl\n",
    "import matplotlib.pyplot as plt\n",
    "import numpy as np\n",
    "import time\n",
    "import scipy.linalg as la\n",
    "import scipy.sparse as sparse\n",
    "import scipy.sparse.linalg as sla\n",
    "import math\n",
    "import scipy.stats as stats\n",
    "from matplotlib import cm\n",
    "\n",
    "tStart_notebook = time.time()"
   ]
  },
  {
   "cell_type": "markdown",
   "id": "d84593f7",
   "metadata": {},
   "source": [
    "## User settings"
   ]
  },
  {
   "cell_type": "code",
   "execution_count": 2,
   "id": "261bf89a",
   "metadata": {},
   "outputs": [],
   "source": [
    "meshDim = 100\n",
    "# meshDim=50 is probably too coarse but for writing the code it should suffice, I'm impatient\n",
    "\n",
    "n_para = 5\n",
    "n_search = 30\n",
    "n_test = 15\n",
    "\n",
    "eval_mode = \"point-eval\" # because it's faster for testing code\n",
    "\n",
    "dt = 0.001\n",
    "final_time = 4"
   ]
  },
  {
   "cell_type": "markdown",
   "id": "12e4b03e",
   "metadata": {},
   "source": [
    "## Setup\n",
    "We stay with the stationary model for now. "
   ]
  },
  {
   "cell_type": "code",
   "execution_count": 3,
   "id": "d0b88365",
   "metadata": {},
   "outputs": [
    {
     "data": {
      "text/plain": [
       "[<matplotlib.lines.Line2D at 0x168af9030>]"
      ]
     },
     "execution_count": 3,
     "metadata": {},
     "output_type": "execute_result"
    },
    {
     "data": {
      "image/png": "[encoded data removed]",
      "text/plain": [
       "<Figure size 432x288 with 1 Axes>"
      ]
     },
     "metadata": {
      "needs_background": "light"
     },
     "output_type": "display_data"
    }
   ],
   "source": [
    "fom = FOM_advectiondiffusion_steadystate(meshDim=meshDim)\n",
    "grid_t = np.arange(0, final_time+dt, dt)\n",
    "\n",
    "para_true = np.ones((n_para,))\n",
    "m = fom.assemble_forcing(para=para_true)\n",
    "sol_steadystate_true = fom.solve_steady(forcing=m)\n",
    "\n",
    "# set default flying parameters\n",
    "flying_parameters = {\n",
    "                \"radius\" : 0.25,\n",
    "                \"center\" : np.array([0.75/2, 0.55/2]),\n",
    "                \"speed\" : 0.2 # 0.3\n",
    "            }\n",
    "\n",
    "drone = Drone(fom, flying_parameters=flying_parameters, eval_mode=eval_mode, grid_t=grid_t)\n",
    "pos, __ = drone.get_trajectory(flying_parameters=flying_parameters)\n",
    "\n",
    "prior = Prior(covar = np.eye(n_para), mean = np.zeros((n_para,)))\n",
    "noise_model = NoiseModel(grid_t=grid_t, c_scaling=1e+3, c_diffusion = 0.01)\n",
    "brain = Brain(fom=fom, drone=drone, prior=prior, noise_model=noise_model)\n",
    "\n",
    "dl.plot(sol_steadystate_true, mesh=fom.mesh)\n",
    "plt.plot(pos[:, 0], pos[:, 1], color=\"r\")"
   ]
  },
  {
   "cell_type": "code",
   "execution_count": 4,
   "id": "c939b16d",
   "metadata": {},
   "outputs": [],
   "source": [
    "sol_steadystate = np.empty((n_para), dtype = object)\n",
    "\n",
    "for i in range(n_para):\n",
    "    m = fom.assemble_forcing(para=np.eye(n_para)[:, i])\n",
    "    sol_steadystate[i] = fom.solve_steady(forcing=m)"
   ]
  },
  {
   "cell_type": "markdown",
   "id": "0bc9e2a6",
   "metadata": {},
   "source": [
    "## Functions"
   ]
  },
  {
   "cell_type": "markdown",
   "id": "dd1e743d",
   "metadata": {},
   "source": [
    "The main link between the utility function gradients and the flightpath parameterization is the derivative of the flightpath with respect to its parameters. In terms of our class distinctions, the corresponding function should be part of the `Drone` class - the drone is the only object that actually knows (or cares) what the parameters are and how they get translated into a flight path. When we switch out a flight path parameterization, we should only need to switch out the `Drone` subclass."
   ]
  },
  {
   "cell_type": "markdown",
   "id": "71405c32",
   "metadata": {},
   "source": [
    "For our gradients here, let's assume the only two parameters are the speed and the radius (just as we've treated them previously), and in terms of a parameter vector they are ordered as `alpha = [speed, radius]`, i.e. speed first. \n",
    "\n",
    "We stack the derivatives horizontally such that the return value has size `<spatial dimension> x <number of control parameters>`"
   ]
  },
  {
   "cell_type": "code",
   "execution_count": 5,
   "id": "cb32e5c0",
   "metadata": {},
   "outputs": [],
   "source": [
    "n_controls = 2\n",
    "\n",
    "def d_position_d_control(t, flying_parameters = flying_parameters):\n",
    "    # for the Drone class\n",
    "\n",
    "    radius = flying_parameters[\"radius\"]\n",
    "    speed = flying_parameters[\"speed\"]\n",
    "\n",
    "    round_trip_time = 2 * np.pi * radius / speed\n",
    "    angles = (t * 2 * np.pi) / round_trip_time\n",
    "\n",
    "    d_speed = t * np.hstack([-np.sin(angles), np.cos(angles)]).T \n",
    "\n",
    "    d_radius = np.hstack([np.cos(angles), np.sin(angles)]).T \n",
    "    d_radius = d_radius - (t * speed) * np.hstack([-np.sin(angles), np.cos(angles)]).T / radius\n",
    "\n",
    "    return np.vstack([d_speed, d_radius]).T\n"
   ]
  },
  {
   "cell_type": "markdown",
   "id": "0533416e",
   "metadata": {},
   "source": [
    "For the remaining parts I think we can merge a lot of stuff together, but we shouldn't force it. For once, I think the derivative of the measurements should again be part of the `Drone` class because of the distinction between different types of measurements. The spatial derivative of the state should be in the `FOM` class since it depends on how the problem is discretized."
   ]
  },
  {
   "cell_type": "code",
   "execution_count": 6,
   "id": "56970b4d",
   "metadata": {},
   "outputs": [],
   "source": [
    "def d_state_d_x():\n",
    "    # goes into the FOM class\n",
    "    \n",
    "    Du = [dl.grad(sol_steadystate[i]) for i in range(n_para)]\n",
    "    Du = [dl.project(Du[i]) for i in range(n_para)]\n",
    "    \n",
    "    # todo: include time dependence of the state\n",
    "    \n",
    "    return Du"
   ]
  },
  {
   "cell_type": "code",
   "execution_count": 7,
   "id": "213ab108",
   "metadata": {},
   "outputs": [],
   "source": [
    "# make sure to only compute these derivatives once\n",
    "Du = d_state_d_x()"
   ]
  },
  {
   "cell_type": "markdown",
   "id": "ca9f55e5",
   "metadata": {},
   "source": [
    "The size of the return for `d_measurement_d_control` is `n_para x <number of controls>`"
   ]
  },
  {
   "cell_type": "code",
   "execution_count": 8,
   "id": "b451eb49",
   "metadata": {},
   "outputs": [],
   "source": [
    "def d_measurement_d_control(t, flying_parameters = flying_parameters):\n",
    "    # goes into the Drone class\n",
    "    \n",
    "    position = drone.get_position(t=t, flying_parameters = flying_parameters)\n",
    "    grad_p = d_position_d_control(t=t, flying_parameters = flying_parameters)\n",
    "    # todo: should the drone here be the one initialized in d_PostCov_d_control?\n",
    "    # todo: is the call to drone.get_position redundant with drone.get_trajectory in d_PostCov_d_control?\n",
    "    \n",
    "    Du_at_position = np.empty((2, n_para))\n",
    "    \n",
    "    if eval_mode == \"point-eval\":\n",
    "        for i in range(n_para):\n",
    "            Du_at_position[:, i] = Du[i](position)\n",
    "    else:\n",
    "        raise NotImplementedError(\"still need to do the maths for other measurement types\")\n",
    "        \n",
    "    # todo: should the evaluation of Du at the flight path position be here or part of d_state_d_x already?\n",
    "    # answer: I think we can only decide that once we know how the derivatives for the convolution type \n",
    "    # measurements look like\n",
    "        \n",
    "    return Du_at_position.T @ grad_p"
   ]
  },
  {
   "cell_type": "markdown",
   "id": "8520e3fd",
   "metadata": {},
   "source": [
    "Finally the part where I think we can merge the most parts together:"
   ]
  },
  {
   "cell_type": "code",
   "execution_count": 9,
   "id": "745e0743",
   "metadata": {},
   "outputs": [],
   "source": [
    "def d_PostCov_d_control(flying_parameters=flying_parameters):\n",
    "    \n",
    "    # initialization\n",
    "    drone = Drone(fom, flying_parameters=flying_parameters, eval_mode=eval_mode, grid_t=grid_t)\n",
    "    pos, __ = drone.get_trajectory(flying_parameters=flying_parameters)\n",
    "    \n",
    "    BU = np.empty((grid_t.shape[0], n_para))\n",
    "    for i in range(n_para):\n",
    "        BU[:, i] = drone.measure(flightpath = pos, state=sol_steadystate[i])\n",
    "        \n",
    "    invCovBU = noise_model.apply_covar_inv(BU)\n",
    "    invPostCov = BU.T @ invCovBU + prior.covar_inv\n",
    "    \n",
    "    # get derivative of inverse posterior covariance matrix\n",
    "    dBU = np.empty((grid_t.shape[0], n_para, n_controls))\n",
    "    for k in range(grid_t.shape[0]):\n",
    "        dBU[k, :, :] = d_measurement_d_control(t=grid_t[k], flying_parameters=flying_parameters)\n",
    "    \n",
    "    d_invPostCov_d_speed = [dBU[:, :, i].T @ invCovBU + invCovBU.T @ dBU[:, :, i] for i in range(n_controls)]\n",
    "    \n",
    "    # sanity check:\n",
    "    if len(d_invPostCov_d_speed[0].shape) == 0:\n",
    "        #d_invPostCov_d_speed = np.array(np.array([d_invPostCov_d_speed]))\n",
    "        \n",
    "        # instead of casting into the correct format we raise an error, because at this point I expect the code\n",
    "        # to be optimized enough that everything gets the correct shape just from being initialized correctly\n",
    "        raise RuntimeError(\"invalid shape = {} for d_invPostCov_d_speed\".format(d_invPostCov_d_speed[0].shape))\n",
    "    \n",
    "    PostCov = la.inv(invPostCov)\n",
    "    derivative = [-PostCov @ d_invPostCov_d_speed[i] @ PostCov for i in range(n_controls)]\n",
    "    # todo: I'm using la.inv here because I also want to return the matrix below. However, when we adapt this\n",
    "    # into the source code we need to replace it with a proper linear system solve, maybe even just return \n",
    "    # the inverse posterior covarianc matrix\n",
    "    \n",
    "    return derivative, PostCov"
   ]
  },
  {
   "cell_type": "markdown",
   "id": "c1ef1933",
   "metadata": {},
   "source": [
    "Now it's time for the utility functions:"
   ]
  },
  {
   "cell_type": "code",
   "execution_count": 10,
   "id": "c283e6a6",
   "metadata": {},
   "outputs": [],
   "source": [
    "def d_utilA_d_control(flying_parameters=flying_parameters, bool_return_covar = True):\n",
    "    \n",
    "    # get derivative information of the posterior covariance function\n",
    "    der, postCov = d_PostCov_d_control(flying_parameters=flying_parameters)\n",
    "    \n",
    "    # compute gradient\n",
    "    gradient = np.hstack([np.trace(der[i]) for i in range(n_controls)])\n",
    "    \n",
    "    if bool_return_covar:\n",
    "        return gradient, postCov\n",
    "    \n",
    "    return gradient"
   ]
  },
  {
   "cell_type": "code",
   "execution_count": 11,
   "id": "ed9981dc",
   "metadata": {},
   "outputs": [],
   "source": [
    "def d_utilD_d_control(flying_parameters=flying_parameters, bool_return_covar = True):\n",
    "    \n",
    "    # get derivative information of the posterior covariance function\n",
    "    der, postCov = d_PostCov_d_control(flying_parameters=flying_parameters)\n",
    "    \n",
    "    # only compute the determinant once\n",
    "    det = la.det(postCov)\n",
    "    \n",
    "    gradient = np.zeros((n_controls,))\n",
    "    for i in range(n_controls):\n",
    "        \n",
    "        # sanity check\n",
    "        if len(der[i]) == 1:\n",
    "            raise RuntimeError(\"invalid shape = {} for derivative matrix\".format(der[i].shape))\n",
    "        \n",
    "        # apply transposed cofactor matrix \n",
    "        yolo = det * la.solve(postCov.T, der[i])\n",
    "        # todo: the decomposition cofactor(M) = det(M)*inv(M) only holds for invertible matrices M\n",
    "        # I don't think the posterior covariance matrix can become singular unless the prior or the noise covariance\n",
    "        # matrices are degenerate. We might want to catch that case though.\n",
    "        \n",
    "        # finish computing the gradient\n",
    "        gradient[i] = np.trace(yolo)\n",
    "        \n",
    "    if bool_return_covar:\n",
    "        return gradient, postCov\n",
    "    \n",
    "    return gradient"
   ]
  },
  {
   "cell_type": "markdown",
   "id": "970e12bb",
   "metadata": {},
   "source": [
    "## Test"
   ]
  },
  {
   "cell_type": "code",
   "execution_count": 12,
   "id": "364bc9ec",
   "metadata": {},
   "outputs": [
    {
     "name": "stdout",
     "output_type": "stream",
     "text": [
      "iteration i =  0\n",
      "iteration i =  1\n",
      "iteration i =  2\n",
      "iteration i =  3\n",
      "iteration i =  4\n",
      "iteration i =  5\n",
      "iteration i =  6\n",
      "iteration i =  7\n",
      "iteration i =  8\n",
      "iteration i =  9\n",
      "iteration i =  10\n",
      "iteration i =  11\n",
      "iteration i =  12\n",
      "iteration i =  13\n",
      "iteration i =  14\n"
     ]
    }
   ],
   "source": [
    "radius_min = la.norm(np.array([0.75, 0.55])/2 - np.array([0.5, 0.4])) # 0.1767\n",
    "radius_max = la.norm(np.array([0, 0.55])/2) # 0.275\n",
    "\n",
    "vec_radius = np.linspace(radius_min, radius_max, n_test)\n",
    "vec_speed = np.linspace(0.2, 1.4, n_test)\n",
    "\n",
    "utilA = np.zeros((n_test, n_test))\n",
    "utilD = np.zeros((n_test, n_test))\n",
    "\n",
    "\n",
    "for i in range(n_test):\n",
    "    \n",
    "    print(\"iteration i = \", i)\n",
    "    \n",
    "    flying_parameters_2 = flying_parameters.copy()\n",
    "    flying_parameters_2[\"speed\"] = vec_speed[i]\n",
    "    \n",
    "    for j in range(n_test):\n",
    "        \n",
    "        flying_parameters_2[\"radius\"] = vec_radius[j]\n",
    "        \n",
    "        __, postCov = d_utilA_d_control(flying_parameters = flying_parameters_2)\n",
    "        utilA[j,i] = np.trace(postCov)\n",
    "        utilD[j,i] = la.det(postCov)\n",
    "        \n",
    "        "
   ]
  },
  {
   "cell_type": "code",
   "execution_count": 13,
   "id": "22d6a6bb",
   "metadata": {},
   "outputs": [
    {
     "name": "stdout",
     "output_type": "stream",
     "text": [
      "iteration i =  0\n",
      "iteration i =  1\n",
      "iteration i =  2\n",
      "iteration i =  3\n",
      "iteration i =  4\n",
      "iteration i =  5\n",
      "iteration i =  6\n",
      "iteration i =  7\n",
      "iteration i =  8\n",
      "iteration i =  9\n",
      "iteration i =  10\n",
      "iteration i =  11\n",
      "iteration i =  12\n",
      "iteration i =  13\n",
      "iteration i =  14\n",
      "iteration i =  15\n",
      "iteration i =  16\n",
      "iteration i =  17\n",
      "iteration i =  18\n",
      "iteration i =  19\n",
      "iteration i =  20\n",
      "iteration i =  21\n",
      "iteration i =  22\n",
      "iteration i =  23\n",
      "iteration i =  24\n",
      "iteration i =  25\n",
      "iteration i =  26\n",
      "iteration i =  27\n",
      "iteration i =  28\n",
      "iteration i =  29\n",
      "iteration i =  30\n",
      "iteration i =  31\n",
      "iteration i =  32\n",
      "iteration i =  33\n",
      "iteration i =  34\n",
      "iteration i =  35\n",
      "iteration i =  36\n",
      "iteration i =  37\n",
      "iteration i =  38\n",
      "iteration i =  39\n",
      "iteration i =  40\n",
      "iteration i =  41\n",
      "iteration i =  42\n",
      "iteration i =  43\n",
      "iteration i =  44\n",
      "iteration i =  45\n",
      "iteration i =  46\n",
      "iteration i =  47\n",
      "iteration i =  48\n",
      "iteration i =  49\n",
      "iteration i =  50\n",
      "iteration i =  51\n",
      "iteration i =  52\n",
      "iteration i =  53\n",
      "iteration i =  54\n",
      "iteration i =  55\n",
      "iteration i =  56\n",
      "iteration i =  57\n",
      "iteration i =  58\n",
      "iteration i =  59\n",
      "iteration i =  60\n",
      "iteration i =  61\n",
      "iteration i =  62\n",
      "iteration i =  63\n",
      "iteration i =  64\n",
      "iteration i =  65\n",
      "iteration i =  66\n",
      "iteration i =  67\n",
      "iteration i =  68\n",
      "iteration i =  69\n",
      "iteration i =  70\n",
      "iteration i =  71\n",
      "iteration i =  72\n",
      "iteration i =  73\n",
      "iteration i =  74\n",
      "iteration i =  75\n",
      "iteration i =  76\n",
      "iteration i =  77\n",
      "iteration i =  78\n",
      "iteration i =  79\n",
      "iteration i =  80\n",
      "iteration i =  81\n",
      "iteration i =  82\n",
      "iteration i =  83\n",
      "iteration i =  84\n",
      "iteration i =  85\n",
      "iteration i =  86\n",
      "iteration i =  87\n",
      "iteration i =  88\n",
      "iteration i =  89\n",
      "iteration i =  90\n",
      "iteration i =  91\n",
      "iteration i =  92\n",
      "iteration i =  93\n",
      "iteration i =  94\n",
      "iteration i =  95\n",
      "iteration i =  96\n",
      "iteration i =  97\n",
      "iteration i =  98\n",
      "iteration i =  99\n"
     ]
    }
   ],
   "source": [
    "speed_test = 0.8\n",
    "radius_test = 0.22\n",
    "n_test_2 = 100\n",
    "\n",
    "vec_radius_2 = np.linspace(radius_min, radius_max, n_test_2)\n",
    "vec_speed_2 = np.linspace(0.2, 1.4, n_test_2)\n",
    "\n",
    "flying_parameters_2 = flying_parameters.copy()\n",
    "flying_parameters_2[\"speed\"] = speed_test\n",
    "flying_parameters_2[\"radius\"] = radius_test\n",
    "\n",
    "der_A, postCov = d_utilA_d_control(flying_parameters = flying_parameters_2)\n",
    "val_A = np.trace(postCov)\n",
    "\n",
    "der_D, postCov = d_utilD_d_control(flying_parameters = flying_parameters_2)\n",
    "val_D = la.det(postCov)\n",
    "\n",
    "utilA_r = np.zeros((n_test_2,))\n",
    "utilD_r = np.zeros((n_test_2,))\n",
    "\n",
    "utilA_s = np.zeros((n_test_2,))\n",
    "utilD_s = np.zeros((n_test_2,))\n",
    "\n",
    "for i in range(n_test_2):\n",
    "    \n",
    "    print(\"iteration i = \", i)\n",
    "    \n",
    "    flying_parameters_2 = flying_parameters.copy()\n",
    "    flying_parameters_2[\"speed\"] = vec_speed_2[i]\n",
    "    flying_parameters_2[\"radius\"] = radius_test\n",
    "    \n",
    "    __, postCov = d_utilA_d_control(flying_parameters = flying_parameters_2)\n",
    "    utilA_r[i] = np.trace(postCov)\n",
    "    utilD_r[i] = la.det(postCov)\n",
    "    \n",
    "    flying_parameters_2 = flying_parameters.copy()\n",
    "    flying_parameters_2[\"speed\"] = speed_test\n",
    "    flying_parameters_2[\"radius\"] = vec_radius_2[i]\n",
    "    \n",
    "    __, postCov = d_utilA_d_control(flying_parameters = flying_parameters_2)\n",
    "    utilA_s[i] = np.trace(postCov)\n",
    "    utilD_s[i] = la.det(postCov)\n",
    "\n"
   ]
  },
  {
   "cell_type": "code",
   "execution_count": 19,
   "id": "3ce5e7d1",
   "metadata": {},
   "outputs": [
    {
     "name": "stderr",
     "output_type": "stream",
     "text": [
      "/var/folders/_k/q9sdsmfx2j35cmp3z9tn84km0000gp/T/ipykernel_2199/182715695.py:4: MatplotlibDeprecationWarning: Starting from Matplotlib 3.6, colorbar() will steal space from the mappable's axes, rather than from the current axes, to place the colorbar.  To silence this warning, explicitly pass the 'ax' argument to colorbar().\n",
      "  fig.colorbar(test, shrink=1, aspect=10)\n"
     ]
    },
    {
     "data": {
      "text/plain": [
       "Text(0.5, 0, 'speed')"
      ]
     },
     "execution_count": 19,
     "metadata": {},
     "output_type": "execute_result"
    },
    {
     "data": {
      "image/png": "[encoded data removed]",
      "text/plain": [
       "<Figure size 1080x360 with 4 Axes>"
      ]
     },
     "metadata": {
      "needs_background": "light"
     },
     "output_type": "display_data"
    }
   ],
   "source": [
    "fig, axs = plt.subplots(1, 3, figsize=(15, 5))\n",
    "\n",
    "test = axs[0].pcolormesh(vec_speed, vec_radius, utilA)\n",
    "fig.colorbar(test, shrink=1, aspect=10)\n",
    "\n",
    "axs[0].plot([speed_test, speed_test - 0.002 * der_A[0]], \n",
    "        [radius_test, radius_test - 0.002 * der_A[1]], color=\"r\")\n",
    "\n",
    "axs[0].plot([speed_test], [radius_test], marker=\"x\", markersize=8, color=\"r\")\n",
    "\n",
    "axs[0].set_xlabel(\"speed\")\n",
    "axs[0].set_ylabel(\"radius\")\n",
    "axs[0].set_title(\"A-OED\")\n",
    "\n",
    "\n",
    "axs[1].plot(vec_radius_2, utilA_s)\n",
    "axs[1].plot([radius_test], val_A, marker=\"x\", markersize=8, color=\"r\")\n",
    "axs[1].plot([radius_test, radius_test + 0.02], [val_A, val_A+0.02*der_A[1]], marker=\"\", markersize=8, color=\"r\")\n",
    "axs[1].set_xlabel(\"radius\")\n",
    "\n",
    "axs[2].plot(vec_speed_2, utilA_r)\n",
    "axs[2].plot([speed_test], val_A, marker=\"x\", markersize=8, color=\"r\")\n",
    "axs[2].plot([speed_test, speed_test + 0.2], [val_A, val_A+0.2*der_A[0]], marker=\"\", markersize=8, color=\"r\")\n",
    "axs[2].set_xlabel(\"speed\")\n",
    "\n"
   ]
  },
  {
   "cell_type": "code",
   "execution_count": 18,
   "id": "4a5ee152",
   "metadata": {},
   "outputs": [
    {
     "name": "stderr",
     "output_type": "stream",
     "text": [
      "/var/folders/_k/q9sdsmfx2j35cmp3z9tn84km0000gp/T/ipykernel_2199/4276484496.py:4: MatplotlibDeprecationWarning: Starting from Matplotlib 3.6, colorbar() will steal space from the mappable's axes, rather than from the current axes, to place the colorbar.  To silence this warning, explicitly pass the 'ax' argument to colorbar().\n",
      "  fig.colorbar(test, shrink=1, aspect=10)\n"
     ]
    },
    {
     "data": {
      "text/plain": [
       "Text(0.5, 0, 'speed')"
      ]
     },
     "execution_count": 18,
     "metadata": {},
     "output_type": "execute_result"
    },
    {
     "data": {
      "image/png": "[encoded data removed]",
      "text/plain": [
       "<Figure size 1080x360 with 4 Axes>"
      ]
     },
     "metadata": {
      "needs_background": "light"
     },
     "output_type": "display_data"
    }
   ],
   "source": [
    "fig, axs = plt.subplots(1, 3, figsize=(15,5))\n",
    "\n",
    "test = axs[0].pcolormesh(vec_speed, vec_radius, utilD)\n",
    "fig.colorbar(test, shrink=1, aspect=10)\n",
    "\n",
    "axs[0].plot([speed_test, speed_test - 0.002 * der_D[0]], \n",
    "        [radius_test, radius_test - 0.002 * der_D[1]], color=\"r\")\n",
    "\n",
    "axs[0].plot([speed_test], [radius_test], marker=\"x\", markersize=8, color=\"r\")\n",
    "\n",
    "axs[0].set_xlabel(\"speed\")\n",
    "axs[0].set_ylabel(\"radius\")\n",
    "axs[0].set_title(\"D-OED\")\n",
    "\n",
    "axs[1].plot(vec_radius_2, utilD_s)\n",
    "axs[1].plot([radius_test], val_D, marker=\"x\", markersize=8, color=\"r\")\n",
    "axs[1].plot([radius_test, radius_test + 0.02], [val_D, val_D+0.02*der_D[1]], marker=\"\", markersize=8, color=\"r\")\n",
    "axs[1].set_xlabel(\"radius\")\n",
    "\n",
    "axs[2].plot(vec_speed_2, utilD_r)\n",
    "axs[2].plot([speed_test], val_D, marker=\"x\", markersize=8, color=\"r\")\n",
    "axs[2].plot([speed_test, speed_test + 0.2], [val_D, val_D+0.2*der_D[0]], marker=\"\", markersize=8, color=\"r\")\n",
    "axs[2].set_xlabel(\"speed\")\n",
    "\n"
   ]
  },
  {
   "cell_type": "code",
   "execution_count": 16,
   "id": "8d4e732b",
   "metadata": {},
   "outputs": [
    {
     "data": {
      "text/plain": [
       "Text(0.5, 1.0, 'D-ultility')"
      ]
     },
     "execution_count": 16,
     "metadata": {},
     "output_type": "execute_result"
    },
    {
     "data": {
      "image/png": "[encoded data removed]",
      "text/plain": [
       "<Figure size 1080x360 with 2 Axes>"
      ]
     },
     "metadata": {
      "needs_background": "light"
     },
     "output_type": "display_data"
    }
   ],
   "source": [
    "fig, axs = plt.subplots(1, 2, figsize=(15,5))\n",
    "\n",
    "axs[0].plot(vec_speed_2, utilA_r)\n",
    "axs[0].plot([speed_test], val_A, marker=\"x\", markersize=8, color=\"r\")\n",
    "axs[0].plot([speed_test, speed_test + 0.2], [val_A, val_A+0.2*der_A[0]], marker=\"\", markersize=8, color=\"r\")\n",
    "axs[0].set_xlabel(\"speed\")\n",
    "axs[0].set_title(\"A-utility\")\n",
    "\n",
    "axs[1].plot(vec_speed_2, utilD_r)\n",
    "axs[1].plot([speed_test], val_D, marker=\"x\", markersize=8, color=\"r\")\n",
    "axs[1].plot([speed_test, speed_test + 0.2], [val_D, val_D+0.2*der_D[0]], marker=\"\", markersize=8, color=\"r\")\n",
    "axs[1].set_xlabel(\"speed\")\n",
    "axs[1].set_title(\"D-ultility\")\n",
    "\n"
   ]
  },
  {
   "cell_type": "markdown",
   "id": "dc6ddef6",
   "metadata": {},
   "source": [
    "**Welcome back!**\n",
    "Next steps:\n",
    "- from the plots it doesn't look like the gradients are pointing in the correct direction. Then again, the colorplot is quite coarse and the scaling is very different. To check that everything is correct, make a zoomed in 2D-plot, and two 1D plots like the ones from the previous notebook.\n",
    "- get rid of _all_ calls to `la.inv`\n",
    "- extend to time-dependent states (new notebook)\n",
    "- merge into source code"
   ]
  },
  {
   "cell_type": "markdown",
   "id": "258a3a83",
   "metadata": {},
   "source": [
    "## The End."
   ]
  },
  {
   "cell_type": "code",
   "execution_count": 17,
   "id": "d52a2985",
   "metadata": {},
   "outputs": [
    {
     "name": "stdout",
     "output_type": "stream",
     "text": [
      "Runtime of this notebook:  5.8064097682634985  min.\n"
     ]
    }
   ],
   "source": [
    "print(\"Runtime of this notebook: \", (time.time()-tStart_notebook)/60, \" min.\")"
   ]
  },
  {
   "cell_type": "code",
   "execution_count": null,
   "id": "cdc61963",
   "metadata": {},
   "outputs": [],
   "source": []
  }
 ],
 "metadata": {
  "kernelspec": {
   "display_name": "Python 3 (ipykernel)",
   "language": "python",
   "name": "python3"
  },
  "language_info": {
   "codemirror_mode": {
    "name": "ipython",
    "version": 3
   },
   "file_extension": ".py",
   "mimetype": "text/x-python",
   "name": "python",
   "nbconvert_exporter": "python",
   "pygments_lexer": "ipython3",
   "version": "3.10.0"
  }
 },
 "nbformat": 4,
 "nbformat_minor": 5
}
