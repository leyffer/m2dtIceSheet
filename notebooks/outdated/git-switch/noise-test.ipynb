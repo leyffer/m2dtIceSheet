{
 "cells": [
  {
   "cell_type": "markdown",
   "id": "5af9c426",
   "metadata": {},
   "source": [
    "# Infinite-dimensional setting"
   ]
  },
  {
   "cell_type": "code",
   "execution_count": 1,
   "id": "2c521ec7",
   "metadata": {},
   "outputs": [],
   "source": [
    "import numpy as np\n",
    "import scipy.sparse as sparse\n",
    "import scipy.sparse.linalg as sla\n",
    "import matplotlib.pyplot as plt\n",
    "import sys\n",
    "import scipy.linalg as la"
   ]
  },
  {
   "cell_type": "code",
   "execution_count": 2,
   "id": "ea7b5102",
   "metadata": {},
   "outputs": [],
   "source": [
    "def compute_diffusion_matrix(K):\n",
    "\n",
    "    dt = 1/(K-1)\n",
    "\n",
    "    A = sparse.diags([1, -1], offsets = [0, 1], shape=(K,K))\n",
    "    A = sparse.csr_matrix(A + A.T)\n",
    "    A[0, 0]  = 1\n",
    "    A[-1, -1] = 1\n",
    "\n",
    "    A /= dt\n",
    "    \n",
    "    return A\n",
    "\n",
    "def compute_mass_matrix(K):\n",
    "    dt = 1/(K-1)\n",
    "\n",
    "    M = sparse.diags(np.array([2, 1])/6, offsets=[0, 1], shape = (K, K))\n",
    "    M = sparse.csr_matrix(M + M.T)\n",
    "    M[0, 0] /= 2\n",
    "    M[-1,-1] /= 2\n",
    "    M *= dt\n",
    "\n",
    "    return M"
   ]
  },
  {
   "cell_type": "code",
   "execution_count": 10,
   "id": "13c80518",
   "metadata": {},
   "outputs": [],
   "source": [
    "n_steps = 10\n",
    "dt = 1/(n_steps-1)\n",
    "scale = 1\n",
    "sigma_g = 100\n",
    "\n",
    "stiffness_orig = compute_diffusion_matrix(n_steps)\n",
    "mass_orig = compute_mass_matrix(n_steps)\n",
    "\n",
    "K = sparse.csr_matrix((n_steps+2,n_steps+2))\n",
    "K[1:-1, 1:-1] = scale * stiffness_orig + mass_orig\n",
    "K[0, 0] = 1\n",
    "K[1, 0] = 1\n",
    "K[-1, -1] = scale\n",
    "K[-2, -1] = -scale\n",
    "\n",
    "M = sparse.csr_matrix((n_steps+2,n_steps+2))\n",
    "M[1:-1, 1:-1] = mass_orig\n",
    "M[0, 0] = sigma_g**2\n",
    "M[-1, -1] = sigma_g**2"
   ]
  },
  {
   "cell_type": "code",
   "execution_count": 11,
   "id": "c69909b7",
   "metadata": {},
   "outputs": [],
   "source": [
    "state = np.linspace(0, 1, n_steps)\n",
    "state = state**2\n",
    "v = np.hstack([(state[1]-state[0])/dt, state, (state[-1]-state[-2])/dt])\n",
    "\n",
    "Kv = K @ v\n",
    "yolo = sla.spsolve(M, Kv)"
   ]
  },
  {
   "cell_type": "code",
   "execution_count": 12,
   "id": "efbb01df",
   "metadata": {},
   "outputs": [
    {
     "data": {
      "text/plain": [
       "2.9632920983868805"
      ]
     },
     "execution_count": 12,
     "metadata": {},
     "output_type": "execute_result"
    }
   ],
   "source": [
    "yolo.T @ Kv"
   ]
  },
  {
   "cell_type": "code",
   "execution_count": null,
   "id": "aab1422e",
   "metadata": {},
   "outputs": [],
   "source": []
  },
  {
   "cell_type": "code",
   "execution_count": null,
   "id": "801a962b",
   "metadata": {},
   "outputs": [],
   "source": []
  },
  {
   "cell_type": "code",
   "execution_count": 15,
   "id": "8fec742c",
   "metadata": {},
   "outputs": [],
   "source": [
    "reformat = sparse.csr_matrix((n_steps+2,n_steps))\n",
    "reformat[1:-1, :] = sparse.eye(n_steps)\n",
    "reformat[0, 0] = -1/dt\n",
    "reformat[0, 1] = 1/dt\n",
    "reformat[-1, -2] = -1/dt\n",
    "reformat[-1, -1] = 1/dt"
   ]
  },
  {
   "cell_type": "code",
   "execution_count": 16,
   "id": "086eccf8",
   "metadata": {},
   "outputs": [
    {
     "data": {
      "text/plain": [
       "array([[-9.,  9.,  0.,  0.,  0.,  0.,  0.,  0.,  0.,  0.],\n",
       "       [ 1.,  0.,  0.,  0.,  0.,  0.,  0.,  0.,  0.,  0.],\n",
       "       [ 0.,  1.,  0.,  0.,  0.,  0.,  0.,  0.,  0.,  0.],\n",
       "       [ 0.,  0.,  1.,  0.,  0.,  0.,  0.,  0.,  0.,  0.],\n",
       "       [ 0.,  0.,  0.,  1.,  0.,  0.,  0.,  0.,  0.,  0.],\n",
       "       [ 0.,  0.,  0.,  0.,  1.,  0.,  0.,  0.,  0.,  0.],\n",
       "       [ 0.,  0.,  0.,  0.,  0.,  1.,  0.,  0.,  0.,  0.],\n",
       "       [ 0.,  0.,  0.,  0.,  0.,  0.,  1.,  0.,  0.,  0.],\n",
       "       [ 0.,  0.,  0.,  0.,  0.,  0.,  0.,  1.,  0.,  0.],\n",
       "       [ 0.,  0.,  0.,  0.,  0.,  0.,  0.,  0.,  1.,  0.],\n",
       "       [ 0.,  0.,  0.,  0.,  0.,  0.,  0.,  0.,  0.,  1.],\n",
       "       [ 0.,  0.,  0.,  0.,  0.,  0.,  0.,  0., -9.,  9.]])"
      ]
     },
     "execution_count": 16,
     "metadata": {},
     "output_type": "execute_result"
    }
   ],
   "source": [
    "reformat.toarray()"
   ]
  },
  {
   "cell_type": "code",
   "execution_count": null,
   "id": "c4a24f04",
   "metadata": {},
   "outputs": [],
   "source": []
  },
  {
   "cell_type": "code",
   "execution_count": null,
   "id": "c81b8388",
   "metadata": {},
   "outputs": [],
   "source": []
  },
  {
   "cell_type": "code",
   "execution_count": null,
   "id": "d5998e2e",
   "metadata": {},
   "outputs": [],
   "source": [
    "please stop here"
   ]
  },
  {
   "cell_type": "code",
   "execution_count": null,
   "id": "385629b7",
   "metadata": {},
   "outputs": [],
   "source": [
    "def sparse_cholesky(A): # The input matrix A must be a sparse symmetric positive-definite.\n",
    "  \n",
    "    n = A.shape[0]\n",
    "    LU = sla.splu(A,diag_pivot_thresh=0) # sparse LU decomposition\n",
    "  \n",
    "    if ( LU.U.diagonal() > 0 ).all(): # check the matrix A is positive definite.\n",
    "        Pr = sparse.csc_matrix((np.ones(n_steps), (LU.perm_r, np.arange(n_steps))))\n",
    "        return Pr @ LU.L.dot( sparse.diags(LU.U.diagonal()**0.5) )\n",
    "    else:\n",
    "        sys.exit('The matrix is not positive definite')"
   ]
  },
  {
   "cell_type": "code",
   "execution_count": null,
   "id": "1cfc5a06",
   "metadata": {},
   "outputs": [],
   "source": [
    "def compute_diffusion_matrix(K):\n",
    "\n",
    "    dt = 1/(K-1)\n",
    "\n",
    "    A = sparse.diags([1, -1], offsets = [0, 1], shape=(K,K))\n",
    "    A = sparse.csr_matrix(A + A.T)\n",
    "    A[0, 0]  = 1\n",
    "    A[-1, -1] = 1\n",
    "\n",
    "    A /= dt\n",
    "    \n",
    "    return A\n",
    "\n",
    "def compute_diffusion_matrix_Neumann(K):\n",
    "\n",
    "    dt = 1/(K-1)\n",
    "\n",
    "    A = sparse.diags([1, -1], offsets = [0, 1], shape=(K,K))\n",
    "    A = sparse.csr_matrix(A + A.T)\n",
    "    A[0, 0]  = 1\n",
    "    A[-1, -1] = 1\n",
    "    \n",
    "    A[0, 0] -= 1\n",
    "    A[0, 1] += 1\n",
    "    \n",
    "    A[-1, -1] += 1\n",
    "    A[-1, -2] -= 1\n",
    "\n",
    "    A /= dt\n",
    "    \n",
    "    return A\n",
    "\n",
    "def compute_Neumann_BK(K):\n",
    "\n",
    "    test = sparse.csr_matrix((K,K))\n",
    "    test[0,0] = +1\n",
    "    test[-1, -1] = -1\n",
    "    \n",
    "    return test\n",
    "\n",
    "def compute_diffusion_matrix_Dirichlet(K):\n",
    "\n",
    "    dt = 1/(K-1)\n",
    "\n",
    "    A = sparse.diags([1, -1], offsets = [0, 1], shape=(K,K))\n",
    "    A = sparse.csr_matrix(A + A.T)\n",
    "\n",
    "    A[0, :] = 0\n",
    "    A[-1, :] = 0\n",
    "    A[:, 0] = 0\n",
    "    A[:, -1] = 0\n",
    "\n",
    "    A /= dt\n",
    "    \n",
    "    A[0, 0] = 1\n",
    "    A[-1, -1] = 1\n",
    "    \n",
    "    return A\n",
    "\n",
    "def compute_mass_matrix(K):\n",
    "    dt = 1/(K-1)\n",
    "\n",
    "    M = sparse.diags(np.array([2, 1])/6, offsets=[0, 1], shape = (K, K))\n",
    "    M = sparse.csr_matrix(M + M.T)\n",
    "    M[0, 0] /= 2\n",
    "    M[-1,-1] /= 2\n",
    "    M *= dt\n",
    "\n",
    "    return M\n",
    "\n",
    "def compute_mass_matrix_Dirichlet(K):\n",
    "    dt = 1/(K-1)\n",
    "\n",
    "    M = sparse.diags(np.array([2, 1])/6, offsets=[0, 1], shape = (K, K))\n",
    "    M = sparse.csr_matrix(M + M.T)\n",
    "    M[0, 0] /= 2\n",
    "    M[-1,-1] /= 2\n",
    "    M *= dt\n",
    "    \n",
    "    M[0, :] = 0\n",
    "    M[:, 0] = 0\n",
    "    M[-1, :] = 0\n",
    "    M[:, -1] = 0\n",
    "\n",
    "    return M"
   ]
  },
  {
   "cell_type": "markdown",
   "id": "88c3d256",
   "metadata": {},
   "source": [
    "## Uncertain Neumann boundary conditions for noise model"
   ]
  },
  {
   "cell_type": "code",
   "execution_count": null,
   "id": "74ebbff7",
   "metadata": {},
   "outputs": [],
   "source": [
    "n_steps = 10000\n",
    "dt = 1/(n_steps-1)\n",
    "A = compute_diffusion_matrix_Neumann(n_steps)\n",
    "M = compute_mass_matrix(n_steps)\n",
    "\n",
    "K = A + M"
   ]
  },
  {
   "cell_type": "code",
   "execution_count": null,
   "id": "4f955fc4",
   "metadata": {},
   "outputs": [],
   "source": [
    "v = np.linspace(0, 1, n_steps)\n",
    "\n",
    "Kv = K@v\n",
    "\n",
    "yolo = sla.spsolve(M, Kv)\n",
    "print(Kv.T @ yolo)"
   ]
  },
  {
   "cell_type": "code",
   "execution_count": null,
   "id": "0ab31244",
   "metadata": {},
   "outputs": [],
   "source": [
    "Kv"
   ]
  },
  {
   "cell_type": "code",
   "execution_count": null,
   "id": "558630d5",
   "metadata": {},
   "outputs": [],
   "source": []
  },
  {
   "cell_type": "code",
   "execution_count": null,
   "id": "05eaf714",
   "metadata": {},
   "outputs": [],
   "source": []
  },
  {
   "cell_type": "code",
   "execution_count": null,
   "id": "1be9b08e",
   "metadata": {},
   "outputs": [],
   "source": [
    "please stop here"
   ]
  },
  {
   "cell_type": "markdown",
   "id": "ebac682d",
   "metadata": {},
   "source": [
    "## Dirichlet boundary conditions for noise model"
   ]
  },
  {
   "cell_type": "code",
   "execution_count": null,
   "id": "454d05e8",
   "metadata": {},
   "outputs": [],
   "source": [
    "n_steps = 10\n",
    "dt = 1/(n_steps-1)\n",
    "A = compute_diffusion_matrix_Dirichlet(n_steps)\n",
    "M = compute_mass_matrix(n_steps)\n",
    "M_D = compute_mass_matrix_Dirichlet(n_steps)\n",
    "\n",
    "K = 0.01*A + M_D\n",
    "K[0, 0] = 1\n",
    "K[-1, -1] = 1\n",
    "\n",
    "# M = M[1:-1, :]\n",
    "# M = M[:, 1:-1]"
   ]
  },
  {
   "cell_type": "code",
   "execution_count": null,
   "id": "4fa8d389",
   "metadata": {},
   "outputs": [],
   "source": [
    "v = np.linspace(0, 1, n_steps)\n",
    "\n",
    "Kv = K@v\n",
    "#Kv = Kv[1:-1]\n",
    "\n",
    "yolo = sla.spsolve(M, Kv)\n",
    "print(Kv.T @ yolo)"
   ]
  },
  {
   "cell_type": "code",
   "execution_count": null,
   "id": "dce00c3a",
   "metadata": {},
   "outputs": [],
   "source": []
  },
  {
   "cell_type": "code",
   "execution_count": null,
   "id": "e497e6be",
   "metadata": {},
   "outputs": [],
   "source": []
  },
  {
   "cell_type": "code",
   "execution_count": null,
   "id": "ac630a67",
   "metadata": {},
   "outputs": [],
   "source": []
  },
  {
   "cell_type": "code",
   "execution_count": null,
   "id": "12e27ea5",
   "metadata": {},
   "outputs": [],
   "source": [
    "please stop here"
   ]
  },
  {
   "cell_type": "code",
   "execution_count": null,
   "id": "d6866cf5",
   "metadata": {},
   "outputs": [],
   "source": [
    "n_steps = 100\n",
    "dt = 1/(n_steps-1)\n",
    "A = compute_diffusion_matrix_Dirichlet(n_steps)\n",
    "M = compute_mass_matrix(n_steps)\n",
    "K = (0.01*A + compute_mass_matrix_Dirichlet(n_steps))"
   ]
  },
  {
   "cell_type": "code",
   "execution_count": null,
   "id": "a599a67e",
   "metadata": {},
   "outputs": [],
   "source": [
    "v = np.linspace(0, 1, n_steps)\n",
    "\n",
    "Kv = K@v\n",
    "yolo = sla.spsolve(M, Kv)\n",
    "print(Kv.T @ yolo)"
   ]
  },
  {
   "cell_type": "code",
   "execution_count": null,
   "id": "91508999",
   "metadata": {},
   "outputs": [],
   "source": [
    "Kv"
   ]
  },
  {
   "cell_type": "code",
   "execution_count": null,
   "id": "fdbb7dbc",
   "metadata": {},
   "outputs": [],
   "source": [
    "yolo"
   ]
  },
  {
   "cell_type": "code",
   "execution_count": null,
   "id": "75a589b7",
   "metadata": {},
   "outputs": [],
   "source": []
  },
  {
   "cell_type": "code",
   "execution_count": null,
   "id": "c47b262c",
   "metadata": {},
   "outputs": [],
   "source": []
  },
  {
   "cell_type": "code",
   "execution_count": null,
   "id": "2d704bc9",
   "metadata": {},
   "outputs": [],
   "source": []
  },
  {
   "cell_type": "markdown",
   "id": "b96c04e5",
   "metadata": {},
   "source": [
    "## older test code below"
   ]
  },
  {
   "cell_type": "code",
   "execution_count": null,
   "id": "820b892c",
   "metadata": {},
   "outputs": [],
   "source": [
    "n_steps = 10000\n",
    "dt = 1/(n_steps-1)\n",
    "A = compute_diffusion_matrix(n_steps)\n",
    "M = compute_mass_matrix(n_steps)\n",
    "K = (0.01*A + M)"
   ]
  },
  {
   "cell_type": "code",
   "execution_count": null,
   "id": "396c1fd1",
   "metadata": {},
   "outputs": [],
   "source": [
    "#v = np.ones((n_steps,))\n",
    "#v = np.random.normal(size=(n_steps,))\n",
    "\n",
    "v = np.linspace(0, 1, n_steps)\n",
    "#v = v**2\n",
    "#v = (v**2)*(v-1)**2\n",
    "\n",
    "Kv = K@v\n",
    "#Kv[0] = 0\n",
    "#Kv[-1] = 0\n",
    "yolo = sla.spsolve(M, Kv)\n",
    "\n",
    "# Mv = M@v\n",
    "# yolo = sla.spsolve(K, Mv)"
   ]
  },
  {
   "cell_type": "code",
   "execution_count": null,
   "id": "6ee9ac38",
   "metadata": {},
   "outputs": [],
   "source": [
    "Kv.T @ yolo"
   ]
  },
  {
   "cell_type": "code",
   "execution_count": null,
   "id": "83f52e2a",
   "metadata": {},
   "outputs": [],
   "source": [
    "Kv[:5]"
   ]
  },
  {
   "cell_type": "code",
   "execution_count": null,
   "id": "ebff3ca8",
   "metadata": {},
   "outputs": [],
   "source": [
    "Kv[-5:]"
   ]
  },
  {
   "cell_type": "code",
   "execution_count": null,
   "id": "9be4d0f6",
   "metadata": {},
   "outputs": [],
   "source": [
    "yolo[:5]"
   ]
  },
  {
   "cell_type": "code",
   "execution_count": null,
   "id": "d15841c0",
   "metadata": {},
   "outputs": [],
   "source": [
    "A.toarray() * dt"
   ]
  },
  {
   "cell_type": "code",
   "execution_count": null,
   "id": "45fdb223",
   "metadata": {},
   "outputs": [],
   "source": []
  },
  {
   "cell_type": "code",
   "execution_count": null,
   "id": "a81f8d4b",
   "metadata": {},
   "outputs": [],
   "source": []
  },
  {
   "cell_type": "code",
   "execution_count": null,
   "id": "bd139cfd",
   "metadata": {},
   "outputs": [],
   "source": []
  },
  {
   "cell_type": "code",
   "execution_count": null,
   "id": "79112ca0",
   "metadata": {},
   "outputs": [],
   "source": []
  },
  {
   "cell_type": "code",
   "execution_count": null,
   "id": "fdeb7a22",
   "metadata": {},
   "outputs": [],
   "source": []
  },
  {
   "cell_type": "code",
   "execution_count": null,
   "id": "2814178b",
   "metadata": {},
   "outputs": [],
   "source": [
    "Chol = sparse_cholesky(M)"
   ]
  },
  {
   "cell_type": "code",
   "execution_count": null,
   "id": "9db5b577",
   "metadata": {},
   "outputs": [],
   "source": [
    "sample = np.random.normal(size=(n_steps, 5))\n",
    "sample = sla.spsolve(K, Chol @ sample)"
   ]
  },
  {
   "cell_type": "code",
   "execution_count": null,
   "id": "4e551296",
   "metadata": {},
   "outputs": [],
   "source": [
    "for i in range(5):\n",
    "    plt.plot(sample[:, i])"
   ]
  },
  {
   "cell_type": "code",
   "execution_count": null,
   "id": "e152941b",
   "metadata": {},
   "outputs": [],
   "source": [
    "sample.shape"
   ]
  },
  {
   "cell_type": "markdown",
   "id": "7f4d67fd",
   "metadata": {},
   "source": [
    "**welcome back!**\n",
    "Next steps:\n",
    "- Check that noise-norm for measurements indeed converges for `dt` towards 0\n",
    "- choose scaling factors for reasonable signal to noise ratio\n",
    "- filter interpretation?"
   ]
  },
  {
   "cell_type": "code",
   "execution_count": null,
   "id": "90dbc380",
   "metadata": {},
   "outputs": [],
   "source": []
  },
  {
   "cell_type": "code",
   "execution_count": null,
   "id": "97dbdf01",
   "metadata": {},
   "outputs": [],
   "source": []
  },
  {
   "cell_type": "code",
   "execution_count": null,
   "id": "f00417c8",
   "metadata": {},
   "outputs": [],
   "source": []
  },
  {
   "cell_type": "code",
   "execution_count": null,
   "id": "cd56cc86",
   "metadata": {},
   "outputs": [],
   "source": []
  },
  {
   "cell_type": "code",
   "execution_count": 17,
   "id": "a8da5e15",
   "metadata": {},
   "outputs": [
    {
     "name": "stderr",
     "output_type": "stream",
     "text": [
      "/Users/nicole/anaconda3/envs/m2dt_oed_FEniCS/lib/python3.10/site-packages/scipy/sparse/linalg/dsolve/linsolve.py:318: SparseEfficiencyWarning: splu requires CSC matrix format\n",
      "  warn('splu requires CSC matrix format', SparseEfficiencyWarning)\n"
     ]
    }
   ],
   "source": [
    "LU = sla.splu(M, diag_pivot_thresh=1000)"
   ]
  },
  {
   "cell_type": "code",
   "execution_count": 18,
   "id": "61de6c47",
   "metadata": {},
   "outputs": [
    {
     "data": {
      "text/plain": [
       "array([ 0,  2,  3,  4,  5,  6,  7,  8, 10,  9, 11,  1], dtype=int32)"
      ]
     },
     "execution_count": 18,
     "metadata": {},
     "output_type": "execute_result"
    }
   ],
   "source": [
    "LU.perm_r"
   ]
  },
  {
   "cell_type": "code",
   "execution_count": 19,
   "id": "5a8b512a",
   "metadata": {},
   "outputs": [
    {
     "data": {
      "text/plain": [
       "array([1.00000000e+04, 1.00000000e+04, 3.70370370e-02, 6.48148148e-02,\n",
       "       6.87830688e-02, 6.90883191e-02, 6.91103475e-02, 6.91119296e-02,\n",
       "       6.91120432e-02, 7.40740741e-02, 6.44824217e-02, 3.20750150e-02])"
      ]
     },
     "execution_count": 19,
     "metadata": {},
     "output_type": "execute_result"
    }
   ],
   "source": [
    "LU.U.diagonal()"
   ]
  },
  {
   "cell_type": "code",
   "execution_count": 20,
   "id": "a4b5636d",
   "metadata": {},
   "outputs": [],
   "source": [
    "test = LU.L.dot( sparse.diags(LU.U.diagonal()**0.5) )"
   ]
  },
  {
   "cell_type": "code",
   "execution_count": 21,
   "id": "a58c4089",
   "metadata": {},
   "outputs": [
    {
     "data": {
      "text/plain": [
       "array([[1.00000000e+04, 0.00000000e+00, 0.00000000e+00, 0.00000000e+00,\n",
       "        0.00000000e+00, 0.00000000e+00, 0.00000000e+00, 0.00000000e+00,\n",
       "        0.00000000e+00, 0.00000000e+00, 0.00000000e+00, 0.00000000e+00],\n",
       "       [0.00000000e+00, 1.00000000e+04, 0.00000000e+00, 0.00000000e+00,\n",
       "        0.00000000e+00, 0.00000000e+00, 0.00000000e+00, 0.00000000e+00,\n",
       "        0.00000000e+00, 0.00000000e+00, 0.00000000e+00, 0.00000000e+00],\n",
       "       [0.00000000e+00, 0.00000000e+00, 3.70370370e-02, 1.85185185e-02,\n",
       "        0.00000000e+00, 0.00000000e+00, 0.00000000e+00, 0.00000000e+00,\n",
       "        0.00000000e+00, 0.00000000e+00, 0.00000000e+00, 0.00000000e+00],\n",
       "       [0.00000000e+00, 0.00000000e+00, 1.85185185e-02, 7.40740741e-02,\n",
       "        1.85185185e-02, 0.00000000e+00, 0.00000000e+00, 0.00000000e+00,\n",
       "        0.00000000e+00, 0.00000000e+00, 0.00000000e+00, 0.00000000e+00],\n",
       "       [0.00000000e+00, 0.00000000e+00, 0.00000000e+00, 1.85185185e-02,\n",
       "        7.40740741e-02, 1.85185185e-02, 0.00000000e+00, 0.00000000e+00,\n",
       "        0.00000000e+00, 0.00000000e+00, 0.00000000e+00, 0.00000000e+00],\n",
       "       [0.00000000e+00, 0.00000000e+00, 0.00000000e+00, 0.00000000e+00,\n",
       "        1.85185185e-02, 7.40740741e-02, 1.85185185e-02, 0.00000000e+00,\n",
       "        0.00000000e+00, 0.00000000e+00, 0.00000000e+00, 0.00000000e+00],\n",
       "       [0.00000000e+00, 0.00000000e+00, 0.00000000e+00, 0.00000000e+00,\n",
       "        0.00000000e+00, 1.85185185e-02, 7.40740741e-02, 1.85185185e-02,\n",
       "        0.00000000e+00, 0.00000000e+00, 0.00000000e+00, 0.00000000e+00],\n",
       "       [0.00000000e+00, 0.00000000e+00, 0.00000000e+00, 0.00000000e+00,\n",
       "        0.00000000e+00, 0.00000000e+00, 1.85185185e-02, 7.40740741e-02,\n",
       "        1.85185185e-02, 0.00000000e+00, 0.00000000e+00, 0.00000000e+00],\n",
       "       [0.00000000e+00, 0.00000000e+00, 0.00000000e+00, 0.00000000e+00,\n",
       "        0.00000000e+00, 0.00000000e+00, 0.00000000e+00, 1.85185185e-02,\n",
       "        7.40740741e-02, 0.00000000e+00, 1.85185185e-02, 0.00000000e+00],\n",
       "       [0.00000000e+00, 0.00000000e+00, 0.00000000e+00, 0.00000000e+00,\n",
       "        0.00000000e+00, 0.00000000e+00, 0.00000000e+00, 0.00000000e+00,\n",
       "        0.00000000e+00, 7.40740741e-02, 1.85185185e-02, 1.85185185e-02],\n",
       "       [0.00000000e+00, 0.00000000e+00, 0.00000000e+00, 0.00000000e+00,\n",
       "        0.00000000e+00, 0.00000000e+00, 0.00000000e+00, 0.00000000e+00,\n",
       "        1.85185185e-02, 1.85185185e-02, 7.40740741e-02, 8.88877253e-19],\n",
       "       [0.00000000e+00, 0.00000000e+00, 0.00000000e+00, 0.00000000e+00,\n",
       "        0.00000000e+00, 0.00000000e+00, 0.00000000e+00, 0.00000000e+00,\n",
       "        0.00000000e+00, 1.85185185e-02, 8.88877253e-19, 3.70370370e-02]])"
      ]
     },
     "execution_count": 21,
     "metadata": {},
     "output_type": "execute_result"
    }
   ],
   "source": [
    "test.toarray() @ test.toarray().T"
   ]
  },
  {
   "cell_type": "code",
   "execution_count": 22,
   "id": "d6fd8cc9",
   "metadata": {},
   "outputs": [
    {
     "data": {
      "text/plain": [
       "array([[1.00000000e+04, 0.00000000e+00, 0.00000000e+00, 0.00000000e+00,\n",
       "        0.00000000e+00, 0.00000000e+00, 0.00000000e+00, 0.00000000e+00,\n",
       "        0.00000000e+00, 0.00000000e+00, 0.00000000e+00, 0.00000000e+00],\n",
       "       [0.00000000e+00, 3.70370370e-02, 1.85185185e-02, 0.00000000e+00,\n",
       "        0.00000000e+00, 0.00000000e+00, 0.00000000e+00, 0.00000000e+00,\n",
       "        0.00000000e+00, 0.00000000e+00, 0.00000000e+00, 0.00000000e+00],\n",
       "       [0.00000000e+00, 1.85185185e-02, 7.40740741e-02, 1.85185185e-02,\n",
       "        0.00000000e+00, 0.00000000e+00, 0.00000000e+00, 0.00000000e+00,\n",
       "        0.00000000e+00, 0.00000000e+00, 0.00000000e+00, 0.00000000e+00],\n",
       "       [0.00000000e+00, 0.00000000e+00, 1.85185185e-02, 7.40740741e-02,\n",
       "        1.85185185e-02, 0.00000000e+00, 0.00000000e+00, 0.00000000e+00,\n",
       "        0.00000000e+00, 0.00000000e+00, 0.00000000e+00, 0.00000000e+00],\n",
       "       [0.00000000e+00, 0.00000000e+00, 0.00000000e+00, 1.85185185e-02,\n",
       "        7.40740741e-02, 1.85185185e-02, 0.00000000e+00, 0.00000000e+00,\n",
       "        0.00000000e+00, 0.00000000e+00, 0.00000000e+00, 0.00000000e+00],\n",
       "       [0.00000000e+00, 0.00000000e+00, 0.00000000e+00, 0.00000000e+00,\n",
       "        1.85185185e-02, 7.40740741e-02, 1.85185185e-02, 0.00000000e+00,\n",
       "        0.00000000e+00, 0.00000000e+00, 0.00000000e+00, 0.00000000e+00],\n",
       "       [0.00000000e+00, 0.00000000e+00, 0.00000000e+00, 0.00000000e+00,\n",
       "        0.00000000e+00, 1.85185185e-02, 7.40740741e-02, 1.85185185e-02,\n",
       "        0.00000000e+00, 0.00000000e+00, 0.00000000e+00, 0.00000000e+00],\n",
       "       [0.00000000e+00, 0.00000000e+00, 0.00000000e+00, 0.00000000e+00,\n",
       "        0.00000000e+00, 0.00000000e+00, 1.85185185e-02, 7.40740741e-02,\n",
       "        1.85185185e-02, 0.00000000e+00, 0.00000000e+00, 0.00000000e+00],\n",
       "       [0.00000000e+00, 0.00000000e+00, 0.00000000e+00, 0.00000000e+00,\n",
       "        0.00000000e+00, 0.00000000e+00, 0.00000000e+00, 1.85185185e-02,\n",
       "        7.40740741e-02, 1.85185185e-02, 0.00000000e+00, 0.00000000e+00],\n",
       "       [0.00000000e+00, 0.00000000e+00, 0.00000000e+00, 0.00000000e+00,\n",
       "        0.00000000e+00, 0.00000000e+00, 0.00000000e+00, 0.00000000e+00,\n",
       "        1.85185185e-02, 7.40740741e-02, 1.85185185e-02, 0.00000000e+00],\n",
       "       [0.00000000e+00, 0.00000000e+00, 0.00000000e+00, 0.00000000e+00,\n",
       "        0.00000000e+00, 0.00000000e+00, 0.00000000e+00, 0.00000000e+00,\n",
       "        0.00000000e+00, 1.85185185e-02, 3.70370370e-02, 0.00000000e+00],\n",
       "       [0.00000000e+00, 0.00000000e+00, 0.00000000e+00, 0.00000000e+00,\n",
       "        0.00000000e+00, 0.00000000e+00, 0.00000000e+00, 0.00000000e+00,\n",
       "        0.00000000e+00, 0.00000000e+00, 0.00000000e+00, 1.00000000e+04]])"
      ]
     },
     "execution_count": 22,
     "metadata": {},
     "output_type": "execute_result"
    }
   ],
   "source": [
    "M.toarray()"
   ]
  },
  {
   "cell_type": "code",
   "execution_count": 23,
   "id": "df4dd403",
   "metadata": {},
   "outputs": [
    {
     "data": {
      "text/plain": [
       "array([[1.00000000e+04, 0.00000000e+00, 0.00000000e+00, 0.00000000e+00,\n",
       "        0.00000000e+00, 0.00000000e+00, 0.00000000e+00, 0.00000000e+00,\n",
       "        0.00000000e+00, 0.00000000e+00, 0.00000000e+00, 0.00000000e+00],\n",
       "       [0.00000000e+00, 3.70370370e-02, 1.85185185e-02, 0.00000000e+00,\n",
       "        0.00000000e+00, 0.00000000e+00, 0.00000000e+00, 0.00000000e+00,\n",
       "        0.00000000e+00, 0.00000000e+00, 0.00000000e+00, 0.00000000e+00],\n",
       "       [0.00000000e+00, 1.85185185e-02, 7.40740741e-02, 1.85185185e-02,\n",
       "        0.00000000e+00, 0.00000000e+00, 0.00000000e+00, 0.00000000e+00,\n",
       "        0.00000000e+00, 0.00000000e+00, 0.00000000e+00, 0.00000000e+00],\n",
       "       [0.00000000e+00, 0.00000000e+00, 1.85185185e-02, 7.40740741e-02,\n",
       "        1.85185185e-02, 0.00000000e+00, 0.00000000e+00, 0.00000000e+00,\n",
       "        0.00000000e+00, 0.00000000e+00, 0.00000000e+00, 0.00000000e+00],\n",
       "       [0.00000000e+00, 0.00000000e+00, 0.00000000e+00, 1.85185185e-02,\n",
       "        7.40740741e-02, 1.85185185e-02, 0.00000000e+00, 0.00000000e+00,\n",
       "        0.00000000e+00, 0.00000000e+00, 0.00000000e+00, 0.00000000e+00],\n",
       "       [0.00000000e+00, 0.00000000e+00, 0.00000000e+00, 0.00000000e+00,\n",
       "        1.85185185e-02, 7.40740741e-02, 1.85185185e-02, 0.00000000e+00,\n",
       "        0.00000000e+00, 0.00000000e+00, 0.00000000e+00, 0.00000000e+00],\n",
       "       [0.00000000e+00, 0.00000000e+00, 0.00000000e+00, 0.00000000e+00,\n",
       "        0.00000000e+00, 1.85185185e-02, 7.40740741e-02, 1.85185185e-02,\n",
       "        0.00000000e+00, 0.00000000e+00, 0.00000000e+00, 0.00000000e+00],\n",
       "       [0.00000000e+00, 0.00000000e+00, 0.00000000e+00, 0.00000000e+00,\n",
       "        0.00000000e+00, 0.00000000e+00, 1.85185185e-02, 7.40740741e-02,\n",
       "        1.85185185e-02, 0.00000000e+00, 0.00000000e+00, 0.00000000e+00],\n",
       "       [0.00000000e+00, 0.00000000e+00, 0.00000000e+00, 0.00000000e+00,\n",
       "        0.00000000e+00, 0.00000000e+00, 0.00000000e+00, 1.85185185e-02,\n",
       "        7.40740741e-02, 1.85185185e-02, 0.00000000e+00, 0.00000000e+00],\n",
       "       [0.00000000e+00, 0.00000000e+00, 0.00000000e+00, 0.00000000e+00,\n",
       "        0.00000000e+00, 0.00000000e+00, 0.00000000e+00, 0.00000000e+00,\n",
       "        1.85185185e-02, 7.40740741e-02, 1.85185185e-02, 0.00000000e+00],\n",
       "       [0.00000000e+00, 0.00000000e+00, 0.00000000e+00, 0.00000000e+00,\n",
       "        0.00000000e+00, 0.00000000e+00, 0.00000000e+00, 0.00000000e+00,\n",
       "        0.00000000e+00, 1.85185185e-02, 3.70370370e-02, 0.00000000e+00],\n",
       "       [0.00000000e+00, 0.00000000e+00, 0.00000000e+00, 0.00000000e+00,\n",
       "        0.00000000e+00, 0.00000000e+00, 0.00000000e+00, 0.00000000e+00,\n",
       "        0.00000000e+00, 0.00000000e+00, 0.00000000e+00, 1.00000000e+04]])"
      ]
     },
     "execution_count": 23,
     "metadata": {},
     "output_type": "execute_result"
    }
   ],
   "source": [
    "M.toarray()"
   ]
  },
  {
   "cell_type": "code",
   "execution_count": 24,
   "id": "644bfe69",
   "metadata": {},
   "outputs": [
    {
     "ename": "ValueError",
     "evalue": "row, column, and data array must all be the same length",
     "output_type": "error",
     "traceback": [
      "\u001b[0;31m---------------------------------------------------------------------------\u001b[0m",
      "\u001b[0;31mValueError\u001b[0m                                Traceback (most recent call last)",
      "\u001b[0;32m/var/folders/_k/q9sdsmfx2j35cmp3z9tn84km0000gp/T/ipykernel_3156/1169518883.py\u001b[0m in \u001b[0;36m<module>\u001b[0;34m\u001b[0m\n\u001b[0;32m----> 1\u001b[0;31m \u001b[0mPr\u001b[0m \u001b[0;34m=\u001b[0m \u001b[0msparse\u001b[0m\u001b[0;34m.\u001b[0m\u001b[0mcsc_matrix\u001b[0m\u001b[0;34m(\u001b[0m\u001b[0;34m(\u001b[0m\u001b[0mnp\u001b[0m\u001b[0;34m.\u001b[0m\u001b[0mones\u001b[0m\u001b[0;34m(\u001b[0m\u001b[0mn_steps\u001b[0m\u001b[0;34m)\u001b[0m\u001b[0;34m,\u001b[0m \u001b[0;34m(\u001b[0m\u001b[0mLU\u001b[0m\u001b[0;34m.\u001b[0m\u001b[0mperm_r\u001b[0m\u001b[0;34m,\u001b[0m \u001b[0mnp\u001b[0m\u001b[0;34m.\u001b[0m\u001b[0marange\u001b[0m\u001b[0;34m(\u001b[0m\u001b[0mn_steps\u001b[0m\u001b[0;34m)\u001b[0m\u001b[0;34m)\u001b[0m\u001b[0;34m)\u001b[0m\u001b[0;34m)\u001b[0m\u001b[0;34m\u001b[0m\u001b[0;34m\u001b[0m\u001b[0m\n\u001b[0m\u001b[1;32m      2\u001b[0m \u001b[0mPc\u001b[0m \u001b[0;34m=\u001b[0m \u001b[0msparse\u001b[0m\u001b[0;34m.\u001b[0m\u001b[0mcsc_matrix\u001b[0m\u001b[0;34m(\u001b[0m\u001b[0;34m(\u001b[0m\u001b[0mnp\u001b[0m\u001b[0;34m.\u001b[0m\u001b[0mones\u001b[0m\u001b[0;34m(\u001b[0m\u001b[0mn_steps\u001b[0m\u001b[0;34m)\u001b[0m\u001b[0;34m,\u001b[0m \u001b[0;34m(\u001b[0m\u001b[0mnp\u001b[0m\u001b[0;34m.\u001b[0m\u001b[0marange\u001b[0m\u001b[0;34m(\u001b[0m\u001b[0mn_steps\u001b[0m\u001b[0;34m)\u001b[0m\u001b[0;34m,\u001b[0m \u001b[0mLU\u001b[0m\u001b[0;34m.\u001b[0m\u001b[0mperm_c\u001b[0m\u001b[0;34m)\u001b[0m\u001b[0;34m)\u001b[0m\u001b[0;34m)\u001b[0m\u001b[0;34m\u001b[0m\u001b[0;34m\u001b[0m\u001b[0m\n\u001b[1;32m      3\u001b[0m \u001b[0;34m\u001b[0m\u001b[0m\n\u001b[1;32m      4\u001b[0m \u001b[0mPr\u001b[0m\u001b[0;34m.\u001b[0m\u001b[0mT\u001b[0m \u001b[0;34m@\u001b[0m \u001b[0;34m(\u001b[0m\u001b[0mLU\u001b[0m\u001b[0;34m.\u001b[0m\u001b[0mL\u001b[0m \u001b[0;34m@\u001b[0m \u001b[0mLU\u001b[0m\u001b[0;34m.\u001b[0m\u001b[0mU\u001b[0m\u001b[0;34m)\u001b[0m\u001b[0;34m.\u001b[0m\u001b[0mtoarray\u001b[0m\u001b[0;34m(\u001b[0m\u001b[0;34m)\u001b[0m \u001b[0;34m@\u001b[0m \u001b[0mPc\u001b[0m\u001b[0;34m.\u001b[0m\u001b[0mT\u001b[0m\u001b[0;34m\u001b[0m\u001b[0;34m\u001b[0m\u001b[0m\n",
      "\u001b[0;32m~/anaconda3/envs/m2dt_oed_FEniCS/lib/python3.10/site-packages/scipy/sparse/compressed.py\u001b[0m in \u001b[0;36m__init__\u001b[0;34m(self, arg1, shape, dtype, copy)\u001b[0m\n\u001b[1;32m     52\u001b[0m                     \u001b[0;31m# (data, ij) format\u001b[0m\u001b[0;34m\u001b[0m\u001b[0;34m\u001b[0m\u001b[0m\n\u001b[1;32m     53\u001b[0m                     \u001b[0;32mfrom\u001b[0m \u001b[0;34m.\u001b[0m\u001b[0mcoo\u001b[0m \u001b[0;32mimport\u001b[0m \u001b[0mcoo_matrix\u001b[0m\u001b[0;34m\u001b[0m\u001b[0;34m\u001b[0m\u001b[0m\n\u001b[0;32m---> 54\u001b[0;31m                     other = self.__class__(coo_matrix(arg1, shape=shape,\n\u001b[0m\u001b[1;32m     55\u001b[0m                                                       dtype=dtype))\n\u001b[1;32m     56\u001b[0m                     \u001b[0mself\u001b[0m\u001b[0;34m.\u001b[0m\u001b[0m_set_self\u001b[0m\u001b[0;34m(\u001b[0m\u001b[0mother\u001b[0m\u001b[0;34m)\u001b[0m\u001b[0;34m\u001b[0m\u001b[0;34m\u001b[0m\u001b[0m\n",
      "\u001b[0;32m~/anaconda3/envs/m2dt_oed_FEniCS/lib/python3.10/site-packages/scipy/sparse/coo.py\u001b[0m in \u001b[0;36m__init__\u001b[0;34m(self, arg1, shape, dtype, copy)\u001b[0m\n\u001b[1;32m    194\u001b[0m             \u001b[0mself\u001b[0m\u001b[0;34m.\u001b[0m\u001b[0mdata\u001b[0m \u001b[0;34m=\u001b[0m \u001b[0mself\u001b[0m\u001b[0;34m.\u001b[0m\u001b[0mdata\u001b[0m\u001b[0;34m.\u001b[0m\u001b[0mastype\u001b[0m\u001b[0;34m(\u001b[0m\u001b[0mdtype\u001b[0m\u001b[0;34m,\u001b[0m \u001b[0mcopy\u001b[0m\u001b[0;34m=\u001b[0m\u001b[0;32mFalse\u001b[0m\u001b[0;34m)\u001b[0m\u001b[0;34m\u001b[0m\u001b[0;34m\u001b[0m\u001b[0m\n\u001b[1;32m    195\u001b[0m \u001b[0;34m\u001b[0m\u001b[0m\n\u001b[0;32m--> 196\u001b[0;31m         \u001b[0mself\u001b[0m\u001b[0;34m.\u001b[0m\u001b[0m_check\u001b[0m\u001b[0;34m(\u001b[0m\u001b[0;34m)\u001b[0m\u001b[0;34m\u001b[0m\u001b[0;34m\u001b[0m\u001b[0m\n\u001b[0m\u001b[1;32m    197\u001b[0m \u001b[0;34m\u001b[0m\u001b[0m\n\u001b[1;32m    198\u001b[0m     \u001b[0;32mdef\u001b[0m \u001b[0mreshape\u001b[0m\u001b[0;34m(\u001b[0m\u001b[0mself\u001b[0m\u001b[0;34m,\u001b[0m \u001b[0;34m*\u001b[0m\u001b[0margs\u001b[0m\u001b[0;34m,\u001b[0m \u001b[0;34m**\u001b[0m\u001b[0mkwargs\u001b[0m\u001b[0;34m)\u001b[0m\u001b[0;34m:\u001b[0m\u001b[0;34m\u001b[0m\u001b[0;34m\u001b[0m\u001b[0m\n",
      "\u001b[0;32m~/anaconda3/envs/m2dt_oed_FEniCS/lib/python3.10/site-packages/scipy/sparse/coo.py\u001b[0m in \u001b[0;36m_check\u001b[0;34m(self)\u001b[0m\n\u001b[1;32m    279\u001b[0m         \u001b[0mself\u001b[0m\u001b[0;34m.\u001b[0m\u001b[0mdata\u001b[0m \u001b[0;34m=\u001b[0m \u001b[0mto_native\u001b[0m\u001b[0;34m(\u001b[0m\u001b[0mself\u001b[0m\u001b[0;34m.\u001b[0m\u001b[0mdata\u001b[0m\u001b[0;34m)\u001b[0m\u001b[0;34m\u001b[0m\u001b[0;34m\u001b[0m\u001b[0m\n\u001b[1;32m    280\u001b[0m \u001b[0;34m\u001b[0m\u001b[0m\n\u001b[0;32m--> 281\u001b[0;31m         \u001b[0;32mif\u001b[0m \u001b[0mself\u001b[0m\u001b[0;34m.\u001b[0m\u001b[0mnnz\u001b[0m \u001b[0;34m>\u001b[0m \u001b[0;36m0\u001b[0m\u001b[0;34m:\u001b[0m\u001b[0;34m\u001b[0m\u001b[0;34m\u001b[0m\u001b[0m\n\u001b[0m\u001b[1;32m    282\u001b[0m             \u001b[0;32mif\u001b[0m \u001b[0mself\u001b[0m\u001b[0;34m.\u001b[0m\u001b[0mrow\u001b[0m\u001b[0;34m.\u001b[0m\u001b[0mmax\u001b[0m\u001b[0;34m(\u001b[0m\u001b[0;34m)\u001b[0m \u001b[0;34m>=\u001b[0m \u001b[0mself\u001b[0m\u001b[0;34m.\u001b[0m\u001b[0mshape\u001b[0m\u001b[0;34m[\u001b[0m\u001b[0;36m0\u001b[0m\u001b[0;34m]\u001b[0m\u001b[0;34m:\u001b[0m\u001b[0;34m\u001b[0m\u001b[0;34m\u001b[0m\u001b[0m\n\u001b[1;32m    283\u001b[0m                 \u001b[0;32mraise\u001b[0m \u001b[0mValueError\u001b[0m\u001b[0;34m(\u001b[0m\u001b[0;34m'row index exceeds matrix dimensions'\u001b[0m\u001b[0;34m)\u001b[0m\u001b[0;34m\u001b[0m\u001b[0;34m\u001b[0m\u001b[0m\n",
      "\u001b[0;32m~/anaconda3/envs/m2dt_oed_FEniCS/lib/python3.10/site-packages/scipy/sparse/base.py\u001b[0m in \u001b[0;36mnnz\u001b[0;34m(self)\u001b[0m\n\u001b[1;32m    244\u001b[0m         \u001b[0mcount_nonzero\u001b[0m \u001b[0;34m:\u001b[0m \u001b[0mNumber\u001b[0m \u001b[0mof\u001b[0m \u001b[0mnon\u001b[0m\u001b[0;34m-\u001b[0m\u001b[0mzero\u001b[0m \u001b[0mentries\u001b[0m\u001b[0;34m\u001b[0m\u001b[0;34m\u001b[0m\u001b[0m\n\u001b[1;32m    245\u001b[0m         \"\"\"\n\u001b[0;32m--> 246\u001b[0;31m         \u001b[0;32mreturn\u001b[0m \u001b[0mself\u001b[0m\u001b[0;34m.\u001b[0m\u001b[0mgetnnz\u001b[0m\u001b[0;34m(\u001b[0m\u001b[0;34m)\u001b[0m\u001b[0;34m\u001b[0m\u001b[0;34m\u001b[0m\u001b[0m\n\u001b[0m\u001b[1;32m    247\u001b[0m \u001b[0;34m\u001b[0m\u001b[0m\n\u001b[1;32m    248\u001b[0m     \u001b[0;32mdef\u001b[0m \u001b[0mgetformat\u001b[0m\u001b[0;34m(\u001b[0m\u001b[0mself\u001b[0m\u001b[0;34m)\u001b[0m\u001b[0;34m:\u001b[0m\u001b[0;34m\u001b[0m\u001b[0;34m\u001b[0m\u001b[0m\n",
      "\u001b[0;32m~/anaconda3/envs/m2dt_oed_FEniCS/lib/python3.10/site-packages/scipy/sparse/coo.py\u001b[0m in \u001b[0;36mgetnnz\u001b[0;34m(self, axis)\u001b[0m\n\u001b[1;32m    241\u001b[0m             \u001b[0mnnz\u001b[0m \u001b[0;34m=\u001b[0m \u001b[0mlen\u001b[0m\u001b[0;34m(\u001b[0m\u001b[0mself\u001b[0m\u001b[0;34m.\u001b[0m\u001b[0mdata\u001b[0m\u001b[0;34m)\u001b[0m\u001b[0;34m\u001b[0m\u001b[0;34m\u001b[0m\u001b[0m\n\u001b[1;32m    242\u001b[0m             \u001b[0;32mif\u001b[0m \u001b[0mnnz\u001b[0m \u001b[0;34m!=\u001b[0m \u001b[0mlen\u001b[0m\u001b[0;34m(\u001b[0m\u001b[0mself\u001b[0m\u001b[0;34m.\u001b[0m\u001b[0mrow\u001b[0m\u001b[0;34m)\u001b[0m \u001b[0;32mor\u001b[0m \u001b[0mnnz\u001b[0m \u001b[0;34m!=\u001b[0m \u001b[0mlen\u001b[0m\u001b[0;34m(\u001b[0m\u001b[0mself\u001b[0m\u001b[0;34m.\u001b[0m\u001b[0mcol\u001b[0m\u001b[0;34m)\u001b[0m\u001b[0;34m:\u001b[0m\u001b[0;34m\u001b[0m\u001b[0;34m\u001b[0m\u001b[0m\n\u001b[0;32m--> 243\u001b[0;31m                 raise ValueError('row, column, and data array must all be the '\n\u001b[0m\u001b[1;32m    244\u001b[0m                                  'same length')\n\u001b[1;32m    245\u001b[0m \u001b[0;34m\u001b[0m\u001b[0m\n",
      "\u001b[0;31mValueError\u001b[0m: row, column, and data array must all be the same length"
     ]
    }
   ],
   "source": [
    "Pr = sparse.csc_matrix((np.ones(n_steps), (LU.perm_r, np.arange(n_steps))))\n",
    "Pc = sparse.csc_matrix((np.ones(n_steps), (np.arange(n_steps), LU.perm_c)))\n",
    "\n",
    "Pr.T @ (LU.L @ LU.U).toarray() @ Pc.T"
   ]
  },
  {
   "cell_type": "code",
   "execution_count": 25,
   "id": "adf959b8",
   "metadata": {},
   "outputs": [
    {
     "ename": "NameError",
     "evalue": "name 'Pr' is not defined",
     "output_type": "error",
     "traceback": [
      "\u001b[0;31m---------------------------------------------------------------------------\u001b[0m",
      "\u001b[0;31mNameError\u001b[0m                                 Traceback (most recent call last)",
      "\u001b[0;32m/var/folders/_k/q9sdsmfx2j35cmp3z9tn84km0000gp/T/ipykernel_3156/1004064024.py\u001b[0m in \u001b[0;36m<module>\u001b[0;34m\u001b[0m\n\u001b[0;32m----> 1\u001b[0;31m \u001b[0mPr\u001b[0m \u001b[0;34m@\u001b[0m \u001b[0mM\u001b[0m\u001b[0;34m.\u001b[0m\u001b[0mtoarray\u001b[0m\u001b[0;34m(\u001b[0m\u001b[0;34m)\u001b[0m \u001b[0;34m@\u001b[0m \u001b[0mPc\u001b[0m\u001b[0;34m\u001b[0m\u001b[0;34m\u001b[0m\u001b[0m\n\u001b[0m",
      "\u001b[0;31mNameError\u001b[0m: name 'Pr' is not defined"
     ]
    }
   ],
   "source": [
    "Pr @ M.toarray() @ Pc"
   ]
  },
  {
   "cell_type": "code",
   "execution_count": null,
   "id": "8bd8b4d3",
   "metadata": {},
   "outputs": [],
   "source": [
    "(LU.L @ LU.U).toarray()"
   ]
  },
  {
   "cell_type": "code",
   "execution_count": null,
   "id": "a4301ea9",
   "metadata": {},
   "outputs": [],
   "source": [
    "C = Pr.T @ LU.L @ sparse.diags(LU.U.diagonal()**0.5)"
   ]
  },
  {
   "cell_type": "code",
   "execution_count": null,
   "id": "069a98e6",
   "metadata": {},
   "outputs": [],
   "source": [
    "(C @ C.T).toarray()"
   ]
  },
  {
   "cell_type": "code",
   "execution_count": null,
   "id": "93ed8d3f",
   "metadata": {},
   "outputs": [],
   "source": [
    "(LU.U.T @ LU.U).toarray()"
   ]
  },
  {
   "cell_type": "code",
   "execution_count": null,
   "id": "f73a52e9",
   "metadata": {},
   "outputs": [],
   "source": [
    "LU.perm_r"
   ]
  },
  {
   "cell_type": "code",
   "execution_count": null,
   "id": "889499a4",
   "metadata": {},
   "outputs": [],
   "source": [
    "LU.perm_c"
   ]
  },
  {
   "cell_type": "code",
   "execution_count": null,
   "id": "5cc3762e",
   "metadata": {},
   "outputs": [],
   "source": [
    "help(LU)"
   ]
  },
  {
   "cell_type": "code",
   "execution_count": null,
   "id": "b38263ec",
   "metadata": {},
   "outputs": [],
   "source": []
  },
  {
   "cell_type": "code",
   "execution_count": null,
   "id": "d90ca7d8",
   "metadata": {},
   "outputs": [],
   "source": [
    "M.toarray()"
   ]
  },
  {
   "cell_type": "code",
   "execution_count": null,
   "id": "287946bd",
   "metadata": {},
   "outputs": [],
   "source": [
    "U, sigma, V = la.svd(M.toarray())"
   ]
  },
  {
   "cell_type": "code",
   "execution_count": null,
   "id": "9bd2f238",
   "metadata": {},
   "outputs": [],
   "source": [
    "sigma"
   ]
  },
  {
   "cell_type": "code",
   "execution_count": null,
   "id": "ee931f8e",
   "metadata": {},
   "outputs": [],
   "source": [
    "eigvals, eigvecs = la.eig(M.toarray())"
   ]
  },
  {
   "cell_type": "code",
   "execution_count": null,
   "id": "4031b731",
   "metadata": {},
   "outputs": [],
   "source": [
    "eigvals"
   ]
  },
  {
   "cell_type": "code",
   "execution_count": null,
   "id": "ebd66f23",
   "metadata": {},
   "outputs": [],
   "source": []
  },
  {
   "cell_type": "code",
   "execution_count": null,
   "id": "08f5a7b6",
   "metadata": {},
   "outputs": [],
   "source": []
  },
  {
   "cell_type": "code",
   "execution_count": null,
   "id": "eebd8b50",
   "metadata": {},
   "outputs": [],
   "source": []
  },
  {
   "cell_type": "code",
   "execution_count": null,
   "id": "8801e0bc",
   "metadata": {},
   "outputs": [],
   "source": [
    "K @ v"
   ]
  },
  {
   "cell_type": "code",
   "execution_count": null,
   "id": "b446540a",
   "metadata": {},
   "outputs": [],
   "source": []
  },
  {
   "cell_type": "code",
   "execution_count": null,
   "id": "3d664ea7",
   "metadata": {},
   "outputs": [],
   "source": [
    "Kv[:4]"
   ]
  },
  {
   "cell_type": "code",
   "execution_count": null,
   "id": "85eb0994",
   "metadata": {},
   "outputs": [],
   "source": [
    "K[0, :3].toarray()"
   ]
  },
  {
   "cell_type": "code",
   "execution_count": null,
   "id": "d3696f74",
   "metadata": {},
   "outputs": [],
   "source": [
    "K[1, :3].toarray()"
   ]
  },
  {
   "cell_type": "code",
   "execution_count": null,
   "id": "f7338943",
   "metadata": {},
   "outputs": [],
   "source": [
    "K[0, :3].toarray()"
   ]
  },
  {
   "cell_type": "code",
   "execution_count": null,
   "id": "8870e55c",
   "metadata": {},
   "outputs": [],
   "source": [
    "K[1, :3].toarray()"
   ]
  },
  {
   "cell_type": "code",
   "execution_count": null,
   "id": "940bfaae",
   "metadata": {},
   "outputs": [],
   "source": [
    "K[0, :3] @ v[:3]"
   ]
  },
  {
   "cell_type": "code",
   "execution_count": null,
   "id": "459e96ba",
   "metadata": {},
   "outputs": [],
   "source": [
    "K[1, :3] @ v[:3]"
   ]
  },
  {
   "cell_type": "code",
   "execution_count": null,
   "id": "12ac5f55",
   "metadata": {},
   "outputs": [],
   "source": [
    "v[:3]"
   ]
  },
  {
   "cell_type": "code",
   "execution_count": null,
   "id": "2db154c1",
   "metadata": {},
   "outputs": [],
   "source": [
    "M[1, :3].toarray()"
   ]
  },
  {
   "cell_type": "code",
   "execution_count": null,
   "id": "22db75e3",
   "metadata": {},
   "outputs": [],
   "source": [
    "M[0, :3].toarray()"
   ]
  },
  {
   "cell_type": "code",
   "execution_count": null,
   "id": "91512532",
   "metadata": {},
   "outputs": [],
   "source": [
    "dt = 1/(n_steps-1)"
   ]
  },
  {
   "cell_type": "code",
   "execution_count": null,
   "id": "32edf15d",
   "metadata": {},
   "outputs": [],
   "source": []
  }
 ],
 "metadata": {
  "kernelspec": {
   "display_name": "Python 3 (ipykernel)",
   "language": "python",
   "name": "python3"
  },
  "language_info": {
   "codemirror_mode": {
    "name": "ipython",
    "version": 3
   },
   "file_extension": ".py",
   "mimetype": "text/x-python",
   "name": "python",
   "nbconvert_exporter": "python",
   "pygments_lexer": "ipython3",
   "version": "3.10.0"
  }
 },
 "nbformat": 4,
 "nbformat_minor": 5
}
