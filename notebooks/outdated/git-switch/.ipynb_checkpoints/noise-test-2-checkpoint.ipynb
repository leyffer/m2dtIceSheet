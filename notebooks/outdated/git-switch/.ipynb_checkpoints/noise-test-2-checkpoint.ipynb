{
 "cells": [
  {
   "cell_type": "markdown",
   "id": "7faed74e",
   "metadata": {},
   "source": [
    "# noise test, 2nd try"
   ]
  },
  {
   "cell_type": "code",
   "execution_count": 1,
   "id": "0c4b204e",
   "metadata": {},
   "outputs": [],
   "source": [
    "import numpy as np\n",
    "import scipy.sparse as sparse\n",
    "import scipy.sparse.linalg as sla\n",
    "import matplotlib.pyplot as plt\n",
    "import sys\n",
    "import scipy.linalg as la"
   ]
  },
  {
   "cell_type": "code",
   "execution_count": 3,
   "id": "5b25e956",
   "metadata": {},
   "outputs": [],
   "source": [
    "def compute_diffusion_matrix(n_steps):\n",
    "    dt = 1/(n_steps-1)\n",
    "\n",
    "    A = sparse.diags([1, -1], offsets = [0, 1], shape=(n_steps,n_steps))\n",
    "    A = sparse.csr_matrix(A + A.T)\n",
    "    A[0, :]  = 0\n",
    "    A[-1, :] = 0\n",
    "\n",
    "    A /= dt\n",
    "    \n",
    "    return A\n",
    "\n",
    "def compute_mass_matrix(n_steps):\n",
    "    dt = 1/(n_steps-1)\n",
    "\n",
    "    M = sparse.diags(np.array([2, 1])/6, offsets=[0, 1], shape = (n_steps, n_steps))\n",
    "    M = sparse.csr_matrix(M + M.T)\n",
    "    M[0, 0] /= 2\n",
    "    M[-1,-1] /= 2\n",
    "    M *= dt\n",
    "\n",
    "    return M"
   ]
  },
  {
   "cell_type": "code",
   "execution_count": 41,
   "id": "cba871fe",
   "metadata": {},
   "outputs": [],
   "source": [
    "n_steps = 100\n",
    "theta = 0.1\n",
    "\n",
    "A = compute_diffusion_matrix(n_steps)\n",
    "M = compute_mass_matrix(n_steps)\n",
    "\n",
    "K = theta * A + M"
   ]
  },
  {
   "cell_type": "code",
   "execution_count": 42,
   "id": "c5ee77be",
   "metadata": {},
   "outputs": [
    {
     "name": "stdout",
     "output_type": "stream",
     "text": [
      "0.10858314130289856\n"
     ]
    }
   ],
   "source": [
    "v = np.linspace(0, 1, n_steps)\n",
    "v = v**2\n",
    "\n",
    "Kv = K@v\n",
    "\n",
    "yolo = sla.spsolve(M, Kv)\n",
    "print(Kv.T @ yolo)"
   ]
  },
  {
   "cell_type": "code",
   "execution_count": 27,
   "id": "9a5ebf85",
   "metadata": {},
   "outputs": [],
   "source": [
    "#sparse.linalg.eigs(K, k = 1, M=M, return_eigenvectors=False, which = \"SR\")"
   ]
  },
  {
   "cell_type": "code",
   "execution_count": null,
   "id": "63440728",
   "metadata": {},
   "outputs": [],
   "source": []
  }
 ],
 "metadata": {
  "kernelspec": {
   "display_name": "Python 3 (ipykernel)",
   "language": "python",
   "name": "python3"
  },
  "language_info": {
   "codemirror_mode": {
    "name": "ipython",
    "version": 3
   },
   "file_extension": ".py",
   "mimetype": "text/x-python",
   "name": "python",
   "nbconvert_exporter": "python",
   "pygments_lexer": "ipython3",
   "version": "3.10.0"
  }
 },
 "nbformat": 4,
 "nbformat_minor": 5
}
