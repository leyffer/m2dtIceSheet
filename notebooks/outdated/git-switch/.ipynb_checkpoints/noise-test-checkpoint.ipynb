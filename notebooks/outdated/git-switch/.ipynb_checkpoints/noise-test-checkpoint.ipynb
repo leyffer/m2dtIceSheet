{
 "cells": [
  {
   "cell_type": "markdown",
   "id": "5af9c426",
   "metadata": {},
   "source": [
    "# Infinite-dimensional setting"
   ]
  },
  {
   "cell_type": "code",
   "execution_count": 1,
   "id": "2c521ec7",
   "metadata": {},
   "outputs": [],
   "source": [
    "import numpy as np\n",
    "import scipy.sparse as sparse\n",
    "import scipy.sparse.linalg as sla\n",
    "import matplotlib.pyplot as plt\n",
    "import sys\n",
    "import scipy.linalg as la"
   ]
  },
  {
   "cell_type": "code",
   "execution_count": 2,
   "id": "61add1dd",
   "metadata": {},
   "outputs": [],
   "source": [
    "def compute_diffusion_matrix(K):\n",
    "\n",
    "    dt = 1/(K-1)\n",
    "\n",
    "    A = sparse.diags([1, -1], offsets = [0, 1], shape=(K,K))\n",
    "    A = sparse.csr_matrix(A + A.T)\n",
    "    A[0, 0]  = 1\n",
    "    A[-1, -1] = 1\n",
    "\n",
    "    A /= dt\n",
    "    \n",
    "    return A\n",
    "\n",
    "def compute_mass_matrix(K):\n",
    "    dt = 1/(K-1)\n",
    "\n",
    "    M = sparse.diags(np.array([2, 1])/6, offsets=[0, 1], shape = (K, K))\n",
    "    M = sparse.csr_matrix(M + M.T)\n",
    "    M[0, 0] /= 2\n",
    "    M[-1,-1] /= 2\n",
    "    M *= dt\n",
    "\n",
    "    return M"
   ]
  },
  {
   "cell_type": "code",
   "execution_count": 3,
   "id": "7d6be14f",
   "metadata": {},
   "outputs": [
    {
     "name": "stderr",
     "output_type": "stream",
     "text": [
      "/Users/nicole/anaconda3/envs/m2dt_oed_FEniCS/lib/python3.10/site-packages/scipy/sparse/_index.py:116: SparseEfficiencyWarning: Changing the sparsity structure of a csr_matrix is expensive. lil_matrix is more efficient.\n",
      "  self._set_arrayXarray_sparse(i, j, x)\n",
      "/Users/nicole/anaconda3/envs/m2dt_oed_FEniCS/lib/python3.10/site-packages/scipy/sparse/_index.py:82: SparseEfficiencyWarning: Changing the sparsity structure of a csr_matrix is expensive. lil_matrix is more efficient.\n",
      "  self._set_intXint(row, col, x.flat[0])\n"
     ]
    }
   ],
   "source": [
    "n_steps = 10\n",
    "dt = 1/(n_steps-1)\n",
    "scale = 1\n",
    "sigma_g = 100\n",
    "\n",
    "stiffness_orig = compute_diffusion_matrix(n_steps)\n",
    "mass_orig = compute_mass_matrix(n_steps)\n",
    "\n",
    "K = sparse.csr_matrix((n_steps+2,n_steps+2))\n",
    "K[1:-1, 1:-1] = scale * stiffness_orig + mass_orig\n",
    "K[0, 0] = 1\n",
    "K[1, 0] = 1\n",
    "K[-1, -1] = scale\n",
    "K[-2, -1] = -scale\n",
    "\n",
    "M = sparse.csr_matrix((n_steps+2,n_steps+2))\n",
    "M[1:-1, 1:-1] = mass_orig\n",
    "M[0, 0] = sigma_g**2\n",
    "M[-1, -1] = sigma_g**2"
   ]
  },
  {
   "cell_type": "code",
   "execution_count": 4,
   "id": "f7cba869",
   "metadata": {},
   "outputs": [],
   "source": [
    "state = np.linspace(0, 1, n_steps)\n",
    "state = state**2\n",
    "v = np.hstack([(state[1]-state[0])/dt, state, (state[-1]-state[-2])/dt])\n",
    "\n",
    "Kv = K @ v\n",
    "yolo = sla.spsolve(M, Kv)"
   ]
  },
  {
   "cell_type": "code",
   "execution_count": 5,
   "id": "352915a3",
   "metadata": {},
   "outputs": [
    {
     "data": {
      "text/plain": [
       "2.9632920983868805"
      ]
     },
     "execution_count": 5,
     "metadata": {},
     "output_type": "execute_result"
    }
   ],
   "source": [
    "yolo.T @ Kv"
   ]
  },
  {
   "cell_type": "code",
   "execution_count": null,
   "id": "be408502",
   "metadata": {},
   "outputs": [],
   "source": []
  },
  {
   "cell_type": "code",
   "execution_count": 16,
   "id": "12168de6",
   "metadata": {},
   "outputs": [],
   "source": [
    "def noisenorm2(n_steps):\n",
    "    dt = 1/(n_steps-1)\n",
    "    scale = 1\n",
    "    sigma_g = 100\n",
    "\n",
    "    stiffness_orig = compute_diffusion_matrix(n_steps)\n",
    "    mass_orig = compute_mass_matrix(n_steps)\n",
    "\n",
    "    K = sparse.csr_matrix((n_steps+2,n_steps+2))\n",
    "    K[1:-1, 1:-1] = scale * stiffness_orig + mass_orig\n",
    "    K[0, 0] = 1\n",
    "    K[1, 0] = 1\n",
    "    K[-1, -1] = scale\n",
    "    K[-2, -1] = -scale\n",
    "\n",
    "    M = sparse.csr_matrix((n_steps+2,n_steps+2))\n",
    "    M[1:-1, 1:-1] = mass_orig\n",
    "    M[0, 0] = sigma_g**2\n",
    "    M[-1, -1] = sigma_g**2\n",
    "    \n",
    "    state = np.linspace(-1, 1, n_steps)\n",
    "    state = state**3\n",
    "    v = np.hstack([(state[1]-state[0])/dt, state, (state[-1]-state[-2])/dt])\n",
    "\n",
    "    Kv = K @ v\n",
    "    yolo = sla.spsolve(M, Kv)\n",
    "    return yolo.T @ Kv"
   ]
  },
  {
   "cell_type": "code",
   "execution_count": 21,
   "id": "d3c6bda5",
   "metadata": {},
   "outputs": [
    {
     "name": "stderr",
     "output_type": "stream",
     "text": [
      "/Users/nicole/anaconda3/envs/m2dt_oed_FEniCS/lib/python3.10/site-packages/scipy/sparse/_index.py:116: SparseEfficiencyWarning: Changing the sparsity structure of a csr_matrix is expensive. lil_matrix is more efficient.\n",
      "  self._set_arrayXarray_sparse(i, j, x)\n",
      "/Users/nicole/anaconda3/envs/m2dt_oed_FEniCS/lib/python3.10/site-packages/scipy/sparse/_index.py:82: SparseEfficiencyWarning: Changing the sparsity structure of a csr_matrix is expensive. lil_matrix is more efficient.\n",
      "  self._set_intXint(row, col, x.flat[0])\n"
     ]
    }
   ],
   "source": [
    "steps_test = np.arange(10, 10000, 100)\n",
    "vals_test = np.zeros(steps_test.shape[0])\n",
    "\n",
    "for i in range(steps_test.shape[0]):\n",
    "    vals_test[i] = noisenorm2(n_steps = steps_test[i])\n"
   ]
  },
  {
   "cell_type": "code",
   "execution_count": 22,
   "id": "6fa4924c",
   "metadata": {},
   "outputs": [
    {
     "data": {
      "text/plain": [
       "[<matplotlib.lines.Line2D at 0x15d1cd180>]"
      ]
     },
     "execution_count": 22,
     "metadata": {},
     "output_type": "execute_result"
    },
    {
     "data": {
      "image/png": "[encoded data removed]",
      "text/plain": [
       "<Figure size 432x288 with 1 Axes>"
      ]
     },
     "metadata": {
      "needs_background": "light"
     },
     "output_type": "display_data"
    }
   ],
   "source": [
    "plt.loglog(steps_test[1:], np.abs(vals_test[1:]-vals_test[:-1]))"
   ]
  },
  {
   "cell_type": "code",
   "execution_count": null,
   "id": "2480d6a8",
   "metadata": {},
   "outputs": [],
   "source": []
  },
  {
   "cell_type": "code",
   "execution_count": null,
   "id": "9765691a",
   "metadata": {},
   "outputs": [],
   "source": []
  },
  {
   "cell_type": "code",
   "execution_count": 6,
   "id": "57b43a65",
   "metadata": {},
   "outputs": [
    {
     "ename": "SyntaxError",
     "evalue": "invalid syntax. Perhaps you forgot a comma? (1680074362.py, line 1)",
     "output_type": "error",
     "traceback": [
      "\u001b[0;36m  File \u001b[0;32m\"/var/folders/_k/q9sdsmfx2j35cmp3z9tn84km0000gp/T/ipykernel_6639/1680074362.py\"\u001b[0;36m, line \u001b[0;32m1\u001b[0m\n\u001b[0;31m    please stop here\u001b[0m\n\u001b[0m           ^\u001b[0m\n\u001b[0;31mSyntaxError\u001b[0m\u001b[0;31m:\u001b[0m invalid syntax. Perhaps you forgot a comma?\n"
     ]
    }
   ],
   "source": [
    "please stop here"
   ]
  },
  {
   "cell_type": "code",
   "execution_count": null,
   "id": "2ad3cf79",
   "metadata": {},
   "outputs": [],
   "source": [
    "reformat = sparse.csr_matrix((n_steps+2,n_steps))\n",
    "reformat[1:-1, :] = sparse.eye(n_steps)\n",
    "reformat[0, 0] = -1/dt\n",
    "reformat[0, 1] = 1/dt\n",
    "reformat[-1, -2] = -1/dt\n",
    "reformat[-1, -1] = 1/dt"
   ]
  },
  {
   "cell_type": "code",
   "execution_count": null,
   "id": "c96abb6c",
   "metadata": {},
   "outputs": [],
   "source": [
    "reformat.toarray()"
   ]
  },
  {
   "cell_type": "code",
   "execution_count": null,
   "id": "f1b25df2",
   "metadata": {},
   "outputs": [],
   "source": []
  },
  {
   "cell_type": "code",
   "execution_count": null,
   "id": "300f9f86",
   "metadata": {},
   "outputs": [],
   "source": []
  },
  {
   "cell_type": "code",
   "execution_count": null,
   "id": "e991bde4",
   "metadata": {},
   "outputs": [],
   "source": [
    "please stop here"
   ]
  },
  {
   "cell_type": "code",
   "execution_count": null,
   "id": "385629b7",
   "metadata": {},
   "outputs": [],
   "source": [
    "def sparse_cholesky(A): # The input matrix A must be a sparse symmetric positive-definite.\n",
    "  \n",
    "    n = A.shape[0]\n",
    "    LU = sla.splu(A,diag_pivot_thresh=0) # sparse LU decomposition\n",
    "  \n",
    "    if ( LU.U.diagonal() > 0 ).all(): # check the matrix A is positive definite.\n",
    "        Pr = sparse.csc_matrix((np.ones(n_steps), (LU.perm_r, np.arange(n_steps))))\n",
    "        return Pr @ LU.L.dot( sparse.diags(LU.U.diagonal()**0.5) )\n",
    "    else:\n",
    "        sys.exit('The matrix is not positive definite')"
   ]
  },
  {
   "cell_type": "code",
   "execution_count": null,
   "id": "1cfc5a06",
   "metadata": {},
   "outputs": [],
   "source": [
    "def compute_diffusion_matrix(K):\n",
    "\n",
    "    dt = 1/(K-1)\n",
    "\n",
    "    A = sparse.diags([1, -1], offsets = [0, 1], shape=(K,K))\n",
    "    A = sparse.csr_matrix(A + A.T)\n",
    "    A[0, 0]  = 1\n",
    "    A[-1, -1] = 1\n",
    "\n",
    "    A /= dt\n",
    "    \n",
    "    return A\n",
    "\n",
    "def compute_diffusion_matrix_Neumann(K):\n",
    "\n",
    "    dt = 1/(K-1)\n",
    "\n",
    "    A = sparse.diags([1, -1], offsets = [0, 1], shape=(K,K))\n",
    "    A = sparse.csr_matrix(A + A.T)\n",
    "    A[0, 0]  = 1\n",
    "    A[-1, -1] = 1\n",
    "    \n",
    "    A[0, 0] -= 1\n",
    "    A[0, 1] += 1\n",
    "    \n",
    "    A[-1, -1] += 1\n",
    "    A[-1, -2] -= 1\n",
    "\n",
    "    A /= dt\n",
    "    \n",
    "    return A\n",
    "\n",
    "def compute_Neumann_BK(K):\n",
    "\n",
    "    test = sparse.csr_matrix((K,K))\n",
    "    test[0,0] = +1\n",
    "    test[-1, -1] = -1\n",
    "    \n",
    "    return test\n",
    "\n",
    "def compute_diffusion_matrix_Dirichlet(K):\n",
    "\n",
    "    dt = 1/(K-1)\n",
    "\n",
    "    A = sparse.diags([1, -1], offsets = [0, 1], shape=(K,K))\n",
    "    A = sparse.csr_matrix(A + A.T)\n",
    "\n",
    "    A[0, :] = 0\n",
    "    A[-1, :] = 0\n",
    "    A[:, 0] = 0\n",
    "    A[:, -1] = 0\n",
    "\n",
    "    A /= dt\n",
    "    \n",
    "    A[0, 0] = 1\n",
    "    A[-1, -1] = 1\n",
    "    \n",
    "    return A\n",
    "\n",
    "def compute_mass_matrix(K):\n",
    "    dt = 1/(K-1)\n",
    "\n",
    "    M = sparse.diags(np.array([2, 1])/6, offsets=[0, 1], shape = (K, K))\n",
    "    M = sparse.csr_matrix(M + M.T)\n",
    "    M[0, 0] /= 2\n",
    "    M[-1,-1] /= 2\n",
    "    M *= dt\n",
    "\n",
    "    return M\n",
    "\n",
    "def compute_mass_matrix_Dirichlet(K):\n",
    "    dt = 1/(K-1)\n",
    "\n",
    "    M = sparse.diags(np.array([2, 1])/6, offsets=[0, 1], shape = (K, K))\n",
    "    M = sparse.csr_matrix(M + M.T)\n",
    "    M[0, 0] /= 2\n",
    "    M[-1,-1] /= 2\n",
    "    M *= dt\n",
    "    \n",
    "    M[0, :] = 0\n",
    "    M[:, 0] = 0\n",
    "    M[-1, :] = 0\n",
    "    M[:, -1] = 0\n",
    "\n",
    "    return M"
   ]
  },
  {
   "cell_type": "markdown",
   "id": "88c3d256",
   "metadata": {},
   "source": [
    "## Uncertain Neumann boundary conditions for noise model"
   ]
  },
  {
   "cell_type": "code",
   "execution_count": null,
   "id": "74ebbff7",
   "metadata": {},
   "outputs": [],
   "source": [
    "n_steps = 10000\n",
    "dt = 1/(n_steps-1)\n",
    "A = compute_diffusion_matrix_Neumann(n_steps)\n",
    "M = compute_mass_matrix(n_steps)\n",
    "\n",
    "K = A + M"
   ]
  },
  {
   "cell_type": "code",
   "execution_count": null,
   "id": "4f955fc4",
   "metadata": {},
   "outputs": [],
   "source": [
    "v = np.linspace(0, 1, n_steps)\n",
    "\n",
    "Kv = K@v\n",
    "\n",
    "yolo = sla.spsolve(M, Kv)\n",
    "print(Kv.T @ yolo)"
   ]
  },
  {
   "cell_type": "code",
   "execution_count": null,
   "id": "0ab31244",
   "metadata": {},
   "outputs": [],
   "source": [
    "Kv"
   ]
  },
  {
   "cell_type": "code",
   "execution_count": null,
   "id": "558630d5",
   "metadata": {},
   "outputs": [],
   "source": []
  },
  {
   "cell_type": "code",
   "execution_count": null,
   "id": "05eaf714",
   "metadata": {},
   "outputs": [],
   "source": []
  },
  {
   "cell_type": "code",
   "execution_count": null,
   "id": "1be9b08e",
   "metadata": {},
   "outputs": [],
   "source": [
    "please stop here"
   ]
  },
  {
   "cell_type": "markdown",
   "id": "ebac682d",
   "metadata": {},
   "source": [
    "## Dirichlet boundary conditions for noise model"
   ]
  },
  {
   "cell_type": "code",
   "execution_count": null,
   "id": "454d05e8",
   "metadata": {},
   "outputs": [],
   "source": [
    "n_steps = 10\n",
    "dt = 1/(n_steps-1)\n",
    "A = compute_diffusion_matrix_Dirichlet(n_steps)\n",
    "M = compute_mass_matrix(n_steps)\n",
    "M_D = compute_mass_matrix_Dirichlet(n_steps)\n",
    "\n",
    "K = 0.01*A + M_D\n",
    "K[0, 0] = 1\n",
    "K[-1, -1] = 1\n",
    "\n",
    "# M = M[1:-1, :]\n",
    "# M = M[:, 1:-1]"
   ]
  },
  {
   "cell_type": "code",
   "execution_count": null,
   "id": "4fa8d389",
   "metadata": {},
   "outputs": [],
   "source": [
    "v = np.linspace(0, 1, n_steps)\n",
    "\n",
    "Kv = K@v\n",
    "#Kv = Kv[1:-1]\n",
    "\n",
    "yolo = sla.spsolve(M, Kv)\n",
    "print(Kv.T @ yolo)"
   ]
  },
  {
   "cell_type": "code",
   "execution_count": null,
   "id": "dce00c3a",
   "metadata": {},
   "outputs": [],
   "source": []
  },
  {
   "cell_type": "code",
   "execution_count": null,
   "id": "e497e6be",
   "metadata": {},
   "outputs": [],
   "source": []
  },
  {
   "cell_type": "code",
   "execution_count": null,
   "id": "ac630a67",
   "metadata": {},
   "outputs": [],
   "source": []
  },
  {
   "cell_type": "code",
   "execution_count": null,
   "id": "12e27ea5",
   "metadata": {},
   "outputs": [],
   "source": [
    "please stop here"
   ]
  },
  {
   "cell_type": "code",
   "execution_count": null,
   "id": "d6866cf5",
   "metadata": {},
   "outputs": [],
   "source": [
    "n_steps = 100\n",
    "dt = 1/(n_steps-1)\n",
    "A = compute_diffusion_matrix_Dirichlet(n_steps)\n",
    "M = compute_mass_matrix(n_steps)\n",
    "K = (0.01*A + compute_mass_matrix_Dirichlet(n_steps))"
   ]
  },
  {
   "cell_type": "code",
   "execution_count": null,
   "id": "a599a67e",
   "metadata": {},
   "outputs": [],
   "source": [
    "v = np.linspace(0, 1, n_steps)\n",
    "\n",
    "Kv = K@v\n",
    "yolo = sla.spsolve(M, Kv)\n",
    "print(Kv.T @ yolo)"
   ]
  },
  {
   "cell_type": "code",
   "execution_count": null,
   "id": "91508999",
   "metadata": {},
   "outputs": [],
   "source": [
    "Kv"
   ]
  },
  {
   "cell_type": "code",
   "execution_count": null,
   "id": "fdbb7dbc",
   "metadata": {},
   "outputs": [],
   "source": [
    "yolo"
   ]
  },
  {
   "cell_type": "code",
   "execution_count": null,
   "id": "75a589b7",
   "metadata": {},
   "outputs": [],
   "source": []
  },
  {
   "cell_type": "code",
   "execution_count": null,
   "id": "c47b262c",
   "metadata": {},
   "outputs": [],
   "source": []
  },
  {
   "cell_type": "code",
   "execution_count": null,
   "id": "2d704bc9",
   "metadata": {},
   "outputs": [],
   "source": []
  },
  {
   "cell_type": "markdown",
   "id": "b96c04e5",
   "metadata": {},
   "source": [
    "## older test code below"
   ]
  },
  {
   "cell_type": "code",
   "execution_count": null,
   "id": "820b892c",
   "metadata": {},
   "outputs": [],
   "source": [
    "n_steps = 10000\n",
    "dt = 1/(n_steps-1)\n",
    "A = compute_diffusion_matrix(n_steps)\n",
    "M = compute_mass_matrix(n_steps)\n",
    "K = (0.01*A + M)"
   ]
  },
  {
   "cell_type": "code",
   "execution_count": null,
   "id": "396c1fd1",
   "metadata": {},
   "outputs": [],
   "source": [
    "#v = np.ones((n_steps,))\n",
    "#v = np.random.normal(size=(n_steps,))\n",
    "\n",
    "v = np.linspace(0, 1, n_steps)\n",
    "#v = v**2\n",
    "#v = (v**2)*(v-1)**2\n",
    "\n",
    "Kv = K@v\n",
    "#Kv[0] = 0\n",
    "#Kv[-1] = 0\n",
    "yolo = sla.spsolve(M, Kv)\n",
    "\n",
    "# Mv = M@v\n",
    "# yolo = sla.spsolve(K, Mv)"
   ]
  },
  {
   "cell_type": "code",
   "execution_count": null,
   "id": "6ee9ac38",
   "metadata": {},
   "outputs": [],
   "source": [
    "Kv.T @ yolo"
   ]
  },
  {
   "cell_type": "code",
   "execution_count": null,
   "id": "83f52e2a",
   "metadata": {},
   "outputs": [],
   "source": [
    "Kv[:5]"
   ]
  },
  {
   "cell_type": "code",
   "execution_count": null,
   "id": "ebff3ca8",
   "metadata": {},
   "outputs": [],
   "source": [
    "Kv[-5:]"
   ]
  },
  {
   "cell_type": "code",
   "execution_count": null,
   "id": "9be4d0f6",
   "metadata": {},
   "outputs": [],
   "source": [
    "yolo[:5]"
   ]
  },
  {
   "cell_type": "code",
   "execution_count": null,
   "id": "d15841c0",
   "metadata": {},
   "outputs": [],
   "source": [
    "A.toarray() * dt"
   ]
  },
  {
   "cell_type": "code",
   "execution_count": null,
   "id": "45fdb223",
   "metadata": {},
   "outputs": [],
   "source": []
  },
  {
   "cell_type": "code",
   "execution_count": null,
   "id": "a81f8d4b",
   "metadata": {},
   "outputs": [],
   "source": []
  },
  {
   "cell_type": "code",
   "execution_count": null,
   "id": "bd139cfd",
   "metadata": {},
   "outputs": [],
   "source": []
  },
  {
   "cell_type": "code",
   "execution_count": null,
   "id": "79112ca0",
   "metadata": {},
   "outputs": [],
   "source": []
  },
  {
   "cell_type": "code",
   "execution_count": null,
   "id": "fdeb7a22",
   "metadata": {},
   "outputs": [],
   "source": []
  },
  {
   "cell_type": "code",
   "execution_count": null,
   "id": "2814178b",
   "metadata": {},
   "outputs": [],
   "source": [
    "Chol = sparse_cholesky(M)"
   ]
  },
  {
   "cell_type": "code",
   "execution_count": null,
   "id": "9db5b577",
   "metadata": {},
   "outputs": [],
   "source": [
    "sample = np.random.normal(size=(n_steps, 5))\n",
    "sample = sla.spsolve(K, Chol @ sample)"
   ]
  },
  {
   "cell_type": "code",
   "execution_count": null,
   "id": "4e551296",
   "metadata": {},
   "outputs": [],
   "source": [
    "for i in range(5):\n",
    "    plt.plot(sample[:, i])"
   ]
  },
  {
   "cell_type": "code",
   "execution_count": null,
   "id": "e152941b",
   "metadata": {},
   "outputs": [],
   "source": [
    "sample.shape"
   ]
  },
  {
   "cell_type": "markdown",
   "id": "7f4d67fd",
   "metadata": {},
   "source": [
    "**welcome back!**\n",
    "Next steps:\n",
    "- Check that noise-norm for measurements indeed converges for `dt` towards 0\n",
    "- choose scaling factors for reasonable signal to noise ratio\n",
    "- filter interpretation?"
   ]
  },
  {
   "cell_type": "code",
   "execution_count": null,
   "id": "90dbc380",
   "metadata": {},
   "outputs": [],
   "source": []
  },
  {
   "cell_type": "code",
   "execution_count": null,
   "id": "97dbdf01",
   "metadata": {},
   "outputs": [],
   "source": []
  },
  {
   "cell_type": "code",
   "execution_count": null,
   "id": "f00417c8",
   "metadata": {},
   "outputs": [],
   "source": []
  },
  {
   "cell_type": "code",
   "execution_count": null,
   "id": "cd56cc86",
   "metadata": {},
   "outputs": [],
   "source": []
  },
  {
   "cell_type": "code",
   "execution_count": null,
   "id": "a8da5e15",
   "metadata": {},
   "outputs": [],
   "source": [
    "LU = sla.splu(M, diag_pivot_thresh=1000)"
   ]
  },
  {
   "cell_type": "code",
   "execution_count": null,
   "id": "61de6c47",
   "metadata": {},
   "outputs": [],
   "source": [
    "LU.perm_r"
   ]
  },
  {
   "cell_type": "code",
   "execution_count": null,
   "id": "5a8b512a",
   "metadata": {},
   "outputs": [],
   "source": [
    "LU.U.diagonal()"
   ]
  },
  {
   "cell_type": "code",
   "execution_count": null,
   "id": "a4b5636d",
   "metadata": {},
   "outputs": [],
   "source": [
    "test = LU.L.dot( sparse.diags(LU.U.diagonal()**0.5) )"
   ]
  },
  {
   "cell_type": "code",
   "execution_count": null,
   "id": "a58c4089",
   "metadata": {},
   "outputs": [],
   "source": [
    "test.toarray() @ test.toarray().T"
   ]
  },
  {
   "cell_type": "code",
   "execution_count": null,
   "id": "d6fd8cc9",
   "metadata": {},
   "outputs": [],
   "source": [
    "M.toarray()"
   ]
  },
  {
   "cell_type": "code",
   "execution_count": null,
   "id": "df4dd403",
   "metadata": {},
   "outputs": [],
   "source": [
    "M.toarray()"
   ]
  },
  {
   "cell_type": "code",
   "execution_count": null,
   "id": "644bfe69",
   "metadata": {},
   "outputs": [],
   "source": [
    "Pr = sparse.csc_matrix((np.ones(n_steps), (LU.perm_r, np.arange(n_steps))))\n",
    "Pc = sparse.csc_matrix((np.ones(n_steps), (np.arange(n_steps), LU.perm_c)))\n",
    "\n",
    "Pr.T @ (LU.L @ LU.U).toarray() @ Pc.T"
   ]
  },
  {
   "cell_type": "code",
   "execution_count": null,
   "id": "adf959b8",
   "metadata": {},
   "outputs": [],
   "source": [
    "Pr @ M.toarray() @ Pc"
   ]
  },
  {
   "cell_type": "code",
   "execution_count": null,
   "id": "8bd8b4d3",
   "metadata": {},
   "outputs": [],
   "source": [
    "(LU.L @ LU.U).toarray()"
   ]
  },
  {
   "cell_type": "code",
   "execution_count": null,
   "id": "a4301ea9",
   "metadata": {},
   "outputs": [],
   "source": [
    "C = Pr.T @ LU.L @ sparse.diags(LU.U.diagonal()**0.5)"
   ]
  },
  {
   "cell_type": "code",
   "execution_count": null,
   "id": "069a98e6",
   "metadata": {},
   "outputs": [],
   "source": [
    "(C @ C.T).toarray()"
   ]
  },
  {
   "cell_type": "code",
   "execution_count": null,
   "id": "93ed8d3f",
   "metadata": {},
   "outputs": [],
   "source": [
    "(LU.U.T @ LU.U).toarray()"
   ]
  },
  {
   "cell_type": "code",
   "execution_count": null,
   "id": "f73a52e9",
   "metadata": {},
   "outputs": [],
   "source": [
    "LU.perm_r"
   ]
  },
  {
   "cell_type": "code",
   "execution_count": null,
   "id": "889499a4",
   "metadata": {},
   "outputs": [],
   "source": [
    "LU.perm_c"
   ]
  },
  {
   "cell_type": "code",
   "execution_count": null,
   "id": "5cc3762e",
   "metadata": {},
   "outputs": [],
   "source": [
    "help(LU)"
   ]
  },
  {
   "cell_type": "code",
   "execution_count": null,
   "id": "b38263ec",
   "metadata": {},
   "outputs": [],
   "source": []
  },
  {
   "cell_type": "code",
   "execution_count": null,
   "id": "d90ca7d8",
   "metadata": {},
   "outputs": [],
   "source": [
    "M.toarray()"
   ]
  },
  {
   "cell_type": "code",
   "execution_count": null,
   "id": "287946bd",
   "metadata": {},
   "outputs": [],
   "source": [
    "U, sigma, V = la.svd(M.toarray())"
   ]
  },
  {
   "cell_type": "code",
   "execution_count": null,
   "id": "9bd2f238",
   "metadata": {},
   "outputs": [],
   "source": [
    "sigma"
   ]
  },
  {
   "cell_type": "code",
   "execution_count": null,
   "id": "ee931f8e",
   "metadata": {},
   "outputs": [],
   "source": [
    "eigvals, eigvecs = la.eig(M.toarray())"
   ]
  },
  {
   "cell_type": "code",
   "execution_count": null,
   "id": "4031b731",
   "metadata": {},
   "outputs": [],
   "source": [
    "eigvals"
   ]
  },
  {
   "cell_type": "code",
   "execution_count": null,
   "id": "ebd66f23",
   "metadata": {},
   "outputs": [],
   "source": []
  },
  {
   "cell_type": "code",
   "execution_count": null,
   "id": "08f5a7b6",
   "metadata": {},
   "outputs": [],
   "source": []
  },
  {
   "cell_type": "code",
   "execution_count": null,
   "id": "eebd8b50",
   "metadata": {},
   "outputs": [],
   "source": []
  },
  {
   "cell_type": "code",
   "execution_count": null,
   "id": "8801e0bc",
   "metadata": {},
   "outputs": [],
   "source": [
    "K @ v"
   ]
  },
  {
   "cell_type": "code",
   "execution_count": null,
   "id": "b446540a",
   "metadata": {},
   "outputs": [],
   "source": []
  },
  {
   "cell_type": "code",
   "execution_count": null,
   "id": "3d664ea7",
   "metadata": {},
   "outputs": [],
   "source": [
    "Kv[:4]"
   ]
  },
  {
   "cell_type": "code",
   "execution_count": null,
   "id": "85eb0994",
   "metadata": {},
   "outputs": [],
   "source": [
    "K[0, :3].toarray()"
   ]
  },
  {
   "cell_type": "code",
   "execution_count": null,
   "id": "d3696f74",
   "metadata": {},
   "outputs": [],
   "source": [
    "K[1, :3].toarray()"
   ]
  },
  {
   "cell_type": "code",
   "execution_count": null,
   "id": "f7338943",
   "metadata": {},
   "outputs": [],
   "source": [
    "K[0, :3].toarray()"
   ]
  },
  {
   "cell_type": "code",
   "execution_count": null,
   "id": "8870e55c",
   "metadata": {},
   "outputs": [],
   "source": [
    "K[1, :3].toarray()"
   ]
  },
  {
   "cell_type": "code",
   "execution_count": null,
   "id": "940bfaae",
   "metadata": {},
   "outputs": [],
   "source": [
    "K[0, :3] @ v[:3]"
   ]
  },
  {
   "cell_type": "code",
   "execution_count": null,
   "id": "459e96ba",
   "metadata": {},
   "outputs": [],
   "source": [
    "K[1, :3] @ v[:3]"
   ]
  },
  {
   "cell_type": "code",
   "execution_count": null,
   "id": "12ac5f55",
   "metadata": {},
   "outputs": [],
   "source": [
    "v[:3]"
   ]
  },
  {
   "cell_type": "code",
   "execution_count": null,
   "id": "2db154c1",
   "metadata": {},
   "outputs": [],
   "source": [
    "M[1, :3].toarray()"
   ]
  },
  {
   "cell_type": "code",
   "execution_count": null,
   "id": "22db75e3",
   "metadata": {},
   "outputs": [],
   "source": [
    "M[0, :3].toarray()"
   ]
  },
  {
   "cell_type": "code",
   "execution_count": null,
   "id": "91512532",
   "metadata": {},
   "outputs": [],
   "source": [
    "dt = 1/(n_steps-1)"
   ]
  },
  {
   "cell_type": "code",
   "execution_count": null,
   "id": "32edf15d",
   "metadata": {},
   "outputs": [],
   "source": []
  }
 ],
 "metadata": {
  "kernelspec": {
   "display_name": "Python 3 (ipykernel)",
   "language": "python",
   "name": "python3"
  },
  "language_info": {
   "codemirror_mode": {
    "name": "ipython",
    "version": 3
   },
   "file_extension": ".py",
   "mimetype": "text/x-python",
   "name": "python",
   "nbconvert_exporter": "python",
   "pygments_lexer": "ipython3",
   "version": "3.10.0"
  }
 },
 "nbformat": 4,
 "nbformat_minor": 5
}
