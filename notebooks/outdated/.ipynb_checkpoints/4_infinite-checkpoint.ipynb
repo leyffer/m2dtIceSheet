{
 "cells": [
  {
   "cell_type": "markdown",
   "id": "5af9c426",
   "metadata": {},
   "source": [
    "# Infinite-dimensional setting"
   ]
  },
  {
   "cell_type": "markdown",
   "id": "d47edff5",
   "metadata": {},
   "source": [
    "## Imports"
   ]
  },
  {
   "cell_type": "code",
   "execution_count": 3,
   "id": "a3dc8288",
   "metadata": {},
   "outputs": [],
   "source": [
    "import sys\n",
    "sys.path.insert(0, \"../../source/\")\n",
    "sys.path.insert(0, \"../../models/AdvectionDiffusion_FEniCS\")\n",
    "\n",
    "import numpy as np\n",
    "import matplotlib.pyplot as plt\n",
    "import scipy.linalg as la\n",
    "\n",
    "from InverseProblem import InverseProblem\n",
    "from FOM_stationary import FOM_stationary as FOM\n",
    "from OEDUtility import OEDUtility\n",
    "\n",
    "from MyDronePointEval import MyDronePointEval as DronePointEval\n",
    "from MyDroneUniformEval import MyDroneUniformEval as DroneUniformEval\n",
    "from MyDroneTruncGaussianEval import MyDroneTruncGaussianEval as DroneTruncGaussianEval\n",
    "from MyDroneGaussianEval import MyDroneGaussianEval as DroneGaussianEval\n",
    "\n",
    "import time\n",
    "tStart_notebook = time.time()"
   ]
  },
  {
   "cell_type": "markdown",
   "id": "0d5988ad",
   "metadata": {},
   "source": [
    "## user settings"
   ]
  },
  {
   "cell_type": "code",
   "execution_count": 4,
   "id": "37355944",
   "metadata": {},
   "outputs": [],
   "source": [
    "meshDim = 20"
   ]
  },
  {
   "cell_type": "markdown",
   "id": "ad063dec",
   "metadata": {},
   "source": [
    "## model setup"
   ]
  },
  {
   "cell_type": "code",
   "execution_count": 5,
   "id": "5f18bee7",
   "metadata": {},
   "outputs": [
    {
     "name": "stdout",
     "output_type": "stream",
     "text": [
      "Runtime of this block: 11.675096988677979 s\n",
      "Calling FFC just-in-time (JIT) compiler, this may take some time.\n"
     ]
    }
   ],
   "source": [
    "tStart = time.time()\n",
    "fom = FOM(meshDim = meshDim)\n",
    "print(\"Runtime of this block: {} s\".format(time.time()-tStart))\n",
    "\n",
    "# compute one solution for nicer visualization below\n",
    "para_true = np.ones((5,))\n",
    "state = fom.solve(parameter=para_true)"
   ]
  },
  {
   "cell_type": "code",
   "execution_count": 11,
   "id": "d3bd1476",
   "metadata": {},
   "outputs": [],
   "source": [
    "M = fom.M\n",
    "A = fom.I"
   ]
  },
  {
   "cell_type": "code",
   "execution_count": null,
   "id": "14680c5d",
   "metadata": {},
   "outputs": [],
   "source": []
  },
  {
   "cell_type": "code",
   "execution_count": null,
   "id": "051b2473",
   "metadata": {},
   "outputs": [],
   "source": []
  },
  {
   "cell_type": "code",
   "execution_count": null,
   "id": "cbe1619f",
   "metadata": {},
   "outputs": [],
   "source": []
  },
  {
   "cell_type": "code",
   "execution_count": null,
   "id": "af87c486",
   "metadata": {},
   "outputs": [],
   "source": []
  },
  {
   "cell_type": "code",
   "execution_count": null,
   "id": "e26e6e64",
   "metadata": {},
   "outputs": [],
   "source": []
  },
  {
   "cell_type": "code",
   "execution_count": null,
   "id": "0a82ee38",
   "metadata": {},
   "outputs": [],
   "source": []
  },
  {
   "cell_type": "code",
   "execution_count": null,
   "id": "3d664ea7",
   "metadata": {},
   "outputs": [],
   "source": []
  },
  {
   "cell_type": "code",
   "execution_count": null,
   "id": "0fec9d6f",
   "metadata": {},
   "outputs": [],
   "source": [
    "please stop here"
   ]
  },
  {
   "cell_type": "markdown",
   "id": "e518108a",
   "metadata": {},
   "source": [
    "## Some initial tests"
   ]
  },
  {
   "cell_type": "markdown",
   "id": "8baccd7c",
   "metadata": {},
   "source": [
    "According to [Bui-Thanh et al, 2013] (the discretization paper for linear Bayesian inverse problems, part I): If $A$ is defined as $K+M$ where $K$ is the stiffness matrix and $M$ the mass matrix (as we have here), then $A$ is self-adjoint in the $M$ inner product, meaning:\n",
    "$$<u, Av>_M = <Au, v>_M \\qquad \\text{implying } AM = MA$$"
   ]
  },
  {
   "cell_type": "code",
   "execution_count": 38,
   "id": "f18f4be2",
   "metadata": {},
   "outputs": [
    {
     "name": "stdout",
     "output_type": "stream",
     "text": [
      "0.04331273420732632 0.04333563506460978 6.627073332711942e-05\n"
     ]
    }
   ],
   "source": [
    "#v = np.random.normal(size = (M.shape[0],))\n",
    "v = np.ones(shape = (M.shape[0],))\n",
    "\n",
    "AMv = A @ (M @ v)\n",
    "MAv = M @ (A @ v)\n",
    "\n",
    "print(la.norm(AMv - MAv), la.norm(AMv), la.norm(MAv))"
   ]
  },
  {
   "cell_type": "code",
   "execution_count": 39,
   "id": "cebe9dc2",
   "metadata": {},
   "outputs": [
    {
     "data": {
      "text/plain": [
       "[<matplotlib.lines.Line2D at 0x16a4ef7f0>]"
      ]
     },
     "execution_count": 39,
     "metadata": {},
     "output_type": "execute_result"
    },
    {
     "data": {
      "image/png": "[encoded data removed]",
      "text/plain": [
       "<Figure size 432x288 with 1 Axes>"
      ]
     },
     "metadata": {
      "needs_background": "light"
     },
     "output_type": "display_data"
    }
   ],
   "source": [
    "plt.plot(AMv)\n",
    "plt.plot(MAv)"
   ]
  },
  {
   "cell_type": "code",
   "execution_count": 35,
   "id": "c8043bed",
   "metadata": {},
   "outputs": [
    {
     "data": {
      "text/plain": [
       "<619x619 sparse matrix of type '<class 'numpy.float64'>'\n",
       "\twith 0 stored elements in Compressed Sparse Row format>"
      ]
     },
     "execution_count": 35,
     "metadata": {},
     "output_type": "execute_result"
    }
   ],
   "source": [
    "A - A.T"
   ]
  },
  {
   "cell_type": "code",
   "execution_count": null,
   "id": "85eb0994",
   "metadata": {},
   "outputs": [],
   "source": []
  }
 ],
 "metadata": {
  "kernelspec": {
   "display_name": "Python 3 (ipykernel)",
   "language": "python",
   "name": "python3"
  },
  "language_info": {
   "codemirror_mode": {
    "name": "ipython",
    "version": 3
   },
   "file_extension": ".py",
   "mimetype": "text/x-python",
   "name": "python",
   "nbconvert_exporter": "python",
   "pygments_lexer": "ipython3",
   "version": "3.10.0"
  }
 },
 "nbformat": 4,
 "nbformat_minor": 5
}
