{
 "cells": [
  {
   "cell_type": "markdown",
   "id": "daaaced1",
   "metadata": {},
   "source": [
    "# Flightpath characterization\n",
    "In this notebook we look at the characterization of the flight path. Up until now we've just flown in a circle, parameterized by radius and speed. That's pretty boring for the optimization, so let's look at something more interesting."
   ]
  },
  {
   "cell_type": "markdown",
   "id": "72966556",
   "metadata": {},
   "source": [
    "## Imports"
   ]
  },
  {
   "cell_type": "code",
   "execution_count": 1,
   "id": "be7ae23d",
   "metadata": {},
   "outputs": [
    {
     "name": "stderr",
     "output_type": "stream",
     "text": [
      "/Users/nicole/git/m2dtIceSheet/notebooks/../source/Noise.py:149: SyntaxWarning: invalid escape sequence '\\S'\n",
      "  \"\"\"! Apply the inverse noise covariance matrix to the observations ` measurement_data`, i.e., compute\n"
     ]
    }
   ],
   "source": [
    "import sys\n",
    "sys.path.insert(0, \"../source/\")\n",
    "sys.path.insert(0, \"../source/Noise/\")\n",
    "sys.path.insert(0, \"../models/AdvectionDiffusion/settings/AdvectionDiffusion_FEniCS\")\n",
    "sys.path.insert(0, \"../models/AdvectionDiffusion/Navigators\")\n",
    "sys.path.insert(0, \"../models/AdvectionDiffusion/Detectors\")\n",
    "\n",
    "import numpy as np\n",
    "import matplotlib.pyplot as plt\n",
    "import scipy.linalg as la\n",
    "\n",
    "from InverseProblem import InverseProblem\n",
    "from NoiseBayes import NoiseBayes\n",
    "\n",
    "from FOM_stationary import FOM_stationary as FOM\n",
    "from OEDUtility import OEDUtility\n",
    "from Drone import Drone as Drone\n",
    "\n",
    "from DetectorPointwise import DetectorPointwise\n",
    "from DetectorUniform import DetectorUniform\n",
    "from DetectorGaussian import DetectorGaussian\n",
    "from DetectorTruncGaussian import DetectorTruncGaussian\n",
    "\n",
    "import time\n",
    "tStart_notebook = time.time()"
   ]
  },
  {
   "cell_type": "markdown",
   "id": "73a6e252",
   "metadata": {},
   "source": [
    "## User settings"
   ]
  },
  {
   "cell_type": "code",
   "execution_count": 2,
   "id": "381d92ec",
   "metadata": {},
   "outputs": [],
   "source": [
    "centers = [[0.4, 0.6], [0.6, 0.4]]\n",
    "var_prior = 1 # set to a high value (1e+6) to test convergence in noise-free situations\n",
    "\n",
    "n_steps = 500\n",
    "\n",
    "sigma = 0.05  # std deviation for gaussian-type measurements. Get pointwise data for sigma -> 0\n",
    "radius = 0.05  # truncation radius for truncation-style measurements\n",
    "\n",
    "meshDim = 20  # discretization parameter (1D) for FOM\n",
    "meshDim_drone = 10  # discretization parameter (1D) for subdomain in truncation-type measurements\n",
    "polyDim = 3"
   ]
  },
  {
   "cell_type": "markdown",
   "id": "dde7f0eb",
   "metadata": {},
   "source": [
    "## Setup"
   ]
  },
  {
   "cell_type": "code",
   "execution_count": 3,
   "id": "338995b0",
   "metadata": {},
   "outputs": [
    {
     "name": "stdout",
     "output_type": "stream",
     "text": [
      "Runtime of this block: 6.81114387512207 s\n"
     ]
    }
   ],
   "source": [
    "tStart = time.time()\n",
    "\n",
    "# initialize full-order model\n",
    "fom = FOM(meshDim = meshDim, centers=centers, polyDim=polyDim)\n",
    "n_para = fom.n_para\n",
    "\n",
    "# set a prior\n",
    "prior_mean = np.zeros((n_para,))\n",
    "prior_covar = var_prior*np.eye(n_para)\n",
    "fom.set_prior(prior_mean=prior_mean, prior_covar=prior_covar)\n",
    "\n",
    "# compute one solution for nicer visualization below\n",
    "para_true = np.ones((n_para,))\n",
    "state = fom.solve(parameter=para_true)\n",
    "\n",
    "print(\"Runtime of this block: {} s\".format(time.time()-tStart))"
   ]
  },
  {
   "cell_type": "markdown",
   "id": "25d8d31a",
   "metadata": {},
   "source": [
    "So far, we've been using `NavigationCircle` as our `Navigation` class. We now want to use different ones though. Let's start with `NavigationFreePath` to understand what it is.\n",
    "\n",
    "Alright, so here is what I've learned:\n",
    "- `NavigationCircle` flies in a circle, characterized by speed and radius\n",
    "- `NavigationFreePath` just gets the path position as characterization variable `alpha`, it's basically a way to bypass the `Navigation` class. I don't know how I feel about that."
   ]
  },
  {
   "cell_type": "code",
   "execution_count": 4,
   "id": "7a79f684",
   "metadata": {},
   "outputs": [
    {
     "name": "stdout",
     "output_type": "stream",
     "text": [
      "Runtime of this block: 0.004870176315307617 s\n"
     ]
    }
   ],
   "source": [
    "tStart = time.time()\n",
    "\n",
    "# specify which navigation class we are using\n",
    "from NavigationFreePath import NavigationFreePath as Navigation\n",
    "\n",
    "# NavigationCircle was imported as Navigation\n",
    "navigation = Navigation(grid_t = np.linspace(0, 1, n_steps))\n",
    "\n",
    "print(\"Runtime of this block: {} s\".format(time.time()-tStart))"
   ]
  },
  {
   "cell_type": "markdown",
   "id": "6ad580fa",
   "metadata": {},
   "source": [
    "The rest of the setup works just as before. We're using the Bayesian noise model."
   ]
  },
  {
   "cell_type": "code",
   "execution_count": 6,
   "id": "a2d3254d",
   "metadata": {},
   "outputs": [
    {
     "name": "stdout",
     "output_type": "stream",
     "text": [
      "Runtime of this block: 0.01040506362915039 s\n"
     ]
    }
   ],
   "source": [
    "tStart = time.time()\n",
    "\n",
    "# point-wise measurements\n",
    "detector = DetectorPointwise(fom)\n",
    "\n",
    "# initialize drone\n",
    "drone = Drone(detector=detector, navigation=navigation, fom=fom)\n",
    "\n",
    "# set noise model\n",
    "noise = NoiseBayes(grid_t = drone.grid_t)\n",
    "noise.parameterize_noise_model(c_scaling = 1e+3, c_diffusion = 1)\n",
    "inversion = InverseProblem(fom, drone, noise=noise)\n",
    "\n",
    "print(\"Runtime of this block: {} s\".format(time.time()-tStart))"
   ]
  },
  {
   "cell_type": "markdown",
   "id": "66638708",
   "metadata": {},
   "source": [
    "## Path characterization"
   ]
  },
  {
   "cell_type": "markdown",
   "id": "c61afbe5",
   "metadata": {},
   "source": [
    "### by hand"
   ]
  },
  {
   "cell_type": "code",
   "execution_count": 7,
   "id": "c336d966",
   "metadata": {},
   "outputs": [
    {
     "data": {
      "text/plain": [
       "[<matplotlib.lines.Line2D at 0x16de23200>]"
      ]
     },
     "execution_count": 7,
     "metadata": {},
     "output_type": "execute_result"
    },
    {
     "data": {
      "image/png": "[encoded data removed]",
      "text/plain": [
       "<Figure size 300x300 with 1 Axes>"
      ]
     },
     "metadata": {},
     "output_type": "display_data"
    }
   ],
   "source": [
    "# user setting (for trying out different controls)\n",
    "position = np.hstack(\n",
    "            (np.linspace(0.5, 0.9, drone.grid_t.shape[0]), np.linspace(0.1, 0.4, drone.grid_t.shape[0]))\n",
    "        )\n",
    "\n",
    "# compute flight\n",
    "flight = drone.plan_flight(alpha=position, grid_t=drone.grid_t)  # Flight object\n",
    "flightpath, grid_t = flight.flightpath, flight.grid_t  # path and its time discretization\n",
    "\n",
    "# measure data\n",
    "data = drone.measure(flight=flight, state=state)\n",
    "\n",
    "\n",
    "fig, ax = plt.subplots(1, 1, figsize = (3, 3))\n",
    "fom.plot(state, ax=ax)\n",
    "plt.plot(flightpath[:, 0], flightpath[:, 1], color=\"r\")\n",
    "plt.plot([flightpath[0, 0]], [flightpath[0, 1]], color=\"r\", marker=\"s\")\n",
    "plt.plot([flightpath[-1, 0]], [flightpath[-1, 1]], color=\"r\", marker=\"d\")"
   ]
  },
  {
   "cell_type": "markdown",
   "id": "8940c9d6",
   "metadata": {},
   "source": [
    "### Circular path\n",
    "Specify initial position, initial direction, velocity, and angular velocity. The interpretation of angular velocity feels a bit unintuitive to me, but I'm sure there are reasons for it."
   ]
  },
  {
   "cell_type": "code",
   "execution_count": 8,
   "id": "46c09ad1",
   "metadata": {},
   "outputs": [],
   "source": [
    "from CircularPath import CircularPath as chosenPathClass"
   ]
  },
  {
   "cell_type": "code",
   "execution_count": 9,
   "id": "03579b7d",
   "metadata": {},
   "outputs": [
    {
     "data": {
      "text/plain": [
       "[<matplotlib.lines.Line2D at 0x16de9ab70>]"
      ]
     },
     "execution_count": 9,
     "metadata": {},
     "output_type": "execute_result"
    },
    {
     "data": {
      "image/png": "[encoded data removed]",
      "text/plain": [
       "<Figure size 300x300 with 1 Axes>"
      ]
     },
     "metadata": {},
     "output_type": "display_data"
    }
   ],
   "source": [
    "# user setting (for trying out different controls)\n",
    "alpha = {\n",
    "    \"initial x\" : 0.4,\n",
    "    \"initial y\" : 0.6,\n",
    "    \"initial heading\" : 0,\n",
    "    \"velocity\" : 1,\n",
    "    \"angular velocity\" : 1e-16,\n",
    "}\n",
    "\n",
    "# use path class to get position\n",
    "path = chosenPathClass(alpha = alpha)\n",
    "position = path.position(drone.grid_t)\n",
    "position = np.hstack([position[:, 0], position[:, 1]])\n",
    "\n",
    "# compute flight\n",
    "flight = drone.plan_flight(alpha=position, grid_t=drone.grid_t)  # Flight object\n",
    "flightpath, grid_t = flight.flightpath, flight.grid_t  # path and its time discretization\n",
    "\n",
    "# measure data\n",
    "data = drone.measure(flight=flight, state=state)\n",
    "\n",
    "\n",
    "fig, ax = plt.subplots(1, 1, figsize = (3, 3))\n",
    "fom.plot(state, ax=ax)\n",
    "plt.plot(flightpath[:, 0], flightpath[:, 1], color=\"r\")\n",
    "plt.plot([flightpath[0, 0]], [flightpath[0, 1]], color=\"r\", marker=\"s\")\n",
    "plt.plot([flightpath[-1, 0]], [flightpath[-1, 1]], color=\"r\", marker=\"d\")"
   ]
  },
  {
   "cell_type": "code",
   "execution_count": 10,
   "id": "ec893da4",
   "metadata": {},
   "outputs": [],
   "source": [
    "deriv = path.d_position_d_angular_velocity(grid_t)"
   ]
  },
  {
   "cell_type": "code",
   "execution_count": 11,
   "id": "4ac54d27",
   "metadata": {},
   "outputs": [
    {
     "data": {
      "text/plain": [
       "[<matplotlib.lines.Line2D at 0x16dea4800>]"
      ]
     },
     "execution_count": 11,
     "metadata": {},
     "output_type": "execute_result"
    },
    {
     "data": {
      "image/png": "[encoded data removed]",
      "text/plain": [
       "<Figure size 640x480 with 1 Axes>"
      ]
     },
     "metadata": {},
     "output_type": "display_data"
    }
   ],
   "source": [
    "plt.semilogy(np.abs(deriv[:, 0]))\n",
    "plt.plot(np.abs(deriv[:, 1]))"
   ]
  },
  {
   "cell_type": "markdown",
   "id": "98fc90ae",
   "metadata": {},
   "source": [
    "### CirclePath"
   ]
  },
  {
   "cell_type": "markdown",
   "id": "fc3d898d",
   "metadata": {},
   "source": [
    "This one is like `CircularPath` but uses a radius instead of angular velocity (which somehow also shifts the starting position), and the initial heading cannot be chosen. It uses a lot of the `CircularPath` functionality. I honestly find `CircularPath` easier to be used."
   ]
  },
  {
   "cell_type": "code",
   "execution_count": 12,
   "id": "0b71fdc4",
   "metadata": {},
   "outputs": [],
   "source": [
    "from CirclePath import CirclePath as chosenPathClass"
   ]
  },
  {
   "cell_type": "code",
   "execution_count": 13,
   "id": "10cac839",
   "metadata": {},
   "outputs": [
    {
     "data": {
      "text/plain": [
       "[<matplotlib.lines.Line2D at 0x16df49fa0>]"
      ]
     },
     "execution_count": 13,
     "metadata": {},
     "output_type": "execute_result"
    },
    {
     "data": {
      "image/png": "[encoded data removed]",
      "text/plain": [
       "<Figure size 300x300 with 1 Axes>"
      ]
     },
     "metadata": {},
     "output_type": "display_data"
    }
   ],
   "source": [
    "# user setting (for trying out different controls)\n",
    "alpha = {\n",
    "    \"initial x\" : 0.4,\n",
    "    \"initial y\" : 0.6,\n",
    "    \"initial heading\" : 0,\n",
    "    \"velocity\" : 1,\n",
    "    \"radius\" : 1\n",
    "}\n",
    "\n",
    "# use path class to get position\n",
    "path = chosenPathClass(alpha = [alpha[\"radius\"], \n",
    "                                alpha[\"velocity\"]], \n",
    "                       center = [alpha[\"initial x\"] - alpha[\"radius\"]*np.cos(drone.grid_t[0]*2*np.pi), \n",
    "                                 alpha[\"initial y\"] - alpha[\"radius\"]*np.sin(drone.grid_t[0]*2*np.pi)])\n",
    "position = path.position(drone.grid_t)\n",
    "position = np.hstack([position[:, 0], position[:, 1]])\n",
    "\n",
    "# compute flight\n",
    "flight = drone.plan_flight(alpha=position, grid_t=drone.grid_t)  # Flight object\n",
    "flightpath, grid_t = flight.flightpath, flight.grid_t  # path and its time discretization\n",
    "\n",
    "# measure data\n",
    "data = drone.measure(flight=flight, state=state)\n",
    "\n",
    "\n",
    "fig, ax = plt.subplots(1, 1, figsize = (3, 3))\n",
    "fom.plot(state, ax=ax)\n",
    "plt.plot(flightpath[:, 0], flightpath[:, 1], color=\"r\")\n",
    "plt.plot([flightpath[0, 0]], [flightpath[0, 1]], color=\"r\", marker=\"s\")\n",
    "plt.plot([flightpath[-1, 0]], [flightpath[-1, 1]], color=\"r\", marker=\"d\")"
   ]
  },
  {
   "cell_type": "markdown",
   "id": "280462b9",
   "metadata": {},
   "source": [
    "### Combined Circular Path"
   ]
  },
  {
   "cell_type": "markdown",
   "id": "4b133d98",
   "metadata": {},
   "source": [
    "This one, honstly, is very fun. It's stacking different `CircularPaths` together, each one with its own velocity and angular velocity."
   ]
  },
  {
   "cell_type": "code",
   "execution_count": 14,
   "id": "8ef9d429",
   "metadata": {},
   "outputs": [],
   "source": [
    "from CombinedCircularPath import CombinedCircularPath as chosenPathClass"
   ]
  },
  {
   "cell_type": "code",
   "execution_count": 15,
   "id": "33d24880",
   "metadata": {},
   "outputs": [],
   "source": [
    "initial_x = 0.4\n",
    "initial_y = 0.6\n",
    "initial_heading = 1\n",
    "velocity_angularVelocity = [np.array([1, 0]), np.array([1, 5]), np.array([1, -5])]\n",
    "transition_times = np.array([0, 0.25, 0.5, 1])"
   ]
  },
  {
   "cell_type": "code",
   "execution_count": 16,
   "id": "5a28d504",
   "metadata": {},
   "outputs": [],
   "source": [
    "path = chosenPathClass(initial_x = initial_x, \n",
    "                       initial_y = initial_y, \n",
    "                       initial_heading = initial_heading, \n",
    "                       parameters = velocity_angularVelocity,\n",
    "                       transition_times = transition_times)"
   ]
  },
  {
   "cell_type": "code",
   "execution_count": 17,
   "id": "987d6a94",
   "metadata": {},
   "outputs": [
    {
     "data": {
      "text/plain": [
       "[<matplotlib.lines.Line2D at 0x16e6b6f00>]"
      ]
     },
     "execution_count": 17,
     "metadata": {},
     "output_type": "execute_result"
    },
    {
     "data": {
      "image/png": "[encoded data removed]",
      "text/plain": [
       "<Figure size 300x300 with 1 Axes>"
      ]
     },
     "metadata": {},
     "output_type": "display_data"
    }
   ],
   "source": [
    "# use path class to get position\n",
    "position = path.position(drone.grid_t)\n",
    "position = np.hstack([position[:, 0], position[:, 1]])\n",
    "\n",
    "# compute flight\n",
    "flight = drone.plan_flight(alpha=position, grid_t=drone.grid_t)  # Flight object\n",
    "flightpath, grid_t = flight.flightpath, flight.grid_t  # path and its time discretization\n",
    "\n",
    "# measure data\n",
    "data = drone.measure(flight=flight, state=state)\n",
    "\n",
    "\n",
    "fig, ax = plt.subplots(1, 1, figsize = (3, 3))\n",
    "fom.plot(state, ax=ax)\n",
    "plt.plot(flightpath[:, 0], flightpath[:, 1], color=\"r\")\n",
    "plt.plot([flightpath[0, 0]], [flightpath[0, 1]], color=\"r\", marker=\"s\")\n",
    "plt.plot([flightpath[-1, 0]], [flightpath[-1, 1]], color=\"r\", marker=\"d\")"
   ]
  },
  {
   "cell_type": "markdown",
   "id": "2bd2e994",
   "metadata": {},
   "source": [
    "I still find the angular velocity somewhat hard to wrap my head around, but it works, somehow. The only other thing I wish was there was the possibility to reset the heading direction at each transition time instead of having the path be continuous. This would allow to fly from point to point in straight lines. Maybe I can add that later."
   ]
  },
  {
   "cell_type": "code",
   "execution_count": 18,
   "id": "11a168be",
   "metadata": {},
   "outputs": [],
   "source": [
    "deriv = path.d_position_d_initial_heading(t = grid_t)"
   ]
  },
  {
   "cell_type": "code",
   "execution_count": 19,
   "id": "674b5574",
   "metadata": {},
   "outputs": [
    {
     "ename": "IndexError",
     "evalue": "too many indices for array: array is 2-dimensional, but 3 were indexed",
     "output_type": "error",
     "traceback": [
      "\u001b[0;31m---------------------------------------------------------------------------\u001b[0m",
      "\u001b[0;31mIndexError\u001b[0m                                Traceback (most recent call last)",
      "Cell \u001b[0;32mIn[19], line 1\u001b[0m\n\u001b[0;32m----> 1\u001b[0m \u001b[43mderiv\u001b[49m\u001b[43m[\u001b[49m\u001b[38;5;241;43m400\u001b[39;49m\u001b[43m,\u001b[49m\u001b[43m \u001b[49m\u001b[43m:\u001b[49m\u001b[43m,\u001b[49m\u001b[43m \u001b[49m\u001b[43m:\u001b[49m\u001b[43m]\u001b[49m\n",
      "\u001b[0;31mIndexError\u001b[0m: too many indices for array: array is 2-dimensional, but 3 were indexed"
     ]
    }
   ],
   "source": [
    "deriv[400, :, :]"
   ]
  },
  {
   "cell_type": "code",
   "execution_count": null,
   "id": "cf31f8e8",
   "metadata": {},
   "outputs": [],
   "source": [
    "plt.plot(deriv[:, 0, 1])\n",
    "plt.plot(deriv[:, 1, 1])\n",
    "plt.plot(deriv[:, 2, 1])"
   ]
  },
  {
   "cell_type": "code",
   "execution_count": null,
   "id": "ae799713",
   "metadata": {},
   "outputs": [],
   "source": [
    "test = np.array([0, 1, 2])"
   ]
  },
  {
   "cell_type": "code",
   "execution_count": null,
   "id": "ba03bbd8",
   "metadata": {},
   "outputs": [],
   "source": [
    "def my_test(test):\n",
    "    a = test[0]\n",
    "    a = 5"
   ]
  },
  {
   "cell_type": "code",
   "execution_count": null,
   "id": "fcea5b43",
   "metadata": {},
   "outputs": [],
   "source": [
    "my_test(test)"
   ]
  },
  {
   "cell_type": "code",
   "execution_count": null,
   "id": "b4bafa5b",
   "metadata": {},
   "outputs": [],
   "source": [
    "test"
   ]
  },
  {
   "cell_type": "code",
   "execution_count": null,
   "id": "05ba9a41",
   "metadata": {},
   "outputs": [],
   "source": []
  }
 ],
 "metadata": {
  "kernelspec": {
   "display_name": "Python 3 (ipykernel)",
   "language": "python",
   "name": "python3"
  },
  "language_info": {
   "codemirror_mode": {
    "name": "ipython",
    "version": 3
   },
   "file_extension": ".py",
   "mimetype": "text/x-python",
   "name": "python",
   "nbconvert_exporter": "python",
   "pygments_lexer": "ipython3",
   "version": "3.12.5"
  }
 },
 "nbformat": 4,
 "nbformat_minor": 5
}
