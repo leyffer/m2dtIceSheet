{
 "cells": [
  {
   "cell_type": "code",
   "execution_count": 1,
   "id": "dd4cc2dd-cd72-438b-86f5-eb8e7f5082a5",
   "metadata": {},
   "outputs": [],
   "source": [
    "import sys\n",
    "sys.path.insert(0, \"../source/\")\n",
    "import pyomo\n",
    "import numpy as np\n",
    "import matplotlib.pyplot as plt\n",
    "import jax\n",
    "jax.config.update(\"jax_enable_x64\", True)\n",
    "import jax.numpy as jnp\n",
    "import cyipopt\n",
    "import pyomo.environ as pyenv\n",
    "from scipy.integrate import RK45"
   ]
  },
  {
   "cell_type": "code",
   "execution_count": null,
   "id": "6e4fac09-344d-4b74-b485-ea7f777c31fc",
   "metadata": {},
   "outputs": [],
   "source": [
    "# polygon obstacle\n",
    "class polygon_obstacle:\n",
    "    def __init__(self, vertices):\n",
    "        \"\"\"\n",
    "        :param vertices:  polygon vertices in clockwise order\n",
    "        \"\"\"\n",
    "        self.vertices = np.array(vertices)\n",
    "\n",
    "    def unit_vec(self, vector):\n",
    "        return vector/np.linalg.norm(vector)\n",
    "\n",
    "    @property\n",
    "    def side_vectors(self):\n",
    "        \"\"\"Unit vectors along perimeter of polygon\"\"\"\n",
    "        return np.array([\n",
    "            self.unit_vec(self.vertices[i] - self.vertices[i - 1]) for i in range(len(self.vertices))\n",
    "        ])\n",
    "\n",
    "    @property\n",
    "    def orthogonal_vectors(self):\n",
    "        \"\"\"Unit normal vectors for polygon sides\"\"\"\n",
    "        return np.array([\n",
    "            np.array([-v[1], v[0]]) for v in self.side_vectors\n",
    "        ])\n",
    "\n",
    "    @property\n",
    "    def constants(self):\n",
    "        \"\"\"\n",
    "        orthogonal . x >= constant\n",
    "        \"\"\"\n",
    "        return np.array([\n",
    "            np.dot(vertex, v) for vertex, v in zip(self.vertices, self.orthogonal_vectors)\n",
    "        ])\n",
    "\n",
    "polygon = polygon_obstacle([[0, 0], [1, 1.5], [1, 0]])\n",
    "\n",
    "x = np.linspace(-1, 2, 1000)\n",
    "y = np.linspace(-1, 2, 1000)\n",
    "X, Y = np.meshgrid(x, y)\n",
    "Z = np.zeros(X.shape)\n",
    "for v, c in zip(polygon.orthogonal_vectors, polygon.constants):\n",
    "    Z += (v[0]*X + v[1]*Y >= c)\n",
    "plt.figure()\n",
    "plt.imshow(Z)\n",
    "plt.colorbar()"
   ]
  },
  {
   "cell_type": "markdown",
   "id": "a91cf023-edcb-45ea-8a34-15bb00cbf011",
   "metadata": {},
   "source": [
    "# Pyomo DAE"
   ]
  },
  {
   "cell_type": "code",
   "execution_count": null,
   "id": "5357a3d5-39a2-482d-a06b-72e1aeadc029",
   "metadata": {
    "scrolled": true
   },
   "outputs": [],
   "source": [
    "model = pyenv.ConcreteModel()\n",
    "\n",
    "x0 = 0.8\n",
    "y0 = 0.7\n",
    "theta0 = 0.0\n",
    "x_final = 0.0\n",
    "y_final = 0.0\n",
    "theta_final = np.pi\n",
    "\n",
    "M = 10\n",
    "\n",
    "regularization = 0.1\n",
    "\n",
    "# Obstacles\n",
    "cxs = [0.5, 0.4, 0.0]\n",
    "cys = [0.5, 0.0, 0.1]\n",
    "rs = [0.25, 0.15, 0.09]\n",
    "obstacle_shape = \"circle\"\n",
    "\n",
    "# bounds\n",
    "x_lower = 0\n",
    "x_upper = 1\n",
    "y_lower = 0\n",
    "y_upper = 1\n",
    "v_lower = 0.0\n",
    "v_upper = 1\n",
    "acc_lower = -10\n",
    "acc_upper = 10\n",
    "omega_lower = -100*np.pi\n",
    "omega_upper = 100*np.pi\n",
    "omega_acc_lower = -100\n",
    "omega_acc_upper = 100\n",
    "\n",
    "model.T = 4  # final time\n",
    "model.NK = 100  # number of time steps\n",
    "model.h = model.T/model.NK  # time grid spacing\n",
    "model.K = pyenv.RangeSet(model.NK)\n",
    "model.K0 = pyenv.RangeSet(0, model.NK)\n",
    "model.Km1 = pyenv.RangeSet(model.NK - 1)  # [1, NK - 1]\n",
    "model.K0m1 = pyenv.RangeSet(0, model.NK - 1)  # [1, NK - 1]\n",
    "model.K0m2 = pyenv.RangeSet(0, model.NK - 2)  # [1, NK - 1]\n",
    "\n",
    "# Initial path\n",
    "initial_x = np.linspace(x0, 0.0, model.NK)\n",
    "initial_y = np.linspace(y0, 0.0, model.NK)\n",
    "initial_theta = np.linspace(0.2, 0.5, model.NK)\n",
    "initial_theta = np.arctan2(np.diff(initial_y, append=0.),np.diff(initial_x, append=0.))\n",
    "initial_v = np.ones(initial_x.shape)\n",
    "\n",
    "# # Use previously solved path\n",
    "# initial_x = x\n",
    "# initial_y = y\n",
    "# initial_theta = theta\n",
    "# initial_v = v\n",
    "# initial_omega = omega\n",
    "\n",
    "model.x = pyenv.Var(model.K0m1, domain=pyenv.Reals, bounds=(x_lower, x_upper), initialize=dict(zip(model.K0, initial_x))) # p(t)_x\n",
    "model.y = pyenv.Var(model.K0m1, domain=pyenv.Reals, bounds=(y_lower, y_upper), initialize=dict(zip(model.K0, initial_y))) # p(t)_y\n",
    "model.theta = pyenv.Var(model.K0m1, domain=pyenv.Reals)  # theta can be unbounded, arctan(dy/dx)\n",
    "model.v = pyenv.Var(model.K0m1, domain=pyenv.Reals, bounds=(v_lower, v_upper), initialize=dict(zip(model.K0, initial_v))) # velocity; control parameter\n",
    "model.acc = pyenv.Var(model.K0m1, domain=pyenv.Reals, bounds=(acc_lower, acc_upper), initialize=dict(zip(model.K0m1, np.diff(initial_v)))) # acceleration; control parameter\n",
    "model.omega = pyenv.Var(model.K0m1, domain=pyenv.Reals, bounds=(omega_lower, omega_upper)) # angular velocity; control parameter\n",
    "model.omega_acc = pyenv.Var(model.K0m1, domain=pyenv.Reals, bounds=(omega_acc_lower, omega_acc_upper)) # angular acceleration; control parameter\n",
    "\n",
    "def x_forward_Euler(model, k):\n",
    "    return model.x[k + 1] - model.x[k] == model.h * model.v[k] * pyenv.cos(model.theta[k])\n",
    "model.x_forward_Euler = pyenv.Constraint(model.K0m2, rule=x_forward_Euler)\n",
    "\n",
    "def y_forward_Euler(model, k):\n",
    "    return model.y[k + 1] - model.y[k] == model.h * model.v[k] * pyenv.sin(model.theta[k])\n",
    "model.y_forward_Euler = pyenv.Constraint(model.K0m2, rule=y_forward_Euler)\n",
    "\n",
    "def theta_forward_Euler(model, k):\n",
    "    return model.theta[k + 1] - model.theta[k] == model.h * model.omega[k]\n",
    "model.theta_forward_Euler = pyenv.Constraint(model.K0m2, rule=theta_forward_Euler)\n",
    "\n",
    "def acceleration_forward_Euler(model, k):\n",
    "    return model.v[k + 1] - model.v[k] == model.h * model.acc[k]\n",
    "model.acceleration_forward_Euler = pyenv.Constraint(model.K0m2, rule=acceleration_forward_Euler)\n",
    "\n",
    "def omega_acceleration_forward_Euler(model, k):\n",
    "    return model.omega[k + 1] - model.omega[k] == model.h * model.omega_acc[k]\n",
    "model.omega_acceleration_forward_Euler = pyenv.Constraint(model.K0m2, rule=omega_acceleration_forward_Euler)\n",
    "\n",
    "def initial_x_rule(model):\n",
    "    return model.x[0] == x0\n",
    "model.initial_x_rule = pyenv.Constraint(rule=initial_x_rule)\n",
    "\n",
    "def initial_y_rule(model):\n",
    "    return model.y[0] == y0\n",
    "model.initial_y_rule = pyenv.Constraint(rule=initial_y_rule)\n",
    "\n",
    "def initial_theta_rule(model):\n",
    "    return model.theta[0] == theta0\n",
    "# model.initial_theta_rule = pyenv.Constraint(rule=initial_theta_rule)\n",
    "\n",
    "def final_x_rule(model):\n",
    "    return model.x[model.NK-1] == x_final\n",
    "model.final_x_rule = pyenv.Constraint(rule=final_x_rule)\n",
    "\n",
    "def final_y_rule(model):\n",
    "    return model.y[model.NK-1] == y_final\n",
    "model.final_y_rule = pyenv.Constraint(rule=final_y_rule)\n",
    "\n",
    "# Allow for +- 2*pi\n",
    "def final_theta_sin_rule(model):\n",
    "    return pyenv.sin(model.theta[model.NK]) == pyenv.sin(theta_final)\n",
    "\n",
    "def final_theta_cos_rule(model):\n",
    "    return pyenv.cos(model.theta[model.NK]) == pyenv.cos(theta_final)\n",
    "# model.final_theta_sin_rule = pyenv.Constraint(rule=final_theta_sin_rule)\n",
    "# model.final_theta_cos_rule = pyenv.Constraint(rule=final_theta_cos_rule)\n",
    "\n",
    "def diamond_obstacle_rule(model, k, cx, cy, r):\n",
    "    \"\"\"1-norm obstacle with center (cx, cy) and radius r\"\"\"\n",
    "    rx = r\n",
    "    ry = r\n",
    "    return abs(model.x[k] - cx)/rx +  abs(model.y[k] - cy)/ry >= 1\n",
    "\n",
    "def square_obstacle_rule(model, k, cx, cy, r):\n",
    "    \"\"\"1-norm obstacle rotated with center (cx, cy) and radius r\"\"\"\n",
    "    rx = r\n",
    "    ry = r\n",
    "    return 0.5*abs((model.x[k]-cx)/rx + (model.y[k]-cy)/ry) +  0.5*abs((model.x[k]-cx)/rx - (model.y[k]-cy)/ry) >= 1\n",
    "\n",
    "def circle_obstacle_rule(model, k, cx, cy, r):\n",
    "    \"\"\"Circle obstacle with center (cx, cy) and radius r\"\"\"\n",
    "    rx = r\n",
    "    ry = r\n",
    "    return (model.x[k] - cx)**2/(rx**2) + (model.y[k] - cy)**2/(ry**2) >= 1\n",
    "\n",
    "if obstacle_shape == \"circle\":\n",
    "    model.circle_obstacle_rules = pyenv.ConstraintList()\n",
    "    for k in model.K0m1:\n",
    "        for cx, cy, r in zip(cxs, cys, rs):\n",
    "            model.circle_obstacle_rules.add(\n",
    "                circle_obstacle_rule(model, k, cx, cy, r)\n",
    "            )\n",
    "elif obstacle_shape == \"square\":\n",
    "    model.square_obstacle_rules = pyenv.ConstraintList()\n",
    "    for k in model.K0m1:\n",
    "        for cx, cy, r in zip(cxs, cys, rs):\n",
    "            model.square_obstacle_rules.add(\n",
    "                square_obstacle_rule(model, k, cx, cy, r)\n",
    "            )\n",
    "elif obstacle_shape == \"diamond\":\n",
    "    model.diamond_obstacle_rules = pyenv.ConstraintList()\n",
    "    for k in model.K0m1:\n",
    "        for cx, cy, r in zip(cxs, cys, rs):\n",
    "            model.diamond_obstacle_rules.add(\n",
    "                diamond_obstacle_rule(model, k, cx, cy, r)\n",
    "            )\n",
    "\n",
    "# poly1_vertices = [\n",
    "#     [0.1, 0.0],\n",
    "#     [0.1, 0.2],\n",
    "#     [0.2, 0.2],\n",
    "#     [0.2, 0.0]\n",
    "# ]\n",
    "# polygons = [\n",
    "#     polygon_obstacle(poly1_vertices)\n",
    "# ]\n",
    "\n",
    "# model.Nvertices = pyenv.RangeSet(len(poly1_vertices))\n",
    "# model.Y = pyenv.Var(model.Nvertices, domain=pyenv.Binary)\n",
    "\n",
    "# model.poly_obstacle_rules = pyenv.ConstraintList()\n",
    "# for poly in polygons:\n",
    "#     for i, (v, c) in enumerate(zip(poly.orthogonal_vectors, poly.constants)):\n",
    "#         for k in model.K:\n",
    "#             model.poly_obstacle_rules.add((model.x[k]*v[0] + model.y[k]*v[1]) >= model.Y[i+1] * c - (1 - model.Y[i+1]) * M)\n",
    "\n",
    "# def poly_obstacle_sum_rule(model):\n",
    "#     return sum(model.Y[i] for i in model.Nvertices) >= 1\n",
    "# model.poly_obstacle_sum_rule = pyenv.Constraint(rule = poly_obstacle_sum_rule)\n",
    "\n",
    "def objective_func(model):\n",
    "    return model.x[model.NK-1]**2 + model.y[model.NK-1]**2 + regularization/model.NK*(pyenv.sum_product(model.v, model.v) + pyenv.sum_product(model.omega, model.omega))\n",
    "    # return pyenv.sum_product(model.v, model.v) + pyenv.sum_product(model.omega, model.omega)\n",
    "model.objective_func = pyenv.Objective(rule=objective_func, sense=pyenv.minimize)\n",
    "\n",
    "\n",
    "solver = pyenv.SolverFactory(\"ipopt\")\n",
    "# solver.options['derivative_test'] = 'first-order'\n",
    "solver.solve(model, tee=True)\n"
   ]
  },
  {
   "cell_type": "code",
   "execution_count": null,
   "id": "0ea464f7-1c31-4cd1-9975-11f55f69e2ec",
   "metadata": {},
   "outputs": [],
   "source": [
    "import matplotlib.pyplot as plt\n",
    "plt.figure()\n",
    "\n",
    "x, y, theta, v, omega = [], [], [], [], []\n",
    "for k in zip(model.K0m1):\n",
    "    x.append(pyenv.value(model.x[k]))\n",
    "    y.append(pyenv.value(model.y[k]))\n",
    "    theta.append(pyenv.value(model.theta[k]))\n",
    "    v.append(pyenv.value(model.v[k]))\n",
    "    omega.append(pyenv.value(model.omega[k]))\n",
    "plt.plot(x, y, label=\"Optimized path\")\n",
    "plt.scatter(x, y)\n",
    "plt.scatter(x[0], y[0], marker='*')\n",
    "plt.xlim([-0,1])\n",
    "plt.ylim([-0,1])\n",
    "\n",
    "plt.plot(initial_x, initial_y, label=\"Initial path\")\n",
    "\n",
    "if obstacle_shape == \"circle\":\n",
    "    style = 'k'\n",
    "else:\n",
    "    style = 'k--'\n",
    "# circle\n",
    "t = np.linspace(0, 2*np.pi, 100)\n",
    "for cx, cy, r in zip(cxs, cys, rs):\n",
    "    plt.plot(r*np.cos(t) + cx, r*np.sin(t) + cy, style)\n",
    "\n",
    "if obstacle_shape == \"diamond\":\n",
    "    style = 'k'\n",
    "else:\n",
    "    style = 'k--'\n",
    "# diamond\n",
    "for cx, cy, r in zip(cxs, cys, rs):\n",
    "    plt.plot([cx, cx + r, cx, cx - r, cx], [cy + r, cy, cy - r, cy, cy + r], style)\n",
    "\n",
    "if obstacle_shape == \"square\":\n",
    "    style = 'k'\n",
    "else:\n",
    "    style = 'k--'\n",
    "# square\n",
    "for cx, cy, r in zip(cxs, cys, rs):\n",
    "    plt.plot([cx + r, cx + r, cx - r, cx - r, cx + r], [cy -r, cy + r, cy + r, cy - r, cy - r], style)\n",
    "\n",
    "# for poly in polygons:\n",
    "#     plt.plot(poly.vertices[:,0], poly.vertices[:,1])\n",
    "\n",
    "plt.legend()\n",
    "\n",
    "plt.figure()\n",
    "plt.plot(v, label=\"Velocity\")\n",
    "plt.plot(omega, label=\"Angular Velocity\")\n",
    "plt.legend()"
   ]
  },
  {
   "cell_type": "markdown",
   "id": "449c0d79-d52d-412e-af90-761c3031e3e4",
   "metadata": {},
   "source": [
    "Solution is sensitive to initial path provided. I am not sure how IPOPT handles initial values that are inconsitent with constraints."
   ]
  },
  {
   "cell_type": "markdown",
   "id": "bbe649db-8015-4064-92d4-f369c6bf77c3",
   "metadata": {},
   "source": [
    "Unfortunately, I don't see how to get the external function of the OED objective into pyomo. It might be better to interface directly with IPOPT."
   ]
  },
  {
   "cell_type": "markdown",
   "id": "94c94596-1eea-4e36-a992-1753f2544e66",
   "metadata": {},
   "source": [
    "# Direct IPOPT optimization: Example Rosenbrock function\n",
    "If we use `cyipopt`, we can specify the objective function value and a gradient function, but we have to handle the constraints ourselves."
   ]
  },
  {
   "cell_type": "code",
   "execution_count": null,
   "id": "b6fe4696-a3dc-4649-a385-e7486c7a76c6",
   "metadata": {
    "scrolled": true
   },
   "outputs": [],
   "source": [
    "# Define the objective function\n",
    "def rosenbrock(x, user_data=None):\n",
    "    x1 = x[0]\n",
    "    x2 = x[1]\n",
    "    return (1 - x[0])**2 + 100 * (x[1] - x[0]**2)**2\n",
    "\n",
    "class Objective:\n",
    "    def objective(self, x):\n",
    "        return rosenbrock(x, user_data=None)\n",
    "    def gradient(self, x):\n",
    "        \"\"\"Objective function gradient\"\"\"\n",
    "        return jax.grad(self.objective)(x)\n",
    "    def constraints(self, x):\n",
    "        \"\"\"Values to constrain between cl and cu\"\"\"\n",
    "        return (\n",
    "            (x[0] - 1)**2 + (x[1] - 1)**2,\n",
    "            x[0]\n",
    "        )\n",
    "    def jacobian(self, x):\n",
    "        \"\"\"Jacobian of constraints\"\"\"\n",
    "        return jax.jacfwd(self.constraints)(x)\n",
    "        \n",
    "problem_obj = Objective()\n",
    "\n",
    "print(f\"objective: {problem_obj.objective([1.2,1.])}\\ngradient: {problem_obj.gradient([1.2,1.])}\")\n",
    "\n",
    "# Create the problem instance\n",
    "problem = cyipopt.Problem(\n",
    "    n=2,  # Number of decision variables\n",
    "    m=2,  # Number of constraints\n",
    "    problem_obj=problem_obj,  # Objective object with \"objective\" and \"gradient\" functions\n",
    "    lb = [-2.0, -2.0],  # Lower bounds for x\n",
    "    ub = [2.0, 2.0],  # Upper bounds for x\n",
    "    cl = [0.01, 0.0], # Lower bound for constraints\n",
    "    cu = [0.01, 1.5], # Lower bound for constraints\n",
    ")\n",
    "\n",
    "# Set the initial guess for the decision variables\n",
    "x0 = [2.0, 1.0]\n",
    "\n",
    "problem.add_option(\"derivative_test\", \"first-order\")\n",
    "# Solve the problem\n",
    "solution, info = problem.solve(x0)\n",
    "\n",
    "# Print the solution\n",
    "print(f\"Solution: {solution}\")\n",
    "print(f\"Objective value: {info['obj_val']}\")"
   ]
  },
  {
   "cell_type": "markdown",
   "id": "c402afc5-3e60-403d-8953-30248d5dfe12",
   "metadata": {},
   "source": [
    "# HS71"
   ]
  },
  {
   "cell_type": "code",
   "execution_count": null,
   "id": "83d95454-c326-4ff7-8328-34df5f50c254",
   "metadata": {},
   "outputs": [],
   "source": [
    "# Define the objective function\n",
    "@jax.jit\n",
    "def HockSchittkowski71(x):\n",
    "    x1 = x[0]\n",
    "    x2 = x[1]\n",
    "    x3 = x[2]\n",
    "    x4 = x[3]\n",
    "    return x1*x4*(x1 + x2 + x3) + x3\n",
    "\n",
    "@jax.jit\n",
    "def objective(x):\n",
    "    return x[0]*x[3]*jnp.sum(x[:3]) + x[2]\n",
    "\n",
    "@jax.jit\n",
    "def gradient(x):\n",
    "    \"\"\"Objective function gradient\"\"\"\n",
    "    return jax.grad(objective)(x)\n",
    "\n",
    "@jax.jit\n",
    "def constraints(x):\n",
    "    \"\"\"Values to constrain between cl and cu\"\"\"\n",
    "    return jnp.array((\n",
    "        jnp.sum(x**2) - 40, # == 0\n",
    "        jnp.prod(x) - 25, # >= 0\n",
    "    ))\n",
    "\n",
    "@jax.jit\n",
    "def jacobian(x):\n",
    "    \"\"\"Jacobian of constraints\"\"\"\n",
    "    return jax.jacfwd(constraints)(x)\n",
    "\n",
    "class Objective:\n",
    "    def objective(self, x):\n",
    "        return objective(x)\n",
    "    def gradient(self, x):\n",
    "        return gradient(x)\n",
    "    @property\n",
    "    def n(self):\n",
    "        return 4\n",
    "    @property\n",
    "    def m(self):\n",
    "        return 2\n",
    "    @property\n",
    "    def lb(self):\n",
    "        return (1,1,1,1,)\n",
    "    @property\n",
    "    def ub(self):\n",
    "        return (5,5,5,5,)\n",
    "    @property\n",
    "    def x0(self):\n",
    "        return jnp.array((1.0,5.0,5.0,1.0,))\n",
    "    def constraints(self, x):\n",
    "        return constraints(x)\n",
    "    @property\n",
    "    def cl(self):\n",
    "        return (0,0,)\n",
    "    @property\n",
    "    def cu(self):\n",
    "        return (0,np.inf,)\n",
    "    def jacobian(self, x):\n",
    "        return jacobian(x)\n",
    "\n",
    "    # def hessian(self, x, lagrange, objective_factor):\n",
    "    #     \"\"\"Hessian of lagrangian\"\"\"\n",
    "    #     print(jnp.sum(lagrange[:,jnp.newaxis,jnp.newaxis] * jax.jacrev(jax.jacfwd(self.constraints))(x), axis = 0))\n",
    "    #     print(jax.jacrev(jax.jacfwd(self.objective))(x))\n",
    "    #     print(jnp.sum(lagrange[:,jnp.newaxis,jnp.newaxis] * jax.jacrev(jax.jacfwd(self.constraints))(x), axis = 0) + objective_factor * jax.jacrev(jax.jacfwd(self.objective))(x))\n",
    "    #     return jnp.sum(lagrange[:,jnp.newaxis,jnp.newaxis] * jax.jacrev(jax.jacfwd(self.constraints))(x), axis = 0) + objective_factor * jax.jacrev(jax.jacfwd(self.objective))(x)\n",
    "        \n",
    "        \n",
    "problem_obj = Objective()\n",
    "\n",
    "# print(f\"objective: {problem_obj.objective([1.2,1.])}\\ngradient: {problem_obj.gradient([1.2,1.])}\")\n",
    "\n",
    "# Create the problem instance\n",
    "problem = cyipopt.Problem(\n",
    "    n = problem_obj.n,  # Number of decision variables\n",
    "    m = problem_obj.m,  # Number of constraints\n",
    "    problem_obj=problem_obj,  # Objective object with \"objective\" and \"gradient\" functions\n",
    "    lb = problem_obj.lb,  # Lower bounds for x\n",
    "    ub = problem_obj.ub,  # Upper bounds for x\n",
    "    cl = problem_obj.cl, # Lower bound for constraints\n",
    "    cu = problem_obj.cu, # Lower bound for constraints\n",
    ")\n",
    "\n",
    "# Set the initial guess for the decision variables\n",
    "x0 = problem_obj.x0\n",
    "\n",
    "problem_obj.jacobian(x0)\n",
    "problem_obj.gradient(x0)\n",
    "\n",
    "problem.add_option(\"derivative_test\", \"first-order\")\n",
    "problem.add_option(\"hessian_approximation\", \"limited-memory\")\n",
    "# Solve the problem\n",
    "solution, info = problem.solve(x0)\n",
    "\n",
    "# Print the solution\n",
    "# print(f\"Solution: {solution}\")\n",
    "# print(f\"Objective value: {info['obj_val']}\")"
   ]
  },
  {
   "cell_type": "code",
   "execution_count": null,
   "id": "4d760001-ae29-4734-98e8-43c9781f6622",
   "metadata": {},
   "outputs": [],
   "source": [
    "model = pyenv.ConcreteModel()\n",
    "\n",
    "# bounds\n",
    "x_lower = 1\n",
    "x_upper = 5\n",
    "\n",
    "model.n = pyenv.RangeSet(4)\n",
    "\n",
    "# Initial\n",
    "initial_x = [1, 5, 5, 1]\n",
    "\n",
    "model.x = pyenv.Var(model.n, domain=pyenv.Reals, bounds=(x_lower, x_upper), initialize=dict(zip(model.n, initial_x)))\n",
    "\n",
    "def con_1(model):\n",
    "    return model.x[1]**2 + model.x[2]**2 + model.x[3]**2 + model.x[4]**2 - 40 == 0 # == 0\n",
    "def con_2(model):\n",
    "    return model.x[1]*model.x[2]*model.x[3]*model.x[4] - 25 >= 0\n",
    "model.con_1 = pyenv.Constraint(rule=con_1)\n",
    "model.con_2 = pyenv.Constraint(rule=con_2)\n",
    "\n",
    "def objective(model):\n",
    "    return model.x[1]*model.x[4]*(model.x[1] + model.x[2] + model.x[3]) + model.x[3]\n",
    "model.objective = pyenv.Objective(rule=objective, sense=pyenv.minimize)\n",
    "\n",
    "\n",
    "solver = pyenv.SolverFactory(\"ipopt\")\n",
    "solver.options['derivative_test'] = 'first-order'\n",
    "solver.options['hessian_approximation'] = 'limited-memory'\n",
    "solver.solve(model, tee=True)\n"
   ]
  },
  {
   "cell_type": "markdown",
   "id": "23b86bd1-6c95-47b4-a8b9-44fdefdcfb75",
   "metadata": {},
   "source": [
    "# HS61"
   ]
  },
  {
   "cell_type": "code",
   "execution_count": null,
   "id": "44093f98-feb6-4488-b7b4-21e649c62fdf",
   "metadata": {},
   "outputs": [],
   "source": [
    "# Model hs61 \n",
    "# x[0:2] = 0 best known objective = - 143.6461422\n",
    "@jax.jit\n",
    "def objective(x):\n",
    "    return 4*x[0]**2 + 2*x[1]**2 + 2*x[2]**2 - 33*x[0] + 16*x[1] - 24*x[2]\n",
    "@jax.jit\n",
    "def constraints(x):\n",
    "    return jnp.array((\n",
    "        3*x[0] - 2*x[1]**2 - 7,\n",
    "        4*x[0] -   x[2]**2 - 11,\n",
    "    ))\n",
    "\n",
    "@jax.jit\n",
    "def gradient(x):\n",
    "    \"\"\"Objective function gradient\"\"\"\n",
    "    return jax.grad(objective)(x)\n",
    "\n",
    "@jax.jit\n",
    "def jacobian(x):\n",
    "    \"\"\"Jacobian of constraints\"\"\"\n",
    "    return jax.jacfwd(constraints)(x)\n",
    "\n",
    "class Objective:\n",
    "    def objective(self, x):\n",
    "        return objective(x)\n",
    "    def gradient(self, x):\n",
    "        return gradient(x)\n",
    "    @property\n",
    "    def n(self):\n",
    "        return 3\n",
    "    @property\n",
    "    def m(self):\n",
    "        return 2\n",
    "    @property\n",
    "    def lb(self):\n",
    "        # return (-np.inf,-np.inf,-np.inf,)\n",
    "        return None\n",
    "    @property\n",
    "    def ub(self):\n",
    "        # return (np.inf,np.inf,np.inf,)\n",
    "        return None\n",
    "    @property\n",
    "    def x0(self):\n",
    "        return jnp.array((0.0,0.0,0.0,))\n",
    "    def constraints(self, x):\n",
    "        return constraints(x)\n",
    "    @property\n",
    "    def cl(self):\n",
    "        return (0,0,)\n",
    "    @property\n",
    "    def cu(self):\n",
    "        return (0,0,)\n",
    "    def jacobian(self, x):\n",
    "        return jacobian(x)\n",
    "\n",
    "    # def hessian(self, x, lagrange, objective_factor):\n",
    "    #     \"\"\"Hessian of lagrangian\"\"\"\n",
    "    #     print(jnp.sum(lagrange[:,jnp.newaxis,jnp.newaxis] * jax.jacrev(jax.jacfwd(self.constraints))(x), axis = 0))\n",
    "    #     print(jax.jacrev(jax.jacfwd(self.objective))(x))\n",
    "    #     print(jnp.sum(lagrange[:,jnp.newaxis,jnp.newaxis] * jax.jacrev(jax.jacfwd(self.constraints))(x), axis = 0) + objective_factor * jax.jacrev(jax.jacfwd(self.objective))(x))\n",
    "    #     return jnp.sum(lagrange[:,jnp.newaxis,jnp.newaxis] * jax.jacrev(jax.jacfwd(self.constraints))(x), axis = 0) + objective_factor * jax.jacrev(jax.jacfwd(self.objective))(x)\n",
    "        \n",
    "        \n",
    "problem_obj = Objective()\n",
    "\n",
    "# print(f\"objective: {problem_obj.objective([1.2,1.])}\\ngradient: {problem_obj.gradient([1.2,1.])}\")\n",
    "\n",
    "# Create the problem instance\n",
    "problem = cyipopt.Problem(\n",
    "    n = problem_obj.n,  # Number of decision variables\n",
    "    m = problem_obj.m,  # Number of constraints\n",
    "    problem_obj=problem_obj,  # Objective object with \"objective\" and \"gradient\" functions\n",
    "    lb = problem_obj.lb,  # Lower bounds for x\n",
    "    ub = problem_obj.ub,  # Upper bounds for x\n",
    "    cl = problem_obj.cl, # Lower bound for constraints\n",
    "    cu = problem_obj.cu, # Lower bound for constraints\n",
    ")\n",
    "\n",
    "# Set the initial guess for the decision variables\n",
    "x0 = problem_obj.x0\n",
    "\n",
    "problem_obj.jacobian(x0)\n",
    "problem_obj.gradient(x0)\n",
    "\n",
    "problem.add_option(\"derivative_test\", \"first-order\")\n",
    "problem.add_option(\"hessian_approximation\", \"limited-memory\")\n",
    "# Solve the problem\n",
    "solution, info = problem.solve(x0)\n",
    "\n",
    "# Print the solution\n",
    "# print(f\"Solution: {solution}\")\n",
    "# print(f\"Objective value: {info['obj_val']}\")"
   ]
  },
  {
   "cell_type": "code",
   "execution_count": null,
   "id": "5ea6e969-fe11-4f8d-97ea-b277aa607242",
   "metadata": {},
   "outputs": [],
   "source": [
    "model = pyenv.ConcreteModel()\n",
    "\n",
    "model.n = pyenv.RangeSet(3)\n",
    "\n",
    "# Initial\n",
    "initial_x = [0, 0, 0]\n",
    "\n",
    "model.x = pyenv.Var(model.n, domain=pyenv.Reals, initialize=dict(zip(model.n, initial_x)))\n",
    "\n",
    "def con_1(model):\n",
    "    return 3*model.x[1] - 2*model.x[2]**2 == 7\n",
    "def con_2(model):\n",
    "    return 4*model.x[1] -   model.x[3]**2 == 11\n",
    "model.con_1 = pyenv.Constraint(rule=con_1)\n",
    "model.con_2 = pyenv.Constraint(rule=con_2)\n",
    "\n",
    "def objective(model):\n",
    "    return 4*model.x[1]**2 + 2*model.x[2]**2 + 2*model.x[3]**2 - 33*model.x[1] + 16*model.x[2] - 24*model.x[3]\n",
    "model.objective = pyenv.Objective(rule=objective, sense=pyenv.minimize)\n",
    "\n",
    "\n",
    "solver = pyenv.SolverFactory(\"ipopt\")\n",
    "solver.options['derivative_test'] = 'first-order'\n",
    "solver.options['hessian_approximation'] = 'limited-memory'\n",
    "solver.solve(model, tee=True)\n"
   ]
  },
  {
   "cell_type": "markdown",
   "id": "dcc665bb-fa92-4ef7-b36f-6a3f86ff85b2",
   "metadata": {},
   "source": [
    "# Direct IPOPT optimization\n",
    "Implement the above that was in pyomo to IPOPT directly (should let us swap the function call to something else)"
   ]
  },
  {
   "cell_type": "code",
   "execution_count": null,
   "id": "53f6dcf5-62cb-45d9-97ff-8e2f253e1e20",
   "metadata": {},
   "outputs": [],
   "source": [
    "from scipy.sparse import coo_array\n",
    "from functools import cached_property\n",
    "\n",
    "class Objective:\n",
    "    def __init__(self):\n",
    "        self.x0 = 0.8\n",
    "        self.y0 = 0.8\n",
    "        self.theta0 = 0.0\n",
    "        self.x_final = 0.0\n",
    "        self.y_final = 0.0\n",
    "        self.theta_final = np.pi\n",
    "        \n",
    "        # # Obstacles\n",
    "        # self.cxs = [0.5, 0.4, 0.0]\n",
    "        # self.cys = [0.5, 0.0, 0.1]\n",
    "        # self.rxs = [0.35, 0.15, 0.09]\n",
    "        # self.rys = [0.25, 0.15, 0.09]\n",
    "        # self.obstacle_shape = \"circle\"\n",
    "        # Obstacles\n",
    "        self.cxs = []\n",
    "        self.cys = []\n",
    "        self.rxs = []\n",
    "        self.rys = []\n",
    "        self.obstacle_shape = \"circle\"\n",
    "        \n",
    "        # bounds\n",
    "        self.x_lower = 0\n",
    "        self.x_upper = 1\n",
    "        self.y_lower = 0\n",
    "        self.y_upper = 1\n",
    "        self.theta_lower = -1000\n",
    "        self.theta_upper = 1000\n",
    "        self.v_lower = 0.0\n",
    "        self.v_upper = 1\n",
    "        self.acc_lower = -10\n",
    "        self.acc_upper = 10\n",
    "        self.omega_lower = -100*np.pi\n",
    "        self.omega_upper = 100*np.pi\n",
    "        self.omega_acc_lower = -100\n",
    "        self.omega_acc_upper = 100\n",
    "        \n",
    "        self.T = 4.0  # final time\n",
    "        self.NK = 3  # number of time steps\n",
    "        self.h = self.T/self.NK  # time grid spacing\n",
    "        self.reg = 0.001  # regularization term\n",
    "\n",
    "        self.x_shift = 0*self.NK\n",
    "        self.y_shift = 1*self.NK\n",
    "        self.theta_shift = 2*self.NK\n",
    "        self.v_shift = 3*self.NK\n",
    "        self.acc_shift = 4*self.NK\n",
    "        self.omega_shift = 5*self.NK\n",
    "        self.omega_acc_shift = 6*self.NK\n",
    "\n",
    "        self.n = self.NK*7 # number of variables\n",
    "        self.num_equality_constraints = (self.NK - 1) * 5 + 4\n",
    "        self.m = self.num_equality_constraints + (self.NK) * len(self.cxs) # self.constraints(jnp.zeros((self.n, ))).shape[0] # number of constraints (also initializes the number of equality/inequality constraints)\n",
    "\n",
    "    def var_joiner(self, x, y, theta, v, acc, omega, omega_acc):\n",
    "        \"\"\"Join variables into a single vector\"\"\"\n",
    "        return jnp.concat((x, y, theta, v, acc, omega, omega_acc), axis=0)\n",
    "        \n",
    "    def var_splitter(self, vars):\n",
    "        \"\"\"Split variables from a single vector\"\"\"\n",
    "        x = vars[self.x_shift:self.x_shift + self.NK]\n",
    "        y = vars[self.y_shift:self.y_shift + self.NK]\n",
    "        theta = vars[self.theta_shift:self.theta_shift + self.NK]\n",
    "        v = vars[self.v_shift:self.v_shift + self.NK]\n",
    "        acc = vars[self.acc_shift:self.acc_shift + self.NK]\n",
    "        omega = vars[self.omega_shift:self.omega_shift + self.NK]\n",
    "        omega_acc = vars[self.omega_acc_shift:self.omega_acc_shift + self.NK]\n",
    "        # y = vars[self.NK:2*self.NK]\n",
    "        # theta = vars[2*self.NK:3*self.NK]\n",
    "        # v = vars[3*self.NK:4*self.NK]\n",
    "        # acc = vars[4*self.NK:5*self.NK]\n",
    "        # omega = vars[5*self.NK:6*self.NK]\n",
    "        # omega_acc = vars[6*self.NK:7*self.NK]\n",
    "        return (x, y, theta, v, acc, omega, omega_acc)\n",
    "        \n",
    "    @property\n",
    "    def lb(self):\n",
    "        \"\"\"Lower bounds on variables\"\"\"\n",
    "        x = self.x_lower*jnp.ones((self.NK,))\n",
    "        y = self.y_lower*jnp.ones((self.NK,))\n",
    "        theta = self.theta_lower*jnp.ones((self.NK,))\n",
    "        v = self.v_lower*jnp.ones((self.NK,))\n",
    "        acc = self.acc_lower*jnp.ones((self.NK,))\n",
    "        omega = self.omega_lower*jnp.ones((self.NK,))\n",
    "        omega_acc = self.omega_acc_lower*jnp.ones((self.NK,))\n",
    "        return jnp.concat((x, y, theta, v, acc, omega, omega_acc), axis=0)\n",
    "        \n",
    "    @property\n",
    "    def ub(self):\n",
    "        \"\"\"Upper bound on variables\"\"\"\n",
    "        x = self.x_upper*jnp.ones((self.NK,))\n",
    "        y = self.y_upper*jnp.ones((self.NK,))\n",
    "        theta = self.theta_upper*jnp.ones((self.NK,))\n",
    "        v = self.v_upper*jnp.ones((self.NK,))\n",
    "        acc = self.acc_upper*jnp.ones((self.NK,))\n",
    "        omega = self.omega_upper*jnp.ones((self.NK,))\n",
    "        omega_acc = self.omega_acc_upper*jnp.ones((self.NK,))\n",
    "        return jnp.concat((x, y, theta, v, acc, omega, omega_acc), axis=0)\n",
    "        \n",
    "    def objective(self, vars):\n",
    "        (x, y, theta, v, acc, omega, omega_acc) = self.var_splitter(vars)\n",
    "        return self.reg*(jnp.sum(v**2) + jnp.sum(omega**2))\n",
    "        \n",
    "    def gradient(self, vars):\n",
    "        \"\"\"Objective function gradient\"\"\"\n",
    "        return jax.grad(self.objective)(vars)\n",
    "\n",
    "    def circle_obstacle(self, x, y, cx, cy, rx, ry):\n",
    "        \"\"\"Circular obstacle\"\"\"\n",
    "        return ((x - cx)/rx)**2 + ((y - cy)/ry)**2 - 1\n",
    "\n",
    "    def diamond_obstacle(self, x, y, cx, cy, rx, ry):\n",
    "        \"\"\"Diamond obstacle\"\"\"\n",
    "        return jnp.abs((x - cx)/rx) + jnp.abs((y - cy)/ry) - 1\n",
    "\n",
    "    def square_obstacle(self, x, y, cx, cy, rx, ry):\n",
    "        \"\"\"Square obstacle\"\"\"\n",
    "        return jnp.abs(((x - cx)/rx + (y - cy)/ry)/2) + jnp.abs(((x - cx)/rx - (y - cy)/ry)/2) - 1\n",
    "\n",
    "    # @jax.jit\n",
    "    def constraints(self, vars):\n",
    "        \"\"\"Values to constrain between cl and cu\"\"\"\n",
    "        # Equality constraints\n",
    "        (x, y, theta, v, acc, omega, omega_acc) = self.var_splitter(vars)\n",
    "        dae_x = (x[1:] - x[:-1]) - self.h * jnp.cos(theta[:-1]) * v[:-1] # == 0\n",
    "        dae_y = (y[1:] - y[:-1]) - self.h * jnp.sin(theta[:-1]) * v[:-1] # == 0\n",
    "        dae_theta = (theta[1:] - theta[:-1]) - self.h * omega[:-1] # == 0\n",
    "        dae_acc = (v[1:] - v[:-1]) - self.h * acc[:-1] # == 0\n",
    "        dae_omega_acc = (omega[1:] - omega[:-1]) - self.h * omega_acc[:-1] # == 0\n",
    "        initial_x = x[0] - self.x0 # == 0\n",
    "        initial_y = y[0] - self.y0 # == 0\n",
    "        final_x = x[-1] - self.x_final # == 0\n",
    "        final_y = y[-1] - self.y_final # == 0\n",
    "        cons = jnp.concat((dae_x, dae_y, dae_theta, dae_acc, dae_omega_acc, jnp.array((initial_x, initial_y, final_x, final_y))), axis = 0)\n",
    "        # cons = jnp.array((initial_x, initial_y, final_x, final_y))\n",
    "        # cons = jnp.concat((dae_x, dae_y, dae_theta, jnp.array((initial_x, initial_y, final_x, final_y))), axis = 0)\n",
    "        self.num_equality_constraints = len(cons)\n",
    "        \n",
    "        # Inequality contraints\n",
    "        for (cx, cy, rx, ry) in zip(self.cxs, self.cys, self.rxs, self.rys):\n",
    "            cons = jnp.concat((cons, self.circle_obstacle(x, y, cx, cy, rx, ry))) # >= 0\n",
    "        return cons\n",
    "\n",
    "    @property\n",
    "    def cl(self):\n",
    "        \"\"\"Constriant lower bounds\"\"\"\n",
    "        return jnp.zeros((self.m,))\n",
    "\n",
    "    @property\n",
    "    def cu(self):\n",
    "        \"\"\"Constraint upper bounds\"\"\"\n",
    "        upper_bound = np.zeros((self.m,))\n",
    "        upper_bound[self.num_equality_constraints:] = np.inf\n",
    "        return upper_bound\n",
    "\n",
    "    \n",
    "    def jacobianstructure_hand(self):\n",
    "        return self.memoized_jac_structure\n",
    "    \n",
    "    @cached_property\n",
    "    def memoized_jac_structure(self) -> tuple[jnp.ndarray,jnp.ndarray]:\n",
    "        # (x, y, theta, v, acc, omega, omega_acc) = self.var_splitter(vars)\n",
    "        # return jax.experimental.sparse.jacfwd(self.contraints)(x)\n",
    "        # return jax.jacfwd(self.constraints)(vars)\n",
    "        rows = []\n",
    "        columns = []\n",
    "        # values = []\n",
    "        row = 0\n",
    "        for i in range(self.NK - 1):\n",
    "            columns += [i + 1 + self.x_shift, i + self.x_shift, i + self.theta_shift, i + self.v_shift]\n",
    "            rows += [row]*4\n",
    "            # values += [1, -1, self.h * jnp.sin(theta[i]) * v[i], -self.h * jnp.cos(theta[i])]\n",
    "            row += 1\n",
    "        for i in range(self.NK - 1):\n",
    "            columns += [i + 1 + self.y_shift, i + self.y_shift, i + self.theta_shift, i + self.v_shift]\n",
    "            rows += [row]*4\n",
    "            # values += [1, -1, -self.h * jnp.cos(theta[i]) * v[i], -self.h * jnp.sin(theta[i])]\n",
    "            row += 1\n",
    "        for i in range(self.NK - 1):\n",
    "            columns += [i + 1 + self.theta_shift, i + self.theta_shift, i + self.omega_shift]\n",
    "            rows += [row]*3\n",
    "            # values += [1, -1, -self.h]\n",
    "            row += 1\n",
    "        for i in range(self.NK - 1):\n",
    "            columns += [i + 1 + self.v_shift, i + self.v_shift, i + self.acc_shift]\n",
    "            rows += [row]*3\n",
    "            # values += [1, -1, -self.h]\n",
    "            row += 1\n",
    "        for i in range(self.NK - 1):\n",
    "            columns += [i + 1 + self.omega_shift, i + self.omega_shift, i + self.omega_acc_shift]\n",
    "            rows += [row]*3\n",
    "            # values += [1, -1, -self.h]\n",
    "            row += 1\n",
    "        # Initial x\n",
    "        columns += [0 + self.x_shift]\n",
    "        rows += [row]\n",
    "        # values += [1]\n",
    "        row += 1\n",
    "        # Initial y\n",
    "        columns += [0 + self.y_shift]\n",
    "        rows += [row]\n",
    "        # values += [1]\n",
    "        row += 1\n",
    "        # Final x\n",
    "        columns += [self.NK - 1 + self.x_shift]\n",
    "        rows += [row]\n",
    "        # values += [1]\n",
    "        row += 1\n",
    "        # Final y\n",
    "        columns += [self.NK - 1 + self.y_shift]\n",
    "        rows += [row]\n",
    "        # values += [1]\n",
    "        row += 1\n",
    "        # ((x - cx)/rx)**2 + ((y - cy)/ry)**2 - 1\n",
    "        for (cx, cy, rx, ry) in zip(self.cxs, self.cys, self.rxs, self.rys):\n",
    "            for i in range(self.NK):\n",
    "                columns += [i + self.x_shift, i + self.y_shift]\n",
    "                rows += [row, row]\n",
    "                # values += [2/rx*(x[i]-cx)/rx, 2/ry*(y[i]-cy)/ry]\n",
    "                row += 1\n",
    "        return (jnp.array(rows, dtype=int), jnp.array(columns, dtype=int))\n",
    "\n",
    "    # @jax.jit\n",
    "    def jacobian(self, vars):\n",
    "        \"\"\"Jacobian of constraints\"\"\"\n",
    "        (x, y, theta, v, acc, omega, omega_acc) = self.var_splitter(vars)\n",
    "        # return jax.experimental.sparse.jacfwd(self.contraints)(x)\n",
    "        return jax.jacfwd(self.constraints)(vars)\n",
    "        # # rows = []\n",
    "        # # columns = []\n",
    "        # values = []\n",
    "        # # row = 0\n",
    "        # for i in range(self.NK - 1):\n",
    "        #     # columns += [i + 1 + self.x_shift, i + self.x_shift, i + self.theta_shift, i + self.v_shift]\n",
    "        #     # rows += [row]*4\n",
    "        #     values += [1, -1, self.h * jnp.sin(theta[i]) * v[i], -self.h * jnp.cos(theta[i])]\n",
    "        #     # row += 1\n",
    "        # for i in range(self.NK - 1):\n",
    "        #     # columns += [i + 1 + self.y_shift, i + self.y_shift, i + self.theta_shift, i + self.v_shift]\n",
    "        #     # rows += [row]*4\n",
    "        #     values += [1, -1, -self.h * jnp.cos(theta[i]) * v[i], -self.h * jnp.sin(theta[i])]\n",
    "        #     # row += 1\n",
    "        # for i in range(self.NK - 1):\n",
    "        #     # columns += [i + 1 + self.theta_shift, i + self.theta_shift, i + self.omega_shift]\n",
    "        #     # rows += [row]*3\n",
    "        #     values += [1, -1, -self.h]\n",
    "        #     # row += 1\n",
    "        # for i in range(self.NK - 1):\n",
    "        #     # columns += [i + 1 + self.v_shift, i + self.v_shift, i + self.acc_shift]\n",
    "        #     # rows += [row]*3\n",
    "        #     values += [1, -1, -self.h]\n",
    "        #     # row += 1\n",
    "        # for i in range(self.NK - 1):\n",
    "        #     # columns += [i + 1 + self.omega_shift, i + self.omega_shift, i + self.omega_acc_shift]\n",
    "        #     # rows += [row]*3\n",
    "        #     values += [1, -1, -self.h]\n",
    "        #     # row += 1\n",
    "        # # Initial x\n",
    "        # # columns += [0 + self.x_shift]\n",
    "        # # rows += [row]\n",
    "        # values += [1]\n",
    "        # # row += 1\n",
    "        # # Initial y\n",
    "        # # columns += [0 + self.y_shift]\n",
    "        # # rows += [row]\n",
    "        # values += [1]\n",
    "        # # row += 1\n",
    "        # # Final x\n",
    "        # # columns += [self.NK - 1 + self.x_shift]\n",
    "        # # rows += [row]\n",
    "        # values += [1]\n",
    "        # # row += 1\n",
    "        # # Final y\n",
    "        # # columns += [self.NK - 1 + self.y_shift]\n",
    "        # # rows += [row]\n",
    "        # values += [1]\n",
    "        # # row += 1\n",
    "        # # ((x - cx)/rx)**2 + ((y - cy)/ry)**2 - 1\n",
    "        # for (cx, cy, rx, ry) in zip(self.cxs, self.cys, self.rxs, self.rys):\n",
    "        #     for i in range(self.NK):\n",
    "        #         # columns += [i + self.x_shift, i + self.y_shift]\n",
    "        #         # rows += [row]*2\n",
    "        #         values += [2*(x[i]-cx)/(rx**2), 2*(y[i]-cy)/(ry**2)]\n",
    "        #         # values += [jnp.sign(x[i]-cx)/(rx), jnp.sign(y[i]-cy)/(ry)]\n",
    "        #         # row += 1\n",
    "        # return np.array(values)\n",
    "        # # return coo_array((values, (rows, columns)))\n",
    "        # # output = np.zeros((self.m, self.n))\n",
    "        # # for i, j, v in zip(rows, columns, values):\n",
    "        # #     output[i,j] = v\n",
    "        # # return output[rows,columns]\n",
    "        # # rows, columns = self.jacobianstructure()\n",
    "        # # return jax.jacfwd(self.constraints)(vars)[rows,columns]\n",
    "\n",
    "    # @jax.jit\n",
    "    def jacobian_hand(self, vars):\n",
    "        \"\"\"Jacobian of constraints\"\"\"\n",
    "        (x, y, theta, v, acc, omega, omega_acc) = self.var_splitter(vars)\n",
    "        rows, columns = self.jacobianstructure_hand()\n",
    "        values = np.zeros(rows.shape)\n",
    "        index = 0\n",
    "        for i in range(self.NK - 1):\n",
    "            values[index:index + 4] = [1, -1, self.h * jnp.sin(theta[i]) * v[i], -self.h * jnp.cos(theta[i])]\n",
    "            index += 4\n",
    "        for i in range(self.NK - 1):\n",
    "            values[index:index + 4] = [1, -1, -self.h * jnp.cos(theta[i]) * v[i], -self.h * jnp.sin(theta[i])]\n",
    "            index += 4\n",
    "        for i in range(self.NK - 1):\n",
    "            values[index:index + 3] = [1, -1, -self.h]\n",
    "            index += 3\n",
    "        for i in range(self.NK - 1):\n",
    "            values[index:index + 3] = [1, -1, -self.h]\n",
    "            index += 3\n",
    "        for i in range(self.NK - 1):\n",
    "            values[index:index + 3] = [1, -1, -self.h]\n",
    "            index += 3\n",
    "        # Initial x\n",
    "        values[index] = 1\n",
    "        index += 1\n",
    "        # Initial y\n",
    "        values[index] = 1\n",
    "        index += 1\n",
    "        # Final x\n",
    "        values[index] = 1\n",
    "        index += 1\n",
    "        # Final y\n",
    "        values[index] = 1\n",
    "        index += 1\n",
    "\n",
    "        for (cx, cy, rx, ry) in zip(self.cxs, self.cys, self.rxs, self.rys):\n",
    "            for i in range(self.NK):\n",
    "                values[index:index + 2] = [2*(x[i]-cx)/(rx**2), 2*(y[i]-cy)/(ry**2)]\n",
    "                index += 2\n",
    "        return values\n",
    "\n",
    "    # def hessianstructure(self):\n",
    "    #     return self.memoizedhessianstructure\n",
    "\n",
    "    # @cached_property\n",
    "    # def memoizedhessianstructure(self):\n",
    "    #     hess = {}\n",
    "    #     for i in range(self.NK):\n",
    "    #         hess[(i + self.v_shift, i + self.v_shift)] = 1\n",
    "    #         hess[(i + self.omega_shift, i + self.omega_shift)] = 1\n",
    "    #         # Diagonal with 2*self.reg in v and omega regions, 0 elsewhere\n",
    "\n",
    "    #     for i in range(self.NK - 1):\n",
    "    #         hess[(i + self.theta_shift, i + self.theta_shift)] = 1\n",
    "    #         hess[(i + self.v_shift, i + self.theta_shift)] = 1\n",
    "    #     for j, (cx, cy, rx, ry) in enumerate(zip(self.cxs, self.cys, self.rxs, self.rys)):\n",
    "    #         for i in range(self.NK):\n",
    "    #             hess[(i + self.x_shift, i + self.x_shift)] = hess.get((i + self.x_shift, i + self.x_shift), 0) + 1\n",
    "    #             hess[(i + self.y_shift, i + self.y_shift)] = hess.get((i + self.y_shift, i + self.y_shift), 0) + 1\n",
    "    #     rows = [index[0] for index in hess.keys()]\n",
    "    #     columns = [index[1] for index in hess.keys()]\n",
    "    #     return (np.array(rows, dtype=int), np.array(columns, dtype=int))\n",
    "        \n",
    "    # def hessian(self, vars, lagrange, objective_factor):\n",
    "    #     \"\"\"\n",
    "    #     Returns the non-zero values of the lagrangian Hessian.\n",
    "\n",
    "    #     Lower diagonal entries only; matrix vector products;\n",
    "    #     Arguments are:\n",
    "    #         vars : variables\n",
    "    #         lagrange : lagrange multipliers\n",
    "    #         objective_factor : some representation of the objective\n",
    "    #     \"\"\"\n",
    "    #     (x, y, theta, v, acc, omega, omega_acc) = self.var_splitter(vars)\n",
    "    #     hess = {}\n",
    "    #     for i in range(self.NK):\n",
    "    #         hess[(i + self.v_shift, i + self.v_shift)] = 2 * self.reg * objective_factor #[i + self.v_shift]\n",
    "    #         hess[(i + self.omega_shift, i + self.omega_shift)] = 2 * self.reg * objective_factor #[i + self.omega_shift]\n",
    "    #         # Diagonal with 2*self.reg in v and omega regions, 0 elsewhere\n",
    "\n",
    "    #     for i in range(self.NK - 1):\n",
    "    #         hess[(i + self.theta_shift, i + self.theta_shift)] = self.h * jnp.cos(theta[i]) * v[i] * lagrange[i] + self.h * jnp.sin(theta[i]) * v[i] * lagrange[i + 1*(self.NK - 1)]\n",
    "    #         hess[(i + self.theta_shift, i + self.v_shift)] = self.h * jnp.sin(theta[i]) * lagrange[i] - self.h * jnp.cos(theta[i]) * lagrange[i + 1*(self.NK - 1)]\n",
    "    #     for j, (cx, cy, rx, ry) in enumerate(zip(self.cxs, self.cys, self.rxs, self.rys)):\n",
    "    #         for i in range(self.NK):\n",
    "    #             hess[(i + self.x_shift, i + self.x_shift)] = hess.get((i + self.x_shift, i + self.x_shift), 0.0) + 2/(rx**2) * lagrange[i + 4 + 5*(self.NK - 1) + j*self.NK]\n",
    "    #             hess[(i + self.y_shift, i + self.y_shift)] = hess.get((i + self.y_shift, i + self.y_shift), 0.0) + 2/(ry**2) * lagrange[i + 4 + 5*(self.NK - 1) + j*self.NK]\n",
    "    #     return np.array(list(hess.values()))\n",
    "    #     # obj_hess = jax.jacrev(jax.jacfwd(self.objective)))\n",
    "    #     # return jax.hessian(self.objective)(vars) * v[0]\n"
   ]
  },
  {
   "cell_type": "code",
   "execution_count": null,
   "id": "a90e2b3c-8a4f-4d01-88f6-bfa49cef0c1d",
   "metadata": {},
   "outputs": [],
   "source": [
    "problem_obj = Objective()\n",
    "\n",
    "problem = cyipopt.Problem(\n",
    "    n = problem_obj.n,  # Number of decision variables\n",
    "    m = problem_obj.m,  # Number of constraints\n",
    "    problem_obj = problem_obj,  # Objective object with \"objective\" and \"gradient\" functions\n",
    "    lb = problem_obj.lb,  # Lower bounds for x\n",
    "    ub = problem_obj.ub,  # Upper bounds for x\n",
    "    cl = problem_obj.cl,  # Lower bound for constraints\n",
    "    cu = problem_obj.cu,  # Lower bound for constraints\n",
    ")"
   ]
  },
  {
   "cell_type": "code",
   "execution_count": null,
   "id": "68f233e9-7f0c-41ca-b3a4-bb65946de194",
   "metadata": {},
   "outputs": [],
   "source": [
    "# plt.figure()\n",
    "# plt.scatter(problem_obj.jacobianstructure()[0], problem_obj.jacobianstructure()[1])\n",
    "# plt.scatter(problem_obj.hessianstructure()[0], problem_obj.hessianstructure()[1])\n",
    "# len(problem_obj.jacobianstructure()[0])\n",
    "# len(problem_obj.hessianstructure()[0])"
   ]
  },
  {
   "cell_type": "code",
   "execution_count": null,
   "id": "1e9eef25-fc49-4711-9f97-d3325f53a19e",
   "metadata": {},
   "outputs": [],
   "source": [
    "# Set the initial guess for the decision variables\n",
    "initial_x = jnp.linspace(problem_obj.x0, 0.0, problem_obj.NK)\n",
    "initial_y = jnp.linspace(problem_obj.y0, 0.0, problem_obj.NK)\n",
    "initial_theta = jnp.arctan2(np.diff(initial_y, append=0.),np.diff(initial_x, append=0.))\n",
    "initial_v = jnp.ones(initial_x.shape)\n",
    "initial_acc = jnp.ones(initial_x.shape)\n",
    "initial_omega = jnp.ones(initial_x.shape)\n",
    "initial_omega_acc = jnp.ones(initial_x.shape)\n",
    "\n",
    "x0 = problem_obj.var_joiner(initial_x, initial_y, initial_theta, initial_v, initial_acc, initial_omega, initial_omega_acc)"
   ]
  },
  {
   "cell_type": "code",
   "execution_count": null,
   "id": "116790c2-94c5-490a-8785-d4d580280a6c",
   "metadata": {},
   "outputs": [],
   "source": [
    "plt.imshow(jnp.log(jnp.abs(problem_obj.jacobian(x0))))\n",
    "plt.scatter(problem_obj.memoized_jac_structure[1], problem_obj.memoized_jac_structure[0], s = 0.1, c=\"red\")"
   ]
  },
  {
   "cell_type": "code",
   "execution_count": null,
   "id": "8c4565a1-fdd8-41d1-9915-477565b5ce0b",
   "metadata": {},
   "outputs": [],
   "source": [
    "jacobian_auto_diff = problem_obj.jacobian(x0)\n",
    "jacobian_hand = np.zeros(jacobian_auto_diff.shape)\n",
    "for i, j, v in zip(problem_obj.jacobianstructure_hand()[0], problem_obj.jacobianstructure_hand()[1], problem_obj.jacobian_hand(x0)):\n",
    "    jacobian_hand[i,j] = v"
   ]
  },
  {
   "cell_type": "code",
   "execution_count": null,
   "id": "b04b1802-6157-4d3f-89da-946fe6df94cd",
   "metadata": {},
   "outputs": [],
   "source": [
    "plt.imshow(jnp.log(jnp.abs(jacobian_hand)))"
   ]
  },
  {
   "cell_type": "code",
   "execution_count": null,
   "id": "e6924ea1-fbd1-41b0-beb9-860e48ee8269",
   "metadata": {},
   "outputs": [],
   "source": [
    "plt.imshow(np.log(np.abs(jacobian_auto_diff - jacobian_hand)))"
   ]
  },
  {
   "cell_type": "code",
   "execution_count": null,
   "id": "6dd59f1d-3033-4028-9dab-72ab671c727c",
   "metadata": {
    "scrolled": true
   },
   "outputs": [],
   "source": [
    "problem.add_option(\"hessian_approximation\", \"limited-memory\")\n",
    "problem.add_option(\"derivative_test\", \"first-order\")\n",
    "# Solve the problem\n",
    "solution, info = problem.solve(x0)\n",
    "# solution, info = problem.solve(solution)\n",
    "\n",
    "# Print the solution\n",
    "# print(f\"Solution: {solution}\")\n",
    "print(f\"Objective value: {info['obj_val']}\")"
   ]
  },
  {
   "cell_type": "markdown",
   "id": "af641c32-90a8-469b-af08-247fa912c9f1",
   "metadata": {},
   "source": [
    "Use limited memory option when Hessian is not available (or difficult to get at)\n",
    "\n",
    "We can also try changing linear solvers from mumps to something else.\n",
    "\n",
    "The Jacobian and Hessian are very sparse, so we can exploit this to our advantage! The `hessian` and `jacobian` values are provided by the `hessian` and `jacobian` functions, only the non-zero values, and the indices `rows` and `columns` are provided by the corresponding `hessianstructure` or `jacobianstructure` functions that return `(rows, columns)`. If the structure doesn't change, this can be cached."
   ]
  },
  {
   "cell_type": "code",
   "execution_count": null,
   "id": "65079be4-29b4-4a1d-8995-faf29281c83e",
   "metadata": {},
   "outputs": [],
   "source": [
    "(x, y, theta, v, acc, omega, omega_acc) = problem_obj.var_splitter(solution)\n",
    "\n",
    "\n",
    "plt.figure()\n",
    "plt.plot(x, y, label=\"Optimized path\")\n",
    "plt.scatter(x, y)\n",
    "plt.scatter(x[0], y[0], marker='*')\n",
    "plt.scatter(problem_obj.x0, problem_obj.y0, marker='*')\n",
    "plt.xlim([-0,1])\n",
    "plt.ylim([-0,1])\n",
    "\n",
    "plt.plot(initial_x, initial_y, label=\"Initial path\")\n",
    "\n",
    "obstacle_shape = \"circle\"\n",
    "\n",
    "if obstacle_shape == \"circle\":\n",
    "    style = 'k'\n",
    "else:\n",
    "    style = 'k--'\n",
    "# circle\n",
    "t = np.linspace(0, 2*np.pi, 100)\n",
    "for cx, cy, rx, ry in zip(problem_obj.cxs, problem_obj.cys, problem_obj.rxs, problem_obj.rys):\n",
    "    plt.plot(rx*np.cos(t) + cx, ry*np.sin(t) + cy, style)\n",
    "\n",
    "if obstacle_shape == \"diamond\":\n",
    "    style = 'k'\n",
    "else:\n",
    "    style = 'k--'\n",
    "# diamond\n",
    "for cx, cy, rx, ry in zip(problem_obj.cxs, problem_obj.cys, problem_obj.rxs, problem_obj.rys):\n",
    "    plt.plot([cx, cx + rx, cx, cx - rx, cx], [cy + ry, cy, cy - ry, cy, cy + ry], style)\n",
    "\n",
    "if obstacle_shape == \"square\":\n",
    "    style = 'k'\n",
    "else:\n",
    "    style = 'k--'\n",
    "# square\n",
    "for cx, cy, rx, ry in zip(problem_obj.cxs, problem_obj.cys, problem_obj.rxs, problem_obj.rys):\n",
    "    plt.plot([cx + rx, cx + rx, cx - rx, cx - rx, cx + rx], [cy -ry, cy + ry, cy + ry, cy - ry, cy - ry], style)\n",
    "\n",
    "# for poly in polygons:\n",
    "#     plt.plot(poly.vertices[:,0], poly.vertices[:,1])\n",
    "\n",
    "plt.legend()\n",
    "\n",
    "plt.figure()\n",
    "plt.plot(v, label=\"Velocity\")\n",
    "plt.plot(omega, label=\"Angular Velocity\")\n",
    "plt.legend()"
   ]
  },
  {
   "cell_type": "code",
   "execution_count": 1,
   "id": "f13ce2cb-87c0-4778-b3bf-c9b71a666108",
   "metadata": {},
   "outputs": [],
   "source": [
    "import sys\n",
    "sys.path.insert(0, \"../source/\")\n",
    "sys.path.insert(0, \"../models/AdvectionDiffusion/settings/AdvectionDiffusion_FEniCS\")\n",
    "sys.path.insert(0, \"../models/AdvectionDiffusion/Navigators\")\n",
    "sys.path.insert(0, \"../models/AdvectionDiffusion/Detectors\")\n",
    "\n",
    "import numpy as np\n",
    "import matplotlib.pyplot as plt\n",
    "import scipy.linalg as la\n",
    "import fenics as dl\n",
    "\n",
    "from InverseProblem import InverseProblem\n",
    "from FOM_stationary import FOM_stationary as FOM\n",
    "from Drone import Drone as Drone\n",
    "from DetectorPointwise import DetectorPointwise as Detector\n",
    "# from DetectorGaussian import DetectorGaussian as Detector\n",
    "from NavigationCircle import NavigationCircle as Navigation\n",
    "from NavigationFreePath import NavigationFreePath as Navigation\n",
    "from OEDUtility import OEDUtility\n",
    "\n",
    "import cyipopt\n",
    "import jax\n",
    "jax.config.update(\"jax_enable_x64\", True)\n",
    "import jax.numpy as jnp\n",
    "\n",
    "%load_ext autoreload\n",
    "%autoreload 2\n",
    "\n",
    "import time\n",
    "tStart_notebook = time.time()"
   ]
  },
  {
   "cell_type": "code",
   "execution_count": 2,
   "id": "1694a485-bfec-4730-9b82-ee020a8c7ae5",
   "metadata": {},
   "outputs": [],
   "source": [
    "n_para = 5\n",
    "var_prior = 1 # set to a high value (1e+6) to test convergence in noise-free situations\n",
    "\n",
    "n_test = 100 # resolution for 1D plots\n",
    "n_test_2d = 60 # resolution for 2D plots (50: ~1 min runtime for dt = 0.01)"
   ]
  },
  {
   "cell_type": "code",
   "execution_count": 3,
   "id": "6dbcb9be-03eb-471a-b724-3a316e24a2e5",
   "metadata": {},
   "outputs": [],
   "source": [
    "fom = FOM(mesh_shape='houses', polyDim=2, meshDim=50)"
   ]
  },
  {
   "cell_type": "code",
   "execution_count": 4,
   "id": "7c9f3ea8-3fb1-4b1c-ba91-32a1e75f9132",
   "metadata": {},
   "outputs": [
    {
     "data": {
      "text/plain": [
       "[<matplotlib.lines.Line2D at 0x7fe51db24d40>,\n",
       " <matplotlib.lines.Line2D at 0x7fe51db24f80>]"
      ]
     },
     "execution_count": 4,
     "metadata": {},
     "output_type": "execute_result"
    },
    {
     "data": {
      "image/png": "[encoded data removed]",
      "text/plain": [
       "<Figure size 640x480 with 1 Axes>"
      ]
     },
     "metadata": {},
     "output_type": "display_data"
    }
   ],
   "source": [
    "dl.plot(fom.mesh)"
   ]
  },
  {
   "cell_type": "code",
   "execution_count": 5,
   "id": "cd7033da-5b1a-41b2-b05a-062e4dc87d1f",
   "metadata": {},
   "outputs": [
    {
     "data": {
      "text/plain": [
       "<matplotlib.tri._tricontour.TriContourSet at 0x7fe51db27ef0>"
      ]
     },
     "execution_count": 5,
     "metadata": {},
     "output_type": "execute_result"
    },
    {
     "data": {
      "image/png": "[encoded data removed]",
      "text/plain": [
       "<Figure size 640x480 with 1 Axes>"
      ]
     },
     "metadata": {},
     "output_type": "display_data"
    }
   ],
   "source": [
    "para_true = np.ones((n_para,))\n",
    "state = fom.solve(parameter=para_true)\n",
    "fom.plot(state)"
   ]
  },
  {
   "cell_type": "code",
   "execution_count": 6,
   "id": "bce2e27d-e288-4cef-8dfe-9f83ff559e2f",
   "metadata": {},
   "outputs": [
    {
     "name": "stdout",
     "output_type": "stream",
     "text": [
      "-0.055386285835457016 0.15660570756859116\n",
      "[-0.05459918  0.15632595]\n",
      "0.014211264450723847\n"
     ]
    }
   ],
   "source": [
    "import fenics as dl\n",
    "Du = dl.grad(state.state)\n",
    "Du = dl.project(Du)\n",
    "state.state([0.1, 0.05])\n",
    "\n",
    "\n",
    "relative_errors = []\n",
    "\n",
    "# for i in range(100):\n",
    "x = np.array([0.1, 0.05])\n",
    "\n",
    "h = 1e-8\n",
    "\n",
    "fd_x = (state.state(x + np.array([h,0])) - state.state(x))/h\n",
    "fd_y = (state.state(x + np.array([0,h])) - state.state(x))/h\n",
    "\n",
    "print(fd_x, fd_y)\n",
    "print(Du(x))\n",
    "print(np.abs(fd_x - Du(x)[0])/max(np.abs(fd_x), 1e-4))\n"
   ]
  },
  {
   "cell_type": "code",
   "execution_count": 7,
   "id": "dd217862-4f78-4dd2-8193-ed085d2deb76",
   "metadata": {},
   "outputs": [],
   "source": [
    "x = np.linspace(0.001, 1, 101)-0.001\n",
    "y = np.linspace(0.001, 1, 101)-0.001\n",
    "# X, Y = np.meshgrid(x, y)\n",
    "Z = np.zeros((len(x), len(y)))\n",
    "Dx = np.zeros((len(x), len(y)))\n",
    "Dy = np.zeros((len(x), len(y)))\n",
    "FDx = np.zeros((len(x), len(y)))\n",
    "FDy = np.zeros((len(x), len(y)))\n",
    "\n",
    "Du = dl.grad(state.state)\n",
    "Du = dl.project(Du, fom.V2)\n",
    "# Du = dl.project(Du)\n",
    "\n",
    "h = 1e-8\n",
    "\n",
    "for i in range(len(x)):\n",
    "    for j in range(len(y)):\n",
    "        try:\n",
    "            Z[i,j] = state.state(x[i],y[j])\n",
    "            Dx[i,j] = Du(x[i], y[j])[0]\n",
    "            Dy[i,j] = Du(x[i], y[j])[1]\n",
    "            \n",
    "            FDx[i,j] = 1/h*(state.state(x[i] + h, y[j]) - state.state(x[i], y[j]))\n",
    "            FDy[i,j] = 1/h*(state.state(x[i], y[j] + h) - state.state(x[i], y[j]))\n",
    "        except:\n",
    "            pass"
   ]
  },
  {
   "cell_type": "code",
   "execution_count": 8,
   "id": "8b13f79c-aa06-47fc-a8ba-10b8167ea559",
   "metadata": {},
   "outputs": [
    {
     "data": {
      "text/plain": [
       "<matplotlib.image.AxesImage at 0x7fe51d8f5b80>"
      ]
     },
     "execution_count": 8,
     "metadata": {},
     "output_type": "execute_result"
    },
    {
     "data": {
      "image/png": "[encoded data removed]",
      "text/plain": [
       "<Figure size 640x480 with 1 Axes>"
      ]
     },
     "metadata": {},
     "output_type": "display_data"
    }
   ],
   "source": [
    "plt.imshow(Dx)"
   ]
  },
  {
   "cell_type": "code",
   "execution_count": 9,
   "id": "2f94a696-546d-4928-b6ac-4f06a38adaa3",
   "metadata": {},
   "outputs": [
    {
     "data": {
      "text/plain": [
       "<matplotlib.colorbar.Colorbar at 0x7fe51d9b3fb0>"
      ]
     },
     "execution_count": 9,
     "metadata": {},
     "output_type": "execute_result"
    },
    {
     "data": {
      "image/png": "[encoded data removed]",
      "text/plain": [
       "<Figure size 640x480 with 2 Axes>"
      ]
     },
     "metadata": {},
     "output_type": "display_data"
    }
   ],
   "source": [
    "plt.imshow(FDx-Dx)\n",
    "plt.colorbar()"
   ]
  },
  {
   "cell_type": "code",
   "execution_count": 10,
   "id": "6eabd65e-3dd7-4370-b57b-448103a90bac",
   "metadata": {},
   "outputs": [
    {
     "data": {
      "text/plain": [
       "<matplotlib.image.AxesImage at 0x7fe12014dc40>"
      ]
     },
     "execution_count": 10,
     "metadata": {},
     "output_type": "execute_result"
    },
    {
     "data": {
      "image/png": "[encoded data removed]",
      "text/plain": [
       "<Figure size 640x480 with 1 Axes>"
      ]
     },
     "metadata": {},
     "output_type": "display_data"
    }
   ],
   "source": [
    "plt.imshow(Dy)"
   ]
  },
  {
   "cell_type": "code",
   "execution_count": 11,
   "id": "636a9194-43f4-4f13-90d7-359416745fc1",
   "metadata": {},
   "outputs": [
    {
     "data": {
      "text/plain": [
       "<matplotlib.colorbar.Colorbar at 0x7fe120034e60>"
      ]
     },
     "execution_count": 11,
     "metadata": {},
     "output_type": "execute_result"
    },
    {
     "data": {
      "image/png": "[encoded data removed]",
      "text/plain": [
       "<Figure size 640x480 with 2 Axes>"
      ]
     },
     "metadata": {},
     "output_type": "display_data"
    }
   ],
   "source": [
    "plt.imshow(FDy - Dy)\n",
    "plt.colorbar()"
   ]
  },
  {
   "cell_type": "code",
   "execution_count": 12,
   "id": "f0667207-c40a-4a75-8e50-db04cf4a9566",
   "metadata": {},
   "outputs": [
    {
     "data": {
      "text/plain": [
       "<matplotlib.tri._tricontour.TriContourSet at 0x7fe51db253d0>"
      ]
     },
     "execution_count": 12,
     "metadata": {},
     "output_type": "execute_result"
    },
    {
     "data": {
      "image/png": "[encoded data removed]",
      "text/plain": [
       "<Figure size 640x480 with 1 Axes>"
      ]
     },
     "metadata": {},
     "output_type": "display_data"
    }
   ],
   "source": [
    "fom.plot(fom.assemble_forcing(para_true))"
   ]
  },
  {
   "cell_type": "code",
   "execution_count": 13,
   "id": "973f6e4a-30c2-487a-8497-451788d226a3",
   "metadata": {},
   "outputs": [],
   "source": [
    "prior_mean = np.zeros((n_para,))\n",
    "# prior_mean[0] = 0.5\n",
    "prior_covar = var_prior*np.eye(n_para)\n",
    "fom.set_prior(prior_mean=prior_mean, prior_covar=prior_covar)"
   ]
  },
  {
   "cell_type": "code",
   "execution_count": 14,
   "id": "c059653c-69e9-43eb-af1d-ccb7b0a5fc22",
   "metadata": {},
   "outputs": [],
   "source": [
    "grid_t = np.linspace(0, 4, 401)\n",
    "navigation = Navigation(grid_t = grid_t)\n",
    "detector = Detector(fom)\n",
    "drone = Drone(detector=detector, navigation=navigation)"
   ]
  },
  {
   "cell_type": "code",
   "execution_count": 15,
   "id": "bd28b38e-cddc-4367-a5e1-34806a14bc0c",
   "metadata": {},
   "outputs": [],
   "source": [
    "# user setting (for trying out different controls)\n",
    "alpha = np.hstack(\n",
    "            (np.linspace(0.5, 0.9, grid_t.shape[0]), np.linspace(0.1, 0.4, grid_t.shape[0]))\n",
    "        )\n",
    "\n",
    "# compute flight\n",
    "flight = drone.plan_flight(alpha=alpha, grid_t=grid_t)  # Flight object\n",
    "flightpath, grid_t_drone = flight.flightpath, flight.grid_t  # path and its time discretization"
   ]
  },
  {
   "cell_type": "code",
   "execution_count": 16,
   "id": "2e366165-dd0b-4a87-bf33-947ae6b44154",
   "metadata": {},
   "outputs": [],
   "source": [
    "inversion = InverseProblem(fom, drone)"
   ]
  },
  {
   "cell_type": "code",
   "execution_count": 17,
   "id": "fdc5ade2-3c31-48d5-b571-74e8c8a58a2a",
   "metadata": {},
   "outputs": [],
   "source": [
    "measurements = drone.measure(state=state, flight=flight)"
   ]
  },
  {
   "cell_type": "code",
   "execution_count": 18,
   "id": "61041aea-3a54-41f4-abf4-fc207497ea26",
   "metadata": {},
   "outputs": [],
   "source": [
    "posterior = inversion.compute_posterior(flight=flight)"
   ]
  },
  {
   "cell_type": "code",
   "execution_count": 19,
   "id": "67f0285b-912a-4779-bb6a-afda00ea97a6",
   "metadata": {},
   "outputs": [
    {
     "name": "stdout",
     "output_type": "stream",
     "text": [
      "WARNING:InverseProblem.get_states was called. This means the user didn't actively precompute the states. This is ok, but it is error prone. Pleae just call InverseProblem.precompute_states() first in the future.\n"
     ]
    },
    {
     "data": {
      "text/plain": [
       "array([4.56049911e-03, 8.31415294e-01, 2.64293034e-01, 1.83030770e-03,\n",
       "       1.24859915e-04])"
      ]
     },
     "execution_count": 19,
     "metadata": {},
     "output_type": "execute_result"
    }
   ],
   "source": [
    "posterior.compute_mean(data=measurements)"
   ]
  },
  {
   "cell_type": "code",
   "execution_count": 20,
   "id": "e73f8356-be4d-4d05-be20-38e8eb4b59eb",
   "metadata": {},
   "outputs": [],
   "source": [
    "utility = OEDUtility(inversion)"
   ]
  },
  {
   "cell_type": "code",
   "execution_count": 21,
   "id": "15037568-68c9-40fe-8593-ef0aaac17508",
   "metadata": {},
   "outputs": [],
   "source": [
    "# user input: Where to evaluate the derivative:\n",
    "speed_test = 0.08 # choose value between 0 and max(vec_speed) \\approx 0.27768018\n",
    "radius_test = 0.22 # choose value between radius_min \\approx 0.1767766952966369 and radius_max \\approx 0.275\n",
    "\n",
    "tStart = time.time()\n",
    "\n",
    "## IMPORTANT FOR THE OPTIMIZATION !!\n",
    "alpha_test = np.hstack(\n",
    "            (np.linspace(0.5, 0.9, grid_t.shape[0]), np.linspace(0.1, 0.4, grid_t.shape[0]))\n",
    "        )\n",
    "posterior_ref = inversion.compute_posterior(alpha=alpha_test, grid_t = grid_t)\n",
    "\n",
    "util_ref = np.zeros(4)\n",
    "util_ref[0] = utility.eval_utility(posterior_ref, mode=\"A\")\n",
    "util_ref[1] = utility.eval_utility(posterior_ref, mode=\"D\")\n",
    "util_ref[2] = utility.eval_utility(posterior_ref, mode=\"D-inverse\")\n",
    "util_ref[3] = utility.eval_utility(posterior_ref, mode=\"E\")\n",
    "\n",
    "der_ref_A = utility.d_utility_d_position(posterior_ref, mode=\"A\")\n",
    "der_ref_D = utility.d_utility_d_position(posterior_ref, mode=\"D\")\n",
    "der_ref_Dinv = utility.d_utility_d_position(posterior_ref, mode=\"D-inverse\")"
   ]
  },
  {
   "cell_type": "code",
   "execution_count": 22,
   "id": "d1c1f43f-d072-4fa8-af12-ed3faf846d47",
   "metadata": {
    "scrolled": true
   },
   "outputs": [],
   "source": [
    "der = utility.d_utilA_d_position(inversion.compute_posterior(alpha=alpha_test, grid_t=grid_t)).reshape((grid_t_drone.shape[0],2))"
   ]
  },
  {
   "cell_type": "code",
   "execution_count": 23,
   "id": "9e4f14f0-7b7c-46a2-b820-0393c591e851",
   "metadata": {},
   "outputs": [
    {
     "data": {
      "image/png": "[encoded data removed]",
      "text/plain": [
       "<Figure size 640x480 with 1 Axes>"
      ]
     },
     "metadata": {},
     "output_type": "display_data"
    }
   ],
   "source": [
    "for i in range(flightpath.shape[0]):\n",
    "    plt.plot([flightpath[i,0], flightpath[i,0] + der[i,0]],\n",
    "             [flightpath[i,1], flightpath[i,1] + der[i,1]])"
   ]
  },
  {
   "cell_type": "code",
   "execution_count": 24,
   "id": "26b978a4-bfd5-47aa-b257-2ca38b8cf8e0",
   "metadata": {},
   "outputs": [
    {
     "data": {
      "text/plain": [
       "[<matplotlib.lines.Line2D at 0x7fe118687200>]"
      ]
     },
     "execution_count": 24,
     "metadata": {},
     "output_type": "execute_result"
    },
    {
     "data": {
      "image/png": "[encoded data removed]",
      "text/plain": [
       "<Figure size 640x480 with 1 Axes>"
      ]
     },
     "metadata": {},
     "output_type": "display_data"
    }
   ],
   "source": [
    "plt.plot(flightpath[:,0], flightpath[:,1])"
   ]
  },
  {
   "cell_type": "code",
   "execution_count": 25,
   "id": "0523f915-990b-4ef4-965c-6bec57aae6a9",
   "metadata": {},
   "outputs": [],
   "source": [
    "from scipy.sparse import coo_array\n",
    "from functools import cached_property\n",
    "\n",
    "class Objective:\n",
    "    def __init__(self, grid_t:np.ndarray):\n",
    "        self.x0 = 0.8\n",
    "        self.y0 = 0.8\n",
    "        self.theta0 = 0.0\n",
    "        self.x_final = 0.0\n",
    "        self.y_final = 0.0\n",
    "        self.theta_final = np.pi\n",
    "        \n",
    "        # Obstacles\n",
    "        self.cxs = [0.5, 0.4, 0.0]\n",
    "        self.cys = [0.5, 0.0, 0.1]\n",
    "        self.rxs = [0.05, 0.15, 0.09]\n",
    "        self.rys = [0.05, 0.15, 0.09]\n",
    "        self.obstacle_shape = \"circle\"\n",
    "        # # Obstacles\n",
    "        # self.cxs = []\n",
    "        # self.cys = []\n",
    "        # self.rxs = []\n",
    "        # self.rys = []\n",
    "        # self.obstacle_shape = \"circle\"\n",
    "        \n",
    "        # bounds\n",
    "        self.x_lower = 0\n",
    "        self.x_upper = 1\n",
    "        self.y_lower = 0\n",
    "        self.y_upper = 1\n",
    "        self.theta_lower = -1000\n",
    "        self.theta_upper = 1000\n",
    "        self.v_lower = 0.0\n",
    "        self.v_upper = 2\n",
    "        self.acc_lower = -5\n",
    "        self.acc_upper = 5\n",
    "        self.omega_lower = -100*np.pi\n",
    "        self.omega_upper = 100*np.pi\n",
    "        self.omega_acc_lower = -100\n",
    "        self.omega_acc_upper = 100\n",
    "        \n",
    "        # self.T = 4.0  # final time\n",
    "        self.T = grid_t[-1] - grid_t[0]\n",
    "        # self.NK = 100  # number of time steps\n",
    "        self.NK = grid_t.shape[0]\n",
    "        self.h = self.T/self.NK  # time grid spacing\n",
    "        self.reg = 0.0001  # regularization term\n",
    "\n",
    "        self.x_shift = 0*self.NK\n",
    "        self.y_shift = 1*self.NK\n",
    "        self.theta_shift = 2*self.NK\n",
    "        self.v_shift = 3*self.NK\n",
    "        self.acc_shift = 4*self.NK\n",
    "        self.omega_shift = 5*self.NK\n",
    "        self.omega_acc_shift = 6*self.NK\n",
    "\n",
    "        self.n = self.NK*7 # number of variables\n",
    "        self.num_equality_constraints = (self.NK - 1) * 5 + 4\n",
    "        self.m = self.num_equality_constraints + (self.NK) * len(self.cxs) # self.constraints(jnp.zeros((self.n, ))).shape[0] # number of constraints (also initializes the number of equality/inequality constraints)\n",
    "\n",
    "    def var_joiner(self, x, y, theta, v, acc, omega, omega_acc):\n",
    "        \"\"\"Join variables into a single vector\"\"\"\n",
    "        return jnp.concat((x, y, theta, v, acc, omega, omega_acc), axis=0)\n",
    "        \n",
    "    def var_splitter(self, vars):\n",
    "        \"\"\"Split variables from a single vector\"\"\"\n",
    "        x = vars[self.x_shift:self.x_shift + self.NK]\n",
    "        y = vars[self.y_shift:self.y_shift + self.NK]\n",
    "        theta = vars[self.theta_shift:self.theta_shift + self.NK]\n",
    "        v = vars[self.v_shift:self.v_shift + self.NK]\n",
    "        acc = vars[self.acc_shift:self.acc_shift + self.NK]\n",
    "        omega = vars[self.omega_shift:self.omega_shift + self.NK]\n",
    "        omega_acc = vars[self.omega_acc_shift:self.omega_acc_shift + self.NK]\n",
    "        # y = vars[self.NK:2*self.NK]\n",
    "        # theta = vars[2*self.NK:3*self.NK]\n",
    "        # v = vars[3*self.NK:4*self.NK]\n",
    "        # acc = vars[4*self.NK:5*self.NK]\n",
    "        # omega = vars[5*self.NK:6*self.NK]\n",
    "        # omega_acc = vars[6*self.NK:7*self.NK]\n",
    "        return (x, y, theta, v, acc, omega, omega_acc)\n",
    "        \n",
    "    @property\n",
    "    def lb(self):\n",
    "        \"\"\"Lower bounds on variables\"\"\"\n",
    "        x = self.x_lower*jnp.ones((self.NK,))\n",
    "        y = self.y_lower*jnp.ones((self.NK,))\n",
    "        theta = self.theta_lower*jnp.ones((self.NK,))\n",
    "        v = self.v_lower*jnp.ones((self.NK,))\n",
    "        acc = self.acc_lower*jnp.ones((self.NK,))\n",
    "        omega = self.omega_lower*jnp.ones((self.NK,))\n",
    "        omega_acc = self.omega_acc_lower*jnp.ones((self.NK,))\n",
    "        return jnp.concat((x, y, theta, v, acc, omega, omega_acc), axis=0)\n",
    "        \n",
    "    @property\n",
    "    def ub(self):\n",
    "        \"\"\"Upper bound on variables\"\"\"\n",
    "        x = self.x_upper*jnp.ones((self.NK,))\n",
    "        y = self.y_upper*jnp.ones((self.NK,))\n",
    "        theta = self.theta_upper*jnp.ones((self.NK,))\n",
    "        v = self.v_upper*jnp.ones((self.NK,))\n",
    "        acc = self.acc_upper*jnp.ones((self.NK,))\n",
    "        omega = self.omega_upper*jnp.ones((self.NK,))\n",
    "        omega_acc = self.omega_acc_upper*jnp.ones((self.NK,))\n",
    "        return jnp.concat((x, y, theta, v, acc, omega, omega_acc), axis=0)\n",
    "\n",
    "    def regularization_objective(self, vars):\n",
    "        (x, y, theta, v, acc, omega, omega_acc) = self.var_splitter(vars)\n",
    "        return (jnp.sum(v**2) + jnp.sum(omega**2))\n",
    "    \n",
    "    def objective(self, vars):\n",
    "        (x, y, theta, v, acc, omega, omega_acc) = self.var_splitter(vars)\n",
    "        # return self.reg*(jnp.sum(v**2) + jnp.sum(omega**2))\n",
    "        return utility.eval_utility_A(inversion.compute_posterior(alpha=np.concatenate((x, y), axis = 0))) + self.reg * self.regularization_objective(vars)\n",
    "        \n",
    "    def gradient(self, vars):\n",
    "        \"\"\"Objective function gradient\"\"\"\n",
    "        (x, y, theta, v, acc, omega, omega_acc) = self.var_splitter(vars)\n",
    "        # return jax.grad(self.objective)(vars)\n",
    "        a = utility.d_utilA_d_position(inversion.compute_posterior(alpha=np.concatenate((x, y), axis = 0)))\n",
    "        a = jnp.concatenate((a, jnp.zeros((self.NK * (7 - 2),))))\n",
    "        return a + self.reg * jax.grad(self.regularization_objective)(vars)\n",
    "\n",
    "    def circle_obstacle(self, x, y, cx, cy, rx, ry):\n",
    "        \"\"\"Circular obstacle\"\"\"\n",
    "        return ((x - cx)/rx)**2 + ((y - cy)/ry)**2 - 1\n",
    "\n",
    "    def diamond_obstacle(self, x, y, cx, cy, rx, ry):\n",
    "        \"\"\"Diamond obstacle\"\"\"\n",
    "        return jnp.abs((x - cx)/rx) + jnp.abs((y - cy)/ry) - 1\n",
    "\n",
    "    def square_obstacle(self, x, y, cx, cy, rx, ry):\n",
    "        \"\"\"Square obstacle\"\"\"\n",
    "        return jnp.abs(((x - cx)/rx + (y - cy)/ry)/2) + jnp.abs(((x - cx)/rx - (y - cy)/ry)/2) - 1\n",
    "\n",
    "    # @jax.jit\n",
    "    def constraints(self, vars):\n",
    "        \"\"\"Values to constrain between cl and cu\"\"\"\n",
    "        # Equality constraints\n",
    "        (x, y, theta, v, acc, omega, omega_acc) = self.var_splitter(vars)\n",
    "        dae_x = (x[1:] - x[:-1]) - self.h * jnp.cos(theta[:-1]) * v[:-1] # == 0\n",
    "        dae_y = (y[1:] - y[:-1]) - self.h * jnp.sin(theta[:-1]) * v[:-1] # == 0\n",
    "        dae_theta = (theta[1:] - theta[:-1]) - self.h * omega[:-1] # == 0\n",
    "        dae_acc = (v[1:] - v[:-1]) - self.h * acc[:-1] # == 0\n",
    "        dae_omega_acc = (omega[1:] - omega[:-1]) - self.h * omega_acc[:-1] # == 0\n",
    "        initial_x = x[0] - self.x0 # == 0\n",
    "        initial_y = y[0] - self.y0 # == 0\n",
    "        final_x = x[-1] - self.x_final # == 0\n",
    "        final_y = y[-1] - self.y_final # == 0\n",
    "        cons = jnp.concat((dae_x, dae_y, dae_theta, dae_acc, dae_omega_acc, jnp.array((initial_x, initial_y, final_x, final_y))), axis = 0)\n",
    "        # cons = jnp.concat((dae_x, dae_y, dae_theta, jnp.array((initial_x, initial_y, final_x, final_y))), axis = 0)\n",
    "        self.num_equality_constraints = len(cons)\n",
    "        \n",
    "        # Inequality contraints\n",
    "        for (cx, cy, rx, ry) in zip(self.cxs, self.cys, self.rxs, self.rys):\n",
    "            cons = jnp.concat((cons, self.circle_obstacle(x, y, cx, cy, rx, ry))) # >= 0\n",
    "        return cons\n",
    "\n",
    "    @property\n",
    "    def cl(self):\n",
    "        \"\"\"Constriant lower bounds\"\"\"\n",
    "        return jnp.zeros((self.m,))\n",
    "\n",
    "    @property\n",
    "    def cu(self):\n",
    "        \"\"\"Constraint upper bounds\"\"\"\n",
    "        upper_bound = np.zeros((self.m,))\n",
    "        upper_bound[self.num_equality_constraints:] = np.inf\n",
    "        return upper_bound\n",
    "\n",
    "    \n",
    "    def jacobianstructure(self):\n",
    "        return self.memoized_jac_structure\n",
    "    \n",
    "    @cached_property\n",
    "    def memoized_jac_structure(self) -> tuple[jnp.ndarray,jnp.ndarray]:\n",
    "        # (x, y, theta, v, acc, omega, omega_acc) = self.var_splitter(vars)\n",
    "        # return jax.experimental.sparse.jacfwd(self.contraints)(x)\n",
    "        # return jax.jacfwd(self.constraints)(vars)\n",
    "        rows = []\n",
    "        columns = []\n",
    "        # values = []\n",
    "        row = 0\n",
    "        for i in range(self.NK - 1):\n",
    "            columns += [i + 1 + self.x_shift, i + self.x_shift, i + self.theta_shift, i + self.v_shift]\n",
    "            rows += [row]*4\n",
    "            # values += [1, -1, self.h * jnp.sin(theta[i]) * v[i], -self.h * jnp.cos(theta[i])]\n",
    "            row += 1\n",
    "        for i in range(self.NK - 1):\n",
    "            columns += [i + 1 + self.y_shift, i + self.y_shift, i + self.theta_shift, i + self.v_shift]\n",
    "            rows += [row]*4\n",
    "            # values += [1, -1, -self.h * jnp.cos(theta[i]) * v[i], -self.h * jnp.sin(theta[i])]\n",
    "            row += 1\n",
    "        for i in range(self.NK - 1):\n",
    "            columns += [i + 1 + self.theta_shift, i + self.theta_shift, i + self.omega_shift]\n",
    "            rows += [row]*3\n",
    "            # values += [1, -1, -self.h]\n",
    "            row += 1\n",
    "        for i in range(self.NK - 1):\n",
    "            columns += [i + 1 + self.v_shift, i + self.v_shift, i + self.acc_shift]\n",
    "            rows += [row]*3\n",
    "            # values += [1, -1, -self.h]\n",
    "            row += 1\n",
    "        for i in range(self.NK - 1):\n",
    "            columns += [i + 1 + self.omega_shift, i + self.omega_shift, i + self.omega_acc_shift]\n",
    "            rows += [row]*3\n",
    "            # values += [1, -1, -self.h]\n",
    "            row += 1\n",
    "        # Initial x\n",
    "        columns += [0 + self.x_shift]\n",
    "        rows += [row]\n",
    "        # values += [1]\n",
    "        row += 1\n",
    "        # Initial y\n",
    "        columns += [0 + self.y_shift]\n",
    "        rows += [row]\n",
    "        # values += [1]\n",
    "        row += 1\n",
    "        # Final x\n",
    "        columns += [self.NK - 1 + self.x_shift]\n",
    "        rows += [row]\n",
    "        # values += [1]\n",
    "        row += 1\n",
    "        # Final y\n",
    "        columns += [self.NK - 1 + self.y_shift]\n",
    "        rows += [row]\n",
    "        # values += [1]\n",
    "        row += 1\n",
    "        # ((x - cx)/rx)**2 + ((y - cy)/ry)**2 - 1\n",
    "        for (cx, cy, rx, ry) in zip(self.cxs, self.cys, self.rxs, self.rys):\n",
    "            for i in range(self.NK):\n",
    "                columns += [i + self.x_shift, i + self.y_shift]\n",
    "                rows += [row]*2\n",
    "                # values += [2/rx*(x[i]-cx)/rx, 2/ry*(y[i]-cy)/ry]\n",
    "                row += 1\n",
    "        return (jnp.array(rows, dtype=int), jnp.array(columns, dtype=int))\n",
    "\n",
    "    # @jax.jit\n",
    "    def jacobian(self, vars):\n",
    "        \"\"\"Jacobian of constraints\"\"\"\n",
    "        (x, y, theta, v, acc, omega, omega_acc) = self.var_splitter(vars)\n",
    "        rows, columns = self.jacobianstructure()\n",
    "        values = np.zeros(rows.shape)\n",
    "        index = 0\n",
    "        for i in range(self.NK - 1):\n",
    "            values[index:index + 4] = [1, -1, self.h * jnp.sin(theta[i]) * v[i], -self.h * jnp.cos(theta[i])]\n",
    "            index += 4\n",
    "        for i in range(self.NK - 1):\n",
    "            values[index:index + 4] = [1, -1, -self.h * jnp.cos(theta[i]) * v[i], -self.h * jnp.sin(theta[i])]\n",
    "            index += 4\n",
    "        for i in range(self.NK - 1):\n",
    "            values[index:index + 3] = [1, -1, -self.h]\n",
    "            index += 3\n",
    "        for i in range(self.NK - 1):\n",
    "            values[index:index + 3] = [1, -1, -self.h]\n",
    "            index += 3\n",
    "        for i in range(self.NK - 1):\n",
    "            values[index:index + 3] = [1, -1, -self.h]\n",
    "            index += 3\n",
    "        # Initial x\n",
    "        values[index] = 1\n",
    "        index += 1\n",
    "        # Initial y\n",
    "        values[index] = 1\n",
    "        index += 1\n",
    "        # Final x\n",
    "        values[index] = 1\n",
    "        index += 1\n",
    "        # Final y\n",
    "        values[index] = 1\n",
    "        index += 1\n",
    "\n",
    "        for (cx, cy, rx, ry) in zip(self.cxs, self.cys, self.rxs, self.rys):\n",
    "            for i in range(self.NK):\n",
    "                values[index:index + 2] = [2*(x[i]-cx)/(rx**2), 2*(y[i]-cy)/(ry**2)]\n",
    "                index += 2\n",
    "        return values\n",
    "\n"
   ]
  },
  {
   "cell_type": "code",
   "execution_count": 26,
   "id": "9fe0c21f-bd68-4bcb-bbb4-2d2523e23279",
   "metadata": {},
   "outputs": [],
   "source": [
    "from scipy.sparse import coo_array\n",
    "from functools import cached_property\n",
    "\n",
    "class Objective:\n",
    "    def __init__(self, grid_t:np.ndarray):\n",
    "        self.x0 = 0.7\n",
    "        self.y0 = 0.3\n",
    "        self.theta0 = 0.0\n",
    "        self.x_final = 0.1\n",
    "        self.y_final = 0.1\n",
    "        self.theta_final = np.pi\n",
    "        \n",
    "        # Obstacles\n",
    "        self.cxs = [(0.5 + 0.25)/2, (0.75 + 0.6)/2]\n",
    "        self.cys = [(0.4 + 0.15)/2, (0.85 + 0.6)/2]\n",
    "        self.rxs = [(0.5 - 0.25)/2, (0.75 - 0.6)/2]\n",
    "        self.rys = [(0.4 - 0.15)/2, (0.85 - 0.6)/2]\n",
    "        self.obstacle_shape = \"circle\"\n",
    "        self.obstacle_shape = \"diamond\"\n",
    "        self.obstacle_shape = \"square\"\n",
    "        # # Obstacles\n",
    "        # self.cxs = []\n",
    "        # self.cys = []\n",
    "        # self.rxs = []\n",
    "        # self.rys = []\n",
    "        # self.obstacle_shape = \"circle\"\n",
    "        \n",
    "        # bounds\n",
    "        self.x_lower = 0\n",
    "        self.x_upper = 1\n",
    "        self.y_lower = 0\n",
    "        self.y_upper = 1\n",
    "        self.theta_lower = -1000\n",
    "        self.theta_upper = 1000\n",
    "        self.v_lower = 0.1\n",
    "        self.v_upper = 3.0\n",
    "        self.acc_lower = -10\n",
    "        self.acc_upper = 10\n",
    "        self.omega_lower = -20*np.pi\n",
    "        self.omega_upper = 20*np.pi\n",
    "        self.omega_acc_lower = -200\n",
    "        self.omega_acc_upper = 200\n",
    "        \n",
    "        self.T = grid_t[-1] - grid_t[0]\n",
    "        self.NK = grid_t.shape[0]\n",
    "        self.grid_t = grid_t\n",
    "        self.h = self.T/self.NK  # time grid spacing\n",
    "        self.reg = 0.000001  # regularization term\n",
    "        \n",
    "        self.x_shift = 0*self.NK\n",
    "        self.y_shift = 1*self.NK\n",
    "        self.theta_shift = 2*self.NK\n",
    "        self.v_shift = 3*self.NK\n",
    "        self.acc_shift = 4*self.NK\n",
    "        self.omega_shift = 5*self.NK\n",
    "        self.omega_acc_shift = 6*self.NK\n",
    "        \n",
    "        self.n = self.NK*7 # number of variables\n",
    "        \n",
    "        self.constraints(np.zeros((self.n,)))\n",
    "\n",
    "    @property\n",
    "    def m(self):\n",
    "        return self.num_equality_constraints + self.num_inequality_constraints\n",
    "\n",
    "    def var_joiner(self, x, y, theta, v, acc, omega, omega_acc):\n",
    "        \"\"\"Join variables into a single vector\"\"\"\n",
    "        return np.concatenate((x, y, theta, v, acc, omega, omega_acc), axis=0)\n",
    "        \n",
    "    def var_splitter(self, vars):\n",
    "        \"\"\"Split variables from a single vector\"\"\"\n",
    "        x = vars[self.x_shift:self.x_shift + self.NK]\n",
    "        y = vars[self.y_shift:self.y_shift + self.NK]\n",
    "        theta = vars[self.theta_shift:self.theta_shift + self.NK]\n",
    "        v = vars[self.v_shift:self.v_shift + self.NK]\n",
    "        acc = vars[self.acc_shift:self.acc_shift + self.NK]\n",
    "        omega = vars[self.omega_shift:self.omega_shift + self.NK]\n",
    "        omega_acc = vars[self.omega_acc_shift:self.omega_acc_shift + self.NK]\n",
    "        return (x, y, theta, v, acc, omega, omega_acc)\n",
    "        \n",
    "    @property\n",
    "    def lb(self):\n",
    "        \"\"\"Lower bounds on variables\"\"\"\n",
    "        x = self.x_lower*np.ones((self.NK,))\n",
    "        y = self.y_lower*np.ones((self.NK,))\n",
    "        theta = self.theta_lower*np.ones((self.NK,))\n",
    "        v = self.v_lower*np.ones((self.NK,))\n",
    "        acc = self.acc_lower*np.ones((self.NK,))\n",
    "        omega = self.omega_lower*np.ones((self.NK,))\n",
    "        omega_acc = self.omega_acc_lower*np.ones((self.NK,))\n",
    "        return np.concatenate((x, y, theta, v, acc, omega, omega_acc), axis=0)\n",
    "        \n",
    "    @property\n",
    "    def ub(self):\n",
    "        \"\"\"Upper bound on variables\"\"\"\n",
    "        x = self.x_upper*np.ones((self.NK,))\n",
    "        y = self.y_upper*np.ones((self.NK,))\n",
    "        theta = self.theta_upper*np.ones((self.NK,))\n",
    "        v = self.v_upper*np.ones((self.NK,))\n",
    "        acc = self.acc_upper*np.ones((self.NK,))\n",
    "        omega = self.omega_upper*np.ones((self.NK,))\n",
    "        omega_acc = self.omega_acc_upper*np.ones((self.NK,))\n",
    "        return np.concatenate((x, y, theta, v, acc, omega, omega_acc), axis=0)\n",
    "        \n",
    "    def regularization_objective(self, vars):\n",
    "        (x, y, theta, v, acc, omega, omega_acc) = self.var_splitter(vars)\n",
    "        # return (np.sum(v**2) + np.sum(omega**2))\n",
    "        return (np.sum(acc**2) + np.sum(omega_acc**2))\n",
    "\n",
    "    def regularization_gradient(self, vars):\n",
    "        \"\"\"Objective function gradient\"\"\"\n",
    "        (_, _, _, v, acc, omega, omega_acc) = self.var_splitter(vars)\n",
    "\n",
    "        x = np.zeros(v.shape)\n",
    "        y = np.zeros(v.shape)\n",
    "        theta = np.zeros(v.shape)\n",
    "        # v = 2*v\n",
    "        v = np.zeros(v.shape)\n",
    "        acc = np.zeros(v.shape)\n",
    "        acc = 2*acc\n",
    "        # omega = 2*omega\n",
    "        omega = np.zeros(v.shape)\n",
    "        # omega_acc = np.zeros(v.shape)\n",
    "        omega_acc = 2*omega_acc\n",
    "        \n",
    "        return self.var_joiner(x, y, theta, v, acc, omega, omega_acc)\n",
    "    \n",
    "    def objective(self, vars):\n",
    "        (x, y, theta, v, acc, omega, omega_acc) = self.var_splitter(vars)\n",
    "        return self.OED_objective(vars) + self.reg * self.regularization_objective(vars)\n",
    "\n",
    "    def OED_objective(self, vars):\n",
    "        (x, y, theta, v, acc, omega, omega_acc) = self.var_splitter(vars)\n",
    "        return utility.eval_utility_A(inversion.compute_posterior(alpha=np.concatenate((x, y), axis = 0), grid_t=self.grid_t))\n",
    "\n",
    "    def OED_gradient(self, vars):\n",
    "        (x, y, theta, v, acc, omega, omega_acc) = self.var_splitter(vars)\n",
    "        out = utility.d_utilA_d_position(inversion.compute_posterior(alpha=np.concatenate((x, y), axis = 0), grid_t=self.grid_t))\n",
    "        out = np.concatenate((out, np.zeros((self.NK * (7 - 2),))))\n",
    "        return out\n",
    "        \n",
    "    def gradient(self, vars):\n",
    "        \"\"\"Objective function gradient\"\"\"\n",
    "        return self.OED_gradient(vars) + self.reg * self.regularization_gradient(vars)\n",
    "\n",
    "    def circle_obstacle(self, x, y, cx, cy, rx, ry):\n",
    "        \"\"\"Circular obstacle\"\"\"\n",
    "        return ((x - cx)/rx)**2 + ((y - cy)/ry)**2 - 1\n",
    "\n",
    "    def diamond_obstacle(self, x, y, cx, cy, rx, ry):\n",
    "        \"\"\"Diamond obstacle\"\"\"\n",
    "        return np.abs((x - cx)/rx) + np.abs((y - cy)/ry) - 1\n",
    "\n",
    "    def square_obstacle(self, x, y, cx, cy, rx, ry):\n",
    "        \"\"\"Square obstacle\"\"\"\n",
    "        return np.abs(((x - cx)/rx + (y - cy)/ry)/2) + np.abs(((x - cx)/rx - (y - cy)/ry)/2) - 1\n",
    "\n",
    "    # @jax.jit\n",
    "    def constraints(self, vars):\n",
    "        \"\"\"Values to constrain between cl and cu\"\"\"\n",
    "        # Equality constraints\n",
    "        (x, y, theta, v, acc, omega, omega_acc) = self.var_splitter(vars)\n",
    "        dae_x = (x[1:] - x[:-1]) - self.h * np.cos(theta[:-1]) * v[:-1] # == 0\n",
    "        dae_y = (y[1:] - y[:-1]) - self.h * np.sin(theta[:-1]) * v[:-1] # == 0\n",
    "        dae_theta = (theta[1:] - theta[:-1]) - self.h * omega[:-1] # == 0\n",
    "        dae_acc = (v[1:] - v[:-1]) - self.h * acc[:-1] # == 0\n",
    "        dae_omega_acc = (omega[1:] - omega[:-1]) - self.h * omega_acc[:-1] # == 0\n",
    "        initial_x = x[0] - self.x0 # == 0\n",
    "        initial_y = y[0] - self.y0 # == 0\n",
    "        final_x = x[-1] - self.x_final # == 0\n",
    "        final_y = y[-1] - self.y_final # == 0\n",
    "        cons = np.concatenate((dae_x, dae_y, dae_theta, dae_acc, dae_omega_acc, np.array((initial_x, initial_y, final_x, final_y))), axis = 0)\n",
    "        # cons = np.concatenate((dae_x, dae_y, dae_theta, dae_acc, dae_omega_acc, np.array((initial_x, initial_y))), axis = 0)\n",
    "        self.num_equality_constraints = len(cons)\n",
    "        \n",
    "        # Inequality contraints\n",
    "        for (cx, cy, rx, ry) in zip(self.cxs, self.cys, self.rxs, self.rys):\n",
    "            if self.obstacle_shape == \"circle\":\n",
    "                cons = np.concatenate((cons, self.circle_obstacle(x, y, cx, cy, rx, ry)), axis = 0) # >= 0\n",
    "            elif self.obstacle_shape == \"square\":\n",
    "                cons = np.concatenate((cons, self.square_obstacle(x, y, cx, cy, rx, ry)), axis = 0) # >= 0\n",
    "            elif self.obstacle_shape == \"diamond\":\n",
    "                cons = np.concatenate((cons, self.diamond_obstacle(x, y, cx, cy, rx, ry)), axis = 0) # >= 0\n",
    "\n",
    "        self.num_inequality_constraints = len(cons) - self.num_equality_constraints\n",
    "        return cons\n",
    "\n",
    "    @property\n",
    "    def cl(self):\n",
    "        \"\"\"Constriant lower bounds\"\"\"\n",
    "        return np.zeros((self.m,))\n",
    "\n",
    "    @property\n",
    "    def cu(self):\n",
    "        \"\"\"Constraint upper bounds\"\"\"\n",
    "        upper_bound = np.zeros((self.m,))\n",
    "        upper_bound[self.num_equality_constraints:] = np.inf\n",
    "        return upper_bound\n",
    "\n",
    "    \n",
    "    def jacobianstructure(self):\n",
    "        return self.memoized_jac_structure\n",
    "    \n",
    "    @cached_property\n",
    "    def memoized_jac_structure(self) -> tuple[np.ndarray,np.ndarray]:\n",
    "        # (x, y, theta, v, acc, omega, omega_acc) = self.var_splitter(vars)\n",
    "        # return jax.experimental.sparse.jacfwd(self.contraints)(x)\n",
    "        # return jax.jacfwd(self.constraints)(vars)\n",
    "        rows = []\n",
    "        columns = []\n",
    "        # values = []\n",
    "        row = 0\n",
    "        for i in range(self.NK - 1):\n",
    "            columns += [i + 1 + self.x_shift, i + self.x_shift, i + self.theta_shift, i + self.v_shift]\n",
    "            rows += [row]*4\n",
    "            # values += [1, -1, self.h * jnp.sin(theta[i]) * v[i], -self.h * jnp.cos(theta[i])]\n",
    "            row += 1\n",
    "        for i in range(self.NK - 1):\n",
    "            columns += [i + 1 + self.y_shift, i + self.y_shift, i + self.theta_shift, i + self.v_shift]\n",
    "            rows += [row]*4\n",
    "            # values += [1, -1, -self.h * jnp.cos(theta[i]) * v[i], -self.h * jnp.sin(theta[i])]\n",
    "            row += 1\n",
    "        for i in range(self.NK - 1):\n",
    "            columns += [i + 1 + self.theta_shift, i + self.theta_shift, i + self.omega_shift]\n",
    "            rows += [row]*3\n",
    "            # values += [1, -1, -self.h]\n",
    "            row += 1\n",
    "        for i in range(self.NK - 1):\n",
    "            columns += [i + 1 + self.v_shift, i + self.v_shift, i + self.acc_shift]\n",
    "            rows += [row]*3\n",
    "            # values += [1, -1, -self.h]\n",
    "            row += 1\n",
    "        for i in range(self.NK - 1):\n",
    "            columns += [i + 1 + self.omega_shift, i + self.omega_shift, i + self.omega_acc_shift]\n",
    "            rows += [row]*3\n",
    "            # values += [1, -1, -self.h]\n",
    "            row += 1\n",
    "        # Initial x\n",
    "        columns += [0 + self.x_shift]\n",
    "        rows += [row]\n",
    "        # values += [1]\n",
    "        row += 1\n",
    "        # Initial y\n",
    "        columns += [0 + self.y_shift]\n",
    "        rows += [row]\n",
    "        # values += [1]\n",
    "        row += 1\n",
    "        # Final x\n",
    "        columns += [self.NK - 1 + self.x_shift]\n",
    "        rows += [row]\n",
    "        # values += [1]\n",
    "        row += 1\n",
    "        # Final y\n",
    "        columns += [self.NK - 1 + self.y_shift]\n",
    "        rows += [row]\n",
    "        # values += [1]\n",
    "        row += 1\n",
    "        # ((x - cx)/rx)**2 + ((y - cy)/ry)**2 - 1\n",
    "        for (cx, cy, rx, ry) in zip(self.cxs, self.cys, self.rxs, self.rys):\n",
    "            for i in range(self.NK):\n",
    "                columns += [i + self.x_shift, i + self.y_shift]\n",
    "                rows += [row, row]\n",
    "                # values += [2/rx*(x[i]-cx)/rx, 2/ry*(y[i]-cy)/ry]\n",
    "                row += 1\n",
    "        return (np.array(rows, dtype=int), np.array(columns, dtype=int))\n",
    "\n",
    "    def jacobian(self, vars):\n",
    "        \"\"\"Jacobian of constraints\"\"\"\n",
    "        (x, y, theta, v, acc, omega, omega_acc) = self.var_splitter(vars)\n",
    "        rows, columns = self.jacobianstructure()\n",
    "        values = np.zeros(rows.shape)\n",
    "        index = 0\n",
    "        for i in range(self.NK - 1):\n",
    "            values[index:index + 4] = [1, -1, self.h * np.sin(theta[i]) * v[i], -self.h * np.cos(theta[i])]\n",
    "            index += 4\n",
    "        for i in range(self.NK - 1):\n",
    "            values[index:index + 4] = [1, -1, -self.h * np.cos(theta[i]) * v[i], -self.h * np.sin(theta[i])]\n",
    "            index += 4\n",
    "        for i in range(self.NK - 1):\n",
    "            values[index:index + 3] = [1, -1, -self.h]\n",
    "            index += 3\n",
    "        for i in range(self.NK - 1):\n",
    "            values[index:index + 3] = [1, -1, -self.h]\n",
    "            index += 3\n",
    "        for i in range(self.NK - 1):\n",
    "            values[index:index + 3] = [1, -1, -self.h]\n",
    "            index += 3\n",
    "        # Initial x\n",
    "        values[index] = 1\n",
    "        index += 1\n",
    "        # Initial y\n",
    "        values[index] = 1\n",
    "        index += 1\n",
    "        # Final x\n",
    "        values[index] = 1\n",
    "        index += 1\n",
    "        # Final y\n",
    "        values[index] = 1\n",
    "        index += 1\n",
    "\n",
    "        for (cx, cy, rx, ry) in zip(self.cxs, self.cys, self.rxs, self.rys):\n",
    "            for i in range(self.NK):\n",
    "                if self.obstacle_shape == \"circle\":\n",
    "                    values[index:index + 2] = [2*(x[i]-cx)/(rx**2), 2*(y[i]-cy)/(ry**2)]\n",
    "                elif self.obstacle_shape == \"square\":\n",
    "                    values[index:index + 2] = [np.sign((x[i]-cx)/rx + (y[i] - cy)/ry)/rx/2 + np.sign((x[i]-cx)/rx - (y[i] - cy)/ry)/rx/2,\n",
    "                                               np.sign((x[i]-cx)/rx + (y[i] - cy)/ry)/ry/2 - np.sign((x[i]-cx)/rx - (y[i] - cy)/ry)/ry/2]\n",
    "                elif self.obstacle_shape == \"diamond\":\n",
    "                    values[index:index + 2] = [np.sign(x[i]-cx)/rx, np.sign(y[i]-cy)/ry]\n",
    "                index += 2\n",
    "        return values"
   ]
  },
  {
   "cell_type": "code",
   "execution_count": 30,
   "id": "72a63be9-16e4-42e9-8625-f8b5375d3f23",
   "metadata": {},
   "outputs": [],
   "source": [
    "# problem_obj = Objective(grid_t_drone)\n",
    "from Optimization.DAE import Objective as objective_class\n",
    "problem_obj = objective_class(grid_t_drone, utility, inversion, \n",
    "                              piecewise_constant=None,\n",
    "                              use_exact_DAE=True,\n",
    "                              # reg_strength = 1e-10,\n",
    "                              # v_lower = 0.1,\n",
    "                              # v_upper = 3,\n",
    "                              # acc_lower = -100,\n",
    "                              # acc_upper = 100,\n",
    "                              # omega_upper = 100,\n",
    "                              # omega_lower = -100,\n",
    "                              # omega_acc_upper = 10000,\n",
    "                              # omega_acc_lower = -10000,\n",
    "                              build_video = True,\n",
    "                             )\n",
    "\n",
    "# problem = cyipopt.Problem(\n",
    "#     n = problem_obj.n,  # Number of decision variables\n",
    "#     m = problem_obj.m,  # Number of constraints\n",
    "#     problem_obj = problem_obj,  # Objective object with \"objective\" and \"gradient\" functions\n",
    "#     lb = problem_obj.lb,  # Lower bounds for x\n",
    "#     ub = problem_obj.ub,  # Upper bounds for x\n",
    "#     cl = problem_obj.cl,  # Lower bound for constraints\n",
    "#     cu = problem_obj.cu,  # Lower bound for constraints\n",
    "# )"
   ]
  },
  {
   "cell_type": "code",
   "execution_count": 31,
   "id": "1b20bd41-36aa-4363-950e-5c479965c136",
   "metadata": {},
   "outputs": [],
   "source": [
    "# Set the initial guess for the decision variables\n",
    "initial_x = jnp.linspace(problem_obj.x0, 0.0, problem_obj.NK)\n",
    "initial_y = jnp.linspace(problem_obj.y0, 0.0, problem_obj.NK)\n",
    "initial_theta = jnp.arctan2(np.diff(initial_y, append=0.),np.diff(initial_x, append=0.))\n",
    "initial_v = jnp.ones(initial_x.shape)\n",
    "initial_acc = jnp.ones(initial_x.shape)\n",
    "initial_omega = jnp.ones(initial_x.shape)\n",
    "initial_omega_acc = jnp.ones(initial_x.shape)\n",
    "\n",
    "# Set the initial guess for the decision variables\n",
    "initial_x = np.concatenate((\n",
    "    np.linspace(problem_obj.x0, 0.5, problem_obj.NK//3),\n",
    "    np.linspace(0.5, 0.2, problem_obj.NK//3),\n",
    "    np.linspace(0.2, problem_obj.x_final, problem_obj.NK - 2*(problem_obj.NK//3)),\n",
    "))\n",
    "initial_y = np.concatenate((\n",
    "    np.linspace(problem_obj.y0, 0.5, problem_obj.NK//3),\n",
    "    np.linspace(0.5, 0.5, problem_obj.NK//3),\n",
    "    np.linspace(0.5, problem_obj.y_final, problem_obj.NK - 2*(problem_obj.NK//3)),\n",
    "))\n",
    "initial_theta = np.arctan2(np.diff(initial_y, append=0.),np.diff(initial_x, append=0.))\n",
    "initial_v = np.ones(initial_x.shape)\n",
    "initial_acc = np.ones(initial_x.shape)\n",
    "initial_omega = np.ones(initial_x.shape)\n",
    "initial_omega_acc = np.ones(initial_x.shape)\n",
    "\n",
    "x0 = problem_obj.var_joiner(initial_x, initial_y, initial_theta, initial_v, initial_acc, initial_omega, initial_omega_acc)"
   ]
  },
  {
   "cell_type": "code",
   "execution_count": 32,
   "id": "9ab3c140-0439-4768-a868-861e8628e62f",
   "metadata": {},
   "outputs": [],
   "source": [
    "x0 = problem_obj.var_joiner(initial_x, initial_y, initial_theta, initial_v, initial_acc, initial_omega, initial_omega_acc)"
   ]
  },
  {
   "cell_type": "code",
   "execution_count": 33,
   "id": "37b74555-ab42-4ab7-8e09-8480eb4be26e",
   "metadata": {},
   "outputs": [
    {
     "data": {
      "text/plain": [
       "4.062964739101178"
      ]
     },
     "execution_count": 33,
     "metadata": {},
     "output_type": "execute_result"
    }
   ],
   "source": [
    "problem_obj.objective(x0)"
   ]
  },
  {
   "cell_type": "code",
   "execution_count": 34,
   "id": "97e036ea-2c4c-48fe-913d-f20809b1d011",
   "metadata": {},
   "outputs": [
    {
     "data": {
      "text/plain": [
       "array([5.57334467e-03, 5.57334467e-03, 5.57334467e-03, ...,\n",
       "       6.64676617e+00, 6.65671642e+00, 6.66666667e+00])"
      ]
     },
     "execution_count": 34,
     "metadata": {},
     "output_type": "execute_result"
    }
   ],
   "source": [
    "problem_obj.gradient(x0)\n",
    "# finite difference gradient check\n",
    "\n",
    "problem_obj.constraints(x0)"
   ]
  },
  {
   "cell_type": "code",
   "execution_count": 35,
   "id": "bbc468ec-d8bd-4bae-a3e2-dce75be0a15b",
   "metadata": {},
   "outputs": [
    {
     "data": {
      "text/plain": [
       "(2807,)"
      ]
     },
     "execution_count": 35,
     "metadata": {},
     "output_type": "execute_result"
    }
   ],
   "source": [
    "jax.grad(problem_obj.regularization_objective)(x0).shape\n",
    "problem_obj.gradient(x0).shape\n",
    "# jnp.zeros((problem_obj.NK * (5),)).shape"
   ]
  },
  {
   "cell_type": "code",
   "execution_count": 36,
   "id": "71a7e8e9-3475-43bd-a6be-afd7d77f675b",
   "metadata": {},
   "outputs": [
    {
     "data": {
      "text/plain": [
       "4.062162739101177"
      ]
     },
     "execution_count": 36,
     "metadata": {},
     "output_type": "execute_result"
    }
   ],
   "source": [
    "utility.eval_utility_A(inversion.compute_posterior(alpha=np.concatenate((initial_x, initial_y), axis = 0), grid_t = grid_t_drone))"
   ]
  },
  {
   "cell_type": "code",
   "execution_count": 37,
   "id": "e6baf992-5be1-45ca-b276-bb3c02e6aef4",
   "metadata": {
    "scrolled": true
   },
   "outputs": [
    {
     "data": {
      "text/plain": [
       "array([-2.67709694e-02, -2.80560435e-02, -2.83254955e-02, -2.85861560e-02,\n",
       "       -2.88159549e-02, -2.89416747e-02, -2.91410319e-02, -2.93203337e-02,\n",
       "       -2.94911535e-02, -2.96531524e-02, -2.97518534e-02, -2.98051941e-02,\n",
       "       -2.98852839e-02, -2.99577957e-02, -3.00226139e-02, -3.00725041e-02,\n",
       "       -3.00668415e-02, -3.00745584e-02, -3.00784877e-02, -3.00762372e-02,\n",
       "       -3.00368955e-02, -2.99952627e-02, -2.99767547e-02, -2.99274125e-02,\n",
       "       -2.98202862e-02, -2.97296455e-02, -2.96336124e-02, -2.95321543e-02,\n",
       "       -2.94252383e-02, -2.93128316e-02, -2.91416165e-02, -2.90071281e-02,\n",
       "       -2.88701014e-02, -2.86708069e-02, -2.84870811e-02, -2.83028725e-02,\n",
       "       -2.81156457e-02, -2.79254061e-02, -2.77321587e-02, -2.74972680e-02,\n",
       "       -2.72711602e-02, -2.70474190e-02, -2.67599219e-02, -2.65080233e-02,\n",
       "       -2.62562853e-02, -2.60047310e-02, -2.57533835e-02, -2.55055484e-02,\n",
       "       -2.52764130e-02, -2.49394522e-02, -2.46048551e-02, -2.43056998e-02,\n",
       "       -2.40206289e-02, -2.37385735e-02, -2.34595424e-02, -2.31835444e-02,\n",
       "       -2.29105881e-02, -2.26406825e-02, -2.23085938e-02, -2.19701815e-02,\n",
       "       -2.17032215e-02, -2.13929222e-02, -2.10675052e-02, -2.07770795e-02,\n",
       "       -2.05059928e-02, -2.02428158e-02, -1.99732190e-02, -1.95661091e-02,\n",
       "       -1.93845702e-02, -1.91334019e-02, -1.88788543e-02, -1.85581205e-02,\n",
       "       -1.82813767e-02, -1.80156559e-02, -1.77703894e-02, -1.75311802e-02,\n",
       "       -1.72438540e-02, -1.69916573e-02, -1.67479194e-02, -1.65124368e-02,\n",
       "       -1.62850059e-02, -1.60654234e-02, -1.58534857e-02, -1.56052059e-02,\n",
       "       -1.53730467e-02, -1.51726170e-02, -1.49239329e-02, -1.46964173e-02,\n",
       "       -1.44758013e-02, -1.42618104e-02, -1.40541701e-02, -1.38526059e-02,\n",
       "       -1.36568432e-02, -1.34638894e-02, -1.31953475e-02, -1.31471135e-02,\n",
       "       -1.29061174e-02, -1.26667176e-02, -1.24306852e-02, -1.21977413e-02,\n",
       "       -1.19676072e-02, -1.17400042e-02, -1.14630434e-02, -1.12741462e-02,\n",
       "       -1.11625253e-02, -1.08733062e-02, -1.05864298e-02, -1.03276082e-02,\n",
       "       -1.00933504e-02, -9.89644333e-03, -9.62776745e-03, -9.36671689e-03,\n",
       "       -9.09388743e-03, -8.79518789e-03, -8.57918774e-03, -8.25237793e-03,\n",
       "       -7.99321861e-03, -7.70856021e-03, -7.40891050e-03, -7.10601958e-03,\n",
       "       -6.79974917e-03, -6.48827862e-03, -6.14944978e-03, -5.81645811e-03,\n",
       "       -5.48386946e-03, -5.14713065e-03, -4.81056925e-03, -4.43098583e-03,\n",
       "       -4.05314889e-03, -3.69685964e-03, -3.35590496e-03, -2.99174586e-03,\n",
       "        1.91128595e-02, -2.51343476e-02, -1.70408922e-03, -1.33898183e-03,\n",
       "       -9.80136912e-04, -6.25041790e-04, -2.54084280e-04,  5.57188783e-06,\n",
       "        3.66403675e-04,  7.11857789e-04,  9.97795344e-04,  1.30195523e-03,\n",
       "        1.60116529e-03,  1.89180352e-03,  2.15332728e-03,  2.41977604e-03,\n",
       "        2.68203071e-03,  2.94377590e-03,  3.20125279e-03,  3.43877385e-03,\n",
       "        3.67251478e-03,  3.90260734e-03,  4.11191221e-03,  4.32781664e-03,\n",
       "        4.56796947e-03,  4.80575770e-03,  4.96740160e-03,  5.14011390e-03,\n",
       "        5.33507205e-03,  5.52676905e-03,  5.70448896e-03,  5.87905596e-03,\n",
       "        6.04676021e-03,  6.20139161e-03,  6.35033959e-03,  6.49135993e-03,\n",
       "        6.62962107e-03,  6.76516423e-03,  6.89803063e-03,  7.01408732e-03,\n",
       "        7.17797015e-03,  7.29533197e-03,  7.38270150e-03,  7.48138649e-03,\n",
       "        7.57726172e-03,  7.67036229e-03,  7.76072333e-03,  7.84837993e-03,\n",
       "        7.90922422e-03,  8.05743343e-03,  8.09083241e-03,  8.15074619e-03,\n",
       "        8.20959581e-03,  8.26284910e-03,  8.30093114e-03,  8.36724359e-03,\n",
       "        8.39851274e-03,  8.41997053e-03,  8.46150295e-03,  8.51879162e-03,\n",
       "        8.51540373e-03,  8.54121901e-03,  8.56623210e-03,  8.58928654e-03,\n",
       "        8.62263203e-03,  8.61394468e-03,  8.59088459e-03,  8.59466754e-03,\n",
       "        8.59310839e-03,  8.59221175e-03,  8.58236856e-03,  8.55073542e-03,\n",
       "        8.59956319e-03,  8.57300046e-03,  8.53956480e-03,  8.52005528e-03,\n",
       "        8.49842962e-03,  8.47471860e-03,  8.44895299e-03,  8.40832548e-03,\n",
       "        8.40913763e-03,  8.37808374e-03,  8.34361648e-03,  8.30727419e-03,\n",
       "        8.26908728e-03,  8.22908620e-03,  8.18730137e-03,  8.14376322e-03,\n",
       "        7.99330047e-03,  8.20170015e-03,  8.08422765e-03,  8.00887530e-03,\n",
       "        7.93152777e-03,  7.83168909e-03,  7.81095142e-03,  7.86018869e-03,\n",
       "        7.79336900e-03,  7.69190948e-03,  7.64282269e-03,  7.59251613e-03,\n",
       "        7.54495718e-03,  7.46751438e-03,  7.36062790e-03,  7.23873396e-03,\n",
       "        7.21316204e-03,  7.07707173e-03,  6.91860125e-03,  6.80266289e-03,\n",
       "        6.69679791e-03,  6.58948491e-03,  6.48952826e-03,  6.33702656e-03,\n",
       "        6.14279969e-03,  5.94487836e-03,  5.74460919e-03,  5.56589530e-03,\n",
       "        5.39291829e-03,  5.16575741e-03,  4.91015658e-03,  4.65102586e-03,\n",
       "        4.39764675e-03,  4.10932252e-03,  3.81700079e-03,  3.52254044e-03,\n",
       "        3.23274113e-03,  2.86550733e-03,  2.48258472e-03,  2.09825315e-03,\n",
       "        1.70222372e-03,  1.32058034e-03,  9.38391164e-04,  5.56827173e-04,\n",
       "        3.73637291e-05,  2.54061051e-05, -6.11373945e-04, -8.59096570e-05,\n",
       "        3.33856606e-04,  7.44219996e-04,  1.22566916e-03,  1.58045654e-03,\n",
       "        1.94491935e-03,  2.30116041e-03,  2.64105479e-03,  2.99263841e-03,\n",
       "        3.31598080e-03,  3.62227354e-03,  3.86916011e-03,  4.23875015e-03,\n",
       "        4.58456827e-03,  4.79447513e-03,  4.99528378e-03,  5.17263793e-03,\n",
       "        5.36112717e-03,  5.61153363e-03,  5.77117802e-03,  5.83839716e-03,\n",
       "        6.00693011e-03,  6.22217815e-03,  6.24167630e-03,  6.11456155e-03,\n",
       "        6.12888269e-03,  6.15240007e-03,  5.99512090e-03,  5.91628673e-03,\n",
       "        5.84665868e-03,  5.79115484e-03,  5.68029515e-03,  5.48272703e-03,\n",
       "        5.31199802e-03,  5.16732887e-03,  5.03672543e-03,  4.94937913e-03,\n",
       "        4.62847969e-03,  4.47206872e-03,  4.32806816e-03,  4.17428358e-03,\n",
       "        4.06955429e-03,  3.97551377e-03,  3.90287896e-03,  3.81943283e-03,\n",
       "        3.71800295e-03,  3.71742032e-03,  3.75453353e-03,  3.83073955e-03,\n",
       "        3.94743536e-03,  4.08270206e-03,  4.22916204e-03,  4.51083607e-03,\n",
       "        4.80547906e-03,  5.09988292e-03,  5.61534588e-03,  6.14250639e-03,\n",
       "        6.74838051e-03,  7.34853612e-03,  8.00302635e-03,  8.71255287e-03,\n",
       "        9.57316487e-03,  1.07086792e-02,  1.15739444e-02,  1.24897619e-02,\n",
       "        1.36103863e-02,  1.51415626e-02,  1.61928711e-02,  1.71935893e-02,\n",
       "        1.77201626e-02,  1.95569924e-02,  2.24679024e-02,  2.33515889e-02,\n",
       "        2.41174363e-02,  2.48673771e-02,  2.56014781e-02,  2.64333095e-02,\n",
       "        2.80983541e-02,  2.88245646e-02,  2.91691980e-02,  2.95458339e-02,\n",
       "        2.97046795e-02,  2.98167211e-02,  2.98863696e-02,  2.99672955e-02,\n",
       "        2.99551615e-02,  2.98780844e-02,  2.97593267e-02,  2.95114090e-02,\n",
       "        2.96417882e-02,  2.91524135e-02,  2.91017056e-02,  2.86888896e-02,\n",
       "        2.81136072e-02,  2.74201670e-02,  2.69317704e-02,  2.70653200e-02,\n",
       "        2.59809959e-02,  2.50026581e-02,  2.45268088e-02,  2.37088567e-02,\n",
       "        2.33165709e-02,  2.27850139e-02,  2.20759258e-02,  2.14323114e-02,\n",
       "        2.09249648e-02,  2.00050920e-02,  1.94506136e-02,  1.90769323e-02,\n",
       "        1.86834582e-02,  1.82319139e-02,  1.76214488e-02,  1.72366636e-02,\n",
       "        1.69146287e-02,  1.65853507e-02,  1.66050283e-02,  1.60478636e-02,\n",
       "        1.58369149e-02,  1.57694272e-02,  1.53193271e-02,  1.50306769e-02,\n",
       "        1.46625110e-02,  1.44794656e-02,  1.42480400e-02,  1.40156279e-02,\n",
       "        1.37880313e-02,  1.34937025e-02,  1.30715062e-02,  1.29187313e-02,\n",
       "        1.28130286e-02,  1.24559214e-02,  1.18218394e-02,  1.15567872e-02,\n",
       "       -2.63494577e-02,  6.82631065e-04,  7.73029047e-04,  1.31808967e-03,\n",
       "        1.85624740e-03,  2.38425240e-03,  2.81499619e-03,  3.23641004e-03,\n",
       "        3.64841508e-03,  4.05319333e-03,  4.44923718e-03,  4.82078181e-03,\n",
       "        5.14023343e-03,  5.43872677e-03,  5.72959816e-03,  6.01262502e-03,\n",
       "        6.28013078e-03,  6.49816119e-03,  6.71359384e-03,  6.92023877e-03,\n",
       "        7.12124982e-03,  7.32788080e-03,  7.45315865e-03,  7.57929980e-03,\n",
       "        7.65098847e-03,  7.70773025e-03,  7.77566005e-03,  7.83606422e-03,\n",
       "        7.88880790e-03,  7.93375624e-03,  7.97077437e-03,  7.96784963e-03,\n",
       "        7.91903366e-03,  7.88912600e-03,  7.75206108e-03,  7.65854332e-03,\n",
       "        7.56476922e-03,  7.46433385e-03,  7.35714321e-03,  7.24310330e-03,\n",
       "        7.03447519e-03,  6.95201714e-03,  6.76958284e-03,  6.46515747e-03,\n",
       "        6.24974392e-03,  6.02963028e-03,  5.80476281e-03,  5.57508773e-03,\n",
       "        5.35113505e-03,  5.08891761e-03,  4.75130152e-03,  4.49541602e-03,\n",
       "        4.15214206e-03,  3.84221139e-03,  3.53079485e-03,  3.21786757e-03,\n",
       "        2.90340463e-03,  2.58738117e-03,  2.26977227e-03,  1.84363657e-03,\n",
       "        1.51248587e-03,  1.20291977e-03,  8.23835987e-04,  4.42628088e-04,\n",
       "        1.00171098e-04, -2.27509764e-04, -5.52101586e-04, -8.74288685e-04,\n",
       "       -1.14957651e-03, -1.74158978e-03, -2.04981768e-03, -2.31870718e-03,\n",
       "       -2.59716985e-03, -2.90006817e-03, -3.19812900e-03, -3.47957961e-03,\n",
       "       -3.82211266e-03, -4.14606218e-03, -4.40117755e-03, -4.64938817e-03,\n",
       "       -4.89082901e-03, -5.12563501e-03, -5.35394112e-03, -5.57588229e-03,\n",
       "       -5.74518393e-03, -5.99850618e-03, -6.19103654e-03, -6.28345271e-03,\n",
       "       -6.39961112e-03, -6.50911569e-03, -6.61221414e-03, -6.70915417e-03,\n",
       "       -6.80018351e-03, -6.88554986e-03, -6.96669672e-03, -6.91818931e-03,\n",
       "       -7.14367963e-03, -7.10166201e-03, -7.05242466e-03, -6.99900248e-03,\n",
       "       -6.94176475e-03, -6.88108073e-03, -6.81731968e-03, -6.64834638e-03,\n",
       "       -6.65268816e-03, -6.70512697e-03, -6.46594275e-03, -6.31559846e-03,\n",
       "       -6.20842309e-03, -6.11103348e-03, -5.97889096e-03, -5.82898293e-03,\n",
       "       -5.68968032e-03, -5.54387150e-03, -5.41461858e-03, -5.30591906e-03,\n",
       "       -5.07713958e-03, -5.03081136e-03, -4.90775295e-03, -4.76754195e-03,\n",
       "       -4.63293254e-03, -4.50431545e-03, -4.37589639e-03, -4.22969615e-03,\n",
       "       -4.14143512e-03, -4.06457694e-03, -3.99605257e-03, -3.93667354e-03,\n",
       "       -3.87879034e-03, -3.84509834e-03, -3.83765079e-03, -3.80486897e-03,\n",
       "       -3.80385174e-03, -1.72804992e-02,  5.45802361e-03, -4.09889885e-03,\n",
       "       -4.28405206e-03, -4.47344798e-03, -4.67000625e-03, -4.89777942e-03,\n",
       "       -5.04904256e-03, -5.29808728e-03, -5.51599878e-03, -5.72730774e-03,\n",
       "       -5.94994085e-03, -6.17740390e-03, -6.41615399e-03, -6.66745598e-03,\n",
       "       -6.90705644e-03, -7.15454300e-03, -7.40343474e-03, -7.68227192e-03,\n",
       "       -7.94480054e-03, -8.21190568e-03, -8.48410280e-03, -8.75496100e-03,\n",
       "       -9.03087875e-03, -9.33006250e-03, -9.65697461e-03, -9.95803077e-03,\n",
       "       -1.02508714e-02, -1.05554251e-02, -1.08714503e-02, -1.11834877e-02,\n",
       "       -1.15002110e-02, -1.18216425e-02, -1.21659331e-02, -1.25012611e-02,\n",
       "       -1.28316645e-02, -1.31662508e-02, -1.35049923e-02, -1.38478612e-02,\n",
       "       -1.41813828e-02, -1.45574097e-02, -1.49318413e-02, -1.52638761e-02,\n",
       "       -1.56102877e-02, -1.59599426e-02, -1.63128022e-02, -1.66688276e-02,\n",
       "       -1.70279803e-02, -1.73570523e-02, -1.77655063e-02, -1.81251432e-02,\n",
       "       -1.84603718e-02, -1.88017573e-02, -1.91413263e-02, -1.94634240e-02,\n",
       "       -1.98388198e-02, -2.01751425e-02, -2.04734285e-02, -2.08037711e-02,\n",
       "       -2.11795551e-02, -2.14658869e-02, -2.17834784e-02, -2.21053653e-02,\n",
       "       -2.24292862e-02, -2.27926310e-02, -2.30879760e-02, -2.32963394e-02,\n",
       "       -2.35786037e-02, -2.38441812e-02, -2.41159753e-02, -2.43990124e-02,\n",
       "       -2.46200448e-02, -2.48787832e-02, -2.51554724e-02, -2.53298703e-02,\n",
       "       -2.55435254e-02, -2.57559107e-02, -2.59670203e-02, -2.61768479e-02,\n",
       "       -2.63479742e-02, -2.64504633e-02, -2.65833031e-02, -2.67090937e-02,\n",
       "       -2.68326390e-02, -2.69539515e-02, -2.70730441e-02, -2.71899294e-02,\n",
       "       -2.73046201e-02, -2.70766025e-02, -2.75377031e-02, -2.73935229e-02,\n",
       "       -2.73875618e-02, -2.73778596e-02, -2.72960822e-02, -2.71150381e-02,\n",
       "       -2.71553495e-02, -2.73184128e-02, -2.70370869e-02, -2.69363881e-02,\n",
       "       -2.68321946e-02, -2.67384083e-02, -2.66096600e-02, -2.64040688e-02,\n",
       "       -2.61473108e-02, -2.60720884e-02, -2.58606579e-02, -2.56160310e-02,\n",
       "       -2.52915015e-02, -2.50041545e-02, -2.47121985e-02, -2.44486612e-02,\n",
       "       -2.41963494e-02, -2.38565868e-02, -2.35074007e-02, -2.31263578e-02,\n",
       "       -2.27405341e-02, -2.23828472e-02, -2.20474543e-02, -2.16322881e-02,\n",
       "       -2.12157959e-02, -2.08017490e-02, -2.03857921e-02, -1.99507514e-02,\n",
       "       -1.95104153e-02, -1.91092664e-02, -1.87230822e-02, -1.82871136e-02,\n",
       "       -1.78526897e-02, -1.74069542e-02, -1.69295841e-02, -1.64515224e-02,\n",
       "       -1.60075315e-02, -1.56475164e-02, -1.50153546e-02, -3.01477126e-02,\n",
       "       -1.54425632e-02, -1.57550323e-02, -1.59717275e-02, -1.60553109e-02,\n",
       "       -1.62643505e-02, -1.64110900e-02, -1.65538671e-02, -1.66188630e-02,\n",
       "       -1.65067030e-02, -1.65842321e-02, -1.65725565e-02, -1.63009656e-02,\n",
       "       -1.62594997e-02, -1.61612263e-02, -1.60322655e-02, -1.58958743e-02,\n",
       "       -1.56862330e-02, -1.53068862e-02, -1.51185369e-02, -1.50774000e-02,\n",
       "       -1.44315748e-02, -1.40803524e-02, -1.38594295e-02, -1.37580049e-02,\n",
       "       -1.32176278e-02, -1.28236134e-02, -1.29487780e-02, -1.22732451e-02,\n",
       "       -1.18633000e-02, -1.14678226e-02, -1.11159229e-02, -1.10272209e-02,\n",
       "       -1.07074858e-02, -1.02351467e-02, -9.86511699e-03, -9.49484053e-03,\n",
       "       -9.30823521e-03, -8.99689954e-03, -8.60746241e-03, -8.23529582e-03,\n",
       "       -7.95539666e-03, -7.62121149e-03, -7.25105910e-03, -6.88931060e-03,\n",
       "       -6.53774617e-03, -6.16257653e-03, -5.71523647e-03, -5.24653948e-03,\n",
       "       -4.75517434e-03, -4.23982985e-03, -3.72811691e-03, -3.25256913e-03,\n",
       "       -2.63819314e-03, -2.02379266e-03, -1.40406505e-03, -6.22585582e-04,\n",
       "        1.28969133e-04,  9.16267773e-04,  1.70109106e-03,  2.52320926e-03,\n",
       "        3.38801956e-03,  4.40815208e-03,  5.56453417e-03,  6.47689430e-03,\n",
       "        7.42641660e-03,  8.53996986e-03,  9.93506448e-03,  1.08661549e-02,\n",
       "        1.17318962e-02,  1.23415694e-02,  1.38599863e-02,  1.59635022e-02,\n",
       "        1.65095813e-02,  1.69361092e-02,  1.73256343e-02,  1.76787455e-02,\n",
       "        1.80475658e-02,  1.88469060e-02,  1.87050693e-02,  1.84369998e-02,\n",
       "        1.82527577e-02,  1.78847307e-02,  1.74608496e-02,  1.69813335e-02,\n",
       "        1.64527793e-02,  1.58303945e-02,  1.51453069e-02,  1.44141356e-02,\n",
       "        1.35880890e-02,  1.29700850e-02,  1.18741222e-02,  1.07664523e-02,\n",
       "        9.75075237e-03,  8.64644863e-03,  7.48241704e-03,  6.65000604e-03,\n",
       "        5.02852363e-03,  3.62454660e-03,  2.54345166e-03,  1.12640506e-03,\n",
       "       -3.34013299e-04, -1.51476067e-03, -3.05951151e-03, -4.48958305e-03,\n",
       "       -5.93033253e-03, -7.42574179e-03, -8.84852658e-03, -1.01326743e-02,\n",
       "       -1.15740473e-02, -1.31266225e-02, -1.46322296e-02, -1.59877439e-02,\n",
       "       -1.71030493e-02, -1.82960958e-02, -1.94616848e-02, -2.10321370e-02,\n",
       "       -2.19563592e-02, -2.27879181e-02, -2.39915184e-02, -2.48768851e-02,\n",
       "       -2.57695752e-02, -2.64917237e-02, -2.72174540e-02, -2.79032039e-02,\n",
       "       -2.85332277e-02, -2.92316555e-02, -3.00625085e-02, -2.97274631e-02,\n",
       "       -2.99625845e-02, -3.04218817e-02, -3.06036997e-02, -2.96909273e-02,\n",
       "       -2.92643883e-02,  6.75310678e-02])"
      ]
     },
     "execution_count": 37,
     "metadata": {},
     "output_type": "execute_result"
    }
   ],
   "source": [
    "utility.d_utilA_d_position(inversion.compute_posterior(alpha=np.concatenate((initial_x, initial_y), axis = 0), grid_t = grid_t_drone))"
   ]
  },
  {
   "cell_type": "code",
   "execution_count": 40,
   "id": "7dd6d976-8777-4331-aca6-acfa9304697c",
   "metadata": {
    "scrolled": true
   },
   "outputs": [
    {
     "name": "stdout",
     "output_type": "stream",
     "text": [
      "In intermediate callback\n",
      "{'alg_mod': 0, 'iter_count': 0, 'obj_value': 4.062964739101178, 'inf_pr': 3.1515677159339326, 'inf_du': 1.5068141059877118, 'mu': 1.0, 'd_norm': 0.0, 'regularization_size': 0.0, 'alpha_du': 0.0, 'alpha_pr': 0.0, 'ls_trials': 0}\n",
      "{'x': array([0.7       , 0.69848485, 0.6969697 , ..., 1.        , 1.        ,\n",
      "       1.        ]), 'mult_x_L': array([1., 1., 1., ..., 1., 1., 1.]), 'mult_x_U': array([0., 0., 0., ..., 0., 0., 0.]), 'g': array([5.57334467e-03, 5.57334467e-03, 5.57334467e-03, ...,\n",
      "       6.64676617e+00, 6.65671642e+00, 6.66666667e+00]), 'mult_g': array([210.76450103, 201.94603298, 193.33429763, ...,  -0.69123795,\n",
      "        -0.7335463 ,  -0.77689499])}\n",
      "{'x_L_violation': array([0., 0., 0., ..., 0., 0., 0.]), 'x_U_violation': array([0., 0., 0., ..., 0., 0., 0.]), 'compl_x_L': array([  0.70000001,   0.69848486,   0.69696971, ..., 201.000002  ,\n",
      "       201.000002  , 201.000002  ]), 'compl_x_U': array([0., 0., 0., ..., 0., 0., 0.]), 'grad_lag_x': array([-2.77555756e-15, -3.22443067e-03, -6.40907872e-03, ...,\n",
      "       -9.98715417e-01, -9.99343571e-01, -9.99998000e-01]), 'g_violation': array([0.00557334, 0.00557334, 0.00557334, ..., 0.        , 0.        ,\n",
      "       0.        ]), 'compl_g': array([-1.17466321, -1.12551485, -1.07751868, ...,  4.59449705,\n",
      "        4.88300973,  5.17929995])}\n",
      "This is Ipopt version 3.14.12, running with linear solver MUMPS 5.2.1.\n",
      "\n",
      "Number of nonzeros in equality constraint Jacobian...:     7602\n",
      "Number of nonzeros in inequality constraint Jacobian.:     1604\n",
      "Number of nonzeros in Lagrangian Hessian.............:        0\n",
      "\n",
      "Total number of variables............................:     2807\n",
      "                     variables with only lower bounds:     2406\n",
      "                variables with lower and upper bounds:        0\n",
      "                     variables with only upper bounds:        0\n",
      "Total number of equality constraints.................:     2002\n",
      "Total number of inequality constraints...............:      802\n",
      "        inequality constraints with only lower bounds:      802\n",
      "   inequality constraints with lower and upper bounds:        0\n",
      "        inequality constraints with only upper bounds:        0\n",
      "\n",
      "iter    objective    inf_pr   inf_du lg(mu)  ||d||  lg(rg) alpha_du alpha_pr  ls\n",
      "   0  4.0629647e+00 3.15e+00 1.51e+00   0.0 0.00e+00    -  0.00e+00 0.00e+00   0\n",
      "In intermediate callback\n",
      "{'alg_mod': 0, 'iter_count': 1, 'obj_value': 4.121709664834114, 'inf_pr': 2.8230505484130615, 'inf_du': 14.927998570317857, 'mu': 3.5250736227677546e-05, 'd_norm': 8.690941019949275, 'regularization_size': 0.0, 'alpha_du': 0.11026253129254884, 'alpha_pr': 0.10423928569261881, 'ls_trials': 1}\n",
      "{'x': array([0.7       , 0.69885963, 0.69770912, ..., 1.00475796, 1.00237327,\n",
      "       0.99999981]), 'mult_x_L': array([0.88974302, 0.88917547, 0.88862083, ..., 0.88971245, 0.889725  ,\n",
      "       0.88973749]), 'mult_x_U': array([0., 0., 0., ..., 0., 0., 0.]), 'g': array([5.01155647e-03, 5.01111154e-03, 5.01067171e-03, ...,\n",
      "       6.63502110e+00, 6.65708966e+00, 6.67936140e+00]), 'mult_g': array([197.26819571, 189.38202707, 181.69682874, ...,  -0.62095139,\n",
      "        -0.65702644,  -0.69400835])}\n",
      "{'x_L_violation': array([0., 0., 0., ..., 0., 0., 0.]), 'x_U_violation': array([0., 0., 0., ..., 0., 0., 0.]), 'compl_x_L': array([  0.62282012,   0.62140885,   0.61999887, ..., 178.8364372 ,\n",
      "       178.83683803, 178.83723691]), 'compl_x_U': array([0., 0., 0., ..., 0., 0., 0.]), 'grad_lag_x': array([ 1.01849180e-02,  3.84107421e-03,  7.03462170e-04, ...,\n",
      "       -8.93343372e-01, -8.91522048e-01, -8.89735489e-01]), 'g_violation': array([0.00501156, 0.00501111, 0.00501067, ..., 0.        , 0.        ,\n",
      "       0.        ]), 'compl_g': array([-0.9886207 , -0.94901446, -0.91042316, ...,  4.12002558,\n",
      "        4.37388395,  4.63553261])}\n",
      "   1  4.1217097e+00 2.82e+00 1.49e+01  -4.5 8.69e+00    -  1.10e-01 1.04e-01h  1\n",
      "In intermediate callback\n",
      "{'alg_mod': 0, 'iter_count': 2, 'obj_value': 4.110692436112315, 'inf_pr': 2.167870928008177, 'inf_du': 23.390680912370676, 'mu': 0.2524755618474829, 'd_norm': 9.208957685407038, 'regularization_size': 0.0, 'alpha_du': 0.09019996088004362, 'alpha_pr': 0.23208214276332553, 'ls_trials': 1}\n",
      "{'x': array([0.7       , 0.69955833, 0.69908937, ..., 1.01297555, 1.0066192 ,\n",
      "       1.000289  ]), 'mult_x_L': array([0.8420215 , 0.84121272, 0.84042413, ..., 0.80955958, 0.80957783,\n",
      "       0.809596  ]), 'mult_x_U': array([0., 0., 0., ..., 0., 0., 0.]), 'g': array([3.91544627e-03, 3.91354374e-03, 3.91164659e-03, ...,\n",
      "       6.76451619e+00, 6.80776780e+00, 6.85158144e+00]), 'mult_g': array([211.345224  , 204.93107341, 198.69541472, ...,  -0.46826884,\n",
      "        -0.49320646,  -0.51882439])}\n",
      "{'x_L_violation': array([0., 0., 0., ..., 0., 0., 0.]), 'x_U_violation': array([0., 0., 0., ..., 0., 0., 0.]), 'compl_x_L': array([  0.58941506,   0.58847738,   0.58753158, ..., 162.73198191,\n",
      "       162.73050471, 162.72903254]), 'compl_x_U': array([0., 0., 0., ..., 0., 0., 0.]), 'grad_lag_x': array([-0.05997206, -0.07090613, -0.07426045, ..., -0.82031086,\n",
      "       -0.81493161, -0.809594  ]), 'g_violation': array([0.00391545, 0.00391354, 0.00391165, ..., 0.        , 0.        ,\n",
      "       0.        ]), 'compl_g': array([-0.82751087, -0.80200672, -0.77722624, ...,  3.16761216,\n",
      "        3.35763505,  3.55476756])}\n",
      "   2  4.1106924e+00 2.17e+00 2.34e+01  -0.6 9.21e+00    -  9.02e-02 2.32e-01f  1\n",
      "In intermediate callback\n",
      "{'alg_mod': 0, 'iter_count': 3, 'obj_value': 3.8293838369235473, 'inf_pr': 2.122306547616517, 'inf_du': 128.48232099363565, 'mu': 22.80811473737461, 'd_norm': 96.11279277794836, 'regularization_size': 0.0, 'alpha_du': 0.004048053702780601, 'alpha_pr': 0.021018031933074527, 'ls_trials': 1}\n",
      "{'x': array([0.7       , 0.70068141, 0.70133234, ..., 1.01318491, 1.00789279,\n",
      "       1.00265959]), 'mult_x_L': array([0.97051077, 0.96952844, 0.96857234, ..., 0.80674159, 0.80675896,\n",
      "       0.80677622]), 'mult_x_U': array([0., 0., 0., ..., 0., 0., 0.]), 'g': array([3.89408482e-03, 3.89153252e-03, 3.88895537e-03, ...,\n",
      "       7.86434176e+00, 7.92619335e+00, 7.98851595e+00]), 'mult_g': array([ 4.16594299e+02,  4.07266435e+02,  3.98146417e+02, ...,\n",
      "       -3.97942225e-01, -4.20997547e-01, -4.44772268e-01])}\n",
      "{'x_L_violation': array([0., 0., 0., ..., 0., 0., 0.]), 'x_U_violation': array([0., 0., 0., ..., 0., 0., 0.]), 'compl_x_L': array([  0.67935755,   0.67933057,   0.67929112, ..., 162.16569884,\n",
      "       162.16492025, 162.16416805]), 'compl_x_U': array([0., 0., 0., ..., 0., 0., 0.]), 'grad_lag_x': array([ 0.49007291,  0.4733867 ,  0.4684387 , ..., -0.81509707,\n",
      "       -0.81089881, -0.80677422]), 'g_violation': array([0.00389408, 0.00389153, 0.00388896, ..., 0.        , 0.        ,\n",
      "       0.        ]), 'compl_g': array([-1.62225354, -1.58489058, -1.54837365, ...,  3.12955366,\n",
      "        3.33690796,  3.55307035])}\n",
      "   3  3.8293838e+00 2.12e+00 1.28e+02   1.4 9.61e+01    -  4.05e-03 2.10e-02f  1\n",
      "In intermediate callback\n",
      "{'alg_mod': 0, 'iter_count': 4, 'obj_value': 3.8317249556672244, 'inf_pr': 2.0984041658881876, 'inf_du': 126.45998593098328, 'mu': 2.851453769163492e-05, 'd_norm': 5.8269553924983555, 'regularization_size': 0.0, 'alpha_du': 0.05673001825340532, 'alpha_pr': 0.011262454877300102, 'ls_trials': 1}\n",
      "{'x': array([0.7       , 0.70068967, 0.70134848, ..., 1.01345751, 1.00802799,\n",
      "       1.00265957]), 'mult_x_L': array([0.91545599, 0.91447181, 0.91351526, ..., 0.76096963, 0.76098878,\n",
      "       0.7610078 ]), 'mult_x_U': array([0., 0., 0., ..., 0., 0., 0.]), 'g': array([3.85029690e-03, 3.84777148e-03, 3.84522149e-03, ...,\n",
      "       7.87317861e+00, 7.93628825e+00, 7.99988529e+00]), 'mult_g': array([ 4.15031357e+02,  4.05808643e+02,  3.96791723e+02, ...,\n",
      "       -3.92569471e-01, -4.15250152e-01, -4.38643360e-01])}\n",
      "{'x_L_violation': array([0., 0., 0., ..., 0., 0., 0.]), 'x_U_violation': array([0., 0., 0., ..., 0., 0., 0.]), 'compl_x_L': array([  0.6408192 ,   0.64076097,   0.64069255, ..., 152.96513712,\n",
      "       152.96485644, 152.96459353]), 'compl_x_U': array([0., 0., 0., ..., 0., 0., 0.]), 'grad_lag_x': array([ 0.52873557,  0.51219488,  0.50729637, ..., -0.76950468,\n",
      "       -0.76521776, -0.7610058 ]), 'g_violation': array([0.0038503 , 0.00384777, 0.00384522, ..., 0.        , 0.        ,\n",
      "       0.        ]), 'compl_g': array([-1.59799395, -1.56145892, -1.52575206, ...,  3.09076956,\n",
      "        3.2955449 ,  3.50909656])}\n",
      "   4  3.8317250e+00 2.10e+00 1.26e+02  -4.5 5.83e+00    -  5.67e-02 1.13e-02h  1\n",
      "In intermediate callback\n",
      "{'alg_mod': 0, 'iter_count': 5, 'obj_value': 3.8563003311456656, 'inf_pr': 0.6399678522798622, 'inf_du': 38.38294170034413, 'mu': 0.21662092970948185, 'd_norm': 7.6916536208445, 'regularization_size': 0.0, 'alpha_du': 0.1883940450933379, 'alpha_pr': 0.695021644217436, 'ls_trials': 1}\n",
      "{'x': array([0.7       , 0.70150347, 0.7029459 , ..., 1.04748188, 1.04724948,\n",
      "       1.04580663]), 'mult_x_L': array([0.80128966, 0.80014562, 0.79903848, ..., 0.61777559, 0.61778581,\n",
      "       0.61779722]), 'mult_x_U': array([0., 0., 0., ..., 0., 0., 0.]), 'g': array([1.92544241e-03, 1.90617484e-03, 1.88790130e-03, ...,\n",
      "       7.77193721e+00, 7.81449882e+00, 7.85675572e+00]), 'mult_g': array([ 2.08440112e+02,  2.04677120e+02,  2.01005954e+02, ...,\n",
      "       -1.48406581e-01, -1.56967069e-01, -1.65771788e-01])}\n",
      "{'x_L_violation': array([0., 0., 0., ..., 0., 0., 0.]), 'x_U_violation': array([0., 0., 0., ..., 0., 0., 0.]), 'compl_x_L': array([  0.56090277,   0.56130494,   0.56168083, ..., 124.20222749,\n",
      "       124.20413853, 124.20554083]), 'compl_x_U': array([0., 0., 0., ..., 0., 0., 0.]), 'grad_lag_x': array([-0.14102754, -0.14988977, -0.15167565, ..., -0.61991999,\n",
      "       -0.61885769, -0.61779512]), 'g_violation': array([0.00192544, 0.00190617, 0.0018879 , ..., 0.        , 0.        ,\n",
      "       0.        ]), 'compl_g': array([-0.40133943, -0.39015038, -0.3794794 , ...,  1.15340663,\n",
      "        1.22661897,  1.30242844])}\n",
      "   5  3.8563003e+00 6.40e-01 3.84e+01  -0.7 7.69e+00    -  1.88e-01 6.95e-01h  1\n",
      "In intermediate callback\n",
      "{'alg_mod': 0, 'iter_count': 6, 'obj_value': 3.8855591408086063, 'inf_pr': 0.261028685655039, 'inf_du': 50.04123373975519, 'mu': 0.175351917498241, 'd_norm': 3.8204271236382845, 'regularization_size': 0.0, 'alpha_du': 0.5854900069980382, 'alpha_pr': 0.7725352901928688, 'ls_trials': 1}\n",
      "{'x': array([0.7       , 0.70023053, 0.7004702 , ..., 1.07972336, 1.08344869,\n",
      "       1.08626907]), 'mult_x_L': array([0.47880942, 0.47912126, 0.47939441, ..., 0.25650973, 0.25650475,\n",
      "       0.25649955]), 'mult_x_U': array([0., 0., 0., ..., 0., 0., 0.]), 'g': array([6.09887818e-05, 8.17455860e-05, 1.09974202e-04, ...,\n",
      "       7.57058388e+00, 7.59908317e+00, 7.62642722e+00]), 'mult_g': array([ 1.80805416e+02,  1.79034089e+02,  1.77255294e+02, ...,\n",
      "       -6.70201426e-02, -6.98203343e-02, -7.27252290e-02])}\n",
      "{'x_L_violation': array([0., 0., 0., ..., 0., 0., 0.]), 'x_U_violation': array([0., 0., 0., ..., 0., 0., 0.]), 'compl_x_L': array([ 0.3351666 ,  0.33549534,  0.3358015 , ..., 51.57890602,\n",
      "       51.57885989, 51.57853805]), 'compl_x_U': array([0., 0., 0., ..., 0., 0., 0.]), 'grad_lag_x': array([-0.14291829, -0.13848985, -0.13858883, ..., -0.25675262,\n",
      "       -0.25662316, -0.25649738]), 'g_violation': array([6.09887818e-05, 8.17455860e-05, 1.09974202e-04, ...,\n",
      "       0.00000000e+00, 0.00000000e+00, 0.00000000e+00]), 'compl_g': array([-0.0110271 , -0.01463525, -0.01949351, ...,  0.50738161,\n",
      "        0.53057053,  0.55463367])}\n",
      "   6  3.8855591e+00 1.46e-01 5.00e+01  -0.8 3.82e+00    -  5.85e-01 7.73e-01h  1\n",
      "In intermediate callback\n",
      "{'alg_mod': 0, 'iter_count': 7, 'obj_value': 3.8873601239533375, 'inf_pr': 0.09613549420847456, 'inf_du': 20.410071906749973, 'mu': 9.132330334926183e-06, 'd_norm': 0.6807859443578685, 'regularization_size': 0.0, 'alpha_du': 0.6795205665096138, 'alpha_pr': 0.6317052512170159, 'ls_trials': 1}\n",
      "{'x': array([0.7       , 0.70048166, 0.70096513, ..., 1.07944511, 1.083244  ,\n",
      "       1.08617807]), 'mult_x_L': array([0.15345744, 0.15337254, 0.15328054, ..., 0.08220651, 0.08220481,\n",
      "       0.08220299]), 'mult_x_U': array([0., 0., 0., ..., 0., 0., 0.]), 'g': array([3.05171653e-05, 3.80296466e-05, 4.83155237e-05, ...,\n",
      "       7.60434446e+00, 7.63537722e+00, 7.66521537e+00]), 'mult_g': array([ 7.43147568e+01,  7.36538966e+01,  7.29939206e+01, ...,\n",
      "       -2.34417586e-02, -2.43864728e-02, -2.53716590e-02])}\n",
      "{'x_L_violation': array([0., 0., 0., ..., 0., 0., 0.]), 'x_U_violation': array([0., 0., 0., ..., 0., 0., 0.]), 'compl_x_L': array([ 0.10742021,  0.10743465,  0.10744432, ..., 16.53003869,\n",
      "       16.53000965, 16.52988449]), 'compl_x_U': array([0., 0., 0., ..., 0., 0., 0.]), 'grad_lag_x': array([-0.02822416, -0.02814983, -0.02818298, ..., -0.08227238,\n",
      "       -0.08223573, -0.08220081]), 'g_violation': array([3.05171653e-05, 3.80296466e-05, 4.83155237e-05, ...,\n",
      "       0.00000000e+00, 0.00000000e+00, 0.00000000e+00]), 'compl_g': array([-0.00226788, -0.00280103, -0.00352674, ...,  0.17825921,\n",
      "        0.18619992,  0.19447923])}\n",
      "   7  3.8873601e+00 5.36e-02 2.04e+01  -5.0 6.81e-01    -  6.80e-01 6.32e-01h  1\n",
      "In intermediate callback\n",
      "{'alg_mod': 0, 'iter_count': 8, 'obj_value': 3.8920130732402987, 'inf_pr': 0.06556445385051113, 'inf_du': 13.93603588119205, 'mu': 2.9308623258246236e-06, 'd_norm': 0.22820421554981304, 'regularization_size': 0.0, 'alpha_du': 0.1982160231236994, 'alpha_pr': 0.3179995131836353, 'ls_trials': 1}\n",
      "{'x': array([0.7       , 0.70047197, 0.70094388, ..., 1.07959556, 1.08331865,\n",
      "       1.08617738]), 'mult_x_L': array([0.12304054, 0.1229738 , 0.12290161, ..., 0.06591182, 0.06591048,\n",
      "       0.06590904]), 'mult_x_U': array([0., 0., 0., ..., 0., 0., 0.]), 'g': array([2.08678150e-05, 2.59906970e-05, 3.30050588e-05, ...,\n",
      "       7.58611671e+00, 7.61792534e+00, 7.64853567e+00]), 'mult_g': array([ 5.39874880e+01,  5.35305657e+01,  5.30741742e+01, ...,\n",
      "       -1.61981918e-02, -1.68322323e-02, -1.74940999e-02])}\n",
      "{'x_L_violation': array([0., 0., 0., ..., 0., 0., 0.]), 'x_U_violation': array([0., 0., 0., ..., 0., 0., 0.]), 'compl_x_L': array([ 0.08612838,  0.0861397 ,  0.08614713, ..., 13.25352295,\n",
      "       13.25349855, 13.2533971 ]), 'compl_x_U': array([0., 0., 0., ..., 0., 0., 0.]), 'grad_lag_x': array([-0.03770263, -0.03769607, -0.0377024 , ..., -0.06610725,\n",
      "       -0.06600625, -0.06590687]), 'g_violation': array([2.08678150e-05, 2.59906970e-05, 3.30050588e-05, ...,\n",
      "       0.00000000e+00, 0.00000000e+00, 0.00000000e+00]), 'compl_g': array([-0.0011266 , -0.0013913 , -0.00175172, ...,  0.12288137,\n",
      "        0.12822669,  0.13380425])}\n",
      "   8  3.8920131e+00 3.66e-02 1.39e+01  -5.5 2.28e-01    -  1.98e-01 3.18e-01h  1\n",
      "In intermediate callback\n",
      "{'alg_mod': 0, 'iter_count': 9, 'obj_value': 3.8940605049602124, 'inf_pr': 0.0524049966209541, 'inf_du': 11.135239994474592, 'mu': 2.349842872704851e-06, 'd_norm': 0.1581453331915148, 'regularization_size': 0.0, 'alpha_du': 0.2157950954534561, 'alpha_pr': 0.2007102394166317, 'ls_trials': 1}\n",
      "{'x': array([0.7       , 0.70046776, 0.70093466, ..., 1.07965725, 1.08334921,\n",
      "       1.08617695]), 'mult_x_L': array([0.09648972, 0.09643817, 0.0963825 , ..., 0.05168836, 0.05168731,\n",
      "       0.0516862 ]), 'mult_x_U': array([0., 0., 0., ..., 0., 0., 0.]), 'g': array([1.66906354e-05, 2.07851783e-05, 2.63915642e-05, ...,\n",
      "       7.57567543e+00, 7.60777636e+00, 7.63867648e+00]), 'mult_g': array([ 4.45327853e+01,  4.41636371e+01,  4.37948839e+01, ...,\n",
      "       -1.30443310e-02, -1.35477718e-02, -1.40735469e-02])}\n",
      "{'x_L_violation': array([0., 0., 0., ..., 0., 0., 0.]), 'x_U_violation': array([0., 0., 0., ..., 0., 0., 0.]), 'compl_x_L': array([ 0.06754281,  0.06755183,  0.06755784, ..., 10.39347702,\n",
      "       10.39345849, 10.39337952]), 'compl_x_U': array([0., 0., 0., ..., 0., 0., 0.]), 'grad_lag_x': array([-0.028312  , -0.0283327 , -0.02833707, ..., -0.05190628,\n",
      "       -0.05179442, -0.05168402]), 'g_violation': array([1.66906354e-05, 2.07851783e-05, 2.63915642e-05, ...,\n",
      "       0.00000000e+00, 0.00000000e+00, 0.00000000e+00]), 'compl_g': array([-0.00074328, -0.00091795, -0.00115582, ...,  0.09881962,\n",
      "        0.10306842,  0.10750327])}\n",
      "   9  3.8940605e+00 2.92e-02 1.11e+01  -5.6 1.58e-01    -  2.16e-01 2.01e-01h  1\n",
      "In intermediate callback\n",
      "{'alg_mod': 0, 'iter_count': 10, 'obj_value': 3.894829598081006, 'inf_pr': 0.0474836118196349, 'inf_du': 10.098872331866419, 'mu': 1.8427936807431476e-06, 'd_norm': 0.12770547033517832, 'regularization_size': 0.0, 'alpha_du': 0.0007036193337892685, 'alpha_pr': 0.09391060239764161, 'ls_trials': 1}\n",
      "{'x': array([0.7       , 0.70046622, 0.70093127, ..., 1.07968049, 1.0833607 ,\n",
      "       1.08617674]), 'mult_x_L': array([0.09642183, 0.09637032, 0.09631469, ..., 0.05165199, 0.05165095,\n",
      "       0.05164983]), 'mult_x_U': array([0., 0., 0., ..., 0., 0., 0.]), 'g': array([1.51248080e-05, 1.88348098e-05, 2.39146766e-05, ...,\n",
      "       7.57009708e+00, 7.60229229e+00, 7.63328551e+00]), 'mult_g': array([ 4.08542137e+01,  4.05178891e+01,  4.01819123e+01, ...,\n",
      "       -1.18602182e-02, -1.23154224e-02, -1.27908956e-02])}\n",
      "{'x_L_violation': array([0., 0., 0., ..., 0., 0., 0.]), 'x_U_violation': array([0., 0., 0., ..., 0., 0., 0.]), 'compl_x_L': array([ 0.06749528,  0.06750415,  0.06750998, ..., 10.38616516,\n",
      "       10.38614604, 10.38606653]), 'compl_x_U': array([0., 0., 0., ..., 0., 0., 0.]), 'grad_lag_x': array([-0.03465899, -0.03468282, -0.03468068, ..., -0.05187269,\n",
      "       -0.05175949, -0.05164766]), 'g_violation': array([1.51248080e-05, 1.88348098e-05, 2.39146766e-05, ...,\n",
      "       0.00000000e+00, 0.00000000e+00, 0.00000000e+00]), 'compl_g': array([-0.00061791, -0.00076315, -0.00096094, ...,  0.089783  ,\n",
      "        0.09362544,  0.09763656])}\n",
      "iter    objective    inf_pr   inf_du lg(mu)  ||d||  lg(rg) alpha_du alpha_pr  ls\n",
      "  10  3.8948296e+00 2.65e-02 1.01e+01  -5.7 1.28e-01    -  7.04e-04 9.39e-02h  1\n",
      "In intermediate callback\n",
      "{'alg_mod': 0, 'iter_count': 11, 'obj_value': 3.90275781072395, 'inf_pr': 0.0288321245891614, 'inf_du': 4.5273274862733786, 'mu': 1.8414539121409054e-06, 'd_norm': 0.1147605530695124, 'regularization_size': 0.0, 'alpha_du': 0.4628273967083821, 'alpha_pr': 1.0, 'ls_trials': 1}\n",
      "{'x': array([0.7       , 0.70045123, 0.70089847, ..., 1.07988584, 1.08346208,\n",
      "       1.08617458]), 'mult_x_L': array([0.05179638, 0.05176967, 0.05174092, ..., 0.02774601, 0.02774547,\n",
      "       0.02774488]), 'mult_x_U': array([0., 0., 0., ..., 0., 0., 0.]), 'g': array([1.69629477e-07, 1.67848814e-07, 1.66077291e-07, ...,\n",
      "       7.51772298e+00, 7.55081210e+00, 7.58268588e+00]), 'mult_g': array([ 4.89847873e+00,  4.87883245e+00,  4.85908435e+00, ...,\n",
      "       -3.83934612e-04, -3.74868242e-04, -3.66122331e-04])}\n",
      "{'x_L_violation': array([0., 0., 0., ..., 0., 0., 0.]), 'x_U_violation': array([0., 0., 0., ..., 0., 0., 0.]), 'compl_x_L': array([0.03625747, 0.03626213, 0.03626513, ..., 5.57916502, 5.57915435,\n",
      "       5.57911124]), 'compl_x_U': array([0., 0., 0., ..., 0., 0., 0.]), 'grad_lag_x': array([-0.05191621, -0.05198244, -0.05194501, ..., -0.0279514 ,\n",
      "       -0.02784686, -0.0277427 ]), 'g_violation': array([1.69629477e-07, 1.67848814e-07, 1.66077291e-07, ...,\n",
      "       0.00000000e+00, 0.00000000e+00, 0.00000000e+00]), 'compl_g': array([-8.30926386e-07, -8.18906240e-07, -8.06983567e-07, ...,\n",
      "        2.88631405e-03,  2.83055966e-03,  2.77619063e-03])}\n",
      "  11  3.9027578e+00 5.78e-06 4.53e+00  -5.7 1.15e-01    -  4.63e-01 1.00e+00h  1\n",
      "In intermediate callback\n",
      "{'alg_mod': 0, 'iter_count': 12, 'obj_value': 3.9021096739590773, 'inf_pr': 5.723760728511447e-09, 'inf_du': 0.0025110213968342694, 'mu': 9.891363620561782e-07, 'd_norm': 0.032521621349038694, 'regularization_size': 0.0, 'alpha_du': 0.9485981089602256, 'alpha_pr': 1.0, 'ls_trials': 1}\n",
      "{'x': array([0.7       , 0.70045448, 0.70090498, ..., 1.07987801, 1.08345712,\n",
      "       1.08617241]), 'mult_x_L': array([0.00266377, 0.00266217, 0.00266046, ..., 0.0014262 , 0.00142617,\n",
      "       0.00142614]), 'mult_x_U': array([0., 0., 0., ..., 0., 0., 0.]), 'g': array([-5.71689628e-09, -5.71803238e-09, -5.72147168e-09, ...,\n",
      "        7.51717420e+00,  7.55021037e+00,  7.58202986e+00]), 'mult_g': array([ 3.03159856e+00,  2.99347445e+00,  2.95540619e+00, ...,\n",
      "       -5.99216038e-04, -6.98565627e-04, -8.04271881e-04])}\n",
      "{'x_L_violation': array([0., 0., 0., ..., 0., 0., 0.]), 'x_U_violation': array([0., 0., 0., ..., 0., 0., 0.]), 'compl_x_L': array([0.00186464, 0.00186473, 0.00186473, ..., 0.28678077, 0.28678015,\n",
      "       0.28677786]), 'compl_x_U': array([0., 0., 0., ..., 0., 0., 0.]), 'grad_lag_x': array([-1.53523028e-16, -9.85112386e-07, -2.13167011e-06, ...,\n",
      "       -1.41712285e-03, -1.42054172e-03, -1.42397175e-03]), 'g_violation': array([5.71689628e-09, 5.71803238e-09, 5.72147168e-09, ...,\n",
      "       0.00000000e+00, 0.00000000e+00, 0.00000000e+00]), 'compl_g': array([1.73313345e-08, 1.71167838e-08, 1.69092728e-08, ...,\n",
      "       4.50441135e-03, 5.27431744e-03, 6.09801342e-03])}\n",
      "  12  3.9021097e+00 5.72e-09 2.51e-03  -6.0 3.25e-02    -  9.49e-01 1.00e+00h  1\n",
      "In intermediate callback\n",
      "{'alg_mod': 0, 'iter_count': 13, 'obj_value': 3.850517404022763, 'inf_pr': 0.3055810718526931, 'inf_du': 0.28845517004762083, 'mu': 5.082938399486121e-08, 'd_norm': 0.5101396719446435, 'regularization_size': 0.0, 'alpha_du': 0.34665714933522856, 'alpha_pr': 1.0, 'ls_trials': 1}\n",
      "{'x': array([0.7       , 0.70093851, 0.70188529, ..., 1.07817823, 1.0822587 ,\n",
      "       1.08544619]), 'mult_x_L': array([0.00174038, 0.0017387 , 0.00173693, ..., 0.0009318 , 0.00093178,\n",
      "       0.00093176]), 'mult_x_U': array([0., 0., 0., ..., 0., 0., 0.]), 'g': array([1.64020000e-05, 1.60507014e-05, 1.54394976e-05, ...,\n",
      "       7.34212935e+00, 7.36635652e+00, 7.38905087e+00]), 'mult_g': array([ 1.34676853e+00,  1.32670970e+00,  1.30665130e+00, ...,\n",
      "       -3.59284851e-05, -3.74790395e-05, -3.90839973e-05])}\n",
      "{'x_L_violation': array([0., 0., 0., ..., 0., 0., 0.]), 'x_U_violation': array([0., 0., 0., ..., 0., 0., 0.]), 'compl_x_L': array([0.00121827, 0.00121872, 0.00121913, ..., 0.18736544, 0.18736525,\n",
      "       0.18736396]), 'compl_x_U': array([0., 0., 0., ..., 0., 0., 0.]), 'grad_lag_x': array([ 0.00105087,  0.00014139,  0.00016807, ..., -0.00092981,\n",
      "       -0.00092974, -0.00092959]), 'g_violation': array([1.64020000e-05, 1.60507014e-05, 1.54394976e-05, ...,\n",
      "       0.00000000e+00, 0.00000000e+00, 0.00000000e+00]), 'compl_g': array([-2.20896975e-05, -2.12946212e-05, -2.01740397e-05, ...,\n",
      "        2.63791585e-04,  2.76083967e-04,  2.88793644e-04])}\n",
      "  13  3.8505174e+00 7.53e-05 2.88e-01  -7.3 5.10e-01    -  3.47e-01 1.00e+00f  1\n",
      "In intermediate callback\n",
      "{'alg_mod': 0, 'iter_count': 14, 'obj_value': 3.8364062937647145, 'inf_pr': 0.21565329926008797, 'inf_du': 0.19670952720059653, 'mu': 3.3225592277067274e-08, 'd_norm': 0.4802346313723547, 'regularization_size': 0.0, 'alpha_du': 0.2487118070874109, 'alpha_pr': 0.2942844988643643, 'ls_trials': 1}\n",
      "{'x': array([0.7       , 0.70105355, 0.7021193 , ..., 1.07745541, 1.0816773 ,\n",
      "       1.08499536]), 'mult_x_L': array([0.00130754, 0.00130603, 0.00130446, ..., 0.00070006, 0.00070004,\n",
      "       0.00070002]), 'mult_x_U': array([0., 0., 0., ..., 0., 0., 0.]), 'g': array([1.74389625e-05, 1.71834367e-05, 1.67096509e-05, ...,\n",
      "       7.27195733e+00, 7.29285456e+00, 7.31213829e+00]), 'mult_g': array([ 1.28039129e+00,  1.26105076e+00,  1.24171379e+00, ...,\n",
      "       -3.51083013e-05, -3.66124258e-05, -3.81657192e-05])}\n",
      "{'x_L_violation': array([0., 0., 0., ..., 0., 0., 0.]), 'x_U_violation': array([0., 0., 0., ..., 0., 0., 0.]), 'compl_x_L': array([0.00091528, 0.0009156 , 0.00091588, ..., 0.14076551, 0.14076536,\n",
      "       0.14076438]), 'compl_x_U': array([0., 0., 0., ..., 0., 0., 0.]), 'grad_lag_x': array([ 0.00138667,  0.0006549 ,  0.00068014, ..., -0.00069794,\n",
      "       -0.00069793, -0.00069785]), 'g_violation': array([1.74389625e-05, 1.71834367e-05, 1.67096509e-05, ...,\n",
      "       0.00000000e+00, 0.00000000e+00, 0.00000000e+00]), 'compl_g': array([-2.23286956e-05, -2.16691859e-05, -2.07486039e-05, ...,\n",
      "        2.55306069e-04,  2.67009097e-04,  2.79073017e-04])}\n",
      "  14  3.8364063e+00 5.82e-05 1.97e-01  -7.5 4.80e-01    -  2.49e-01 2.94e-01h  1\n",
      "In intermediate callback\n",
      "{'alg_mod': 0, 'iter_count': 15, 'obj_value': 3.836012379334618, 'inf_pr': 0.21527815455960508, 'inf_du': 0.30588845191330105, 'mu': 2.496090421568825e-08, 'd_norm': 1.9425774887812501, 'regularization_size': 0.0, 'alpha_du': 0.1163135629566979, 'alpha_pr': 0.0017395732027760099, 'ls_trials': 1}\n",
      "{'x': array([0.7       , 0.70105753, 0.70212738, ..., 1.07740778, 1.08163752,\n",
      "       1.08496365]), 'mult_x_L': array([0.00115546, 0.00115363, 0.00115173, ..., 0.00061864, 0.00061863,\n",
      "       0.00061861]), 'mult_x_U': array([0., 0., 0., ..., 0., 0., 0.]), 'g': array([1.74124319e-05, 1.71572906e-05, 1.66842214e-05, ...,\n",
      "       7.27148275e+00, 7.29231632e+00, 7.31153387e+00]), 'mult_g': array([ 1.27968424e+00,  1.26034777e+00,  1.24101500e+00, ...,\n",
      "       -3.50977985e-05, -3.66058430e-05, -3.81632075e-05])}\n",
      "{'x_L_violation': array([0., 0., 0., ..., 0., 0., 0.]), 'x_U_violation': array([0., 0., 0., ..., 0., 0., 0.]), 'compl_x_L': array([0.00080882, 0.00080876, 0.00080866, ..., 0.12439478, 0.12439428,\n",
      "       0.12439304]), 'compl_x_U': array([0., 0., 0., ..., 0., 0., 0.]), 'grad_lag_x': array([ 0.00155905,  0.00081945,  0.00084519, ..., -0.00061653,\n",
      "       -0.00061651, -0.00061644]), 'g_violation': array([1.74124319e-05, 1.71572906e-05, 1.66842214e-05, ...,\n",
      "       0.00000000e+00, 0.00000000e+00, 0.00000000e+00]), 'compl_g': array([-2.22824147e-05, -2.16241530e-05, -2.07053690e-05, ...,\n",
      "        2.55213036e-04,  2.66941386e-04,  2.79031585e-04])}\n",
      "  15  3.8360124e+00 5.81e-05 3.06e-01  -7.6 1.94e+00    -  1.16e-01 1.74e-03h  1\n",
      "In intermediate callback\n",
      "{'alg_mod': 0, 'iter_count': 16, 'obj_value': 3.729853801867003, 'inf_pr': 0.3069714135994499, 'inf_du': 0.23155474660681227, 'mu': 2.2051205331625958e-08, 'd_norm': 4.492498864864442, 'regularization_size': 0.0, 'alpha_du': 0.2957784765910177, 'alpha_pr': 0.3540820150497796, 'ls_trials': 1}\n",
      "{'x': array([0.7       , 0.70245171, 0.70495756, ..., 1.04886106, 1.05741978,\n",
      "       1.0652163 ]), 'mult_x_L': array([0.00081371, 0.00081051, 0.00080721, ..., 0.00043573, 0.00043571,\n",
      "       0.00043569]), 'mult_x_U': array([0., 0., 0., ..., 0., 0., 0.]), 'g': array([7.62907383e-04, 7.55889544e-04, 7.38595283e-04, ...,\n",
      "       6.76139874e+00, 6.75181020e+00, 6.73936599e+00]), 'mult_g': array([ 1.06655798e+00,  1.04796352e+00,  1.02941868e+00, ...,\n",
      "       -7.09378391e-05, -7.46044567e-05, -7.84228472e-05])}\n",
      "{'x_L_violation': array([0., 0., 0., ..., 0., 0., 0.]), 'x_U_violation': array([0., 0., 0., ..., 0., 0., 0.]), 'compl_x_L': array([0.0005696 , 0.00056934, 0.00056905, ..., 0.0876038 , 0.0876031 ,\n",
      "       0.08760187]), 'compl_x_U': array([0., 0., 0., ..., 0., 0., 0.]), 'grad_lag_x': array([ 0.0077814 ,  0.00366947,  0.00375188, ..., -0.00043345,\n",
      "       -0.00043353, -0.00043356]), 'g_violation': array([0.00076291, 0.00075589, 0.0007386 , ..., 0.        , 0.        ,\n",
      "       0.        ]), 'compl_g': array([-0.00081368, -0.00079214, -0.00076032, ...,  0.00047964,\n",
      "        0.00050372,  0.00052852])}\n",
      "  16  3.7298538e+00 7.63e-04 2.32e-01  -7.7 4.49e+00    -  2.96e-01 3.54e-01h  1\n",
      "In intermediate callback\n",
      "{'alg_mod': 0, 'iter_count': 17, 'obj_value': 3.7050797536064297, 'inf_pr': 0.30291183179857906, 'inf_du': 3.158058467895919, 'mu': 0.0001249003385068173, 'd_norm': 1.640445569656852, 'regularization_size': 0.0, 'alpha_du': 0.04181199884278049, 'alpha_pr': 1.0, 'ls_trials': 1}\n",
      "{'x': array([0.7       , 0.70186148, 0.703846  , ..., 1.01715424, 1.02912701,\n",
      "       1.03983974]), 'mult_x_L': array([0.00078715, 0.00078408, 0.00078092, ..., 0.00041754, 0.00041752,\n",
      "       0.0004175 ]), 'mult_x_U': array([0., 0., 0., ..., 0., 0., 0.]), 'g': array([1.28340952e-03, 1.30917923e-03, 1.31633792e-03, ...,\n",
      "       7.02516524e+00, 6.99172140e+00, 6.95432241e+00]), 'mult_g': array([ 3.11438371e-02,  1.58751678e-02,  6.79259309e-04, ...,\n",
      "        2.00408543e-06,  2.18896312e-07, -1.66503305e-06])}\n",
      "{'x_L_violation': array([0., 0., 0., ..., 0., 0., 0.]), 'x_U_violation': array([0., 0., 0., ..., 0., 0., 0.]), 'compl_x_L': array([0.000551  , 0.00055032, 0.00054965, ..., 0.08393347, 0.08393416,\n",
      "       0.08393415]), 'compl_x_U': array([0., 0., 0., ..., 0., 0., 0.]), 'grad_lag_x': array([-0.00494119,  0.00041396,  0.00042171, ..., -0.00041583,\n",
      "       -0.00041567, -0.00041542]), 'g_violation': array([0.00128341, 0.00130918, 0.00131634, ..., 0.        , 0.        ,\n",
      "       0.        ]), 'compl_g': array([-3.99702972e-05, -2.07834399e-05, -8.94134785e-07, ...,\n",
      "       -0.00000000e+00, -0.00000000e+00,  1.15791767e-05])}\n",
      "  17  3.7050798e+00 1.32e-03 3.16e+00  -3.9 1.64e+00    -  4.18e-02 1.00e+00f  1\n",
      "In intermediate callback\n",
      "{'alg_mod': 0, 'iter_count': 18, 'obj_value': 3.6868375944469536, 'inf_pr': 0.18919886462828306, 'inf_du': 1.9607036959794109, 'mu': 0.0001199675549890114, 'd_norm': 0.9077325793648408, 'regularization_size': 0.0, 'alpha_du': 0.20989499772720008, 'alpha_pr': 0.3753995560196857, 'ls_trials': 1}\n",
      "{'x': array([0.7       , 0.70134775, 0.70280326, ..., 1.01478293, 1.02733327,\n",
      "       1.03867329]), 'mult_x_L': array([0.0006579 , 0.0006557 , 0.00065343, ..., 0.00033003, 0.00033001,\n",
      "       0.00033   ]), 'mult_x_U': array([0., 0., 0., ..., 0., 0., 0.]), 'g': array([8.02034399e-04, 8.18084420e-04, 8.22507957e-04, ...,\n",
      "       6.71219565e+00, 6.66504462e+00, 6.61356001e+00]), 'mult_g': array([ 1.53650369e-01,  1.38619295e-01,  1.23648139e-01, ...,\n",
      "       -2.75597309e-05, -2.98855480e-05, -3.23470987e-05])}\n",
      "{'x_L_violation': array([0., 0., 0., ..., 0., 0., 0.]), 'x_U_violation': array([0., 0., 0., ..., 0., 0., 0.]), 'compl_x_L': array([0.00046053, 0.00045988, 0.00045923, ..., 0.06634121, 0.06634181,\n",
      "       0.06634186]), 'compl_x_U': array([0., 0., 0., ..., 0., 0., 0.]), 'grad_lag_x': array([-0.00543132,  0.00042157,  0.00042854, ..., -0.00032786,\n",
      "       -0.00032792, -0.00032792]), 'g_violation': array([0.00080203, 0.00081808, 0.00082251, ..., 0.        , 0.        ,\n",
      "       0.        ]), 'compl_g': array([-0.00012323, -0.0001134 , -0.0001017 , ...,  0.00018499,\n",
      "        0.00019919,  0.00021393])}\n",
      "  18  3.6868376e+00 8.23e-04 1.96e+00  -3.9 9.08e-01    -  2.10e-01 3.75e-01h  1\n",
      "In intermediate callback\n",
      "{'alg_mod': 0, 'iter_count': 19, 'obj_value': 3.6708911390740058, 'inf_pr': 0.2082398693134847, 'inf_du': 0.5303602059857302, 'mu': 9.498789245052288e-05, 'd_norm': 1.5002289382536111, 'regularization_size': 0.0, 'alpha_du': 0.19896687456029605, 'alpha_pr': 0.9809129012296786, 'ls_trials': 1}\n",
      "{'x': array([0.7       , 0.70266209, 0.70542104, ..., 1.02524961, 1.03549105,\n",
      "       1.04448902]), 'mult_x_L': array([0.000554  , 0.00055194, 0.00054982, ..., 0.00026446, 0.00026444,\n",
      "       0.00026443]), 'mult_x_U': array([0., 0., 0., ..., 0., 0., 0.]), 'g': array([1.43017761e-03, 1.45671666e-03, 1.46710503e-03, ...,\n",
      "       6.40455317e+00, 6.36301875e+00, 6.31756102e+00]), 'mult_g': array([ 4.78270192e-01,  4.63198773e-01,  4.48223978e-01, ...,\n",
      "       -3.33542172e-05, -3.33799507e-05, -3.34088057e-05])}\n",
      "{'x_L_violation': array([0., 0., 0., ..., 0., 0., 0.]), 'x_U_violation': array([0., 0., 0., ..., 0., 0., 0.]), 'compl_x_L': array([0.0003878 , 0.00038783, 0.00038785, ..., 0.05316247, 0.0531625 ,\n",
      "       0.05316207]), 'compl_x_U': array([0., 0., 0., ..., 0., 0., 0.]), 'grad_lag_x': array([ 0.00918748, -0.00102483, -0.00101433, ..., -0.00026634,\n",
      "       -0.00026437, -0.00026234]), 'g_violation': array([0.00143018, 0.00145672, 0.00146711, ..., 0.        , 0.        ,\n",
      "       0.        ]), 'compl_g': array([-0.00068401, -0.00067475, -0.00065759, ...,  0.00021362,\n",
      "        0.0002124 ,  0.00021106])}\n",
      "  19  3.6708911e+00 1.47e-03 5.30e-01  -4.0 1.50e+00    -  1.99e-01 9.81e-01h  1\n",
      "In intermediate callback\n",
      "{'alg_mod': 0, 'iter_count': 20, 'obj_value': 3.667155555545456, 'inf_pr': 0.24794890274932385, 'inf_du': 0.6078885419914222, 'mu': 0.0006445443149183288, 'd_norm': 2.3703689618863977, 'regularization_size': 0.0, 'alpha_du': 0.28224504861938254, 'alpha_pr': 0.2133679975855524, 'ls_trials': 1}\n",
      "{'x': array([0.7       , 0.70262105, 0.70535261, ..., 1.01922247, 1.03041937,\n",
      "       1.04035776]), 'mult_x_L': array([0.00065752, 0.0006551 , 0.00065259, ..., 0.00019073, 0.00019072,\n",
      "       0.00019071]), 'mult_x_U': array([0., 0., 0., ..., 0., 0., 0.]), 'g': array([1.15338153e-03, 1.17407214e-03, 1.18155310e-03, ...,\n",
      "       6.41159032e+00, 6.36792555e+00, 6.32004490e+00]), 'mult_g': array([ 3.91818344e-01,  3.76336983e-01,  3.60959831e-01, ...,\n",
      "       -4.73379686e-05, -4.76077262e-05, -4.79135356e-05])}\n",
      "{'x_L_violation': array([0., 0., 0., ..., 0., 0., 0.]), 'x_U_violation': array([0., 0., 0., ..., 0., 0., 0.]), 'compl_x_L': array([0.00046026, 0.00046029, 0.00046031, ..., 0.0383405 , 0.03834037,\n",
      "       0.03833992]), 'compl_x_U': array([0., 0., 0., ..., 0., 0., 0.]), 'grad_lag_x': array([ 0.00763391, -0.00101026, -0.00099757, ..., -0.00019179,\n",
      "       -0.00019023, -0.00018863]), 'g_violation': array([0.00115338, 0.00117407, 0.00118155, ..., 0.        , 0.        ,\n",
      "       0.        ]), 'compl_g': array([-0.00045192, -0.00044185, -0.00042649, ...,  0.00030351,\n",
      "        0.00030316,  0.00030282])}\n",
      "iter    objective    inf_pr   inf_du lg(mu)  ||d||  lg(rg) alpha_du alpha_pr  ls\n",
      "  20  3.6671556e+00 1.18e-03 6.08e-01  -3.2 2.37e+00    -  2.82e-01 2.13e-01h  1\n",
      "In intermediate callback\n",
      "{'alg_mod': 0, 'iter_count': 21, 'obj_value': 3.611472384160037, 'inf_pr': 0.1986462226198889, 'inf_du': 1.3912879006528536, 'mu': 0.0004189248512064038, 'd_norm': 1.9702376279621605, 'regularization_size': 0.0, 'alpha_du': 0.3287056869995163, 'alpha_pr': 0.8531691941060322, 'ls_trials': 1}\n",
      "{'x': array([0.7       , 0.70137961, 0.7028965 , ..., 1.02741034, 1.03906445,\n",
      "       1.04984349]), 'mult_x_L': array([0.00063811, 0.0006362 , 0.00063418, ..., 0.00012872, 0.00012871,\n",
      "       0.0001287 ]), 'mult_x_U': array([0., 0., 0., ..., 0., 0., 0.]), 'g': array([1.71610025e-04, 1.78054628e-04, 1.81665689e-04, ...,\n",
      "       6.70048826e+00, 6.65870506e+00, 6.61203939e+00]), 'mult_g': array([-2.92133272e-02, -4.69659704e-02, -6.46288433e-02, ...,\n",
      "       -5.05091688e-05, -5.06961744e-05, -5.09403570e-05])}\n",
      "{'x_L_violation': array([0., 0., 0., ..., 0., 0., 0.]), 'x_U_violation': array([0., 0., 0., ..., 0., 0., 0.]), 'compl_x_L': array([0.00044668, 0.00044621, 0.00044576, ..., 0.02587592, 0.02587585,\n",
      "       0.0258756 ]), 'compl_x_U': array([0., 0., 0., ..., 0., 0., 0.]), 'grad_lag_x': array([-0.00235825,  0.00231066,  0.00221786, ..., -0.00012725,\n",
      "       -0.00012692, -0.0001266 ]), 'g_violation': array([0.00017161, 0.00017805, 0.00018167, ..., 0.        , 0.        ,\n",
      "       0.        ]), 'compl_g': array([5.01329982e-06, 8.36250841e-06, 1.17408434e-05, ...,\n",
      "       3.38436093e-04, 3.37570873e-04, 3.36819647e-04])}\n",
      "  21  3.6114724e+00 6.57e-04 1.39e+00  -3.4 1.97e+00    -  3.29e-01 8.53e-01h  1\n",
      "In intermediate callback\n",
      "{'alg_mod': 0, 'iter_count': 22, 'obj_value': 3.575130021725152, 'inf_pr': 0.09732387448221458, 'inf_du': 0.7665855133855631, 'mu': 0.00022667302659253188, 'd_norm': 1.576383866998377, 'regularization_size': 0.0, 'alpha_du': 0.8439661001252017, 'alpha_pr': 0.5100643083032874, 'ls_trials': 1}\n",
      "{'x': array([0.7       , 0.70130958, 0.70277264, ..., 1.01162223, 1.02512908,\n",
      "       1.03763132]), 'mult_x_L': array([3.72858482e-04, 3.72127447e-04, 3.71304552e-04, ...,\n",
      "       2.10527872e-05, 2.10495534e-05, 2.10463980e-05]), 'mult_x_U': array([0., 0., 0., ..., 0., 0., 0.]), 'g': array([1.75482829e-04, 1.85402730e-04, 1.91380059e-04, ...,\n",
      "       6.63681730e+00, 6.58682426e+00, 6.53127927e+00]), 'mult_g': array([-4.81172123e-02, -6.43630874e-02, -8.05427328e-02, ...,\n",
      "       -4.38844275e-05, -4.43525713e-05, -4.48927686e-05])}\n",
      "{'x_L_violation': array([0., 0., 0., ..., 0., 0., 0.]), 'x_U_violation': array([0., 0., 0., ..., 0., 0., 0.]), 'compl_x_L': array([0.000261  , 0.00026098, 0.00026094, ..., 0.00423185, 0.00423149,\n",
      "       0.00423112]), 'compl_x_U': array([0., 0., 0., ..., 0., 0., 0.]), 'grad_lag_x': array([-3.48776356e-03,  1.63314731e-03,  1.57058129e-03, ...,\n",
      "       -1.92575508e-05, -1.91150288e-05, -1.89711354e-05]), 'g_violation': array([0.00017548, 0.0001854 , 0.00019138, ..., 0.        , 0.        ,\n",
      "       0.        ]), 'compl_g': array([8.44374452e-06, 1.19330921e-05, 1.54142729e-05, ...,\n",
      "       2.91252928e-04, 2.92142592e-04, 2.93207209e-04])}\n",
      "  22  3.5751300e+00 3.19e-04 7.67e-01  -3.6 1.58e+00    -  8.44e-01 5.10e-01h  1\n",
      "In intermediate callback\n",
      "{'alg_mod': 0, 'iter_count': 23, 'obj_value': 3.568484256966315, 'inf_pr': 0.2927187609227605, 'inf_du': 0.5890367860996158, 'mu': 9.145187376650364e-05, 'd_norm': 0.642510713263468, 'regularization_size': 0.0, 'alpha_du': 0.7979320256584425, 'alpha_pr': 1.0, 'ls_trials': 1}\n",
      "{'x': array([0.7       , 0.70106118, 0.70225887, ..., 0.99302734, 1.00766442,\n",
      "       1.02091913]), 'mult_x_L': array([1.79589012e-04, 1.79351805e-04, 1.79080326e-04, ...,\n",
      "       4.61867372e-06, 4.61790111e-06, 4.61717776e-06]), 'mult_x_U': array([0., 0., 0., ..., 0., 0., 0.]), 'g': array([5.08509106e-05, 5.23893106e-05, 5.33102353e-05, ...,\n",
      "       6.58843908e+00, 6.53993243e+00, 6.48553876e+00]), 'mult_g': array([ 1.12528075e-01,  9.89407438e-02,  8.53561755e-02, ...,\n",
      "       -1.42349350e-05, -1.43345194e-05, -1.44514787e-05])}\n",
      "{'x_L_violation': array([0., 0., 0., ..., 0., 0., 0.]), 'x_U_violation': array([0., 0., 0., ..., 0., 0., 0.]), 'compl_x_L': array([0.00012571, 0.00012574, 0.00012576, ..., 0.00092832, 0.00092823,\n",
      "       0.00092815]), 'compl_x_U': array([0., 0., 0., ..., 0., 0., 0.]), 'grad_lag_x': array([-1.67253933e-03, -9.79121624e-05, -8.26133689e-05, ...,\n",
      "       -2.51235841e-06, -2.56337523e-06, -2.57533949e-06]), 'g_violation': array([5.08509106e-05, 5.23893106e-05, 5.33102353e-05, ...,\n",
      "       0.00000000e+00, 0.00000000e+00, 0.00000000e+00]), 'compl_g': array([-5.72215506e-06, -5.18343736e-06, -4.55035780e-06, ...,\n",
      "        9.37860021e-05,  9.37467880e-05,  9.37256251e-05])}\n",
      "  23  3.5684843e+00 5.36e-05 5.89e-01  -4.0 6.43e-01    -  7.98e-01 1.00e+00h  1\n",
      "In intermediate callback\n",
      "{'alg_mod': 0, 'iter_count': 24, 'obj_value': 3.559006260278025, 'inf_pr': 0.1731302373803909, 'inf_du': 0.7024511725839276, 'mu': 8.653331882954125e-05, 'd_norm': 4.738504409476443, 'regularization_size': 0.0, 'alpha_du': 0.46255798490476957, 'alpha_pr': 0.40854410276055103, 'ls_trials': 1}\n",
      "{'x': array([0.7       , 0.7007672 , 0.70164748, ..., 0.95925522, 0.97631368,\n",
      "       0.99143762]), 'mult_x_L': array([1.53699648e-04, 1.53570760e-04, 1.53418852e-04, ...,\n",
      "       2.68229258e-06, 2.68179965e-06, 2.68134897e-06]), 'mult_x_U': array([0., 0., 0., ..., 0., 0., 0.]), 'g': array([2.35208029e-05, 2.41570336e-05, 2.44319644e-05, ...,\n",
      "       6.22931643e+00, 6.14170041e+00, 6.04703404e+00]), 'mult_g': array([ 8.66252447e-02,  7.30541511e-02,  5.94852556e-02, ...,\n",
      "       -1.50936010e-05, -1.53602191e-05, -1.56561495e-05])}\n",
      "{'x_L_violation': array([0., 0., 0., ..., 0., 0., 0.]), 'x_U_violation': array([0., 0., 0., ..., 0., 0., 0.]), 'compl_x_L': array([0.00010759, 0.00010762, 0.00010765, ..., 0.00053903, 0.00053898,\n",
      "       0.00053893]), 'compl_x_U': array([0., 0., 0., ..., 0., 0., 0.]), 'grad_lag_x': array([-2.75465823e-03, -4.32114592e-04, -4.41628865e-04, ...,\n",
      "       -6.58394618e-07, -6.97165898e-07, -6.98473732e-07]), 'g_violation': array([2.35208029e-05, 2.41570336e-05, 2.44319644e-05, ...,\n",
      "       0.00000000e+00, 0.00000000e+00, 0.00000000e+00]), 'compl_g': array([-2.03749531e-06, -1.76477158e-06, -1.45334165e-06, ...,\n",
      "        9.40228170e-05,  9.43378640e-05,  9.46732690e-05])}\n",
      "  24  3.5590063e+00 5.68e-04 7.02e-01  -4.1 4.74e+00    -  4.63e-01 4.09e-01h  1\n",
      "In intermediate callback\n",
      "{'alg_mod': 0, 'iter_count': 25, 'obj_value': 3.5770611285841047, 'inf_pr': 0.38231932428667137, 'inf_du': 0.48056800111492914, 'mu': 0.0004108514387095406, 'd_norm': 2.96427689296474, 'regularization_size': 0.0, 'alpha_du': 0.41138793321821204, 'alpha_pr': 0.23709577863066755, 'ls_trials': 2}\n",
      "{'x': array([0.7       , 0.70131589, 0.70278666, ..., 0.96040892, 0.97727948,\n",
      "       0.99225096]), 'mult_x_L': array([3.31925641e-04, 3.31376793e-04, 3.30761225e-04, ...,\n",
      "       2.41986570e-06, 2.41950853e-06, 2.41918351e-06]), 'mult_x_U': array([0., 0., 0., ..., 0., 0., 0.]), 'g': array([-5.68976444e-05, -5.46875636e-05, -5.28309707e-05, ...,\n",
      "        6.88802001e+00,  6.82247759e+00,  6.74985158e+00]), 'mult_g': array([ 1.01085539e-01,  8.70892928e-02,  7.30982679e-02, ...,\n",
      "       -2.49879108e-05, -2.52696111e-05, -2.55847520e-05])}\n",
      "{'x_L_violation': array([0., 0., 0., ..., 0., 0., 0.]), 'x_U_violation': array([0., 0., 0., ..., 0., 0., 0.]), 'compl_x_L': array([0.00023235, 0.0002324 , 0.00023245, ..., 0.0004863 , 0.00048627,\n",
      "       0.00048624]), 'compl_x_U': array([0., 0., 0., ..., 0., 0., 0.]), 'grad_lag_x': array([-2.94476754e-04, -1.00278848e-03, -9.89520804e-04, ...,\n",
      "       -5.72016920e-07, -5.19453360e-07, -4.34681582e-07]), 'g_violation': array([5.68976444e-05, 5.46875636e-05, 5.28309707e-05, ...,\n",
      "       0.00000000e+00, 0.00000000e+00, 0.00000000e+00]), 'compl_g': array([5.75152904e-06, 4.76270123e-06, 3.86185245e-06, ...,\n",
      "       1.72117230e-04, 1.72401355e-04, 1.72693279e-04])}\n",
      "  25  3.5770611e+00 4.50e-04 4.81e-01  -3.4 2.96e+00    -  4.11e-01 2.37e-01h  2\n",
      "In intermediate callback\n",
      "{'alg_mod': 0, 'iter_count': 26, 'obj_value': 3.5612591295805744, 'inf_pr': 0.27650480783611786, 'inf_du': 0.6204366030998478, 'mu': 0.0002182112178915395, 'd_norm': 1.6438406554403855, 'regularization_size': 0.0, 'alpha_du': 0.42398836414726543, 'alpha_pr': 0.2767699923303148, 'ls_trials': 1}\n",
      "{'x': array([0.7       , 0.70151558, 0.70320195, ..., 0.96080992, 0.97810756,\n",
      "       0.99358501]), 'mult_x_L': array([3.23363055e-04, 3.22654374e-04, 3.21868841e-04, ...,\n",
      "       1.85424770e-06, 1.85399545e-06, 1.85376461e-06]), 'mult_x_U': array([0., 0., 0., ..., 0., 0., 0.]), 'g': array([-3.76260695e-05, -3.61461453e-05, -3.48646041e-05, ...,\n",
      "        6.68573339e+00,  6.61006128e+00,  6.52688407e+00]), 'mult_g': array([ 9.11819617e-02,  7.69361736e-02,  6.26966385e-02, ...,\n",
      "       -2.78797093e-05, -2.82411698e-05, -2.86452045e-05])}\n",
      "{'x_L_violation': array([0., 0., 0., ..., 0., 0., 0.]), 'x_U_violation': array([0., 0., 0., ..., 0., 0., 0.]), 'compl_x_L': array([0.00022635, 0.00022635, 0.00022634, ..., 0.00037263, 0.00037261,\n",
      "       0.00037259]), 'compl_x_U': array([0., 0., 0., ..., 0., 0., 0.]), 'grad_lag_x': array([ 1.11808651e-03, -6.45174061e-04, -6.36199001e-04, ...,\n",
      "        1.31586554e-06,  6.93472285e-07,  1.33405406e-07]), 'g_violation': array([3.76260695e-05, 3.61461453e-05, 3.48646041e-05, ...,\n",
      "       0.00000000e+00, 0.00000000e+00, 0.00000000e+00]), 'compl_g': array([3.43081883e-06, 2.78094611e-06, 2.18589348e-06, ...,\n",
      "       1.86396303e-04, 1.86675863e-04, 1.86963929e-04])}\n",
      "  26  3.5612591e+00 3.50e-04 6.20e-01  -3.7 1.64e+00    -  4.24e-01 2.77e-01h  1\n",
      "In intermediate callback\n",
      "{'alg_mod': 0, 'iter_count': 27, 'obj_value': 3.531583418739551, 'inf_pr': 0.1411958044545425, 'inf_du': 0.5007980850568743, 'mu': 0.0002182112178915395, 'd_norm': 2.309183063082345, 'regularization_size': 0.0, 'alpha_du': 0.8974339985607498, 'alpha_pr': 1.0, 'ls_trials': 1}\n",
      "{'x': array([0.7       , 0.70211542, 0.7044475 , ..., 0.95648941, 0.97470719,\n",
      "       0.99122619]), 'mult_x_L': array([3.12923431e-04, 3.11998755e-04, 3.10984694e-04, ...,\n",
      "       1.16468797e-06, 1.16457060e-06, 1.16446327e-06]), 'mult_x_U': array([0., 0., 0., ..., 0., 0., 0.]), 'g': array([1.45408204e-04, 1.50847657e-04, 1.55207633e-04, ...,\n",
      "       6.42751075e+00, 6.33324156e+00, 6.23043324e+00]), 'mult_g': array([-1.64963752e-02, -3.10515020e-02, -4.56078460e-02, ...,\n",
      "       -3.40045366e-05, -3.45120932e-05, -3.50823536e-05])}\n",
      "{'x_L_violation': array([0., 0., 0., ..., 0., 0., 0.]), 'x_U_violation': array([0., 0., 0., ..., 0., 0., 0.]), 'compl_x_L': array([0.00021905, 0.00021906, 0.00021907, ..., 0.00023405, 0.00023405,\n",
      "       0.00023405]), 'compl_x_U': array([0., 0., 0., ..., 0., 0., 0.]), 'grad_lag_x': array([ 2.05196100e-03, -3.11567800e-04, -3.59657684e-04, ...,\n",
      "        1.94781345e-07,  4.87138328e-07,  8.17989113e-07]), 'g_violation': array([0.00014541, 0.00015085, 0.00015521, ..., 0.        , 0.        ,\n",
      "       0.        ]), 'compl_g': array([2.39870829e-06, 4.68404632e-06, 7.07868583e-06, ...,\n",
      "       2.18564524e-04, 2.18573423e-04, 2.18578262e-04])}\n",
      "  27  3.5315834e+00 1.63e-04 5.01e-01  -3.7 2.31e+00    -  8.97e-01 1.00e+00h  1\n",
      "In intermediate callback\n",
      "{'alg_mod': 0, 'iter_count': 28, 'obj_value': 3.6942523530722813, 'inf_pr': 0.14901406255246386, 'inf_du': 1.664208067144207, 'mu': 0.0003960232864512084, 'd_norm': 5.6131348681985935, 'regularization_size': 0.0, 'alpha_du': 0.9441366423708444, 'alpha_pr': 1.0, 'ls_trials': 1}\n",
      "{'x': array([0.7       , 0.6998909 , 0.69992779, ..., 0.8863452 , 0.91249672,\n",
      "       0.93551118]), 'mult_x_L': array([5.51623940e-04, 5.50896243e-04, 5.50027152e-04, ...,\n",
      "       1.92604944e-06, 1.92583074e-06, 1.92563625e-06]), 'mult_x_U': array([0., 0., 0., ..., 0., 0., 0.]), 'g': array([2.34322650e-04, 2.62030385e-04, 2.83296181e-04, ...,\n",
      "       4.69576861e+00, 4.63468292e+00, 4.75328439e+00]), 'mult_g': array([ 3.15029389e-02,  1.54732873e-02, -5.95341104e-04, ...,\n",
      "       -7.08114519e-05, -7.25863069e-05, -7.27503081e-05])}\n",
      "{'x_L_violation': array([0., 0., 0., ..., 0., 0., 0.]), 'x_U_violation': array([0., 0., 0., ..., 0., 0., 0.]), 'compl_x_L': array([0.00038614, 0.00038557, 0.00038498, ..., 0.00038692, 0.00038692,\n",
      "       0.00038693]), 'compl_x_U': array([0., 0., 0., ..., 0., 0., 0.]), 'grad_lag_x': array([-1.11700219e-02, -3.42122348e-03, -3.48740733e-03, ...,\n",
      "        1.72680617e-08, -5.27107079e-08, -5.46138843e-08]), 'g_violation': array([0.00023432, 0.00026203, 0.0002833 , ..., 0.        , 0.        ,\n",
      "       0.        ]), 'compl_g': array([-7.38185213e-06, -4.05447142e-06,  1.68657861e-07, ...,\n",
      "        3.32514193e-04,  3.36414517e-04,  3.45802904e-04])}\n",
      "  28  3.6942524e+00 4.58e-04 1.66e+00  -3.4 5.61e+00    -  9.44e-01 1.00e+00H  1\n",
      "In intermediate callback\n",
      "{'alg_mod': 0, 'iter_count': 29, 'obj_value': 3.555774447454975, 'inf_pr': 0.8255293559496133, 'inf_du': 0.5047934070166147, 'mu': 0.0003040048338181465, 'd_norm': 2.7808967782153564, 'regularization_size': 0.0, 'alpha_du': 0.9841823544980796, 'alpha_pr': 0.739613394298847, 'ls_trials': 1}\n",
      "{'x': array([0.7       , 0.70142178, 0.7029935 , ..., 0.90737974, 0.9304707 ,\n",
      "       0.95067317]), 'mult_x_L': array([4.36148519e-04, 4.34600194e-04, 4.32961585e-04, ...,\n",
      "       1.51957763e-06, 1.51941941e-06, 1.51928168e-06]), 'mult_x_U': array([0., 0., 0., ..., 0., 0., 0.]), 'g': array([1.13892039e-03, 1.16172586e-03, 1.17499936e-03, ...,\n",
      "       5.58636847e+00, 5.39482327e+00, 5.19101827e+00]), 'mult_g': array([ 5.22714958e-02,  3.59216084e-02,  1.95127573e-02, ...,\n",
      "       -5.32763853e-05, -6.77539344e-05, -6.60492315e-05])}\n",
      "{'x_L_violation': array([0., 0., 0., ..., 0., 0., 0.]), 'x_U_violation': array([0., 0., 0., ..., 0., 0., 0.]), 'compl_x_L': array([0.0003053 , 0.00030484, 0.00030437, ..., 0.00030529, 0.0003053 ,\n",
      "       0.0003053 ]), 'compl_x_U': array([0., 0., 0., ..., 0., 0., 0.]), 'grad_lag_x': array([-6.50652787e-04,  1.58875718e-03,  1.68069751e-03, ...,\n",
      "        3.29675611e-07,  3.34677713e-07,  3.82064665e-07]), 'g_violation': array([0.00113892, 0.00116173, 0.001175  , ..., 0.        , 0.        ,\n",
      "       0.        ]), 'compl_g': array([-5.95330726e-05, -4.17310615e-05, -2.29274773e-05, ...,\n",
      "        2.97621519e-04,  3.65520502e-04,  3.42862768e-04])}\n",
      "  29  3.5557744e+00 1.18e-03 5.05e-01  -3.5 2.78e+00    -  9.84e-01 7.40e-01h  1\n",
      "In intermediate callback\n",
      "{'alg_mod': 0, 'iter_count': 30, 'obj_value': 3.540594465162791, 'inf_pr': 0.27198333321382684, 'inf_du': 0.15511379222511196, 'mu': 0.0003040048338181465, 'd_norm': 1.8032667796869957, 'regularization_size': 0.0, 'alpha_du': 0.6115284442623382, 'alpha_pr': 0.670534631804869, 'ls_trials': 1}\n",
      "{'x': array([0.7       , 0.70182098, 0.70385942, ..., 0.9074359 , 0.92980924,\n",
      "       0.94936182]), 'mult_x_L': array([4.35013580e-04, 4.33648187e-04, 4.32158262e-04, ...,\n",
      "       1.51565213e-06, 1.51548928e-06, 1.51534723e-06]), 'mult_x_U': array([0., 0., 0., ..., 0., 0., 0.]), 'g': array([2.82266577e-04, 2.92144170e-04, 2.99229399e-04, ...,\n",
      "       5.95390461e+00, 5.80241885e+00, 5.63949622e+00]), 'mult_g': array([ 1.11104646e-01,  9.74426237e-02,  8.38332338e-02, ...,\n",
      "       -5.09188133e-05, -5.30232586e-05, -5.46080039e-05])}\n",
      "{'x_L_violation': array([0., 0., 0., ..., 0., 0., 0.]), 'x_U_violation': array([0., 0., 0., ..., 0., 0., 0.]), 'compl_x_L': array([0.00030451, 0.00030434, 0.00030418, ..., 0.00030451, 0.00030451,\n",
      "       0.00030451]), 'compl_x_U': array([0., 0., 0., ..., 0., 0., 0.]), 'grad_lag_x': array([-1.06848589e-03, -1.58034328e-03, -1.64118372e-03, ...,\n",
      "        4.84295305e-07,  4.34016730e-07,  3.83376405e-07]), 'g_violation': array([0.00028227, 0.00029214, 0.00029923, ..., 0.        , 0.        ,\n",
      "       0.        ]), 'compl_g': array([-3.13611282e-05, -2.84672944e-05, -2.50853682e-05, ...,\n",
      "        3.03165757e-04,  3.07663155e-04,  3.07961631e-04])}\n",
      "Objective value: 3.540594465162791\n",
      "iter    objective    inf_pr   inf_du lg(mu)  ||d||  lg(rg) alpha_du alpha_pr  ls\n",
      "  30  3.5405945e+00 3.97e-04 1.55e-01  -3.5 1.80e+00    -  6.12e-01 6.71e-01H  1\n",
      "OED objective value: 3.5184604431774806\n",
      "\n",
      "Number of Iterations....: 30\n",
      "\n",
      "                                   (scaled)                 (unscaled)\n",
      "Objective...............:   3.5405944651627910e+00    3.5405944651627910e+00\n",
      "Dual infeasibility......:   1.5511379222511196e-01    1.5511379222511196e-01\n",
      "Constraint violation....:   3.9651497702566929e-04    3.9651497702566929e-04\n",
      "Variable bound violation:   0.0000000000000000e+00    0.0000000000000000e+00\n",
      "Complementarity.........:   2.7402848047667497e-03    2.7402848047667497e-03\n",
      "Overall NLP error.......:   1.5511379222511196e-01    1.5511379222511196e-01\n",
      "\n",
      "\n",
      "Number of objective function evaluations             = 37\n",
      "Number of objective gradient evaluations             = 31\n",
      "Number of equality constraint evaluations            = 37\n",
      "Number of inequality constraint evaluations          = 37\n",
      "Number of equality constraint Jacobian evaluations   = 31\n",
      "Number of inequality constraint Jacobian evaluations = 31\n",
      "Number of Lagrangian Hessian evaluations             = 0\n",
      "Total seconds in IPOPT                               = 5.858\n",
      "\n",
      "EXIT: Maximum Number of Iterations Exceeded.\n"
     ]
    }
   ],
   "source": [
    "# x0 = solution\n",
    "\n",
    "problem_obj.add_option(\"hessian_approximation\", \"limited-memory\")\n",
    "problem_obj.add_option(\"tol\", 1e-3)\n",
    "problem_obj.add_option(\"max_iter\", 30)\n",
    "# problem.add_option(\"derivative_test_print_all\", \"yes\")\n",
    "# problem.add_option(\"derivative_test\", \"first-order\")\n",
    "# problem.add_option(\"gradient_approximation\", \"finite-difference-values\")\n",
    "# Solve the problem\n",
    "solution, info = problem_obj.solve(x0)\n",
    "# solution, info = problem.solve(solution)\n",
    "\n",
    "# Print the solution\n",
    "# print(f\"Solution: {solution}\")\n",
    "print(f\"Objective value: {info['obj_val']}\")\n",
    "print(f\"OED objective value: {problem_obj.OED_objective(solution)}\")\n",
    "# output the value of the trajectory whenever the gradient is evaluated to make a video\n",
    "# (objective value; constraint violation)"
   ]
  },
  {
   "cell_type": "code",
   "execution_count": 45,
   "id": "f4b58ed6-38dc-4137-be95-08afd5ccd2cc",
   "metadata": {},
   "outputs": [
    {
     "ename": "AttributeError",
     "evalue": "'ipopt_wrapper.Problem' object has no attribute '__in_ipopt_solve'",
     "output_type": "error",
     "traceback": [
      "\u001b[0;31m---------------------------------------------------------------------------\u001b[0m",
      "\u001b[0;31mAttributeError\u001b[0m                            Traceback (most recent call last)",
      "Cell \u001b[0;32mIn[45], line 1\u001b[0m\n\u001b[0;32m----> 1\u001b[0m \u001b[43mproblem\u001b[49m\u001b[38;5;241;43m.\u001b[39;49m\u001b[43m__in_ipopt_solve\u001b[49m\n",
      "\u001b[0;31mAttributeError\u001b[0m: 'ipopt_wrapper.Problem' object has no attribute '__in_ipopt_solve'"
     ]
    }
   ],
   "source": [
    "problem.__in_ipopt_solve"
   ]
  },
  {
   "cell_type": "code",
   "execution_count": 133,
   "id": "0e2e71ac-4c32-4009-9039-81717f2b1b57",
   "metadata": {},
   "outputs": [
    {
     "name": "stdout",
     "output_type": "stream",
     "text": [
      "OED objective value: 3.404733488080322\n"
     ]
    }
   ],
   "source": [
    "print(f\"OED objective value: {problem_obj.OED_objective(solution)}\")"
   ]
  },
  {
   "cell_type": "code",
   "execution_count": 134,
   "id": "8e685385-11f8-4598-abc2-44b6596e929b",
   "metadata": {},
   "outputs": [
    {
     "data": {
      "text/plain": [
       "<matplotlib.legend.Legend at 0x7ff46427f740>"
      ]
     },
     "execution_count": 134,
     "metadata": {},
     "output_type": "execute_result"
    },
    {
     "data": {
      "text/plain": [
       "<Figure size 640x480 with 0 Axes>"
      ]
     },
     "metadata": {},
     "output_type": "display_data"
    },
    {
     "data": {
      "image/png": "[encoded data removed]",
      "text/plain": [
       "<Figure size 640x480 with 2 Axes>"
      ]
     },
     "metadata": {},
     "output_type": "display_data"
    },
    {
     "data": {
      "image/png": "[encoded data removed]",
      "text/plain": [
       "<Figure size 300x300 with 1 Axes>"
      ]
     },
     "metadata": {},
     "output_type": "display_data"
    }
   ],
   "source": [
    "(x, y, theta, v, acc, omega, omega_acc) = problem_obj.var_splitter(solution)\n",
    "\n",
    "(prev_x, prev_y, prev_theta, prev_v, prev_acc, prev_omega, prev_omega_acc) = problem_obj.var_splitter(solution)\n",
    "prev_grid_t = grid_t_drone\n",
    "\n",
    "plt.figure()\n",
    "# fom.plot(state)\n",
    "fom.plot(fom.assemble_forcing(para_true))\n",
    "plt.plot(x, y, label=\"Optimized path\", color=\"red\")\n",
    "# plt.scatter(x, y, marker='d')\n",
    "plt.scatter(x[0], y[0], marker='o', color=\"red\")\n",
    "# plt.scatter(problem_obj.x0, problem_obj.y0, marker='*')\n",
    "plt.xlim([-0,1])\n",
    "plt.ylim([-0,1])\n",
    "\n",
    "\n",
    "(initial_x, initial_y, _, _, _, _, _) = problem_obj.var_splitter(x0)\n",
    "plt.plot(initial_x, initial_y, label=\"Initial path\")\n",
    "\n",
    "obstacle_shape = problem_obj.obstacle_shape\n",
    "\n",
    "# if obstacle_shape == \"circle\":\n",
    "#     style = 'k'\n",
    "# else:\n",
    "#     style = 'k--'\n",
    "# # circle\n",
    "# t = np.linspace(0, 2*np.pi, 100)\n",
    "# for cx, cy, rx, ry in zip(problem_obj.cxs, problem_obj.cys, problem_obj.rxs, problem_obj.rys):\n",
    "#     plt.plot(rx*np.cos(t) + cx, ry*np.sin(t) + cy, style)\n",
    "\n",
    "# if obstacle_shape == \"diamond\":\n",
    "#     style = 'k'\n",
    "# else:\n",
    "#     style = 'k--'\n",
    "# # diamond\n",
    "# for cx, cy, rx, ry in zip(problem_obj.cxs, problem_obj.cys, problem_obj.rxs, problem_obj.rys):\n",
    "#     plt.plot([cx, cx + rx, cx, cx - rx, cx], [cy + ry, cy, cy - ry, cy, cy + ry], style)\n",
    "\n",
    "if obstacle_shape == \"square\":\n",
    "    style = 'k'\n",
    "else:\n",
    "    style = 'k--'\n",
    "# square\n",
    "for cx, cy, rx, ry in zip(problem_obj.cxs, problem_obj.cys, problem_obj.rxs, problem_obj.rys):\n",
    "    plt.plot([cx + rx, cx + rx, cx - rx, cx - rx, cx + rx], [cy -ry, cy + ry, cy + ry, cy - ry, cy - ry], style)\n",
    "\n",
    "# for poly in polygons:\n",
    "#     plt.plot(poly.vertices[:,0], poly.vertices[:,1])\n",
    "\n",
    "# plt.legend()\n",
    "\n",
    "plt.figure(figsize=(3,3))\n",
    "plt.plot(grid_t_drone, v, label=\"Velocity\")\n",
    "plt.plot(grid_t_drone, omega, label=\"Angular Velocity\")\n",
    "plt.legend()"
   ]
  },
  {
   "cell_type": "code",
   "execution_count": 154,
   "id": "b5c71c3c-bfbe-4f02-8a0d-fd47228f75ab",
   "metadata": {},
   "outputs": [
    {
     "name": "stderr",
     "output_type": "stream",
     "text": [
      "100%|███████████████████████████████████████████████████████████████████████████████████████████████████████████████████████████████████████████████████| 229/229 [01:53<00:00,  2.02it/s]\n"
     ]
    },
    {
     "name": "stdout",
     "output_type": "stream",
     "text": [
      "Moviepy - Building video my_video.mp4.\n",
      "Moviepy - Writing video my_video.mp4\n",
      "\n"
     ]
    },
    {
     "name": "stderr",
     "output_type": "stream",
     "text": [
      "                                                                                                                                                                                          \r"
     ]
    },
    {
     "name": "stdout",
     "output_type": "stream",
     "text": [
      "Moviepy - Done !\n",
      "Moviepy - video ready my_video.mp4\n",
      "Video frames generated and saved as my_video.mp4\n"
     ]
    },
    {
     "data": {
      "text/plain": [
       "<Figure size 1500x500 with 0 Axes>"
      ]
     },
     "metadata": {},
     "output_type": "display_data"
    },
    {
     "data": {
      "text/plain": [
       "<Figure size 1500x500 with 0 Axes>"
      ]
     },
     "metadata": {},
     "output_type": "display_data"
    },
    {
     "data": {
      "text/plain": [
       "<Figure size 1500x500 with 0 Axes>"
      ]
     },
     "metadata": {},
     "output_type": "display_data"
    },
    {
     "data": {
      "text/plain": [
       "<Figure size 1500x500 with 0 Axes>"
      ]
     },
     "metadata": {},
     "output_type": "display_data"
    },
    {
     "data": {
      "text/plain": [
       "<Figure size 1500x500 with 0 Axes>"
      ]
     },
     "metadata": {},
     "output_type": "display_data"
    },
    {
     "data": {
      "text/plain": [
       "<Figure size 1500x500 with 0 Axes>"
      ]
     },
     "metadata": {},
     "output_type": "display_data"
    },
    {
     "data": {
      "text/plain": [
       "<Figure size 1500x500 with 0 Axes>"
      ]
     },
     "metadata": {},
     "output_type": "display_data"
    },
    {
     "data": {
      "text/plain": [
       "<Figure size 1500x500 with 0 Axes>"
      ]
     },
     "metadata": {},
     "output_type": "display_data"
    },
    {
     "data": {
      "text/plain": [
       "<Figure size 1500x500 with 0 Axes>"
      ]
     },
     "metadata": {},
     "output_type": "display_data"
    },
    {
     "data": {
      "text/plain": [
       "<Figure size 1500x500 with 0 Axes>"
      ]
     },
     "metadata": {},
     "output_type": "display_data"
    },
    {
     "data": {
      "text/plain": [
       "<Figure size 1500x500 with 0 Axes>"
      ]
     },
     "metadata": {},
     "output_type": "display_data"
    },
    {
     "data": {
      "text/plain": [
       "<Figure size 1500x500 with 0 Axes>"
      ]
     },
     "metadata": {},
     "output_type": "display_data"
    },
    {
     "data": {
      "text/plain": [
       "<Figure size 1500x500 with 0 Axes>"
      ]
     },
     "metadata": {},
     "output_type": "display_data"
    },
    {
     "data": {
      "text/plain": [
       "<Figure size 1500x500 with 0 Axes>"
      ]
     },
     "metadata": {},
     "output_type": "display_data"
    },
    {
     "data": {
      "text/plain": [
       "<Figure size 1500x500 with 0 Axes>"
      ]
     },
     "metadata": {},
     "output_type": "display_data"
    },
    {
     "data": {
      "text/plain": [
       "<Figure size 1500x500 with 0 Axes>"
      ]
     },
     "metadata": {},
     "output_type": "display_data"
    },
    {
     "data": {
      "text/plain": [
       "<Figure size 1500x500 with 0 Axes>"
      ]
     },
     "metadata": {},
     "output_type": "display_data"
    },
    {
     "data": {
      "text/plain": [
       "<Figure size 1500x500 with 0 Axes>"
      ]
     },
     "metadata": {},
     "output_type": "display_data"
    },
    {
     "data": {
      "text/plain": [
       "<Figure size 1500x500 with 0 Axes>"
      ]
     },
     "metadata": {},
     "output_type": "display_data"
    },
    {
     "data": {
      "text/plain": [
       "<Figure size 1500x500 with 0 Axes>"
      ]
     },
     "metadata": {},
     "output_type": "display_data"
    },
    {
     "data": {
      "text/plain": [
       "<Figure size 1500x500 with 0 Axes>"
      ]
     },
     "metadata": {},
     "output_type": "display_data"
    },
    {
     "data": {
      "text/plain": [
       "<Figure size 1500x500 with 0 Axes>"
      ]
     },
     "metadata": {},
     "output_type": "display_data"
    },
    {
     "data": {
      "text/plain": [
       "<Figure size 1500x500 with 0 Axes>"
      ]
     },
     "metadata": {},
     "output_type": "display_data"
    },
    {
     "data": {
      "text/plain": [
       "<Figure size 1500x500 with 0 Axes>"
      ]
     },
     "metadata": {},
     "output_type": "display_data"
    },
    {
     "data": {
      "text/plain": [
       "<Figure size 1500x500 with 0 Axes>"
      ]
     },
     "metadata": {},
     "output_type": "display_data"
    },
    {
     "data": {
      "text/plain": [
       "<Figure size 1500x500 with 0 Axes>"
      ]
     },
     "metadata": {},
     "output_type": "display_data"
    },
    {
     "data": {
      "text/plain": [
       "<Figure size 1500x500 with 0 Axes>"
      ]
     },
     "metadata": {},
     "output_type": "display_data"
    },
    {
     "data": {
      "text/plain": [
       "<Figure size 1500x500 with 0 Axes>"
      ]
     },
     "metadata": {},
     "output_type": "display_data"
    },
    {
     "data": {
      "text/plain": [
       "<Figure size 1500x500 with 0 Axes>"
      ]
     },
     "metadata": {},
     "output_type": "display_data"
    },
    {
     "data": {
      "text/plain": [
       "<Figure size 1500x500 with 0 Axes>"
      ]
     },
     "metadata": {},
     "output_type": "display_data"
    },
    {
     "data": {
      "text/plain": [
       "<Figure size 1500x500 with 0 Axes>"
      ]
     },
     "metadata": {},
     "output_type": "display_data"
    },
    {
     "data": {
      "text/plain": [
       "<Figure size 1500x500 with 0 Axes>"
      ]
     },
     "metadata": {},
     "output_type": "display_data"
    },
    {
     "data": {
      "text/plain": [
       "<Figure size 1500x500 with 0 Axes>"
      ]
     },
     "metadata": {},
     "output_type": "display_data"
    },
    {
     "data": {
      "text/plain": [
       "<Figure size 1500x500 with 0 Axes>"
      ]
     },
     "metadata": {},
     "output_type": "display_data"
    },
    {
     "data": {
      "text/plain": [
       "<Figure size 1500x500 with 0 Axes>"
      ]
     },
     "metadata": {},
     "output_type": "display_data"
    },
    {
     "data": {
      "text/plain": [
       "<Figure size 1500x500 with 0 Axes>"
      ]
     },
     "metadata": {},
     "output_type": "display_data"
    },
    {
     "data": {
      "text/plain": [
       "<Figure size 1500x500 with 0 Axes>"
      ]
     },
     "metadata": {},
     "output_type": "display_data"
    },
    {
     "data": {
      "text/plain": [
       "<Figure size 1500x500 with 0 Axes>"
      ]
     },
     "metadata": {},
     "output_type": "display_data"
    },
    {
     "data": {
      "text/plain": [
       "<Figure size 1500x500 with 0 Axes>"
      ]
     },
     "metadata": {},
     "output_type": "display_data"
    },
    {
     "data": {
      "text/plain": [
       "<Figure size 1500x500 with 0 Axes>"
      ]
     },
     "metadata": {},
     "output_type": "display_data"
    },
    {
     "data": {
      "text/plain": [
       "<Figure size 1500x500 with 0 Axes>"
      ]
     },
     "metadata": {},
     "output_type": "display_data"
    },
    {
     "data": {
      "text/plain": [
       "<Figure size 1500x500 with 0 Axes>"
      ]
     },
     "metadata": {},
     "output_type": "display_data"
    },
    {
     "data": {
      "text/plain": [
       "<Figure size 1500x500 with 0 Axes>"
      ]
     },
     "metadata": {},
     "output_type": "display_data"
    },
    {
     "data": {
      "text/plain": [
       "<Figure size 1500x500 with 0 Axes>"
      ]
     },
     "metadata": {},
     "output_type": "display_data"
    },
    {
     "data": {
      "text/plain": [
       "<Figure size 1500x500 with 0 Axes>"
      ]
     },
     "metadata": {},
     "output_type": "display_data"
    },
    {
     "data": {
      "text/plain": [
       "<Figure size 1500x500 with 0 Axes>"
      ]
     },
     "metadata": {},
     "output_type": "display_data"
    },
    {
     "data": {
      "text/plain": [
       "<Figure size 1500x500 with 0 Axes>"
      ]
     },
     "metadata": {},
     "output_type": "display_data"
    },
    {
     "data": {
      "text/plain": [
       "<Figure size 1500x500 with 0 Axes>"
      ]
     },
     "metadata": {},
     "output_type": "display_data"
    },
    {
     "data": {
      "text/plain": [
       "<Figure size 1500x500 with 0 Axes>"
      ]
     },
     "metadata": {},
     "output_type": "display_data"
    },
    {
     "data": {
      "text/plain": [
       "<Figure size 1500x500 with 0 Axes>"
      ]
     },
     "metadata": {},
     "output_type": "display_data"
    },
    {
     "data": {
      "text/plain": [
       "<Figure size 1500x500 with 0 Axes>"
      ]
     },
     "metadata": {},
     "output_type": "display_data"
    },
    {
     "data": {
      "text/plain": [
       "<Figure size 1500x500 with 0 Axes>"
      ]
     },
     "metadata": {},
     "output_type": "display_data"
    },
    {
     "data": {
      "text/plain": [
       "<Figure size 1500x500 with 0 Axes>"
      ]
     },
     "metadata": {},
     "output_type": "display_data"
    },
    {
     "data": {
      "text/plain": [
       "<Figure size 1500x500 with 0 Axes>"
      ]
     },
     "metadata": {},
     "output_type": "display_data"
    },
    {
     "data": {
      "text/plain": [
       "<Figure size 1500x500 with 0 Axes>"
      ]
     },
     "metadata": {},
     "output_type": "display_data"
    },
    {
     "data": {
      "text/plain": [
       "<Figure size 1500x500 with 0 Axes>"
      ]
     },
     "metadata": {},
     "output_type": "display_data"
    },
    {
     "data": {
      "text/plain": [
       "<Figure size 1500x500 with 0 Axes>"
      ]
     },
     "metadata": {},
     "output_type": "display_data"
    },
    {
     "data": {
      "text/plain": [
       "<Figure size 1500x500 with 0 Axes>"
      ]
     },
     "metadata": {},
     "output_type": "display_data"
    },
    {
     "data": {
      "text/plain": [
       "<Figure size 1500x500 with 0 Axes>"
      ]
     },
     "metadata": {},
     "output_type": "display_data"
    },
    {
     "data": {
      "text/plain": [
       "<Figure size 1500x500 with 0 Axes>"
      ]
     },
     "metadata": {},
     "output_type": "display_data"
    },
    {
     "data": {
      "text/plain": [
       "<Figure size 1500x500 with 0 Axes>"
      ]
     },
     "metadata": {},
     "output_type": "display_data"
    },
    {
     "data": {
      "text/plain": [
       "<Figure size 1500x500 with 0 Axes>"
      ]
     },
     "metadata": {},
     "output_type": "display_data"
    },
    {
     "data": {
      "text/plain": [
       "<Figure size 1500x500 with 0 Axes>"
      ]
     },
     "metadata": {},
     "output_type": "display_data"
    },
    {
     "data": {
      "text/plain": [
       "<Figure size 1500x500 with 0 Axes>"
      ]
     },
     "metadata": {},
     "output_type": "display_data"
    },
    {
     "data": {
      "text/plain": [
       "<Figure size 1500x500 with 0 Axes>"
      ]
     },
     "metadata": {},
     "output_type": "display_data"
    },
    {
     "data": {
      "text/plain": [
       "<Figure size 1500x500 with 0 Axes>"
      ]
     },
     "metadata": {},
     "output_type": "display_data"
    },
    {
     "data": {
      "text/plain": [
       "<Figure size 1500x500 with 0 Axes>"
      ]
     },
     "metadata": {},
     "output_type": "display_data"
    },
    {
     "data": {
      "text/plain": [
       "<Figure size 1500x500 with 0 Axes>"
      ]
     },
     "metadata": {},
     "output_type": "display_data"
    },
    {
     "data": {
      "text/plain": [
       "<Figure size 1500x500 with 0 Axes>"
      ]
     },
     "metadata": {},
     "output_type": "display_data"
    },
    {
     "data": {
      "text/plain": [
       "<Figure size 1500x500 with 0 Axes>"
      ]
     },
     "metadata": {},
     "output_type": "display_data"
    },
    {
     "data": {
      "text/plain": [
       "<Figure size 1500x500 with 0 Axes>"
      ]
     },
     "metadata": {},
     "output_type": "display_data"
    },
    {
     "data": {
      "text/plain": [
       "<Figure size 1500x500 with 0 Axes>"
      ]
     },
     "metadata": {},
     "output_type": "display_data"
    },
    {
     "data": {
      "text/plain": [
       "<Figure size 1500x500 with 0 Axes>"
      ]
     },
     "metadata": {},
     "output_type": "display_data"
    },
    {
     "data": {
      "text/plain": [
       "<Figure size 1500x500 with 0 Axes>"
      ]
     },
     "metadata": {},
     "output_type": "display_data"
    },
    {
     "data": {
      "text/plain": [
       "<Figure size 1500x500 with 0 Axes>"
      ]
     },
     "metadata": {},
     "output_type": "display_data"
    },
    {
     "data": {
      "text/plain": [
       "<Figure size 1500x500 with 0 Axes>"
      ]
     },
     "metadata": {},
     "output_type": "display_data"
    },
    {
     "data": {
      "text/plain": [
       "<Figure size 1500x500 with 0 Axes>"
      ]
     },
     "metadata": {},
     "output_type": "display_data"
    },
    {
     "data": {
      "text/plain": [
       "<Figure size 1500x500 with 0 Axes>"
      ]
     },
     "metadata": {},
     "output_type": "display_data"
    },
    {
     "data": {
      "text/plain": [
       "<Figure size 1500x500 with 0 Axes>"
      ]
     },
     "metadata": {},
     "output_type": "display_data"
    },
    {
     "data": {
      "text/plain": [
       "<Figure size 1500x500 with 0 Axes>"
      ]
     },
     "metadata": {},
     "output_type": "display_data"
    },
    {
     "data": {
      "text/plain": [
       "<Figure size 1500x500 with 0 Axes>"
      ]
     },
     "metadata": {},
     "output_type": "display_data"
    },
    {
     "data": {
      "text/plain": [
       "<Figure size 1500x500 with 0 Axes>"
      ]
     },
     "metadata": {},
     "output_type": "display_data"
    },
    {
     "data": {
      "text/plain": [
       "<Figure size 1500x500 with 0 Axes>"
      ]
     },
     "metadata": {},
     "output_type": "display_data"
    },
    {
     "data": {
      "text/plain": [
       "<Figure size 1500x500 with 0 Axes>"
      ]
     },
     "metadata": {},
     "output_type": "display_data"
    },
    {
     "data": {
      "text/plain": [
       "<Figure size 1500x500 with 0 Axes>"
      ]
     },
     "metadata": {},
     "output_type": "display_data"
    },
    {
     "data": {
      "text/plain": [
       "<Figure size 1500x500 with 0 Axes>"
      ]
     },
     "metadata": {},
     "output_type": "display_data"
    },
    {
     "data": {
      "text/plain": [
       "<Figure size 1500x500 with 0 Axes>"
      ]
     },
     "metadata": {},
     "output_type": "display_data"
    },
    {
     "data": {
      "text/plain": [
       "<Figure size 1500x500 with 0 Axes>"
      ]
     },
     "metadata": {},
     "output_type": "display_data"
    },
    {
     "data": {
      "text/plain": [
       "<Figure size 1500x500 with 0 Axes>"
      ]
     },
     "metadata": {},
     "output_type": "display_data"
    },
    {
     "data": {
      "text/plain": [
       "<Figure size 1500x500 with 0 Axes>"
      ]
     },
     "metadata": {},
     "output_type": "display_data"
    },
    {
     "data": {
      "text/plain": [
       "<Figure size 1500x500 with 0 Axes>"
      ]
     },
     "metadata": {},
     "output_type": "display_data"
    },
    {
     "data": {
      "text/plain": [
       "<Figure size 1500x500 with 0 Axes>"
      ]
     },
     "metadata": {},
     "output_type": "display_data"
    },
    {
     "data": {
      "text/plain": [
       "<Figure size 1500x500 with 0 Axes>"
      ]
     },
     "metadata": {},
     "output_type": "display_data"
    },
    {
     "data": {
      "text/plain": [
       "<Figure size 1500x500 with 0 Axes>"
      ]
     },
     "metadata": {},
     "output_type": "display_data"
    },
    {
     "data": {
      "text/plain": [
       "<Figure size 1500x500 with 0 Axes>"
      ]
     },
     "metadata": {},
     "output_type": "display_data"
    },
    {
     "data": {
      "text/plain": [
       "<Figure size 1500x500 with 0 Axes>"
      ]
     },
     "metadata": {},
     "output_type": "display_data"
    },
    {
     "data": {
      "text/plain": [
       "<Figure size 1500x500 with 0 Axes>"
      ]
     },
     "metadata": {},
     "output_type": "display_data"
    },
    {
     "data": {
      "text/plain": [
       "<Figure size 1500x500 with 0 Axes>"
      ]
     },
     "metadata": {},
     "output_type": "display_data"
    },
    {
     "data": {
      "text/plain": [
       "<Figure size 1500x500 with 0 Axes>"
      ]
     },
     "metadata": {},
     "output_type": "display_data"
    },
    {
     "data": {
      "text/plain": [
       "<Figure size 1500x500 with 0 Axes>"
      ]
     },
     "metadata": {},
     "output_type": "display_data"
    },
    {
     "data": {
      "text/plain": [
       "<Figure size 1500x500 with 0 Axes>"
      ]
     },
     "metadata": {},
     "output_type": "display_data"
    },
    {
     "data": {
      "text/plain": [
       "<Figure size 1500x500 with 0 Axes>"
      ]
     },
     "metadata": {},
     "output_type": "display_data"
    },
    {
     "data": {
      "text/plain": [
       "<Figure size 1500x500 with 0 Axes>"
      ]
     },
     "metadata": {},
     "output_type": "display_data"
    },
    {
     "data": {
      "text/plain": [
       "<Figure size 1500x500 with 0 Axes>"
      ]
     },
     "metadata": {},
     "output_type": "display_data"
    },
    {
     "data": {
      "text/plain": [
       "<Figure size 1500x500 with 0 Axes>"
      ]
     },
     "metadata": {},
     "output_type": "display_data"
    },
    {
     "data": {
      "text/plain": [
       "<Figure size 1500x500 with 0 Axes>"
      ]
     },
     "metadata": {},
     "output_type": "display_data"
    },
    {
     "data": {
      "text/plain": [
       "<Figure size 1500x500 with 0 Axes>"
      ]
     },
     "metadata": {},
     "output_type": "display_data"
    },
    {
     "data": {
      "text/plain": [
       "<Figure size 1500x500 with 0 Axes>"
      ]
     },
     "metadata": {},
     "output_type": "display_data"
    },
    {
     "data": {
      "text/plain": [
       "<Figure size 1500x500 with 0 Axes>"
      ]
     },
     "metadata": {},
     "output_type": "display_data"
    },
    {
     "data": {
      "text/plain": [
       "<Figure size 1500x500 with 0 Axes>"
      ]
     },
     "metadata": {},
     "output_type": "display_data"
    },
    {
     "data": {
      "text/plain": [
       "<Figure size 1500x500 with 0 Axes>"
      ]
     },
     "metadata": {},
     "output_type": "display_data"
    },
    {
     "data": {
      "text/plain": [
       "<Figure size 1500x500 with 0 Axes>"
      ]
     },
     "metadata": {},
     "output_type": "display_data"
    },
    {
     "data": {
      "text/plain": [
       "<Figure size 1500x500 with 0 Axes>"
      ]
     },
     "metadata": {},
     "output_type": "display_data"
    },
    {
     "data": {
      "text/plain": [
       "<Figure size 1500x500 with 0 Axes>"
      ]
     },
     "metadata": {},
     "output_type": "display_data"
    },
    {
     "data": {
      "text/plain": [
       "<Figure size 1500x500 with 0 Axes>"
      ]
     },
     "metadata": {},
     "output_type": "display_data"
    },
    {
     "data": {
      "text/plain": [
       "<Figure size 1500x500 with 0 Axes>"
      ]
     },
     "metadata": {},
     "output_type": "display_data"
    },
    {
     "data": {
      "text/plain": [
       "<Figure size 1500x500 with 0 Axes>"
      ]
     },
     "metadata": {},
     "output_type": "display_data"
    },
    {
     "data": {
      "text/plain": [
       "<Figure size 1500x500 with 0 Axes>"
      ]
     },
     "metadata": {},
     "output_type": "display_data"
    },
    {
     "data": {
      "text/plain": [
       "<Figure size 1500x500 with 0 Axes>"
      ]
     },
     "metadata": {},
     "output_type": "display_data"
    },
    {
     "data": {
      "text/plain": [
       "<Figure size 1500x500 with 0 Axes>"
      ]
     },
     "metadata": {},
     "output_type": "display_data"
    },
    {
     "data": {
      "text/plain": [
       "<Figure size 1500x500 with 0 Axes>"
      ]
     },
     "metadata": {},
     "output_type": "display_data"
    },
    {
     "data": {
      "text/plain": [
       "<Figure size 1500x500 with 0 Axes>"
      ]
     },
     "metadata": {},
     "output_type": "display_data"
    },
    {
     "data": {
      "text/plain": [
       "<Figure size 1500x500 with 0 Axes>"
      ]
     },
     "metadata": {},
     "output_type": "display_data"
    },
    {
     "data": {
      "text/plain": [
       "<Figure size 1500x500 with 0 Axes>"
      ]
     },
     "metadata": {},
     "output_type": "display_data"
    },
    {
     "data": {
      "text/plain": [
       "<Figure size 1500x500 with 0 Axes>"
      ]
     },
     "metadata": {},
     "output_type": "display_data"
    },
    {
     "data": {
      "text/plain": [
       "<Figure size 1500x500 with 0 Axes>"
      ]
     },
     "metadata": {},
     "output_type": "display_data"
    },
    {
     "data": {
      "text/plain": [
       "<Figure size 1500x500 with 0 Axes>"
      ]
     },
     "metadata": {},
     "output_type": "display_data"
    },
    {
     "data": {
      "text/plain": [
       "<Figure size 1500x500 with 0 Axes>"
      ]
     },
     "metadata": {},
     "output_type": "display_data"
    },
    {
     "data": {
      "text/plain": [
       "<Figure size 1500x500 with 0 Axes>"
      ]
     },
     "metadata": {},
     "output_type": "display_data"
    },
    {
     "data": {
      "text/plain": [
       "<Figure size 1500x500 with 0 Axes>"
      ]
     },
     "metadata": {},
     "output_type": "display_data"
    },
    {
     "data": {
      "text/plain": [
       "<Figure size 1500x500 with 0 Axes>"
      ]
     },
     "metadata": {},
     "output_type": "display_data"
    },
    {
     "data": {
      "text/plain": [
       "<Figure size 1500x500 with 0 Axes>"
      ]
     },
     "metadata": {},
     "output_type": "display_data"
    },
    {
     "data": {
      "text/plain": [
       "<Figure size 1500x500 with 0 Axes>"
      ]
     },
     "metadata": {},
     "output_type": "display_data"
    },
    {
     "data": {
      "text/plain": [
       "<Figure size 1500x500 with 0 Axes>"
      ]
     },
     "metadata": {},
     "output_type": "display_data"
    },
    {
     "data": {
      "text/plain": [
       "<Figure size 1500x500 with 0 Axes>"
      ]
     },
     "metadata": {},
     "output_type": "display_data"
    },
    {
     "data": {
      "text/plain": [
       "<Figure size 1500x500 with 0 Axes>"
      ]
     },
     "metadata": {},
     "output_type": "display_data"
    },
    {
     "data": {
      "text/plain": [
       "<Figure size 1500x500 with 0 Axes>"
      ]
     },
     "metadata": {},
     "output_type": "display_data"
    },
    {
     "data": {
      "text/plain": [
       "<Figure size 1500x500 with 0 Axes>"
      ]
     },
     "metadata": {},
     "output_type": "display_data"
    },
    {
     "data": {
      "text/plain": [
       "<Figure size 1500x500 with 0 Axes>"
      ]
     },
     "metadata": {},
     "output_type": "display_data"
    },
    {
     "data": {
      "text/plain": [
       "<Figure size 1500x500 with 0 Axes>"
      ]
     },
     "metadata": {},
     "output_type": "display_data"
    },
    {
     "data": {
      "text/plain": [
       "<Figure size 1500x500 with 0 Axes>"
      ]
     },
     "metadata": {},
     "output_type": "display_data"
    },
    {
     "data": {
      "text/plain": [
       "<Figure size 1500x500 with 0 Axes>"
      ]
     },
     "metadata": {},
     "output_type": "display_data"
    },
    {
     "data": {
      "text/plain": [
       "<Figure size 1500x500 with 0 Axes>"
      ]
     },
     "metadata": {},
     "output_type": "display_data"
    },
    {
     "data": {
      "text/plain": [
       "<Figure size 1500x500 with 0 Axes>"
      ]
     },
     "metadata": {},
     "output_type": "display_data"
    },
    {
     "data": {
      "text/plain": [
       "<Figure size 1500x500 with 0 Axes>"
      ]
     },
     "metadata": {},
     "output_type": "display_data"
    },
    {
     "data": {
      "text/plain": [
       "<Figure size 1500x500 with 0 Axes>"
      ]
     },
     "metadata": {},
     "output_type": "display_data"
    },
    {
     "data": {
      "text/plain": [
       "<Figure size 1500x500 with 0 Axes>"
      ]
     },
     "metadata": {},
     "output_type": "display_data"
    },
    {
     "data": {
      "text/plain": [
       "<Figure size 1500x500 with 0 Axes>"
      ]
     },
     "metadata": {},
     "output_type": "display_data"
    },
    {
     "data": {
      "text/plain": [
       "<Figure size 1500x500 with 0 Axes>"
      ]
     },
     "metadata": {},
     "output_type": "display_data"
    },
    {
     "data": {
      "text/plain": [
       "<Figure size 1500x500 with 0 Axes>"
      ]
     },
     "metadata": {},
     "output_type": "display_data"
    },
    {
     "data": {
      "text/plain": [
       "<Figure size 1500x500 with 0 Axes>"
      ]
     },
     "metadata": {},
     "output_type": "display_data"
    },
    {
     "data": {
      "text/plain": [
       "<Figure size 1500x500 with 0 Axes>"
      ]
     },
     "metadata": {},
     "output_type": "display_data"
    },
    {
     "data": {
      "text/plain": [
       "<Figure size 1500x500 with 0 Axes>"
      ]
     },
     "metadata": {},
     "output_type": "display_data"
    },
    {
     "data": {
      "text/plain": [
       "<Figure size 1500x500 with 0 Axes>"
      ]
     },
     "metadata": {},
     "output_type": "display_data"
    },
    {
     "data": {
      "text/plain": [
       "<Figure size 1500x500 with 0 Axes>"
      ]
     },
     "metadata": {},
     "output_type": "display_data"
    },
    {
     "data": {
      "text/plain": [
       "<Figure size 1500x500 with 0 Axes>"
      ]
     },
     "metadata": {},
     "output_type": "display_data"
    },
    {
     "data": {
      "text/plain": [
       "<Figure size 1500x500 with 0 Axes>"
      ]
     },
     "metadata": {},
     "output_type": "display_data"
    },
    {
     "data": {
      "text/plain": [
       "<Figure size 1500x500 with 0 Axes>"
      ]
     },
     "metadata": {},
     "output_type": "display_data"
    },
    {
     "data": {
      "text/plain": [
       "<Figure size 1500x500 with 0 Axes>"
      ]
     },
     "metadata": {},
     "output_type": "display_data"
    },
    {
     "data": {
      "text/plain": [
       "<Figure size 1500x500 with 0 Axes>"
      ]
     },
     "metadata": {},
     "output_type": "display_data"
    },
    {
     "data": {
      "text/plain": [
       "<Figure size 1500x500 with 0 Axes>"
      ]
     },
     "metadata": {},
     "output_type": "display_data"
    },
    {
     "data": {
      "text/plain": [
       "<Figure size 1500x500 with 0 Axes>"
      ]
     },
     "metadata": {},
     "output_type": "display_data"
    },
    {
     "data": {
      "text/plain": [
       "<Figure size 1500x500 with 0 Axes>"
      ]
     },
     "metadata": {},
     "output_type": "display_data"
    },
    {
     "data": {
      "text/plain": [
       "<Figure size 1500x500 with 0 Axes>"
      ]
     },
     "metadata": {},
     "output_type": "display_data"
    },
    {
     "data": {
      "text/plain": [
       "<Figure size 1500x500 with 0 Axes>"
      ]
     },
     "metadata": {},
     "output_type": "display_data"
    },
    {
     "data": {
      "text/plain": [
       "<Figure size 1500x500 with 0 Axes>"
      ]
     },
     "metadata": {},
     "output_type": "display_data"
    },
    {
     "data": {
      "text/plain": [
       "<Figure size 1500x500 with 0 Axes>"
      ]
     },
     "metadata": {},
     "output_type": "display_data"
    },
    {
     "data": {
      "text/plain": [
       "<Figure size 1500x500 with 0 Axes>"
      ]
     },
     "metadata": {},
     "output_type": "display_data"
    },
    {
     "data": {
      "text/plain": [
       "<Figure size 1500x500 with 0 Axes>"
      ]
     },
     "metadata": {},
     "output_type": "display_data"
    },
    {
     "data": {
      "text/plain": [
       "<Figure size 1500x500 with 0 Axes>"
      ]
     },
     "metadata": {},
     "output_type": "display_data"
    },
    {
     "data": {
      "text/plain": [
       "<Figure size 1500x500 with 0 Axes>"
      ]
     },
     "metadata": {},
     "output_type": "display_data"
    },
    {
     "data": {
      "text/plain": [
       "<Figure size 1500x500 with 0 Axes>"
      ]
     },
     "metadata": {},
     "output_type": "display_data"
    },
    {
     "data": {
      "text/plain": [
       "<Figure size 1500x500 with 0 Axes>"
      ]
     },
     "metadata": {},
     "output_type": "display_data"
    },
    {
     "data": {
      "text/plain": [
       "<Figure size 1500x500 with 0 Axes>"
      ]
     },
     "metadata": {},
     "output_type": "display_data"
    },
    {
     "data": {
      "text/plain": [
       "<Figure size 1500x500 with 0 Axes>"
      ]
     },
     "metadata": {},
     "output_type": "display_data"
    },
    {
     "data": {
      "text/plain": [
       "<Figure size 1500x500 with 0 Axes>"
      ]
     },
     "metadata": {},
     "output_type": "display_data"
    },
    {
     "data": {
      "text/plain": [
       "<Figure size 1500x500 with 0 Axes>"
      ]
     },
     "metadata": {},
     "output_type": "display_data"
    },
    {
     "data": {
      "text/plain": [
       "<Figure size 1500x500 with 0 Axes>"
      ]
     },
     "metadata": {},
     "output_type": "display_data"
    },
    {
     "data": {
      "text/plain": [
       "<Figure size 1500x500 with 0 Axes>"
      ]
     },
     "metadata": {},
     "output_type": "display_data"
    },
    {
     "data": {
      "text/plain": [
       "<Figure size 1500x500 with 0 Axes>"
      ]
     },
     "metadata": {},
     "output_type": "display_data"
    },
    {
     "data": {
      "text/plain": [
       "<Figure size 1500x500 with 0 Axes>"
      ]
     },
     "metadata": {},
     "output_type": "display_data"
    },
    {
     "data": {
      "text/plain": [
       "<Figure size 1500x500 with 0 Axes>"
      ]
     },
     "metadata": {},
     "output_type": "display_data"
    },
    {
     "data": {
      "text/plain": [
       "<Figure size 1500x500 with 0 Axes>"
      ]
     },
     "metadata": {},
     "output_type": "display_data"
    },
    {
     "data": {
      "text/plain": [
       "<Figure size 1500x500 with 0 Axes>"
      ]
     },
     "metadata": {},
     "output_type": "display_data"
    },
    {
     "data": {
      "text/plain": [
       "<Figure size 1500x500 with 0 Axes>"
      ]
     },
     "metadata": {},
     "output_type": "display_data"
    },
    {
     "data": {
      "text/plain": [
       "<Figure size 1500x500 with 0 Axes>"
      ]
     },
     "metadata": {},
     "output_type": "display_data"
    },
    {
     "data": {
      "text/plain": [
       "<Figure size 1500x500 with 0 Axes>"
      ]
     },
     "metadata": {},
     "output_type": "display_data"
    },
    {
     "data": {
      "text/plain": [
       "<Figure size 1500x500 with 0 Axes>"
      ]
     },
     "metadata": {},
     "output_type": "display_data"
    },
    {
     "data": {
      "text/plain": [
       "<Figure size 1500x500 with 0 Axes>"
      ]
     },
     "metadata": {},
     "output_type": "display_data"
    },
    {
     "data": {
      "text/plain": [
       "<Figure size 1500x500 with 0 Axes>"
      ]
     },
     "metadata": {},
     "output_type": "display_data"
    },
    {
     "data": {
      "text/plain": [
       "<Figure size 1500x500 with 0 Axes>"
      ]
     },
     "metadata": {},
     "output_type": "display_data"
    },
    {
     "data": {
      "text/plain": [
       "<Figure size 1500x500 with 0 Axes>"
      ]
     },
     "metadata": {},
     "output_type": "display_data"
    },
    {
     "data": {
      "text/plain": [
       "<Figure size 1500x500 with 0 Axes>"
      ]
     },
     "metadata": {},
     "output_type": "display_data"
    },
    {
     "data": {
      "text/plain": [
       "<Figure size 1500x500 with 0 Axes>"
      ]
     },
     "metadata": {},
     "output_type": "display_data"
    },
    {
     "data": {
      "text/plain": [
       "<Figure size 1500x500 with 0 Axes>"
      ]
     },
     "metadata": {},
     "output_type": "display_data"
    },
    {
     "data": {
      "text/plain": [
       "<Figure size 1500x500 with 0 Axes>"
      ]
     },
     "metadata": {},
     "output_type": "display_data"
    },
    {
     "data": {
      "text/plain": [
       "<Figure size 1500x500 with 0 Axes>"
      ]
     },
     "metadata": {},
     "output_type": "display_data"
    },
    {
     "data": {
      "text/plain": [
       "<Figure size 1500x500 with 0 Axes>"
      ]
     },
     "metadata": {},
     "output_type": "display_data"
    },
    {
     "data": {
      "text/plain": [
       "<Figure size 1500x500 with 0 Axes>"
      ]
     },
     "metadata": {},
     "output_type": "display_data"
    },
    {
     "data": {
      "text/plain": [
       "<Figure size 1500x500 with 0 Axes>"
      ]
     },
     "metadata": {},
     "output_type": "display_data"
    },
    {
     "data": {
      "text/plain": [
       "<Figure size 1500x500 with 0 Axes>"
      ]
     },
     "metadata": {},
     "output_type": "display_data"
    },
    {
     "data": {
      "text/plain": [
       "<Figure size 1500x500 with 0 Axes>"
      ]
     },
     "metadata": {},
     "output_type": "display_data"
    },
    {
     "data": {
      "text/plain": [
       "<Figure size 1500x500 with 0 Axes>"
      ]
     },
     "metadata": {},
     "output_type": "display_data"
    },
    {
     "data": {
      "text/plain": [
       "<Figure size 1500x500 with 0 Axes>"
      ]
     },
     "metadata": {},
     "output_type": "display_data"
    },
    {
     "data": {
      "text/plain": [
       "<Figure size 1500x500 with 0 Axes>"
      ]
     },
     "metadata": {},
     "output_type": "display_data"
    },
    {
     "data": {
      "text/plain": [
       "<Figure size 1500x500 with 0 Axes>"
      ]
     },
     "metadata": {},
     "output_type": "display_data"
    },
    {
     "data": {
      "text/plain": [
       "<Figure size 1500x500 with 0 Axes>"
      ]
     },
     "metadata": {},
     "output_type": "display_data"
    },
    {
     "data": {
      "text/plain": [
       "<Figure size 1500x500 with 0 Axes>"
      ]
     },
     "metadata": {},
     "output_type": "display_data"
    },
    {
     "data": {
      "text/plain": [
       "<Figure size 1500x500 with 0 Axes>"
      ]
     },
     "metadata": {},
     "output_type": "display_data"
    },
    {
     "data": {
      "text/plain": [
       "<Figure size 1500x500 with 0 Axes>"
      ]
     },
     "metadata": {},
     "output_type": "display_data"
    },
    {
     "data": {
      "text/plain": [
       "<Figure size 1500x500 with 0 Axes>"
      ]
     },
     "metadata": {},
     "output_type": "display_data"
    },
    {
     "data": {
      "text/plain": [
       "<Figure size 1500x500 with 0 Axes>"
      ]
     },
     "metadata": {},
     "output_type": "display_data"
    },
    {
     "data": {
      "text/plain": [
       "<Figure size 1500x500 with 0 Axes>"
      ]
     },
     "metadata": {},
     "output_type": "display_data"
    },
    {
     "data": {
      "text/plain": [
       "<Figure size 1500x500 with 0 Axes>"
      ]
     },
     "metadata": {},
     "output_type": "display_data"
    },
    {
     "data": {
      "text/plain": [
       "<Figure size 1500x500 with 0 Axes>"
      ]
     },
     "metadata": {},
     "output_type": "display_data"
    },
    {
     "data": {
      "text/plain": [
       "<Figure size 1500x500 with 0 Axes>"
      ]
     },
     "metadata": {},
     "output_type": "display_data"
    },
    {
     "data": {
      "text/plain": [
       "<Figure size 1500x500 with 0 Axes>"
      ]
     },
     "metadata": {},
     "output_type": "display_data"
    },
    {
     "data": {
      "text/plain": [
       "<Figure size 1500x500 with 0 Axes>"
      ]
     },
     "metadata": {},
     "output_type": "display_data"
    },
    {
     "data": {
      "text/plain": [
       "<Figure size 1500x500 with 0 Axes>"
      ]
     },
     "metadata": {},
     "output_type": "display_data"
    },
    {
     "data": {
      "text/plain": [
       "<Figure size 1500x500 with 0 Axes>"
      ]
     },
     "metadata": {},
     "output_type": "display_data"
    },
    {
     "data": {
      "text/plain": [
       "<Figure size 1500x500 with 0 Axes>"
      ]
     },
     "metadata": {},
     "output_type": "display_data"
    },
    {
     "data": {
      "text/plain": [
       "<Figure size 1500x500 with 0 Axes>"
      ]
     },
     "metadata": {},
     "output_type": "display_data"
    },
    {
     "data": {
      "text/plain": [
       "<Figure size 1500x500 with 0 Axes>"
      ]
     },
     "metadata": {},
     "output_type": "display_data"
    },
    {
     "data": {
      "text/plain": [
       "<Figure size 1500x500 with 0 Axes>"
      ]
     },
     "metadata": {},
     "output_type": "display_data"
    },
    {
     "data": {
      "text/plain": [
       "<Figure size 1500x500 with 0 Axes>"
      ]
     },
     "metadata": {},
     "output_type": "display_data"
    },
    {
     "data": {
      "text/plain": [
       "<Figure size 1500x500 with 0 Axes>"
      ]
     },
     "metadata": {},
     "output_type": "display_data"
    },
    {
     "data": {
      "text/plain": [
       "<Figure size 1500x500 with 0 Axes>"
      ]
     },
     "metadata": {},
     "output_type": "display_data"
    },
    {
     "data": {
      "text/plain": [
       "<Figure size 1500x500 with 0 Axes>"
      ]
     },
     "metadata": {},
     "output_type": "display_data"
    },
    {
     "data": {
      "text/plain": [
       "<Figure size 1500x500 with 0 Axes>"
      ]
     },
     "metadata": {},
     "output_type": "display_data"
    }
   ],
   "source": [
    "import matplotlib.pyplot as plt\n",
    "import os\n",
    "from moviepy.editor import ImageSequenceClip\n",
    "from tqdm import tqdm\n",
    "\n",
    "# Define a function to create your plots (replace this with your actual plotting code)\n",
    "def generate_plot(vars, cons, objs):\n",
    "    (x, y, theta, v, acc, omega, omega_acc) = problem_obj.var_splitter(vars)\n",
    "\n",
    "    # fom.plot(fom.assemble_forcing(para_true))\n",
    "    \n",
    "    # (initial_x, initial_y, _, _, _, _, _) = problem_obj.var_splitter(x0)\n",
    "    # plt.plot(initial_x, initial_y, label=\"Initial path\")\n",
    "    \n",
    "    plt.plot(x, y, label=\"Optimized path\", color=\"red\")\n",
    "    plt.scatter(x[0], y[0], marker='o', color=\"red\")\n",
    "    \n",
    "    obstacle_shape = problem_obj.obstacle_shape\n",
    "    \n",
    "    if obstacle_shape == \"square\":\n",
    "        style = 'k'\n",
    "    else:\n",
    "        style = 'k--'\n",
    "    # square\n",
    "    for cx, cy, rx, ry in zip(problem_obj.cxs, problem_obj.cys, problem_obj.rxs, problem_obj.rys):\n",
    "        plt.plot([cx + rx, cx + rx, cx - rx, cx - rx, cx + rx], [cy -ry, cy + ry, cy + ry, cy - ry, cy - ry], style)\n",
    "\n",
    "\n",
    "for filename in os.listdir(\"frames\"):\n",
    "    file_path = os.path.join(\"frames\", filename)\n",
    "    try:\n",
    "        if os.path.isfile(file_path):  # Check if it's a file\n",
    "            os.remove(file_path)\n",
    "    except OSError as e:\n",
    "        print(f\"Error removing file: {filename} ({e})\")\n",
    "\n",
    "# Create a directory to store the frames (optional)\n",
    "os.makedirs(\"frames\", exist_ok=True)  # Create directory if it doesn't exist\n",
    "\n",
    "# fig = plt.figure()\n",
    "\n",
    "\n",
    "# Generate frames and save them as PNGs\n",
    "for (i, vars), cons, objs in zip(enumerate(tqdm(problem_obj.video_combined_vars)), problem_obj.video_constraint_violation, problem_obj.video_objective):\n",
    "    # # Create a figure (assuming fom.plot creates its own figure)\n",
    "    # fig, _ = plt.subplots()  # Create a dummy subplot (not used)\n",
    "    \n",
    "    # # Call fom.plot to generate your FEM solution plot on the figure\n",
    "    # fom.plot(state)  # This might create a new figure by default\n",
    "    \n",
    "    # Now create subplots within the existing figure\n",
    "    fig, (ax1, ax2, ax3) = plt.subplots(nrows=1, ncols=3, figsize=(15, 5), figure=fig)\n",
    "    \n",
    "    # fig, (ax1, ax2, ax3) = plt.subplots(nrows=1, ncols=3, figsize=(10, 5))\n",
    "    plt.sca(ax2)\n",
    "    plt.title(\"OED-A + Regularization Objective\")\n",
    "    plt.xlabel(\"IPOPT Iteration\")\n",
    "    plt.plot(problem_obj.video_objective)\n",
    "    plt.scatter([i], [problem_obj.video_objective[i]])\n",
    "\n",
    "    plt.sca(ax3)\n",
    "    plt.title(\"Magnitude of constraint violations (L2 norm)\")\n",
    "    plt.xlabel(\"IPOPT Iteration\")\n",
    "    plt.plot(np.linalg.norm(problem_obj.video_constraint_violation, axis=1))\n",
    "    plt.scatter([i], [np.linalg.norm(problem_obj.video_constraint_violation[i])])\n",
    "    plt.yscale('log')\n",
    "    \n",
    "    plt.sca(ax1)\n",
    "    plt.title(\"Observation path\")\n",
    "    plt.xlim([-0,1])\n",
    "    plt.ylim([-0,1])\n",
    "    fom.plot(state)\n",
    "    generate_plot(vars, cons, objs)\n",
    "\n",
    "    plt.savefig(f\"frames/frame_{i + 1:04d}.png\")\n",
    "    # plt.show()\n",
    "    plt.clf()  # Clear the figure to avoid overlapping plots\n",
    "\n",
    "# Use moviepy to combine the frames into a video (replace 'my_video.mp4' with your desired filename)\n",
    "# clip = ImageSequenceClip(\"frames/*.png\", fps=10)  # Adjust frame rate (fps) as needed\n",
    "# clip = ImageSequenceClip(os.path.join(\"frames\", \"*.png\"), fps=10)\n",
    "# clip = ImageSequenceClip(os.path.abspath(\"frames/*.png\"), fps=10)\n",
    "clip = ImageSequenceClip(os.path.abspath(\"frames\"), fps=10)\n",
    "clip.write_videofile(\"my_video.mp4\")\n",
    "\n",
    "print(\"Video frames generated and saved as my_video.mp4\")\n",
    "        \n",
    "\n",
    "# plt.figure(figsize=(3,3))\n",
    "# plt.plot(grid_t_drone, v, label=\"Velocity\")\n",
    "# plt.plot(grid_t_drone, omega, label=\"Angular Velocity\")\n",
    "# plt.legend()"
   ]
  },
  {
   "cell_type": "markdown",
   "id": "b28afe91-fae7-458f-af53-a3a5b411842c",
   "metadata": {},
   "source": [
    "# Debugging"
   ]
  },
  {
   "cell_type": "code",
   "execution_count": null,
   "id": "53ae4b12-a30a-49c8-9312-a29d92feeb96",
   "metadata": {},
   "outputs": [],
   "source": [
    "from scipy.sparse import coo_array\n",
    "from functools import cached_property\n",
    "\n",
    "class Objective:\n",
    "    def __init__(self):\n",
    "        self.x0 = 0.8\n",
    "        self.y0 = 0.8\n",
    "        self.theta0 = 0.0\n",
    "        self.x_final = 0.0\n",
    "        self.y_final = 0.0\n",
    "        self.theta_final = np.pi\n",
    "        \n",
    "        # # Obstacles\n",
    "        # self.cxs = [0.5, 0.4, -0.01]\n",
    "        # self.cys = [0.5, 0.0, 0.1]\n",
    "        # self.rxs = [0.35, 0.15, 0.09]\n",
    "        # self.rys = [0.25, 0.15, 0.09]\n",
    "        # self.obstacle_shape = \"circle\"\n",
    "        # Obstacles\n",
    "        self.cxs = []\n",
    "        self.cys = []\n",
    "        self.rxs = []\n",
    "        self.rys = []\n",
    "        self.obstacle_shape = \"circle\"\n",
    "        \n",
    "        # bounds\n",
    "        self.x_lower = 0\n",
    "        self.x_upper = 1\n",
    "        self.y_lower = 0\n",
    "        self.y_upper = 1\n",
    "        self.theta_lower = -1000\n",
    "        self.theta_upper = 1000\n",
    "        self.v_lower = 0.0\n",
    "        self.v_upper = 1\n",
    "        self.acc_lower = -10\n",
    "        self.acc_upper = 10\n",
    "        self.omega_lower = -100*np.pi\n",
    "        self.omega_upper = 100*np.pi\n",
    "        self.omega_acc_lower = -100\n",
    "        self.omega_acc_upper = 100\n",
    "        \n",
    "        self.T = 4.0  # final time\n",
    "        self.NK = 100  # number of time steps\n",
    "        self.h = self.T/self.NK  # time grid spacing\n",
    "        self.reg = 0.001  # regularization term\n",
    "\n",
    "        self.x_shift = 0*self.NK\n",
    "        self.y_shift = 1*self.NK\n",
    "        self.theta_shift = 2*self.NK\n",
    "        self.v_shift = 3*self.NK\n",
    "        self.acc_shift = 4*self.NK\n",
    "        self.omega_shift = 5*self.NK\n",
    "        self.omega_acc_shift = 6*self.NK\n",
    "\n",
    "        self.n = self.NK*7 # number of variables\n",
    "        # self.num_equality_constraints = (self.NK - 1) * 5 + 4\n",
    "        # self.m = self.num_equality_constraints + (self.NK) * len(self.cxs) # self.constraints(jnp.zeros((self.n, ))).shape[0] # number of constraints (also initializes the number of equality/inequality constraints)\n",
    "\n",
    "        self.constraints(jnp.zeros((self.NK * 7,)))\n",
    "\n",
    "    @property\n",
    "    def m(self):\n",
    "        return self.num_equality_constraints + self.num_inequality_constraints\n",
    "        \n",
    "    def var_joiner(self, x, y, theta, v, acc, omega, omega_acc):\n",
    "        \"\"\"Join variables into a single vector\"\"\"\n",
    "        return jnp.concat((x, y, theta, v, acc, omega, omega_acc), axis=0)\n",
    "        \n",
    "    def var_splitter(self, vars):\n",
    "        \"\"\"Split variables from a single vector\"\"\"\n",
    "        x = vars[self.x_shift:self.x_shift + self.NK]\n",
    "        y = vars[self.y_shift:self.y_shift + self.NK]\n",
    "        theta = vars[self.theta_shift:self.theta_shift + self.NK]\n",
    "        v = vars[self.v_shift:self.v_shift + self.NK]\n",
    "        acc = vars[self.acc_shift:self.acc_shift + self.NK]\n",
    "        omega = vars[self.omega_shift:self.omega_shift + self.NK]\n",
    "        omega_acc = vars[self.omega_acc_shift:self.omega_acc_shift + self.NK]\n",
    "        return (x, y, theta, v, acc, omega, omega_acc)\n",
    "        \n",
    "    @property\n",
    "    def lb(self):\n",
    "        \"\"\"Lower bounds on variables\"\"\"\n",
    "        x = self.x_lower*jnp.ones((self.NK,))\n",
    "        y = self.y_lower*jnp.ones((self.NK,))\n",
    "        theta = self.theta_lower*jnp.ones((self.NK,))\n",
    "        v = self.v_lower*jnp.ones((self.NK,))\n",
    "        acc = self.acc_lower*jnp.ones((self.NK,))\n",
    "        omega = self.omega_lower*jnp.ones((self.NK,))\n",
    "        omega_acc = self.omega_acc_lower*jnp.ones((self.NK,))\n",
    "        return jnp.concat((x, y, theta, v, acc, omega, omega_acc), axis=0)\n",
    "        \n",
    "    @property\n",
    "    def ub(self):\n",
    "        \"\"\"Upper bound on variables\"\"\"\n",
    "        x = self.x_upper*jnp.ones((self.NK,))\n",
    "        y = self.y_upper*jnp.ones((self.NK,))\n",
    "        theta = self.theta_upper*jnp.ones((self.NK,))\n",
    "        v = self.v_upper*jnp.ones((self.NK,))\n",
    "        acc = self.acc_upper*jnp.ones((self.NK,))\n",
    "        omega = self.omega_upper*jnp.ones((self.NK,))\n",
    "        omega_acc = self.omega_acc_upper*jnp.ones((self.NK,))\n",
    "        return jnp.concat((x, y, theta, v, acc, omega, omega_acc), axis=0)\n",
    "        \n",
    "    def objective(self, vars):\n",
    "        (x, y, theta, v, acc, omega, omega_acc) = self.var_splitter(vars)\n",
    "        return self.reg*(jnp.sum(v**2) + jnp.sum(omega**2))\n",
    "        \n",
    "    def gradient(self, vars):\n",
    "        \"\"\"Objective function gradient\"\"\"\n",
    "        return jax.grad(self.objective)(vars)\n",
    "\n",
    "    def circle_obstacle(self, x, y, cx, cy, rx, ry):\n",
    "        \"\"\"Circular obstacle\"\"\"\n",
    "        return ((x - cx)/rx)**2 + ((y - cy)/ry)**2 - 1\n",
    "\n",
    "    def diamond_obstacle(self, x, y, cx, cy, rx, ry):\n",
    "        \"\"\"Diamond obstacle\"\"\"\n",
    "        return jnp.abs((x - cx)/rx) + jnp.abs((y - cy)/ry) - 1\n",
    "\n",
    "    def square_obstacle(self, x, y, cx, cy, rx, ry):\n",
    "        \"\"\"Square obstacle\"\"\"\n",
    "        return jnp.abs(((x - cx)/rx + (y - cy)/ry)/2) + jnp.abs(((x - cx)/rx - (y - cy)/ry)/2) - 1\n",
    "\n",
    "    # @jax.jit\n",
    "    def constraints(self, vars):\n",
    "        \"\"\"Values to constrain between cl and cu\"\"\"\n",
    "        # Equality constraints\n",
    "        (x, y, theta, v, acc, omega, omega_acc) = self.var_splitter(vars)\n",
    "        # dae_x = (x[1:] - x[:-1]) - self.h * jnp.cos(theta[:-1]) * v[:-1] # == 0\n",
    "        dae_x = jnp.diff(x) - self.h * jnp.cos(theta[:-1]) * v[:-1] # == 0\n",
    "        # dae_y = (y[1:] - y[:-1]) - self.h * jnp.sin(theta[:-1]) * v[:-1] # == 0\n",
    "        dae_y = jnp.diff(y) - self.h * jnp.sin(theta[:-1]) * v[:-1] # == 0\n",
    "        # dae_theta = (theta[1:] - theta[:-1]) - self.h * omega[:-1] # == 0\n",
    "        dae_theta = jnp.diff(theta) - self.h * omega[:-1] # == 0\n",
    "        # dae_acc = (v[1:] - v[:-1]) - self.h * acc[:-1] # == 0\n",
    "        dae_acc = jnp.diff(v) - self.h * acc[:-1] # == 0\n",
    "        # dae_omega_acc = (omega[1:] - omega[:-1]) - self.h * omega_acc[:-1] # == 0\n",
    "        dae_omega_acc = jnp.diff(omega) - self.h * omega_acc[:-1] # == 0\n",
    "        initial_x = x[0] - self.x0 # == 0\n",
    "        initial_y = y[0] - self.y0 # == 0\n",
    "        final_x = x[-1] - self.x_final # == 0\n",
    "        final_y = y[-1] - self.y_final # == 0\n",
    "        cons = jnp.concat((dae_x, dae_y, dae_theta, dae_acc, dae_omega_acc, jnp.array((initial_x, initial_y, final_x, final_y))), axis = 0)\n",
    "        # cons = jnp.concat((dae_x, dae_y, dae_theta, dae_acc, dae_omega_acc,), axis = 0)\n",
    "        # cons = jnp.array((initial_x, initial_y, final_x, final_y))\n",
    "        # cons = jnp.concat((dae_x, dae_y, dae_theta, jnp.array((initial_x, initial_y, final_x, final_y))), axis = 0)\n",
    "        self.num_equality_constraints = len(cons)\n",
    "        \n",
    "        # Inequality contraints\n",
    "        for (cx, cy, rx, ry) in zip(self.cxs, self.cys, self.rxs, self.rys):\n",
    "            cons = jnp.concat((cons, self.circle_obstacle(x, y, cx, cy, rx, ry))) # >= 0\n",
    "\n",
    "        self.num_inequality_constraints = len(cons) - self.num_equality_constraints\n",
    "        return cons\n",
    "\n",
    "    @property\n",
    "    def cl(self):\n",
    "        \"\"\"Constriant lower bounds\"\"\"\n",
    "        return jnp.zeros((self.m,))\n",
    "\n",
    "    @property\n",
    "    def cu(self):\n",
    "        \"\"\"Constraint upper bounds\"\"\"\n",
    "        upper_bound = np.zeros((self.m,))\n",
    "        upper_bound[self.num_equality_constraints:] = np.inf\n",
    "        return upper_bound\n",
    "\n",
    "    # @jax.jit\n",
    "    def jacobian(self, vars):\n",
    "        \"\"\"Jacobian of constraints\"\"\"\n",
    "        (x, y, theta, v, acc, omega, omega_acc) = self.var_splitter(vars)\n",
    "        return jax.jacfwd(self.constraints)(vars)\n"
   ]
  },
  {
   "cell_type": "code",
   "execution_count": null,
   "id": "b590708d-d623-435a-80df-51572f22498a",
   "metadata": {},
   "outputs": [],
   "source": [
    "from scipy.sparse import coo_array\n",
    "from functools import cached_property\n",
    "\n",
    "class Objective:\n",
    "    def __init__(self):\n",
    "        self.x0 = 0.8\n",
    "        self.y0 = 0.8\n",
    "        self.theta0 = 0.0\n",
    "        self.x_final = 0.0\n",
    "        self.y_final = 0.0\n",
    "        self.theta_final = np.pi\n",
    "        \n",
    "        # Obstacles\n",
    "        self.cxs = [0.5, 0.4, -0.01]\n",
    "        self.cys = [0.5, 0.0, 0.1]\n",
    "        self.rxs = [0.35, 0.15, 0.09]\n",
    "        self.rys = [0.15, 0.15, 0.09]\n",
    "        self.obstacle_shape = \"circle\"\n",
    "        # self.obstacle_shape = \"diamond\"\n",
    "        # self.obstacle_shape = \"square\"\n",
    "        # # Obstacles\n",
    "        # self.cxs = []\n",
    "        # self.cys = []\n",
    "        # self.rxs = []\n",
    "        # self.rys = []\n",
    "        # self.obstacle_shape = \"circle\"\n",
    "        \n",
    "        # bounds\n",
    "        self.x_lower = 0\n",
    "        self.x_upper = 1\n",
    "        self.y_lower = 0\n",
    "        self.y_upper = 1\n",
    "        self.theta_lower = -1000\n",
    "        self.theta_upper = 1000\n",
    "        self.v_lower = 0.0\n",
    "        self.v_upper = 1\n",
    "        self.acc_lower = -10\n",
    "        self.acc_upper = 10\n",
    "        self.omega_lower = -100*np.pi\n",
    "        self.omega_upper = 100*np.pi\n",
    "        self.omega_acc_lower = -100\n",
    "        self.omega_acc_upper = 100\n",
    "        \n",
    "        self.T = 4.0  # final time\n",
    "        self.NK = 50  # number of time steps\n",
    "        self.h = self.T/self.NK  # time grid spacing\n",
    "        self.reg = 0.001  # regularization term\n",
    "\n",
    "        self.x_shift = 0*self.NK\n",
    "        self.y_shift = 1*self.NK\n",
    "        self.theta_shift = 2*self.NK\n",
    "        self.v_shift = 3*self.NK\n",
    "        self.acc_shift = 4*self.NK\n",
    "        self.omega_shift = 5*self.NK\n",
    "        self.omega_acc_shift = 6*self.NK\n",
    "\n",
    "        self.n = self.NK*7 # number of variables\n",
    "        # self.num_equality_constraints = (self.NK - 1) * 5 + 4\n",
    "        # self.m = self.num_equality_constraints + (self.NK) * len(self.cxs) # self.constraints(jnp.zeros((self.n, ))).shape[0] # number of constraints (also initializes the number of equality/inequality constraints)\n",
    "\n",
    "        self.constraints(np.zeros((self.n,)))\n",
    "\n",
    "    @property\n",
    "    def m(self):\n",
    "        return self.num_equality_constraints + self.num_inequality_constraints\n",
    "\n",
    "    def var_joiner(self, x, y, theta, v, acc, omega, omega_acc):\n",
    "        \"\"\"Join variables into a single vector\"\"\"\n",
    "        return np.concatenate((x, y, theta, v, acc, omega, omega_acc), axis=0)\n",
    "        \n",
    "    def var_splitter(self, vars):\n",
    "        \"\"\"Split variables from a single vector\"\"\"\n",
    "        x = vars[self.x_shift:self.x_shift + self.NK]\n",
    "        y = vars[self.y_shift:self.y_shift + self.NK]\n",
    "        theta = vars[self.theta_shift:self.theta_shift + self.NK]\n",
    "        v = vars[self.v_shift:self.v_shift + self.NK]\n",
    "        acc = vars[self.acc_shift:self.acc_shift + self.NK]\n",
    "        omega = vars[self.omega_shift:self.omega_shift + self.NK]\n",
    "        omega_acc = vars[self.omega_acc_shift:self.omega_acc_shift + self.NK]\n",
    "        # y = vars[self.NK:2*self.NK]\n",
    "        # theta = vars[2*self.NK:3*self.NK]\n",
    "        # v = vars[3*self.NK:4*self.NK]\n",
    "        # acc = vars[4*self.NK:5*self.NK]\n",
    "        # omega = vars[5*self.NK:6*self.NK]\n",
    "        # omega_acc = vars[6*self.NK:7*self.NK]\n",
    "        return (x, y, theta, v, acc, omega, omega_acc)\n",
    "        \n",
    "    @property\n",
    "    def lb(self):\n",
    "        \"\"\"Lower bounds on variables\"\"\"\n",
    "        x = self.x_lower*np.ones((self.NK,))\n",
    "        y = self.y_lower*np.ones((self.NK,))\n",
    "        theta = self.theta_lower*np.ones((self.NK,))\n",
    "        v = self.v_lower*np.ones((self.NK,))\n",
    "        acc = self.acc_lower*np.ones((self.NK,))\n",
    "        omega = self.omega_lower*np.ones((self.NK,))\n",
    "        omega_acc = self.omega_acc_lower*np.ones((self.NK,))\n",
    "        return np.concatenate((x, y, theta, v, acc, omega, omega_acc), axis=0)\n",
    "        \n",
    "    @property\n",
    "    def ub(self):\n",
    "        \"\"\"Upper bound on variables\"\"\"\n",
    "        x = self.x_upper*np.ones((self.NK,))\n",
    "        y = self.y_upper*np.ones((self.NK,))\n",
    "        theta = self.theta_upper*np.ones((self.NK,))\n",
    "        v = self.v_upper*np.ones((self.NK,))\n",
    "        acc = self.acc_upper*np.ones((self.NK,))\n",
    "        omega = self.omega_upper*np.ones((self.NK,))\n",
    "        omega_acc = self.omega_acc_upper*np.ones((self.NK,))\n",
    "        return np.concatenate((x, y, theta, v, acc, omega, omega_acc), axis=0)\n",
    "        \n",
    "    def objective(self, vars):\n",
    "        (x, y, theta, v, acc, omega, omega_acc) = self.var_splitter(vars)\n",
    "        return self.reg*np.sum(v**2) + self.reg*np.sum(omega**2)\n",
    "        \n",
    "    def gradient(self, vars):\n",
    "        \"\"\"Objective function gradient\"\"\"\n",
    "        (_, _, _, v, _, omega, _) = self.var_splitter(vars)\n",
    "\n",
    "        x = np.zeros(v.shape)\n",
    "        y = np.zeros(v.shape)\n",
    "        theta = np.zeros(v.shape)\n",
    "        v = self.reg*2*v\n",
    "        acc = np.zeros(v.shape)\n",
    "        omega = self.reg*2*omega\n",
    "        omega_acc = np.zeros(v.shape)\n",
    "        \n",
    "        return self.var_joiner(x, y, theta, v, acc, omega, omega_acc)\n",
    "\n",
    "    def circle_obstacle(self, x, y, cx, cy, rx, ry):\n",
    "        \"\"\"Circular obstacle\"\"\"\n",
    "        return ((x - cx)/rx)**2 + ((y - cy)/ry)**2 - 1\n",
    "\n",
    "    def diamond_obstacle(self, x, y, cx, cy, rx, ry):\n",
    "        \"\"\"Diamond obstacle\"\"\"\n",
    "        return np.abs((x - cx)/rx) + np.abs((y - cy)/ry) - 1\n",
    "\n",
    "    def square_obstacle(self, x, y, cx, cy, rx, ry):\n",
    "        \"\"\"Square obstacle\"\"\"\n",
    "        return np.abs(((x - cx)/rx + (y - cy)/ry)/2) + np.abs(((x - cx)/rx - (y - cy)/ry)/2) - 1\n",
    "\n",
    "    # @jax.jit\n",
    "    def constraints(self, vars):\n",
    "        \"\"\"Values to constrain between cl and cu\"\"\"\n",
    "        # Equality constraints\n",
    "        (x, y, theta, v, acc, omega, omega_acc) = self.var_splitter(vars)\n",
    "        dae_x = (x[1:] - x[:-1]) - self.h * np.cos(theta[:-1]) * v[:-1] # == 0\n",
    "        dae_y = (y[1:] - y[:-1]) - self.h * np.sin(theta[:-1]) * v[:-1] # == 0\n",
    "        dae_theta = (theta[1:] - theta[:-1]) - self.h * omega[:-1] # == 0\n",
    "        dae_acc = (v[1:] - v[:-1]) - self.h * acc[:-1] # == 0\n",
    "        dae_omega_acc = (omega[1:] - omega[:-1]) - self.h * omega_acc[:-1] # == 0\n",
    "        initial_x = x[0] - self.x0 # == 0\n",
    "        initial_y = y[0] - self.y0 # == 0\n",
    "        final_x = x[-1] - self.x_final # == 0\n",
    "        final_y = y[-1] - self.y_final # == 0\n",
    "        cons = np.concatenate((dae_x, dae_y, dae_theta, dae_acc, dae_omega_acc, np.array((initial_x, initial_y, final_x, final_y))), axis = 0)\n",
    "        # cons = jnp.array((initial_x, initial_y, final_x, final_y))\n",
    "        # cons = jnp.concat((dae_x, dae_y, dae_theta, jnp.array((initial_x, initial_y, final_x, final_y))), axis = 0)\n",
    "        self.num_equality_constraints = len(cons)\n",
    "        \n",
    "        # Inequality contraints\n",
    "        for (cx, cy, rx, ry) in zip(self.cxs, self.cys, self.rxs, self.rys):\n",
    "            if self.obstacle_shape == \"circle\":\n",
    "                cons = np.concatenate((cons, self.circle_obstacle(x, y, cx, cy, rx, ry)), axis = 0) # >= 0\n",
    "            elif self.obstacle_shape == \"square\":\n",
    "                cons = np.concatenate((cons, self.square_obstacle(x, y, cx, cy, rx, ry)), axis = 0) # >= 0\n",
    "            elif self.obstacle_shape == \"diamond\":\n",
    "                cons = np.concatenate((cons, self.diamond_obstacle(x, y, cx, cy, rx, ry)), axis = 0) # >= 0\n",
    "\n",
    "        self.num_inequality_constraints = len(cons) - self.num_equality_constraints\n",
    "        return cons\n",
    "\n",
    "    @property\n",
    "    def cl(self):\n",
    "        \"\"\"Constriant lower bounds\"\"\"\n",
    "        return np.zeros((self.m,))\n",
    "\n",
    "    @property\n",
    "    def cu(self):\n",
    "        \"\"\"Constraint upper bounds\"\"\"\n",
    "        upper_bound = np.zeros((self.m,))\n",
    "        upper_bound[self.num_equality_constraints:] = np.inf\n",
    "        return upper_bound\n",
    "\n",
    "    \n",
    "    def jacobianstructure(self):\n",
    "        return self.memoized_jac_structure\n",
    "    \n",
    "    @cached_property\n",
    "    def memoized_jac_structure(self) -> tuple[np.ndarray,np.ndarray]:\n",
    "        # (x, y, theta, v, acc, omega, omega_acc) = self.var_splitter(vars)\n",
    "        # return jax.experimental.sparse.jacfwd(self.contraints)(x)\n",
    "        # return jax.jacfwd(self.constraints)(vars)\n",
    "        rows = []\n",
    "        columns = []\n",
    "        # values = []\n",
    "        row = 0\n",
    "        for i in range(self.NK - 1):\n",
    "            columns += [i + 1 + self.x_shift, i + self.x_shift, i + self.theta_shift, i + self.v_shift]\n",
    "            rows += [row]*4\n",
    "            # values += [1, -1, self.h * jnp.sin(theta[i]) * v[i], -self.h * jnp.cos(theta[i])]\n",
    "            row += 1\n",
    "        for i in range(self.NK - 1):\n",
    "            columns += [i + 1 + self.y_shift, i + self.y_shift, i + self.theta_shift, i + self.v_shift]\n",
    "            rows += [row]*4\n",
    "            # values += [1, -1, -self.h * jnp.cos(theta[i]) * v[i], -self.h * jnp.sin(theta[i])]\n",
    "            row += 1\n",
    "        for i in range(self.NK - 1):\n",
    "            columns += [i + 1 + self.theta_shift, i + self.theta_shift, i + self.omega_shift]\n",
    "            rows += [row]*3\n",
    "            # values += [1, -1, -self.h]\n",
    "            row += 1\n",
    "        for i in range(self.NK - 1):\n",
    "            columns += [i + 1 + self.v_shift, i + self.v_shift, i + self.acc_shift]\n",
    "            rows += [row]*3\n",
    "            # values += [1, -1, -self.h]\n",
    "            row += 1\n",
    "        for i in range(self.NK - 1):\n",
    "            columns += [i + 1 + self.omega_shift, i + self.omega_shift, i + self.omega_acc_shift]\n",
    "            rows += [row]*3\n",
    "            # values += [1, -1, -self.h]\n",
    "            row += 1\n",
    "        # Initial x\n",
    "        columns += [0 + self.x_shift]\n",
    "        rows += [row]\n",
    "        # values += [1]\n",
    "        row += 1\n",
    "        # Initial y\n",
    "        columns += [0 + self.y_shift]\n",
    "        rows += [row]\n",
    "        # values += [1]\n",
    "        row += 1\n",
    "        # Final x\n",
    "        columns += [self.NK - 1 + self.x_shift]\n",
    "        rows += [row]\n",
    "        # values += [1]\n",
    "        row += 1\n",
    "        # Final y\n",
    "        columns += [self.NK - 1 + self.y_shift]\n",
    "        rows += [row]\n",
    "        # values += [1]\n",
    "        row += 1\n",
    "        # ((x - cx)/rx)**2 + ((y - cy)/ry)**2 - 1\n",
    "        for (cx, cy, rx, ry) in zip(self.cxs, self.cys, self.rxs, self.rys):\n",
    "            for i in range(self.NK):\n",
    "                columns += [i + self.x_shift, i + self.y_shift]\n",
    "                rows += [row, row]\n",
    "                # values += [2/rx*(x[i]-cx)/rx, 2/ry*(y[i]-cy)/ry]\n",
    "                row += 1\n",
    "        return (np.array(rows, dtype=int), np.array(columns, dtype=int))\n",
    "\n",
    "    def jacobian(self, vars):\n",
    "        \"\"\"Jacobian of constraints\"\"\"\n",
    "        (x, y, theta, v, acc, omega, omega_acc) = self.var_splitter(vars)\n",
    "        rows, columns = self.jacobianstructure()\n",
    "        values = np.zeros(rows.shape)\n",
    "        index = 0\n",
    "        for i in range(self.NK - 1):\n",
    "            values[index:index + 4] = [1, -1, self.h * np.sin(theta[i]) * v[i], -self.h * np.cos(theta[i])]\n",
    "            index += 4\n",
    "        for i in range(self.NK - 1):\n",
    "            values[index:index + 4] = [1, -1, -self.h * np.cos(theta[i]) * v[i], -self.h * np.sin(theta[i])]\n",
    "            index += 4\n",
    "        for i in range(self.NK - 1):\n",
    "            values[index:index + 3] = [1, -1, -self.h]\n",
    "            index += 3\n",
    "        for i in range(self.NK - 1):\n",
    "            values[index:index + 3] = [1, -1, -self.h]\n",
    "            index += 3\n",
    "        for i in range(self.NK - 1):\n",
    "            values[index:index + 3] = [1, -1, -self.h]\n",
    "            index += 3\n",
    "        # Initial x\n",
    "        values[index] = 1\n",
    "        index += 1\n",
    "        # Initial y\n",
    "        values[index] = 1\n",
    "        index += 1\n",
    "        # Final x\n",
    "        values[index] = 1\n",
    "        index += 1\n",
    "        # Final y\n",
    "        values[index] = 1\n",
    "        index += 1\n",
    "\n",
    "        for (cx, cy, rx, ry) in zip(self.cxs, self.cys, self.rxs, self.rys):\n",
    "            for i in range(self.NK):\n",
    "                if self.obstacle_shape == \"circle\":\n",
    "                    values[index:index + 2] = [2*(x[i]-cx)/(rx**2), 2*(y[i]-cy)/(ry**2)]\n",
    "                elif self.obstacle_shape == \"square\":\n",
    "                    values[index:index + 2] = [np.sign((x[i]-cx)/rx + (y[i] - cy)/ry)/rx/2 + np.sign((x[i]-cx)/rx - (y[i] - cy)/ry)/rx/2,\n",
    "                                               np.sign((x[i]-cx)/rx + (y[i] - cy)/ry)/ry/2 - np.sign((x[i]-cx)/rx - (y[i] - cy)/ry)/ry/2]\n",
    "                elif self.obstacle_shape == \"diamond\":\n",
    "                    values[index:index + 2] = [np.sign(x[i]-cx)/rx, np.sign(y[i]-cy)/ry]\n",
    "                index += 2\n",
    "        return values\n",
    "\n",
    "    # def hessianstructure(self):\n",
    "    #     return self.memoizedhessianstructure\n",
    "\n",
    "    # @cached_property\n",
    "    # def memoizedhessianstructure(self):\n",
    "    #     hess = {}\n",
    "    #     for i in range(self.NK):\n",
    "    #         hess[(i + self.v_shift, i + self.v_shift)] = 1\n",
    "    #         hess[(i + self.omega_shift, i + self.omega_shift)] = 1\n",
    "    #         # Diagonal with 2*self.reg in v and omega regions, 0 elsewhere\n",
    "\n",
    "    #     for i in range(self.NK - 1):\n",
    "    #         hess[(i + self.theta_shift, i + self.theta_shift)] = 1\n",
    "    #         hess[(i + self.v_shift, i + self.theta_shift)] = 1\n",
    "    #     for j, (cx, cy, rx, ry) in enumerate(zip(self.cxs, self.cys, self.rxs, self.rys)):\n",
    "    #         for i in range(self.NK):\n",
    "    #             hess[(i + self.x_shift, i + self.x_shift)] = hess.get((i + self.x_shift, i + self.x_shift), 0) + 1\n",
    "    #             hess[(i + self.y_shift, i + self.y_shift)] = hess.get((i + self.y_shift, i + self.y_shift), 0) + 1\n",
    "    #     rows = [index[0] for index in hess.keys()]\n",
    "    #     columns = [index[1] for index in hess.keys()]\n",
    "    #     return (np.array(rows, dtype=int), np.array(columns, dtype=int))\n",
    "        \n",
    "    # def hessian(self, vars, lagrange, objective_factor):\n",
    "    #     \"\"\"\n",
    "    #     Returns the non-zero values of the lagrangian Hessian.\n",
    "\n",
    "    #     Lower diagonal entries only; matrix vector products;\n",
    "    #     Arguments are:\n",
    "    #         vars : variables\n",
    "    #         lagrange : lagrange multipliers\n",
    "    #         objective_factor : some representation of the objective\n",
    "    #     \"\"\"\n",
    "    #     (x, y, theta, v, acc, omega, omega_acc) = self.var_splitter(vars)\n",
    "    #     hess = {}\n",
    "    #     for i in range(self.NK):\n",
    "    #         hess[(i + self.v_shift, i + self.v_shift)] = 2 * self.reg * objective_factor #[i + self.v_shift]\n",
    "    #         hess[(i + self.omega_shift, i + self.omega_shift)] = 2 * self.reg * objective_factor #[i + self.omega_shift]\n",
    "    #         # Diagonal with 2*self.reg in v and omega regions, 0 elsewhere\n",
    "\n",
    "    #     for i in range(self.NK - 1):\n",
    "    #         hess[(i + self.theta_shift, i + self.theta_shift)] = self.h * jnp.cos(theta[i]) * v[i] * lagrange[i] + self.h * jnp.sin(theta[i]) * v[i] * lagrange[i + 1*(self.NK - 1)]\n",
    "    #         hess[(i + self.theta_shift, i + self.v_shift)] = self.h * jnp.sin(theta[i]) * lagrange[i] - self.h * jnp.cos(theta[i]) * lagrange[i + 1*(self.NK - 1)]\n",
    "    #     for j, (cx, cy, rx, ry) in enumerate(zip(self.cxs, self.cys, self.rxs, self.rys)):\n",
    "    #         for i in range(self.NK):\n",
    "    #             hess[(i + self.x_shift, i + self.x_shift)] = hess.get((i + self.x_shift, i + self.x_shift), 0.0) + 2/(rx**2) * lagrange[i + 4 + 5*(self.NK - 1) + j*self.NK]\n",
    "    #             hess[(i + self.y_shift, i + self.y_shift)] = hess.get((i + self.y_shift, i + self.y_shift), 0.0) + 2/(ry**2) * lagrange[i + 4 + 5*(self.NK - 1) + j*self.NK]\n",
    "    #     return np.array(list(hess.values()))\n",
    "    #     # obj_hess = jax.jacrev(jax.jacfwd(self.objective)))\n",
    "    #     # return jax.hessian(self.objective)(vars) * v[0]\n"
   ]
  },
  {
   "cell_type": "code",
   "execution_count": null,
   "id": "9c187705-d832-4653-916b-d024be0384ab",
   "metadata": {},
   "outputs": [],
   "source": [
    "problem_obj = Objective()\n",
    "\n",
    "problem = cyipopt.Problem(\n",
    "    n = problem_obj.n,  # Number of decision variables\n",
    "    m = problem_obj.m,  # Number of constraints\n",
    "    problem_obj = problem_obj,  # Objective object with \"objective\" and \"gradient\" functions\n",
    "    lb = problem_obj.lb,  # Lower bounds for x\n",
    "    ub = problem_obj.ub,  # Upper bounds for x\n",
    "    cl = problem_obj.cl,  # Lower bound for constraints\n",
    "    cu = problem_obj.cu,  # Lower bound for constraints\n",
    ")"
   ]
  },
  {
   "cell_type": "code",
   "execution_count": null,
   "id": "34e5b846-a543-4884-a13d-0acae557ec8d",
   "metadata": {},
   "outputs": [],
   "source": [
    "# # Set the initial guess for the decision variables\n",
    "# initial_x = jnp.linspace(problem_obj.x0, 0.0, problem_obj.NK)\n",
    "# initial_y = jnp.linspace(problem_obj.y0, 0.0, problem_obj.NK)\n",
    "# initial_theta = jnp.arctan2(np.diff(initial_y, append=0.),np.diff(initial_x, append=0.))\n",
    "# initial_v = jnp.ones(initial_x.shape)\n",
    "# initial_acc = jnp.ones(initial_x.shape)\n",
    "# initial_omega = jnp.ones(initial_x.shape)\n",
    "# initial_omega_acc = jnp.ones(initial_x.shape)\n",
    "\n",
    "# Set the initial guess for the decision variables\n",
    "initial_x = np.linspace(problem_obj.x0, 0.0, problem_obj.NK)\n",
    "initial_y = np.linspace(problem_obj.y0, 0.0, problem_obj.NK)\n",
    "initial_theta = np.arctan2(np.diff(initial_y, append=0.),np.diff(initial_x, append=0.))\n",
    "initial_v = np.ones(initial_x.shape)\n",
    "initial_acc = np.ones(initial_x.shape)\n",
    "initial_omega = np.ones(initial_x.shape)\n",
    "initial_omega_acc = np.ones(initial_x.shape)\n",
    "\n",
    "x0 = problem_obj.var_joiner(initial_x, initial_y, initial_theta, initial_v, initial_acc, initial_omega, initial_omega_acc)"
   ]
  },
  {
   "cell_type": "code",
   "execution_count": null,
   "id": "c8e6e962-1437-4c4a-b1ec-99288e1bc29b",
   "metadata": {},
   "outputs": [],
   "source": [
    "# plt.figure()\n",
    "# plt.imshow(jnp.log(jnp.abs(problem_obj.jacobian(x0))))\n",
    "# plt.imshow(jnp.abs(problem_obj.jacobian(x0))>0)\n",
    "jac_v = problem_obj.jacobian(x0)\n",
    "r, c = problem_obj.jacobianstructure()\n",
    "jac = np.zeros((problem_obj.m, problem_obj.n))\n",
    "for rv, cv, vv in zip(r, c, jac_v):\n",
    "    jac[rv, cv] = vv\n",
    "cons = problem_obj.constraints(x0)\n",
    "# print(jac[-1,9])\n",
    "# print(cons)\n",
    "jac_finite_diff = np.zeros(jac.shape)\n",
    "h = 1e-8\n",
    "for var in range(x0.shape[0]):\n",
    "    dx = np.zeros(x0.shape)\n",
    "    dx[var] = h\n",
    "    jac_finite_diff[:,var] = (problem_obj.constraints(x0 + dx) - problem_obj.constraints(x0 - dx))/2/h\n",
    "\n",
    "# plt.scatter(problem_obj.memoized_jac_structure[1], problem_obj.memoized_jac_structure[0], s = 0.1, c=\"red\")\n",
    "\n",
    "# plt.figure()\n",
    "# plt.imshow(jnp.abs(jac_finite_diff)>0)"
   ]
  },
  {
   "cell_type": "code",
   "execution_count": null,
   "id": "7ebc9311-a6c3-44f9-b27c-c7b86b9f3017",
   "metadata": {},
   "outputs": [],
   "source": [
    "jac_finite_diff"
   ]
  },
  {
   "cell_type": "code",
   "execution_count": null,
   "id": "6819f307-a04d-4813-99b2-66ad0462deab",
   "metadata": {},
   "outputs": [],
   "source": [
    "vals = np.reshape(np.abs(jac - jac_finite_diff)/np.abs(jac_finite_diff), (-1,))\n",
    "vals = np.reshape(np.abs(jac - jac_finite_diff)/np.abs(jac), (-1,))\n",
    "# vals = np.reshape(jac/jac_finite_diff, (-1,))\n",
    "vals = vals[~np.isnan(vals)]\n",
    "vals = vals[np.isfinite(vals)]\n",
    "np.max(vals)"
   ]
  },
  {
   "cell_type": "code",
   "execution_count": null,
   "id": "f41a05bf-9ce8-4a86-a038-b47057b03225",
   "metadata": {
    "scrolled": true
   },
   "outputs": [],
   "source": [
    "problem.add_option(\"hessian_approximation\", \"limited-memory\")\n",
    "problem.add_option(\"derivative_test\", \"first-order\")  # Values are [constraint_index, variable_index] = provided value ~ estimated value [relative or absolute difference]\n",
    "problem.add_option(\"derivative_test_perturbation\", 1e-8)\n",
    "# Solve the problem\n",
    "solution, info = problem.solve(x0)\n",
    "# solution, info = problem.solve(solution)\n",
    "\n",
    "# Print the solution\n",
    "# print(f\"Solution: {solution}\")\n",
    "print(f\"Objective value: {info['obj_val']}\")"
   ]
  },
  {
   "cell_type": "code",
   "execution_count": null,
   "id": "70e3f3bf-ca96-4165-bda8-b05d114b41f5",
   "metadata": {},
   "outputs": [],
   "source": [
    "(x, y, theta, v, acc, omega, omega_acc) = problem_obj.var_splitter(solution)\n",
    "\n",
    "\n",
    "plt.figure()\n",
    "plt.plot(x, y, label=\"Optimized path\")\n",
    "plt.scatter(x, y)\n",
    "plt.scatter(x[0], y[0], marker='*')\n",
    "plt.scatter(problem_obj.x0, problem_obj.y0, marker='*')\n",
    "plt.xlim([-0,1])\n",
    "plt.ylim([-0,1])\n",
    "\n",
    "plt.plot(initial_x, initial_y, label=\"Initial path\")\n",
    "\n",
    "obstacle_shape = problem_obj.obstacle_shape\n",
    "\n",
    "if obstacle_shape == \"circle\":\n",
    "    style = 'k'\n",
    "else:\n",
    "    style = 'k--'\n",
    "# circle\n",
    "t = np.linspace(0, 2*np.pi, 100)\n",
    "for cx, cy, rx, ry in zip(problem_obj.cxs, problem_obj.cys, problem_obj.rxs, problem_obj.rys):\n",
    "    plt.plot(rx*np.cos(t) + cx, ry*np.sin(t) + cy, style)\n",
    "\n",
    "if obstacle_shape == \"diamond\":\n",
    "    style = 'k'\n",
    "else:\n",
    "    style = 'k--'\n",
    "# diamond\n",
    "for cx, cy, rx, ry in zip(problem_obj.cxs, problem_obj.cys, problem_obj.rxs, problem_obj.rys):\n",
    "    plt.plot([cx, cx + rx, cx, cx - rx, cx], [cy + ry, cy, cy - ry, cy, cy + ry], style)\n",
    "\n",
    "if obstacle_shape == \"square\":\n",
    "    style = 'k'\n",
    "else:\n",
    "    style = 'k--'\n",
    "# square\n",
    "for cx, cy, rx, ry in zip(problem_obj.cxs, problem_obj.cys, problem_obj.rxs, problem_obj.rys):\n",
    "    plt.plot([cx + rx, cx + rx, cx - rx, cx - rx, cx + rx], [cy -ry, cy + ry, cy + ry, cy - ry, cy - ry], style)\n",
    "\n",
    "# for poly in polygons:\n",
    "#     plt.plot(poly.vertices[:,0], poly.vertices[:,1])\n",
    "\n",
    "plt.legend()\n",
    "\n",
    "plt.figure()\n",
    "plt.plot(v, label=\"Velocity\")\n",
    "plt.plot(omega, label=\"Angular Velocity\")\n",
    "plt.legend()"
   ]
  },
  {
   "cell_type": "code",
   "execution_count": 8,
   "id": "21379f88-7a5c-4971-a14e-d4633ed35882",
   "metadata": {},
   "outputs": [
    {
     "name": "stdout",
     "output_type": "stream",
     "text": [
      "[1 2 3 4 5 6 7 8 9]\n",
      "Variables(var1=Array([1, 2, 3], dtype=int64), var2=Array([4, 5], dtype=int64), var3=Array([6, 7, 8, 9], dtype=int64))\n"
     ]
    }
   ],
   "source": [
    "import jax.numpy as jnp\n",
    "from collections import namedtuple\n",
    "\n",
    "# Define a namedtuple to hold the individual variables\n",
    "Variables = namedtuple('Variables', ['var1', 'var2', 'var3'])\n",
    "\n",
    "class VariableContainer:\n",
    "    def __init__(self, variables, var_lengths):\n",
    "        self.variables = variables\n",
    "        self.var_lengths = var_lengths\n",
    "\n",
    "    def from_vector(self, vector):\n",
    "        split_indices = [sum(self.var_lengths[:i]) for i in range(1, len(self.var_lengths))]\n",
    "        split_vars = jnp.split(vector, split_indices)\n",
    "        return VariableContainer(Variables(*split_vars), self.var_lengths)\n",
    "\n",
    "    def to_vector(self):\n",
    "        return jnp.concatenate(self.variables)\n",
    "\n",
    "# Example usage\n",
    "var1 = jnp.array([1, 2, 3])\n",
    "var2 = jnp.array([4, 5])\n",
    "var3 = jnp.array([6, 7, 8, 9])\n",
    "\n",
    "var_lengths = [len(var1), len(var2), len(var3)]\n",
    "container = VariableContainer(Variables(var1, var2, var3), var_lengths)\n",
    "combined_vector = container.to_vector()\n",
    "print(combined_vector)\n",
    "# combined_vector is [1, 2, 3, 4, 5, 6, 7, 8, 9]\n",
    "\n",
    "container_from_vector = container.from_vector(combined_vector)\n",
    "print(container_from_vector.variables)\n",
    "# container_from_vector.variables is Variables(var1=[1, 2, 3], var2=[4, 5], var3=[6, 7, 8, 9])"
   ]
  },
  {
   "cell_type": "code",
   "execution_count": 9,
   "id": "94fddbb9-296b-49e5-a46d-4d15d31d8141",
   "metadata": {},
   "outputs": [],
   "source": [
    "from collections import namedtuple\n",
    "DAE_vars = namedtuple(\"DAE_vars\", [\"x\", \"y\", \"theta\", \"v\", \"acc\", \"omega\", \"omega_acc\"])"
   ]
  },
  {
   "cell_type": "code",
   "execution_count": 12,
   "id": "9f60d30d-f3d2-4108-acc3-c87c4be1675c",
   "metadata": {},
   "outputs": [
    {
     "data": {
      "text/plain": [
       "array([ 1,  3,  6, 10, 15, 21, 28])"
      ]
     },
     "execution_count": 12,
     "metadata": {},
     "output_type": "execute_result"
    }
   ],
   "source": [
    "np.cumsum(DAE_vars(1,2,3,4,5,6,7))"
   ]
  },
  {
   "cell_type": "code",
   "execution_count": 23,
   "id": "32d99e3b-de03-4f76-8615-c53570100f18",
   "metadata": {},
   "outputs": [
    {
     "name": "stdout",
     "output_type": "stream",
     "text": [
      "DAE_vars(x=50, y=50, theta=50, v=50, acc=50, omega=50, omega_acc=50)\n",
      "DAE_vars(x=50, y=100, theta=150, v=200, acc=250, omega=300, omega_acc=350)\n",
      "(50, 100, 150, 200, 250, 300)\n",
      "DAE_vars(x=array([ 0,  1,  2,  3,  4,  5,  6,  7,  8,  9, 10, 11, 12, 13, 14, 15, 16,\n",
      "       17, 18, 19, 20, 21, 22, 23, 24, 25, 26, 27, 28, 29, 30, 31, 32, 33,\n",
      "       34, 35, 36, 37, 38, 39, 40, 41, 42, 43, 44, 45, 46, 47, 48, 49]), y=array([50, 51, 52, 53, 54, 55, 56, 57, 58, 59, 60, 61, 62, 63, 64, 65, 66,\n",
      "       67, 68, 69, 70, 71, 72, 73, 74, 75, 76, 77, 78, 79, 80, 81, 82, 83,\n",
      "       84, 85, 86, 87, 88, 89, 90, 91, 92, 93, 94, 95, 96, 97, 98, 99]), theta=array([100, 101, 102, 103, 104, 105, 106, 107, 108, 109, 110, 111, 112,\n",
      "       113, 114, 115, 116, 117, 118, 119, 120, 121, 122, 123, 124, 125,\n",
      "       126, 127, 128, 129, 130, 131, 132, 133, 134, 135, 136, 137, 138,\n",
      "       139, 140, 141, 142, 143, 144, 145, 146, 147, 148, 149]), v=array([150, 151, 152, 153, 154, 155, 156, 157, 158, 159, 160, 161, 162,\n",
      "       163, 164, 165, 166, 167, 168, 169, 170, 171, 172, 173, 174, 175,\n",
      "       176, 177, 178, 179, 180, 181, 182, 183, 184, 185, 186, 187, 188,\n",
      "       189, 190, 191, 192, 193, 194, 195, 196, 197, 198, 199]), acc=array([200, 201, 202, 203, 204, 205, 206, 207, 208, 209, 210, 211, 212,\n",
      "       213, 214, 215, 216, 217, 218, 219, 220, 221, 222, 223, 224, 225,\n",
      "       226, 227, 228, 229, 230, 231, 232, 233, 234, 235, 236, 237, 238,\n",
      "       239, 240, 241, 242, 243, 244, 245, 246, 247, 248, 249]), omega=array([250, 251, 252, 253, 254, 255, 256, 257, 258, 259, 260, 261, 262,\n",
      "       263, 264, 265, 266, 267, 268, 269, 270, 271, 272, 273, 274, 275,\n",
      "       276, 277, 278, 279, 280, 281, 282, 283, 284, 285, 286, 287, 288,\n",
      "       289, 290, 291, 292, 293, 294, 295, 296, 297, 298, 299]), omega_acc=array([300, 301, 302, 303, 304, 305, 306, 307, 308, 309, 310, 311, 312,\n",
      "       313, 314, 315, 316, 317, 318, 319, 320, 321, 322, 323, 324, 325,\n",
      "       326, 327, 328, 329, 330, 331, 332, 333, 334, 335, 336, 337, 338,\n",
      "       339, 340, 341, 342, 343, 344, 345, 346, 347, 348, 349]))\n"
     ]
    }
   ],
   "source": [
    "x = np.linspace(1,50)\n",
    "y = np.linspace(1,50)\n",
    "theta = np.linspace(1,50)\n",
    "v = np.linspace(1,50)\n",
    "acc = np.linspace(1,50)\n",
    "omega = np.linspace(1,50)\n",
    "omega_acc = np.linspace(1,50)\n",
    "\n",
    "vars = DAE_vars(x, y, theta, v, acc, omega, omega_acc)\n",
    "\n",
    "variable_lengths = DAE_vars(*tuple(len(var) for var in vars))\n",
    "print(variable_lengths)\n",
    "length_cumsum = DAE_vars(*tuple(np.cumsum(variable_lengths)))\n",
    "print(length_cumsum)\n",
    "print(length_cumsum[:-1])\n",
    "indices = DAE_vars(*tuple(np.arange(l_cs - l, l_cs, 1, dtype = int) for l_cs, l in zip(length_cumsum, variable_lengths)))\n",
    "print(indices)"
   ]
  },
  {
   "cell_type": "code",
   "execution_count": 28,
   "id": "7b8fdc44-59e4-457c-87d9-9b69ea7b9d03",
   "metadata": {},
   "outputs": [
    {
     "name": "stdout",
     "output_type": "stream",
     "text": [
      "[ 1.  2.  3.  4.  5.  6.  7.  8.  9. 10. 11. 12. 13. 14. 15. 16. 17. 18.\n",
      " 19. 20. 21. 22. 23. 24. 25. 26. 27. 28. 29. 30. 31. 32. 33. 34. 35. 36.\n",
      " 37. 38. 39. 40. 41. 42. 43. 44. 45. 46. 47. 48. 49. 50.  1.  2.  3.  4.\n",
      "  5.  6.  7.  8.  9. 10. 11. 12. 13. 14. 15. 16. 17. 18. 19. 20. 21. 22.\n",
      " 23. 24. 25. 26. 27. 28. 29. 30. 31. 32. 33. 34. 35. 36. 37. 38. 39. 40.\n",
      " 41. 42. 43. 44. 45. 46. 47. 48. 49. 50.  1.  2.  3.  4.  5.  6.  7.  8.\n",
      "  9. 10. 11. 12. 13. 14. 15. 16. 17. 18. 19. 20. 21. 22. 23. 24. 25. 26.\n",
      " 27. 28. 29. 30. 31. 32. 33. 34. 35. 36. 37. 38. 39. 40. 41. 42. 43. 44.\n",
      " 45. 46. 47. 48. 49. 50.  1.  2.  3.  4.  5.  6.  7.  8.  9. 10. 11. 12.\n",
      " 13. 14. 15. 16. 17. 18. 19. 20. 21. 22. 23. 24. 25. 26. 27. 28. 29. 30.\n",
      " 31. 32. 33. 34. 35. 36. 37. 38. 39. 40. 41. 42. 43. 44. 45. 46. 47. 48.\n",
      " 49. 50.  1.  2.  3.  4.  5.  6.  7.  8.  9. 10. 11. 12. 13. 14. 15. 16.\n",
      " 17. 18. 19. 20. 21. 22. 23. 24. 25. 26. 27. 28. 29. 30. 31. 32. 33. 34.\n",
      " 35. 36. 37. 38. 39. 40. 41. 42. 43. 44. 45. 46. 47. 48. 49. 50.  1.  2.\n",
      "  3.  4.  5.  6.  7.  8.  9. 10. 11. 12. 13. 14. 15. 16. 17. 18. 19. 20.\n",
      " 21. 22. 23. 24. 25. 26. 27. 28. 29. 30. 31. 32. 33. 34. 35. 36. 37. 38.\n",
      " 39. 40. 41. 42. 43. 44. 45. 46. 47. 48. 49. 50.  1.  2.  3.  4.  5.  6.\n",
      "  7.  8.  9. 10. 11. 12. 13. 14. 15. 16. 17. 18. 19. 20. 21. 22. 23. 24.\n",
      " 25. 26. 27. 28. 29. 30. 31. 32. 33. 34. 35. 36. 37. 38. 39. 40. 41. 42.\n",
      " 43. 44. 45. 46. 47. 48. 49. 50.]\n",
      "(array([ 1.,  2.,  3.,  4.,  5.,  6.,  7.,  8.,  9., 10., 11., 12., 13.,\n",
      "       14., 15., 16., 17., 18., 19., 20., 21., 22., 23., 24., 25., 26.,\n",
      "       27., 28., 29., 30., 31., 32., 33., 34., 35., 36., 37., 38., 39.,\n",
      "       40., 41., 42., 43., 44., 45., 46., 47., 48., 49., 50.]), array([ 1.,  2.,  3.,  4.,  5.,  6.,  7.,  8.,  9., 10., 11., 12., 13.,\n",
      "       14., 15., 16., 17., 18., 19., 20., 21., 22., 23., 24., 25., 26.,\n",
      "       27., 28., 29., 30., 31., 32., 33., 34., 35., 36., 37., 38., 39.,\n",
      "       40., 41., 42., 43., 44., 45., 46., 47., 48., 49., 50.]), array([ 1.,  2.,  3.,  4.,  5.,  6.,  7.,  8.,  9., 10., 11., 12., 13.,\n",
      "       14., 15., 16., 17., 18., 19., 20., 21., 22., 23., 24., 25., 26.,\n",
      "       27., 28., 29., 30., 31., 32., 33., 34., 35., 36., 37., 38., 39.,\n",
      "       40., 41., 42., 43., 44., 45., 46., 47., 48., 49., 50.]))\n"
     ]
    }
   ],
   "source": [
    "combined_vars = np.concatenate((x, y, theta, v, acc, omega, omega_acc), axis=0)\n",
    "print(combined_vars)\n",
    "DAE_vars(*tuple(np.split(combined_vars, length_cumsum[:-1])))\n",
    "\n",
    "def foo(*args):\n",
    "    print(args)\n",
    "\n",
    "foo(x, y, theta)"
   ]
  },
  {
   "cell_type": "code",
   "execution_count": 46,
   "id": "1770f307-422e-40e2-a05c-d37a9c862bdc",
   "metadata": {},
   "outputs": [],
   "source": [
    "import cyipopt\n",
    "import numpy as np\n",
    "\n",
    "class HS071(cyipopt.Problem):\n",
    "\n",
    "    def objective(self, x):\n",
    "        \"\"\"Returns the scalar value of the objective given x.\"\"\"\n",
    "        return x[0] * x[3] * np.sum(x[0:3]) + x[2]\n",
    "\n",
    "    def gradient(self, x):\n",
    "        \"\"\"Returns the gradient of the objective with respect to x.\"\"\"\n",
    "        return np.array([\n",
    "            x[0]*x[3] + x[3]*np.sum(x[0:3]),\n",
    "            x[0]*x[3],\n",
    "            x[0]*x[3] + 1.0,\n",
    "            x[0]*np.sum(x[0:3])\n",
    "        ])\n",
    "\n",
    "    def constraints(self, x):\n",
    "        \"\"\"Returns the constraints.\"\"\"\n",
    "        return np.array((np.prod(x), np.dot(x, x)))\n",
    "\n",
    "    def jacobian(self, x):\n",
    "        \"\"\"Returns the Jacobian of the constraints with respect to x.\"\"\"\n",
    "        return np.concatenate((np.prod(x)/x, 2*x))\n",
    "\n",
    "    def hessianstructure(self):\n",
    "        \"\"\"Returns the row and column indices for non-zero vales of the\n",
    "        Hessian.\"\"\"\n",
    "\n",
    "        # NOTE: The default hessian structure is of a lower triangular matrix,\n",
    "        # therefore this function is redundant. It is included as an example\n",
    "        # for structure callback.\n",
    "\n",
    "        return np.nonzero(np.tril(np.ones((4, 4))))\n",
    "\n",
    "    def hessian(self, x, lagrange, obj_factor):\n",
    "        \"\"\"Returns the non-zero values of the Hessian.\"\"\"\n",
    "\n",
    "        H = obj_factor*np.array((\n",
    "            (2*x[3], 0, 0, 0),\n",
    "            (x[3],   0, 0, 0),\n",
    "            (x[3],   0, 0, 0),\n",
    "            (2*x[0]+x[1]+x[2], x[0], x[0], 0)))\n",
    "\n",
    "        H += lagrange[0]*np.array((\n",
    "            (0, 0, 0, 0),\n",
    "            (x[2]*x[3], 0, 0, 0),\n",
    "            (x[1]*x[3], x[0]*x[3], 0, 0),\n",
    "            (x[1]*x[2], x[0]*x[2], x[0]*x[1], 0)))\n",
    "\n",
    "        H += lagrange[1]*2*np.eye(4)\n",
    "\n",
    "        row, col = self.hessianstructure()\n",
    "\n",
    "        return H[row, col]\n",
    "\n",
    "    def intermediate(self, alg_mod, iter_count, obj_value, inf_pr, inf_du, mu,\n",
    "                     d_norm, regularization_size, alpha_du, alpha_pr,\n",
    "                     ls_trials):\n",
    "        \"\"\"Prints information at every Ipopt iteration.\"\"\"\n",
    "        iterate = self.get_current_iterate()\n",
    "        infeas = self.get_current_violations()\n",
    "        primal = iterate[\"x\"]\n",
    "        jac = self.jacobian(primal)\n",
    "\n",
    "        print(\"Iteration:\", iter_count)\n",
    "        print(\"Primal iterate:\", primal)\n",
    "        print(\"Flattened Jacobian:\", jac)\n",
    "        print(\"Dual infeasibility:\", infeas[\"grad_lag_x\"])"
   ]
  },
  {
   "cell_type": "code",
   "execution_count": 47,
   "id": "8838f844-5c07-45d6-8bcb-0ab25116ef6f",
   "metadata": {},
   "outputs": [
    {
     "name": "stdout",
     "output_type": "stream",
     "text": [
      "Iteration: 0\n",
      "Primal iterate: [1.00999999 4.96000005 4.96000005 1.00999999]\n",
      "Flattened Jacobian: [24.84761625  5.05969595  5.05969595 24.84761625  2.01999998  9.9200001\n",
      "  9.9200001   2.01999998]\n",
      "Dual infeasibility: [ 0.49897406 -0.49774462  0.50225538 -0.52112592]\n",
      "This is Ipopt version 3.14.12, running with linear solver MUMPS 5.2.1.\n",
      "\n",
      "Number of nonzeros in equality constraint Jacobian...:        4\n",
      "Number of nonzeros in inequality constraint Jacobian.:        4\n",
      "Number of nonzeros in Lagrangian Hessian.............:        0\n",
      "\n",
      "Total number of variables............................:        4\n",
      "                     variables with only lower bounds:        0\n",
      "                variables with lower and upper bounds:        4\n",
      "                     variables with only upper bounds:        0\n",
      "Total number of equality constraints.................:        1\n",
      "Total number of inequality constraints...............:        1\n",
      "        inequality constraints with only lower bounds:        1\n",
      "   inequality constraints with lower and upper bounds:        0\n",
      "        inequality constraints with only upper bounds:        0\n",
      "\n",
      "iter    objective    inf_pr   inf_du lg(mu)  ||d||  lg(rg) alpha_du alpha_pr  ls\n",
      "   0  1.6109693e+01 1.12e+01 5.28e-01   0.0 0.00e+00    -  0.00e+00 0.00e+00 Iteration: 1\n",
      "Primal iterate: [1.14565517 4.38369305 4.34560148 1.15573017]\n",
      "Flattened Jacobian: [22.01640893  5.75387291  5.80430875 21.82448238  2.29131034  8.7673861\n",
      "  8.69120296  2.31146034]\n",
      "Dual infeasibility: [23.95957714  3.18403271  3.96986278 22.63237812]\n",
      "  0\n",
      "   1  1.7420709e+01 7.49e-01 2.40e+01  -0.3 8.13e-01    -  3.20e-01 1.00e+00f  1\n",
      "Iteration: 2\n",
      "Primal iterate: [1.14693506 4.66076687 3.97535312 1.17152228]\n",
      "Flattened Jacobian: [21.70619228  5.3415229   6.26248592 21.25063547  2.29387012  9.32153374\n",
      "  7.95070625  2.34304456]\n",
      "Dual infeasibility: [0.20033838 0.013686   0.07029125 0.16397818]\n",
      "   2  1.7120453e+01 2.14e-01 2.00e-01  -0.6 1.02e+00    -  9.97e-01 1.00e+00h  1\n",
      "Iteration: 3\n",
      "Primal iterate: [1.05277379 4.70811199 3.88536165 1.28934149]\n",
      "Flattened Jacobian: [23.5855599   5.2739313   6.39072021 19.25809372  2.10554757  9.41622398\n",
      "  7.77072329  2.57868297]\n",
      "Dual infeasibility: [-0.05152713  0.02371488 -0.00547978 -0.08494863]\n",
      "   3  1.6979032e+01 1.70e-01 8.49e-02  -1.6 1.18e-01    -  9.72e-01 1.00e+00h  1\n",
      "Iteration: 4\n",
      "Primal iterate: [1.00284917 4.74180637 3.82722616 1.36942571]\n",
      "Flattened Jacobian: [24.85229038  5.25603468  6.51205278 18.19967202  2.00569834  9.48361275\n",
      "  7.65445232  2.73885142]\n",
      "Dual infeasibility: [ 0.00736356 -0.01202488 -0.01175326  0.00180544]\n",
      "   4  1.6972554e+01 7.69e-02 1.20e-02  -3.2 8.01e-02    -  1.00e+00 1.00e+00h  1\n",
      "Iteration: 5\n",
      "Primal iterate: [1.00003891 4.7438968  3.8200283  1.37946146]\n",
      "Flattened Jacobian: [24.99835239  5.26978687  6.54427744 18.12252513  2.00007782  9.48779359\n",
      "  7.64005661  2.75892293]\n",
      "Dual infeasibility: [ 0.0094997  -0.00424018 -0.00494619  0.00414023]\n",
      "   5  1.7013661e+01 6.75e-04 9.50e-03  -4.9 1.00e-02    -  1.00e+00 1.00e+00h  1\n",
      "Iteration: 6\n",
      "Primal iterate: [1.00000068 4.74302312 3.82111979 1.37941142]\n",
      "Flattened Jacobian: [24.99998284  5.27089984  6.54258467 18.12367178  2.00000135  9.48604623\n",
      "  7.64223959  2.75882283]\n",
      "Dual infeasibility: [ 2.85341312e-05 -3.48741858e-04 -3.49371383e-04 -1.72412662e-04]\n",
      "   6  1.7014018e+01 1.96e-06 3.49e-04  -6.1 1.09e-03    -  1.00e+00 1.00e+00h  1\n",
      "\n",
      "Number of Iterations....: 6\n",
      "\n",
      "                                   (scaled)                 (unscaled)\n",
      "Objective...............:   1.7014017584614020e+01    1.7014017584614020e+01\n",
      "Dual infeasibility......:   3.4937138326681256e-04    3.4937138326681256e-04\n",
      "Constraint violation....:   1.9586358916967583e-06    1.9586358916967583e-06\n",
      "Variable bound violation:   0.0000000000000000e+00    0.0000000000000000e+00\n",
      "Complementarity.........:   8.3723003453854101e-07    8.3723003453854101e-07\n",
      "Overall NLP error.......:   3.4937138326681256e-04    3.4937138326681256e-04\n",
      "\n",
      "\n",
      "Number of objective function evaluations             = 7\n",
      "Number of objective gradient evaluations             = 7\n",
      "Number of equality constraint evaluations            = 7\n",
      "Number of inequality constraint evaluations          = 7\n",
      "Number of equality constraint Jacobian evaluations   = 7\n",
      "Number of inequality constraint Jacobian evaluations = 7\n",
      "Number of Lagrangian Hessian evaluations             = 0\n",
      "Total seconds in IPOPT                               = 0.032\n",
      "\n",
      "EXIT: Optimal Solution Found.\n"
     ]
    }
   ],
   "source": [
    "lb = [1.0, 1.0, 1.0, 1.0]\n",
    "ub = [5.0, 5.0, 5.0, 5.0]\n",
    "\n",
    "cl = [25.0, 40.0]\n",
    "cu = [2.0e19, 40.0]\n",
    "\n",
    "x0 = [1.0, 5.0, 5.0, 1.0]\n",
    "\n",
    "nlp = HS071(\n",
    "    n=len(x0),\n",
    "    m=len(cl),\n",
    "    lb=lb,\n",
    "    ub=ub,\n",
    "    cl=cl,\n",
    "    cu=cu,\n",
    ")\n",
    "\n",
    "nlp.add_option(\"hessian_approximation\", \"limited-memory\")\n",
    "nlp.add_option(\"tol\", 1e-3)\n",
    "nlp.add_option(\"max_iter\", 600)\n",
    "\n",
    "x, info = nlp.solve(x0)"
   ]
  },
  {
   "cell_type": "code",
   "execution_count": 48,
   "id": "c732c00f-303d-4f6b-923d-6d4f143da958",
   "metadata": {},
   "outputs": [
    {
     "ename": "AttributeError",
     "evalue": "'HS071' object has no attribute '__in_ipopt_solve'",
     "output_type": "error",
     "traceback": [
      "\u001b[0;31m---------------------------------------------------------------------------\u001b[0m",
      "\u001b[0;31mAttributeError\u001b[0m                            Traceback (most recent call last)",
      "Cell \u001b[0;32mIn[48], line 1\u001b[0m\n\u001b[0;32m----> 1\u001b[0m \u001b[43mnlp\u001b[49m\u001b[38;5;241;43m.\u001b[39;49m\u001b[43m__in_ipopt_solve\u001b[49m\n",
      "\u001b[0;31mAttributeError\u001b[0m: 'HS071' object has no attribute '__in_ipopt_solve'"
     ]
    }
   ],
   "source": [
    "nlp.__in_ipopt_solve"
   ]
  }
 ],
 "metadata": {
  "kernelspec": {
   "display_name": "Python 3 (ipykernel)",
   "language": "python",
   "name": "python3"
  },
  "language_info": {
   "codemirror_mode": {
    "name": "ipython",
    "version": 3
   },
   "file_extension": ".py",
   "mimetype": "text/x-python",
   "name": "python",
   "nbconvert_exporter": "python",
   "pygments_lexer": "ipython3",
   "version": "3.12.0"
  }
 },
 "nbformat": 4,
 "nbformat_minor": 5
}
