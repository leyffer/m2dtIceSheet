{
 "cells": [
  {
   "cell_type": "markdown",
   "id": "b3617ec6",
   "metadata": {},
   "source": [
    "# Infinite-dimensional parameter space\n",
    "In all notebooks so far, we have considered a low-dimensional parameter space ($\\mathbb{R}^5$ or smaller). This was to make code-development and testing easier. In this notebook, we finally consider parameter fields. We probably won't look at them in their full extend, computations get a lot more difficult and the focus on our paper is on the optimization, but at least in the sense that we connect the infinite-dimensional setting to our existing code via active subspaces."
   ]
  },
  {
   "cell_type": "markdown",
   "id": "afd08dc1",
   "metadata": {},
   "source": [
    "## Imports"
   ]
  },
  {
   "cell_type": "code",
   "execution_count": 1,
   "id": "97a2adb3",
   "metadata": {},
   "outputs": [],
   "source": [
    "import sys\n",
    "sys.path.insert(0, \"../source/\")\n",
    "sys.path.insert(0, \"../models/AdvectionDiffusion/settings/AdvectionDiffusion_FEniCS\")\n",
    "sys.path.insert(0, \"../models/AdvectionDiffusion/Navigators\")\n",
    "sys.path.insert(0, \"../models/AdvectionDiffusion/Detectors\")\n",
    "\n",
    "import numpy as np\n",
    "import matplotlib.pyplot as plt\n",
    "import scipy.linalg as la\n",
    "\n",
    "from InverseProblem import InverseProblem\n",
    "# from InverseProblemBayesNeumann import InverseProblemBayesNeumann as InverseProblem\n",
    "# from InverseProblemBayesDirichlet import InverseProblemBayesDirichlet as InverseProblem\n",
    "\n",
    "from FOM_stationary import FOM_stationary as FOM\n",
    "from OEDUtility import OEDUtility\n",
    "from Drone import Drone as Drone\n",
    "\n",
    "from DetectorPointwise import DetectorPointwise as Detector\n",
    "# from DetectorUniform import DetectorUniform\n",
    "# from DetectorGaussian import DetectorGaussian\n",
    "# from DetectorTruncGaussian import DetectorTruncGaussian\n",
    "from NavigationCircle import NavigationCircle as Navigation\n",
    "\n",
    "import time\n",
    "tStart_notebook = time.time()"
   ]
  },
  {
   "cell_type": "markdown",
   "id": "ace3af87",
   "metadata": {},
   "source": [
    "## User settings"
   ]
  },
  {
   "cell_type": "code",
   "execution_count": 2,
   "id": "8514112c",
   "metadata": {},
   "outputs": [],
   "source": [
    "meshDim = 50  # discretization parameter (1D) for FOM\n",
    "polyDim = 3"
   ]
  },
  {
   "cell_type": "markdown",
   "id": "3b95ea0f",
   "metadata": {},
   "source": [
    "## Setup"
   ]
  },
  {
   "cell_type": "code",
   "execution_count": 3,
   "id": "909aca28",
   "metadata": {},
   "outputs": [
    {
     "name": "stdout",
     "output_type": "stream",
     "text": [
      "Runtime of this block: 2.102800130844116 s\n"
     ]
    }
   ],
   "source": [
    "# initialize full-order model\n",
    "tStart = time.time()\n",
    "fom = FOM(meshDim = meshDim, centers=[], polyDim=polyDim)\n",
    "print(\"Runtime of this block: {} s\".format(time.time()-tStart))"
   ]
  },
  {
   "cell_type": "markdown",
   "id": "8a2505ad",
   "metadata": {},
   "source": [
    "## Parameter field"
   ]
  },
  {
   "cell_type": "code",
   "execution_count": null,
   "id": "b0a2ae94",
   "metadata": {},
   "outputs": [],
   "source": []
  },
  {
   "cell_type": "code",
   "execution_count": null,
   "id": "2af6ff71",
   "metadata": {},
   "outputs": [],
   "source": []
  },
  {
   "cell_type": "code",
   "execution_count": null,
   "id": "60d431c6",
   "metadata": {},
   "outputs": [],
   "source": []
  },
  {
   "cell_type": "code",
   "execution_count": null,
   "id": "8e069da6",
   "metadata": {},
   "outputs": [],
   "source": []
  }
 ],
 "metadata": {
  "kernelspec": {
   "display_name": "Python 3 (ipykernel)",
   "language": "python",
   "name": "python3"
  },
  "language_info": {
   "codemirror_mode": {
    "name": "ipython",
    "version": 3
   },
   "file_extension": ".py",
   "mimetype": "text/x-python",
   "name": "python",
   "nbconvert_exporter": "python",
   "pygments_lexer": "ipython3",
   "version": "3.10.0"
  }
 },
 "nbformat": 4,
 "nbformat_minor": 5
}
