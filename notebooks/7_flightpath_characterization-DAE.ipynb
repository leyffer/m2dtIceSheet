{
 "cells": [
  {
   "cell_type": "markdown",
   "id": "daaaced1",
   "metadata": {},
   "source": [
    "# Flightpath characterization\n",
    "In this notebook we look at the characterization of the flight path through the Discrete Algebraic Equations, and show how to optimize over it."
   ]
  },
  {
   "cell_type": "markdown",
   "id": "72966556",
   "metadata": {},
   "source": [
    "## Imports"
   ]
  },
  {
   "cell_type": "code",
   "execution_count": 1,
   "id": "be7ae23d",
   "metadata": {},
   "outputs": [],
   "source": [
    "import sys\n",
    "sys.path.insert(0, \"../source/\")\n",
    "sys.path.insert(0, \"../source/Noise/\")\n",
    "sys.path.insert(0, \"../models/AdvectionDiffusion/settings/AdvectionDiffusion_FEniCS\")\n",
    "sys.path.insert(0, \"../models/AdvectionDiffusion/Navigators\")\n",
    "sys.path.insert(0, \"../models/AdvectionDiffusion/Detectors\")\n",
    "\n",
    "import numpy as np\n",
    "import matplotlib.pyplot as plt\n",
    "import scipy.linalg as la\n",
    "import scipy.sparse as sparse\n",
    "\n",
    "from InverseProblem import InverseProblem\n",
    "from NoiseBayes import NoiseBayes as Noise\n",
    "\n",
    "from FOM_stationary import FOM_stationary as FOM\n",
    "from OEDUtility import OEDUtility\n",
    "from Drone import Drone as Drone\n",
    "\n",
    "from DetectorPointwise import DetectorPointwise\n",
    "from DetectorUniform import DetectorUniform\n",
    "from DetectorGaussian import DetectorGaussian\n",
    "from DetectorTruncGaussian import DetectorTruncGaussian\n",
    "\n",
    "# specify which navigation class we are using\n",
    "from NavigationDAE import NavigationDAE as Navigation\n",
    "\n",
    "from Optimization.Optimization import Optimization as Optimizer\n",
    "from Constraints import Constraints\n",
    "from Flight import Flight\n",
    "\n",
    "import time\n",
    "tStart_notebook = time.time()"
   ]
  },
  {
   "cell_type": "markdown",
   "id": "73a6e252",
   "metadata": {},
   "source": [
    "## User settings"
   ]
  },
  {
   "cell_type": "markdown",
   "id": "89973e65",
   "metadata": {},
   "source": [
    "These are essentially the only settings the user needs to provide to run this notebook. We have:\n",
    "- `centers`: the positions around which the parameter basis functions (gaussians) are centered. The goal of the inverse problem is to determine the scaling for each basiss function from measurements. `centers` is a list which can contain an arbitrary number of centers, each center being a list of x-value and y-value. Make sure to only choose centers that are within the modelled domain.\n",
    "- `n_steps`: number of time steps for the flight path discretization\n",
    "- `t_final`: final time for the flight (flight starts at t=0)\n",
    "- `meshDim`: the meshing parameter for the discretization of the forward model. This is _not_ the final dimension of the forward model, just _approximately_ how many nodes are distributed in x- and y-direction. The mesh itself is unstructured. A convergence analysis for how much the utility function and its gradient changes w.r.t. the mesh discretization is provided in notebook 3.\n",
    "- `polyDim`: Polynomial degree for the finite element basis functions. For the gradients of the utility functions it is beneficial to choose `polyDim` $\\ge 2$, otherwise the gradients are piecewise constant. \n",
    "- `para_true`: parameter at which we take measurements for illustration purposes below. Does _not_ change the optimization, just the visualization below. `para_true` needs to have as many entries as there are centers in `centers`."
   ]
  },
  {
   "cell_type": "code",
   "execution_count": 2,
   "id": "381d92ec",
   "metadata": {},
   "outputs": [],
   "source": [
    "centers = [[0.6, 0.4], [0.4, 0.6]]\n",
    "\n",
    "n_steps = 500\n",
    "t_final = 1\n",
    "\n",
    "meshDim = 20  # discretization parameter (1D) for FOM\n",
    "polyDim = 3\n",
    "\n",
    "para_true = np.ones((len(centers),))\n",
    "\n",
    "utility_mode = \"A\" # choose between \"A\" and \"D\""
   ]
  },
  {
   "cell_type": "markdown",
   "id": "dde7f0eb",
   "metadata": {},
   "source": [
    "## Setup"
   ]
  },
  {
   "cell_type": "markdown",
   "id": "3371ff2e",
   "metadata": {},
   "source": [
    "We first initialize the **forward model** (parameter to state). In the imports above we have loaded in `FOM_stationary` under the name `FOM`. This is our stationary diffusion-advection-reaction model."
   ]
  },
  {
   "cell_type": "code",
   "execution_count": 3,
   "id": "1afd60ba",
   "metadata": {},
   "outputs": [
    {
     "name": "stdout",
     "output_type": "stream",
     "text": [
      "Runtime of this block: 0.3562190532684326 s\n"
     ]
    }
   ],
   "source": [
    "tStart = time.time()\n",
    "\n",
    "# initialize full-order model\n",
    "fom = FOM(meshDim = meshDim, centers=centers, polyDim=polyDim)\n",
    "n_para = fom.n_para\n",
    "\n",
    "print(\"Runtime of this block: {} s\".format(time.time()-tStart))"
   ]
  },
  {
   "cell_type": "markdown",
   "id": "45aaeeb3",
   "metadata": {},
   "source": [
    "For nicer visualization below we compute one solution of the forward model at `para_true`. This also gives us an idea how long the preprocessing for the computing the utility functions is going to take (about `n_para` times as long, as we need to solve the PDE once for each parameter)."
   ]
  },
  {
   "cell_type": "code",
   "execution_count": 4,
   "id": "1be2f0a4",
   "metadata": {},
   "outputs": [
    {
     "name": "stdout",
     "output_type": "stream",
     "text": [
      "Compute-time for one PDE forward solve: 5.37288498878479 s\n"
     ]
    }
   ],
   "source": [
    "tStart = time.time()\n",
    "\n",
    "# compute one solution for nicer visualization below\n",
    "state = fom.solve(parameter=para_true)\n",
    "\n",
    "print(\"Compute-time for one PDE forward solve: {} s\".format(time.time()-tStart))"
   ]
  },
  {
   "cell_type": "markdown",
   "id": "bcb8d983",
   "metadata": {},
   "source": [
    "Here's what the solution looks like, in case you'd still like to go back and change the position of the pullutant sources."
   ]
  },
  {
   "cell_type": "code",
   "execution_count": 5,
   "id": "b99b27c6",
   "metadata": {},
   "outputs": [
    {
     "data": {
      "text/plain": [
       "<matplotlib.tri._tricontour.TriContourSet at 0x143d09ac0>"
      ]
     },
     "execution_count": 5,
     "metadata": {},
     "output_type": "execute_result"
    },
    {
     "data": {
      "image/png": "[encoded data removed]",
      "text/plain": [
       "<Figure size 200x200 with 1 Axes>"
      ]
     },
     "metadata": {},
     "output_type": "display_data"
    }
   ],
   "source": [
    "fig, ax = plt.subplots(1,1, figsize = (2,2))\n",
    "fom.plot(state, ax=ax)"
   ]
  },
  {
   "cell_type": "markdown",
   "id": "644eed4f",
   "metadata": {},
   "source": [
    "Next is the **prior** (Bayesian setting) or **parameter regularization** (deterministic setting). Either case works analogously and is done with the same code. In the code below we are using a Gaussian prior centered around 0, and with the identity matrix as covariance matrix, but the user can feel free to choose a different prior mean, covariance matrix, or scale the importance of the prior with the scaling parameter `var_prior`. The only constraints are that `prior_mean` is an array of length `n_para` (the number of uncertain parameters), `prior_covar` is symmetric positive definite of size `n_para` $\\times$ `n_para`, and `var_prior` is strictly positive."
   ]
  },
  {
   "cell_type": "code",
   "execution_count": 6,
   "id": "338995b0",
   "metadata": {},
   "outputs": [
    {
     "name": "stdout",
     "output_type": "stream",
     "text": [
      "Runtime of this block: 0.00022125244140625 s\n"
     ]
    }
   ],
   "source": [
    "tStart = time.time()\n",
    "\n",
    "# optional user settings:\n",
    "var_prior = 1 # set to a high value (1e+6) to test convergence in noise-free situations\n",
    "prior_mean = np.zeros((n_para,))\n",
    "prior_covar = var_prior*np.eye(n_para)\n",
    "\n",
    "# set a prior\n",
    "fom.set_prior(prior_mean=prior_mean, prior_covar=prior_covar)\n",
    "\n",
    "print(\"Runtime of this block: {} s\".format(time.time()-tStart))"
   ]
  },
  {
   "cell_type": "markdown",
   "id": "c589965f",
   "metadata": {},
   "source": [
    "Next are the initialization of\n",
    "- `navigation`: the part of the code that manages how controls are interpreted, and how they translate to positions in the domain, i.e., the control-to-parameter map. Above, we imported `NavigationDAE` as `Navigation`, which is our navigation class that uses the discrete algebraic equations to compute the positions.\n",
    "- `detector`: the part of teh code that manages how measurements are taken. In the code block below we are using pointwise measurements to keep everything fast via testing, but other measurement types can be chosen by switching out `DetectorPointwise`. See notebooks 2 and 6 for an overview. Mind though - the convolution type measurements take a bit longer to compute.\n",
    "- `drone`: an interface between the forward model `fom`, the navigation, and the detector so that we don't need to carry them around with us individually."
   ]
  },
  {
   "cell_type": "code",
   "execution_count": 7,
   "id": "12282240",
   "metadata": {},
   "outputs": [
    {
     "name": "stdout",
     "output_type": "stream",
     "text": [
      "Runtime of this block: 0.00026488304138183594 s\n"
     ]
    }
   ],
   "source": [
    "tStart = time.time()\n",
    "\n",
    "# NavigationDAE was imported as Navigation\n",
    "navigation = Navigation(grid_t = np.linspace(0, t_final, n_steps))\n",
    "\n",
    "# point-wise measurements\n",
    "detector = DetectorPointwise(fom)\n",
    "\n",
    "# initialize drone\n",
    "drone = Drone(detector=detector, navigation=navigation, fom=fom)\n",
    "\n",
    "print(\"Runtime of this block: {} s\".format(time.time()-tStart))"
   ]
  },
  {
   "cell_type": "markdown",
   "id": "84a03ede",
   "metadata": {},
   "source": [
    "The noise model is again an optional user setting. The deterministic and the Bayesian setting are very similar, except that we require the diffusion coefficient in the Bayesian setting to be positive in order to make the noise covariance operator trace class. It's somewhat confusing, I really haven't found a good explanation yet. For `c_scaling = 1e+3`, `c_diffusion = 1`, the signal-to-noise ratio is, on average, approximately 20. If `c_diffusion = 0`, we are in the setting currently described in the manuscript (deterministic setting).\n",
    "\n",
    "While the structure of the inverse problem is analogue for the different scaling, they actually have very interesting effects on the optimal flight path: When including diffusion, the optimal flight path likes to touch boundaries where the measurements are only noise. This lets the inverse problem get an estimate how large the noise must be in the surrounding area. Somehow, with the diffusion, the inverse problem is also more sensitive to the drone flying outside of the domain due to the boundary conditions in the time domain (see notebook `test_derivative` in the subfolder `checks`)."
   ]
  },
  {
   "cell_type": "code",
   "execution_count": 8,
   "id": "1f88da1f",
   "metadata": {},
   "outputs": [
    {
     "name": "stdout",
     "output_type": "stream",
     "text": [
      "Runtime of this block: 0.004975080490112305 s\n"
     ]
    }
   ],
   "source": [
    "tStart = time.time()\n",
    "\n",
    "# deterministic setting\n",
    "noise = Noise(grid_t = drone.grid_t)\n",
    "noise.parameterize_noise_model(c_scaling = 1e+3, c_diffusion = 0)\n",
    "\n",
    "# set noise model\n",
    "inversion = InverseProblem(fom, drone, noise=noise)\n",
    "\n",
    "print(\"Runtime of this block: {} s\".format(time.time()-tStart))"
   ]
  },
  {
   "cell_type": "markdown",
   "id": "aacf2fda",
   "metadata": {},
   "source": [
    "Finally, we initialize the `OEDutility` class, which contains all the code about evaluating the A- or D-OED utility function for a given posterior distribution."
   ]
  },
  {
   "cell_type": "code",
   "execution_count": 9,
   "id": "1b40a1ed",
   "metadata": {},
   "outputs": [],
   "source": [
    "# initialize utility functions\n",
    "utility = OEDUtility(default_mode=utility_mode)"
   ]
  },
  {
   "cell_type": "markdown",
   "id": "66638708",
   "metadata": {},
   "source": [
    "## Path characterization"
   ]
  },
  {
   "cell_type": "markdown",
   "id": "3b5a9355",
   "metadata": {},
   "source": [
    "For the DAE flightpath characterization, a flightpath is uniquely defined by:\n",
    "- the initial position `initial`, containing the x- and y- coordinate at time t=0, and the initial heading (in radians). Hence, `initial` is an array with 3 entries.\n",
    "- the velocity `velocity` at each time step, discretized to an array with `n_steps` entries. Even though we have a stationary model, the velocity is still important because it gives a local weight to the measurements, especially in combination with the noise model (slower velocity means more time is taken to take measurements). However, if we want to treat the flightpath just as a parameterized curve, we can just keep the velocity constant. That's also easiest to interpret.\n",
    "- the velocity `angular_velocity` with which the heading of the drone changes in time.\n",
    "\n",
    "The three control parameters `initial`, `velocity`, and `angular_velocity` are collected in our control parameter `alpha`."
   ]
  },
  {
   "cell_type": "code",
   "execution_count": 10,
   "id": "9a9f6fd5",
   "metadata": {},
   "outputs": [],
   "source": [
    "initial = np.array([0.7, 0.3, 2])\n",
    "velocity = np.array([0.8]*n_steps)\n",
    "angular_velocity = np.array([1]*n_steps)\n",
    "\n",
    "alpha = np.hstack([initial, velocity, angular_velocity])"
   ]
  },
  {
   "cell_type": "markdown",
   "id": "147db4bc",
   "metadata": {},
   "source": [
    "By solving the ODE\n",
    "$$\n",
    "\\dot{x} = v ~cos(\\theta), \\qquad  \\dot{y} = v ~ sin(\\theta), \\qquad \\dot{\\theta} = \\omega\n",
    "$$\n",
    "with velocity $v$ and angular velocity $\\omega$ for the $x$ and $y$ positions of the drone and its heading $\\theta$, we obtain the flightpath $p(t) = (x(t), y(t))$.\n",
    "In the `NavigationDAE` class, the ODE is currently solved using forward Euler time-stepping. To get the flightpath for the provided initial condition, velocity, and angular velocity, we just ask the drone to plan out the corresponding flfight:"
   ]
  },
  {
   "cell_type": "code",
   "execution_count": 11,
   "id": "1982715e",
   "metadata": {},
   "outputs": [
    {
     "data": {
      "text/plain": [
       "(-0.05, 1.05)"
      ]
     },
     "execution_count": 11,
     "metadata": {},
     "output_type": "execute_result"
    },
    {
     "data": {
      "image/png": "[encoded data removed]",
      "text/plain": [
       "<Figure size 900x300 with 2 Axes>"
      ]
     },
     "metadata": {},
     "output_type": "display_data"
    }
   ],
   "source": [
    "# compute flight\n",
    "flight = drone.plan_flight(alpha=alpha, grid_t=drone.grid_t)  # Flight object\n",
    "flightpath, grid_t, valid_positions = flight.get_positions()  # path and its time discretization\n",
    "\n",
    "# measure data\n",
    "data = drone.measure(flight=flight, state=state)\n",
    "\n",
    "fig, axs = plt.subplots(1, 2, figsize = (9, 3))\n",
    "fom.plot(state, ax=axs[0])\n",
    "axs[1].plot(flightpath[:, 0], flightpath[:, 1], color=\"r\")\n",
    "axs[1].plot([flightpath[0, 0]], [flightpath[0, 1]], color=\"r\", marker=\"s\")\n",
    "axs[1].plot([flightpath[-1, 0]], [flightpath[-1, 1]], color=\"r\", marker=\"d\")\n",
    "\n",
    "axs[0].plot(grid_t, data)\n",
    "axs[0].set_xlabel(\"time (drone is flying)\")\n",
    "axs[0].set_ylabel(\"measurement\")\n",
    "axs[0].set_title(\"point-wise measurement along flightpath\")\n",
    "axs[0].set_xlim(grid_t[0]-0.05, grid_t[-1]+0.05)"
   ]
  },
  {
   "cell_type": "markdown",
   "id": "7c52f49d",
   "metadata": {},
   "source": [
    "It is _very, very important_ that we are not just treating missing measurements as zero. Remember that we are using a correlated noise model. Substituting missing measurements with zero is not the same as taking them out. For this reason, each flight contains, in addition to its positions `flightpath` at any time in the time discretization `grid_t`, also the array `valid_positions` which contains for each time step whether the path is at a valid positions for taking measurements. If not, then the code for computing the posterior distribution will disregard those parts of the measurements. As this means less measurements are obtained, this usually means that the utility function is larger and the optimization thus avoids these areas (even when no obstacles are enforced)."
   ]
  },
  {
   "cell_type": "markdown",
   "id": "d6d57b0f",
   "metadata": {},
   "source": [
    "To compute the posterior distribution for any flightpath, we call the inverse problem `inversion`. Note that since we have a linear parameter-to-state map, the posterior covariance matrix is independent from the measurements, and we can compute it without actually specifying measurement data:"
   ]
  },
  {
   "cell_type": "code",
   "execution_count": 12,
   "id": "4dcd9377",
   "metadata": {},
   "outputs": [
    {
     "name": "stderr",
     "output_type": "stream",
     "text": [
      "/Users/nicole/git/m2dtIceSheet/notebooks/../source/InverseProblem.py:240: UserWarning: InverseProblem.get_states: No saved states. Computing and saving with standard basis.\n",
      "  warnings.warn(\n"
     ]
    },
    {
     "name": "stdout",
     "output_type": "stream",
     "text": [
      "A-OED: 1.734271286532421\n",
      "D-OED: 0.7505496743361169\n",
      "E-OED: 0.9042105604824076\n",
      "\n",
      "Posterior covariance matrix:\n",
      " [[ 0.87467936 -0.03629934]\n",
      " [-0.03629934  0.85959193]]\n"
     ]
    }
   ],
   "source": [
    "# compute posterior\n",
    "posterior_ref = inversion.compute_posterior(alpha=alpha)\n",
    "util_ref = [utility.eval_utility(posterior_ref, mode=\"A\"), utility.eval_utility(posterior_ref, mode=\"D\")]\n",
    "\n",
    "print(\"A-OED:\", util_ref[0])\n",
    "print(\"D-OED:\", util_ref[1])\n",
    "print(\"E-OED:\", utility.eval_utility(posterior_ref, mode=\"E\"))\n",
    "\n",
    "print(\"\\nPosterior covariance matrix:\\n\", posterior_ref.compute_covariance())"
   ]
  },
  {
   "cell_type": "markdown",
   "id": "1123c0de",
   "metadata": {},
   "source": [
    "If we would  indeedlike to solve the inverse problem for given measurement data, we can of course still do that:"
   ]
  },
  {
   "cell_type": "code",
   "execution_count": 13,
   "id": "93c51116",
   "metadata": {},
   "outputs": [
    {
     "name": "stdout",
     "output_type": "stream",
     "text": [
      "prior mean:      [0. 0.]\n",
      "posterior mean:  [0.16161997 0.17670741]\n",
      "true parameter:  [1. 1.]\n"
     ]
    }
   ],
   "source": [
    "print(\"prior mean:     \", prior_mean)\n",
    "print(\"posterior mean: \", posterior_ref.compute_mean(data))\n",
    "print(\"true parameter: \", para_true)"
   ]
  },
  {
   "cell_type": "markdown",
   "id": "914f3bf5",
   "metadata": {},
   "source": [
    "In our code above, we have a relatively strong prior in comparison to our data. To see convergence towards the true parameter, increase `var_prior` (larger variance in the prior, i.e., prior is less strong), or decrease the scaling parameter `c_scaling` in the noise model (noise model is less dominant). In these cases our computations above converge towards the true parameter in the limit since we did not perturb the measurement data with any noise. In a real-world setting, this would of course not be the case but it's always good for testing and checking."
   ]
  },
  {
   "cell_type": "markdown",
   "id": "521f06b0",
   "metadata": {},
   "source": [
    "## Optimization"
   ]
  },
  {
   "cell_type": "markdown",
   "id": "e7501bcb",
   "metadata": {},
   "source": [
    "### Constraints\n",
    "For the optimization, we want to set some constraints on the control parameters and make sure the flightpath positions do not end up outside the modelled domain. Since the control parameters are encoded in `navigation`, we use its functionality to check control constraints. This way, all the information is kept in one place and we do not end up with conflicting implementations."
   ]
  },
  {
   "cell_type": "markdown",
   "id": "075e41a1",
   "metadata": {},
   "source": [
    "First, we define the lower and upper limits for the controls. This is done through `navigation.set_control_bounds`. We have a lower bound and an upper bound each for the initial x position, initial y position, initial heading, velocity at all time steps, and angular velocity at all time steps. If we want to restrict the velocity or angular velocity non-uniformly over the time domain (e.g., sharp maneuvres only at the end of the flight), this needs to be adjusted manually for the moment."
   ]
  },
  {
   "cell_type": "markdown",
   "id": "41046150",
   "metadata": {},
   "source": [
    "The next code-block sets:\n",
    "- fixed values for the initial position and the velocity so that none of them are varied throughout the optimization\n",
    "- the initial heading may be in any direction,\n",
    "- sets a lowest allowed angular velocity of -5, and maximum allowed angular velocity of +5 (this is what gets varied)\n",
    "- sets upper and lower bounds for the positions so that they never leave the modelled domain.\n",
    "\n",
    "The user can of course choose other lower and upper bounds. It's very fun to play around and try things out in my opinion."
   ]
  },
  {
   "cell_type": "code",
   "execution_count": 14,
   "id": "c4b93c26",
   "metadata": {},
   "outputs": [],
   "source": [
    "# convert scalar upper and lower bounds into the right shape for the controls\n",
    "navigation.set_control_bounds([0.7, 0.3, 0, 0.8, -5], [0.7, 0.3, 2*np.pi, 0.8, 5])\n",
    "\n",
    "# extend with lower bounds for the positions\n",
    "lower = np.hstack([np.zeros((2*n_steps,)), -np.infty * np.ones((n_steps,)), navigation.lower])\n",
    "\n",
    "# extend with upper bounds for the positions\n",
    "upper = np.hstack([np.ones((2*n_steps,)), np.infty * np.ones((n_steps,)), navigation.upper])"
   ]
  },
  {
   "cell_type": "markdown",
   "id": "a8d30097",
   "metadata": {},
   "source": [
    "Of course we have additional constraints as well, primarily we want to avoid the two houses in the domain, but there might be other restrictions depending on the model. The class `Constraints` has all the code to handle constraints for us, to make the optimization class below a little less crowded and not flood the navigation class with all the extra information that is not necessarily part of the control-to-flightpath map.\n",
    "\n",
    "To initialize `constraints`, we only need to tell it about the navigation system. Remember that `navigation` has all the code for how to convert controls into parameters. The `Constraints` class is able to work with all our flightpath characterizations encoded in any of the `Navigation` classes. This way we can easily switch out flightpath characterizations."
   ]
  },
  {
   "cell_type": "code",
   "execution_count": 15,
   "id": "056f7c79",
   "metadata": {},
   "outputs": [],
   "source": [
    "constraints = Constraints(navigation = navigation)\n",
    "\n",
    "# tell the constraints class about the upper and lower bounds\n",
    "constraints.set_bounds(lower, bool_lower = True)\n",
    "constraints.set_bounds(upper, bool_lower = False)\n",
    "# todo: this latter part could really be automated and become part of the initialization of constraints"
   ]
  },
  {
   "cell_type": "markdown",
   "id": "094d5185",
   "metadata": {},
   "source": [
    "We can add any of our obstacles by calling `constraints.add_obstacle`. It will take care of managing these constraints for us. Note that we have not hard-coded any of these, so the user can easily try out additonal constraints or leave some out to build their intuition. We have three types of obstacles: \"circle\", \"square\", and \"diamond\". Each is characterized by a center (x- and y-position) and extends into each direction. See documentation for details."
   ]
  },
  {
   "cell_type": "code",
   "execution_count": 16,
   "id": "6971efe4",
   "metadata": {},
   "outputs": [],
   "source": [
    "# houses: do not fly outside the modelled domain\n",
    "constraints.add_obstacle(\"square\", [(0.5 + 0.25) / 2, (0.4 + 0.15) / 2, (0.5 - 0.25) / 2, (0.4 - 0.15) / 2])\n",
    "constraints.add_obstacle(\"square\", [(0.75 + 0.6) / 2, (0.85 + 0.6) / 2, (0.75 - 0.6) / 2, (0.85 - 0.6) / 2])\n",
    "\n",
    "# additional constraints for testing:\n",
    "# constraints.add_obstacle(\"circle\", [0.3, 0.5, 0.2, 0.1])"
   ]
  },
  {
   "cell_type": "markdown",
   "id": "7ee45dab",
   "metadata": {},
   "source": [
    "### Initial guess for flight\n",
    "We need to provide an initial guess for the optimization. For the DAE flightpath characterization, this initial guess contains\n",
    "- the x- and y-positions at each time step,\n",
    "- the heading at each time step,\n",
    "- the control paramters.\n",
    "\n",
    "The first three are saved in the columns of `flight.flightpath`. The control parameters we've already stacked up in `alpha`. To get our initial guess, we thus only need to stack everything together in one long array.\n",
    "\n",
    "**Note:** The variable `flightpath` above contains only the x- and y-positions, while `flight.flightpath` contains additionally the heading as third column. This is a very confusing naming choice and will be updated in the future."
   ]
  },
  {
   "cell_type": "code",
   "execution_count": 17,
   "id": "b36f00e0",
   "metadata": {},
   "outputs": [],
   "source": [
    "x_y_theta = np.hstack([flight.flightpath[:, i] for i in range(flight.flightpath.shape[1])])\n",
    "x0 = np.hstack([x_y_theta, alpha])"
   ]
  },
  {
   "cell_type": "markdown",
   "id": "505372aa",
   "metadata": {},
   "source": [
    "Before using this initial guess, we should check if it's within all our constraints. If not, all sorts of things can go wrong, primarily the position and the control parts get detached and we have large dual constraint violations. It's much better to start off from a valid path. To check, we run the following code steps:"
   ]
  },
  {
   "cell_type": "code",
   "execution_count": 18,
   "id": "fcd41ce0",
   "metadata": {},
   "outputs": [
    {
     "name": "stdout",
     "output_type": "stream",
     "text": [
      "Sanity check (positional, upper):   True\n",
      "Sanity check (positional, lower):   True\n",
      "Sanity check (constraints, upper):  True\n",
      "Sanity check (constraints, lower):  True\n"
     ]
    }
   ],
   "source": [
    "tol = 1e-15\n",
    "\n",
    "print(\"Sanity check (positional, upper):  \", (x0 <= constraints.upper_bounds + tol).all())\n",
    "print(\"Sanity check (positional, lower):  \", (x0 >= constraints.lower_bounds - tol).all())\n",
    "\n",
    "yolo = (constraints.evaluate_constraints(x_y_theta, alpha) <= constraints.constraints_upper + tol).all()\n",
    "print(\"Sanity check (constraints, upper): \", yolo)\n",
    "\n",
    "yolo = (constraints.evaluate_constraints(x_y_theta, alpha) >= constraints.constraints_lower - tol).all()\n",
    "print(\"Sanity check (constraints, lower): \", yolo)"
   ]
  },
  {
   "cell_type": "markdown",
   "id": "666d1da9",
   "metadata": {},
   "source": [
    "**Note:** Since everything is was computed with machine precision, we are admitting a tolerance here to check that the constraints are met."
   ]
  },
  {
   "cell_type": "markdown",
   "id": "e0a35596",
   "metadata": {},
   "source": [
    "### Optimization"
   ]
  },
  {
   "cell_type": "markdown",
   "id": "4071260d",
   "metadata": {},
   "source": [
    "For the optimization we use `ipopt`. As an interface, we have the `Optimization` class, it is a subclass of `cyipopt.Problem`. To initialize, we let it know\n",
    "- which utility function `utility` we work with\n",
    "- the all the details of the inverse problem (e.g., noise model) through the class `inversion`\n",
    "- and of course all the constraints we've set up above: `constraints`"
   ]
  },
  {
   "cell_type": "code",
   "execution_count": 19,
   "id": "349f246f",
   "metadata": {},
   "outputs": [],
   "source": [
    "problem_obj = Optimizer(utility=utility, inverse_problem=inversion, constraints=constraints)"
   ]
  },
  {
   "cell_type": "markdown",
   "id": "62d391df",
   "metadata": {},
   "source": [
    "As a subclass of `cyipopt.Problem`, we can set a bunch of solver settings. Some convenient ones are:"
   ]
  },
  {
   "cell_type": "code",
   "execution_count": 20,
   "id": "f8ce3b3e",
   "metadata": {},
   "outputs": [],
   "source": [
    "problem_obj.add_option(\"hessian_approximation\", \"limited-memory\")\n",
    "problem_obj.add_option(\"tol\", 1e-4)\n",
    "#problem_obj.add_option(\"max_iter\", 100)"
   ]
  },
  {
   "cell_type": "markdown",
   "id": "cfbc007b",
   "metadata": {},
   "source": [
    "In addition, we have a regularization strength parameter that let's us adjust how strongly we want to regularize the controls:"
   ]
  },
  {
   "cell_type": "code",
   "execution_count": 21,
   "id": "610247ad",
   "metadata": {},
   "outputs": [],
   "source": [
    "problem_obj.reg_strength = 1e-10"
   ]
  },
  {
   "cell_type": "markdown",
   "id": "4c0ab1a3",
   "metadata": {},
   "source": [
    "And not we solve the optimization problem. This may take some time depending on the control and number of time steps."
   ]
  },
  {
   "cell_type": "code",
   "execution_count": 22,
   "id": "51d1acae",
   "metadata": {},
   "outputs": [
    {
     "name": "stdout",
     "output_type": "stream",
     "text": [
      "\n",
      "******************************************************************************\n",
      "This program contains Ipopt, a library for large-scale nonlinear optimization.\n",
      " Ipopt is released as open source code under the Eclipse Public License (EPL).\n",
      "         For more information visit https://github.com/coin-or/Ipopt\n",
      "******************************************************************************\n",
      "\n",
      "This is Ipopt version 3.14.16, running with linear solver MUMPS 5.7.1.\n",
      "\n",
      "Number of nonzeros in equality constraint Jacobian...:     4495\n",
      "Number of nonzeros in inequality constraint Jacobian.:     2000\n",
      "Number of nonzeros in Lagrangian Hessian.............:        0\n",
      "\n",
      "Total number of variables............................:     2001\n",
      "                     variables with only lower bounds:        0\n",
      "                variables with lower and upper bounds:     1501\n",
      "                     variables with only upper bounds:        0\n",
      "Total number of equality constraints.................:     1500\n",
      "Total number of inequality constraints...............:     1000\n",
      "        inequality constraints with only lower bounds:     1000\n",
      "   inequality constraints with lower and upper bounds:        0\n",
      "        inequality constraints with only upper bounds:        0\n",
      "\n",
      "iter    objective    inf_pr   inf_du lg(mu)  ||d||  lg(rg) alpha_du alpha_pr  ls\n",
      "   0  1.7342713e+00 1.13e-16 1.00e+00   0.0 0.00e+00    -  0.00e+00 0.00e+00   0\n",
      "   1  1.7342310e+00 4.95e-12 1.04e-02  -5.7 5.15e-04    -  9.90e-01 1.00e+00f  1\n",
      "   2  1.7300571e+00 6.22e-08 5.01e-03  -3.6 5.09e-02    -  9.84e-01 1.00e+00h  1\n",
      "   3  1.6748940e+00 2.51e-05 8.77e-02  -4.0 9.71e-01    -  9.59e-01 1.00e+00h  1\n",
      "   4  1.6601362e+00 3.51e-06 9.99e-03  -4.0 3.17e-01    -  1.00e+00 1.00e+00h  1\n",
      "   5  1.6503701e+00 2.28e-06 8.92e-03  -4.4 4.12e-01    -  1.00e+00 1.00e+00h  1\n",
      "   6  1.6393860e+00 3.77e-06 1.01e-02  -5.4 3.25e-01    -  1.00e+00 1.00e+00h  1\n",
      "   7  1.6269888e+00 8.52e-06 1.09e-02  -5.9 3.91e-01    -  1.00e+00 1.00e+00h  1\n",
      "   8  1.6268718e+00 6.06e-08 2.09e+01  -3.9 3.07e-01    -  2.89e-02 1.00e+00h  1\n",
      "   9  1.6258690e+00 8.16e-08 9.60e-04  -4.8 7.48e-02    -  1.00e+00 1.00e+00h  1\n",
      "iter    objective    inf_pr   inf_du lg(mu)  ||d||  lg(rg) alpha_du alpha_pr  ls\n",
      "  10  1.6242354e+00 1.23e-06 9.24e-03  -4.3 1.10e-01    -  5.01e-01 1.00e+00h  1\n",
      "  11  1.6223463e+00 1.24e-07 7.41e-04  -5.3 1.86e-01    -  9.95e-01 1.00e+00h  1\n",
      "  12  1.6080832e+00 1.86e-05 1.81e-02  -3.5 2.35e+00    -  1.00e+00 2.43e-01h  3\n",
      "  13  1.6038776e+00 1.47e-06 4.94e-03  -3.6 3.28e-01    -  9.61e-01 1.00e+00h  1\n",
      "  14  1.6023293e+00 4.67e-06 9.34e-03  -4.1 7.31e-01    -  7.83e-01 1.00e+00H  1\n",
      "  15  1.5970188e+00 1.98e-05 1.48e-02  -4.1 5.04e-01    -  9.98e-01 1.00e+00h  1\n",
      "  16  1.5940745e+00 1.47e-06 8.62e-03  -4.6 2.56e-01    -  9.97e-01 1.00e+00h  1\n",
      "  17  1.5934013e+00 2.47e-05 5.23e-03  -5.1 1.08e+00    -  9.97e-01 1.00e+00h  1\n",
      "  18  1.5925948e+00 7.95e-05 6.79e-03  -5.3 1.27e+00    -  1.00e+00 1.00e+00h  1\n",
      "  19  1.5900842e+00 1.65e-05 5.37e-03  -5.5 1.03e+00    -  1.00e+00 1.00e+00h  1\n",
      "iter    objective    inf_pr   inf_du lg(mu)  ||d||  lg(rg) alpha_du alpha_pr  ls\n",
      "  20  1.5905133e+00 2.56e-05 4.67e-03  -6.3 3.69e+00    -  3.58e-01 8.19e-01H  1\n",
      "  21  1.5919109e+00 1.25e-04 9.64e-04  -5.1 5.21e+00    -  1.00e+00 1.00e+00h  1\n",
      "  22  1.5865796e+00 3.30e-05 1.03e-03  -5.1 1.31e+00    -  1.00e+00 8.35e-01h  1\n",
      "  23  1.5869249e+00 5.93e-06 3.21e-03  -5.4 3.08e+00    -  1.00e+00 1.00e+00H  1\n",
      "  24  1.5840180e+00 3.53e-06 8.67e-04  -5.7 4.49e-01    -  1.00e+00 1.00e+00h  1\n",
      "  25  1.5836791e+00 4.44e-06 7.44e-04  -5.8 7.51e-01    -  1.00e+00 1.00e+00h  1\n",
      "  26  1.5840075e+00 3.54e-06 8.16e-04  -5.4 8.25e-01    -  1.00e+00 1.00e+00h  1\n",
      "  27  1.5833022e+00 2.25e-06 4.94e-04  -5.5 1.18e+00    -  1.00e+00 1.00e+00h  1\n",
      "  28  1.5825239e+00 2.19e-06 3.12e-04  -5.8 1.03e+00    -  1.00e+00 1.00e+00h  1\n",
      "  29  1.5829173e+00 1.12e-06 2.93e-04  -5.5 2.03e+00    -  1.00e+00 1.00e+00h  1\n",
      "iter    objective    inf_pr   inf_du lg(mu)  ||d||  lg(rg) alpha_du alpha_pr  ls\n",
      "  30  1.5825881e+00 5.57e-07 1.75e-04  -5.6 6.95e-01    -  1.00e+00 1.00e+00h  1\n",
      "  31  1.5824938e+00 2.84e-07 8.76e-05  -5.6 8.46e-01    -  1.00e+00 1.00e+00h  1\n",
      "\n",
      "Number of Iterations....: 31\n",
      "\n",
      "                                   (scaled)                 (unscaled)\n",
      "Objective...............:   1.5824937641898233e+00    1.5824937641898233e+00\n",
      "Dual infeasibility......:   8.7603313395522188e-05    8.7603313395522188e-05\n",
      "Constraint violation....:   2.8445316937607441e-07    2.8445316937607441e-07\n",
      "Variable bound violation:   0.0000000000000000e+00    0.0000000000000000e+00\n",
      "Complementarity.........:   2.7883325331024404e-06    2.7883325331024404e-06\n",
      "Overall NLP error.......:   8.7603313395522188e-05    8.7603313395522188e-05\n",
      "\n",
      "\n",
      "Number of objective function evaluations             = 43\n",
      "Number of objective gradient evaluations             = 32\n",
      "Number of equality constraint evaluations            = 43\n",
      "Number of inequality constraint evaluations          = 43\n",
      "Number of equality constraint Jacobian evaluations   = 32\n",
      "Number of inequality constraint Jacobian evaluations = 32\n",
      "Number of Lagrangian Hessian evaluations             = 0\n",
      "Total seconds in IPOPT                               = 4.386\n",
      "\n",
      "EXIT: Optimal Solution Found.\n"
     ]
    }
   ],
   "source": [
    "solution, info = problem_obj.solve(x0)"
   ]
  },
  {
   "cell_type": "markdown",
   "id": "b2879283",
   "metadata": {},
   "source": [
    "### Plotting the solution"
   ]
  },
  {
   "cell_type": "markdown",
   "id": "9749e05c",
   "metadata": {},
   "source": [
    "Now that we've solved the optimization, we want to take a look at how well we did. The plot (right side) below has:\n",
    "- **red:** our initial guess \n",
    "- **green:** the optimal flight path according to the _position_ part of `solution`\n",
    "- **yellow, dashed:** the optimal flight path according to the _control_ part of `solution`"
   ]
  },
  {
   "cell_type": "code",
   "execution_count": 23,
   "id": "dda7b50f",
   "metadata": {},
   "outputs": [
    {
     "data": {
      "text/plain": [
       "[<matplotlib.lines.Line2D at 0x1663c74a0>]"
      ]
     },
     "execution_count": 23,
     "metadata": {},
     "output_type": "execute_result"
    },
    {
     "data": {
      "image/png": "[encoded data removed]",
      "text/plain": [
       "<Figure size 900x300 with 2 Axes>"
      ]
     },
     "metadata": {},
     "output_type": "display_data"
    }
   ],
   "source": [
    "# split up the solution in flight path and controls\n",
    "(flightpath_1d_opt, controls_opt) = problem_obj.var_splitter(solution)\n",
    "flight_controlled = Flight(navigation=navigation, alpha = controls_opt)\n",
    "flight_by_path = Flight(navigation=navigation, flightpath = flightpath_1d_opt)\n",
    "\n",
    "# initialize figure\n",
    "fig, axs = plt.subplots(1, 2, figsize = (9, 3))\n",
    "fom.plot(state, ax=axs[0])\n",
    "\n",
    "# plot the controls of the found solution\n",
    "__, velocity_opt, ang_velocity_opt = navigation.split_controls(controls_opt)\n",
    "axs[0].plot(grid_t, velocity_opt, label = \"optimal velocity\")\n",
    "axs[0].plot(grid_t, ang_velocity_opt, label = \"optimal angular velocity\")\n",
    "axs[0].legend()\n",
    "\n",
    "# plot the initial guess, mark the start\n",
    "axs[1].plot(flightpath[:, 0], flightpath[:, 1], color=\"r\")\n",
    "axs[1].plot([flightpath[0, 0]], [flightpath[0, 1]], color=\"r\", marker=\"s\")\n",
    "\n",
    "# plot the found flight path\n",
    "axs[1].plot(flight_by_path.flightpath[:, 0], flight_by_path.flightpath[:, 1], color=\"g\")\n",
    "axs[1].plot(flight_controlled.flightpath[:, 0], flight_controlled.flightpath[:, 1], color=\"y\", linestyle = \"--\")"
   ]
  },
  {
   "cell_type": "markdown",
   "id": "2f7c771b",
   "metadata": {},
   "source": [
    "In the plot on the left side we additionally have the identified controls as a function of time. Note that the velocity was constrained to be 1 everywhere."
   ]
  },
  {
   "cell_type": "markdown",
   "id": "15ff04a2",
   "metadata": {},
   "source": [
    "## The End."
   ]
  },
  {
   "cell_type": "code",
   "execution_count": 24,
   "id": "cf044568",
   "metadata": {},
   "outputs": [
    {
     "name": "stdout",
     "output_type": "stream",
     "text": [
      "Runtime of this notebook: 0.34959686994552613 min\n"
     ]
    }
   ],
   "source": [
    "runtime_notebook = time.time()-tStart_notebook\n",
    "print(\"Runtime of this notebook: {} min\".format(runtime_notebook / 60))"
   ]
  },
  {
   "cell_type": "code",
   "execution_count": null,
   "id": "d3200508",
   "metadata": {},
   "outputs": [],
   "source": []
  },
  {
   "cell_type": "code",
   "execution_count": null,
   "id": "e829a19c",
   "metadata": {},
   "outputs": [],
   "source": []
  }
 ],
 "metadata": {
  "kernelspec": {
   "display_name": "Python 3 (ipykernel)",
   "language": "python",
   "name": "python3"
  },
  "language_info": {
   "codemirror_mode": {
    "name": "ipython",
    "version": 3
   },
   "file_extension": ".py",
   "mimetype": "text/x-python",
   "name": "python",
   "nbconvert_exporter": "python",
   "pygments_lexer": "ipython3",
   "version": "3.12.5"
  }
 },
 "nbformat": 4,
 "nbformat_minor": 5
}
